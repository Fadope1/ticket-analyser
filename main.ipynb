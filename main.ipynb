{
 "cells": [
  {
   "attachments": {},
   "cell_type": "markdown",
   "metadata": {},
   "source": [
    "# Analyse Support Tickets\n",
    "author: Fabian Peschke<br>\n",
    "created_at: 03.05.2023"
   ]
  },
  {
   "cell_type": "code",
   "execution_count": 22,
   "metadata": {},
   "outputs": [],
   "source": [
    "from typing import List, Tuple, Dict"
   ]
  },
  {
   "cell_type": "code",
   "execution_count": 23,
   "metadata": {},
   "outputs": [],
   "source": [
    "DATA_PATH: str = \"./data/bitext_free_dataset.csv\"\n",
    "\n",
    "TEXT_COL: str = \"utterance\"\n",
    "DATE_COL: str = \"created_at\""
   ]
  },
  {
   "attachments": {},
   "cell_type": "markdown",
   "metadata": {},
   "source": [
    "## Step 1: Download the data\n",
    "https://www.bitext.com/blog/free-customer-support-dataset/"
   ]
  },
  {
   "attachments": {},
   "cell_type": "markdown",
   "metadata": {},
   "source": [
    "## Step 2: Data ingestion"
   ]
  },
  {
   "cell_type": "code",
   "execution_count": 24,
   "metadata": {},
   "outputs": [],
   "source": [
    "import pandas as pd\n",
    "from pandas import DataFrame"
   ]
  },
  {
   "cell_type": "code",
   "execution_count": 25,
   "metadata": {},
   "outputs": [],
   "source": [
    "raw_df: DataFrame = pd.read_csv(DATA_PATH)"
   ]
  },
  {
   "attachments": {},
   "cell_type": "markdown",
   "metadata": {},
   "source": [
    "Delete useless column"
   ]
  },
  {
   "cell_type": "code",
   "execution_count": 26,
   "metadata": {},
   "outputs": [],
   "source": [
    "del raw_df[\"flags\"]"
   ]
  },
  {
   "attachments": {},
   "cell_type": "markdown",
   "metadata": {},
   "source": [
    "shuffle dataset"
   ]
  },
  {
   "cell_type": "code",
   "execution_count": 27,
   "metadata": {},
   "outputs": [],
   "source": [
    "raw_df = raw_df.sample(frac=1).reset_index(drop=True)"
   ]
  },
  {
   "attachments": {},
   "cell_type": "markdown",
   "metadata": {},
   "source": [
    "## Step 2.1: Add random dates"
   ]
  },
  {
   "cell_type": "code",
   "execution_count": 28,
   "metadata": {},
   "outputs": [],
   "source": [
    "from datetime import datetime\n",
    "from datetime import timedelta\n",
    "import random"
   ]
  },
  {
   "cell_type": "code",
   "execution_count": 29,
   "metadata": {},
   "outputs": [],
   "source": [
    "def generate_random_date(start_date: datetime, end_date: datetime, step: timedelta) -> datetime:\n",
    "    \"\"\"Generate a random date between start_date and end_date\"\"\"\n",
    "    delta: timedelta = end_date - start_date\n",
    "    offset: timedelta = timedelta(days=random.randint(0, delta.days))\n",
    "    new_date: datetime = start_date + offset\n",
    "    for _ in range(random.randint(0, int(timedelta(hours=24) / step))):\n",
    "        new_date += step\n",
    "    return new_date"
   ]
  },
  {
   "cell_type": "code",
   "execution_count": 30,
   "metadata": {},
   "outputs": [],
   "source": [
    "start = datetime(year=2020, month=1, day=1)\n",
    "end = datetime(year=2020, month=3, day=31)\n",
    "step = timedelta(minutes=15) # every 15 minutes"
   ]
  },
  {
   "cell_type": "code",
   "execution_count": 31,
   "metadata": {},
   "outputs": [],
   "source": [
    "raw_df[DATE_COL] = raw_df[TEXT_COL].apply(lambda x: generate_random_date(start, end, step))"
   ]
  },
  {
   "attachments": {},
   "cell_type": "markdown",
   "metadata": {},
   "source": [
    "## Step 3: Preprocess data"
   ]
  },
  {
   "cell_type": "code",
   "execution_count": 32,
   "metadata": {},
   "outputs": [],
   "source": [
    "import nltk\n",
    "from nltk import word_tokenize, pos_tag\n",
    "from nltk.stem import WordNetLemmatizer\n",
    "from nltk.corpus import wordnet\n",
    "import contractions"
   ]
  },
  {
   "cell_type": "code",
   "execution_count": 33,
   "metadata": {},
   "outputs": [
    {
     "name": "stderr",
     "output_type": "stream",
     "text": [
      "[nltk_data] Downloading package wordnet to /Users/fabian/nltk_data...\n",
      "[nltk_data]   Package wordnet is already up-to-date!\n",
      "[nltk_data] Downloading package averaged_perceptron_tagger to\n",
      "[nltk_data]     /Users/fabian/nltk_data...\n",
      "[nltk_data]   Package averaged_perceptron_tagger is already up-to-\n",
      "[nltk_data]       date!\n"
     ]
    },
    {
     "data": {
      "text/plain": [
       "True"
      ]
     },
     "execution_count": 33,
     "metadata": {},
     "output_type": "execute_result"
    }
   ],
   "source": [
    "nltk.download(\"wordnet\")\n",
    "nltk.download(\"averaged_perceptron_tagger\")"
   ]
  },
  {
   "attachments": {},
   "cell_type": "markdown",
   "metadata": {},
   "source": [
    "Define usefull cleaning functions"
   ]
  },
  {
   "cell_type": "code",
   "execution_count": 34,
   "metadata": {},
   "outputs": [],
   "source": [
    "lemmatizer = WordNetLemmatizer()\n",
    "TAGS: Dict[str, str] = {\n",
    "    \"N\": wordnet.NOUN,\n",
    "    \"V\": wordnet.VERB,\n",
    "    \"J\": wordnet.ADJ,\n",
    "    \"R\": wordnet.ADV,\n",
    "}\n",
    "\n",
    "\n",
    "def unicode(sentence: str) -> str:\n",
    "    \"\"\"Apply casefold on str\"\"\"\n",
    "    return sentence.casefold()\n",
    "\n",
    "\n",
    "def tag_words(words: List[str]) -> List[Tuple[str, str]]:\n",
    "    \"\"\"Tag word type\"\"\"\n",
    "    tagged_words: List[Tuple[str, str]] = pos_tag(words)\n",
    "    return list(map(lambda word: (word[0], TAGS.get(word[1][0], wordnet.NOUN)), tagged_words))\n",
    "\n",
    "\n",
    "def lemmatize(words: List[str]) -> List[str]:\n",
    "    \"\"\"Lemmatize all words sentence\"\"\"\n",
    "    word_tags = tag_words(words)\n",
    "    return [lemmatizer.lemmatize(word, pos=tag) for word, tag in word_tags]"
   ]
  },
  {
   "cell_type": "code",
   "execution_count": 35,
   "metadata": {},
   "outputs": [],
   "source": [
    "decoded_df = lemmatized_df = const_fixed_df = raw_df\n",
    "decoded_df[TEXT_COL] = raw_df[TEXT_COL].apply(unicode) # casefold + lowercase\n",
    "const_fixed_df[TEXT_COL] = decoded_df[TEXT_COL].apply(contractions.fix) # casefold + lowercase\n",
    "lemmatized_df[TEXT_COL] = decoded_df[TEXT_COL].apply(lambda sentence: \" \".join(lemmatize(word_tokenize(sentence)))) # lemmatize"
   ]
  },
  {
   "cell_type": "code",
   "execution_count": 36,
   "metadata": {},
   "outputs": [],
   "source": [
    "cleaned_df = lemmatized_df"
   ]
  },
  {
   "cell_type": "code",
   "execution_count": 37,
   "metadata": {},
   "outputs": [],
   "source": [
    "cleaned_df.to_csv(\"preprocessed.csv\")"
   ]
  },
  {
   "attachments": {},
   "cell_type": "markdown",
   "metadata": {},
   "source": [
    "## Step 4: Find Topics in Data\n",
    "Find the topics using BERTopic and convert the topic names using OpenAI-GPT3"
   ]
  },
  {
   "cell_type": "code",
   "execution_count": 38,
   "metadata": {},
   "outputs": [
    {
     "name": "stderr",
     "output_type": "stream",
     "text": [
      "/opt/anaconda3/envs/bertopic/lib/python3.10/site-packages/umap/distances.py:1063: NumbaDeprecationWarning: The 'nopython' keyword argument was not supplied to the 'numba.jit' decorator. The implicit default value for this argument is currently False, but it will be changed to True in Numba 0.59.0. See https://numba.readthedocs.io/en/stable/reference/deprecation.html#deprecation-of-object-mode-fall-back-behaviour-when-using-jit for details.\n",
      "  @numba.jit()\n",
      "/opt/anaconda3/envs/bertopic/lib/python3.10/site-packages/umap/distances.py:1071: NumbaDeprecationWarning: The 'nopython' keyword argument was not supplied to the 'numba.jit' decorator. The implicit default value for this argument is currently False, but it will be changed to True in Numba 0.59.0. See https://numba.readthedocs.io/en/stable/reference/deprecation.html#deprecation-of-object-mode-fall-back-behaviour-when-using-jit for details.\n",
      "  @numba.jit()\n",
      "/opt/anaconda3/envs/bertopic/lib/python3.10/site-packages/umap/distances.py:1086: NumbaDeprecationWarning: The 'nopython' keyword argument was not supplied to the 'numba.jit' decorator. The implicit default value for this argument is currently False, but it will be changed to True in Numba 0.59.0. See https://numba.readthedocs.io/en/stable/reference/deprecation.html#deprecation-of-object-mode-fall-back-behaviour-when-using-jit for details.\n",
      "  @numba.jit()\n",
      "/opt/anaconda3/envs/bertopic/lib/python3.10/site-packages/tqdm/auto.py:21: TqdmWarning: IProgress not found. Please update jupyter and ipywidgets. See https://ipywidgets.readthedocs.io/en/stable/user_install.html\n",
      "  from .autonotebook import tqdm as notebook_tqdm\n",
      "/opt/anaconda3/envs/bertopic/lib/python3.10/site-packages/umap/umap_.py:660: NumbaDeprecationWarning: The 'nopython' keyword argument was not supplied to the 'numba.jit' decorator. The implicit default value for this argument is currently False, but it will be changed to True in Numba 0.59.0. See https://numba.readthedocs.io/en/stable/reference/deprecation.html#deprecation-of-object-mode-fall-back-behaviour-when-using-jit for details.\n",
      "  @numba.jit()\n"
     ]
    }
   ],
   "source": [
    "from bertopic import BERTopic"
   ]
  },
  {
   "cell_type": "code",
   "execution_count": 39,
   "metadata": {},
   "outputs": [],
   "source": [
    "topic_model = BERTopic(\n",
    "    nr_topics=\"auto\",\n",
    "    verbose=True\n",
    ")"
   ]
  },
  {
   "cell_type": "code",
   "execution_count": 40,
   "metadata": {},
   "outputs": [
    {
     "name": "stderr",
     "output_type": "stream",
     "text": [
      "Batches: 100%|██████████| 673/673 [01:33<00:00,  7.20it/s]\n",
      "2023-05-05 23:49:09,426 - BERTopic - Transformed documents to Embeddings\n",
      "2023-05-05 23:49:46,220 - BERTopic - Reduced dimensionality\n"
     ]
    },
    {
     "name": "stdout",
     "output_type": "stream",
     "text": [
      "huggingface/tokenizers: The current process just got forked, after parallelism has already been used. Disabling parallelism to avoid deadlocks...\n",
      "To disable this warning, you can either:\n",
      "\t- Avoid using `tokenizers` before the fork if possible\n",
      "\t- Explicitly set the environment variable TOKENIZERS_PARALLELISM=(true | false)\n",
      "huggingface/tokenizers: The current process just got forked, after parallelism has already been used. Disabling parallelism to avoid deadlocks...\n",
      "To disable this warning, you can either:\n",
      "\t- Avoid using `tokenizers` before the fork if possible\n",
      "\t- Explicitly set the environment variable TOKENIZERS_PARALLELISM=(true | false)\n",
      "huggingface/tokenizers: The current process just got forked, after parallelism has already been used. Disabling parallelism to avoid deadlocks...\n",
      "To disable this warning, you can either:\n",
      "\t- Avoid using `tokenizers` before the fork if possible\n",
      "\t- Explicitly set the environment variable TOKENIZERS_PARALLELISM=(true | false)\n",
      "huggingface/tokenizers: The current process just got forked, after parallelism has already been used. Disabling parallelism to avoid deadlocks...\n",
      "To disable this warning, you can either:\n",
      "\t- Avoid using `tokenizers` before the fork if possible\n",
      "\t- Explicitly set the environment variable TOKENIZERS_PARALLELISM=(true | false)\n",
      "huggingface/tokenizers: The current process just got forked, after parallelism has already been used. Disabling parallelism to avoid deadlocks...\n",
      "To disable this warning, you can either:\n",
      "\t- Avoid using `tokenizers` before the fork if possible\n",
      "\t- Explicitly set the environment variable TOKENIZERS_PARALLELISM=(true | false)\n"
     ]
    },
    {
     "name": "stderr",
     "output_type": "stream",
     "text": [
      "2023-05-05 23:49:48,127 - BERTopic - Clustered reduced embeddings\n",
      "2023-05-05 23:50:04,821 - BERTopic - Reduced number of topics from 720 to 217\n"
     ]
    }
   ],
   "source": [
    "topics, probs = topic_model.fit_transform(cleaned_df[TEXT_COL])"
   ]
  },
  {
   "cell_type": "code",
   "execution_count": 41,
   "metadata": {},
   "outputs": [],
   "source": [
    "topic_model.save(\"ticket_topic.model\")"
   ]
  },
  {
   "attachments": {},
   "cell_type": "markdown",
   "metadata": {},
   "source": [
    "Visulize model perfomance"
   ]
  },
  {
   "cell_type": "code",
   "execution_count": 42,
   "metadata": {},
   "outputs": [
    {
     "data": {
      "application/vnd.plotly.v1+json": {
       "config": {
        "plotlyServerURL": "https://plot.ly"
       },
       "data": [
        {
         "marker": {
          "color": "#D55E00"
         },
         "orientation": "h",
         "type": "bar",
         "x": [
          0.015898195918174058,
          0.019730219180003675,
          0.020202914561270265,
          0.021014121455699857,
          0.029913510339089656
         ],
         "xaxis": "x",
         "y": [
          "pay  ",
          "inform  ",
          "problem  ",
          "issue  ",
          "report  "
         ],
         "yaxis": "y"
        },
        {
         "marker": {
          "color": "#0072B2"
         },
         "orientation": "h",
         "type": "bar",
         "x": [
          0.02336451266359419,
          0.028540859972929513,
          0.0330781037384039,
          0.03545665165327193,
          0.04454761225494778
         ],
         "xaxis": "x2",
         "y": [
          "about  ",
          "obtain  ",
          "invoice  ",
          "bill  ",
          "some  "
         ],
         "yaxis": "y2"
        },
        {
         "marker": {
          "color": "#CC79A7"
         },
         "orientation": "h",
         "type": "bar",
         "x": [
          0.03562976823950542,
          0.03840414088821481,
          0.044216014930122206,
          0.05859426730012416,
          0.05900982253733045
         ],
         "xaxis": "x3",
         "y": [
          "speak  ",
          "talk  ",
          "person  ",
          "human  ",
          "understand  "
         ],
         "yaxis": "y3"
        },
        {
         "marker": {
          "color": "#E69F00"
         },
         "orientation": "h",
         "type": "bar",
         "x": [
          0.03137924415715199,
          0.03166551058685117,
          0.03286305361068084,
          0.039638704331215156,
          0.04921538326318056
         ],
         "xaxis": "x4",
         "y": [
          "customer  ",
          "email  ",
          "client  ",
          "send  ",
          "mail  "
         ],
         "yaxis": "y4"
        },
        {
         "marker": {
          "color": "#56B4E9"
         },
         "orientation": "h",
         "type": "bar",
         "x": [
          0.04077947316199807,
          0.041566200512070835,
          0.04378377213810678,
          0.057733450944323604,
          0.06733698095705348
         ],
         "xaxis": "x5",
         "y": [
          "product  ",
          "item  ",
          "buy  ",
          "modify  ",
          "purchase  "
         ],
         "yaxis": "y5"
        },
        {
         "marker": {
          "color": "#009E73"
         },
         "orientation": "h",
         "type": "bar",
         "x": [
          0.02567502137757861,
          0.03091796338405973,
          0.04177626614323596,
          0.04179629880446831,
          0.041876122078804014
         ],
         "xaxis": "x6",
         "y": [
          "message  ",
          "error  ",
          "anyway  ",
          "charge  ",
          "but  "
         ],
         "yaxis": "y6"
        },
        {
         "marker": {
          "color": "#F0E442"
         },
         "orientation": "h",
         "type": "bar",
         "x": [
          0.03474107859021762,
          0.0410596491343916,
          0.044006494752867255,
          0.04886039310547552,
          0.05666447678685723
         ],
         "xaxis": "x7",
         "y": [
          "speak  ",
          "support  ",
          "question  ",
          "customer  ",
          "call  "
         ],
         "yaxis": "y7"
        },
        {
         "marker": {
          "color": "#D55E00"
         },
         "orientation": "h",
         "type": "bar",
         "x": [
          0.03833910260942151,
          0.038926549268339106,
          0.05464344518268608,
          0.08304147091996175,
          0.09038360571223639
         ],
         "xaxis": "x8",
         "y": [
          "file  ",
          "lodge  ",
          "discontent  ",
          "complaint  ",
          "consumer  "
         ],
         "yaxis": "y8"
        }
       ],
       "layout": {
        "annotations": [
         {
          "font": {
           "size": 16
          },
          "showarrow": false,
          "text": "Topic 0",
          "x": 0.0875,
          "xanchor": "center",
          "xref": "paper",
          "y": 1,
          "yanchor": "bottom",
          "yref": "paper"
         },
         {
          "font": {
           "size": 16
          },
          "showarrow": false,
          "text": "Topic 1",
          "x": 0.36250000000000004,
          "xanchor": "center",
          "xref": "paper",
          "y": 1,
          "yanchor": "bottom",
          "yref": "paper"
         },
         {
          "font": {
           "size": 16
          },
          "showarrow": false,
          "text": "Topic 2",
          "x": 0.6375000000000001,
          "xanchor": "center",
          "xref": "paper",
          "y": 1,
          "yanchor": "bottom",
          "yref": "paper"
         },
         {
          "font": {
           "size": 16
          },
          "showarrow": false,
          "text": "Topic 3",
          "x": 0.9125,
          "xanchor": "center",
          "xref": "paper",
          "y": 1,
          "yanchor": "bottom",
          "yref": "paper"
         },
         {
          "font": {
           "size": 16
          },
          "showarrow": false,
          "text": "Topic 4",
          "x": 0.0875,
          "xanchor": "center",
          "xref": "paper",
          "y": 0.4,
          "yanchor": "bottom",
          "yref": "paper"
         },
         {
          "font": {
           "size": 16
          },
          "showarrow": false,
          "text": "Topic 5",
          "x": 0.36250000000000004,
          "xanchor": "center",
          "xref": "paper",
          "y": 0.4,
          "yanchor": "bottom",
          "yref": "paper"
         },
         {
          "font": {
           "size": 16
          },
          "showarrow": false,
          "text": "Topic 6",
          "x": 0.6375000000000001,
          "xanchor": "center",
          "xref": "paper",
          "y": 0.4,
          "yanchor": "bottom",
          "yref": "paper"
         },
         {
          "font": {
           "size": 16
          },
          "showarrow": false,
          "text": "Topic 7",
          "x": 0.9125,
          "xanchor": "center",
          "xref": "paper",
          "y": 0.4,
          "yanchor": "bottom",
          "yref": "paper"
         }
        ],
        "height": 500,
        "hoverlabel": {
         "bgcolor": "white",
         "font": {
          "family": "Rockwell",
          "size": 16
         }
        },
        "showlegend": false,
        "template": {
         "data": {
          "bar": [
           {
            "error_x": {
             "color": "#2a3f5f"
            },
            "error_y": {
             "color": "#2a3f5f"
            },
            "marker": {
             "line": {
              "color": "white",
              "width": 0.5
             },
             "pattern": {
              "fillmode": "overlay",
              "size": 10,
              "solidity": 0.2
             }
            },
            "type": "bar"
           }
          ],
          "barpolar": [
           {
            "marker": {
             "line": {
              "color": "white",
              "width": 0.5
             },
             "pattern": {
              "fillmode": "overlay",
              "size": 10,
              "solidity": 0.2
             }
            },
            "type": "barpolar"
           }
          ],
          "carpet": [
           {
            "aaxis": {
             "endlinecolor": "#2a3f5f",
             "gridcolor": "#C8D4E3",
             "linecolor": "#C8D4E3",
             "minorgridcolor": "#C8D4E3",
             "startlinecolor": "#2a3f5f"
            },
            "baxis": {
             "endlinecolor": "#2a3f5f",
             "gridcolor": "#C8D4E3",
             "linecolor": "#C8D4E3",
             "minorgridcolor": "#C8D4E3",
             "startlinecolor": "#2a3f5f"
            },
            "type": "carpet"
           }
          ],
          "choropleth": [
           {
            "colorbar": {
             "outlinewidth": 0,
             "ticks": ""
            },
            "type": "choropleth"
           }
          ],
          "contour": [
           {
            "colorbar": {
             "outlinewidth": 0,
             "ticks": ""
            },
            "colorscale": [
             [
              0,
              "#0d0887"
             ],
             [
              0.1111111111111111,
              "#46039f"
             ],
             [
              0.2222222222222222,
              "#7201a8"
             ],
             [
              0.3333333333333333,
              "#9c179e"
             ],
             [
              0.4444444444444444,
              "#bd3786"
             ],
             [
              0.5555555555555556,
              "#d8576b"
             ],
             [
              0.6666666666666666,
              "#ed7953"
             ],
             [
              0.7777777777777778,
              "#fb9f3a"
             ],
             [
              0.8888888888888888,
              "#fdca26"
             ],
             [
              1,
              "#f0f921"
             ]
            ],
            "type": "contour"
           }
          ],
          "contourcarpet": [
           {
            "colorbar": {
             "outlinewidth": 0,
             "ticks": ""
            },
            "type": "contourcarpet"
           }
          ],
          "heatmap": [
           {
            "colorbar": {
             "outlinewidth": 0,
             "ticks": ""
            },
            "colorscale": [
             [
              0,
              "#0d0887"
             ],
             [
              0.1111111111111111,
              "#46039f"
             ],
             [
              0.2222222222222222,
              "#7201a8"
             ],
             [
              0.3333333333333333,
              "#9c179e"
             ],
             [
              0.4444444444444444,
              "#bd3786"
             ],
             [
              0.5555555555555556,
              "#d8576b"
             ],
             [
              0.6666666666666666,
              "#ed7953"
             ],
             [
              0.7777777777777778,
              "#fb9f3a"
             ],
             [
              0.8888888888888888,
              "#fdca26"
             ],
             [
              1,
              "#f0f921"
             ]
            ],
            "type": "heatmap"
           }
          ],
          "heatmapgl": [
           {
            "colorbar": {
             "outlinewidth": 0,
             "ticks": ""
            },
            "colorscale": [
             [
              0,
              "#0d0887"
             ],
             [
              0.1111111111111111,
              "#46039f"
             ],
             [
              0.2222222222222222,
              "#7201a8"
             ],
             [
              0.3333333333333333,
              "#9c179e"
             ],
             [
              0.4444444444444444,
              "#bd3786"
             ],
             [
              0.5555555555555556,
              "#d8576b"
             ],
             [
              0.6666666666666666,
              "#ed7953"
             ],
             [
              0.7777777777777778,
              "#fb9f3a"
             ],
             [
              0.8888888888888888,
              "#fdca26"
             ],
             [
              1,
              "#f0f921"
             ]
            ],
            "type": "heatmapgl"
           }
          ],
          "histogram": [
           {
            "marker": {
             "pattern": {
              "fillmode": "overlay",
              "size": 10,
              "solidity": 0.2
             }
            },
            "type": "histogram"
           }
          ],
          "histogram2d": [
           {
            "colorbar": {
             "outlinewidth": 0,
             "ticks": ""
            },
            "colorscale": [
             [
              0,
              "#0d0887"
             ],
             [
              0.1111111111111111,
              "#46039f"
             ],
             [
              0.2222222222222222,
              "#7201a8"
             ],
             [
              0.3333333333333333,
              "#9c179e"
             ],
             [
              0.4444444444444444,
              "#bd3786"
             ],
             [
              0.5555555555555556,
              "#d8576b"
             ],
             [
              0.6666666666666666,
              "#ed7953"
             ],
             [
              0.7777777777777778,
              "#fb9f3a"
             ],
             [
              0.8888888888888888,
              "#fdca26"
             ],
             [
              1,
              "#f0f921"
             ]
            ],
            "type": "histogram2d"
           }
          ],
          "histogram2dcontour": [
           {
            "colorbar": {
             "outlinewidth": 0,
             "ticks": ""
            },
            "colorscale": [
             [
              0,
              "#0d0887"
             ],
             [
              0.1111111111111111,
              "#46039f"
             ],
             [
              0.2222222222222222,
              "#7201a8"
             ],
             [
              0.3333333333333333,
              "#9c179e"
             ],
             [
              0.4444444444444444,
              "#bd3786"
             ],
             [
              0.5555555555555556,
              "#d8576b"
             ],
             [
              0.6666666666666666,
              "#ed7953"
             ],
             [
              0.7777777777777778,
              "#fb9f3a"
             ],
             [
              0.8888888888888888,
              "#fdca26"
             ],
             [
              1,
              "#f0f921"
             ]
            ],
            "type": "histogram2dcontour"
           }
          ],
          "mesh3d": [
           {
            "colorbar": {
             "outlinewidth": 0,
             "ticks": ""
            },
            "type": "mesh3d"
           }
          ],
          "parcoords": [
           {
            "line": {
             "colorbar": {
              "outlinewidth": 0,
              "ticks": ""
             }
            },
            "type": "parcoords"
           }
          ],
          "pie": [
           {
            "automargin": true,
            "type": "pie"
           }
          ],
          "scatter": [
           {
            "fillpattern": {
             "fillmode": "overlay",
             "size": 10,
             "solidity": 0.2
            },
            "type": "scatter"
           }
          ],
          "scatter3d": [
           {
            "line": {
             "colorbar": {
              "outlinewidth": 0,
              "ticks": ""
             }
            },
            "marker": {
             "colorbar": {
              "outlinewidth": 0,
              "ticks": ""
             }
            },
            "type": "scatter3d"
           }
          ],
          "scattercarpet": [
           {
            "marker": {
             "colorbar": {
              "outlinewidth": 0,
              "ticks": ""
             }
            },
            "type": "scattercarpet"
           }
          ],
          "scattergeo": [
           {
            "marker": {
             "colorbar": {
              "outlinewidth": 0,
              "ticks": ""
             }
            },
            "type": "scattergeo"
           }
          ],
          "scattergl": [
           {
            "marker": {
             "colorbar": {
              "outlinewidth": 0,
              "ticks": ""
             }
            },
            "type": "scattergl"
           }
          ],
          "scattermapbox": [
           {
            "marker": {
             "colorbar": {
              "outlinewidth": 0,
              "ticks": ""
             }
            },
            "type": "scattermapbox"
           }
          ],
          "scatterpolar": [
           {
            "marker": {
             "colorbar": {
              "outlinewidth": 0,
              "ticks": ""
             }
            },
            "type": "scatterpolar"
           }
          ],
          "scatterpolargl": [
           {
            "marker": {
             "colorbar": {
              "outlinewidth": 0,
              "ticks": ""
             }
            },
            "type": "scatterpolargl"
           }
          ],
          "scatterternary": [
           {
            "marker": {
             "colorbar": {
              "outlinewidth": 0,
              "ticks": ""
             }
            },
            "type": "scatterternary"
           }
          ],
          "surface": [
           {
            "colorbar": {
             "outlinewidth": 0,
             "ticks": ""
            },
            "colorscale": [
             [
              0,
              "#0d0887"
             ],
             [
              0.1111111111111111,
              "#46039f"
             ],
             [
              0.2222222222222222,
              "#7201a8"
             ],
             [
              0.3333333333333333,
              "#9c179e"
             ],
             [
              0.4444444444444444,
              "#bd3786"
             ],
             [
              0.5555555555555556,
              "#d8576b"
             ],
             [
              0.6666666666666666,
              "#ed7953"
             ],
             [
              0.7777777777777778,
              "#fb9f3a"
             ],
             [
              0.8888888888888888,
              "#fdca26"
             ],
             [
              1,
              "#f0f921"
             ]
            ],
            "type": "surface"
           }
          ],
          "table": [
           {
            "cells": {
             "fill": {
              "color": "#EBF0F8"
             },
             "line": {
              "color": "white"
             }
            },
            "header": {
             "fill": {
              "color": "#C8D4E3"
             },
             "line": {
              "color": "white"
             }
            },
            "type": "table"
           }
          ]
         },
         "layout": {
          "annotationdefaults": {
           "arrowcolor": "#2a3f5f",
           "arrowhead": 0,
           "arrowwidth": 1
          },
          "autotypenumbers": "strict",
          "coloraxis": {
           "colorbar": {
            "outlinewidth": 0,
            "ticks": ""
           }
          },
          "colorscale": {
           "diverging": [
            [
             0,
             "#8e0152"
            ],
            [
             0.1,
             "#c51b7d"
            ],
            [
             0.2,
             "#de77ae"
            ],
            [
             0.3,
             "#f1b6da"
            ],
            [
             0.4,
             "#fde0ef"
            ],
            [
             0.5,
             "#f7f7f7"
            ],
            [
             0.6,
             "#e6f5d0"
            ],
            [
             0.7,
             "#b8e186"
            ],
            [
             0.8,
             "#7fbc41"
            ],
            [
             0.9,
             "#4d9221"
            ],
            [
             1,
             "#276419"
            ]
           ],
           "sequential": [
            [
             0,
             "#0d0887"
            ],
            [
             0.1111111111111111,
             "#46039f"
            ],
            [
             0.2222222222222222,
             "#7201a8"
            ],
            [
             0.3333333333333333,
             "#9c179e"
            ],
            [
             0.4444444444444444,
             "#bd3786"
            ],
            [
             0.5555555555555556,
             "#d8576b"
            ],
            [
             0.6666666666666666,
             "#ed7953"
            ],
            [
             0.7777777777777778,
             "#fb9f3a"
            ],
            [
             0.8888888888888888,
             "#fdca26"
            ],
            [
             1,
             "#f0f921"
            ]
           ],
           "sequentialminus": [
            [
             0,
             "#0d0887"
            ],
            [
             0.1111111111111111,
             "#46039f"
            ],
            [
             0.2222222222222222,
             "#7201a8"
            ],
            [
             0.3333333333333333,
             "#9c179e"
            ],
            [
             0.4444444444444444,
             "#bd3786"
            ],
            [
             0.5555555555555556,
             "#d8576b"
            ],
            [
             0.6666666666666666,
             "#ed7953"
            ],
            [
             0.7777777777777778,
             "#fb9f3a"
            ],
            [
             0.8888888888888888,
             "#fdca26"
            ],
            [
             1,
             "#f0f921"
            ]
           ]
          },
          "colorway": [
           "#636efa",
           "#EF553B",
           "#00cc96",
           "#ab63fa",
           "#FFA15A",
           "#19d3f3",
           "#FF6692",
           "#B6E880",
           "#FF97FF",
           "#FECB52"
          ],
          "font": {
           "color": "#2a3f5f"
          },
          "geo": {
           "bgcolor": "white",
           "lakecolor": "white",
           "landcolor": "white",
           "showlakes": true,
           "showland": true,
           "subunitcolor": "#C8D4E3"
          },
          "hoverlabel": {
           "align": "left"
          },
          "hovermode": "closest",
          "mapbox": {
           "style": "light"
          },
          "paper_bgcolor": "white",
          "plot_bgcolor": "white",
          "polar": {
           "angularaxis": {
            "gridcolor": "#EBF0F8",
            "linecolor": "#EBF0F8",
            "ticks": ""
           },
           "bgcolor": "white",
           "radialaxis": {
            "gridcolor": "#EBF0F8",
            "linecolor": "#EBF0F8",
            "ticks": ""
           }
          },
          "scene": {
           "xaxis": {
            "backgroundcolor": "white",
            "gridcolor": "#DFE8F3",
            "gridwidth": 2,
            "linecolor": "#EBF0F8",
            "showbackground": true,
            "ticks": "",
            "zerolinecolor": "#EBF0F8"
           },
           "yaxis": {
            "backgroundcolor": "white",
            "gridcolor": "#DFE8F3",
            "gridwidth": 2,
            "linecolor": "#EBF0F8",
            "showbackground": true,
            "ticks": "",
            "zerolinecolor": "#EBF0F8"
           },
           "zaxis": {
            "backgroundcolor": "white",
            "gridcolor": "#DFE8F3",
            "gridwidth": 2,
            "linecolor": "#EBF0F8",
            "showbackground": true,
            "ticks": "",
            "zerolinecolor": "#EBF0F8"
           }
          },
          "shapedefaults": {
           "line": {
            "color": "#2a3f5f"
           }
          },
          "ternary": {
           "aaxis": {
            "gridcolor": "#DFE8F3",
            "linecolor": "#A2B1C6",
            "ticks": ""
           },
           "baxis": {
            "gridcolor": "#DFE8F3",
            "linecolor": "#A2B1C6",
            "ticks": ""
           },
           "bgcolor": "white",
           "caxis": {
            "gridcolor": "#DFE8F3",
            "linecolor": "#A2B1C6",
            "ticks": ""
           }
          },
          "title": {
           "x": 0.05
          },
          "xaxis": {
           "automargin": true,
           "gridcolor": "#EBF0F8",
           "linecolor": "#EBF0F8",
           "ticks": "",
           "title": {
            "standoff": 15
           },
           "zerolinecolor": "#EBF0F8",
           "zerolinewidth": 2
          },
          "yaxis": {
           "automargin": true,
           "gridcolor": "#EBF0F8",
           "linecolor": "#EBF0F8",
           "ticks": "",
           "title": {
            "standoff": 15
           },
           "zerolinecolor": "#EBF0F8",
           "zerolinewidth": 2
          }
         }
        },
        "title": {
         "font": {
          "color": "Black",
          "size": 22
         },
         "text": "Topic Word Scores",
         "x": 0.5,
         "xanchor": "center",
         "yanchor": "top"
        },
        "width": 1000,
        "xaxis": {
         "anchor": "y",
         "domain": [
          0,
          0.175
         ],
         "showgrid": true
        },
        "xaxis2": {
         "anchor": "y2",
         "domain": [
          0.275,
          0.45
         ],
         "showgrid": true
        },
        "xaxis3": {
         "anchor": "y3",
         "domain": [
          0.55,
          0.7250000000000001
         ],
         "showgrid": true
        },
        "xaxis4": {
         "anchor": "y4",
         "domain": [
          0.825,
          1
         ],
         "showgrid": true
        },
        "xaxis5": {
         "anchor": "y5",
         "domain": [
          0,
          0.175
         ],
         "showgrid": true
        },
        "xaxis6": {
         "anchor": "y6",
         "domain": [
          0.275,
          0.45
         ],
         "showgrid": true
        },
        "xaxis7": {
         "anchor": "y7",
         "domain": [
          0.55,
          0.7250000000000001
         ],
         "showgrid": true
        },
        "xaxis8": {
         "anchor": "y8",
         "domain": [
          0.825,
          1
         ],
         "showgrid": true
        },
        "yaxis": {
         "anchor": "x",
         "domain": [
          0.6000000000000001,
          1
         ],
         "showgrid": true
        },
        "yaxis2": {
         "anchor": "x2",
         "domain": [
          0.6000000000000001,
          1
         ],
         "showgrid": true
        },
        "yaxis3": {
         "anchor": "x3",
         "domain": [
          0.6000000000000001,
          1
         ],
         "showgrid": true
        },
        "yaxis4": {
         "anchor": "x4",
         "domain": [
          0.6000000000000001,
          1
         ],
         "showgrid": true
        },
        "yaxis5": {
         "anchor": "x5",
         "domain": [
          0,
          0.4
         ],
         "showgrid": true
        },
        "yaxis6": {
         "anchor": "x6",
         "domain": [
          0,
          0.4
         ],
         "showgrid": true
        },
        "yaxis7": {
         "anchor": "x7",
         "domain": [
          0,
          0.4
         ],
         "showgrid": true
        },
        "yaxis8": {
         "anchor": "x8",
         "domain": [
          0,
          0.4
         ],
         "showgrid": true
        }
       }
      }
     },
     "metadata": {},
     "output_type": "display_data"
    }
   ],
   "source": [
    "topic_model.visualize_barchart()"
   ]
  },
  {
   "cell_type": "code",
   "execution_count": 43,
   "metadata": {},
   "outputs": [
    {
     "data": {
      "application/vnd.plotly.v1+json": {
       "config": {
        "plotlyServerURL": "https://plot.ly"
       },
       "data": [
        {
         "hovertext": "<b>Topic -1</b>:fuck_contact_and_inform_cancellati",
         "line": {
          "color": "black",
          "width": 1.5
         },
         "mode": "lines+lines",
         "name": "",
         "opacity": 0.1,
         "type": "scatter",
         "x": [
          1,
          2,
          3,
          4,
          5,
          6,
          7,
          8,
          9,
          10
         ],
         "y": [
          0.006609879856937971,
          0.005726819916414736,
          0.005451236266830233,
          0.005400499832205597,
          0.005325482955691932,
          0.005252677150793483,
          0.005218840149268794,
          0.005151118870914519,
          0.004970184352060324,
          0.004963038361552098
         ]
        },
        {
         "hovertext": "<b>Topic 0</b>:report_issue_problem_inform_pay_pay",
         "line": {
          "color": "black",
          "width": 1.5
         },
         "mode": "lines+lines",
         "name": "",
         "opacity": 0.1,
         "type": "scatter",
         "x": [
          1,
          2,
          3,
          4,
          5,
          6,
          7,
          8,
          9,
          10
         ],
         "y": [
          0.029913510339089656,
          0.021014121455699857,
          0.020202914561270265,
          0.019730219180003675,
          0.015898195918174058,
          0.014308175989922215,
          0.01360048559591339,
          0.013207023422727603,
          0.012550758263097745,
          0.012161383539357905
         ]
        },
        {
         "hovertext": "<b>Topic 1</b>:some_bill_invoice_obtain_about_requ",
         "line": {
          "color": "black",
          "width": 1.5
         },
         "mode": "lines+lines",
         "name": "",
         "opacity": 0.1,
         "type": "scatter",
         "x": [
          1,
          2,
          3,
          4,
          5,
          6,
          7,
          8,
          9,
          10
         ],
         "y": [
          0.04454761225494778,
          0.03545665165327193,
          0.0330781037384039,
          0.028540859972929513,
          0.02336451266359419,
          0.021794536097428225,
          0.01970335349082334,
          0.016728338457682082,
          0.013547687049575369,
          0.00955174077199872
         ]
        },
        {
         "hovertext": "<b>Topic 2</b>:understand_human_person_talk_speak_",
         "line": {
          "color": "black",
          "width": 1.5
         },
         "mode": "lines+lines",
         "name": "",
         "opacity": 0.1,
         "type": "scatter",
         "x": [
          1,
          2,
          3,
          4,
          5,
          6,
          7,
          8,
          9,
          10
         ],
         "y": [
          0.05900982253733045,
          0.05859426730012416,
          0.044216014930122206,
          0.03840414088821481,
          0.03562976823950542,
          0.034176290733556575,
          0.03233685096246535,
          0.026019359205117342,
          0.01759055382568105,
          0.016956571031993762
         ]
        },
        {
         "hovertext": "<b>Topic 3</b>:mail_send_client_email_customer_sup",
         "line": {
          "color": "black",
          "width": 1.5
         },
         "mode": "lines+lines",
         "name": "",
         "opacity": 0.1,
         "type": "scatter",
         "x": [
          1,
          2,
          3,
          4,
          5,
          6,
          7,
          8,
          9,
          10
         ],
         "y": [
          0.04921538326318056,
          0.039638704331215156,
          0.03286305361068084,
          0.03166551058685117,
          0.03137924415715199,
          0.025760988190997636,
          0.02521607226235678,
          0.023061163564679747,
          0.019386951132117664,
          0.01885300297385041
         ]
        },
        {
         "hovertext": "<b>Topic 4</b>:purchase_modify_buy_item_product_ch",
         "line": {
          "color": "black",
          "width": 1.5
         },
         "mode": "lines+lines",
         "name": "",
         "opacity": 0.1,
         "type": "scatter",
         "x": [
          1,
          2,
          3,
          4,
          5,
          6,
          7,
          8,
          9,
          10
         ],
         "y": [
          0.06733698095705348,
          0.057733450944323604,
          0.04378377213810678,
          0.041566200512070835,
          0.04077947316199807,
          0.04062915291519154,
          0.03699154520238293,
          0.03092334200353945,
          0.017077220176364385,
          0.013168951310956897
         ]
        },
        {
         "hovertext": "<b>Topic 5</b>:but_charge_anyway_error_message_att",
         "line": {
          "color": "black",
          "width": 1.5
         },
         "mode": "lines+lines",
         "name": "",
         "opacity": 0.1,
         "type": "scatter",
         "x": [
          1,
          2,
          3,
          4,
          5,
          6,
          7,
          8,
          9,
          10
         ],
         "y": [
          0.041876122078804014,
          0.04179629880446831,
          0.04177626614323596,
          0.03091796338405973,
          0.02567502137757861,
          0.025149062785119164,
          0.021786795506176744,
          0.019336069856371166,
          0.01812009539736228,
          0.015243974214542723
         ]
        },
        {
         "hovertext": "<b>Topic 6</b>:call_customer_question_support_spea",
         "line": {
          "color": "black",
          "width": 1.5
         },
         "mode": "lines+lines",
         "name": "",
         "opacity": 0.1,
         "type": "scatter",
         "x": [
          1,
          2,
          3,
          4,
          5,
          6,
          7,
          8,
          9,
          10
         ],
         "y": [
          0.05666447678685723,
          0.04886039310547552,
          0.044006494752867255,
          0.0410596491343916,
          0.03474107859021762,
          0.03438089761629716,
          0.03305264948532214,
          0.029519640397754846,
          0.026888945094033032,
          0.019079752678931205
         ]
        },
        {
         "hovertext": "<b>Topic 7</b>:consumer_complaint_discontent_lodge",
         "line": {
          "color": "black",
          "width": 1.5
         },
         "mode": "lines+lines",
         "name": "",
         "opacity": 0.1,
         "type": "scatter",
         "x": [
          1,
          2,
          3,
          4,
          5,
          6,
          7,
          8,
          9,
          10
         ],
         "y": [
          0.09038360571223639,
          0.08304147091996175,
          0.05464344518268608,
          0.038926549268339106,
          0.03833910260942151,
          0.03413499450881944,
          0.03375650487079469,
          0.029016422665103687,
          0.01916264357112054,
          0.015274818353005367
         ]
        },
        {
         "hovertext": "<b>Topic 8</b>:status_of_reimbursement_refund_view",
         "line": {
          "color": "black",
          "width": 1.5
         },
         "mode": "lines+lines",
         "name": "",
         "opacity": 0.1,
         "type": "scatter",
         "x": [
          1,
          2,
          3,
          4,
          5,
          6,
          7,
          8,
          9,
          10
         ],
         "y": [
          0.10834154250594157,
          0.03346935452019302,
          0.023026616669333873,
          0.020849865207061436,
          0.018819434456239403,
          0.0183412610872603,
          0.016652076336194043,
          0.013876370807066779,
          0.012801724156865734,
          0.011558040917095658
         ]
        },
        {
         "hovertext": "<b>Topic 9</b>:create_one_no_account_user_online_h",
         "line": {
          "color": "black",
          "width": 1.5
         },
         "mode": "lines+lines",
         "name": "",
         "opacity": 0.1,
         "type": "scatter",
         "x": [
          1,
          2,
          3,
          4,
          5,
          6,
          7,
          8,
          9,
          10
         ],
         "y": [
          0.08388267389003515,
          0.05868539549459152,
          0.03482615726098411,
          0.024596197379540167,
          0.023678670225466842,
          0.01744242160876295,
          0.01736590970108214,
          0.013879531235128358,
          0.01292474312730119,
          0.011823846788142016
         ]
        },
        {
         "hovertext": "<b>Topic 10</b>:open_one_no_account_user_online_ha",
         "line": {
          "color": "black",
          "width": 1.5
         },
         "mode": "lines+lines",
         "name": "",
         "opacity": 0.1,
         "type": "scatter",
         "x": [
          1,
          2,
          3,
          4,
          5,
          6,
          7,
          8,
          9,
          10
         ],
         "y": [
          0.12695277962046614,
          0.04999716028187999,
          0.03313444513299641,
          0.02935929714640399,
          0.027304659408256923,
          0.021632334500535182,
          0.013986099383972599,
          0.01008072706501996,
          0.009423824579041557,
          0.00866753939342907
         ]
        },
        {
         "hovertext": "<b>Topic 11</b>:refund_reimbursement_obtain_reques",
         "line": {
          "color": "black",
          "width": 1.5
         },
         "mode": "lines+lines",
         "name": "",
         "opacity": 0.1,
         "type": "scatter",
         "x": [
          1,
          2,
          3,
          4,
          5,
          6,
          7,
          8,
          9,
          10
         ],
         "y": [
          0.05709196569168674,
          0.0530674644678402,
          0.03777893588136691,
          0.033921129906114116,
          0.0277474182111162,
          0.023746660608237973,
          0.013225580665004781,
          0.013014770009996107,
          0.012766695451585692,
          0.012356954228016016
         ]
        },
        {
         "hovertext": "<b>Topic 12</b>:remove_delete_account_profile_user",
         "line": {
          "color": "black",
          "width": 1.5
         },
         "mode": "lines+lines",
         "name": "",
         "opacity": 0.1,
         "type": "scatter",
         "x": [
          1,
          2,
          3,
          4,
          5,
          6,
          7,
          8,
          9,
          10
         ],
         "y": [
          0.09694812071969208,
          0.08820067849562793,
          0.022265408290852072,
          0.02100317300636998,
          0.020100710077356386,
          0.014406604937244903,
          0.014158401486520788,
          0.013458505708943717,
          0.011066608453427244,
          0.010147670621502092
         ]
        },
        {
         "hovertext": "<b>Topic 13</b>:number_phone_free_contact_customer",
         "line": {
          "color": "black",
          "width": 1.5
         },
         "mode": "lines+lines",
         "name": "",
         "opacity": 0.1,
         "type": "scatter",
         "x": [
          1,
          2,
          3,
          4,
          5,
          6,
          7,
          8,
          9,
          10
         ],
         "y": [
          0.11603098139490756,
          0.084647918417146,
          0.08215212963258596,
          0.03401511837585772,
          0.03184569350071347,
          0.028439108573426856,
          0.024137167343008272,
          0.02225957919011479,
          0.02039952623178627,
          0.017002502582539658
         ]
        },
        {
         "hovertext": "<b>Topic 14</b>:hack_back_recover_be_account_profi",
         "line": {
          "color": "black",
          "width": 1.5
         },
         "mode": "lines+lines",
         "name": "",
         "opacity": 0.1,
         "type": "scatter",
         "x": [
          1,
          2,
          3,
          4,
          5,
          6,
          7,
          8,
          9,
          10
         ],
         "y": [
          0.13639702911161256,
          0.05680278714431523,
          0.052988530439121995,
          0.02289554587655478,
          0.019538581867127782,
          0.019362520886956263,
          0.018386285086288163,
          0.017206942431870167,
          0.015201613060322014,
          0.013865368986311596
         ]
        },
        {
         "hovertext": "<b>Topic 15</b>:solve_problem_payment_issue_ask_ag",
         "line": {
          "color": "black",
          "width": 1.5
         },
         "mode": "lines+lines",
         "name": "",
         "opacity": 0.1,
         "type": "scatter",
         "x": [
          1,
          2,
          3,
          4,
          5,
          6,
          7,
          8,
          9,
          10
         ],
         "y": [
          0.15718651899180702,
          0.029103871480149014,
          0.026845971396654678,
          0.02642560109854021,
          0.01261576610086557,
          0.01176325028311534,
          0.011556108000737272,
          0.010488241278207978,
          0.00926653135991487,
          0.00912301860799467
         ]
        },
        {
         "hovertext": "<b>Topic 16</b>:money_policy_back_guarantee_your_t",
         "line": {
          "color": "black",
          "width": 1.5
         },
         "mode": "lines+lines",
         "name": "",
         "opacity": 0.1,
         "type": "scatter",
         "x": [
          1,
          2,
          3,
          4,
          5,
          6,
          7,
          8,
          9,
          10
         ],
         "y": [
          0.11239354119327642,
          0.08815634895113701,
          0.08578968569129992,
          0.07949996546122622,
          0.07398892945006233,
          0.05734892842713924,
          0.037737688072742644,
          0.03321350380542977,
          0.032235198415802475,
          0.030271010844472323
         ]
        },
        {
         "hovertext": "<b>Topic 17</b>:notify_problem_issue_payment_pay_w",
         "line": {
          "color": "black",
          "width": 1.5
         },
         "mode": "lines+lines",
         "name": "",
         "opacity": 0.1,
         "type": "scatter",
         "x": [
          1,
          2,
          3,
          4,
          5,
          6,
          7,
          8,
          9,
          10
         ],
         "y": [
          0.07687384914452752,
          0.029835557467851936,
          0.029006791982633826,
          0.025135617370956164,
          0.016332365858021555,
          0.012696198050258288,
          0.011713544084012874,
          0.008806437473599436,
          0.00865053176596025,
          0.008265198350830423
         ]
        },
        {
         "hovertext": "<b>Topic 18</b>:download_some_bill_invoice_about_t",
         "line": {
          "color": "black",
          "width": 1.5
         },
         "mode": "lines+lines",
         "name": "",
         "opacity": 0.1,
         "type": "scatter",
         "x": [
          1,
          2,
          3,
          4,
          5,
          6,
          7,
          8,
          9,
          10
         ],
         "y": [
          0.17754900696996403,
          0.048262756146676654,
          0.034668249788005534,
          0.033451288432800284,
          0.01842275401915305,
          0.016573868103780212,
          0.014422283008755487,
          0.011931784765225597,
          0.010622532061885563,
          0.008992666436881755
         ]
        },
        {
         "hovertext": "<b>Topic 19</b>:two_same_single_email_register_add",
         "line": {
          "color": "black",
          "width": 1.5
         },
         "mode": "lines+lines",
         "name": "",
         "opacity": 0.1,
         "type": "scatter",
         "x": [
          1,
          2,
          3,
          4,
          5,
          6,
          7,
          8,
          9,
          10
         ],
         "y": [
          0.13145257243657346,
          0.05878251765641376,
          0.04921729257645305,
          0.048183702690243996,
          0.041400844876148424,
          0.030208131539047986,
          0.02922028929859326,
          0.02900270431387631,
          0.024456489718649548,
          0.017656238618446563
         ]
        },
        {
         "hovertext": "<b>Topic 20</b>:pop_error_attempt_message_when_try",
         "line": {
          "color": "black",
          "width": 1.5
         },
         "mode": "lines+lines",
         "name": "",
         "opacity": 0.1,
         "type": "scatter",
         "x": [
          1,
          2,
          3,
          4,
          5,
          6,
          7,
          8,
          9,
          10
         ],
         "y": [
          0.12915271005999215,
          0.04154022992911383,
          0.03395143044239084,
          0.03250445696127979,
          0.02915638402979727,
          0.020835909393994705,
          0.019528131856461333,
          0.01654092063084256,
          0.014884375527146415,
          0.014350530349201264
         ]
        },
        {
         "hovertext": "<b>Topic 21</b>:find_them_not_view_bill_invoice_ch",
         "line": {
          "color": "black",
          "width": 1.5
         },
         "mode": "lines+lines",
         "name": "",
         "opacity": 0.1,
         "type": "scatter",
         "x": [
          1,
          2,
          3,
          4,
          5,
          6,
          7,
          8,
          9,
          10
         ],
         "y": [
          0.1413925242504615,
          0.05878479244209844,
          0.03418623112251259,
          0.03042726497250336,
          0.030092140977057168,
          0.02935238313374012,
          0.01798386664614926,
          0.01649484836616707,
          0.0121229700314742,
          0.01160546523819676
         ]
        },
        {
         "hovertext": "<b>Topic 22</b>:single_several_more_than_email_reg",
         "line": {
          "color": "black",
          "width": 1.5
         },
         "mode": "lines+lines",
         "name": "",
         "opacity": 0.1,
         "type": "scatter",
         "x": [
          1,
          2,
          3,
          4,
          5,
          6,
          7,
          8,
          9,
          10
         ],
         "y": [
          0.10252976923519551,
          0.06482213779658892,
          0.053257450445337716,
          0.05255885988139643,
          0.04609367811019175,
          0.041224740653419994,
          0.030068512945210416,
          0.028892966055257072,
          0.027329610827905814,
          0.023627470609945325
         ]
        },
        {
         "hovertext": "<b>Topic 23</b>:register_no_registering_registrati",
         "line": {
          "color": "black",
          "width": 1.5
         },
         "mode": "lines+lines",
         "name": "",
         "opacity": 0.1,
         "type": "scatter",
         "x": [
          1,
          2,
          3,
          4,
          5,
          6,
          7,
          8,
          9,
          10
         ],
         "y": [
          0.10150897678736644,
          0.06329720219758694,
          0.03912779525156016,
          0.033157343317457795,
          0.028739809643204568,
          0.02839608659928096,
          0.02437564893637172,
          0.019917622221852883,
          0.019173481109117155,
          0.018815803226722896
         ]
        },
        {
         "hovertext": "<b>Topic 24</b>:newsletter_subscribe_receive_there",
         "line": {
          "color": "black",
          "width": 1.5
         },
         "mode": "lines+lines",
         "name": "",
         "opacity": 0.1,
         "type": "scatter",
         "x": [
          1,
          2,
          3,
          4,
          5,
          6,
          7,
          8,
          9,
          10
         ],
         "y": [
          0.16682483079778512,
          0.11627897124854698,
          0.06829465957873092,
          0.05204817314300878,
          0.017634548260552874,
          0.015320624901138925,
          0.014135718023314875,
          0.014109966920573805,
          0.013576579774463766,
          0.010562737911035545
         ]
        },
        {
         "hovertext": "<b>Topic 25</b>:same_several_more_than_email_regis",
         "line": {
          "color": "black",
          "width": 1.5
         },
         "mode": "lines+lines",
         "name": "",
         "opacity": 0.1,
         "type": "scatter",
         "x": [
          1,
          2,
          3,
          4,
          5,
          6,
          7,
          8,
          9,
          10
         ],
         "y": [
          0.0951066079755948,
          0.05442668288159863,
          0.054008993358592654,
          0.053320295324529546,
          0.04246535480621148,
          0.03577670256123452,
          0.02689568547106429,
          0.026526285068469033,
          0.02586502429271266,
          0.022008871804697024
         ]
        },
        {
         "hovertext": "<b>Topic 26</b>:shipping_set_up_address_update_shi",
         "line": {
          "color": "black",
          "width": 1.5
         },
         "mode": "lines+lines",
         "name": "",
         "opacity": 0.1,
         "type": "scatter",
         "x": [
          1,
          2,
          3,
          4,
          5,
          6,
          7,
          8,
          9,
          10
         ],
         "y": [
          0.1664289880538676,
          0.12140045897543171,
          0.11514585177260976,
          0.07360420863197266,
          0.04031293286092007,
          0.030102257915661422,
          0.02068944736582815,
          0.01536650767857795,
          0.01187418940640581,
          0.011671786264038335
         ]
        },
        {
         "hovertext": "<b>Topic 27</b>:game_postpone_cancel_reimbursement",
         "line": {
          "color": "black",
          "width": 1.5
         },
         "mode": "lines+lines",
         "name": "",
         "opacity": 0.1,
         "type": "scatter",
         "x": [
          1,
          2,
          3,
          4,
          5,
          6,
          7,
          8,
          9,
          10
         ],
         "y": [
          0.19557400458472704,
          0.06876270535499135,
          0.05204571053396165,
          0.03821089914617305,
          0.036303870232200136,
          0.03224257611594816,
          0.02525119187460169,
          0.02443580674421786,
          0.021492592560761834,
          0.011441881439228503
         ]
        },
        {
         "hovertext": "<b>Topic 28</b>:lose_them_bill_invoice_view_check_",
         "line": {
          "color": "black",
          "width": 1.5
         },
         "mode": "lines+lines",
         "name": "",
         "opacity": 0.1,
         "type": "scatter",
         "x": [
          1,
          2,
          3,
          4,
          5,
          6,
          7,
          8,
          9,
          10
         ],
         "y": [
          0.1844365481576168,
          0.07682538398259553,
          0.03772539150319316,
          0.03592380583681757,
          0.03577031350245929,
          0.02345243017732526,
          0.020540653484290978,
          0.015127905372315863,
          0.013753543495069052,
          0.011974009044397636
         ]
        },
        {
         "hovertext": "<b>Topic 29</b>:cancel_show_refund_profile_user_ac",
         "line": {
          "color": "black",
          "width": 1.5
         },
         "mode": "lines+lines",
         "name": "",
         "opacity": 0.1,
         "type": "scatter",
         "x": [
          1,
          2,
          3,
          4,
          5,
          6,
          7,
          8,
          9,
          10
         ],
         "y": [
          0.11108597714477506,
          0.024471882311363668,
          0.016419802914731146,
          0.015909129807384733,
          0.014777737167675355,
          0.014008388064387929,
          0.009153671092417517,
          0.008621630766314524,
          0.008127895471766818,
          0.007648178335056624
         ]
        },
        {
         "hovertext": "<b>Topic 30</b>:review_leave_write_happy_submit_lo",
         "line": {
          "color": "black",
          "width": 1.5
         },
         "mode": "lines+lines",
         "name": "",
         "opacity": 0.1,
         "type": "scatter",
         "x": [
          1,
          2,
          3,
          4,
          5,
          6,
          7,
          8,
          9,
          10
         ],
         "y": [
          0.21975537134388448,
          0.0573764904576544,
          0.055931169175330586,
          0.05559847643230223,
          0.02794918292249485,
          0.02714088035274551,
          0.02599460389235883,
          0.02589054933435205,
          0.019267389546520443,
          0.01218988451930633
         ]
        },
        {
         "hovertext": "<b>Topic 31</b>:receive_them_not_invoice_bill_view",
         "line": {
          "color": "black",
          "width": 1.5
         },
         "mode": "lines+lines",
         "name": "",
         "opacity": 0.1,
         "type": "scatter",
         "x": [
          1,
          2,
          3,
          4,
          5,
          6,
          7,
          8,
          9,
          10
         ],
         "y": [
          0.14140806577475043,
          0.06436843787692703,
          0.03543753023251485,
          0.03215109375567559,
          0.027485531852972457,
          0.025548445767512005,
          0.02032728323152602,
          0.018644236036522564,
          0.016225441907582593,
          0.012263892410112475
         ]
        },
        {
         "hovertext": "<b>Topic 32</b>:ticket_option_delivery_for_view_th",
         "line": {
          "color": "black",
          "width": 1.5
         },
         "mode": "lines+lines",
         "name": "",
         "opacity": 0.1,
         "type": "scatter",
         "x": [
          1,
          2,
          3,
          4,
          5,
          6,
          7,
          8,
          9,
          10
         ],
         "y": [
          0.15077004666047997,
          0.12121535412724314,
          0.09879848615872461,
          0.02629809943442365,
          0.02269809765524907,
          0.02133030155571118,
          0.01982525347617114,
          0.016932258318883224,
          0.008934440937254713,
          0.0072640821250284015
         ]
        },
        {
         "hovertext": "<b>Topic 33</b>:event_postpone_cancel_reimbursemen",
         "line": {
          "color": "black",
          "width": 1.5
         },
         "mode": "lines+lines",
         "name": "",
         "opacity": 0.1,
         "type": "scatter",
         "x": [
          1,
          2,
          3,
          4,
          5,
          6,
          7,
          8,
          9,
          10
         ],
         "y": [
          0.20181935668305345,
          0.06958726908409375,
          0.0535844067411674,
          0.042724336610932154,
          0.04114493621603987,
          0.035928534755160633,
          0.032703554129175874,
          0.024848579399602427,
          0.02223939919940457,
          0.01349493381366416
         ]
        },
        {
         "hovertext": "<b>Topic 34</b>:complaint_lodge_file_for_service_s",
         "line": {
          "color": "black",
          "width": 1.5
         },
         "mode": "lines+lines",
         "name": "",
         "opacity": 0.1,
         "type": "scatter",
         "x": [
          1,
          2,
          3,
          4,
          5,
          6,
          7,
          8,
          9,
          10
         ],
         "y": [
          0.11326517544606002,
          0.06757026202776238,
          0.059912961082875256,
          0.03984354622264298,
          0.02652870700354339,
          0.01709046851798826,
          0.01393999796878334,
          0.011735379392823196,
          0.008846861387280988,
          0.0082351115526348
         ]
        },
        {
         "hovertext": "<b>Topic 35</b>:opinion_leave_write_happy_submit_s",
         "line": {
          "color": "black",
          "width": 1.5
         },
         "mode": "lines+lines",
         "name": "",
         "opacity": 0.1,
         "type": "scatter",
         "x": [
          1,
          2,
          3,
          4,
          5,
          6,
          7,
          8,
          9,
          10
         ],
         "y": [
          0.18902236725832158,
          0.050792775903545556,
          0.046291005171845756,
          0.041859401892756484,
          0.027982170814064553,
          0.025332628263282767,
          0.021885529855602662,
          0.021427783784986852,
          0.01633587109410601,
          0.015861013760222198
         ]
        },
        {
         "hovertext": "<b>Topic 36</b>:penalty_cancellation_view_the_chec",
         "line": {
          "color": "black",
          "width": 1.5
         },
         "mode": "lines+lines",
         "name": "",
         "opacity": 0.1,
         "type": "scatter",
         "x": [
          1,
          2,
          3,
          4,
          5,
          6,
          7,
          8,
          9,
          10
         ],
         "y": [
          0.21706744217692606,
          0.1529462939593838,
          0.031049693434678522,
          0.020740947216149073,
          0.019225642381107702,
          0.01433517627751112,
          0.014285222951733635,
          0.00972543434433128,
          0.00936931990492108,
          0.009351282579342429
         ]
        },
        {
         "hovertext": "<b>Topic 37</b>:other_use_switch_them_another_chan",
         "line": {
          "color": "black",
          "width": 1.5
         },
         "mode": "lines+lines",
         "name": "",
         "opacity": 0.1,
         "type": "scatter",
         "x": [
          1,
          2,
          3,
          4,
          5,
          6,
          7,
          8,
          9,
          10
         ],
         "y": [
          0.16513563305714993,
          0.16511994754743528,
          0.09774067204910866,
          0.08873034481879473,
          0.033757033227076655,
          0.03315128856060001,
          0.020872022642456217,
          0.019595555875261513,
          0.015140287102938629,
          0.013637402599706716
         ]
        },
        {
         "hovertext": "<b>Topic 38</b>:close_closing_account_user_profile",
         "line": {
          "color": "black",
          "width": 1.5
         },
         "mode": "lines+lines",
         "name": "",
         "opacity": 0.1,
         "type": "scatter",
         "x": [
          1,
          2,
          3,
          4,
          5,
          6,
          7,
          8,
          9,
          10
         ],
         "y": [
          0.179753847081007,
          0.03214294996012313,
          0.022335073157081494,
          0.019247265653654554,
          0.018523668423395197,
          0.01653777346338946,
          0.015252677698738826,
          0.013177168507922499,
          0.01183308879627304,
          0.010667862299487263
         ]
        },
        {
         "hovertext": "<b>Topic 39</b>:remember_password_forget_retrieve_",
         "line": {
          "color": "black",
          "width": 1.5
         },
         "mode": "lines+lines",
         "name": "",
         "opacity": 0.1,
         "type": "scatter",
         "x": [
          1,
          2,
          3,
          4,
          5,
          6,
          7,
          8,
          9,
          10
         ],
         "y": [
          0.11888225762709684,
          0.10402279844020251,
          0.10397662108609008,
          0.09713934965015852,
          0.07972176032735061,
          0.024255599374096288,
          0.01870781257020445,
          0.01369567524149116,
          0.013329960376041805,
          0.01297045888930274
         ]
        },
        {
         "hovertext": "<b>Topic 40</b>:concert_postpone_cancel_reimbursem",
         "line": {
          "color": "black",
          "width": 1.5
         },
         "mode": "lines+lines",
         "name": "",
         "opacity": 0.1,
         "type": "scatter",
         "x": [
          1,
          2,
          3,
          4,
          5,
          6,
          7,
          8,
          9,
          10
         ],
         "y": [
          0.20955139739193057,
          0.07373410982318504,
          0.051352190117877464,
          0.04421037395903942,
          0.03860500448366976,
          0.03356272371885643,
          0.03322205874761596,
          0.024737891375656375,
          0.022298441157800563,
          0.011817724380598965
         ]
        },
        {
         "hovertext": "<b>Topic 41</b>:option_delivery_for_view_check_the",
         "line": {
          "color": "black",
          "width": 1.5
         },
         "mode": "lines+lines",
         "name": "",
         "opacity": 0.1,
         "type": "scatter",
         "x": [
          1,
          2,
          3,
          4,
          5,
          6,
          7,
          8,
          9,
          10
         ],
         "y": [
          0.13460626310007773,
          0.11307181420663164,
          0.029970076066555627,
          0.025090610642822957,
          0.024586026247703105,
          0.024136030603451323,
          0.014885157037662227,
          0.012046135681283626,
          0.010068723599934415,
          0.010027121904819062
         ]
        },
        {
         "hovertext": "<b>Topic 42</b>:reset_password_forget_remember_los",
         "line": {
          "color": "black",
          "width": 1.5
         },
         "mode": "lines+lines",
         "name": "",
         "opacity": 0.1,
         "type": "scatter",
         "x": [
          1,
          2,
          3,
          4,
          5,
          6,
          7,
          8,
          9,
          10
         ],
         "y": [
          0.20043405632251424,
          0.10201881043476388,
          0.05324240741895094,
          0.048247261822150354,
          0.03158364276435093,
          0.016165509125345076,
          0.015357600621071908,
          0.013254600884222078,
          0.00774660711147067,
          0.006480504857586537
         ]
        },
        {
         "hovertext": "<b>Topic 43</b>:error_attempt_when_message_make_ca",
         "line": {
          "color": "black",
          "width": 1.5
         },
         "mode": "lines+lines",
         "name": "",
         "opacity": 0.1,
         "type": "scatter",
         "x": [
          1,
          2,
          3,
          4,
          5,
          6,
          7,
          8,
          9,
          10
         ],
         "y": [
          0.030571632516834774,
          0.027208866762493282,
          0.02668219743749111,
          0.02581102513816219,
          0.023186684480450793,
          0.021242133494132998,
          0.02098409489554295,
          0.018779563359808082,
          0.018339676942939597,
          0.015618479485256683
         ]
        },
        {
         "hovertext": "<b>Topic 44</b>:fee_cancellation_view_the_check_re",
         "line": {
          "color": "black",
          "width": 1.5
         },
         "mode": "lines+lines",
         "name": "",
         "opacity": 0.1,
         "type": "scatter",
         "x": [
          1,
          2,
          3,
          4,
          5,
          6,
          7,
          8,
          9,
          10
         ],
         "y": [
          0.22823795992363366,
          0.15211411639734398,
          0.027343998817998767,
          0.02063034347357213,
          0.018855105781597426,
          0.018851314638640183,
          0.014703359255054864,
          0.013904565641398765,
          0.01061911622783704,
          0.01061911622783704
         ]
        },
        {
         "hovertext": "<b>Topic 45</b>:mind_delete_remove_change_my_accou",
         "line": {
          "color": "black",
          "width": 1.5
         },
         "mode": "lines+lines",
         "name": "",
         "opacity": 0.1,
         "type": "scatter",
         "x": [
          1,
          2,
          3,
          4,
          5,
          6,
          7,
          8,
          9,
          10
         ],
         "y": [
          0.15992991717842683,
          0.08990870197074645,
          0.08221479569622557,
          0.07458701785696809,
          0.025321501241322215,
          0.020765960152980777,
          0.01919058430633914,
          0.017181101046562033,
          0.015475139612942558,
          0.0073277635021916625
         ]
        },
        {
         "hovertext": "<b>Topic 46</b>:shipment_check_know_tell_where_my_",
         "line": {
          "color": "black",
          "width": 1.5
         },
         "mode": "lines+lines",
         "name": "",
         "opacity": 0.1,
         "type": "scatter",
         "x": [
          1,
          2,
          3,
          4,
          5,
          6,
          7,
          8,
          9,
          10
         ],
         "y": [
          0.17049016624953509,
          0.04860207569643063,
          0.025100400878066042,
          0.016826599639873166,
          0.016165768729120223,
          0.013214322178527542,
          0.011060421264950885,
          0.010961133221996728,
          0.009876196189318566,
          0.009040089222550616
         ]
        },
        {
         "hovertext": "<b>Topic 47</b>:steal_stole_someone_password_retri",
         "line": {
          "color": "black",
          "width": 1.5
         },
         "mode": "lines+lines",
         "name": "",
         "opacity": 0.1,
         "type": "scatter",
         "x": [
          1,
          2,
          3,
          4,
          5,
          6,
          7,
          8,
          9,
          10
         ],
         "y": [
          0.16428877313024481,
          0.1361456271624544,
          0.13530842085401068,
          0.10065032496228597,
          0.05912700633326394,
          0.0567928884295024,
          0.04092155925860955,
          0.021325712641646045,
          0.016272155789151026,
          0.013463811320972185
         ]
        },
        {
         "hovertext": "<b>Topic 48</b>:method_your_their_payment_view_acc",
         "line": {
          "color": "black",
          "width": 1.5
         },
         "mode": "lines+lines",
         "name": "",
         "opacity": 0.1,
         "type": "scatter",
         "x": [
          1,
          2,
          3,
          4,
          5,
          6,
          7,
          8,
          9,
          10
         ],
         "y": [
          0.27836506483649476,
          0.09806460972932901,
          0.0484386056047051,
          0.03784037204702991,
          0.026009658261136274,
          0.02205116177061978,
          0.0185992683256013,
          0.016871831561374267,
          0.013185225395788827,
          0.008813916196381895
         ]
        },
        {
         "hovertext": "<b>Topic 49</b>:another_switch_change_profile_user",
         "line": {
          "color": "black",
          "width": 1.5
         },
         "mode": "lines+lines",
         "name": "",
         "opacity": 0.1,
         "type": "scatter",
         "x": [
          1,
          2,
          3,
          4,
          5,
          6,
          7,
          8,
          9,
          10
         ],
         "y": [
          0.24611160063747378,
          0.12780840804645197,
          0.04174400387556319,
          0.027863652661508493,
          0.026666409102818762,
          0.021578664077752604,
          0.014235401875295133,
          0.013721925654286314,
          0.01106540582303238,
          0.010545328132864991
         ]
        },
        {
         "hovertext": "<b>Topic 50</b>:policy_your_reimbursement_refund_s",
         "line": {
          "color": "black",
          "width": 1.5
         },
         "mode": "lines+lines",
         "name": "",
         "opacity": 0.1,
         "type": "scatter",
         "x": [
          1,
          2,
          3,
          4,
          5,
          6,
          7,
          8,
          9,
          10
         ],
         "y": [
          0.18815383074421801,
          0.14621854485771896,
          0.05318482679704786,
          0.0524991993277053,
          0.03132822752768388,
          0.029720415318207235,
          0.02884308123525735,
          0.011096677106186056,
          0.00903638907435758,
          0.00903638907435758
         ]
        },
        {
         "hovertext": "<b>Topic 51</b>:package_track_tell_where_my_me_cou",
         "line": {
          "color": "black",
          "width": 1.5
         },
         "mode": "lines+lines",
         "name": "",
         "opacity": 0.1,
         "type": "scatter",
         "x": [
          1,
          2,
          3,
          4,
          5,
          6,
          7,
          8,
          9,
          10
         ],
         "y": [
          0.17056849219326614,
          0.12095926886671149,
          0.01957114568648254,
          0.016107736470532777,
          0.013387542257743917,
          0.010525227895528731,
          0.00935958254383346,
          0.00839749024837203,
          0.007823987745735724,
          0.007651618041709941
         ]
        },
        {
         "hovertext": "<b>Topic 52</b>:comment_write_leave_for_service_su",
         "line": {
          "color": "black",
          "width": 1.5
         },
         "mode": "lines+lines",
         "name": "",
         "opacity": 0.1,
         "type": "scatter",
         "x": [
          1,
          2,
          3,
          4,
          5,
          6,
          7,
          8,
          9,
          10
         ],
         "y": [
          0.24403512663010304,
          0.12357758540750503,
          0.12353020104926381,
          0.04060229931370829,
          0.02703390145406811,
          0.021172304197258563,
          0.013707466290344352,
          0.011956166111612824,
          0.010655056899203562,
          0.010655056899203562
         ]
        },
        {
         "hovertext": "<b>Topic 53</b>:package_check_where_know_tell_my_a",
         "line": {
          "color": "black",
          "width": 1.5
         },
         "mode": "lines+lines",
         "name": "",
         "opacity": 0.1,
         "type": "scatter",
         "x": [
          1,
          2,
          3,
          4,
          5,
          6,
          7,
          8,
          9,
          10
         ],
         "y": [
          0.16088688917952215,
          0.050719070583006315,
          0.021765895412116543,
          0.016915707484129957,
          0.013284449666216237,
          0.012645562391355766,
          0.012150492985900154,
          0.011433357815417176,
          0.009281570306717573,
          0.008568784445596856
         ]
        },
        {
         "hovertext": "<b>Topic 54</b>:while_find_create_open_problem_pro",
         "line": {
          "color": "black",
          "width": 1.5
         },
         "mode": "lines+lines",
         "name": "",
         "opacity": 0.1,
         "type": "scatter",
         "x": [
          1,
          2,
          3,
          4,
          5,
          6,
          7,
          8,
          9,
          10
         ],
         "y": [
          0.18298268681563776,
          0.0744459601102665,
          0.06347456570693384,
          0.045918520162554585,
          0.04073900338275268,
          0.03790116218818127,
          0.03425779829913294,
          0.03076990858867045,
          0.026374323553968373,
          0.02328884946025766
         ]
        },
        {
         "hovertext": "<b>Topic 55</b>:track_order_purchase_tell_my_where",
         "line": {
          "color": "black",
          "width": 1.5
         },
         "mode": "lines+lines",
         "name": "",
         "opacity": 0.1,
         "type": "scatter",
         "x": [
          1,
          2,
          3,
          4,
          5,
          6,
          7,
          8,
          9,
          10
         ],
         "y": [
          0.13513578587304836,
          0.04335837330997034,
          0.02404290361781544,
          0.017288524502383138,
          0.014811362809015382,
          0.012746865810899611,
          0.010788225496964805,
          0.010776256813007454,
          0.010380192001955519,
          0.010380192001955519
         ]
        },
        {
         "hovertext": "<b>Topic 56</b>:own_more_than_several_if_one_profi",
         "line": {
          "color": "black",
          "width": 1.5
         },
         "mode": "lines+lines",
         "name": "",
         "opacity": 0.1,
         "type": "scatter",
         "x": [
          1,
          2,
          3,
          4,
          5,
          6,
          7,
          8,
          9,
          10
         ],
         "y": [
          0.2289839525237223,
          0.08781452228013753,
          0.0876474411475134,
          0.0794284501764886,
          0.03813434377876672,
          0.03404357967320299,
          0.02485481273179483,
          0.021693397125442982,
          0.020171378417634674,
          0.020157478514950252
         ]
        },
        {
         "hovertext": "<b>Topic 57</b>:comment_happy_submit_file_service_",
         "line": {
          "color": "black",
          "width": 1.5
         },
         "mode": "lines+lines",
         "name": "",
         "opacity": 0.1,
         "type": "scatter",
         "x": [
          1,
          2,
          3,
          4,
          5,
          6,
          7,
          8,
          9,
          10
         ],
         "y": [
          0.1851727213396039,
          0.12559280609748563,
          0.04410173609941256,
          0.043840626089582474,
          0.03300812429227828,
          0.03284422596551263,
          0.02753603877343852,
          0.020789031720243635,
          0.018494031949942667,
          0.009345008919793289
         ]
        },
        {
         "hovertext": "<b>Topic 58</b>:shipment_track_where_tell_my_know_",
         "line": {
          "color": "black",
          "width": 1.5
         },
         "mode": "lines+lines",
         "name": "",
         "opacity": 0.1,
         "type": "scatter",
         "x": [
          1,
          2,
          3,
          4,
          5,
          6,
          7,
          8,
          9,
          10
         ],
         "y": [
          0.18485038935947248,
          0.12855911349064109,
          0.020598459235158056,
          0.017573657974835823,
          0.014090536122712053,
          0.013731559284346205,
          0.010769998819714464,
          0.010213402484913035,
          0.00937829276272693,
          0.009104612835402683
         ]
        },
        {
         "hovertext": "<b>Topic 59</b>:period_ticket_delivery_provide_abo",
         "line": {
          "color": "black",
          "width": 1.5
         },
         "mode": "lines+lines",
         "name": "",
         "opacity": 0.1,
         "type": "scatter",
         "x": [
          1,
          2,
          3,
          4,
          5,
          6,
          7,
          8,
          9,
          10
         ],
         "y": [
          0.22184727219816858,
          0.09690315489243088,
          0.08138148987301483,
          0.04179186104923086,
          0.03716871424916844,
          0.032563877663691086,
          0.031721791435656295,
          0.031721791435656295,
          0.023231139226751726,
          0.019022646765594127
         ]
        },
        {
         "hovertext": "<b>Topic 60</b>:postpone_show_reimbursement_refund",
         "line": {
          "color": "black",
          "width": 1.5
         },
         "mode": "lines+lines",
         "name": "",
         "opacity": 0.1,
         "type": "scatter",
         "x": [
          1,
          2,
          3,
          4,
          5,
          6,
          7,
          8,
          9,
          10
         ],
         "y": [
          0.141937162302452,
          0.1054320314994946,
          0.04783973507329202,
          0.038524037230245785,
          0.037273724065006404,
          0.03183131865083229,
          0.02438013562141628,
          0.022012408759931757,
          0.01116970178439591,
          0.011122839885022256
         ]
        },
        {
         "hovertext": "<b>Topic 61</b>:password_retrieve_recover_account_",
         "line": {
          "color": "black",
          "width": 1.5
         },
         "mode": "lines+lines",
         "name": "",
         "opacity": 0.1,
         "type": "scatter",
         "x": [
          1,
          2,
          3,
          4,
          5,
          6,
          7,
          8,
          9,
          10
         ],
         "y": [
          0.11917649558139744,
          0.11769830771978666,
          0.08400409606500397,
          0.01705523467572912,
          0.015070879839973562,
          0.012858170167835878,
          0.012858170167835878,
          0.012207054772825264,
          0.011557271232927907,
          0.00954546908121661
         ]
        },
        {
         "hovertext": "<b>Topic 62</b>:notify_pay_try_for_when_order_issu",
         "line": {
          "color": "black",
          "width": 1.5
         },
         "mode": "lines+lines",
         "name": "",
         "opacity": 0.1,
         "type": "scatter",
         "x": [
          1,
          2,
          3,
          4,
          5,
          6,
          7,
          8,
          9,
          10
         ],
         "y": [
          0.05262709148054208,
          0.033425243229680816,
          0.03192982146119836,
          0.025807343826316758,
          0.02395551933289511,
          0.02132644276106169,
          0.02101716609804348,
          0.01957945964474864,
          0.019265735589873188,
          0.01845267085588431
         ]
        },
        {
         "hovertext": "<b>Topic 63</b>:lose_password_retrieve_recover_aps",
         "line": {
          "color": "black",
          "width": 1.5
         },
         "mode": "lines+lines",
         "name": "",
         "opacity": 0.1,
         "type": "scatter",
         "x": [
          1,
          2,
          3,
          4,
          5,
          6,
          7,
          8,
          9,
          10
         ],
         "y": [
          0.17164402525169667,
          0.10840578152054813,
          0.08142881256102594,
          0.06340111665330571,
          0.03227006176163096,
          0.020739347703519543,
          0.015049487976036634,
          0.014579233594311937,
          0.012810012227132373,
          0.012810012227132373
         ]
        },
        {
         "hovertext": "<b>Topic 64</b>:inform_pay_of_problem_issue_ofissu",
         "line": {
          "color": "black",
          "width": 1.5
         },
         "mode": "lines+lines",
         "name": "",
         "opacity": 0.1,
         "type": "scatter",
         "x": [
          1,
          2,
          3,
          4,
          5,
          6,
          7,
          8,
          9,
          10
         ],
         "y": [
          0.08995012653548907,
          0.05632293888794228,
          0.050462720929958425,
          0.03393919072491343,
          0.0317495655168545,
          0.015798028936001587,
          0.015798028936001587,
          0.015798028936001587,
          0.015798028936001587,
          0.015704733056143005
         ]
        },
        {
         "hovertext": "<b>Topic 65</b>:close_mind_change_closing_my_accou",
         "line": {
          "color": "black",
          "width": 1.5
         },
         "mode": "lines+lines",
         "name": "",
         "opacity": 0.1,
         "type": "scatter",
         "x": [
          1,
          2,
          3,
          4,
          5,
          6,
          7,
          8,
          9,
          10
         ],
         "y": [
          0.16796265435963822,
          0.1570389821789716,
          0.07750774466944726,
          0.0436865314887545,
          0.025585027761837846,
          0.01997809507703756,
          0.01978123857324038,
          0.01893127964099195,
          0.01339256205149897,
          0.01255146152163062
         ]
        },
        {
         "hovertext": "<b>Topic 66</b>:profile_create_one_need_complaimt_",
         "line": {
          "color": "black",
          "width": 1.5
         },
         "mode": "lines+lines",
         "name": "",
         "opacity": 0.1,
         "type": "scatter",
         "x": [
          1,
          2,
          3,
          4,
          5,
          6,
          7,
          8,
          9,
          10
         ],
         "y": [
          0.11087665771447132,
          0.0835602730922501,
          0.04067879527066611,
          0.02790834014121889,
          0.018844480796938533,
          0.018844480796938533,
          0.018844480796938533,
          0.018844480796938533,
          0.015823887034628958,
          0.015823887034628958
         ]
        },
        {
         "hovertext": "<b>Topic 67</b>:way_out_on_package_their_shipment_",
         "line": {
          "color": "black",
          "width": 1.5
         },
         "mode": "lines+lines",
         "name": "",
         "opacity": 0.1,
         "type": "scatter",
         "x": [
          1,
          2,
          3,
          4,
          5,
          6,
          7,
          8,
          9,
          10
         ],
         "y": [
          0.17790624377150102,
          0.15289814841241336,
          0.1227885879075913,
          0.05339223810251398,
          0.051463730161083604,
          0.04839310041069903,
          0.04256176054520295,
          0.03560026174665604,
          0.03322293216925015,
          0.032700835630378476
         ]
        },
        {
         "hovertext": "<b>Topic 68</b>:notify_make_payment_issue_problem_",
         "line": {
          "color": "black",
          "width": 1.5
         },
         "mode": "lines+lines",
         "name": "",
         "opacity": 0.1,
         "type": "scatter",
         "x": [
          1,
          2,
          3,
          4,
          5,
          6,
          7,
          8,
          9,
          10
         ],
         "y": [
          0.07248734642994405,
          0.042884415698627595,
          0.032663454195540224,
          0.03017591290325978,
          0.024335413631661112,
          0.014046296774720097,
          0.012625191572726175,
          0.012625191572726175,
          0.012625191572726175,
          0.012625191572726175
         ]
        },
        {
         "hovertext": "<b>Topic 69</b>:update_on_profile_edit_information",
         "line": {
          "color": "black",
          "width": 1.5
         },
         "mode": "lines+lines",
         "name": "",
         "opacity": 0.1,
         "type": "scatter",
         "x": [
          1,
          2,
          3,
          4,
          5,
          6,
          7,
          8,
          9,
          10
         ],
         "y": [
          0.16886572297350216,
          0.11632603064929702,
          0.07565456156081407,
          0.05636821094053646,
          0.025795615634899644,
          0.017743346359052302,
          0.017234699318022337,
          0.014072423743553143,
          0.012858170167835878,
          0.01223143871070318
         ]
        },
        {
         "hovertext": "<b>Topic 70</b>:option_your_payment_view_see_check",
         "line": {
          "color": "black",
          "width": 1.5
         },
         "mode": "lines+lines",
         "name": "",
         "opacity": 0.1,
         "type": "scatter",
         "x": [
          1,
          2,
          3,
          4,
          5,
          6,
          7,
          8,
          9,
          10
         ],
         "y": [
          0.16236932180324795,
          0.14130538197891276,
          0.04099768606502085,
          0.03865696631594996,
          0.028210311148045245,
          0.022213319820018125,
          0.01763027456002239,
          0.01763027456002239,
          0.01763027456002239,
          0.01763027456002239
         ]
        },
        {
         "hovertext": "<b>Topic 71</b>:notify_online_for_order_pay_try_ha",
         "line": {
          "color": "black",
          "width": 1.5
         },
         "mode": "lines+lines",
         "name": "",
         "opacity": 0.1,
         "type": "scatter",
         "x": [
          1,
          2,
          3,
          4,
          5,
          6,
          7,
          8,
          9,
          10
         ],
         "y": [
          0.04568766744354972,
          0.0414189891945791,
          0.03770493176383904,
          0.03193722206922927,
          0.02848041434292674,
          0.020661328003808228,
          0.017496095769373898,
          0.017485593106159124,
          0.01683797854667175,
          0.015426181480534946
         ]
        },
        {
         "hovertext": "<b>Topic 72</b>:inform_pay_of_ask_agent_issue_plea",
         "line": {
          "color": "black",
          "width": 1.5
         },
         "mode": "lines+lines",
         "name": "",
         "opacity": 0.1,
         "type": "scatter",
         "x": [
          1,
          2,
          3,
          4,
          5,
          6,
          7,
          8,
          9,
          10
         ],
         "y": [
          0.05639888257476449,
          0.03283518696448511,
          0.031640211990240544,
          0.026974332784350324,
          0.025382278637871056,
          0.02099727478051741,
          0.019449664713112755,
          0.01875608982826843,
          0.01857451230584233,
          0.017980077742804464
         ]
        },
        {
         "hovertext": "<b>Topic 73</b>:report_payment_problem_issue_with_",
         "line": {
          "color": "black",
          "width": 1.5
         },
         "mode": "lines+lines",
         "name": "",
         "opacity": 0.1,
         "type": "scatter",
         "x": [
          1,
          2,
          3,
          4,
          5,
          6,
          7,
          8,
          9,
          10
         ],
         "y": [
          0.08341939828565242,
          0.03968507823674367,
          0.029468212766295798,
          0.029468212766295798,
          0.021630455895001545,
          0.01848796359267213,
          0.01848796359267213,
          0.016617481880858508,
          0.016617481880858508,
          0.014257944728499596
         ]
        },
        {
         "hovertext": "<b>Topic 74</b>:invoice_view_see_where_canm_viewmy",
         "line": {
          "color": "black",
          "width": 1.5
         },
         "mode": "lines+lines",
         "name": "",
         "opacity": 0.1,
         "type": "scatter",
         "x": [
          1,
          2,
          3,
          4,
          5,
          6,
          7,
          8,
          9,
          10
         ],
         "y": [
          0.09466710939171145,
          0.0636527516344423,
          0.05067407743259979,
          0.03194514634520592,
          0.023751897671141275,
          0.023751897671141275,
          0.01817839432907695,
          0.014121365872600026,
          0.013941869547433308,
          0.010890687197456813
         ]
        },
        {
         "hovertext": "<b>Topic 75</b>:check_order_ploease_mky_wanty_kkno",
         "line": {
          "color": "black",
          "width": 1.5
         },
         "mode": "lines+lines",
         "name": "",
         "opacity": 0.1,
         "type": "scatter",
         "x": [
          1,
          2,
          3,
          4,
          5,
          6,
          7,
          8,
          9,
          10
         ],
         "y": [
          0.08471438721104349,
          0.062441363660993114,
          0.021924828619515023,
          0.021924828619515023,
          0.021924828619515023,
          0.021924828619515023,
          0.02078057464573111,
          0.018410483953751,
          0.018342600641663646,
          0.018258233408766807
         ]
        },
        {
         "hovertext": "<b>Topic 76</b>:no_account_have_crezte_acxcount_do",
         "line": {
          "color": "black",
          "width": 1.5
         },
         "mode": "lines+lines",
         "name": "",
         "opacity": 0.1,
         "type": "scatter",
         "x": [
          1,
          2,
          3,
          4,
          5,
          6,
          7,
          8,
          9,
          10
         ],
         "y": [
          0.05390247342148418,
          0.03520537330594949,
          0.0252162759587975,
          0.021112797929903355,
          0.021112797929903355,
          0.021112797929903355,
          0.021112797929903355,
          0.021112797929903355,
          0.021112797929903355,
          0.018976753999745823
         ]
        },
        {
         "hovertext": "<b>Topic 77</b>:notify_pay_problem_ask_agent_issue",
         "line": {
          "color": "black",
          "width": 1.5
         },
         "mode": "lines+lines",
         "name": "",
         "opacity": 0.1,
         "type": "scatter",
         "x": [
          1,
          2,
          3,
          4,
          5,
          6,
          7,
          8,
          9,
          10
         ],
         "y": [
          0.062073246984807616,
          0.037632778551551116,
          0.029155932013003368,
          0.029131995815024223,
          0.028717955697342458,
          0.018357438674853975,
          0.01793567384588357,
          0.015582110545076735,
          0.015582110545076735,
          0.015234762647441972
         ]
        },
        {
         "hovertext": "<b>Topic 78</b>:place_order_tack_mlake_chahge_wnna",
         "line": {
          "color": "black",
          "width": 1.5
         },
         "mode": "lines+lines",
         "name": "",
         "opacity": 0.1,
         "type": "scatter",
         "x": [
          1,
          2,
          3,
          4,
          5,
          6,
          7,
          8,
          9,
          10
         ],
         "y": [
          0.2801963400193415,
          0.07099999324012658,
          0.0418830205341933,
          0.02736218611715475,
          0.02736218611715475,
          0.02736218611715475,
          0.02736218611715475,
          0.02736218611715475,
          0.02736218611715475,
          0.026299265005106508
         ]
        },
        {
         "hovertext": "<b>Topic 79</b>:cancel_show_reimbursement_request_",
         "line": {
          "color": "black",
          "width": 1.5
         },
         "mode": "lines+lines",
         "name": "",
         "opacity": 0.1,
         "type": "scatter",
         "x": [
          1,
          2,
          3,
          4,
          5,
          6,
          7,
          8,
          9,
          10
         ],
         "y": [
          0.10504129874878909,
          0.10413116624597557,
          0.08579508676195294,
          0.03366924491199828,
          0.033234963761717015,
          0.029738387416188897,
          0.02479810890254181,
          0.02206052809545625,
          0.01848796359267213,
          0.015524516198838682
         ]
        },
        {
         "hovertext": "<b>Topic 80</b>:mind_cancel_change_account_user_my",
         "line": {
          "color": "black",
          "width": 1.5
         },
         "mode": "lines+lines",
         "name": "",
         "opacity": 0.1,
         "type": "scatter",
         "x": [
          1,
          2,
          3,
          4,
          5,
          6,
          7,
          8,
          9,
          10
         ],
         "y": [
          0.15692661583959217,
          0.10254691434578354,
          0.07616141401226029,
          0.02667636706008502,
          0.025408208207698957,
          0.024834016063024,
          0.02073985152282061,
          0.018048935433479386,
          0.01515586014134647,
          0.012827038712468179
         ]
        },
        {
         "hovertext": "<b>Topic 81</b>:retrieve_password_recover_ask_agen",
         "line": {
          "color": "black",
          "width": 1.5
         },
         "mode": "lines+lines",
         "name": "",
         "opacity": 0.1,
         "type": "scatter",
         "x": [
          1,
          2,
          3,
          4,
          5,
          6,
          7,
          8,
          9,
          10
         ],
         "y": [
          0.09542400897425762,
          0.0893662196076054,
          0.054034827001081684,
          0.02961458854940207,
          0.02786670366664023,
          0.027455922017939074,
          0.020617079449526263,
          0.017058719524410692,
          0.017058719524410692,
          0.01300919557540419
         ]
        },
        {
         "hovertext": "<b>Topic 82</b>:track_delivery_ho_trackig_fefund_s",
         "line": {
          "color": "black",
          "width": 1.5
         },
         "mode": "lines+lines",
         "name": "",
         "opacity": 0.1,
         "type": "scatter",
         "x": [
          1,
          2,
          3,
          4,
          5,
          6,
          7,
          8,
          9,
          10
         ],
         "y": [
          0.13252155192014714,
          0.11658221366729504,
          0.03537417274847407,
          0.023109954490840162,
          0.023109954490840162,
          0.023109954490840162,
          0.0219944742221438,
          0.01718586006065783,
          0.014917396535688675,
          0.014395040350889014
         ]
        },
        {
         "hovertext": "<b>Topic 83</b>:invoice_see_ask_agent_view_could_p",
         "line": {
          "color": "black",
          "width": 1.5
         },
         "mode": "lines+lines",
         "name": "",
         "opacity": 0.1,
         "type": "scatter",
         "x": [
          1,
          2,
          3,
          4,
          5,
          6,
          7,
          8,
          9,
          10
         ],
         "y": [
          0.058482968153404674,
          0.03976603351659057,
          0.03069878085009981,
          0.028106178588109997,
          0.02724596354330351,
          0.020399675247552113,
          0.018236230778178347,
          0.01675331960740503,
          0.015651419601009024,
          0.014265333969411886
         ]
        },
        {
         "hovertext": "<b>Topic 84</b>:track_order_ask_agent_delivey_plas",
         "line": {
          "color": "black",
          "width": 1.5
         },
         "mode": "lines+lines",
         "name": "",
         "opacity": 0.1,
         "type": "scatter",
         "x": [
          1,
          2,
          3,
          4,
          5,
          6,
          7,
          8,
          9,
          10
         ],
         "y": [
          0.09720778593569532,
          0.038454814984344186,
          0.030537120732558817,
          0.028734787007662597,
          0.019600419854695378,
          0.019600419854695378,
          0.019600419854695378,
          0.017993943186561966,
          0.017617387667385808,
          0.017617387667385808
         ]
        },
        {
         "hovertext": "<b>Topic 85</b>:notify_make_payment_ask_agent_prob",
         "line": {
          "color": "black",
          "width": 1.5
         },
         "mode": "lines+lines",
         "name": "",
         "opacity": 0.1,
         "type": "scatter",
         "x": [
          1,
          2,
          3,
          4,
          5,
          6,
          7,
          8,
          9,
          10
         ],
         "y": [
          0.05645750433632019,
          0.036324951664511745,
          0.028731485049392,
          0.028599327120169136,
          0.026911364059425763,
          0.024881279815885112,
          0.023114549155213014,
          0.01957564844339392,
          0.018896537373725656,
          0.018896537373725656
         ]
        },
        {
         "hovertext": "<b>Topic 86</b>:no_online_account_have_regiksterin",
         "line": {
          "color": "black",
          "width": 1.5
         },
         "mode": "lines+lines",
         "name": "",
         "opacity": 0.1,
         "type": "scatter",
         "x": [
          1,
          2,
          3,
          4,
          5,
          6,
          7,
          8,
          9,
          10
         ],
         "y": [
          0.06674793696167601,
          0.06664782194139705,
          0.030773042134337146,
          0.030183043904794368,
          0.02460628247945571,
          0.02460628247945571,
          0.022116792431358445,
          0.022116792431358445,
          0.01976796143137693,
          0.019631135208224224
         ]
        },
        {
         "hovertext": "<b>Topic 87</b>:hour_customer_of_support_client_se",
         "line": {
          "color": "black",
          "width": 1.5
         },
         "mode": "lines+lines",
         "name": "",
         "opacity": 0.1,
         "type": "scatter",
         "x": [
          1,
          2,
          3,
          4,
          5,
          6,
          7,
          8,
          9,
          10
         ],
         "y": [
          0.3703116306364281,
          0.04095819668026372,
          0.03992590361950033,
          0.03285312969345414,
          0.028271947955693967,
          0.022726068203616903,
          0.02261190115759459,
          0.021826355080262604,
          0.02042680496982607,
          0.02042680496982607
         ]
        },
        {
         "hovertext": "<b>Topic 88</b>:user_no_account_have_opdn_opn_not_",
         "line": {
          "color": "black",
          "width": 1.5
         },
         "mode": "lines+lines",
         "name": "",
         "opacity": 0.1,
         "type": "scatter",
         "x": [
          1,
          2,
          3,
          4,
          5,
          6,
          7,
          8,
          9,
          10
         ],
         "y": [
          0.08254037923472489,
          0.06549150520710328,
          0.03421962285338291,
          0.033563544822131336,
          0.02736218611715475,
          0.02736218611715475,
          0.02444829204380143,
          0.02094151026709665,
          0.019234226472729755,
          0.015534552123130691
         ]
        },
        {
         "hovertext": "<b>Topic 89</b>:card_inform_try_pay_when_of_with_i",
         "line": {
          "color": "black",
          "width": 1.5
         },
         "mode": "lines+lines",
         "name": "",
         "opacity": 0.1,
         "type": "scatter",
         "x": [
          1,
          2,
          3,
          4,
          5,
          6,
          7,
          8,
          9,
          10
         ],
         "y": [
          0.04711534106133977,
          0.04206091230007211,
          0.0384985374313477,
          0.027186324853038676,
          0.02688813020932814,
          0.025956149005333908,
          0.02112693916310446,
          0.017405865179829144,
          0.01716902940770615,
          0.017086854632680105
         ]
        },
        {
         "hovertext": "<b>Topic 90</b>:card_notify_pay_with_problem_have_",
         "line": {
          "color": "black",
          "width": 1.5
         },
         "mode": "lines+lines",
         "name": "",
         "opacity": 0.1,
         "type": "scatter",
         "x": [
          1,
          2,
          3,
          4,
          5,
          6,
          7,
          8,
          9,
          10
         ],
         "y": [
          0.06732840404753182,
          0.06307906348687625,
          0.040063643656402186,
          0.029275788499864914,
          0.026336325419153248,
          0.02249019207135993,
          0.02211745250734818,
          0.021112797929903355,
          0.018976753999745823,
          0.018976753999745823
         ]
        },
        {
         "hovertext": "<b>Topic 91</b>:card_notify_try_when_pay_with_have",
         "line": {
          "color": "black",
          "width": 1.5
         },
         "mode": "lines+lines",
         "name": "",
         "opacity": 0.1,
         "type": "scatter",
         "x": [
          1,
          2,
          3,
          4,
          5,
          6,
          7,
          8,
          9,
          10
         ],
         "y": [
          0.051218790312187984,
          0.04798618609083081,
          0.04054365747686063,
          0.029201372041047734,
          0.02857279450731743,
          0.02296696240667369,
          0.0187129487188511,
          0.018365282616746092,
          0.01721745245319946,
          0.016825427221086358
         ]
        },
        {
         "hovertext": "<b>Topic 92</b>:on_edit_profile_information_change",
         "line": {
          "color": "black",
          "width": 1.5
         },
         "mode": "lines+lines",
         "name": "",
         "opacity": 0.1,
         "type": "scatter",
         "x": [
          1,
          2,
          3,
          4,
          5,
          6,
          7,
          8,
          9,
          10
         ],
         "y": [
          0.24931109778664154,
          0.09469859438010127,
          0.07565456156081407,
          0.055285418200229364,
          0.041994693237568936,
          0.02251587798968503,
          0.021654621930242465,
          0.021573572968132095,
          0.02015463506515899,
          0.02015463506515899
         ]
        },
        {
         "hovertext": "<b>Topic 93</b>:notify_try_when_make_payment_have_",
         "line": {
          "color": "black",
          "width": 1.5
         },
         "mode": "lines+lines",
         "name": "",
         "opacity": 0.1,
         "type": "scatter",
         "x": [
          1,
          2,
          3,
          4,
          5,
          6,
          7,
          8,
          9,
          10
         ],
         "y": [
          0.04922813625968804,
          0.04293469368703446,
          0.03192103663312546,
          0.03173365309816773,
          0.025099964012983176,
          0.020382719527610123,
          0.01944836338645163,
          0.01944836338645163,
          0.017817696005919655,
          0.01753986289561202
         ]
        },
        {
         "hovertext": "<b>Topic 94</b>:inform_make_of_payment_problem_iss",
         "line": {
          "color": "black",
          "width": 1.5
         },
         "mode": "lines+lines",
         "name": "",
         "opacity": 0.1,
         "type": "scatter",
         "x": [
          1,
          2,
          3,
          4,
          5,
          6,
          7,
          8,
          9,
          10
         ],
         "y": [
          0.07404639693891021,
          0.04264586698434851,
          0.041540604872,
          0.03373105905261879,
          0.030642264556125072,
          0.02343231995468388,
          0.023378206448356073,
          0.02184057412003921,
          0.02184057412003921,
          0.017291030696393365
         ]
        },
        {
         "hovertext": "<b>Topic 95</b>:profile_edit_change_modify_wantr_i",
         "line": {
          "color": "black",
          "width": 1.5
         },
         "mode": "lines+lines",
         "name": "",
         "opacity": 0.1,
         "type": "scatter",
         "x": [
          1,
          2,
          3,
          4,
          5,
          6,
          7,
          8,
          9,
          10
         ],
         "y": [
          0.11530240665685568,
          0.09621782316694781,
          0.056472888830011704,
          0.05147346438818369,
          0.03658046272346891,
          0.03658046272346891,
          0.03287950960383768,
          0.02918425448067558,
          0.02431840146070297,
          0.01864149750026955
         ]
        },
        {
         "hovertext": "<b>Topic 96</b>:inform_try_when_make_of_payment_pr",
         "line": {
          "color": "black",
          "width": 1.5
         },
         "mode": "lines+lines",
         "name": "",
         "opacity": 0.1,
         "type": "scatter",
         "x": [
          1,
          2,
          3,
          4,
          5,
          6,
          7,
          8,
          9,
          10
         ],
         "y": [
          0.04624916599305639,
          0.04123253025841773,
          0.02969752931039821,
          0.029523198254497653,
          0.02687278993712841,
          0.023351588657116982,
          0.019299902597242076,
          0.017979667776687473,
          0.01740597081243941,
          0.016576577868102734
         ]
        },
        {
         "hovertext": "<b>Topic 97</b>:like_complaint_file_service_submit",
         "line": {
          "color": "black",
          "width": 1.5
         },
         "mode": "lines+lines",
         "name": "",
         "opacity": 0.1,
         "type": "scatter",
         "x": [
          1,
          2,
          3,
          4,
          5,
          6,
          7,
          8,
          9,
          10
         ],
         "y": [
          0.08998434765369723,
          0.07847000830844925,
          0.03704627797699783,
          0.03241039165921891,
          0.032363379272952374,
          0.031427416217980716,
          0.031261043618617354,
          0.021716020727900593,
          0.021716020727900593,
          0.0204309302299678
         ]
        },
        {
         "hovertext": "<b>Topic 98</b>:card_pay_with_issue_have_tryng_rep",
         "line": {
          "color": "black",
          "width": 1.5
         },
         "mode": "lines+lines",
         "name": "",
         "opacity": 0.1,
         "type": "scatter",
         "x": [
          1,
          2,
          3,
          4,
          5,
          6,
          7,
          8,
          9,
          10
         ],
         "y": [
          0.06587708887124952,
          0.0392000412158237,
          0.029539874220868855,
          0.029322919023387125,
          0.02579943307904832,
          0.02350703274669652,
          0.02350703274669652,
          0.022274067892176175,
          0.021128757030644835,
          0.021128757030644835
         ]
        },
        {
         "hovertext": "<b>Topic 99</b>:error_for_message_order_attempt_ma",
         "line": {
          "color": "black",
          "width": 1.5
         },
         "mode": "lines+lines",
         "name": "",
         "opacity": 0.1,
         "type": "scatter",
         "x": [
          1,
          2,
          3,
          4,
          5,
          6,
          7,
          8,
          9,
          10
         ],
         "y": [
          0.036864027808175444,
          0.03520719149655912,
          0.03466547762023796,
          0.029821560221940654,
          0.02825439941756878,
          0.02664100479069752,
          0.024950157047714604,
          0.022843499373788306,
          0.021071896747835488,
          0.019245112103988323
         ]
        },
        {
         "hovertext": "<b>Topic 100</b>:bill_check_checkl_tocheck_my_want",
         "line": {
          "color": "black",
          "width": 1.5
         },
         "mode": "lines+lines",
         "name": "",
         "opacity": 0.1,
         "type": "scatter",
         "x": [
          1,
          2,
          3,
          4,
          5,
          6,
          7,
          8,
          9,
          10
         ],
         "y": [
          0.08801096345420555,
          0.08080095084531594,
          0.03562784650671191,
          0.03562784650671191,
          0.01755084044166003,
          0.014743670321238207,
          0.012500274656819708,
          0.008668834890139894,
          0.008308528173629622,
          0.008258031251392321
         ]
        },
        {
         "hovertext": "<b>Topic 101</b>:mistake_modify_order_make_change_",
         "line": {
          "color": "black",
          "width": 1.5
         },
         "mode": "lines+lines",
         "name": "",
         "opacity": 0.1,
         "type": "scatter",
         "x": [
          1,
          2,
          3,
          4,
          5,
          6,
          7,
          8,
          9,
          10
         ],
         "y": [
          0.31959024698427785,
          0.06654692828062464,
          0.05387533362394429,
          0.04469156144658622,
          0.03754819630653223,
          0.03040242901906083,
          0.03040242901906083,
          0.03040242901906083,
          0.03040242901906083,
          0.03040242901906083
         ]
        },
        {
         "hovertext": "<b>Topic 102</b>:error_message_attempt_pay_when_ge",
         "line": {
          "color": "black",
          "width": 1.5
         },
         "mode": "lines+lines",
         "name": "",
         "opacity": 0.1,
         "type": "scatter",
         "x": [
          1,
          2,
          3,
          4,
          5,
          6,
          7,
          8,
          9,
          10
         ],
         "y": [
          0.052326848663278004,
          0.04464998363061244,
          0.0383919381004727,
          0.03713464237192269,
          0.03536705763329241,
          0.031224393624561288,
          0.02832934334188491,
          0.023917994857652752,
          0.023917994857652752,
          0.02149814089481695
         ]
        },
        {
         "hovertext": "<b>Topic 103</b>:inform_where_of_payment_issue_paz",
         "line": {
          "color": "black",
          "width": 1.5
         },
         "mode": "lines+lines",
         "name": "",
         "opacity": 0.1,
         "type": "scatter",
         "x": [
          1,
          2,
          3,
          4,
          5,
          6,
          7,
          8,
          9,
          10
         ],
         "y": [
          0.08279847957029501,
          0.051021529211509015,
          0.04830861498549932,
          0.040579342329663495,
          0.03627963195495601,
          0.03490074759841167,
          0.03490074759841167,
          0.03490074759841167,
          0.031369736203661465,
          0.031369736203661465
         ]
        },
        {
         "hovertext": "<b>Topic 104</b>:profile_no_have_prfofile_get_not_",
         "line": {
          "color": "black",
          "width": 1.5
         },
         "mode": "lines+lines",
         "name": "",
         "opacity": 0.1,
         "type": "scatter",
         "x": [
          1,
          2,
          3,
          4,
          5,
          6,
          7,
          8,
          9,
          10
         ],
         "y": [
          0.09927048823587482,
          0.07839682943760061,
          0.03903872616706174,
          0.03779307474745131,
          0.024668996068023558,
          0.024388259405265397,
          0.018704197242015604,
          0.018614788677171642,
          0.01839134031941281,
          0.007394582743390042
         ]
        },
        {
         "hovertext": "<b>Topic 105</b>:make_payment_try_iut_repolrt_prob",
         "line": {
          "color": "black",
          "width": 1.5
         },
         "mode": "lines+lines",
         "name": "",
         "opacity": 0.1,
         "type": "scatter",
         "x": [
          1,
          2,
          3,
          4,
          5,
          6,
          7,
          8,
          9,
          10
         ],
         "y": [
          0.04207364571331339,
          0.033278456471188475,
          0.03164036003930465,
          0.028621533595350152,
          0.028621533595350152,
          0.02578535626812494,
          0.02309757268644801,
          0.02278881537877419,
          0.01946377282551145,
          0.015867911549615345
         ]
        },
        {
         "hovertext": "<b>Topic 106</b>:report_where_payment_issue_ayment",
         "line": {
          "color": "black",
          "width": 1.5
         },
         "mode": "lines+lines",
         "name": "",
         "opacity": 0.1,
         "type": "scatter",
         "x": [
          1,
          2,
          3,
          4,
          5,
          6,
          7,
          8,
          9,
          10
         ],
         "y": [
          0.10801083904567259,
          0.06579091924641953,
          0.04830091759077355,
          0.04678163067875906,
          0.040450449315247675,
          0.040450449315247675,
          0.03118775378583937,
          0.027732218241051074,
          0.019501142010600808,
          0.014842165247312147
         ]
        },
        {
         "hovertext": "<b>Topic 107</b>:cancel_online_mt_don_rpofile_acco",
         "line": {
          "color": "black",
          "width": 1.5
         },
         "mode": "lines+lines",
         "name": "",
         "opacity": 0.1,
         "type": "scatter",
         "x": [
          1,
          2,
          3,
          4,
          5,
          6,
          7,
          8,
          9,
          10
         ],
         "y": [
          0.11125982061448518,
          0.060626856379754276,
          0.032115241921543136,
          0.028866048337641538,
          0.028866048337641538,
          0.027993004894999535,
          0.023728264817070396,
          0.020133097350819442,
          0.015941765808425556,
          0.01529247676564407
         ]
        },
        {
         "hovertext": "<b>Topic 108</b>:know_order_where_may_be_ell_how_t",
         "line": {
          "color": "black",
          "width": 1.5
         },
         "mode": "lines+lines",
         "name": "",
         "opacity": 0.1,
         "type": "scatter",
         "x": [
          1,
          2,
          3,
          4,
          5,
          6,
          7,
          8,
          9,
          10
         ],
         "y": [
          0.07948460278054247,
          0.05203446971749427,
          0.04807797944930657,
          0.0276157259306265,
          0.026897573563380833,
          0.025170084455645014,
          0.018534273565338783,
          0.01564991435037155,
          0.013966186027846179,
          0.009047647825579505
         ]
        },
        {
         "hovertext": "<b>Topic 109</b>:informing_inform_make_of_payment_",
         "line": {
          "color": "black",
          "width": 1.5
         },
         "mode": "lines+lines",
         "name": "",
         "opacity": 0.1,
         "type": "scatter",
         "x": [
          1,
          2,
          3,
          4,
          5,
          6,
          7,
          8,
          9,
          10
         ],
         "y": [
          0.07325197865676748,
          0.05409500665259274,
          0.044763182538648055,
          0.042149610653302465,
          0.035405765209286164,
          0.031669196894855034,
          0.031669196894855034,
          0.028531019204082686,
          0.024237859105435935,
          0.023546268568998475
         ]
        },
        {
         "hovertext": "<b>Topic 110</b>:invoice_see_some_tedlo_possible_a",
         "line": {
          "color": "black",
          "width": 1.5
         },
         "mode": "lines+lines",
         "name": "",
         "opacity": 0.1,
         "type": "scatter",
         "x": [
          1,
          2,
          3,
          4,
          5,
          6,
          7,
          8,
          9,
          10
         ],
         "y": [
          0.09417010052781465,
          0.08292121761698147,
          0.044902755878428145,
          0.044419133307069404,
          0.04210090447706563,
          0.03729916229591112,
          0.029127486883627665,
          0.021643438572277903,
          0.01651628109725558,
          0.014502321576548237
         ]
        },
        {
         "hovertext": "<b>Topic 111</b>:notify_make_payment_havean_anb_is",
         "line": {
          "color": "black",
          "width": 1.5
         },
         "mode": "lines+lines",
         "name": "",
         "opacity": 0.1,
         "type": "scatter",
         "x": [
          1,
          2,
          3,
          4,
          5,
          6,
          7,
          8,
          9,
          10
         ],
         "y": [
          0.08324216589177219,
          0.04990372866244119,
          0.041116372501106516,
          0.03677713187789617,
          0.03677713187789617,
          0.03313279649506376,
          0.033056281160847564,
          0.033056281160847564,
          0.02803544318813088,
          0.02717269035503223
         ]
        },
        {
         "hovertext": "<b>Topic 112</b>:invoice_check_chdck_iwanna_my_hel",
         "line": {
          "color": "black",
          "width": 1.5
         },
         "mode": "lines+lines",
         "name": "",
         "opacity": 0.1,
         "type": "scatter",
         "x": [
          1,
          2,
          3,
          4,
          5,
          6,
          7,
          8,
          9,
          10
         ],
         "y": [
          0.10663379030355483,
          0.10139727164902392,
          0.05029813624476976,
          0.05029813624476976,
          0.021360049219058864,
          0.017714375424974085,
          0.017647446574333706,
          0.010762561465722026,
          0.008210873245545692,
          0.008107182630416737
         ]
        },
        {
         "hovertext": "<b>Topic 113</b>:request_bill_some_osme_somr_rewqu",
         "line": {
          "color": "black",
          "width": 1.5
         },
         "mode": "lines+lines",
         "name": "",
         "opacity": 0.1,
         "type": "scatter",
         "x": [
          1,
          2,
          3,
          4,
          5,
          6,
          7,
          8,
          9,
          10
         ],
         "y": [
          0.1294298245967726,
          0.08828685989136607,
          0.057625203377316116,
          0.04145785775326477,
          0.04145785775326477,
          0.04145785775326477,
          0.03481255147618371,
          0.03468419030423671,
          0.028283242340217146,
          0.019728376878044133
         ]
        },
        {
         "hovertext": "<b>Topic 114</b>:error_for_attempt_message_order_p",
         "line": {
          "color": "black",
          "width": 1.5
         },
         "mode": "lines+lines",
         "name": "",
         "opacity": 0.1,
         "type": "scatter",
         "x": [
          1,
          2,
          3,
          4,
          5,
          6,
          7,
          8,
          9,
          10
         ],
         "y": [
          0.04111847103444749,
          0.03791626834148007,
          0.03529703903500432,
          0.032479598096706634,
          0.0321162305674742,
          0.029180425646691637,
          0.028860358602835052,
          0.02446065257235662,
          0.02029835765367563,
          0.02029835765367563
         ]
        },
        {
         "hovertext": "<b>Topic 115</b>:informing_inform_of_payment_waant",
         "line": {
          "color": "black",
          "width": 1.5
         },
         "mode": "lines+lines",
         "name": "",
         "opacity": 0.1,
         "type": "scatter",
         "x": [
          1,
          2,
          3,
          4,
          5,
          6,
          7,
          8,
          9,
          10
         ],
         "y": [
          0.08467659918121746,
          0.050621015399673945,
          0.04009240029848073,
          0.03508094167525602,
          0.03137865380407655,
          0.03137865380407655,
          0.03137865380407655,
          0.030443825713883575,
          0.029469786639712243,
          0.024015493425569554
         ]
        },
        {
         "hovertext": "<b>Topic 116</b>:file_complaint_ask_lodge_mje_agen",
         "line": {
          "color": "black",
          "width": 1.5
         },
         "mode": "lines+lines",
         "name": "",
         "opacity": 0.1,
         "type": "scatter",
         "x": [
          1,
          2,
          3,
          4,
          5,
          6,
          7,
          8,
          9,
          10
         ],
         "y": [
          0.09678559589962112,
          0.09371773504137067,
          0.03463492528854606,
          0.033512647625808814,
          0.03241965179757672,
          0.031232787448951617,
          0.02722308527758442,
          0.02504604677731238,
          0.022389841189600627,
          0.018189238492074485
         ]
        },
        {
         "hovertext": "<b>Topic 117</b>:card_error_message_attempt_pay_wh",
         "line": {
          "color": "black",
          "width": 1.5
         },
         "mode": "lines+lines",
         "name": "",
         "opacity": 0.1,
         "type": "scatter",
         "x": [
          1,
          2,
          3,
          4,
          5,
          6,
          7,
          8,
          9,
          10
         ],
         "y": [
          0.05184647156601381,
          0.043472705062302136,
          0.03875084947213283,
          0.03289243934207165,
          0.02956568355392247,
          0.026698661154544275,
          0.02469380149393409,
          0.022947385303949477,
          0.02235472721989767,
          0.02235472721989767
         ]
        },
        {
         "hovertext": "<b>Topic 118</b>:invoice_obtain_where_telo_gt_know",
         "line": {
          "color": "black",
          "width": 1.5
         },
         "mode": "lines+lines",
         "name": "",
         "opacity": 0.1,
         "type": "scatter",
         "x": [
          1,
          2,
          3,
          4,
          5,
          6,
          7,
          8,
          9,
          10
         ],
         "y": [
          0.08037361351072758,
          0.06076066103608876,
          0.05542290450252594,
          0.04120811162222101,
          0.03460283731066453,
          0.0344752493987895,
          0.02275994956971034,
          0.021306083978858453,
          0.01853318053629176,
          0.017158339829925432
         ]
        },
        {
         "hovertext": "<b>Topic 119</b>:track_shipment_rder_tell_apckage_",
         "line": {
          "color": "black",
          "width": 1.5
         },
         "mode": "lines+lines",
         "name": "",
         "opacity": 0.1,
         "type": "scatter",
         "x": [
          1,
          2,
          3,
          4,
          5,
          6,
          7,
          8,
          9,
          10
         ],
         "y": [
          0.10332188793774184,
          0.08397023143297142,
          0.046249623626155374,
          0.03103457591514358,
          0.028985366649528336,
          0.028985366649528336,
          0.028985366649528336,
          0.028985366649528336,
          0.028985366649528336,
          0.028985366649528336
         ]
        },
        {
         "hovertext": "<b>Topic 120</b>:package_know_where_cantrack_wasn_",
         "line": {
          "color": "black",
          "width": 1.5
         },
         "mode": "lines+lines",
         "name": "",
         "opacity": 0.1,
         "type": "scatter",
         "x": [
          1,
          2,
          3,
          4,
          5,
          6,
          7,
          8,
          9,
          10
         ],
         "y": [
          0.15488559161269821,
          0.08592930030328916,
          0.04144235201540228,
          0.030813272654453546,
          0.030813272654453546,
          0.027695803134764177,
          0.02458313327876727,
          0.022177170563248774,
          0.020107357950448147,
          0.018328728518453165
         ]
        },
        {
         "hovertext": "<b>Topic 121</b>:bill_check_ask_agent_hw_hwere_sak",
         "line": {
          "color": "black",
          "width": 1.5
         },
         "mode": "lines+lines",
         "name": "",
         "opacity": 0.1,
         "type": "scatter",
         "x": [
          1,
          2,
          3,
          4,
          5,
          6,
          7,
          8,
          9,
          10
         ],
         "y": [
          0.05878046198030425,
          0.057962475460187644,
          0.029381455261226392,
          0.028904026981266626,
          0.025193293831448735,
          0.02296218231041299,
          0.022167194763315762,
          0.019315481981041348,
          0.017267019338471242,
          0.01683302334134963
         ]
        },
        {
         "hovertext": "<b>Topic 122</b>:uptodate_stay_newsletter_keep_the",
         "line": {
          "color": "black",
          "width": 1.5
         },
         "mode": "lines+lines",
         "name": "",
         "opacity": 0.1,
         "type": "scatter",
         "x": [
          1,
          2,
          3,
          4,
          5,
          6,
          7,
          8,
          9,
          10
         ],
         "y": [
          0.33798538070112427,
          0.21934177895405038,
          0.16252861013412137,
          0.14396112829007515,
          0.12826374364013976,
          0.03738027483398884,
          0.030002397058283715,
          0.030002397058283715,
          0.027889334308962267,
          0.025193293831448735
         ]
        },
        {
         "hovertext": "<b>Topic 123</b>:delivery_ask_whee_otions_howw_way",
         "line": {
          "color": "black",
          "width": 1.5
         },
         "mode": "lines+lines",
         "name": "",
         "opacity": 0.1,
         "type": "scatter",
         "x": [
          1,
          2,
          3,
          4,
          5,
          6,
          7,
          8,
          9,
          10
         ],
         "y": [
          0.09491649254328446,
          0.030988807600537252,
          0.0302679049968526,
          0.0302679049968526,
          0.0302679049968526,
          0.02938864203895002,
          0.02915981483065837,
          0.028146170319323285,
          0.02796650412738565,
          0.02028366053930712
         ]
        },
        {
         "hovertext": "<b>Topic 124</b>:reimbursement_ancellation_whhat_w",
         "line": {
          "color": "black",
          "width": 1.5
         },
         "mode": "lines+lines",
         "name": "",
         "opacity": 0.1,
         "type": "scatter",
         "x": [
          1,
          2,
          3,
          4,
          5,
          6,
          7,
          8,
          9,
          10
         ],
         "y": [
          0.09678104299366642,
          0.045003595587425574,
          0.045003595587425574,
          0.045003595587425574,
          0.045003595587425574,
          0.045003595587425574,
          0.045003595587425574,
          0.029697014919340566,
          0.02738189309672191,
          0.02412983189471467
         ]
        },
        {
         "hovertext": "<b>Topic 125</b>:fuck_two_create_single_same_email",
         "line": {
          "color": "black",
          "width": 1.5
         },
         "mode": "lines+lines",
         "name": "",
         "opacity": 0.1,
         "type": "scatter",
         "x": [
          1,
          2,
          3,
          4,
          5,
          6,
          7,
          8,
          9,
          10
         ],
         "y": [
          0.07385744134971998,
          0.052411307888178896,
          0.04728687223035072,
          0.042758293873359006,
          0.0393789134278856,
          0.03632509404369172,
          0.02803520612549163,
          0.026543239748438783,
          0.02649273700190518,
          0.02397269046787259
         ]
        },
        {
         "hovertext": "<b>Topic 126</b>:track_delivery_where_tell_acn_me_",
         "line": {
          "color": "black",
          "width": 1.5
         },
         "mode": "lines+lines",
         "name": "",
         "opacity": 0.1,
         "type": "scatter",
         "x": [
          1,
          2,
          3,
          4,
          5,
          6,
          7,
          8,
          9,
          10
         ],
         "y": [
          0.11839488902510607,
          0.10415466804793871,
          0.04467103227614759,
          0.02891659301286926,
          0.02139744757685159,
          0.014859983343534982,
          0.012976500967192713,
          0.012911204512575426,
          0.010988414787044062,
          0.009920703201265544
         ]
        },
        {
         "hovertext": "<b>Topic 127</b>:report_pay_problem_ask_agent_coul",
         "line": {
          "color": "black",
          "width": 1.5
         },
         "mode": "lines+lines",
         "name": "",
         "opacity": 0.1,
         "type": "scatter",
         "x": [
          1,
          2,
          3,
          4,
          5,
          6,
          7,
          8,
          9,
          10
         ],
         "y": [
          0.06449790103013019,
          0.036876762911006555,
          0.033860989824625605,
          0.029906124105176863,
          0.02814103248020835,
          0.02752456182298392,
          0.02744851917820378,
          0.0257004195658106,
          0.017575358969515373,
          0.013137262290088802
         ]
        },
        {
         "hovertext": "<b>Topic 128</b>:soon_expect_ticket_arrive_sono_kn",
         "line": {
          "color": "black",
          "width": 1.5
         },
         "mode": "lines+lines",
         "name": "",
         "opacity": 0.1,
         "type": "scatter",
         "x": [
          1,
          2,
          3,
          4,
          5,
          6,
          7,
          8,
          9,
          10
         ],
         "y": [
          0.3728309175523805,
          0.35941494112118105,
          0.1539209712311372,
          0.15107786061234857,
          0.06148468295917647,
          0.030742341479588237,
          0.022319167324997443,
          0.01831039978993471,
          0.015896920556108494,
          0.012781853452684823
         ]
        },
        {
         "hovertext": "<b>Topic 129</b>:arrive_go_will_ticket_when_gtoiin",
         "line": {
          "color": "black",
          "width": 1.5
         },
         "mode": "lines+lines",
         "name": "",
         "opacity": 0.1,
         "type": "scatter",
         "x": [
          1,
          2,
          3,
          4,
          5,
          6,
          7,
          8,
          9,
          10
         ],
         "y": [
          0.3052077992168658,
          0.20584608119256892,
          0.15947007441240074,
          0.1554757285163002,
          0.04322640377402406,
          0.03619336787983432,
          0.025834779245057792,
          0.02461291907564676,
          0.020186565785534592,
          0.014208749971258953
         ]
        },
        {
         "hovertext": "<b>Topic 130</b>:credit_card_if_car_credot_with_te",
         "line": {
          "color": "black",
          "width": 1.5
         },
         "mode": "lines+lines",
         "name": "",
         "opacity": 0.1,
         "type": "scatter",
         "x": [
          1,
          2,
          3,
          4,
          5,
          6,
          7,
          8,
          9,
          10
         ],
         "y": [
          0.2378782690208815,
          0.07511846732575865,
          0.04332713673939616,
          0.038866741643685726,
          0.038866741643685726,
          0.03536798028286237,
          0.02974646344758047,
          0.028903491920197262,
          0.024584508607337706,
          0.023950552117271384
         ]
        },
        {
         "hovertext": "<b>Topic 131</b>:report_issue_pay_uask_ask_agent_a",
         "line": {
          "color": "black",
          "width": 1.5
         },
         "mode": "lines+lines",
         "name": "",
         "opacity": 0.1,
         "type": "scatter",
         "x": [
          1,
          2,
          3,
          4,
          5,
          6,
          7,
          8,
          9,
          10
         ],
         "y": [
          0.06505105627052582,
          0.04695816513415061,
          0.03896412684936542,
          0.029002208943007767,
          0.028726294166207623,
          0.028382379242474286,
          0.02082132136542376,
          0.020755173015096877,
          0.016713171548369335,
          0.0103866271030128
         ]
        },
        {
         "hovertext": "<b>Topic 132</b>:their_option_assk_optiond_ib_paym",
         "line": {
          "color": "black",
          "width": 1.5
         },
         "mode": "lines+lines",
         "name": "",
         "opacity": 0.1,
         "type": "scatter",
         "x": [
          1,
          2,
          3,
          4,
          5,
          6,
          7,
          8,
          9,
          10
         ],
         "y": [
          0.18560085868469509,
          0.10464999478348873,
          0.03181649548506366,
          0.03181649548506366,
          0.03181649548506366,
          0.02987917227708317,
          0.02832546215458612,
          0.027986346043742085,
          0.027129798582459973,
          0.02538351436226202
         ]
        },
        {
         "hovertext": "<b>Topic 133</b>:check_order_where_nills_ny_ot_tel",
         "line": {
          "color": "black",
          "width": 1.5
         },
         "mode": "lines+lines",
         "name": "",
         "opacity": 0.1,
         "type": "scatter",
         "x": [
          1,
          2,
          3,
          4,
          5,
          6,
          7,
          8,
          9,
          10
         ],
         "y": [
          0.0771254415227475,
          0.058110978261684876,
          0.05100783215668714,
          0.04590970825025965,
          0.04126488789206474,
          0.02328787861039188,
          0.021846860301189812,
          0.021338148397461065,
          0.018949207843130225,
          0.015597136610963786
         ]
        },
        {
         "hovertext": "<b>Topic 134</b>:comment_lodge_submnit_submita_ifl",
         "line": {
          "color": "black",
          "width": 1.5
         },
         "mode": "lines+lines",
         "name": "",
         "opacity": 0.1,
         "type": "scatter",
         "x": [
          1,
          2,
          3,
          4,
          5,
          6,
          7,
          8,
          9,
          10
         ],
         "y": [
          0.22404368929023147,
          0.059997794597963186,
          0.04145785775326477,
          0.04145785775326477,
          0.04145785775326477,
          0.03726344421768271,
          0.03481255147618371,
          0.030892316578727264,
          0.02970323024563676,
          0.01921869091233122
         ]
        },
        {
         "hovertext": "<b>Topic 135</b>:check_hsipment_deluvery_wherr_inv",
         "line": {
          "color": "black",
          "width": 1.5
         },
         "mode": "lines+lines",
         "name": "",
         "opacity": 0.1,
         "type": "scatter",
         "x": [
          1,
          2,
          3,
          4,
          5,
          6,
          7,
          8,
          9,
          10
         ],
         "y": [
          0.04882090857175226,
          0.04470945443979534,
          0.04470945443979534,
          0.04470945443979534,
          0.04470945443979534,
          0.04470945443979534,
          0.04470945443979534,
          0.04470945443979534,
          0.04470945443979534,
          0.04470945443979534
         ]
        },
        {
         "hovertext": "<b>Topic 136</b>:delivery_check_deliveriers_helptr",
         "line": {
          "color": "black",
          "width": 1.5
         },
         "mode": "lines+lines",
         "name": "",
         "opacity": 0.1,
         "type": "scatter",
         "x": [
          1,
          2,
          3,
          4,
          5,
          6,
          7,
          8,
          9,
          10
         ],
         "y": [
          0.12748558616855285,
          0.07440663099424777,
          0.04921256495891142,
          0.04921256495891142,
          0.04921256495891142,
          0.046044177153177636,
          0.04423358486271689,
          0.04423358486271689,
          0.03926227041644845,
          0.022873266987206462
         ]
        },
        {
         "hovertext": "<b>Topic 137</b>:sign_up_signing_find_while_issuea",
         "line": {
          "color": "black",
          "width": 1.5
         },
         "mode": "lines+lines",
         "name": "",
         "opacity": 0.1,
         "type": "scatter",
         "x": [
          1,
          2,
          3,
          4,
          5,
          6,
          7,
          8,
          9,
          10
         ],
         "y": [
          0.5866024844105948,
          0.38312265252960076,
          0.1498453302670516,
          0.09820632934352708,
          0.0905189716421319,
          0.059483013298162496,
          0.059483013298162496,
          0.04122207456910943,
          0.037575384096366765,
          0.032977659655287546
         ]
        },
        {
         "hovertext": "<b>Topic 138</b>:way_check_on_order_theit_awy_ask_",
         "line": {
          "color": "black",
          "width": 1.5
         },
         "mode": "lines+lines",
         "name": "",
         "opacity": 0.1,
         "type": "scatter",
         "x": [
          1,
          2,
          3,
          4,
          5,
          6,
          7,
          8,
          9,
          10
         ],
         "y": [
          0.0474416650057336,
          0.04377786966434049,
          0.0436581645893658,
          0.041231122671385935,
          0.0325740310918509,
          0.029278420456750703,
          0.028999877920171502,
          0.02728827392020203,
          0.023496172752792987,
          0.023338252335857457
         ]
        },
        {
         "hovertext": "<b>Topic 139</b>:view_bill_whwre_receiove_my_help_",
         "line": {
          "color": "black",
          "width": 1.5
         },
         "mode": "lines+lines",
         "name": "",
         "opacity": 0.1,
         "type": "scatter",
         "x": [
          1,
          2,
          3,
          4,
          5,
          6,
          7,
          8,
          9,
          10
         ],
         "y": [
          0.14618813772503494,
          0.10222689040052912,
          0.06000479411656743,
          0.06000479411656743,
          0.020385731184505297,
          0.018784834758646982,
          0.01100532601006162,
          0.010679027428228441,
          0.008764039324079676,
          0.008078730040879152
         ]
        },
        {
         "hovertext": "<b>Topic 140</b>:inform_of_havr_awnna_payment_issu",
         "line": {
          "color": "black",
          "width": 1.5
         },
         "mode": "lines+lines",
         "name": "",
         "opacity": 0.1,
         "type": "scatter",
         "x": [
          1,
          2,
          3,
          4,
          5,
          6,
          7,
          8,
          9,
          10
         ],
         "y": [
          0.05848108827307323,
          0.032808345589597596,
          0.030813272654453546,
          0.027695803134764177,
          0.02755908210884977,
          0.023489155103569113,
          0.020333091296125073,
          0.019218399630192912,
          0.017855202705713127,
          0.01468734659537142
         ]
        },
        {
         "hovertext": "<b>Topic 141</b>:notify_majing_payment_ask_agent_i",
         "line": {
          "color": "black",
          "width": 1.5
         },
         "mode": "lines+lines",
         "name": "",
         "opacity": 0.1,
         "type": "scatter",
         "x": [
          1,
          2,
          3,
          4,
          5,
          6,
          7,
          8,
          9,
          10
         ],
         "y": [
          0.068813523803865,
          0.03800303627382604,
          0.033989534600914716,
          0.033833190906866754,
          0.03183631957356904,
          0.028969957961068573,
          0.023702692877237926,
          0.016467631031174015,
          0.015605475205196395,
          0.011111355250506407
         ]
        },
        {
         "hovertext": "<b>Topic 142</b>:speak_understand_someone_person_s",
         "line": {
          "color": "black",
          "width": 1.5
         },
         "mode": "lines+lines",
         "name": "",
         "opacity": 0.1,
         "type": "scatter",
         "x": [
          1,
          2,
          3,
          4,
          5,
          6,
          7,
          8,
          9,
          10
         ],
         "y": [
          0.12146379940026757,
          0.10988390184140102,
          0.07064113492328965,
          0.0670597617337879,
          0.04196654312447048,
          0.04196654312447048,
          0.04196654312447048,
          0.04196654312447048,
          0.037720664392132806,
          0.037497380435278276
         ]
        },
        {
         "hovertext": "<b>Topic 143</b>:informed_stay_keep_newsletter_the",
         "line": {
          "color": "black",
          "width": 1.5
         },
         "mode": "lines+lines",
         "name": "",
         "opacity": 0.1,
         "type": "scatter",
         "x": [
          1,
          2,
          3,
          4,
          5,
          6,
          7,
          8,
          9,
          10
         ],
         "y": [
          0.25967943303731167,
          0.19308851583599804,
          0.1774223635142548,
          0.16546978592268244,
          0.12420288380288438,
          0.03636999713577293,
          0.028070922371075155,
          0.024060204084920964,
          0.01921470433108056,
          0.01759557937771504
         ]
        },
        {
         "hovertext": "<b>Topic 144</b>:package_check_mehow_otder_possibl",
         "line": {
          "color": "black",
          "width": 1.5
         },
         "mode": "lines+lines",
         "name": "",
         "opacity": 0.1,
         "type": "scatter",
         "x": [
          1,
          2,
          3,
          4,
          5,
          6,
          7,
          8,
          9,
          10
         ],
         "y": [
          0.2242474000305587,
          0.09097588539620756,
          0.05700455441073906,
          0.05700455441073906,
          0.05402949407890089,
          0.02891578260790325,
          0.02616619238379219,
          0.020344888655483014,
          0.01839812239401603,
          0.011009824729193568
         ]
        },
        {
         "hovertext": "<b>Topic 145</b>:notify_propblem_payment_problem_i",
         "line": {
          "color": "black",
          "width": 1.5
         },
         "mode": "lines+lines",
         "name": "",
         "opacity": 0.1,
         "type": "scatter",
         "x": [
          1,
          2,
          3,
          4,
          5,
          6,
          7,
          8,
          9,
          10
         ],
         "y": [
          0.12007257724960119,
          0.06980149519682334,
          0.05930826955873895,
          0.04353555834594721,
          0.04353555834594721,
          0.027625278366708514,
          0.016653764887354844,
          0.015123334620465933,
          0.005928503456718378,
          0.004567098205047521
         ]
        },
        {
         "hovertext": "<b>Topic 146</b>:modify_order_change_knolw_possibe",
         "line": {
          "color": "black",
          "width": 1.5
         },
         "mode": "lines+lines",
         "name": "",
         "opacity": 0.1,
         "type": "scatter",
         "x": [
          1,
          2,
          3,
          4,
          5,
          6,
          7,
          8,
          9,
          10
         ],
         "y": [
          0.059416900250557715,
          0.057122284534315934,
          0.05377996866821023,
          0.04750379534228255,
          0.04750379534228255,
          0.04361032063965365,
          0.02260543183942557,
          0.022512289199542037,
          0.022079056327928465,
          0.01834970788198928
         ]
        },
        {
         "hovertext": "<b>Topic 147</b>:client_talk_sdpeak_couldspeak_mak",
         "line": {
          "color": "black",
          "width": 1.5
         },
         "mode": "lines+lines",
         "name": "",
         "opacity": 0.1,
         "type": "scatter",
         "x": [
          1,
          2,
          3,
          4,
          5,
          6,
          7,
          8,
          9,
          10
         ],
         "y": [
          0.08421211997844467,
          0.042036813279249165,
          0.03562784650671191,
          0.03562784650671191,
          0.03562784650671191,
          0.03190397928954362,
          0.030132685651428202,
          0.028354222120209924,
          0.02552621349234409,
          0.02064342136723794
         ]
        },
        {
         "hovertext": "<b>Topic 148</b>:available_any_there_person_isther",
         "line": {
          "color": "black",
          "width": 1.5
         },
         "mode": "lines+lines",
         "name": "",
         "opacity": 0.1,
         "type": "scatter",
         "x": [
          1,
          2,
          3,
          4,
          5,
          6,
          7,
          8,
          9,
          10
         ],
         "y": [
          0.4109084896912567,
          0.32241104702801093,
          0.19239561546020964,
          0.061639517834252415,
          0.045003595587425574,
          0.045003595587425574,
          0.045003595587425574,
          0.045003595587425574,
          0.044266114934986785,
          0.04208517906614113
         ]
        },
        {
         "hovertext": "<b>Topic 149</b>:bill_some_obtyain_get_how_tell_kn",
         "line": {
          "color": "black",
          "width": 1.5
         },
         "mode": "lines+lines",
         "name": "",
         "opacity": 0.1,
         "type": "scatter",
         "x": [
          1,
          2,
          3,
          4,
          5,
          6,
          7,
          8,
          9,
          10
         ],
         "y": [
          0.09149729116014302,
          0.07143620253386296,
          0.0565334423908156,
          0.05109446229473665,
          0.028506825283618073,
          0.023539540593120842,
          0.021020721396507097,
          0.012096763300315666,
          0.008257028784670108,
          0.007808942387372128
         ]
        },
        {
         "hovertext": "<b>Topic 150</b>:register_registering_odl_wher_wat",
         "line": {
          "color": "black",
          "width": 1.5
         },
         "mode": "lines+lines",
         "name": "",
         "opacity": 0.1,
         "type": "scatter",
         "x": [
          1,
          2,
          3,
          4,
          5,
          6,
          7,
          8,
          9,
          10
         ],
         "y": [
          0.21880823885276765,
          0.09922604286016565,
          0.0950075906845651,
          0.0853953929988562,
          0.07019611675049992,
          0.022222710501012814,
          0.018589159396577744,
          0.012791322564725325,
          0.011563662997049574,
          0.00924675721614922
         ]
        },
        {
         "hovertext": "<b>Topic 151</b>:invoice_check_lease_ask_ican_agen",
         "line": {
          "color": "black",
          "width": 1.5
         },
         "mode": "lines+lines",
         "name": "",
         "opacity": 0.1,
         "type": "scatter",
         "x": [
          1,
          2,
          3,
          4,
          5,
          6,
          7,
          8,
          9,
          10
         ],
         "y": [
          0.06035595807239358,
          0.059783362475147046,
          0.03554027916715403,
          0.03168194755440702,
          0.030262298073839088,
          0.029812044918602225,
          0.02291061793358199,
          0.018497516255178297,
          0.016638421915438076,
          0.01592957390994226
         ]
        },
        {
         "hovertext": "<b>Topic 152</b>:bil_bils_abill_kt_informatiopn_bk",
         "line": {
          "color": "black",
          "width": 1.5
         },
         "mode": "lines+lines",
         "name": "",
         "opacity": 0.1,
         "type": "scatter",
         "x": [
          1,
          2,
          3,
          4,
          5,
          6,
          7,
          8,
          9,
          10
         ],
         "y": [
          0.27482427984280744,
          0.2040170313228536,
          0.11492464104518965,
          0.06393034139522137,
          0.06393034139522137,
          0.06393034139522137,
          0.06393034139522137,
          0.06393034139522137,
          0.06393034139522137,
          0.06393034139522137
         ]
        },
        {
         "hovertext": "<b>Topic 153</b>:through_go_fail_will_dop_payment_",
         "line": {
          "color": "black",
          "width": 1.5
         },
         "mode": "lines+lines",
         "name": "",
         "opacity": 0.1,
         "type": "scatter",
         "x": [
          1,
          2,
          3,
          4,
          5,
          6,
          7,
          8,
          9,
          10
         ],
         "y": [
          0.34770403262631416,
          0.286768373553284,
          0.20489677321767547,
          0.15839257390961425,
          0.046219908981680324,
          0.037204760846947196,
          0.0275318604096863,
          0.024212774738915397,
          0.016069682435141817,
          0.015249818472093805
         ]
        },
        {
         "hovertext": "<b>Topic 154</b>:bill_some_ge_canget_tell_get_watn",
         "line": {
          "color": "black",
          "width": 1.5
         },
         "mode": "lines+lines",
         "name": "",
         "opacity": 0.1,
         "type": "scatter",
         "x": [
          1,
          2,
          3,
          4,
          5,
          6,
          7,
          8,
          9,
          10
         ],
         "y": [
          0.05244239477547145,
          0.04321890253298709,
          0.03420273264644344,
          0.03420273264644344,
          0.03255182184877282,
          0.027477466389613934,
          0.025270602030179973,
          0.018261136902270634,
          0.016728095535293665,
          0.016286487755410934
         ]
        },
        {
         "hovertext": "<b>Topic 155</b>:track_refund_redfund_ym_my_would_",
         "line": {
          "color": "black",
          "width": 1.5
         },
         "mode": "lines+lines",
         "name": "",
         "opacity": 0.1,
         "type": "scatter",
         "x": [
          1,
          2,
          3,
          4,
          5,
          6,
          7,
          8,
          9,
          10
         ],
         "y": [
          0.17038485246876062,
          0.11600484137160703,
          0.06107630829722042,
          0.03828883692611197,
          0.017637297783737172,
          0.012449807852855798,
          0.011950173897799978,
          0.010714521134416892,
          0.010075772919061978,
          0.008920540026295385
         ]
        },
        {
         "hovertext": "<b>Topic 156</b>:report_maiing_paiyng_payment_prob",
         "line": {
          "color": "black",
          "width": 1.5
         },
         "mode": "lines+lines",
         "name": "",
         "opacity": 0.1,
         "type": "scatter",
         "x": [
          1,
          2,
          3,
          4,
          5,
          6,
          7,
          8,
          9,
          10
         ],
         "y": [
          0.1298139572530316,
          0.07954123871265915,
          0.06679152318105014,
          0.05691270909920604,
          0.049610287417474724,
          0.044098033259977534,
          0.01798855335506601,
          0.017233567358205363,
          0.016979909609751022,
          0.00675573649719071
         ]
        },
        {
         "hovertext": "<b>Topic 157</b>:try_repott_cadr_pay_when_yo_hwen_",
         "line": {
          "color": "black",
          "width": 1.5
         },
         "mode": "lines+lines",
         "name": "",
         "opacity": 0.1,
         "type": "scatter",
         "x": [
          1,
          2,
          3,
          4,
          5,
          6,
          7,
          8,
          9,
          10
         ],
         "y": [
          0.05338653772412574,
          0.03977061935632958,
          0.03977061935632958,
          0.038877827565092185,
          0.03618954734569456,
          0.03339576159052507,
          0.03339576159052507,
          0.025675906381679416,
          0.024805143708737362,
          0.022049016629988767
         ]
        },
        {
         "hovertext": "<b>Topic 158</b>:tracking_track_order_possible_can",
         "line": {
          "color": "black",
          "width": 1.5
         },
         "mode": "lines+lines",
         "name": "",
         "opacity": 0.1,
         "type": "scatter",
         "x": [
          1,
          2,
          3,
          4,
          5,
          6,
          7,
          8,
          9,
          10
         ],
         "y": [
          0.1411410927901638,
          0.12795184323324552,
          0.05971403973097273,
          0.05589258008162161,
          0.04951785339284752,
          0.0470470309300546,
          0.0345585695777766,
          0.027068474879785025,
          0.01702911510153934,
          0.016445090230457062
         ]
        },
        {
         "hovertext": "<b>Topic 159</b>:delivery_check_deliveried_wamt_tr",
         "line": {
          "color": "black",
          "width": 1.5
         },
         "mode": "lines+lines",
         "name": "",
         "opacity": 0.1,
         "type": "scatter",
         "x": [
          1,
          2,
          3,
          4,
          5,
          6,
          7,
          8,
          9,
          10
         ],
         "y": [
          0.10598383060663186,
          0.0696466108296326,
          0.05182232219158096,
          0.05182232219158096,
          0.05182232219158096,
          0.05182232219158096,
          0.04351568934522964,
          0.041344360514290406,
          0.02774302998474956,
          0.024594123774101865
         ]
        },
        {
         "hovertext": "<b>Topic 160</b>:inform_aking_of_ufcking_payment_p",
         "line": {
          "color": "black",
          "width": 1.5
         },
         "mode": "lines+lines",
         "name": "",
         "opacity": 0.1,
         "type": "scatter",
         "x": [
          1,
          2,
          3,
          4,
          5,
          6,
          7,
          8,
          9,
          10
         ],
         "y": [
          0.10410737129366904,
          0.06453345782347818,
          0.05840504540336855,
          0.05418934899594634,
          0.04906036598056558,
          0.044722062032524386,
          0.03254080999356402,
          0.03130544342276707,
          0.006280816222290037,
          0.004862171675156231
         ]
        },
        {
         "hovertext": "<b>Topic 161</b>:decline_transfer_transaction_be_c",
         "line": {
          "color": "black",
          "width": 1.5
         },
         "mode": "lines+lines",
         "name": "",
         "opacity": 0.1,
         "type": "scatter",
         "x": [
          1,
          2,
          3,
          4,
          5,
          6,
          7,
          8,
          9,
          10
         ],
         "y": [
          0.5834104660506864,
          0.2707564503233568,
          0.23372221280241798,
          0.03196968743533265,
          0.029510826449405184,
          0.019552776426068584,
          0.017695781252983548,
          0.015113659378592966,
          0.012879411836779271,
          0.007170104338679987
         ]
        },
        {
         "hovertext": "<b>Topic 162</b>:check_cherck_order_tell_where_cn_",
         "line": {
          "color": "black",
          "width": 1.5
         },
         "mode": "lines+lines",
         "name": "",
         "opacity": 0.1,
         "type": "scatter",
         "x": [
          1,
          2,
          3,
          4,
          5,
          6,
          7,
          8,
          9,
          10
         ],
         "y": [
          0.04348207324768954,
          0.03697592718534426,
          0.03510217200401776,
          0.0329917113332157,
          0.03243314505553222,
          0.027319569762356728,
          0.023180268841754278,
          0.017607013789633443,
          0.0169541508803652,
          0.01532165919508899
         ]
        },
        {
         "hovertext": "<b>Topic 163</b>:inform_issud_where_make_of_paymen",
         "line": {
          "color": "black",
          "width": 1.5
         },
         "mode": "lines+lines",
         "name": "",
         "opacity": 0.1,
         "type": "scatter",
         "x": [
          1,
          2,
          3,
          4,
          5,
          6,
          7,
          8,
          9,
          10
         ],
         "y": [
          0.08933120364648343,
          0.0627573076081531,
          0.05504708105755468,
          0.05322301336705311,
          0.05011550037310092,
          0.042097130010307224,
          0.030443825713883575,
          0.030443825713883575,
          0.005089958100632599,
          0.004908668478698735
         ]
        },
        {
         "hovertext": "<b>Topic 164</b>:edit_shipping_address_my_would_he",
         "line": {
          "color": "black",
          "width": 1.5
         },
         "mode": "lines+lines",
         "name": "",
         "opacity": 0.1,
         "type": "scatter",
         "x": [
          1,
          2,
          3,
          4,
          5,
          6,
          7,
          8,
          9,
          10
         ],
         "y": [
          0.41267736083071654,
          0.24462728783850693,
          0.10076927436036519,
          0.015990642351148655,
          0.012792463114861005,
          0.009823262213237413,
          0.009166059476560396,
          0.008668216975814873,
          0.007339610807673958,
          0.006107949720759118
         ]
        },
        {
         "hovertext": "<b>Topic 165</b>:more_than_several_online_yuou_tep",
         "line": {
          "color": "black",
          "width": 1.5
         },
         "mode": "lines+lines",
         "name": "",
         "opacity": 0.1,
         "type": "scatter",
         "x": [
          1,
          2,
          3,
          4,
          5,
          6,
          7,
          8,
          9,
          10
         ],
         "y": [
          0.08374205216408856,
          0.0835827195553065,
          0.07150915696022639,
          0.05930888124106396,
          0.0481728628823147,
          0.0481728628823147,
          0.0481728628823147,
          0.043299072506462304,
          0.03790675757812953,
          0.0332764004129618
         ]
        },
        {
         "hovertext": "<b>Topic 166</b>:request_invoice_where_cfan_tell_a",
         "line": {
          "color": "black",
          "width": 1.5
         },
         "mode": "lines+lines",
         "name": "",
         "opacity": 0.1,
         "type": "scatter",
         "x": [
          1,
          2,
          3,
          4,
          5,
          6,
          7,
          8,
          9,
          10
         ],
         "y": [
          0.10035677189129455,
          0.06542343826142911,
          0.04511377319754481,
          0.043188503711054975,
          0.02753443577433791,
          0.015085851433594795,
          0.014535121227653259,
          0.014343086216037738,
          0.014149704870079226,
          0.008764039324079676
         ]
        },
        {
         "hovertext": "<b>Topic 167</b>:notify_for_co_order_pay_have_issu",
         "line": {
          "color": "black",
          "width": 1.5
         },
         "mode": "lines+lines",
         "name": "",
         "opacity": 0.1,
         "type": "scatter",
         "x": [
          1,
          2,
          3,
          4,
          5,
          6,
          7,
          8,
          9,
          10
         ],
         "y": [
          0.05048818322566183,
          0.0416666818404743,
          0.03717688331135156,
          0.03529294467795264,
          0.032066750357397006,
          0.021601251673282466,
          0.020611037284554715,
          0.01803465762398538,
          0.017702704081968407,
          0.012266158336249364
         ]
        },
        {
         "hovertext": "<b>Topic 168</b>:purchase_tp_make_id_where_like_he",
         "line": {
          "color": "black",
          "width": 1.5
         },
         "mode": "lines+lines",
         "name": "",
         "opacity": 0.1,
         "type": "scatter",
         "x": [
          1,
          2,
          3,
          4,
          5,
          6,
          7,
          8,
          9,
          10
         ],
         "y": [
          0.16504451545979557,
          0.0950075906845651,
          0.0805737285695665,
          0.026849598934415048,
          0.022222710501012814,
          0.01312271736616418,
          0.011153495637946646,
          0.009250930397639658,
          0.008454230047347515,
          0.007836712270381537
         ]
        },
        {
         "hovertext": "<b>Topic 169</b>:mind_cancel_profile_change_ichang",
         "line": {
          "color": "black",
          "width": 1.5
         },
         "mode": "lines+lines",
         "name": "",
         "opacity": 0.1,
         "type": "scatter",
         "x": [
          1,
          2,
          3,
          4,
          5,
          6,
          7,
          8,
          9,
          10
         ],
         "y": [
          0.16783967418763882,
          0.10967827605699003,
          0.08315749328585349,
          0.07563944503898538,
          0.05081378756956733,
          0.04747166110388688,
          0.026888947909479717,
          0.008253303961521618,
          0.0065518264473856435,
          0.005030616226520836
         ]
        },
        {
         "hovertext": "<b>Topic 170</b>:master_card_if_with_pay_make_paym",
         "line": {
          "color": "black",
          "width": 1.5
         },
         "mode": "lines+lines",
         "name": "",
         "opacity": 0.1,
         "type": "scatter",
         "x": [
          1,
          2,
          3,
          4,
          5,
          6,
          7,
          8,
          9,
          10
         ],
         "y": [
          0.4470769728557325,
          0.0701105695040414,
          0.040778481637078735,
          0.031438204695877665,
          0.02085958306077139,
          0.020509676363162383,
          0.016222277877709298,
          0.01541279443597198,
          0.014451745960098631,
          0.012364158780005869
         ]
        },
        {
         "hovertext": "<b>Topic 171</b>:invoice_hou_obtain_tell_where_it_",
         "line": {
          "color": "black",
          "width": 1.5
         },
         "mode": "lines+lines",
         "name": "",
         "opacity": 0.1,
         "type": "scatter",
         "x": [
          1,
          2,
          3,
          4,
          5,
          6,
          7,
          8,
          9,
          10
         ],
         "y": [
          0.04892306909348635,
          0.04120811162222101,
          0.03866587520478375,
          0.034316679659850864,
          0.033735681001537524,
          0.01831412277716892,
          0.017635040473954162,
          0.01679974071710662,
          0.01448360427163385,
          0.01203735521620582
         ]
        },
        {
         "hovertext": "<b>Topic 172</b>:request_invoice_invpice_nivoices_",
         "line": {
          "color": "black",
          "width": 1.5
         },
         "mode": "lines+lines",
         "name": "",
         "opacity": 0.1,
         "type": "scatter",
         "x": [
          1,
          2,
          3,
          4,
          5,
          6,
          7,
          8,
          9,
          10
         ],
         "y": [
          0.1258345516913067,
          0.07031367506076827,
          0.06909642958877463,
          0.06210574036280452,
          0.0321149910224414,
          0.02869314440311884,
          0.017462182841610944,
          0.01644031406503678,
          0.01621348073267158,
          0.008896828063994803
         ]
        },
        {
         "hovertext": "<b>Topic 173</b>:request_bill_wabt_areimbursement_",
         "line": {
          "color": "black",
          "width": 1.5
         },
         "mode": "lines+lines",
         "name": "",
         "opacity": 0.1,
         "type": "scatter",
         "x": [
          1,
          2,
          3,
          4,
          5,
          6,
          7,
          8,
          9,
          10
         ],
         "y": [
          0.08305080411626244,
          0.050500083857861394,
          0.04560364352859125,
          0.040989788639450984,
          0.03526447366950389,
          0.03457512202638967,
          0.018937475306058438,
          0.018819941406252635,
          0.018122103496568134,
          0.01332133977260111
         ]
        },
        {
         "hovertext": "<b>Topic 174</b>:delivery_know_where_be_how_tell_m",
         "line": {
          "color": "black",
          "width": 1.5
         },
         "mode": "lines+lines",
         "name": "",
         "opacity": 0.1,
         "type": "scatter",
         "x": [
          1,
          2,
          3,
          4,
          5,
          6,
          7,
          8,
          9,
          10
         ],
         "y": [
          0.09967334298272552,
          0.09708043087699843,
          0.0427490308874445,
          0.023916254722615264,
          0.021684132029837905,
          0.018636539226396652,
          0.011531165502075134,
          0.009577153932420037,
          0.007626721243855597,
          0.006088692402049189
         ]
        },
        {
         "hovertext": "<b>Topic 175</b>:option_your_youacept_paymnet_paye",
         "line": {
          "color": "black",
          "width": 1.5
         },
         "mode": "lines+lines",
         "name": "",
         "opacity": 0.1,
         "type": "scatter",
         "x": [
          1,
          2,
          3,
          4,
          5,
          6,
          7,
          8,
          9,
          10
         ],
         "y": [
          0.14858324731051936,
          0.12686798624094625,
          0.06453345782347818,
          0.051485430074399374,
          0.051485430074399374,
          0.05063360695830116,
          0.034630846574516885,
          0.03356494501200778,
          0.019896584660191282,
          0.01810344019730055
         ]
        },
        {
         "hovertext": "<b>Topic 176</b>:invoice_check_di_olst_acn_how_my_",
         "line": {
          "color": "black",
          "width": 1.5
         },
         "mode": "lines+lines",
         "name": "",
         "opacity": 0.1,
         "type": "scatter",
         "x": [
          1,
          2,
          3,
          4,
          5,
          6,
          7,
          8,
          9,
          10
         ],
         "y": [
          0.10974634418268561,
          0.10870518311922384,
          0.09243981796336065,
          0.08308740940429253,
          0.05696347530594275,
          0.027419124477883836,
          0.021983531736804365,
          0.0067506789388181295,
          0.0059978965726373325,
          0.005389315572084079
         ]
        },
        {
         "hovertext": "<b>Topic 177</b>:reimbursement_one_onme_hep_reques",
         "line": {
          "color": "black",
          "width": 1.5
         },
         "mode": "lines+lines",
         "name": "",
         "opacity": 0.1,
         "type": "scatter",
         "x": [
          1,
          2,
          3,
          4,
          5,
          6,
          7,
          8,
          9,
          10
         ],
         "y": [
          0.13549346019113298,
          0.09598161744113669,
          0.0855068316161086,
          0.07180088741962891,
          0.055614377756425734,
          0.03438501044996841,
          0.026768389531071954,
          0.02576012474026306,
          0.024164639040973546,
          0.02398705826142323
         ]
        },
        {
         "hovertext": "<b>Topic 178</b>:email_customer_whzt_whatsthe_wat_",
         "line": {
          "color": "black",
          "width": 1.5
         },
         "mode": "lines+lines",
         "name": "",
         "opacity": 0.1,
         "type": "scatter",
         "x": [
          1,
          2,
          3,
          4,
          5,
          6,
          7,
          8,
          9,
          10
         ],
         "y": [
          0.05996523461180855,
          0.05530345880257831,
          0.048797367427917834,
          0.048797367427917834,
          0.04011206671457138,
          0.035111257630820486,
          0.034683108194717455,
          0.026860379736821486,
          0.025233207231918242,
          0.02131312495688843
         ]
        },
        {
         "hovertext": "<b>Topic 179</b>:support_mail_contacxt_trhe_custom",
         "line": {
          "color": "black",
          "width": 1.5
         },
         "mode": "lines+lines",
         "name": "",
         "opacity": 0.1,
         "type": "scatter",
         "x": [
          1,
          2,
          3,
          4,
          5,
          6,
          7,
          8,
          9,
          10
         ],
         "y": [
          0.07258853556775045,
          0.051072528032790075,
          0.042487866641544636,
          0.042487866641544636,
          0.03818924407402265,
          0.03662235733414885,
          0.03567745958739324,
          0.0325178730855538,
          0.03183724900081103,
          0.02889342674097663
         ]
        },
        {
         "hovertext": "<b>Topic 180</b>:anyway_charge_but_card_notify_att",
         "line": {
          "color": "black",
          "width": 1.5
         },
         "mode": "lines+lines",
         "name": "",
         "opacity": 0.1,
         "type": "scatter",
         "x": [
          1,
          2,
          3,
          4,
          5,
          6,
          7,
          8,
          9,
          10
         ],
         "y": [
          0.04012616754204704,
          0.040092586037302695,
          0.03995884581751569,
          0.035510548190358635,
          0.033269348285339694,
          0.030248193654917883,
          0.029775210182134623,
          0.0282667211954078,
          0.0282667211954078,
          0.025406893784783665
         ]
        },
        {
         "hovertext": "<b>Topic 181</b>:check_trfack_ik_ne_order_tell_it_",
         "line": {
          "color": "black",
          "width": 1.5
         },
         "mode": "lines+lines",
         "name": "",
         "opacity": 0.1,
         "type": "scatter",
         "x": [
          1,
          2,
          3,
          4,
          5,
          6,
          7,
          8,
          9,
          10
         ],
         "y": [
          0.042561817729219915,
          0.04222559585980671,
          0.03795350799949165,
          0.035457228355372294,
          0.0347410385471863,
          0.03265229043472582,
          0.017425871672456142,
          0.016282220831928547,
          0.015488977347494132,
          0.012334573863519544
         ]
        },
        {
         "hovertext": "<b>Topic 182</b>:inform_pay_of_haev_problem_inform",
         "line": {
          "color": "black",
          "width": 1.5
         },
         "mode": "lines+lines",
         "name": "",
         "opacity": 0.1,
         "type": "scatter",
         "x": [
          1,
          2,
          3,
          4,
          5,
          6,
          7,
          8,
          9,
          10
         ],
         "y": [
          0.07418743769498433,
          0.04870074086024993,
          0.0450880406531327,
          0.04430325433616417,
          0.03611838914626732,
          0.02511496411089171,
          0.024817505151102377,
          0.023132768987684505,
          0.02257399321641707,
          0.013279795043046187
         ]
        },
        {
         "hovertext": "<b>Topic 183</b>:package_check_hopw_tell_hwere_id_",
         "line": {
          "color": "black",
          "width": 1.5
         },
         "mode": "lines+lines",
         "name": "",
         "opacity": 0.1,
         "type": "scatter",
         "x": [
          1,
          2,
          3,
          4,
          5,
          6,
          7,
          8,
          9,
          10
         ],
         "y": [
          0.12300490297034865,
          0.047275943110620854,
          0.04329459828663726,
          0.03347893069889609,
          0.033135301055532675,
          0.02447052054782131,
          0.017204528635982406,
          0.01649264582826424,
          0.014126055268985723,
          0.012145345955151002
         ]
        },
        {
         "hovertext": "<b>Topic 184</b>:check_bill_fuckingbill_my_need_he",
         "line": {
          "color": "black",
          "width": 1.5
         },
         "mode": "lines+lines",
         "name": "",
         "opacity": 0.1,
         "type": "scatter",
         "x": [
          1,
          2,
          3,
          4,
          5,
          6,
          7,
          8,
          9,
          10
         ],
         "y": [
          0.12449331685796826,
          0.11653865505660321,
          0.11400910882147812,
          0.025176378012864046,
          0.023024380616505587,
          0.022306991275893293,
          0.013122934697238145,
          0.010500731787968346,
          0.0071581971884244495,
          0.006970039806372359
         ]
        },
        {
         "hovertext": "<b>Topic 185</b>:see_bill_tro_where_know_fucking_t",
         "line": {
          "color": "black",
          "width": 1.5
         },
         "mode": "lines+lines",
         "name": "",
         "opacity": 0.1,
         "type": "scatter",
         "x": [
          1,
          2,
          3,
          4,
          5,
          6,
          7,
          8,
          9,
          10
         ],
         "y": [
          0.10401521157217852,
          0.09967121814051591,
          0.07180862615639913,
          0.0684225560162763,
          0.025100400878066042,
          0.012624767506012224,
          0.010707836134464743,
          0.00904193329064141,
          0.007644649194189487,
          0.006573029493059757
         ]
        },
        {
         "hovertext": "<b>Topic 186</b>:report_for_rpoblem_order_pay_issu",
         "line": {
          "color": "black",
          "width": 1.5
         },
         "mode": "lines+lines",
         "name": "",
         "opacity": 0.1,
         "type": "scatter",
         "x": [
          1,
          2,
          3,
          4,
          5,
          6,
          7,
          8,
          9,
          10
         ],
         "y": [
          0.05507855947206426,
          0.04286739912361915,
          0.0370585225391633,
          0.03630998867512374,
          0.0329908244537177,
          0.021408883889118123,
          0.021368980149913838,
          0.01821284652217997,
          0.01529205992079866,
          0.010920837744531692
         ]
        },
        {
         "hovertext": "<b>Topic 187</b>:paymet_notgify_pay_have_issue_pro",
         "line": {
          "color": "black",
          "width": 1.5
         },
         "mode": "lines+lines",
         "name": "",
         "opacity": 0.1,
         "type": "scatter",
         "x": [
          1,
          2,
          3,
          4,
          5,
          6,
          7,
          8,
          9,
          10
         ],
         "y": [
          0.06404654474914215,
          0.06404654474914215,
          0.04916901721467541,
          0.03680213248040716,
          0.03456642711263864,
          0.029628366096547405,
          0.023510136811144614,
          0.022709585941328884,
          0.016181825128261135,
          0.008360076002783783
         ]
        },
        {
         "hovertext": "<b>Topic 188</b>:track_wherei_order_tell_od_where_",
         "line": {
          "color": "black",
          "width": 1.5
         },
         "mode": "lines+lines",
         "name": "",
         "opacity": 0.1,
         "type": "scatter",
         "x": [
          1,
          2,
          3,
          4,
          5,
          6,
          7,
          8,
          9,
          10
         ],
         "y": [
          0.08949507402399547,
          0.044419133307069404,
          0.03654576782236481,
          0.03434851331445184,
          0.031824889548896534,
          0.0311695160273946,
          0.018331111759336983,
          0.017651399509644287,
          0.012975330947338742,
          0.01255305924206418
         ]
        },
        {
         "hovertext": "<b>Topic 189</b>:full_case_in_ticket_cancel_refund",
         "line": {
          "color": "black",
          "width": 1.5
         },
         "mode": "lines+lines",
         "name": "",
         "opacity": 0.1,
         "type": "scatter",
         "x": [
          1,
          2,
          3,
          4,
          5,
          6,
          7,
          8,
          9,
          10
         ],
         "y": [
          0.3565172178990921,
          0.33323936191598025,
          0.21246313649063256,
          0.12374598800276955,
          0.08383086892013863,
          0.06758825491679066,
          0.04653433013121556,
          0.03907531288143069,
          0.03051451006856232,
          0.030374750260627647
         ]
        },
        {
         "hovertext": "<b>Topic 190</b>:cancel_purchase_waznt_hjelp_want_",
         "line": {
          "color": "black",
          "width": 1.5
         },
         "mode": "lines+lines",
         "name": "",
         "opacity": 0.1,
         "type": "scatter",
         "x": [
          1,
          2,
          3,
          4,
          5,
          6,
          7,
          8,
          9,
          10
         ],
         "y": [
          0.16881010590767642,
          0.14107914746152386,
          0.09370611683957106,
          0.08422559309476228,
          0.013686307985549083,
          0.011000708026467925,
          0.010859876714159765,
          0.00859319976128099,
          0.008338418676835905,
          0.00823682964147471
         ]
        },
        {
         "hovertext": "<b>Topic 191</b>:opinion_happy_submit_file_sservic",
         "line": {
          "color": "black",
          "width": 1.5
         },
         "mode": "lines+lines",
         "name": "",
         "opacity": 0.1,
         "type": "scatter",
         "x": [
          1,
          2,
          3,
          4,
          5,
          6,
          7,
          8,
          9,
          10
         ],
         "y": [
          0.17457949814823234,
          0.13407963159459332,
          0.084251772487438,
          0.060276743609268164,
          0.0565334423908156,
          0.04510293874286227,
          0.04510293874286227,
          0.030937192038345326,
          0.02694703259646657,
          0.02304757817388181
         ]
        },
        {
         "hovertext": "<b>Topic 192</b>:see_bill_wht_what_want_do_should_",
         "line": {
          "color": "black",
          "width": 1.5
         },
         "mode": "lines+lines",
         "name": "",
         "opacity": 0.1,
         "type": "scatter",
         "x": [
          1,
          2,
          3,
          4,
          5,
          6,
          7,
          8,
          9,
          10
         ],
         "y": [
          0.07016410721436894,
          0.06723383945573262,
          0.055231451861253,
          0.020962694715072817,
          0.019213470825866986,
          0.017070936399044716,
          0.01627624856156166,
          0.013407538586732333,
          0.010225880829082611,
          0.008492799803170884
         ]
        },
        {
         "hovertext": "<b>Topic 193</b>:validation_no_get_payment_not_do_",
         "line": {
          "color": "black",
          "width": 1.5
         },
         "mode": "lines+lines",
         "name": "",
         "opacity": 0.1,
         "type": "scatter",
         "x": [
          1,
          2,
          3,
          4,
          5,
          6,
          7,
          8,
          9,
          10
         ],
         "y": [
          0.595545807172347,
          0.07442216500807192,
          0.04683659043684193,
          0.041714428828395336,
          0.023151791708145297,
          0.017652900139921237,
          0.01351314204773289,
          0.012823710987897063,
          0.009125587340138165,
          0.007128449801971731
         ]
        },
        {
         "hovertext": "<b>Topic 194</b>:opem_online_acconut_account_need_",
         "line": {
          "color": "black",
          "width": 1.5
         },
         "mode": "lines+lines",
         "name": "",
         "opacity": 0.1,
         "type": "scatter",
         "x": [
          1,
          2,
          3,
          4,
          5,
          6,
          7,
          8,
          9,
          10
         ],
         "y": [
          0.07954123871265915,
          0.0783428942905217,
          0.07149381739439124,
          0.033158549276533826,
          0.02141802848047031,
          0.020741101747683042,
          0.019682905237237352,
          0.01710899274988309,
          0.016213703250230808,
          0.014192697122461594
         ]
        },
        {
         "hovertext": "<b>Topic 195</b>:place_order_ask_agent_an_make_whe",
         "line": {
          "color": "black",
          "width": 1.5
         },
         "mode": "lines+lines",
         "name": "",
         "opacity": 0.1,
         "type": "scatter",
         "x": [
          1,
          2,
          3,
          4,
          5,
          6,
          7,
          8,
          9,
          10
         ],
         "y": [
          0.17068490498254235,
          0.048102976449950256,
          0.033833190906866754,
          0.03183631957356904,
          0.02724765512018418,
          0.02506738222164291,
          0.022222710501012814,
          0.017768191304757944,
          0.012460091611329613,
          0.009544262917899267
         ]
        },
        {
         "hovertext": "<b>Topic 196</b>:option_delivery_sew_shuld_whatco_",
         "line": {
          "color": "black",
          "width": 1.5
         },
         "mode": "lines+lines",
         "name": "",
         "opacity": 0.1,
         "type": "scatter",
         "x": [
          1,
          2,
          3,
          4,
          5,
          6,
          7,
          8,
          9,
          10
         ],
         "y": [
          0.10855142002761001,
          0.09817449571982739,
          0.06000479411656743,
          0.06000479411656743,
          0.06000479411656743,
          0.06000479411656743,
          0.0586752475535366,
          0.05393393242033023,
          0.02241716215978734,
          0.020956085738944318
         ]
        },
        {
         "hovertext": "<b>Topic 197</b>:visa_withvisa_if_with_make_know_p",
         "line": {
          "color": "black",
          "width": 1.5
         },
         "mode": "lines+lines",
         "name": "",
         "opacity": 0.1,
         "type": "scatter",
         "x": [
          1,
          2,
          3,
          4,
          5,
          6,
          7,
          8,
          9,
          10
         ],
         "y": [
          0.5156440652805168,
          0.07200575293988092,
          0.0472171892639859,
          0.03432200993865742,
          0.02849765557828878,
          0.026773760936603778,
          0.022540428209027654,
          0.021415672268929486,
          0.020702744090389646,
          0.012658706606897973
         ]
        },
        {
         "hovertext": "<b>Topic 198</b>:fast_expect_arrive_ticket_know_te",
         "line": {
          "color": "black",
          "width": 1.5
         },
         "mode": "lines+lines",
         "name": "",
         "opacity": 0.1,
         "type": "scatter",
         "x": [
          1,
          2,
          3,
          4,
          5,
          6,
          7,
          8,
          9,
          10
         ],
         "y": [
          0.40626380644315147,
          0.3039449819206605,
          0.25552280864667837,
          0.1301657261996932,
          0.019717110767266347,
          0.018925477819053963,
          0.01887456010570608,
          0.010809178395505136,
          0.009988182123382953,
          0.009725636939124222
         ]
        },
        {
         "hovertext": "<b>Topic 199</b>:delivery_check_possible_if_know_m",
         "line": {
          "color": "black",
          "width": 1.5
         },
         "mode": "lines+lines",
         "name": "",
         "opacity": 0.1,
         "type": "scatter",
         "x": [
          1,
          2,
          3,
          4,
          5,
          6,
          7,
          8,
          9,
          10
         ],
         "y": [
          0.1512417907035179,
          0.093175871245049,
          0.043807697901811535,
          0.03636999713577293,
          0.025778790090986745,
          0.01884302720297517,
          0.01649585566660785,
          0.0113027672535768,
          0.009286309866064152,
          0.0067506789388181295
         ]
        },
        {
         "hovertext": "<b>Topic 200</b>:two_single_profile_create_knoe_em",
         "line": {
          "color": "black",
          "width": 1.5
         },
         "mode": "lines+lines",
         "name": "",
         "opacity": 0.1,
         "type": "scatter",
         "x": [
          1,
          2,
          3,
          4,
          5,
          6,
          7,
          8,
          9,
          10
         ],
         "y": [
          0.14444456145258872,
          0.11784103957442481,
          0.06484676705212634,
          0.05973078597517985,
          0.05143268067134351,
          0.05143268067134351,
          0.05143268067134351,
          0.048069297381125885,
          0.03853982773782387,
          0.030353907383990936
         ]
        },
        {
         "hovertext": "<b>Topic 201</b>:shipment_tgell_trrack_check_where",
         "line": {
          "color": "black",
          "width": 1.5
         },
         "mode": "lines+lines",
         "name": "",
         "opacity": 0.1,
         "type": "scatter",
         "x": [
          1,
          2,
          3,
          4,
          5,
          6,
          7,
          8,
          9,
          10
         ],
         "y": [
          0.12703188857808495,
          0.04750379534228255,
          0.04750379534228255,
          0.04389187453325804,
          0.03333406575151922,
          0.03108246877921016,
          0.017425099515930898,
          0.016588089380511137,
          0.011563662997049574,
          0.009683222312640016
         ]
        },
        {
         "hovertext": "<b>Topic 202</b>:report_try_oredr_od_pay_when_have",
         "line": {
          "color": "black",
          "width": 1.5
         },
         "mode": "lines+lines",
         "name": "",
         "opacity": 0.1,
         "type": "scatter",
         "x": [
          1,
          2,
          3,
          4,
          5,
          6,
          7,
          8,
          9,
          10
         ],
         "y": [
          0.05360864501205626,
          0.044093562970226305,
          0.037125548216913835,
          0.03334036047979636,
          0.03211037858917578,
          0.0317581742013238,
          0.021029789988804094,
          0.0193491370426432,
          0.0193491370426432,
          0.017726789393644554
         ]
        },
        {
         "hovertext": "<b>Topic 203</b>:more_than_several_user_if_know_on",
         "line": {
          "color": "black",
          "width": 1.5
         },
         "mode": "lines+lines",
         "name": "",
         "opacity": 0.1,
         "type": "scatter",
         "x": [
          1,
          2,
          3,
          4,
          5,
          6,
          7,
          8,
          9,
          10
         ],
         "y": [
          0.08107753232250392,
          0.08092326938763765,
          0.07912441783131544,
          0.07503670839520445,
          0.03670063347337086,
          0.03468419030423671,
          0.03221760585436756,
          0.028280680044118104,
          0.024088668532630142,
          0.011097211993899824
         ]
        },
        {
         "hovertext": "<b>Topic 204</b>:remember_password_ermember_zccoun",
         "line": {
          "color": "black",
          "width": 1.5
         },
         "mode": "lines+lines",
         "name": "",
         "opacity": 0.1,
         "type": "scatter",
         "x": [
          1,
          2,
          3,
          4,
          5,
          6,
          7,
          8,
          9,
          10
         ],
         "y": [
          0.22491029399207377,
          0.10305062275384548,
          0.06393034139522137,
          0.05368290648196553,
          0.0510042578307134,
          0.03808145178162217,
          0.01581990514394778,
          0.014818149535208651,
          0.014536798153518653,
          0.013647403985407362
         ]
        },
        {
         "hovertext": "<b>Topic 205</b>:refund_reqauest_receive_obtain_ho",
         "line": {
          "color": "black",
          "width": 1.5
         },
         "mode": "lines+lines",
         "name": "",
         "opacity": 0.1,
         "type": "scatter",
         "x": [
          1,
          2,
          3,
          4,
          5,
          6,
          7,
          8,
          9,
          10
         ],
         "y": [
          0.18682086871871878,
          0.15201214509530417,
          0.12181743723376597,
          0.08150520995548068,
          0.0360713815353494,
          0.015265259105341074,
          0.01110111647716759,
          0.009863207697225835,
          0.008862430051871597,
          0.002972471467656456
         ]
        },
        {
         "hovertext": "<b>Topic 206</b>:notifypayment_notify_where_make_p",
         "line": {
          "color": "black",
          "width": 1.5
         },
         "mode": "lines+lines",
         "name": "",
         "opacity": 0.1,
         "type": "scatter",
         "x": [
          1,
          2,
          3,
          4,
          5,
          6,
          7,
          8,
          9,
          10
         ],
         "y": [
          0.10364464438316193,
          0.09383662336890683,
          0.06666813150303844,
          0.05859907532332109,
          0.04634936536488371,
          0.04309580523134168,
          0.03591317102611807,
          0.006507451989476773,
          0.005043685754263211,
          0.004053370183167895
         ]
        },
        {
         "hovertext": "<b>Topic 207</b>:todownload_invopice_invoie_check_",
         "line": {
          "color": "black",
          "width": 1.5
         },
         "mode": "lines+lines",
         "name": "",
         "opacity": 0.1,
         "type": "scatter",
         "x": [
          1,
          2,
          3,
          4,
          5,
          6,
          7,
          8,
          9,
          10
         ],
         "y": [
          0.07355426375579234,
          0.07355426375579234,
          0.07355426375579234,
          0.061783283800480523,
          0.0561375308952908,
          0.02131104839068986,
          0.019695529233684436,
          0.018201396240886153,
          0.015510689523863207,
          0.012494480403406474
         ]
        },
        {
         "hovertext": "<b>Topic 208</b>:whaty_see_invoice_so_should_want_",
         "line": {
          "color": "black",
          "width": 1.5
         },
         "mode": "lines+lines",
         "name": "",
         "opacity": 0.1,
         "type": "scatter",
         "x": [
          1,
          2,
          3,
          4,
          5,
          6,
          7,
          8,
          9,
          10
         ],
         "y": [
          0.07600607254765208,
          0.0743219802344797,
          0.07089962235294134,
          0.06831631439908498,
          0.03134684908152615,
          0.02035204687480725,
          0.019819275003341574,
          0.014202059391872026,
          0.013561910583685522,
          0.012533383986619148
         ]
        },
        {
         "hovertext": "<b>Topic 209</b>:card_notify_inotify_make_ot_payme",
         "line": {
          "color": "black",
          "width": 1.5
         },
         "mode": "lines+lines",
         "name": "",
         "opacity": 0.1,
         "type": "scatter",
         "x": [
          1,
          2,
          3,
          4,
          5,
          6,
          7,
          8,
          9,
          10
         ],
         "y": [
          0.06550871745165258,
          0.055794749030160816,
          0.055391606269528354,
          0.03832696277903704,
          0.031260305522057566,
          0.03031499031973475,
          0.029895288313633417,
          0.02937469319074284,
          0.02188234904240426,
          0.01956334865514827
         ]
        },
        {
         "hovertext": "<b>Topic 210</b>:wehen_notify_try_for_order_pay_wh",
         "line": {
          "color": "black",
          "width": 1.5
         },
         "mode": "lines+lines",
         "name": "",
         "opacity": 0.1,
         "type": "scatter",
         "x": [
          1,
          2,
          3,
          4,
          5,
          6,
          7,
          8,
          9,
          10
         ],
         "y": [
          0.04120811162222101,
          0.04103939070230504,
          0.03579281692914455,
          0.03386882090165461,
          0.028687919690030577,
          0.026065503101755642,
          0.023436002046157624,
          0.018622765833459044,
          0.01713447677872621,
          0.014389667896347012
         ]
        },
        {
         "hovertext": "<b>Topic 211</b>:human_nuderstand_nered_speak_and_",
         "line": {
          "color": "black",
          "width": 1.5
         },
         "mode": "lines+lines",
         "name": "",
         "opacity": 0.1,
         "type": "scatter",
         "x": [
          1,
          2,
          3,
          4,
          5,
          6,
          7,
          8,
          9,
          10
         ],
         "y": [
          0.09473014020212256,
          0.0565334423908156,
          0.0565334423908156,
          0.051670985564794124,
          0.05022156685976694,
          0.041689401599255375,
          0.030869055610860396,
          0.026047897832920126,
          0.024334899573701774,
          0.018494860499779216
         ]
        },
        {
         "hovertext": "<b>Topic 212</b>:amex_ppay_if_with_make_payment_te",
         "line": {
          "color": "black",
          "width": 1.5
         },
         "mode": "lines+lines",
         "name": "",
         "opacity": 0.1,
         "type": "scatter",
         "x": [
          1,
          2,
          3,
          4,
          5,
          6,
          7,
          8,
          9,
          10
         ],
         "y": [
          0.5696068162982453,
          0.07954123871265915,
          0.04172681841933638,
          0.0379138481880518,
          0.03147996837136552,
          0.024899310230902645,
          0.018925477819053963,
          0.014787833075449761,
          0.0137215861994443,
          0.01298463676039784
         ]
        },
        {
         "hovertext": "<b>Topic 213</b>:view_losg_invoice_ddo_hwat_should",
         "line": {
          "color": "black",
          "width": 1.5
         },
         "mode": "lines+lines",
         "name": "",
         "opacity": 0.1,
         "type": "scatter",
         "x": [
          1,
          2,
          3,
          4,
          5,
          6,
          7,
          8,
          9,
          10
         ],
         "y": [
          0.09855909930494292,
          0.07355426375579234,
          0.06861253776091097,
          0.06611256232169513,
          0.05434538071006446,
          0.030335660401476925,
          0.02131104839068986,
          0.01790502657607676,
          0.014317559560489114,
          0.013743928443747123
         ]
        },
        {
         "hovertext": "<b>Topic 214</b>:confirmation_ogt_confirmaiton_pay",
         "line": {
          "color": "black",
          "width": 1.5
         },
         "mode": "lines+lines",
         "name": "",
         "opacity": 0.1,
         "type": "scatter",
         "x": [
          1,
          2,
          3,
          4,
          5,
          6,
          7,
          8,
          9,
          10
         ],
         "y": [
          0.5105679920448187,
          0.08342129913766692,
          0.08342129913766692,
          0.08342129913766692,
          0.07986768927695523,
          0.041886381691484655,
          0.03730558675710152,
          0.02070485437313807,
          0.018944575759915476,
          0.01691889329553549
         ]
        },
        {
         "hovertext": "<b>Topic 215</b>:inform_myu_of_payment_with_proble",
         "line": {
          "color": "black",
          "width": 1.5
         },
         "mode": "lines+lines",
         "name": "",
         "opacity": 0.1,
         "type": "scatter",
         "x": [
          1,
          2,
          3,
          4,
          5,
          6,
          7,
          8,
          9,
          10
         ],
         "y": [
          0.07820964817242324,
          0.06575247696248596,
          0.04387622121018474,
          0.03685612185641355,
          0.03571293476640148,
          0.03426895355745242,
          0.02444596640196872,
          0.022845969038301616,
          0.012599855539338818,
          0.005347522245483887
         ]
        }
       ],
       "layout": {
        "height": 500,
        "hoverlabel": {
         "bgcolor": "white",
         "font": {
          "family": "Rockwell",
          "size": 16
         }
        },
        "showlegend": false,
        "template": {
         "data": {
          "bar": [
           {
            "error_x": {
             "color": "#2a3f5f"
            },
            "error_y": {
             "color": "#2a3f5f"
            },
            "marker": {
             "line": {
              "color": "white",
              "width": 0.5
             },
             "pattern": {
              "fillmode": "overlay",
              "size": 10,
              "solidity": 0.2
             }
            },
            "type": "bar"
           }
          ],
          "barpolar": [
           {
            "marker": {
             "line": {
              "color": "white",
              "width": 0.5
             },
             "pattern": {
              "fillmode": "overlay",
              "size": 10,
              "solidity": 0.2
             }
            },
            "type": "barpolar"
           }
          ],
          "carpet": [
           {
            "aaxis": {
             "endlinecolor": "#2a3f5f",
             "gridcolor": "#C8D4E3",
             "linecolor": "#C8D4E3",
             "minorgridcolor": "#C8D4E3",
             "startlinecolor": "#2a3f5f"
            },
            "baxis": {
             "endlinecolor": "#2a3f5f",
             "gridcolor": "#C8D4E3",
             "linecolor": "#C8D4E3",
             "minorgridcolor": "#C8D4E3",
             "startlinecolor": "#2a3f5f"
            },
            "type": "carpet"
           }
          ],
          "choropleth": [
           {
            "colorbar": {
             "outlinewidth": 0,
             "ticks": ""
            },
            "type": "choropleth"
           }
          ],
          "contour": [
           {
            "colorbar": {
             "outlinewidth": 0,
             "ticks": ""
            },
            "colorscale": [
             [
              0,
              "#0d0887"
             ],
             [
              0.1111111111111111,
              "#46039f"
             ],
             [
              0.2222222222222222,
              "#7201a8"
             ],
             [
              0.3333333333333333,
              "#9c179e"
             ],
             [
              0.4444444444444444,
              "#bd3786"
             ],
             [
              0.5555555555555556,
              "#d8576b"
             ],
             [
              0.6666666666666666,
              "#ed7953"
             ],
             [
              0.7777777777777778,
              "#fb9f3a"
             ],
             [
              0.8888888888888888,
              "#fdca26"
             ],
             [
              1,
              "#f0f921"
             ]
            ],
            "type": "contour"
           }
          ],
          "contourcarpet": [
           {
            "colorbar": {
             "outlinewidth": 0,
             "ticks": ""
            },
            "type": "contourcarpet"
           }
          ],
          "heatmap": [
           {
            "colorbar": {
             "outlinewidth": 0,
             "ticks": ""
            },
            "colorscale": [
             [
              0,
              "#0d0887"
             ],
             [
              0.1111111111111111,
              "#46039f"
             ],
             [
              0.2222222222222222,
              "#7201a8"
             ],
             [
              0.3333333333333333,
              "#9c179e"
             ],
             [
              0.4444444444444444,
              "#bd3786"
             ],
             [
              0.5555555555555556,
              "#d8576b"
             ],
             [
              0.6666666666666666,
              "#ed7953"
             ],
             [
              0.7777777777777778,
              "#fb9f3a"
             ],
             [
              0.8888888888888888,
              "#fdca26"
             ],
             [
              1,
              "#f0f921"
             ]
            ],
            "type": "heatmap"
           }
          ],
          "heatmapgl": [
           {
            "colorbar": {
             "outlinewidth": 0,
             "ticks": ""
            },
            "colorscale": [
             [
              0,
              "#0d0887"
             ],
             [
              0.1111111111111111,
              "#46039f"
             ],
             [
              0.2222222222222222,
              "#7201a8"
             ],
             [
              0.3333333333333333,
              "#9c179e"
             ],
             [
              0.4444444444444444,
              "#bd3786"
             ],
             [
              0.5555555555555556,
              "#d8576b"
             ],
             [
              0.6666666666666666,
              "#ed7953"
             ],
             [
              0.7777777777777778,
              "#fb9f3a"
             ],
             [
              0.8888888888888888,
              "#fdca26"
             ],
             [
              1,
              "#f0f921"
             ]
            ],
            "type": "heatmapgl"
           }
          ],
          "histogram": [
           {
            "marker": {
             "pattern": {
              "fillmode": "overlay",
              "size": 10,
              "solidity": 0.2
             }
            },
            "type": "histogram"
           }
          ],
          "histogram2d": [
           {
            "colorbar": {
             "outlinewidth": 0,
             "ticks": ""
            },
            "colorscale": [
             [
              0,
              "#0d0887"
             ],
             [
              0.1111111111111111,
              "#46039f"
             ],
             [
              0.2222222222222222,
              "#7201a8"
             ],
             [
              0.3333333333333333,
              "#9c179e"
             ],
             [
              0.4444444444444444,
              "#bd3786"
             ],
             [
              0.5555555555555556,
              "#d8576b"
             ],
             [
              0.6666666666666666,
              "#ed7953"
             ],
             [
              0.7777777777777778,
              "#fb9f3a"
             ],
             [
              0.8888888888888888,
              "#fdca26"
             ],
             [
              1,
              "#f0f921"
             ]
            ],
            "type": "histogram2d"
           }
          ],
          "histogram2dcontour": [
           {
            "colorbar": {
             "outlinewidth": 0,
             "ticks": ""
            },
            "colorscale": [
             [
              0,
              "#0d0887"
             ],
             [
              0.1111111111111111,
              "#46039f"
             ],
             [
              0.2222222222222222,
              "#7201a8"
             ],
             [
              0.3333333333333333,
              "#9c179e"
             ],
             [
              0.4444444444444444,
              "#bd3786"
             ],
             [
              0.5555555555555556,
              "#d8576b"
             ],
             [
              0.6666666666666666,
              "#ed7953"
             ],
             [
              0.7777777777777778,
              "#fb9f3a"
             ],
             [
              0.8888888888888888,
              "#fdca26"
             ],
             [
              1,
              "#f0f921"
             ]
            ],
            "type": "histogram2dcontour"
           }
          ],
          "mesh3d": [
           {
            "colorbar": {
             "outlinewidth": 0,
             "ticks": ""
            },
            "type": "mesh3d"
           }
          ],
          "parcoords": [
           {
            "line": {
             "colorbar": {
              "outlinewidth": 0,
              "ticks": ""
             }
            },
            "type": "parcoords"
           }
          ],
          "pie": [
           {
            "automargin": true,
            "type": "pie"
           }
          ],
          "scatter": [
           {
            "fillpattern": {
             "fillmode": "overlay",
             "size": 10,
             "solidity": 0.2
            },
            "type": "scatter"
           }
          ],
          "scatter3d": [
           {
            "line": {
             "colorbar": {
              "outlinewidth": 0,
              "ticks": ""
             }
            },
            "marker": {
             "colorbar": {
              "outlinewidth": 0,
              "ticks": ""
             }
            },
            "type": "scatter3d"
           }
          ],
          "scattercarpet": [
           {
            "marker": {
             "colorbar": {
              "outlinewidth": 0,
              "ticks": ""
             }
            },
            "type": "scattercarpet"
           }
          ],
          "scattergeo": [
           {
            "marker": {
             "colorbar": {
              "outlinewidth": 0,
              "ticks": ""
             }
            },
            "type": "scattergeo"
           }
          ],
          "scattergl": [
           {
            "marker": {
             "colorbar": {
              "outlinewidth": 0,
              "ticks": ""
             }
            },
            "type": "scattergl"
           }
          ],
          "scattermapbox": [
           {
            "marker": {
             "colorbar": {
              "outlinewidth": 0,
              "ticks": ""
             }
            },
            "type": "scattermapbox"
           }
          ],
          "scatterpolar": [
           {
            "marker": {
             "colorbar": {
              "outlinewidth": 0,
              "ticks": ""
             }
            },
            "type": "scatterpolar"
           }
          ],
          "scatterpolargl": [
           {
            "marker": {
             "colorbar": {
              "outlinewidth": 0,
              "ticks": ""
             }
            },
            "type": "scatterpolargl"
           }
          ],
          "scatterternary": [
           {
            "marker": {
             "colorbar": {
              "outlinewidth": 0,
              "ticks": ""
             }
            },
            "type": "scatterternary"
           }
          ],
          "surface": [
           {
            "colorbar": {
             "outlinewidth": 0,
             "ticks": ""
            },
            "colorscale": [
             [
              0,
              "#0d0887"
             ],
             [
              0.1111111111111111,
              "#46039f"
             ],
             [
              0.2222222222222222,
              "#7201a8"
             ],
             [
              0.3333333333333333,
              "#9c179e"
             ],
             [
              0.4444444444444444,
              "#bd3786"
             ],
             [
              0.5555555555555556,
              "#d8576b"
             ],
             [
              0.6666666666666666,
              "#ed7953"
             ],
             [
              0.7777777777777778,
              "#fb9f3a"
             ],
             [
              0.8888888888888888,
              "#fdca26"
             ],
             [
              1,
              "#f0f921"
             ]
            ],
            "type": "surface"
           }
          ],
          "table": [
           {
            "cells": {
             "fill": {
              "color": "#EBF0F8"
             },
             "line": {
              "color": "white"
             }
            },
            "header": {
             "fill": {
              "color": "#C8D4E3"
             },
             "line": {
              "color": "white"
             }
            },
            "type": "table"
           }
          ]
         },
         "layout": {
          "annotationdefaults": {
           "arrowcolor": "#2a3f5f",
           "arrowhead": 0,
           "arrowwidth": 1
          },
          "autotypenumbers": "strict",
          "coloraxis": {
           "colorbar": {
            "outlinewidth": 0,
            "ticks": ""
           }
          },
          "colorscale": {
           "diverging": [
            [
             0,
             "#8e0152"
            ],
            [
             0.1,
             "#c51b7d"
            ],
            [
             0.2,
             "#de77ae"
            ],
            [
             0.3,
             "#f1b6da"
            ],
            [
             0.4,
             "#fde0ef"
            ],
            [
             0.5,
             "#f7f7f7"
            ],
            [
             0.6,
             "#e6f5d0"
            ],
            [
             0.7,
             "#b8e186"
            ],
            [
             0.8,
             "#7fbc41"
            ],
            [
             0.9,
             "#4d9221"
            ],
            [
             1,
             "#276419"
            ]
           ],
           "sequential": [
            [
             0,
             "#0d0887"
            ],
            [
             0.1111111111111111,
             "#46039f"
            ],
            [
             0.2222222222222222,
             "#7201a8"
            ],
            [
             0.3333333333333333,
             "#9c179e"
            ],
            [
             0.4444444444444444,
             "#bd3786"
            ],
            [
             0.5555555555555556,
             "#d8576b"
            ],
            [
             0.6666666666666666,
             "#ed7953"
            ],
            [
             0.7777777777777778,
             "#fb9f3a"
            ],
            [
             0.8888888888888888,
             "#fdca26"
            ],
            [
             1,
             "#f0f921"
            ]
           ],
           "sequentialminus": [
            [
             0,
             "#0d0887"
            ],
            [
             0.1111111111111111,
             "#46039f"
            ],
            [
             0.2222222222222222,
             "#7201a8"
            ],
            [
             0.3333333333333333,
             "#9c179e"
            ],
            [
             0.4444444444444444,
             "#bd3786"
            ],
            [
             0.5555555555555556,
             "#d8576b"
            ],
            [
             0.6666666666666666,
             "#ed7953"
            ],
            [
             0.7777777777777778,
             "#fb9f3a"
            ],
            [
             0.8888888888888888,
             "#fdca26"
            ],
            [
             1,
             "#f0f921"
            ]
           ]
          },
          "colorway": [
           "#636efa",
           "#EF553B",
           "#00cc96",
           "#ab63fa",
           "#FFA15A",
           "#19d3f3",
           "#FF6692",
           "#B6E880",
           "#FF97FF",
           "#FECB52"
          ],
          "font": {
           "color": "#2a3f5f"
          },
          "geo": {
           "bgcolor": "white",
           "lakecolor": "white",
           "landcolor": "white",
           "showlakes": true,
           "showland": true,
           "subunitcolor": "#C8D4E3"
          },
          "hoverlabel": {
           "align": "left"
          },
          "hovermode": "closest",
          "mapbox": {
           "style": "light"
          },
          "paper_bgcolor": "white",
          "plot_bgcolor": "white",
          "polar": {
           "angularaxis": {
            "gridcolor": "#EBF0F8",
            "linecolor": "#EBF0F8",
            "ticks": ""
           },
           "bgcolor": "white",
           "radialaxis": {
            "gridcolor": "#EBF0F8",
            "linecolor": "#EBF0F8",
            "ticks": ""
           }
          },
          "scene": {
           "xaxis": {
            "backgroundcolor": "white",
            "gridcolor": "#DFE8F3",
            "gridwidth": 2,
            "linecolor": "#EBF0F8",
            "showbackground": true,
            "ticks": "",
            "zerolinecolor": "#EBF0F8"
           },
           "yaxis": {
            "backgroundcolor": "white",
            "gridcolor": "#DFE8F3",
            "gridwidth": 2,
            "linecolor": "#EBF0F8",
            "showbackground": true,
            "ticks": "",
            "zerolinecolor": "#EBF0F8"
           },
           "zaxis": {
            "backgroundcolor": "white",
            "gridcolor": "#DFE8F3",
            "gridwidth": 2,
            "linecolor": "#EBF0F8",
            "showbackground": true,
            "ticks": "",
            "zerolinecolor": "#EBF0F8"
           }
          },
          "shapedefaults": {
           "line": {
            "color": "#2a3f5f"
           }
          },
          "ternary": {
           "aaxis": {
            "gridcolor": "#DFE8F3",
            "linecolor": "#A2B1C6",
            "ticks": ""
           },
           "baxis": {
            "gridcolor": "#DFE8F3",
            "linecolor": "#A2B1C6",
            "ticks": ""
           },
           "bgcolor": "white",
           "caxis": {
            "gridcolor": "#DFE8F3",
            "linecolor": "#A2B1C6",
            "ticks": ""
           }
          },
          "title": {
           "x": 0.05
          },
          "xaxis": {
           "automargin": true,
           "gridcolor": "#EBF0F8",
           "linecolor": "#EBF0F8",
           "ticks": "",
           "title": {
            "standoff": 15
           },
           "zerolinecolor": "#EBF0F8",
           "zerolinewidth": 2
          },
          "yaxis": {
           "automargin": true,
           "gridcolor": "#EBF0F8",
           "linecolor": "#EBF0F8",
           "ticks": "",
           "title": {
            "standoff": 15
           },
           "zerolinecolor": "#EBF0F8",
           "zerolinewidth": 2
          }
         }
        },
        "title": {
         "font": {
          "color": "Black",
          "size": 22
         },
         "text": "<b>Term score decline per Topic</b>",
         "x": 0.5,
         "xanchor": "center",
         "y": 0.9,
         "yanchor": "top"
        },
        "width": 800,
        "xaxis": {
         "dtick": 2,
         "range": [
          0,
          10
         ],
         "tick0": 1,
         "title": {
          "text": "Term Rank"
         }
        },
        "yaxis": {
         "title": {
          "text": "c-TF-IDF score"
         }
        }
       }
      }
     },
     "metadata": {},
     "output_type": "display_data"
    }
   ],
   "source": [
    "topic_model.visualize_term_rank()"
   ]
  },
  {
   "cell_type": "code",
   "execution_count": 44,
   "metadata": {},
   "outputs": [
    {
     "data": {
      "application/vnd.plotly.v1+json": {
       "config": {
        "plotlyServerURL": "https://plot.ly"
       },
       "data": [
        {
         "hovertext": "<b>Topic -1</b>:fuck_contact_and_inform_cancellati",
         "line": {
          "color": "black",
          "width": 1.5
         },
         "mode": "lines+lines",
         "name": "",
         "opacity": 0.1,
         "type": "scatter",
         "x": [
          1,
          2,
          3,
          4,
          5,
          6,
          7,
          8,
          9,
          10
         ],
         "y": [
          -2.1798064343030243,
          -2.2420864733450294,
          -2.2635049944248893,
          -2.267566043080176,
          -2.273641000944421,
          -2.2796192917416764,
          -2.282426005185863,
          -2.28809842791275,
          -2.303627502293293,
          -2.304252367932637
         ]
        },
        {
         "hovertext": "<b>Topic 0</b>:report_issue_problem_inform_pay_pay",
         "line": {
          "color": "black",
          "width": 1.5
         },
         "mode": "lines+lines",
         "name": "",
         "opacity": 0.1,
         "type": "scatter",
         "x": [
          1,
          2,
          3,
          4,
          5,
          6,
          7,
          8,
          9,
          10
         ],
         "y": [
          -1.5241326196854397,
          -1.6774887619715244,
          -1.69458597280243,
          -1.704868090209673,
          -1.7986521553798664,
          -1.844415726687589,
          -1.8664455851694364,
          -1.8791950519349028,
          -1.9013300351764693,
          -1.9150170147566448
         ]
        },
        {
         "hovertext": "<b>Topic 1</b>:some_bill_invoice_obtain_about_requ",
         "line": {
          "color": "black",
          "width": 1.5
         },
         "mode": "lines+lines",
         "name": "",
         "opacity": 0.1,
         "type": "scatter",
         "x": [
          1,
          2,
          3,
          4,
          5,
          6,
          7,
          8,
          9,
          10
         ],
         "y": [
          -1.3511755691196088,
          -1.4503022793715221,
          -1.480459395115631,
          -1.544532945171229,
          -1.6314432730483615,
          -1.6616523706229536,
          -1.7054598510661463,
          -1.7765471931975176,
          -1.868134844077326,
          -2.019917472523143
         ]
        },
        {
         "hovertext": "<b>Topic 2</b>:understand_human_person_talk_speak_",
         "line": {
          "color": "black",
          "width": 1.5
         },
         "mode": "lines+lines",
         "name": "",
         "opacity": 0.1,
         "type": "scatter",
         "x": [
          1,
          2,
          3,
          4,
          5,
          6,
          7,
          8,
          9,
          10
         ],
         "y": [
          -1.2290756914307182,
          -1.232144872065701,
          -1.354420401780981,
          -1.4156219457380699,
          -1.4481870025895198,
          -1.466275074481404,
          -1.4903022749742356,
          -1.5847034032820573,
          -1.7547204868841633,
          -1.7706619664923482
         ]
        },
        {
         "hovertext": "<b>Topic 3</b>:mail_send_client_email_customer_sup",
         "line": {
          "color": "black",
          "width": 1.5
         },
         "mode": "lines+lines",
         "name": "",
         "opacity": 0.1,
         "type": "scatter",
         "x": [
          1,
          2,
          3,
          4,
          5,
          6,
          7,
          8,
          9,
          10
         ],
         "y": [
          -1.30789912849109,
          -1.4018805497215765,
          -1.483292084703347,
          -1.499413504849224,
          -1.5033575216264397,
          -1.5890374814649493,
          -1.5983225596197173,
          -1.6371187839029337,
          -1.7124904844029336,
          -1.7246194639674621
         ]
        },
        {
         "hovertext": "<b>Topic 4</b>:purchase_modify_buy_item_product_ch",
         "line": {
          "color": "black",
          "width": 1.5
         },
         "mode": "lines+lines",
         "name": "",
         "opacity": 0.1,
         "type": "scatter",
         "x": [
          1,
          2,
          3,
          4,
          5,
          6,
          7,
          8,
          9,
          10
         ],
         "y": [
          -1.1717463590362067,
          -1.2385724823197655,
          -1.3586868250386823,
          -1.3812596717183585,
          -1.3895583892571202,
          -1.3911622322660824,
          -1.4318975270557284,
          -1.5097135763558165,
          -1.7675828221902876,
          -1.8804488080297344
         ]
        },
        {
         "hovertext": "<b>Topic 5</b>:but_charge_anyway_error_message_att",
         "line": {
          "color": "black",
          "width": 1.5
         },
         "mode": "lines+lines",
         "name": "",
         "opacity": 0.1,
         "type": "scatter",
         "x": [
          1,
          2,
          3,
          4,
          5,
          6,
          7,
          8,
          9,
          10
         ],
         "y": [
          -1.3780335427944066,
          -1.378862174683442,
          -1.379070378761015,
          -1.5097891214870698,
          -1.5904891861275465,
          -1.5994781948957368,
          -1.6618066429216116,
          -1.7136317936005239,
          -1.7418395202111392,
          -1.816901794516197
         ]
        },
        {
         "hovertext": "<b>Topic 6</b>:call_customer_question_support_spea",
         "line": {
          "color": "black",
          "width": 1.5
         },
         "mode": "lines+lines",
         "name": "",
         "opacity": 0.1,
         "type": "scatter",
         "x": [
          1,
          2,
          3,
          4,
          5,
          6,
          7,
          8,
          9,
          10
         ],
         "y": [
          -1.2466891169489374,
          -1.3110430432395357,
          -1.3564832228961339,
          -1.3865847661112787,
          -1.459156702339462,
          -1.4636827889428627,
          -1.4807937219351945,
          -1.5298889373036701,
          -1.5704262356653977,
          -1.7194272591325308
         ]
        },
        {
         "hovertext": "<b>Topic 7</b>:consumer_complaint_discontent_lodge",
         "line": {
          "color": "black",
          "width": 1.5
         },
         "mode": "lines+lines",
         "name": "",
         "opacity": 0.1,
         "type": "scatter",
         "x": [
          1,
          2,
          3,
          4,
          5,
          6,
          7,
          8,
          9,
          10
         ],
         "y": [
          -1.0439103371618008,
          -1.0807049667359232,
          -1.2624619268839643,
          -1.409754093588331,
          -1.4163580567249743,
          -1.4668001626757756,
          -1.4716425263208712,
          -1.5373561312701467,
          -1.7175445782869836,
          -1.8160239456521177
         ]
        },
        {
         "hovertext": "<b>Topic 8</b>:status_of_reimbursement_refund_view",
         "line": {
          "color": "black",
          "width": 1.5
         },
         "mode": "lines+lines",
         "name": "",
         "opacity": 0.1,
         "type": "scatter",
         "x": [
          1,
          2,
          3,
          4,
          5,
          6,
          7,
          8,
          9,
          10
         ],
         "y": [
          -0.9652049854642503,
          -1.475352663232946,
          -1.6377698688000366,
          -1.6808967483649788,
          -1.7253934317177375,
          -1.7365708069206636,
          -1.7785316068945651,
          -1.8577241033737029,
          -1.8927315349313336,
          -1.9371157724031705
         ]
        },
        {
         "hovertext": "<b>Topic 9</b>:create_one_no_account_user_online_h",
         "line": {
          "color": "black",
          "width": 1.5
         },
         "mode": "lines+lines",
         "name": "",
         "opacity": 0.1,
         "type": "scatter",
         "x": [
          1,
          2,
          3,
          4,
          5,
          6,
          7,
          8,
          9,
          10
         ],
         "y": [
          -1.0763277341773796,
          -1.2314699642594418,
          -1.4580944432109924,
          -1.6091320304874808,
          -1.6256426908831536,
          -1.7583932201881871,
          -1.7603024615434275,
          -1.8576252014197012,
          -1.8885780795302844,
          -1.9272412064438016
         ]
        },
        {
         "hovertext": "<b>Topic 10</b>:open_one_no_account_user_online_ha",
         "line": {
          "color": "black",
          "width": 1.5
         },
         "mode": "lines+lines",
         "name": "",
         "opacity": 0.1,
         "type": "scatter",
         "x": [
          1,
          2,
          3,
          4,
          5,
          6,
          7,
          8,
          9,
          10
         ],
         "y": [
          -0.8963577858448896,
          -1.3010546618426313,
          -1.4797202976757364,
          -1.5322543455234074,
          -1.5637632363793859,
          -1.6648966101960463,
          -1.8543033900270298,
          -1.9965081435910006,
          -2.0257728067105525,
          -2.0621041758255902
         ]
        },
        {
         "hovertext": "<b>Topic 11</b>:refund_reimbursement_obtain_reques",
         "line": {
          "color": "black",
          "width": 1.5
         },
         "mode": "lines+lines",
         "name": "",
         "opacity": 0.1,
         "type": "scatter",
         "x": [
          1,
          2,
          3,
          4,
          5,
          6,
          7,
          8,
          9,
          10
         ],
         "y": [
          -1.2434250038604369,
          -1.2751716622091642,
          -1.4227502790070634,
          -1.4695296899112678,
          -1.5567774200666502,
          -1.6243974547289541,
          -1.8785852513100623,
          -1.885563502105043,
          -1.8939215015512432,
          -1.908088562011861
         ]
        },
        {
         "hovertext": "<b>Topic 12</b>:remove_delete_account_profile_user",
         "line": {
          "color": "black",
          "width": 1.5
         },
         "mode": "lines+lines",
         "name": "",
         "opacity": 0.1,
         "type": "scatter",
         "x": [
          1,
          2,
          3,
          4,
          5,
          6,
          7,
          8,
          9,
          10
         ],
         "y": [
          -1.0134606050378598,
          -1.054528073986391,
          -1.6523693366055958,
          -1.6777150902631408,
          -1.696788600428736,
          -1.8414383530334772,
          -1.8489857766442415,
          -1.8710031569311911,
          -1.9559854555115734,
          -1.9936336377831436
         ]
        },
        {
         "hovertext": "<b>Topic 13</b>:number_phone_free_contact_customer",
         "line": {
          "color": "black",
          "width": 1.5
         },
         "mode": "lines+lines",
         "name": "",
         "opacity": 0.1,
         "type": "scatter",
         "x": [
          1,
          2,
          3,
          4,
          5,
          6,
          7,
          8,
          9,
          10
         ],
         "y": [
          -0.9354260344594953,
          -1.0723837171895696,
          -1.0853811738516521,
          -1.468328013314546,
          -1.4969492890846912,
          -1.54608402073092,
          -1.6173136985917893,
          -1.6524830501153505,
          -1.6903799187167572,
          -1.7694871505160341
         ]
        },
        {
         "hovertext": "<b>Topic 14</b>:hack_back_recover_be_account_profi",
         "line": {
          "color": "black",
          "width": 1.5
         },
         "mode": "lines+lines",
         "name": "",
         "opacity": 0.1,
         "type": "scatter",
         "x": [
          1,
          2,
          3,
          4,
          5,
          6,
          7,
          8,
          9,
          10
         ],
         "y": [
          -0.8651950890232671,
          -1.2456303542238492,
          -1.2758181248531009,
          -1.6402489975457886,
          -1.7091069610692096,
          -1.7130381007454578,
          -1.735506010267286,
          -1.7642962942824543,
          -1.818110326132346,
          -1.8580685684527456
         ]
        },
        {
         "hovertext": "<b>Topic 15</b>:solve_problem_payment_issue_ask_ag",
         "line": {
          "color": "black",
          "width": 1.5
         },
         "mode": "lines+lines",
         "name": "",
         "opacity": 0.1,
         "type": "scatter",
         "x": [
          1,
          2,
          3,
          4,
          5,
          6,
          7,
          8,
          9,
          10
         ],
         "y": [
          -0.8035847037070761,
          -1.5360492360783287,
          -1.5711208768721256,
          -1.577975125087329,
          -1.8990863715216604,
          -1.9294726625296041,
          -1.9371884079921657,
          -1.9792973304151271,
          -2.0330828001761927,
          -2.039861439315624
         ]
        },
        {
         "hovertext": "<b>Topic 16</b>:money_policy_back_guarantee_your_t",
         "line": {
          "color": "black",
          "width": 1.5
         },
         "mode": "lines+lines",
         "name": "",
         "opacity": 0.1,
         "type": "scatter",
         "x": [
          1,
          2,
          3,
          4,
          5,
          6,
          7,
          8,
          9,
          10
         ],
         "y": [
          -0.9492586452145995,
          -1.0547464046902124,
          -1.0665649233007053,
          -1.0996330600228017,
          -1.1308332564638839,
          -1.241474692540886,
          -1.423224709576642,
          -1.4786853067835113,
          -1.491669652252226,
          -1.5189730763395473
         ]
        },
        {
         "hovertext": "<b>Topic 17</b>:notify_problem_issue_payment_pay_w",
         "line": {
          "color": "black",
          "width": 1.5
         },
         "mode": "lines+lines",
         "name": "",
         "opacity": 0.1,
         "type": "scatter",
         "x": [
          1,
          2,
          3,
          4,
          5,
          6,
          7,
          8,
          9,
          10
         ],
         "y": [
          -1.114221372861046,
          -1.5252658430905355,
          -1.537500299507547,
          -1.5997104433379634,
          -1.786950900097297,
          -1.8963263115632703,
          -1.931311683641736,
          -2.0551997440807797,
          -2.0629571947405285,
          -2.082746719631858
         ]
        },
        {
         "hovertext": "<b>Topic 18</b>:download_some_bill_invoice_about_t",
         "line": {
          "color": "black",
          "width": 1.5
         },
         "mode": "lines+lines",
         "name": "",
         "opacity": 0.1,
         "type": "scatter",
         "x": [
          1,
          2,
          3,
          4,
          5,
          6,
          7,
          8,
          9,
          10
         ],
         "y": [
          -0.7506817523607945,
          -1.316387880414918,
          -1.4600680829642518,
          -1.4755871499894573,
          -1.7346454465649266,
          -1.7805761216301468,
          -1.8409659865219463,
          -1.9232945893795292,
          -1.9737719494096444,
          -2.0461115154832714
         ]
        },
        {
         "hovertext": "<b>Topic 19</b>:two_same_single_email_register_add",
         "line": {
          "color": "black",
          "width": 1.5
         },
         "mode": "lines+lines",
         "name": "",
         "opacity": 0.1,
         "type": "scatter",
         "x": [
          1,
          2,
          3,
          4,
          5,
          6,
          7,
          8,
          9,
          10
         ],
         "y": [
          -0.8812309106296804,
          -1.2307518170236609,
          -1.307882280341601,
          -1.3170998295731726,
          -1.382990796045643,
          -1.5198761362750892,
          -1.5343154886015606,
          -1.537561505072205,
          -1.611605877848463,
          -1.7531018104550131
         ]
        },
        {
         "hovertext": "<b>Topic 20</b>:pop_error_attempt_message_when_try",
         "line": {
          "color": "black",
          "width": 1.5
         },
         "mode": "lines+lines",
         "name": "",
         "opacity": 0.1,
         "type": "scatter",
         "x": [
          1,
          2,
          3,
          4,
          5,
          6,
          7,
          8,
          9,
          10
         ],
         "y": [
          -0.8888964764302553,
          -1.3815311039331053,
          -1.4691419232936436,
          -1.488057085144872,
          -1.535266338148366,
          -1.6811875397867433,
          -1.7093393011686928,
          -1.781440322246114,
          -1.8272693814273018,
          -1.843132048513581
         ]
        },
        {
         "hovertext": "<b>Topic 21</b>:find_them_not_view_bill_invoice_ch",
         "line": {
          "color": "black",
          "width": 1.5
         },
         "mode": "lines+lines",
         "name": "",
         "opacity": 0.1,
         "type": "scatter",
         "x": [
          1,
          2,
          3,
          4,
          5,
          6,
          7,
          8,
          9,
          10
         ],
         "y": [
          -0.8495735520850939,
          -1.2307350108745765,
          -1.4661487755683509,
          -1.516737083485819,
          -1.5215469122451608,
          -1.5323566324123972,
          -1.7451169264767048,
          -1.7826516724823598,
          -1.916390968431806,
          -1.9353374449252814
         ]
        },
        {
         "hovertext": "<b>Topic 22</b>:single_several_more_than_email_reg",
         "line": {
          "color": "black",
          "width": 1.5
         },
         "mode": "lines+lines",
         "name": "",
         "opacity": 0.1,
         "type": "scatter",
         "x": [
          1,
          2,
          3,
          4,
          5,
          6,
          7,
          8,
          9,
          10
         ],
         "y": [
          -0.9891500200960274,
          -1.1882766502869586,
          -1.2736196280590035,
          -1.279354064159627,
          -1.3363586353507302,
          -1.3848420678397295,
          -1.5218880496400486,
          -1.5392078726483347,
          -1.5633665525918763,
          -1.62658276837779
         ]
        },
        {
         "hovertext": "<b>Topic 23</b>:register_no_registering_registrati",
         "line": {
          "color": "black",
          "width": 1.5
         },
         "mode": "lines+lines",
         "name": "",
         "opacity": 0.1,
         "type": "scatter",
         "x": [
          1,
          2,
          3,
          4,
          5,
          6,
          7,
          8,
          9,
          10
         ],
         "y": [
          -0.9934955499002122,
          -1.1986154858278697,
          -1.4075146227626854,
          -1.4794202739236206,
          -1.5415161127216133,
          -1.5467415080320188,
          -1.6130438135480376,
          -1.7007625091636045,
          -1.7172990300937852,
          -1.725477237376664
         ]
        },
        {
         "hovertext": "<b>Topic 24</b>:newsletter_subscribe_receive_there",
         "line": {
          "color": "black",
          "width": 1.5
         },
         "mode": "lines+lines",
         "name": "",
         "opacity": 0.1,
         "type": "scatter",
         "x": [
          1,
          2,
          3,
          4,
          5,
          6,
          7,
          8,
          9,
          10
         ],
         "y": [
          -0.7777393069604851,
          -0.9344988192051503,
          -1.1656132554131573,
          -1.2835945093394998,
          -1.7536356610581287,
          -1.8147235202398695,
          -1.8496821266407788,
          -1.8504740044050498,
          -1.8672096241763851,
          -1.9762234960506486
         ]
        },
        {
         "hovertext": "<b>Topic 25</b>:same_several_more_than_email_regis",
         "line": {
          "color": "black",
          "width": 1.5
         },
         "mode": "lines+lines",
         "name": "",
         "opacity": 0.1,
         "type": "scatter",
         "x": [
          1,
          2,
          3,
          4,
          5,
          6,
          7,
          8,
          9,
          10
         ],
         "y": [
          -1.0217893073776394,
          -1.264188133625543,
          -1.267533917199136,
          -1.2731074538294769,
          -1.3719652429500844,
          -1.4463996896337294,
          -1.570317382688806,
          -1.5763235674784146,
          -1.5872871093605974,
          -1.6574022192164164
         ]
        },
        {
         "hovertext": "<b>Topic 26</b>:shipping_set_up_address_update_shi",
         "line": {
          "color": "black",
          "width": 1.5
         },
         "mode": "lines+lines",
         "name": "",
         "opacity": 0.1,
         "type": "scatter",
         "x": [
          1,
          2,
          3,
          4,
          5,
          6,
          7,
          8,
          9,
          10
         ],
         "y": [
          -0.7787710274720605,
          -0.9157796713322561,
          -0.9387517032465681,
          -1.1330973523284604,
          -1.3945556047499656,
          -1.5214009275445315,
          -1.6842511095844688,
          -1.8134248226927137,
          -1.9253960278791513,
          -1.9328626739246322
         ]
        },
        {
         "hovertext": "<b>Topic 27</b>:game_postpone_cancel_reimbursement",
         "line": {
          "color": "black",
          "width": 1.5
         },
         "mode": "lines+lines",
         "name": "",
         "opacity": 0.1,
         "type": "scatter",
         "x": [
          1,
          2,
          3,
          4,
          5,
          6,
          7,
          8,
          9,
          10
         ],
         "y": [
          -0.7086888715099594,
          -1.1626470450502648,
          -1.2836150580496195,
          -1.4178127427453269,
          -1.4400470738373932,
          -1.491570266238994,
          -1.597718118046456,
          -1.6119733182368552,
          -1.6677111942376517,
          -1.9415025567063062
         ]
        },
        {
         "hovertext": "<b>Topic 28</b>:lose_them_bill_invoice_view_check_",
         "line": {
          "color": "black",
          "width": 1.5
         },
         "mode": "lines+lines",
         "name": "",
         "opacity": 0.1,
         "type": "scatter",
         "x": [
          1,
          2,
          3,
          4,
          5,
          6,
          7,
          8,
          9,
          10
         ],
         "y": [
          -0.7341530144624315,
          -1.114495260409617,
          -1.4233662445465625,
          -1.4446176595778806,
          -1.446477253538716,
          -1.6298121483468182,
          -1.6873857437909787,
          -1.8202212007421803,
          -1.8615853947724388,
          -1.9217604181520425
         ]
        },
        {
         "hovertext": "<b>Topic 29</b>:cancel_show_refund_profile_user_ac",
         "line": {
          "color": "black",
          "width": 1.5
         },
         "mode": "lines+lines",
         "name": "",
         "opacity": 0.1,
         "type": "scatter",
         "x": [
          1,
          2,
          3,
          4,
          5,
          6,
          7,
          8,
          9,
          10
         ],
         "y": [
          -0.9543407604382045,
          -1.6113326246000468,
          -1.7846320599789658,
          -1.7983535746077546,
          -1.8303920619377174,
          -1.8536118358075424,
          -2.0384046965967677,
          -2.0644105803670563,
          -2.0900218902381553,
          -2.1164419940284978
         ]
        },
        {
         "hovertext": "<b>Topic 30</b>:review_leave_write_happy_submit_lo",
         "line": {
          "color": "black",
          "width": 1.5
         },
         "mode": "lines+lines",
         "name": "",
         "opacity": 0.1,
         "type": "scatter",
         "x": [
          1,
          2,
          3,
          4,
          5,
          6,
          7,
          8,
          9,
          10
         ],
         "y": [
          -0.6580605009345077,
          -1.241266019726972,
          -1.252346102161341,
          -1.2549371092472563,
          -1.5536308839292097,
          -1.5663760694935738,
          -1.5851167959904893,
          -1.5868587347970002,
          -1.7151771219993652,
          -1.9140004086445865
         ]
        },
        {
         "hovertext": "<b>Topic 31</b>:receive_them_not_invoice_bill_view",
         "line": {
          "color": "black",
          "width": 1.5
         },
         "mode": "lines+lines",
         "name": "",
         "opacity": 0.1,
         "type": "scatter",
         "x": [
          1,
          2,
          3,
          4,
          5,
          6,
          7,
          8,
          9,
          10
         ],
         "y": [
          -0.8495258181093958,
          -1.1913270304028423,
          -1.4505365532569505,
          -1.4928042481215757,
          -1.5608958548933995,
          -1.592635514907909,
          -1.6919206615193372,
          -1.7294554075249922,
          -1.789803466150945,
          -1.9113716681585262
         ]
        },
        {
         "hovertext": "<b>Topic 32</b>:ticket_option_delivery_for_view_th",
         "line": {
          "color": "black",
          "width": 1.5
         },
         "mode": "lines+lines",
         "name": "",
         "opacity": 0.1,
         "type": "scatter",
         "x": [
          1,
          2,
          3,
          4,
          5,
          6,
          7,
          8,
          9,
          10
         ],
         "y": [
          -0.8216849307618852,
          -0.9164423653975119,
          -1.0052497098450568,
          -1.580075636870228,
          -1.644010539831033,
          -1.671003004697988,
          -1.7027812512941578,
          -1.7712851145418855,
          -2.0489326178042866,
          -2.1388192544862767
         ]
        },
        {
         "hovertext": "<b>Topic 33</b>:event_postpone_cancel_reimbursemen",
         "line": {
          "color": "black",
          "width": 1.5
         },
         "mode": "lines+lines",
         "name": "",
         "opacity": 0.1,
         "type": "scatter",
         "x": [
          1,
          2,
          3,
          4,
          5,
          6,
          7,
          8,
          9,
          10
         ],
         "y": [
          -0.6950371825119551,
          -1.1574702068298983,
          -1.2709615732086923,
          -1.3693246719295953,
          -1.385683606593973,
          -1.444560493920428,
          -1.485405046886738,
          -1.6046984349607971,
          -1.6528769494599327,
          -1.869829241113461
         ]
        },
        {
         "hovertext": "<b>Topic 34</b>:complaint_lodge_file_for_service_s",
         "line": {
          "color": "black",
          "width": 1.5
         },
         "mode": "lines+lines",
         "name": "",
         "opacity": 0.1,
         "type": "scatter",
         "x": [
          1,
          2,
          3,
          4,
          5,
          6,
          7,
          8,
          9,
          10
         ],
         "y": [
          -0.945903597960126,
          -1.1702443969401919,
          -1.222479215709684,
          -1.3996420147165642,
          -1.5762839168066127,
          -1.767246031370081,
          -1.8557372895196629,
          -1.930502865541642,
          -2.0532107772058295,
          -2.084330513511154
         ]
        },
        {
         "hovertext": "<b>Topic 35</b>:opinion_leave_write_happy_submit_s",
         "line": {
          "color": "black",
          "width": 1.5
         },
         "mode": "lines+lines",
         "name": "",
         "opacity": 0.1,
         "type": "scatter",
         "x": [
          1,
          2,
          3,
          4,
          5,
          6,
          7,
          8,
          9,
          10
         ],
         "y": [
          -0.7234868021648085,
          -1.2941980516595164,
          -1.3345033887603654,
          -1.3782069813611926,
          -1.553118596634788,
          -1.5963197497662478,
          -1.6598429345167633,
          -1.66902274448421,
          -1.7868577022490433,
          -1.799669058102893
         ]
        },
        {
         "hovertext": "<b>Topic 36</b>:penalty_cancellation_view_the_chec",
         "line": {
          "color": "black",
          "width": 1.5
         },
         "mode": "lines+lines",
         "name": "",
         "opacity": 0.1,
         "type": "scatter",
         "x": [
          1,
          2,
          3,
          4,
          5,
          6,
          7,
          8,
          9,
          10
         ],
         "y": [
          -0.6634053112450379,
          -0.815461041938467,
          -1.5079426834192762,
          -1.683171413744801,
          -1.716119140321875,
          -1.8435969622306003,
          -1.845112977125687,
          -2.0120909936902738,
          -2.02829193229893,
          -2.029128819188412
         ]
        },
        {
         "hovertext": "<b>Topic 37</b>:other_use_switch_them_another_chan",
         "line": {
          "color": "black",
          "width": 1.5
         },
         "mode": "lines+lines",
         "name": "",
         "opacity": 0.1,
         "type": "scatter",
         "x": [
          1,
          2,
          3,
          4,
          5,
          6,
          7,
          8,
          9,
          10
         ],
         "y": [
          -0.7821592043244531,
          -0.7822004580123245,
          -1.0099246791587162,
          -1.0519278307473856,
          -1.4716357288036856,
          -1.479499586297453,
          -1.6804354627748126,
          -1.7078424121994265,
          -1.819865889298313,
          -1.8652683381862574
         ]
        },
        {
         "hovertext": "<b>Topic 38</b>:close_closing_account_user_profile",
         "line": {
          "color": "black",
          "width": 1.5
         },
         "mode": "lines+lines",
         "name": "",
         "opacity": 0.1,
         "type": "scatter",
         "x": [
          1,
          2,
          3,
          4,
          5,
          6,
          7,
          8,
          9,
          10
         ],
         "y": [
          -0.7453218061012754,
          -1.4929142678149934,
          -1.6510126206864444,
          -1.7156309594477845,
          -1.7322730015487238,
          -1.7815229613889252,
          -1.816653906631778,
          -1.8801779003257442,
          -1.9269018764978008,
          -1.9719225988088207
         ]
        },
        {
         "hovertext": "<b>Topic 39</b>:remember_password_forget_retrieve_",
         "line": {
          "color": "black",
          "width": 1.5
         },
         "mode": "lines+lines",
         "name": "",
         "opacity": 0.1,
         "type": "scatter",
         "x": [
          1,
          2,
          3,
          4,
          5,
          6,
          7,
          8,
          9,
          10
         ],
         "y": [
          -0.92488295605927,
          -0.9828714669350571,
          -0.9830642998809862,
          -1.0126048084632806,
          -1.0984231202573727,
          -1.6151879891621632,
          -1.727976989850433,
          -1.8634165507466929,
          -1.8751711415457786,
          -1.8870446584905929
         ]
        },
        {
         "hovertext": "<b>Topic 40</b>:concert_postpone_cancel_reimbursem",
         "line": {
          "color": "black",
          "width": 1.5
         },
         "mode": "lines+lines",
         "name": "",
         "opacity": 0.1,
         "type": "scatter",
         "x": [
          1,
          2,
          3,
          4,
          5,
          6,
          7,
          8,
          9,
          10
         ],
         "y": [
          -0.6787094387309671,
          -1.1323315585316376,
          -1.289441029460555,
          -1.354475811543789,
          -1.4133563927696187,
          -1.4741428020724652,
          -1.4785734581270924,
          -1.6066373218024912,
          -1.651725496603346,
          -1.927466143090556
         ]
        },
        {
         "hovertext": "<b>Topic 41</b>:option_delivery_for_view_check_the",
         "line": {
          "color": "black",
          "width": 1.5
         },
         "mode": "lines+lines",
         "name": "",
         "opacity": 0.1,
         "type": "scatter",
         "x": [
          1,
          2,
          3,
          4,
          5,
          6,
          7,
          8,
          9,
          10
         ],
         "y": [
          -0.8709347323369885,
          -0.9466456396375046,
          -1.5233121547772968,
          -1.6004887689133185,
          -1.6093116590674328,
          -1.617334152165948,
          -1.8272465792080257,
          -1.9191522494751743,
          -1.9970255809498376,
          -1.9988237050876798
         ]
        },
        {
         "hovertext": "<b>Topic 42</b>:reset_password_forget_remember_los",
         "line": {
          "color": "black",
          "width": 1.5
         },
         "mode": "lines+lines",
         "name": "",
         "opacity": 0.1,
         "type": "scatter",
         "x": [
          1,
          2,
          3,
          4,
          5,
          6,
          7,
          8,
          9,
          10
         ],
         "y": [
          -0.6980284843201365,
          -0.9913197447592513,
          -1.2737423156104306,
          -1.3165273291445323,
          -1.5005377811922118,
          -1.791410612930183,
          -1.8136766305561356,
          -1.87763334498782,
          -2.110888469804176,
          -2.1883911595116197
         ]
        },
        {
         "hovertext": "<b>Topic 43</b>:error_attempt_when_message_make_ca",
         "line": {
          "color": "black",
          "width": 1.5
         },
         "mode": "lines+lines",
         "name": "",
         "opacity": 0.1,
         "type": "scatter",
         "x": [
          1,
          2,
          3,
          4,
          5,
          6,
          7,
          8,
          9,
          10
         ],
         "y": [
          -1.514681369447853,
          -1.5652895460204925,
          -1.5737784065516633,
          -1.588194746211433,
          -1.6347613477306275,
          -1.6728018662065323,
          -1.678109758420492,
          -1.7263145096540635,
          -1.7366083187823766,
          -1.8063612485192437
         ]
        },
        {
         "hovertext": "<b>Topic 44</b>:fee_cancellation_view_the_check_re",
         "line": {
          "color": "black",
          "width": 1.5
         },
         "mode": "lines+lines",
         "name": "",
         "opacity": 0.1,
         "type": "scatter",
         "x": [
          1,
          2,
          3,
          4,
          5,
          6,
          7,
          8,
          9,
          10
         ],
         "y": [
          -0.6416121232203641,
          -0.8178304809568989,
          -1.5631379733966204,
          -1.6854935414192238,
          -1.724571026756893,
          -1.7246583579038772,
          -1.8325834312882945,
          -1.856842573321941,
          -1.9739116257540528,
          -1.9739116257540528
         ]
        },
        {
         "hovertext": "<b>Topic 45</b>:mind_delete_remove_change_my_accou",
         "line": {
          "color": "black",
          "width": 1.5
         },
         "mode": "lines+lines",
         "name": "",
         "opacity": 0.1,
         "type": "scatter",
         "x": [
          1,
          2,
          3,
          4,
          5,
          6,
          7,
          8,
          9,
          10
         ],
         "y": [
          -0.7960702876597788,
          -1.0461982722825458,
          -1.0850500180926028,
          -1.1273367564913686,
          -1.5965105497804803,
          -1.682647983672762,
          -1.7169118018588176,
          -1.7649490079597294,
          -1.8103654241910725,
          -2.135028555627128
         ]
        },
        {
         "hovertext": "<b>Topic 46</b>:shipment_check_know_tell_where_my_",
         "line": {
          "color": "black",
          "width": 1.5
         },
         "mode": "lines+lines",
         "name": "",
         "opacity": 0.1,
         "type": "scatter",
         "x": [
          1,
          2,
          3,
          4,
          5,
          6,
          7,
          8,
          9,
          10
         ],
         "y": [
          -0.7683006657432,
          -1.3133451825019904,
          -1.600319342353953,
          -1.774003638441461,
          -1.7914036386010188,
          -1.8789551088603038,
          -1.9562283314798357,
          -1.9601445437879284,
          -2.005410291452522,
          -2.0438272831673165
         ]
        },
        {
         "hovertext": "<b>Topic 47</b>:steal_stole_someone_password_retri",
         "line": {
          "color": "black",
          "width": 1.5
         },
         "mode": "lines+lines",
         "name": "",
         "opacity": 0.1,
         "type": "scatter",
         "x": [
          1,
          2,
          3,
          4,
          5,
          6,
          7,
          8,
          9,
          10
         ],
         "y": [
          -0.7843921135836579,
          -0.8659963031283824,
          -0.8686751744546496,
          -0.9971848185984782,
          -1.2282141092616279,
          -1.2457060429718636,
          -1.3880478264626053,
          -1.6710964470929988,
          -1.7885549064785609,
          -1.8708319831013642
         ]
        },
        {
         "hovertext": "<b>Topic 48</b>:method_your_their_payment_view_acc",
         "line": {
          "color": "black",
          "width": 1.5
         },
         "mode": "lines+lines",
         "name": "",
         "opacity": 0.1,
         "type": "scatter",
         "x": [
          1,
          2,
          3,
          4,
          5,
          6,
          7,
          8,
          9,
          10
         ],
         "y": [
          -0.5553852701417797,
          -1.0084876957017483,
          -1.314808367322925,
          -1.4220446022602613,
          -1.5848653539278401,
          -1.6565685246869366,
          -1.7305041401048809,
          -1.7728377689923045,
          -1.87991244172867,
          -2.0548310831228926
         ]
        },
        {
         "hovertext": "<b>Topic 49</b>:another_switch_change_profile_user",
         "line": {
          "color": "black",
          "width": 1.5
         },
         "mode": "lines+lines",
         "name": "",
         "opacity": 0.1,
         "type": "scatter",
         "x": [
          1,
          2,
          3,
          4,
          5,
          6,
          7,
          8,
          9,
          10
         ],
         "y": [
          -0.6088679150493203,
          -0.8934405745965278,
          -1.379405897923434,
          -1.5549619522783018,
          -1.574035462443897,
          -1.6659754457337077,
          -1.8466302679087028,
          -1.8625849380208799,
          -1.9560326537230193,
          -1.9769399020245013
         ]
        },
        {
         "hovertext": "<b>Topic 50</b>:policy_your_reimbursement_refund_s",
         "line": {
          "color": "black",
          "width": 1.5
         },
         "mode": "lines+lines",
         "name": "",
         "opacity": 0.1,
         "type": "scatter",
         "x": [
          1,
          2,
          3,
          4,
          5,
          6,
          7,
          8,
          9,
          10
         ],
         "y": [
          -0.7254869351748929,
          -0.8349975424355139,
          -1.2742122507540292,
          -1.2798473200266338,
          -1.5040641757126698,
          -1.5269451259630986,
          -1.5399583468655484,
          -1.9548070509877293,
          -2.044005078193373,
          -2.044005078193373
         ]
        },
        {
         "hovertext": "<b>Topic 51</b>:package_track_tell_where_my_me_cou",
         "line": {
          "color": "black",
          "width": 1.5
         },
         "mode": "lines+lines",
         "name": "",
         "opacity": 0.1,
         "type": "scatter",
         "x": [
          1,
          2,
          3,
          4,
          5,
          6,
          7,
          8,
          9,
          10
         ],
         "y": [
          -0.7681011896419006,
          -0.9173608469099352,
          -1.7083837501849501,
          -1.7929654842502063,
          -1.87329914530847,
          -1.9777684919104352,
          -2.028743521235469,
          -2.075850491812666,
          -2.1065718384305168,
          -2.116246717489218
         ]
        },
        {
         "hovertext": "<b>Topic 52</b>:comment_write_leave_for_service_su",
         "line": {
          "color": "black",
          "width": 1.5
         },
         "mode": "lines+lines",
         "name": "",
         "opacity": 0.1,
         "type": "scatter",
         "x": [
          1,
          2,
          3,
          4,
          5,
          6,
          7,
          8,
          9,
          10
         ],
         "y": [
          -0.6125476564332453,
          -0.9080602947537542,
          -0.9082268517518964,
          -1.3914493715710743,
          -1.568091273661123,
          -1.6742318748242737,
          -1.8630428134682229,
          -1.9224080597706221,
          -1.9724442267621536,
          -1.9724442267621536
         ]
        },
        {
         "hovertext": "<b>Topic 53</b>:package_check_where_know_tell_my_a",
         "line": {
          "color": "black",
          "width": 1.5
         },
         "mode": "lines+lines",
         "name": "",
         "opacity": 0.1,
         "type": "scatter",
         "x": [
          1,
          2,
          3,
          4,
          5,
          6,
          7,
          8,
          9,
          10
         ],
         "y": [
          -0.7934793455155345,
          -1.2948287134143766,
          -1.6622234619987788,
          -1.7717098335231645,
          -1.8766564323621782,
          -1.8980618513309462,
          -1.9154061009370569,
          -1.941826204727399,
          -2.0323785412543156,
          -2.067080782045543
         ]
        },
        {
         "hovertext": "<b>Topic 54</b>:while_find_create_open_problem_pro",
         "line": {
          "color": "black",
          "width": 1.5
         },
         "mode": "lines+lines",
         "name": "",
         "opacity": 0.1,
         "type": "scatter",
         "x": [
          1,
          2,
          3,
          4,
          5,
          6,
          7,
          8,
          9,
          10
         ],
         "y": [
          -0.7375899997566374,
          -1.1281588647274243,
          -1.1974002618875195,
          -1.3380121165942425,
          -1.3899895995544418,
          -1.42134747277136,
          -1.4652405519736342,
          -1.5118737939538733,
          -1.5788186702931586,
          -1.6328519663989298
         ]
        },
        {
         "hovertext": "<b>Topic 55</b>:track_order_purchase_tell_my_where",
         "line": {
          "color": "black",
          "width": 1.5
         },
         "mode": "lines+lines",
         "name": "",
         "opacity": 0.1,
         "type": "scatter",
         "x": [
          1,
          2,
          3,
          4,
          5,
          6,
          7,
          8,
          9,
          10
         ],
         "y": [
          -0.8692296284080634,
          -1.3629270197297196,
          -1.6190130845459256,
          -1.7622420702204096,
          -1.8294049797498526,
          -1.8945965860816665,
          -1.967049984441616,
          -1.9675320673274779,
          -1.98379461328731,
          -1.98379461328731
         ]
        },
        {
         "hovertext": "<b>Topic 56</b>:own_more_than_several_if_one_profi",
         "line": {
          "color": "black",
          "width": 1.5
         },
         "mode": "lines+lines",
         "name": "",
         "opacity": 0.1,
         "type": "scatter",
         "x": [
          1,
          2,
          3,
          4,
          5,
          6,
          7,
          8,
          9,
          10
         ],
         "y": [
          -0.6401949524836918,
          -1.0564336569344932,
          -1.0572607585403724,
          -1.100023911407118,
          -1.4186837226124276,
          -1.4679647802389884,
          -1.6045895046977654,
          -1.663672433356479,
          -1.6952644231200094,
          -1.6955637944254727
         ]
        },
        {
         "hovertext": "<b>Topic 57</b>:comment_happy_submit_file_service_",
         "line": {
          "color": "black",
          "width": 1.5
         },
         "mode": "lines+lines",
         "name": "",
         "opacity": 0.1,
         "type": "scatter",
         "x": [
          1,
          2,
          3,
          4,
          5,
          6,
          7,
          8,
          9,
          10
         ],
         "y": [
          -0.7324229908952147,
          -0.9010352360896039,
          -1.355544313852927,
          -1.3581232523040414,
          -1.4813791540295225,
          -1.4835409686224594,
          -1.5600985354869341,
          -1.6821657381023023,
          -1.7329683964275866,
          -2.029420279751692
         ]
        },
        {
         "hovertext": "<b>Topic 58</b>:shipment_track_where_tell_my_know_",
         "line": {
          "color": "black",
          "width": 1.5
         },
         "mode": "lines+lines",
         "name": "",
         "opacity": 0.1,
         "type": "scatter",
         "x": [
          1,
          2,
          3,
          4,
          5,
          6,
          7,
          8,
          9,
          10
         ],
         "y": [
          -0.7331796303140701,
          -0.8908971310133038,
          -1.6861652636451279,
          -1.7551378302556255,
          -1.851072482355093,
          -1.862280143743812,
          -1.9677843442964031,
          -1.9908295532844411,
          -2.0278762139886983,
          -2.040738517416916
         ]
        },
        {
         "hovertext": "<b>Topic 59</b>:period_ticket_delivery_provide_abo",
         "line": {
          "color": "black",
          "width": 1.5
         },
         "mode": "lines+lines",
         "name": "",
         "opacity": 0.1,
         "type": "scatter",
         "x": [
          1,
          2,
          3,
          4,
          5,
          6,
          7,
          8,
          9,
          10
         ],
         "y": [
          -0.6539459069364565,
          -1.013662083320036,
          -1.0894743636630453,
          -1.3789082886932933,
          -1.4298224618838062,
          -1.4872638854882225,
          -1.498642294599977,
          -1.498642294599977,
          -1.6339294924055114,
          -1.7207290564984439
         ]
        },
        {
         "hovertext": "<b>Topic 60</b>:postpone_show_reimbursement_refund",
         "line": {
          "color": "black",
          "width": 1.5
         },
         "mode": "lines+lines",
         "name": "",
         "opacity": 0.1,
         "type": "scatter",
         "x": [
          1,
          2,
          3,
          4,
          5,
          6,
          7,
          8,
          9,
          10
         ],
         "y": [
          -0.847903881710385,
          -0.9770274252706773,
          -1.3202112340473622,
          -1.4142682061025043,
          -1.4285972141663494,
          -1.4971453698327255,
          -1.6129638828247372,
          -1.6573324311446116,
          -1.951958421792195,
          -1.953784314468717
         ]
        },
        {
         "hovertext": "<b>Topic 61</b>:password_retrieve_recover_account_",
         "line": {
          "color": "black",
          "width": 1.5
         },
         "mode": "lines+lines",
         "name": "",
         "opacity": 0.1,
         "type": "scatter",
         "x": [
          1,
          2,
          3,
          4,
          5,
          6,
          7,
          8,
          9,
          10
         ],
         "y": [
          -0.9238093892757046,
          -0.929229781449191,
          -1.0756995370921871,
          -1.7681423004328956,
          -1.8218613927755174,
          -1.8908208309883485,
          -1.8908208309883485,
          -1.9133891067515052,
          -1.9371446943216648,
          -2.0202027247477066
         ]
        },
        {
         "hovertext": "<b>Topic 62</b>:notify_pay_try_for_when_order_issu",
         "line": {
          "color": "black",
          "width": 1.5
         },
         "mode": "lines+lines",
         "name": "",
         "opacity": 0.1,
         "type": "scatter",
         "x": [
          1,
          2,
          3,
          4,
          5,
          6,
          7,
          8,
          9,
          10
         ],
         "y": [
          -1.278790631291017,
          -1.4759254237690782,
          -1.4958035098549534,
          -1.5882566921215973,
          -1.6205944096121052,
          -1.6710815785907913,
          -1.6774258435386866,
          -1.7081992980559744,
          -1.7152144044280864,
          -1.7339407647882141
         ]
        },
        {
         "hovertext": "<b>Topic 63</b>:lose_password_retrieve_recover_aps",
         "line": {
          "color": "black",
          "width": 1.5
         },
         "mode": "lines+lines",
         "name": "",
         "opacity": 0.1,
         "type": "scatter",
         "x": [
          1,
          2,
          3,
          4,
          5,
          6,
          7,
          8,
          9,
          10
         ],
         "y": [
          -0.7653713093100605,
          -0.9649475552928864,
          -1.089221898277949,
          -1.197903093031545,
          -1.4912002033996323,
          -1.683204907214914,
          -1.8224782756824067,
          -1.8362653055454545,
          -1.8924504557218567,
          -1.8924504557218567
         ]
        },
        {
         "hovertext": "<b>Topic 64</b>:inform_pay_of_problem_issue_ofissu",
         "line": {
          "color": "black",
          "width": 1.5
         },
         "mode": "lines+lines",
         "name": "",
         "opacity": 0.1,
         "type": "scatter",
         "x": [
          1,
          2,
          3,
          4,
          5,
          6,
          7,
          8,
          9,
          10
         ],
         "y": [
          -1.0459982213831767,
          -1.2493146921202698,
          -1.29702933620037,
          -1.4692985175838913,
          -1.4982622135192079,
          -1.8013970950466656,
          -1.8013970950466656,
          -1.8013970950466656,
          -1.8013970950466656,
          -1.8039694411966674
         ]
        },
        {
         "hovertext": "<b>Topic 65</b>:close_mind_change_closing_my_accou",
         "line": {
          "color": "black",
          "width": 1.5
         },
         "mode": "lines+lines",
         "name": "",
         "opacity": 0.1,
         "type": "scatter",
         "x": [
          1,
          2,
          3,
          4,
          5,
          6,
          7,
          8,
          9,
          10
         ],
         "y": [
          -0.7747872707057161,
          -0.8039925282035716,
          -1.1106549000851913,
          -1.3596524349217345,
          -1.592014107446742,
          -1.699445924366865,
          -1.7037465191754777,
          -1.722820029341073,
          -1.8731363327422104,
          -1.9013057009699426
         ]
        },
        {
         "hovertext": "<b>Topic 66</b>:profile_create_one_need_complaimt_",
         "line": {
          "color": "black",
          "width": 1.5
         },
         "mode": "lines+lines",
         "name": "",
         "opacity": 0.1,
         "type": "scatter",
         "x": [
          1,
          2,
          3,
          4,
          5,
          6,
          7,
          8,
          9,
          10
         ],
         "y": [
          -0.9551598739844286,
          -1.0780001493252442,
          -1.3906319174761708,
          -1.5542659925671152,
          -1.7248158237294127,
          -1.7248158237294127,
          -1.7248158237294127,
          -1.7248158237294127,
          -1.8006868261268507,
          -1.8006868261268507
         ]
        },
        {
         "hovertext": "<b>Topic 67</b>:way_out_on_package_their_shipment_",
         "line": {
          "color": "black",
          "width": 1.5
         },
         "mode": "lines+lines",
         "name": "",
         "opacity": 0.1,
         "type": "scatter",
         "x": [
          1,
          2,
          3,
          4,
          5,
          6,
          7,
          8,
          9,
          10
         ],
         "y": [
          -0.7498088097130113,
          -0.815597773836474,
          -0.9108419950765319,
          -1.2725218739501196,
          -1.2884987387307185,
          -1.315216552966302,
          -1.3709804159749202,
          -1.44854680891728,
          -1.4785620404960296,
          -1.4854411493267052
         ]
        },
        {
         "hovertext": "<b>Topic 68</b>:notify_make_payment_issue_problem_",
         "line": {
          "color": "black",
          "width": 1.5
         },
         "mode": "lines+lines",
         "name": "",
         "opacity": 0.1,
         "type": "scatter",
         "x": [
          1,
          2,
          3,
          4,
          5,
          6,
          7,
          8,
          9,
          10
         ],
         "y": [
          -1.1397377983292398,
          -1.3677005028205733,
          -1.4859378900604918,
          -1.5203395824451602,
          -1.6137612676073954,
          -1.8524381599079345,
          -1.8987620232412508,
          -1.8987620232412508,
          -1.8987620232412508,
          -1.8987620232412508
         ]
        },
        {
         "hovertext": "<b>Topic 69</b>:update_on_profile_edit_information",
         "line": {
          "color": "black",
          "width": 1.5
         },
         "mode": "lines+lines",
         "name": "",
         "opacity": 0.1,
         "type": "scatter",
         "x": [
          1,
          2,
          3,
          4,
          5,
          6,
          7,
          8,
          9,
          10
         ],
         "y": [
          -0.7724584962798143,
          -0.9343230909260548,
          -1.1211648812433643,
          -1.2489657489474697,
          -1.5884541028498205,
          -1.7509644697231732,
          -1.763596289027882,
          -1.8516310960409212,
          -1.8908208309883485,
          -1.9125224565065722
         ]
        },
        {
         "hovertext": "<b>Topic 70</b>:option_your_payment_view_see_check",
         "line": {
          "color": "black",
          "width": 1.5
         },
         "mode": "lines+lines",
         "name": "",
         "opacity": 0.1,
         "type": "scatter",
         "x": [
          1,
          2,
          3,
          4,
          5,
          6,
          7,
          8,
          9,
          10
         ],
         "y": [
          -0.7894960233100493,
          -0.849841296614069,
          -1.3872406544400648,
          -1.4127722311129145,
          -1.5495921237299974,
          -1.6533865305208117,
          -1.7537409242875075,
          -1.7537409242875075,
          -1.7537409242875075,
          -1.7537409242875075
         ]
        },
        {
         "hovertext": "<b>Topic 71</b>:notify_online_for_order_pay_try_ha",
         "line": {
          "color": "black",
          "width": 1.5
         },
         "mode": "lines+lines",
         "name": "",
         "opacity": 0.1,
         "type": "scatter",
         "x": [
          1,
          2,
          3,
          4,
          5,
          6,
          7,
          8,
          9,
          10
         ],
         "y": [
          -1.3402010140225205,
          -1.382800504007828,
          -1.4236018408355808,
          -1.4957028619130017,
          -1.545453696722761,
          -1.684841767705538,
          -1.757058852741522,
          -1.757319631964203,
          -1.7737100481523724,
          -1.8117415637078869
         ]
        },
        {
         "hovertext": "<b>Topic 72</b>:inform_pay_of_ask_agent_issue_plea",
         "line": {
          "color": "black",
          "width": 1.5
         },
         "mode": "lines+lines",
         "name": "",
         "opacity": 0.1,
         "type": "scatter",
         "x": [
          1,
          2,
          3,
          4,
          5,
          6,
          7,
          8,
          9,
          10
         ],
         "y": [
          -1.248729500563133,
          -1.483660506484259,
          -1.4997606153803262,
          -1.569049288875213,
          -1.5954693926655552,
          -1.677837068341595,
          -1.7110878809449608,
          -1.726857695967957,
          -1.73108258029482,
          -1.7452084347831018
         ]
        },
        {
         "hovertext": "<b>Topic 73</b>:report_payment_problem_issue_with_",
         "line": {
          "color": "black",
          "width": 1.5
         },
         "mode": "lines+lines",
         "name": "",
         "opacity": 0.1,
         "type": "scatter",
         "x": [
          1,
          2,
          3,
          4,
          5,
          6,
          7,
          8,
          9,
          10
         ],
         "y": [
          -1.0787329470982348,
          -1.4013727591720644,
          -1.5306462031142007,
          -1.5306462031142007,
          -1.6649343270427863,
          -1.7331109227602952,
          -1.7331109227602952,
          -1.7794347860936115,
          -1.7794347860936115,
          -1.8459430731799205
         ]
        },
        {
         "hovertext": "<b>Topic 74</b>:invoice_view_see_where_canm_viewmy",
         "line": {
          "color": "black",
          "width": 1.5
         },
         "mode": "lines+lines",
         "name": "",
         "opacity": 0.1,
         "type": "scatter",
         "x": [
          1,
          2,
          3,
          4,
          5,
          6,
          7,
          8,
          9,
          10
         ],
         "y": [
          -1.0238008836240928,
          -1.1961828175590379,
          -1.295214149286721,
          -1.4955951179632139,
          -1.624301686452531,
          -1.624301686452531,
          -1.74044448001493,
          -1.8501232946266797,
          -1.8556789852270343,
          -1.9629447155934108
         ]
        },
        {
         "hovertext": "<b>Topic 75</b>:check_order_ploease_mky_wanty_kkno",
         "line": {
          "color": "black",
          "width": 1.5
         },
         "mode": "lines+lines",
         "name": "",
         "opacity": 0.1,
         "type": "scatter",
         "x": [
          1,
          2,
          3,
          4,
          5,
          6,
          7,
          8,
          9,
          10
         ],
         "y": [
          -1.0720428263191544,
          -1.2045276209206777,
          -1.659063792711743,
          -1.659063792711743,
          -1.659063792711743,
          -1.659063792711743,
          -1.6823424470570214,
          -1.7349347951091811,
          -1.736539089371942,
          -1.7385412453088236
         ]
        },
        {
         "hovertext": "<b>Topic 76</b>:no_account_have_crezte_acxcount_do",
         "line": {
          "color": "black",
          "width": 1.5
         },
         "mode": "lines+lines",
         "name": "",
         "opacity": 0.1,
         "type": "scatter",
         "x": [
          1,
          2,
          3,
          4,
          5,
          6,
          7,
          8,
          9,
          10
         ],
         "y": [
          -1.2683913058957124,
          -1.4533910462085478,
          -1.5983190513856846,
          -1.6754542088999125,
          -1.6754542088999125,
          -1.6754542088999125,
          -1.6754542088999125,
          -1.6754542088999125,
          -1.6754542088999125,
          -1.7217780722332288
         ]
        },
        {
         "hovertext": "<b>Topic 77</b>:notify_pay_problem_ask_agent_issue",
         "line": {
          "color": "black",
          "width": 1.5
         },
         "mode": "lines+lines",
         "name": "",
         "opacity": 0.1,
         "type": "scatter",
         "x": [
          1,
          2,
          3,
          4,
          5,
          6,
          7,
          8,
          9,
          10
         ],
         "y": [
          -1.207095536543031,
          -1.424433715109379,
          -1.5352730711479325,
          -1.5356297611066185,
          -1.5418464788086739,
          -1.736187913928646,
          -1.7462823021744427,
          -1.8073737189354215,
          -1.8073737189354215,
          -1.81716430755284
         ]
        },
        {
         "hovertext": "<b>Topic 78</b>:place_order_tack_mlake_chahge_wnna",
         "line": {
          "color": "black",
          "width": 1.5
         },
         "mode": "lines+lines",
         "name": "",
         "opacity": 0.1,
         "type": "scatter",
         "x": [
          1,
          2,
          3,
          4,
          5,
          6,
          7,
          8,
          9,
          10
         ],
         "y": [
          -0.5525375418546162,
          -1.1487416926298806,
          -1.3779620052637553,
          -1.5628492073653377,
          -1.5628492073653377,
          -1.5628492073653377,
          -1.5628492073653377,
          -1.5628492073653377,
          -1.5628492073653377,
          -1.5800563887226713
         ]
        },
        {
         "hovertext": "<b>Topic 79</b>:cancel_show_reimbursement_request_",
         "line": {
          "color": "black",
          "width": 1.5
         },
         "mode": "lines+lines",
         "name": "",
         "opacity": 0.1,
         "type": "scatter",
         "x": [
          1,
          2,
          3,
          4,
          5,
          6,
          7,
          8,
          9,
          10
         ],
         "y": [
          -0.9786399171932769,
          -0.9824192675797754,
          -1.066537582236015,
          -1.472766623268272,
          -1.4784047904296302,
          -1.5266825850823404,
          -1.6055814370974064,
          -1.6563840954226907,
          -1.7331109227602952,
          -1.8089819251577333
         ]
        },
        {
         "hovertext": "<b>Topic 80</b>:mind_cancel_change_account_user_my",
         "line": {
          "color": "black",
          "width": 1.5
         },
         "mode": "lines+lines",
         "name": "",
         "opacity": 0.1,
         "type": "scatter",
         "x": [
          1,
          2,
          3,
          4,
          5,
          6,
          7,
          8,
          9,
          10
         ],
         "y": [
          -0.8043033908174102,
          -0.9890774030943543,
          -1.1182650014405295,
          -1.5738733154296962,
          -1.5950259604099462,
          -1.6049530423071472,
          -1.683194357062239,
          -1.7435484086613726,
          -1.8194194110588107,
          -1.8918735945429208
         ]
        },
        {
         "hovertext": "<b>Topic 81</b>:retrieve_password_recover_ask_agen",
         "line": {
          "color": "black",
          "width": 1.5
         },
         "mode": "lines+lines",
         "name": "",
         "opacity": 0.1,
         "type": "scatter",
         "x": [
          1,
          2,
          3,
          4,
          5,
          6,
          7,
          8,
          9,
          10
         ],
         "y": [
          -1.0203423417194062,
          -1.0488266133115949,
          -1.2673262346392837,
          -1.5284942968560808,
          -1.554914400646423,
          -1.5613639673405248,
          -1.6857728554825655,
          -1.7680535713134826,
          -1.7680535713134826,
          -1.8857495572404206
         ]
        },
        {
         "hovertext": "<b>Topic 82</b>:track_delivery_ho_trackig_fefund_s",
         "line": {
          "color": "black",
          "width": 1.5
         },
         "mode": "lines+lines",
         "name": "",
         "opacity": 0.1,
         "type": "scatter",
         "x": [
          1,
          2,
          3,
          4,
          5,
          6,
          7,
          8,
          9,
          10
         ],
         "y": [
          -0.8777134868678788,
          -0.9333677025389314,
          -1.4513137076506564,
          -1.6362009097522388,
          -1.6362009097522388,
          -1.6362009097522388,
          -1.6576864153716326,
          -1.764828728859819,
          -1.826306965659853,
          -1.8417871134087629
         ]
        },
        {
         "hovertext": "<b>Topic 83</b>:invoice_see_ask_agent_view_could_p",
         "line": {
          "color": "black",
          "width": 1.5
         },
         "mode": "lines+lines",
         "name": "",
         "opacity": 0.1,
         "type": "scatter",
         "x": [
          1,
          2,
          3,
          4,
          5,
          6,
          7,
          8,
          9,
          10
         ],
         "y": [
          -1.2329705939856739,
          -1.4004877257795796,
          -1.512878871447492,
          -1.551198198537542,
          -1.564697828826478,
          -1.6903767462661956,
          -1.7390649204701178,
          -1.7758991262787058,
          -1.8054462653428276,
          -1.8457180565077884
         ]
        },
        {
         "hovertext": "<b>Topic 84</b>:track_order_ask_agent_delivey_plas",
         "line": {
          "color": "black",
          "width": 1.5
         },
         "mode": "lines+lines",
         "name": "",
         "opacity": 0.1,
         "type": "scatter",
         "x": [
          1,
          2,
          3,
          4,
          5,
          6,
          7,
          8,
          9,
          10
         ],
         "y": [
          -1.0122989485152092,
          -1.4150492738024856,
          -1.515171913871302,
          -1.5415920176616442,
          -1.7077346256524801,
          -1.7077346256524801,
          -1.7077346256524801,
          -1.7448736550806587,
          -1.7540584889857964,
          -1.7540584889857964
         ]
        },
        {
         "hovertext": "<b>Topic 85</b>:notify_make_payment_ask_agent_prob",
         "line": {
          "color": "black",
          "width": 1.5
         },
         "mode": "lines+lines",
         "name": "",
         "opacity": 0.1,
         "type": "scatter",
         "x": [
          1,
          2,
          3,
          4,
          5,
          6,
          7,
          8,
          9,
          10
         ],
         "y": [
          -1.248278323442375,
          -1.4397949549198181,
          -1.5416419259715672,
          -1.5436441847533082,
          -1.5700642885436504,
          -1.6041272846451353,
          -1.636114572972717,
          -1.708283843026162,
          -1.7236177692264658,
          -1.7236177692264658
         ]
        },
        {
         "hovertext": "<b>Topic 86</b>:no_online_account_have_regiksterin",
         "line": {
          "color": "black",
          "width": 1.5
         },
         "mode": "lines+lines",
         "name": "",
         "opacity": 0.1,
         "type": "scatter",
         "x": [
          1,
          2,
          3,
          4,
          5,
          6,
          7,
          8,
          9,
          10
         ],
         "y": [
          -1.1755621528848275,
          -1.1762140388125935,
          -1.5118295685283119,
          -1.5202369645473337,
          -1.6089539946113764,
          -1.6089539946113764,
          -1.6552778579446927,
          -1.6552778579446927,
          -1.7040381149429111,
          -1.7070545857584984
         ]
        },
        {
         "hovertext": "<b>Topic 87</b>:hour_customer_of_support_client_se",
         "line": {
          "color": "black",
          "width": 1.5
         },
         "mode": "lines+lines",
         "name": "",
         "opacity": 0.1,
         "type": "scatter",
         "x": [
          1,
          2,
          3,
          4,
          5,
          6,
          7,
          8,
          9,
          10
         ],
         "y": [
          -0.43143264754575356,
          -1.3876591728586705,
          -1.3987452459466039,
          -1.4834232518620736,
          -1.5486442673058924,
          -1.6434756942871436,
          -1.645662921620068,
          -1.661018783791387,
          -1.6897995576204599,
          -1.6897995576204599
         ]
        },
        {
         "hovertext": "<b>Topic 88</b>:user_no_account_have_opdn_opn_not_",
         "line": {
          "color": "black",
          "width": 1.5
         },
         "mode": "lines+lines",
         "name": "",
         "opacity": 0.1,
         "type": "scatter",
         "x": [
          1,
          2,
          3,
          4,
          5,
          6,
          7,
          8,
          9,
          10
         ],
         "y": [
          -1.0833335400724868,
          -1.1838150279613815,
          -1.4657247812822731,
          -1.474132177301295,
          -1.5628492073653377,
          -1.5628492073653377,
          -1.6117514752667936,
          -1.6789920009277366,
          -1.7159252746745592,
          -1.808701263378228
         ]
        },
        {
         "hovertext": "<b>Topic 89</b>:card_inform_try_pay_when_of_with_i",
         "line": {
          "color": "black",
          "width": 1.5
         },
         "mode": "lines+lines",
         "name": "",
         "opacity": 0.1,
         "type": "scatter",
         "x": [
          1,
          2,
          3,
          4,
          5,
          6,
          7,
          8,
          9,
          10
         ],
         "y": [
          -1.326837660737648,
          -1.3761213117117455,
          -1.414555769129431,
          -1.5656494979632052,
          -1.570439397404996,
          -1.5857597413707138,
          -1.6751634182748443,
          -1.7593043847044778,
          -1.7652542554967334,
          -1.7673378753361222
         ]
        },
        {
         "hovertext": "<b>Topic 90</b>:card_notify_pay_with_problem_have_",
         "line": {
          "color": "black",
          "width": 1.5
         },
         "mode": "lines+lines",
         "name": "",
         "opacity": 0.1,
         "type": "scatter",
         "x": [
          1,
          2,
          3,
          4,
          5,
          6,
          7,
          8,
          9,
          10
         ],
         "y": [
          -1.1718016799263071,
          -1.2001147631158218,
          -1.3972495555938829,
          -1.533491399021485,
          -1.5794448201681046,
          -1.6480068355747923,
          -1.6552648966130188,
          -1.6754542088999125,
          -1.7217780722332288,
          -1.7217780722332288
         ]
        },
        {
         "hovertext": "<b>Topic 91</b>:card_notify_try_when_pay_with_have",
         "line": {
          "color": "black",
          "width": 1.5
         },
         "mode": "lines+lines",
         "name": "",
         "opacity": 0.1,
         "type": "scatter",
         "x": [
          1,
          2,
          3,
          4,
          5,
          6,
          7,
          8,
          9,
          10
         ],
         "y": [
          -1.2905706829340775,
          -1.318883766123592,
          -1.3920770758114938,
          -1.5345967425290772,
          -1.5440472822018967,
          -1.6388964404712736,
          -1.7278577725521929,
          -1.7360023840652747,
          -1.7640311076655184,
          -1.774033899620789
         ]
        },
        {
         "hovertext": "<b>Topic 92</b>:on_edit_profile_information_change",
         "line": {
          "color": "black",
          "width": 1.5
         },
         "mode": "lines+lines",
         "name": "",
         "opacity": 0.1,
         "type": "scatter",
         "x": [
          1,
          2,
          3,
          4,
          5,
          6,
          7,
          8,
          9,
          10
         ],
         "y": [
          -0.6032583889642313,
          -1.0236564672216069,
          -1.1211648812433643,
          -1.257389400887997,
          -1.376805586822429,
          -1.6475111133849965,
          -1.6644493942496688,
          -1.6660779220351267,
          -1.6956250610992485,
          -1.6956250610992485
         ]
        },
        {
         "hovertext": "<b>Topic 93</b>:notify_try_when_make_payment_have_",
         "line": {
          "color": "black",
          "width": 1.5
         },
         "mode": "lines+lines",
         "name": "",
         "opacity": 0.1,
         "type": "scatter",
         "x": [
          1,
          2,
          3,
          4,
          5,
          6,
          7,
          8,
          9,
          10
         ],
         "y": [
          -1.3077866059793235,
          -1.367191631181592,
          -1.495923013413542,
          -1.4984799301355007,
          -1.6003269011872499,
          -1.6907378715052794,
          -1.711116939435373,
          -1.711116939435373,
          -1.7491484549908873,
          -1.7559738057197993
         ]
        },
        {
         "hovertext": "<b>Topic 94</b>:inform_make_of_payment_problem_iss",
         "line": {
          "color": "black",
          "width": 1.5
         },
         "mode": "lines+lines",
         "name": "",
         "opacity": 0.1,
         "type": "scatter",
         "x": [
          1,
          2,
          3,
          4,
          5,
          6,
          7,
          8,
          9,
          10
         ],
         "y": [
          -1.1304960691835504,
          -1.3701230520197094,
          -1.3815271840007435,
          -1.4719700230714585,
          -1.5136791421762825,
          -1.6301847112477197,
          -1.6311888105163743,
          -1.660735949580496,
          -1.660735949580496,
          -1.7621791182116362
         ]
        },
        {
         "hovertext": "<b>Topic 95</b>:profile_edit_change_modify_wantr_i",
         "line": {
          "color": "black",
          "width": 1.5
         },
         "mode": "lines+lines",
         "name": "",
         "opacity": 0.1,
         "type": "scatter",
         "x": [
          1,
          2,
          3,
          4,
          5,
          6,
          7,
          8,
          9,
          10
         ],
         "y": [
          -0.938161627771353,
          -1.0167444728052768,
          -1.2481599956730103,
          -1.288416600857304,
          -1.4367508052297993,
          -1.4367508052297993,
          -1.4830746685631155,
          -1.534851396376921,
          -1.6140649762583772,
          -1.729519203034561
         ]
        },
        {
         "hovertext": "<b>Topic 96</b>:inform_try_when_make_of_payment_pr",
         "line": {
          "color": "black",
          "width": 1.5
         },
         "mode": "lines+lines",
         "name": "",
         "opacity": 0.1,
         "type": "scatter",
         "x": [
          1,
          2,
          3,
          4,
          5,
          6,
          7,
          8,
          9,
          10
         ],
         "y": [
          -1.3348960944466624,
          -1.3847600136451297,
          -1.527279680362713,
          -1.529836597084672,
          -1.5706872427071188,
          -1.631683568136421,
          -1.7144448827843004,
          -1.7452183373015882,
          -1.7593017490687268,
          -1.7805051219400583
         ]
        },
        {
         "hovertext": "<b>Topic 97</b>:like_complaint_file_service_submit",
         "line": {
          "color": "black",
          "width": 1.5
         },
         "mode": "lines+lines",
         "name": "",
         "opacity": 0.1,
         "type": "scatter",
         "x": [
          1,
          2,
          3,
          4,
          5,
          6,
          7,
          8,
          9,
          10
         ],
         "y": [
          -1.0458330274363412,
          -1.10529630140742,
          -1.4312554188655127,
          -1.489315720760144,
          -1.489946137153321,
          -1.502691322717685,
          -1.5049965275887065,
          -1.6632197524829007,
          -1.6632197524829007,
          -1.6897118592831293
         ]
        },
        {
         "hovertext": "<b>Topic 98</b>:card_pay_with_issue_have_tryng_rep",
         "line": {
          "color": "black",
          "width": 1.5
         },
         "mode": "lines+lines",
         "name": "",
         "opacity": 0.1,
         "type": "scatter",
         "x": [
          1,
          2,
          3,
          4,
          5,
          6,
          7,
          8,
          9,
          10
         ],
         "y": [
          -1.1812656006845337,
          -1.4067134763521094,
          -1.5295913582217298,
          -1.5327927989473997,
          -1.5883898371897196,
          -1.6288021876792076,
          -1.6288021876792076,
          -1.652200460927648,
          -1.6751260510125239,
          -1.6751260510125239
         ]
        },
        {
         "hovertext": "<b>Topic 99</b>:error_for_message_order_attempt_ma",
         "line": {
          "color": "black",
          "width": 1.5
         },
         "mode": "lines+lines",
         "name": "",
         "opacity": 0.1,
         "type": "scatter",
         "x": [
          1,
          2,
          3,
          4,
          5,
          6,
          7,
          8,
          9,
          10
         ],
         "y": [
          -1.4333972149851373,
          -1.4533686175368696,
          -1.4601028117235444,
          -1.5254696386142907,
          -1.5489139197378017,
          -1.57444939936562,
          -1.6029267163836298,
          -1.6412373661742088,
          -1.676296370417369,
          -1.7156795547693524
         ]
        },
        {
         "hovertext": "<b>Topic 100</b>:bill_check_checkl_tocheck_my_want",
         "line": {
          "color": "black",
          "width": 1.5
         },
         "mode": "lines+lines",
         "name": "",
         "opacity": 0.1,
         "type": "scatter",
         "x": [
          1,
          2,
          3,
          4,
          5,
          6,
          7,
          8,
          9,
          10
         ],
         "y": [
          -1.0554632247692415,
          -1.092583528526848,
          -1.44821042739685,
          -1.44821042739685,
          -1.7557020820223181,
          -1.831394388808232,
          -1.903080444541482,
          -2.0620392687043343,
          -2.0804759031333595,
          -2.083123477930007
         ]
        },
        {
         "hovertext": "<b>Topic 101</b>:mistake_modify_order_make_change_",
         "line": {
          "color": "black",
          "width": 1.5
         },
         "mode": "lines+lines",
         "name": "",
         "opacity": 0.1,
         "type": "scatter",
         "x": [
          1,
          2,
          3,
          4,
          5,
          6,
          7,
          8,
          9,
          10
         ],
         "y": [
          -0.49540648262944814,
          -1.1768719861932544,
          -1.2686100274467218,
          -1.3497744715694522,
          -1.4254109202559302,
          -1.5170917168046627,
          -1.5170917168046627,
          -1.5170917168046627,
          -1.5170917168046627,
          -1.5170917168046627
         ]
        },
        {
         "hovertext": "<b>Topic 102</b>:error_message_attempt_pay_when_ge",
         "line": {
          "color": "black",
          "width": 1.5
         },
         "mode": "lines+lines",
         "name": "",
         "opacity": 0.1,
         "type": "scatter",
         "x": [
          1,
          2,
          3,
          4,
          5,
          6,
          7,
          8,
          9,
          10
         ],
         "y": [
          -1.281275419461744,
          -1.3501786959946058,
          -1.4157599632903883,
          -1.4302207542352139,
          -1.4514010698651738,
          -1.5055059868389846,
          -1.5477634920627272,
          -1.6212752318223433,
          -1.6212752318223433,
          -1.6675990951556594
         ]
        },
        {
         "hovertext": "<b>Topic 103</b>:inform_where_of_payment_issue_paz",
         "line": {
          "color": "black",
          "width": 1.5
         },
         "mode": "lines+lines",
         "name": "",
         "opacity": 0.1,
         "type": "scatter",
         "x": [
          1,
          2,
          3,
          4,
          5,
          6,
          7,
          8,
          9,
          10
         ],
         "y": [
          -1.0819776380978934,
          -1.2922465289060143,
          -1.3159754136163062,
          -1.3916949958663147,
          -1.4403371273655934,
          -1.4571652700497764,
          -1.4571652700497764,
          -1.4571652700497764,
          -1.5034891333830926,
          -1.5034891333830926
         ]
        },
        {
         "hovertext": "<b>Topic 104</b>:profile_no_have_prfofile_get_not_",
         "line": {
          "color": "black",
          "width": 1.5
         },
         "mode": "lines+lines",
         "name": "",
         "opacity": 0.1,
         "type": "scatter",
         "x": [
          1,
          2,
          3,
          4,
          5,
          6,
          7,
          8,
          9,
          10
         ],
         "y": [
          -1.0031798421516633,
          -1.1057015009073727,
          -1.408504361795346,
          -1.4225877735624848,
          -1.6078485242431075,
          -1.6128191942604098,
          -1.7280609263775242,
          -1.7301418897093115,
          -1.7353866192059881,
          -2.1310863270566505
         ]
        },
        {
         "hovertext": "<b>Topic 105</b>:make_payment_try_iut_repolrt_prob",
         "line": {
          "color": "black",
          "width": 1.5
         },
         "mode": "lines+lines",
         "name": "",
         "opacity": 0.1,
         "type": "scatter",
         "x": [
          1,
          2,
          3,
          4,
          5,
          6,
          7,
          8,
          9,
          10
         ],
         "y": [
          -1.3759898544062272,
          -1.4778368254579763,
          -1.499758583259265,
          -1.543307099641438,
          -1.543307099641438,
          -1.5886268637060994,
          -1.6364336575221676,
          -1.6422782499768485,
          -1.7107729729840695,
          -1.7994802290209926
         ]
        },
        {
         "hovertext": "<b>Topic 106</b>:report_where_payment_issue_ayment",
         "line": {
          "color": "black",
          "width": 1.5
         },
         "mode": "lines+lines",
         "name": "",
         "opacity": 0.1,
         "type": "scatter",
         "x": [
          1,
          2,
          3,
          4,
          5,
          6,
          7,
          8,
          9,
          10
         ],
         "y": [
          -0.9665326602396921,
          -1.1818340454943108,
          -1.3160446187138233,
          -1.3299246439538899,
          -1.3930766499713891,
          -1.3930766499713891,
          -1.506015903009571,
          -1.55701539074244,
          -1.709939955079551,
          -1.8285027374421328
         ]
        },
        {
         "hovertext": "<b>Topic 107</b>:cancel_online_mt_don_rpofile_acco",
         "line": {
          "color": "black",
          "width": 1.5
         },
         "mode": "lines+lines",
         "name": "",
         "opacity": 0.1,
         "type": "scatter",
         "x": [
          1,
          2,
          3,
          4,
          5,
          6,
          7,
          8,
          9,
          10
         ],
         "y": [
          -0.9536616446127175,
          -1.2173349501935495,
          -1.4932888021320379,
          -1.5396126654653541,
          -1.5396126654653541,
          -1.552950479909268,
          -1.6247340193858797,
          -1.6960894064878136,
          -1.7974635751367998,
          -1.8155221706673506
         ]
        },
        {
         "hovertext": "<b>Topic 108</b>:know_order_where_may_be_ell_how_t",
         "line": {
          "color": "black",
          "width": 1.5
         },
         "mode": "lines+lines",
         "name": "",
         "opacity": 0.1,
         "type": "scatter",
         "x": [
          1,
          2,
          3,
          4,
          5,
          6,
          7,
          8,
          9,
          10
         ],
         "y": [
          -1.0997169917847676,
          -1.2837088669683023,
          -1.3180537925122997,
          -1.5588435360534998,
          -1.570286896040871,
          -1.5991153272184606,
          -1.732024431093676,
          -1.8054880349394369,
          -1.8549221775084483,
          -2.043464312413298
         ]
        },
        {
         "hovertext": "<b>Topic 109</b>:informing_inform_make_of_payment_",
         "line": {
          "color": "black",
          "width": 1.5
         },
         "mode": "lines+lines",
         "name": "",
         "opacity": 0.1,
         "type": "scatter",
         "x": [
          1,
          2,
          3,
          4,
          5,
          6,
          7,
          8,
          9,
          10
         ],
         "y": [
          -1.1351806398051187,
          -1.2668428214610796,
          -1.3490790439078009,
          -1.3752064327095415,
          -1.45092601495955,
          -1.4993629498442311,
          -1.4993629498442311,
          -1.5446827139088926,
          -1.61550574340663,
          -1.6280779067215867
         ]
        },
        {
         "hovertext": "<b>Topic 110</b>:invoice_see_some_tedlo_possible_a",
         "line": {
          "color": "black",
          "width": 1.5
         },
         "mode": "lines+lines",
         "name": "",
         "opacity": 0.1,
         "type": "scatter",
         "x": [
          1,
          2,
          3,
          4,
          5,
          6,
          7,
          8,
          9,
          10
         ],
         "y": [
          -1.026086965965005,
          -1.0813343293416402,
          -1.3477270036277451,
          -1.3524299195297633,
          -1.3757085738750416,
          -1.4283009219272014,
          -1.53569698463618,
          -1.6646737401305138,
          -1.7820877343013246,
          -1.8385624689941156
         ]
        },
        {
         "hovertext": "<b>Topic 111</b>:notify_make_payment_havean_anb_is",
         "line": {
          "color": "black",
          "width": 1.5
         },
         "mode": "lines+lines",
         "name": "",
         "opacity": 0.1,
         "type": "scatter",
         "x": [
          1,
          2,
          3,
          4,
          5,
          6,
          7,
          8,
          9,
          10
         ],
         "y": [
          -1.0796566283329756,
          -1.3018670039352178,
          -1.3859852080265354,
          -1.4344221429112165,
          -1.4344221429112165,
          -1.4797419069758782,
          -1.4807460062445328,
          -1.4807460062445328,
          -1.5522925741244897,
          -1.5658673601650583
         ]
        },
        {
         "hovertext": "<b>Topic 112</b>:invoice_check_chdck_iwanna_my_hel",
         "line": {
          "color": "black",
          "width": 1.5
         },
         "mode": "lines+lines",
         "name": "",
         "opacity": 0.1,
         "type": "scatter",
         "x": [
          1,
          2,
          3,
          4,
          5,
          6,
          7,
          8,
          9,
          10
         ],
         "y": [
          -0.9721051534987594,
          -0.9939737306408972,
          -1.2984481070635177,
          -1.2984481070635177,
          -1.6703977509159043,
          -1.7516741554543773,
          -1.7533181242081497,
          -1.9680843552458218,
          -2.085610652191851,
          -2.0911300435253604
         ]
        },
        {
         "hovertext": "<b>Topic 113</b>:request_bill_some_osme_somr_rewqu",
         "line": {
          "color": "black",
          "width": 1.5
         },
         "mode": "lines+lines",
         "name": "",
         "opacity": 0.1,
         "type": "scatter",
         "x": [
          1,
          2,
          3,
          4,
          5,
          6,
          7,
          8,
          9,
          10
         ],
         "y": [
          -0.8879656373818153,
          -1.0541039295065167,
          -1.239387528838907,
          -1.3823931429072065,
          -1.3823931429072065,
          -1.3823931429072065,
          -1.4582641453046445,
          -1.4598684395674055,
          -1.5484708052800569,
          -1.7049086441905816
         ]
        },
        {
         "hovertext": "<b>Topic 114</b>:error_for_attempt_message_order_p",
         "line": {
          "color": "black",
          "width": 1.5
         },
         "mode": "lines+lines",
         "name": "",
         "opacity": 0.1,
         "type": "scatter",
         "x": [
          1,
          2,
          3,
          4,
          5,
          6,
          7,
          8,
          9,
          10
         ],
         "y": [
          -1.3859630426909892,
          -1.4211744117994585,
          -1.4522617247734722,
          -1.4883893533675148,
          -1.4932754328768796,
          -1.5349083774644592,
          -1.53969827690625,
          -1.6115319608404923,
          -1.6925390995646388,
          -1.6925390995646388
         ]
        },
        {
         "hovertext": "<b>Topic 115</b>:informing_inform_of_payment_waant",
         "line": {
          "color": "black",
          "width": 1.5
         },
         "mode": "lines+lines",
         "name": "",
         "opacity": 0.1,
         "type": "scatter",
         "x": [
          1,
          2,
          3,
          4,
          5,
          6,
          7,
          8,
          9,
          10
         ],
         "y": [
          -1.0722365926281796,
          -1.2956691476397857,
          -1.396937942123647,
          -1.454928757413224,
          -1.503365692297905,
          -1.503365692297905,
          -1.503365692297905,
          -1.5165007729911653,
          -1.5306230084164834,
          -1.6195084858603037
         ]
        },
        {
         "hovertext": "<b>Topic 116</b>:file_complaint_ask_lodge_mje_agen",
         "line": {
          "color": "black",
          "width": 1.5
         },
         "mode": "lines+lines",
         "name": "",
         "opacity": 0.1,
         "type": "scatter",
         "x": [
          1,
          2,
          3,
          4,
          5,
          6,
          7,
          8,
          9,
          10
         ],
         "y": [
          -1.0141892716873102,
          -1.0281782159235686,
          -1.4604857448484843,
          -1.4747912599040154,
          -1.4891916539909928,
          -1.5053892543328398,
          -1.565062656388431,
          -1.601260812642448,
          -1.6499489868463704,
          -1.7401854826634426
         ]
        },
        {
         "hovertext": "<b>Topic 117</b>:card_error_message_attempt_pay_wh",
         "line": {
          "color": "black",
          "width": 1.5
         },
         "mode": "lines+lines",
         "name": "",
         "opacity": 0.1,
         "type": "scatter",
         "x": [
          1,
          2,
          3,
          4,
          5,
          6,
          7,
          8,
          9,
          10
         ],
         "y": [
          -1.2852807943675564,
          -1.3617833352616622,
          -1.4117187727185443,
          -1.482903917532325,
          -1.5292120757291454,
          -1.5735105164546095,
          -1.6074120473401334,
          -1.6392667921641086,
          -1.6506306251748801,
          -1.6506306251748801
         ]
        },
        {
         "hovertext": "<b>Topic 118</b>:invoice_obtain_where_telo_gt_know",
         "line": {
          "color": "black",
          "width": 1.5
         },
         "mode": "lines+lines",
         "name": "",
         "opacity": 0.1,
         "type": "scatter",
         "x": [
          1,
          2,
          3,
          4,
          5,
          6,
          7,
          8,
          9,
          10
         ],
         "y": [
          -1.0948865058230417,
          -1.2163775099448004,
          -1.256310718244038,
          -1.3850172867333552,
          -1.4608882891307933,
          -1.4624925833935543,
          -1.6428287045625896,
          -1.6714963655207418,
          -1.7320500436691997,
          -1.7655247349944172
         ]
        },
        {
         "hovertext": "<b>Topic 119</b>:track_shipment_rder_tell_apckage_",
         "line": {
          "color": "black",
          "width": 1.5
         },
         "mode": "lines+lines",
         "name": "",
         "opacity": 0.1,
         "type": "scatter",
         "x": [
          1,
          2,
          3,
          4,
          5,
          6,
          7,
          8,
          9,
          10
         ],
         "y": [
          -0.9858076668284489,
          -1.0758746498399712,
          -1.3348917971465475,
          -1.5081541848354194,
          -1.5378212016634067,
          -1.5378212016634067,
          -1.5378212016634067,
          -1.5378212016634067,
          -1.5378212016634067,
          -1.5378212016634067
         ]
        },
        {
         "hovertext": "<b>Topic 120</b>:package_know_where_cantrack_wasn_",
         "line": {
          "color": "black",
          "width": 1.5
         },
         "mode": "lines+lines",
         "name": "",
         "opacity": 0.1,
         "type": "scatter",
         "x": [
          1,
          2,
          3,
          4,
          5,
          6,
          7,
          8,
          9,
          10
         ],
         "y": [
          -0.8099889810409462,
          -1.0658587245238003,
          -1.3825556046546217,
          -1.5112621731439388,
          -1.5112621731439388,
          -1.5575860364772551,
          -1.6093627642910608,
          -1.6540938633785793,
          -1.696644990712176,
          -1.7368676614192575
         ]
        },
        {
         "hovertext": "<b>Topic 121</b>:bill_check_ask_agent_hw_hwere_sak",
         "line": {
          "color": "black",
          "width": 1.5
         },
         "mode": "lines+lines",
         "name": "",
         "opacity": 0.1,
         "type": "scatter",
         "x": [
          1,
          2,
          3,
          4,
          5,
          6,
          7,
          8,
          9,
          10
         ],
         "y": [
          -1.230767004947509,
          -1.2368530749651467,
          -1.5319266974406451,
          -1.539041646035601,
          -1.598715048091192,
          -1.6389868392561528,
          -1.6542892629475958,
          -1.714094450392834,
          -1.7627826245967564,
          -1.773837874366204
         ]
        },
        {
         "hovertext": "<b>Topic 122</b>:uptodate_stay_newsletter_keep_the",
         "line": {
          "color": "black",
          "width": 1.5
         },
         "mode": "lines+lines",
         "name": "",
         "opacity": 0.1,
         "type": "scatter",
         "x": [
          1,
          2,
          3,
          4,
          5,
          6,
          7,
          8,
          9,
          10
         ],
         "y": [
          -0.47110208439140255,
          -0.6588786385410053,
          -0.7890701785023579,
          -0.8417547582386776,
          -0.8918960884595724,
          -1.4273575098473417,
          -1.522844045693754,
          -1.522844045693754,
          -1.5545618517932778,
          -1.598715048091192
         ]
        },
        {
         "hovertext": "<b>Topic 123</b>:delivery_ask_whee_otions_howw_way",
         "line": {
          "color": "black",
          "width": 1.5
         },
         "mode": "lines+lines",
         "name": "",
         "opacity": 0.1,
         "type": "scatter",
         "x": [
          1,
          2,
          3,
          4,
          5,
          6,
          7,
          8,
          9,
          10
         ],
         "y": [
          -1.022658318676796,
          -1.5087951343922057,
          -1.5190176378407012,
          -1.5190176378407012,
          -1.5190176378407012,
          -1.531820480909893,
          -1.535215238182548,
          -1.5505806886396925,
          -1.5533618179714617,
          -1.6928536662734137
         ]
        },
        {
         "hovertext": "<b>Topic 124</b>:reimbursement_ancellation_whhat_w",
         "line": {
          "color": "black",
          "width": 1.5
         },
         "mode": "lines+lines",
         "name": "",
         "opacity": 0.1,
         "type": "scatter",
         "x": [
          1,
          2,
          3,
          4,
          5,
          6,
          7,
          8,
          9,
          10
         ],
         "y": [
          -1.0142097018806993,
          -1.3467527866380729,
          -1.3467527866380729,
          -1.3467527866380729,
          -1.3467527866380729,
          -1.3467527866380729,
          -1.3467527866380729,
          -1.5272872028448123,
          -1.5625365294292541,
          -1.6174457036797805
         ]
        },
        {
         "hovertext": "<b>Topic 125</b>:fuck_two_create_single_same_email",
         "line": {
          "color": "black",
          "width": 1.5
         },
         "mode": "lines+lines",
         "name": "",
         "opacity": 0.1,
         "type": "scatter",
         "x": [
          1,
          2,
          3,
          4,
          5,
          6,
          7,
          8,
          9,
          10
         ],
         "y": [
          -1.131605741728979,
          -1.2805750026417713,
          -1.32525941125467,
          -1.3689796321856218,
          -1.4047362714072407,
          -1.4397932526637054,
          -1.5522962464556418,
          -1.576046070205574,
          -1.5768731718114535,
          -1.6202832221290426
         ]
        },
        {
         "hovertext": "<b>Topic 126</b>:track_delivery_where_tell_acn_me_",
         "line": {
          "color": "black",
          "width": 1.5
         },
         "mode": "lines+lines",
         "name": "",
         "opacity": 0.1,
         "type": "scatter",
         "x": [
          1,
          2,
          3,
          4,
          5,
          6,
          7,
          8,
          9,
          10
         ],
         "y": [
          -0.9266670452153218,
          -0.9823212608863745,
          -1.3499740115609626,
          -1.5388528774519739,
          -1.6696380289592603,
          -1.827981677373216,
          -1.8868423965571113,
          -1.8890332396264546,
          -1.9590649553377124,
          -2.003457543006562
         ]
        },
        {
         "hovertext": "<b>Topic 127</b>:report_pay_problem_ask_agent_coul",
         "line": {
          "color": "black",
          "width": 1.5
         },
         "mode": "lines+lines",
         "name": "",
         "opacity": 0.1,
         "type": "scatter",
         "x": [
          1,
          2,
          3,
          4,
          5,
          6,
          7,
          8,
          9,
          10
         ],
         "y": [
          -1.1904544184789139,
          -1.4332472088654018,
          -1.4703003507430366,
          -1.5242398687743541,
          -1.5506599725646966,
          -1.560279586048305,
          -1.5614810803607793,
          -1.5900597866442316,
          -1.7550957959304652,
          -1.8814951291586939
         ]
        },
        {
         "hovertext": "<b>Topic 128</b>:soon_expect_ticket_arrive_sono_kn",
         "line": {
          "color": "black",
          "width": 1.5
         },
         "mode": "lines+lines",
         "name": "",
         "opacity": 0.1,
         "type": "scatter",
         "x": [
          1,
          2,
          3,
          4,
          5,
          6,
          7,
          8,
          9,
          10
         ],
         "y": [
          -0.4284880803158106,
          -0.44440387293765254,
          -0.8127022049281907,
          -0.8207991737705796,
          -1.2112330620266165,
          -1.5122630576905978,
          -1.6513220119255185,
          -1.7373021731932754,
          -1.7986869961207863,
          -1.8934061660594994
         ]
        },
        {
         "hovertext": "<b>Topic 129</b>:arrive_go_will_ticket_when_gtoiin",
         "line": {
          "color": "black",
          "width": 1.5
         },
         "mode": "lines+lines",
         "name": "",
         "opacity": 0.1,
         "type": "scatter",
         "x": [
          1,
          2,
          3,
          4,
          5,
          6,
          7,
          8,
          9,
          10
         ],
         "y": [
          -0.5154043727041484,
          -0.6864573964957059,
          -0.7973208031204424,
          -0.8083373995257407,
          -1.3642508941462737,
          -1.4413710028665445,
          -1.5877952450942383,
          -1.6088368762091758,
          -1.6949375585824247,
          -1.8474441278757663
         ]
        },
        {
         "hovertext": "<b>Topic 130</b>:credit_card_if_car_credot_with_te",
         "line": {
          "color": "black",
          "width": 1.5
         },
         "mode": "lines+lines",
         "name": "",
         "opacity": 0.1,
         "type": "scatter",
         "x": [
          1,
          2,
          3,
          4,
          5,
          6,
          7,
          8,
          9,
          10
         ],
         "y": [
          -0.6236452304107567,
          -1.124253281747751,
          -1.3632400102355928,
          -1.41042186650745,
          -1.41042186650745,
          -1.451389740215009,
          -1.5265646600698488,
          -1.5390496856150302,
          -1.609338467921083,
          -1.6206844706118173
         ]
        },
        {
         "hovertext": "<b>Topic 131</b>:report_issue_pay_uask_ask_agent_a",
         "line": {
          "color": "black",
          "width": 1.5
         },
         "mode": "lines+lines",
         "name": "",
         "opacity": 0.1,
         "type": "scatter",
         "x": [
          1,
          2,
          3,
          4,
          5,
          6,
          7,
          8,
          9,
          10
         ],
         "y": [
          -1.1867456471617894,
          -1.3282888812596307,
          -1.4093350514599903,
          -1.537568922955368,
          -1.541720396527168,
          -1.5469512012475721,
          -1.6814917126976014,
          -1.6828736419921022,
          -1.776941129085729,
          -1.9835254599851126
         ]
        },
        {
         "hovertext": "<b>Topic 132</b>:their_option_assk_optiond_ib_paym",
         "line": {
          "color": "black",
          "width": 1.5
         },
         "mode": "lines+lines",
         "name": "",
         "opacity": 0.1,
         "type": "scatter",
         "x": [
          1,
          2,
          3,
          4,
          5,
          6,
          7,
          8,
          9,
          10
         ],
         "y": [
          -0.731420018843654,
          -0.9802607889736666,
          -1.4973476586089056,
          -1.4973476586089056,
          -1.4973476586089056,
          -1.5246314376623427,
          -1.5478229955140217,
          -1.553053800234426,
          -1.5665534305233617,
          -1.5954482497560274
         ]
        },
        {
         "hovertext": "<b>Topic 133</b>:check_order_where_nills_ny_ot_tel",
         "line": {
          "color": "black",
          "width": 1.5
         },
         "mode": "lines+lines",
         "name": "",
         "opacity": 0.1,
         "type": "scatter",
         "x": [
          1,
          2,
          3,
          4,
          5,
          6,
          7,
          8,
          9,
          10
         ],
         "y": [
          -1.1128023367305786,
          -1.2357418134258713,
          -1.2923631336810208,
          -1.3380954671055743,
          -1.3844193304388905,
          -1.632870071352068,
          -1.6606109683889494,
          -1.6708432688690793,
          -1.7224089406588738,
          -1.8069551239660173
         ]
        },
        {
         "hovertext": "<b>Topic 134</b>:comment_lodge_submnit_submita_ifl",
         "line": {
          "color": "black",
          "width": 1.5
         },
         "mode": "lines+lines",
         "name": "",
         "opacity": 0.1,
         "type": "scatter",
         "x": [
          1,
          2,
          3,
          4,
          5,
          6,
          7,
          8,
          9,
          10
         ],
         "y": [
          -0.6496672844892918,
          -1.2218647131419909,
          -1.3823931429072065,
          -1.3823931429072065,
          -1.3823931429072065,
          -1.4287170062405228,
          -1.4582641453046445,
          -1.510149523241608,
          -1.5271963183066755,
          -1.7162761977763825
         ]
        },
        {
         "hovertext": "<b>Topic 135</b>:check_hsipment_deluvery_wherr_inv",
         "line": {
          "color": "black",
          "width": 1.5
         },
         "mode": "lines+lines",
         "name": "",
         "opacity": 0.1,
         "type": "scatter",
         "x": [
          1,
          2,
          3,
          4,
          5,
          6,
          7,
          8,
          9,
          10
         ],
         "y": [
          -1.3113941424930478,
          -1.349600629510899,
          -1.349600629510899,
          -1.349600629510899,
          -1.349600629510899,
          -1.349600629510899,
          -1.349600629510899,
          -1.349600629510899,
          -1.349600629510899,
          -1.349600629510899
         ]
        },
        {
         "hovertext": "<b>Topic 136</b>:delivery_check_deliveriers_helptr",
         "line": {
          "color": "black",
          "width": 1.5
         },
         "mode": "lines+lines",
         "name": "",
         "opacity": 0.1,
         "type": "scatter",
         "x": [
          1,
          2,
          3,
          4,
          5,
          6,
          7,
          8,
          9,
          10
         ],
         "y": [
          -0.894538914848254,
          -1.1283883591330748,
          -1.3079239989473952,
          -1.3079239989473952,
          -1.3079239989473952,
          -1.336825283819746,
          -1.3542478622807115,
          -1.3542478622807115,
          -1.4060245900945172,
          -1.6406718007109005
         ]
        },
        {
         "hovertext": "<b>Topic 137</b>:sign_up_signing_find_while_issuea",
         "line": {
          "color": "black",
          "width": 1.5
         },
         "mode": "lines+lines",
         "name": "",
         "opacity": 0.1,
         "type": "scatter",
         "x": [
          1,
          2,
          3,
          4,
          5,
          6,
          7,
          8,
          9,
          10
         ],
         "y": [
          -0.23165610200407344,
          -0.416662169139961,
          -0.8243567867246876,
          -1.007860521272249,
          -1.0432603885737433,
          -1.2256070390469118,
          -1.2256070390469118,
          -1.3848701554184102,
          -1.4250965713510335,
          -1.4817801684264666
         ]
        },
        {
         "hovertext": "<b>Topic 138</b>:way_check_on_order_theit_awy_ask_",
         "line": {
          "color": "black",
          "width": 1.5
         },
         "mode": "lines+lines",
         "name": "",
         "opacity": 0.1,
         "type": "scatter",
         "x": [
          1,
          2,
          3,
          4,
          5,
          6,
          7,
          8,
          9,
          10
         ],
         "y": [
          -1.3238400774407302,
          -1.3587453760602801,
          -1.3599345261959508,
          -1.3847748397475166,
          -1.4871284934272193,
          -1.5334523567605358,
          -1.5376038303323358,
          -1.564023934122678,
          -1.6290028733754112,
          -1.6319316688266885
         ]
        },
        {
         "hovertext": "<b>Topic 139</b>:view_bill_whwre_receiove_my_help_",
         "line": {
          "color": "black",
          "width": 1.5
         },
         "mode": "lines+lines",
         "name": "",
         "opacity": 0.1,
         "type": "scatter",
         "x": [
          1,
          2,
          3,
          4,
          5,
          6,
          7,
          8,
          9,
          10
         ],
         "y": [
          -0.8350878662945046,
          -0.9904348496371395,
          -1.221814050029773,
          -1.221814050029773,
          -1.690673706890216,
          -1.7261926208680138,
          -1.9583970878426902,
          -1.9714682980365725,
          -2.057295682435785,
          -2.0926569040257004
         ]
        },
        {
         "hovertext": "<b>Topic 140</b>:inform_of_havr_awnna_payment_issu",
         "line": {
          "color": "black",
          "width": 1.5
         },
         "mode": "lines+lines",
         "name": "",
         "opacity": 0.1,
         "type": "scatter",
         "x": [
          1,
          2,
          3,
          4,
          5,
          6,
          7,
          8,
          9,
          10
         ],
         "y": [
          -1.2329845542001123,
          -1.4840156690173056,
          -1.5112621731439388,
          -1.5575860364772551,
          -1.5597352512673142,
          -1.629132604357212,
          -1.6917965893506783,
          -1.7162827800761122,
          -1.7482352150050584,
          -1.8330566564271922
         ]
        },
        {
         "hovertext": "<b>Topic 141</b>:notify_majing_payment_ask_agent_i",
         "line": {
          "color": "black",
          "width": 1.5
         },
         "mode": "lines+lines",
         "name": "",
         "opacity": 0.1,
         "type": "scatter",
         "x": [
          1,
          2,
          3,
          4,
          5,
          6,
          7,
          8,
          9,
          10
         ],
         "y": [
          -1.1623262022264218,
          -1.4201817037966062,
          -1.4686547819199816,
          -1.4706570407017225,
          -1.4970771444920647,
          -1.5380521350098795,
          -1.6252023107287796,
          -1.7833688722380847,
          -1.8067230020161242,
          -1.9542329669888632
         ]
        },
        {
         "hovertext": "<b>Topic 142</b>:speak_understand_someone_person_s",
         "line": {
          "color": "black",
          "width": 1.5
         },
         "mode": "lines+lines",
         "name": "",
         "opacity": 0.1,
         "type": "scatter",
         "x": [
          1,
          2,
          3,
          4,
          5,
          6,
          7,
          8,
          9,
          10
         ],
         "y": [
          -0.9155531382244592,
          -0.9590659277179507,
          -1.1509423319819791,
          -1.1735379939713946,
          -1.377096803097258,
          -1.377096803097258,
          -1.377096803097258,
          -1.377096803097258,
          -1.4234206664305742,
          -1.4259990709987138
         ]
        },
        {
         "hovertext": "<b>Topic 143</b>:informed_stay_keep_newsletter_the",
         "line": {
          "color": "black",
          "width": 1.5
         },
         "mode": "lines+lines",
         "name": "",
         "opacity": 0.1,
         "type": "scatter",
         "x": [
          1,
          2,
          3,
          4,
          5,
          6,
          7,
          8,
          9,
          10
         ],
         "y": [
          -0.5855624457196139,
          -0.7142435556218033,
          -0.7509916396412376,
          -0.7812812949696819,
          -0.9058683203821453,
          -1.4392567331470494,
          -1.551743316824525,
          -1.618700693181581,
          -1.716366293914601,
          -1.754596428379689
         ]
        },
        {
         "hovertext": "<b>Topic 144</b>:package_check_mehow_otder_possibl",
         "line": {
          "color": "black",
          "width": 1.5
         },
         "mode": "lines+lines",
         "name": "",
         "opacity": 0.1,
         "type": "scatter",
         "x": [
          1,
          2,
          3,
          4,
          5,
          6,
          7,
          8,
          9,
          10
         ],
         "y": [
          -0.6492725835522193,
          -1.0410737090770816,
          -1.2440904447409251,
          -1.2440904447409251,
          -1.2673690990862034,
          -1.5388650489874187,
          -1.582259469833085,
          -1.6915446826326002,
          -1.7352264963125204,
          -1.9582195947203425
         ]
        },
        {
         "hovertext": "<b>Topic 145</b>:notify_propblem_payment_problem_i",
         "line": {
          "color": "black",
          "width": 1.5
         },
         "mode": "lines+lines",
         "name": "",
         "opacity": 0.1,
         "type": "scatter",
         "x": [
          1,
          2,
          3,
          4,
          5,
          6,
          7,
          8,
          9,
          10
         ],
         "y": [
          -0.920556167526763,
          -1.156135274385795,
          -1.2268847472203226,
          -1.3611558813179685,
          -1.3611558813179685,
          -1.5586933371071456,
          -1.7784875708681365,
          -1.8203524384912546,
          -2.2270549225742005,
          -2.3403596497786605
         ]
        },
        {
         "hovertext": "<b>Topic 146</b>:modify_order_change_knolw_possibe",
         "line": {
          "color": "black",
          "width": 1.5
         },
         "mode": "lines+lines",
         "name": "",
         "opacity": 0.1,
         "type": "scatter",
         "x": [
          1,
          2,
          3,
          4,
          5,
          6,
          7,
          8,
          9,
          10
         ],
         "y": [
          -1.2260900088634359,
          -1.243194431819999,
          -1.2693794551292172,
          -1.3232716907885498,
          -1.3232716907885498,
          -1.3604107202167286,
          -1.645787192071925,
          -1.6475803407978096,
          -1.6560194925520548,
          -1.736370845103986
         ]
        },
        {
         "hovertext": "<b>Topic 147</b>:client_talk_sdpeak_couldspeak_mak",
         "line": {
          "color": "black",
          "width": 1.5
         },
         "mode": "lines+lines",
         "name": "",
         "opacity": 0.1,
         "type": "scatter",
         "x": [
          1,
          2,
          3,
          4,
          5,
          6,
          7,
          8,
          9,
          10
         ],
         "y": [
          -1.0746253994627697,
          -1.376370214330147,
          -1.44821042739685,
          -1.44821042739685,
          -1.44821042739685,
          -1.4961551452904496,
          -1.5209621590131184,
          -1.5473822628034606,
          -1.5930136027963189,
          -1.6852183226566049
         ]
        },
        {
         "hovertext": "<b>Topic 148</b>:available_any_there_person_isther",
         "line": {
          "color": "black",
          "width": 1.5
         },
         "mode": "lines+lines",
         "name": "",
         "opacity": 0.1,
         "type": "scatter",
         "x": [
          1,
          2,
          3,
          4,
          5,
          6,
          7,
          8,
          9,
          10
         ],
         "y": [
          -0.38625488578126044,
          -0.49159008603223064,
          -0.7158048294038911,
          -1.2101407671428224,
          -1.3467527866380729,
          -1.3467527866380729,
          -1.3467527866380729,
          -1.3467527866380729,
          -1.3539285926888083,
          -1.3758708206260999
         ]
        },
        {
         "hovertext": "<b>Topic 149</b>:bill_some_obtyain_get_how_tell_kn",
         "line": {
          "color": "black",
          "width": 1.5
         },
         "mode": "lines+lines",
         "name": "",
         "opacity": 0.1,
         "type": "scatter",
         "x": [
          1,
          2,
          3,
          4,
          5,
          6,
          7,
          8,
          9,
          10
         ],
         "y": [
          -1.038591763328269,
          -1.1460816400996756,
          -1.2476945690097503,
          -1.2916261668939037,
          -1.5450511460219196,
          -1.6282020172708123,
          -1.6773523837813118,
          -1.9173308171920544,
          -2.0831762014157627,
          -2.1074077812866956
         ]
        },
        {
         "hovertext": "<b>Topic 150</b>:register_registering_odl_wher_wat",
         "line": {
          "color": "black",
          "width": 1.5
         },
         "mode": "lines+lines",
         "name": "",
         "opacity": 0.1,
         "type": "scatter",
         "x": [
          1,
          2,
          3,
          4,
          5,
          6,
          7,
          8,
          9,
          10
         ],
         "y": [
          -0.6599363294093109,
          -1.0033743279860767,
          -1.0222416951245687,
          -1.068565558457885,
          -1.1536869123784106,
          -1.653202971324882,
          -1.7307402486187344,
          -1.8930845491204962,
          -1.936904573578206,
          -2.034010545104091
         ]
        },
        {
         "hovertext": "<b>Topic 151</b>:invoice_check_lease_ask_ican_agen",
         "line": {
          "color": "black",
          "width": 1.5
         },
         "mode": "lines+lines",
         "name": "",
         "opacity": 0.1,
         "type": "scatter",
         "x": [
          1,
          2,
          3,
          4,
          5,
          6,
          7,
          8,
          9,
          10
         ],
         "y": [
          -1.2192798518260688,
          -1.223419662007775,
          -1.449279165155412,
          -1.499188129287887,
          -1.5190980953844944,
          -1.5256082330782292,
          -1.6399631970818507,
          -1.7328865823584276,
          -1.7788878671028454,
          -1.797795840710841
         ]
        },
        {
         "hovertext": "<b>Topic 152</b>:bil_bils_abill_kt_informatiopn_bk",
         "line": {
          "color": "black",
          "width": 1.5
         },
         "mode": "lines+lines",
         "name": "",
         "opacity": 0.1,
         "type": "scatter",
         "x": [
          1,
          2,
          3,
          4,
          5,
          6,
          7,
          8,
          9,
          10
         ],
         "y": [
          -0.5609449013943352,
          -0.6903335761976694,
          -0.939586844047845,
          -1.19429297637851,
          -1.19429297637851,
          -1.19429297637851,
          -1.19429297637851,
          -1.19429297637851,
          -1.19429297637851,
          -1.19429297637851
         ]
        },
        {
         "hovertext": "<b>Topic 153</b>:through_go_fail_will_dop_payment_",
         "line": {
          "color": "black",
          "width": 1.5
         },
         "mode": "lines+lines",
         "name": "",
         "opacity": 0.1,
         "type": "scatter",
         "x": [
          1,
          2,
          3,
          4,
          5,
          6,
          7,
          8,
          9,
          10
         ],
         "y": [
          -0.45879027239640846,
          -0.5424687468280193,
          -0.6884648809584557,
          -0.8002651837672237,
          -1.3351709140882575,
          -1.429401482772308,
          -1.5601644410453945,
          -1.6159554383670824,
          -1.7939927055657334,
          -1.8167353259589782
         ]
        },
        {
         "hovertext": "<b>Topic 154</b>:bill_some_ge_canget_tell_get_watn",
         "line": {
          "color": "black",
          "width": 1.5
         },
         "mode": "lines+lines",
         "name": "",
         "opacity": 0.1,
         "type": "scatter",
         "x": [
          1,
          2,
          3,
          4,
          5,
          6,
          7,
          8,
          9,
          10
         ],
         "y": [
          -1.2803174845253231,
          -1.3643262654472068,
          -1.4659391943572815,
          -1.4659391943572815,
          -1.4874246999766754,
          -1.5610233146888162,
          -1.5973844116111233,
          -1.7384721876444187,
          -1.7765534998979176,
          -1.788172562892594
         ]
        },
        {
         "hovertext": "<b>Topic 155</b>:track_refund_redfund_ym_my_would_",
         "line": {
          "color": "black",
          "width": 1.5
         },
         "mode": "lines+lines",
         "name": "",
         "opacity": 0.1,
         "type": "scatter",
         "x": [
          1,
          2,
          3,
          4,
          5,
          6,
          7,
          8,
          9,
          10
         ],
         "y": [
          -0.7685690174428107,
          -0.9355238854532679,
          -1.214127221363482,
          -1.4169278257192575,
          -1.7535679525096322,
          -1.9048373513062689,
          -1.9226257748576474,
          -1.970027234172095,
          -1.9967216288981837,
          -2.0496088537694943
         ]
        },
        {
         "hovertext": "<b>Topic 156</b>:report_maiing_paiyng_payment_prob",
         "line": {
          "color": "black",
          "width": 1.5
         },
         "mode": "lines+lines",
         "name": "",
         "opacity": 0.1,
         "type": "scatter",
         "x": [
          1,
          2,
          3,
          4,
          5,
          6,
          7,
          8,
          9,
          10
         ],
         "y": [
          -0.886678610832251,
          -1.099407649936868,
          -1.175278652334306,
          -1.2447907410682997,
          -1.3044282568690413,
          -1.3555807793164227,
          -1.7450037613445128,
          -1.7636248140423276,
          -1.7700646259937645,
          -2.1703272981252733
         ]
        },
        {
         "hovertext": "<b>Topic 157</b>:try_repott_cadr_pay_when_yo_hwen_",
         "line": {
          "color": "black",
          "width": 1.5
         },
         "mode": "lines+lines",
         "name": "",
         "opacity": 0.1,
         "type": "scatter",
         "x": [
          1,
          2,
          3,
          4,
          5,
          6,
          7,
          8,
          9,
          10
         ],
         "y": [
          -1.2725682435186403,
          -1.4004376456008492,
          -1.4004376456008492,
          -1.4102980107944332,
          -1.441416848958573,
          -1.4763086479982872,
          -1.4763086479982872,
          -1.5904742164896353,
          -1.6054582525330225,
          -1.6566107749804038
         ]
        },
        {
         "hovertext": "<b>Topic 158</b>:tracking_track_order_possible_can",
         "line": {
          "color": "black",
          "width": 1.5
         },
         "mode": "lines+lines",
         "name": "",
         "opacity": 0.1,
         "type": "scatter",
         "x": [
          1,
          2,
          3,
          4,
          5,
          6,
          7,
          8,
          9,
          10
         ],
         "y": [
          -0.8503465243476782,
          -0.8929534534246156,
          -1.223923547248572,
          -1.2526458422654971,
          -1.3052381903176566,
          -1.3274677790673406,
          -1.4614442418104725,
          -1.5675362130123784,
          -1.768807919066369,
          -1.78396373930008
         ]
        },
        {
         "hovertext": "<b>Topic 159</b>:delivery_check_deliveried_wamt_tr",
         "line": {
          "color": "black",
          "width": 1.5
         },
         "mode": "lines+lines",
         "name": "",
         "opacity": 0.1,
         "type": "scatter",
         "x": [
          1,
          2,
          3,
          4,
          5,
          6,
          7,
          8,
          9,
          10
         ],
         "y": [
          -0.9747603876971564,
          -1.1571000125322108,
          -1.28548312989915,
          -1.28548312989915,
          -1.28548312989915,
          -1.28548312989915,
          -1.361354132296588,
          -1.383583721046272,
          -1.556846108735144,
          -1.6091686456336687
         ]
        },
        {
         "hovertext": "<b>Topic 160</b>:inform_aking_of_ufcking_payment_p",
         "line": {
          "color": "black",
          "width": 1.5
         },
         "mode": "lines+lines",
         "name": "",
         "opacity": 0.1,
         "type": "scatter",
         "x": [
          1,
          2,
          3,
          4,
          5,
          6,
          7,
          8,
          9,
          10
         ],
         "y": [
          -0.9825185192999513,
          -1.1902150639580704,
          -1.2335496341171444,
          -1.2660860663555085,
          -1.309269216367153,
          -1.3494781803295688,
          -1.48757164097024,
          -1.5043801403153119,
          -2.2019839139375925,
          -2.3131697110095972
         ]
        },
        {
         "hovertext": "<b>Topic 161</b>:decline_transfer_transaction_be_c",
         "line": {
          "color": "black",
          "width": 1.5
         },
         "mode": "lines+lines",
         "name": "",
         "opacity": 0.1,
         "type": "scatter",
         "x": [
          1,
          2,
          3,
          4,
          5,
          6,
          7,
          8,
          9,
          10
         ],
         "y": [
          -0.2340257841493398,
          -0.56742118823368,
          -0.6313000105898617,
          -1.4952616097644036,
          -1.5300186279317451,
          -1.7087915655873878,
          -1.7521302588885825,
          -1.8206303698425026,
          -1.890103969419811,
          -2.144474524474004
         ]
        },
        {
         "hovertext": "<b>Topic 162</b>:check_cherck_order_tell_where_cn_",
         "line": {
          "color": "black",
          "width": 1.5
         },
         "mode": "lines+lines",
         "name": "",
         "opacity": 0.1,
         "type": "scatter",
         "x": [
          1,
          2,
          3,
          4,
          5,
          6,
          7,
          8,
          9,
          10
         ],
         "y": [
          -1.3616897567070614,
          -1.432080927096314,
          -1.454666010024911,
          -1.4815951563159515,
          -1.4890109355689083,
          -1.5635261443501558,
          -1.6348815314520897,
          -1.7543142956316267,
          -1.7707239562371937,
          -1.8146942020497543
         ]
        },
        {
         "hovertext": "<b>Topic 163</b>:inform_issud_where_make_of_paymen",
         "line": {
          "color": "black",
          "width": 1.5
         },
         "mode": "lines+lines",
         "name": "",
         "opacity": 0.1,
         "type": "scatter",
         "x": [
          1,
          2,
          3,
          4,
          5,
          6,
          7,
          8,
          9,
          10
         ],
         "y": [
          -1.0489968142983972,
          -1.2023356966339238,
          -1.2592657051065184,
          -1.27390054031385,
          -1.3000279291155905,
          -1.375747511365599,
          -1.5165007729911653,
          -1.5165007729911653,
          -2.293285792661071,
          -2.309036298259399
         ]
        },
        {
         "hovertext": "<b>Topic 164</b>:edit_shipping_address_my_would_he",
         "line": {
          "color": "black",
          "width": 1.5
         },
         "mode": "lines+lines",
         "name": "",
         "opacity": 0.1,
         "type": "scatter",
         "x": [
          1,
          2,
          3,
          4,
          5,
          6,
          7,
          8,
          9,
          10
         ],
         "y": [
          -0.3843893555373638,
          -0.6114950996436295,
          -0.996671868782366,
          -1.7961340901026668,
          -1.8930458265767107,
          -2.007744263136146,
          -2.037817329039936,
          -2.0620702263070267,
          -2.1343269684982182,
          -2.214104546613446
         ]
        },
        {
         "hovertext": "<b>Topic 165</b>:more_than_several_online_yuou_tep",
         "line": {
          "color": "black",
          "width": 1.5
         },
         "mode": "lines+lines",
         "name": "",
         "opacity": 0.1,
         "type": "scatter",
         "x": [
          1,
          2,
          3,
          4,
          5,
          6,
          7,
          8,
          9,
          10
         ],
         "y": [
          -1.0770564005904866,
          -1.077883502196366,
          -1.145638341937873,
          -1.22688026809978,
          -1.3171975430763567,
          -1.3171975430763567,
          -1.3171975430763567,
          -1.363521406409673,
          -1.4212833621351486,
          -1.4778636585032086
         ]
        },
        {
         "hovertext": "<b>Topic 166</b>:request_invoice_where_cfan_tell_a",
         "line": {
          "color": "black",
          "width": 1.5
         },
         "mode": "lines+lines",
         "name": "",
         "opacity": 0.1,
         "type": "scatter",
         "x": [
          1,
          2,
          3,
          4,
          5,
          6,
          7,
          8,
          9,
          10
         ],
         "y": [
          -0.9984533167909195,
          -1.1842666357119842,
          -1.3456908481329803,
          -1.364631842057824,
          -1.56012381849638,
          -1.821430173558142,
          -1.8375813417207767,
          -1.8433573910402474,
          -1.8492526184176221,
          -2.057295682435785
         ]
        },
        {
         "hovertext": "<b>Topic 167</b>:notify_for_co_order_pay_have_issu",
         "line": {
          "color": "black",
          "width": 1.5
         },
         "mode": "lines+lines",
         "name": "",
         "opacity": 0.1,
         "type": "scatter",
         "x": [
          1,
          2,
          3,
          4,
          5,
          6,
          7,
          8,
          9,
          10
         ],
         "y": [
          -1.2968102567409523,
          -1.3802110835540127,
          -1.4297270217028366,
          -1.4523121046314336,
          -1.4939450492190134,
          -1.665521083152298,
          -1.6859001510823914,
          -1.743892098060078,
          -1.7519603902381493,
          -1.9112914335735574
         ]
        },
        {
         "hovertext": "<b>Topic 168</b>:purchase_tp_make_id_where_like_he",
         "line": {
          "color": "black",
          "width": 1.5
         },
         "mode": "lines+lines",
         "name": "",
         "opacity": 0.1,
         "type": "scatter",
         "x": [
          1,
          2,
          3,
          4,
          5,
          6,
          7,
          8,
          9,
          10
         ],
         "y": [
          -0.7823989029914842,
          -1.0222416951245687,
          -1.0938065388044949,
          -1.5710621971849592,
          -1.653202971324882,
          -1.8819762247976715,
          -1.9525889982350908,
          -2.0338145865862622,
          -2.0729259387953496,
          -2.105866098323252
         ]
        },
        {
         "hovertext": "<b>Topic 169</b>:mind_cancel_profile_change_ichang",
         "line": {
          "color": "black",
          "width": 1.5
         },
         "mode": "lines+lines",
         "name": "",
         "opacity": 0.1,
         "type": "scatter",
         "x": [
          1,
          2,
          3,
          4,
          5,
          6,
          7,
          8,
          9,
          10
         ],
         "y": [
          -0.7751053722072854,
          -0.9598793844842295,
          -1.0800986105927286,
          -1.121251666201806,
          -1.2940184323430666,
          -1.3235655714071883,
          -1.5704261901919554,
          -2.0833721599335915,
          -2.1836376152068886,
          -2.2983788126805313
         ]
        },
        {
         "hovertext": "<b>Topic 170</b>:master_card_if_with_pay_make_paym",
         "line": {
          "color": "black",
          "width": 1.5
         },
         "mode": "lines+lines",
         "name": "",
         "opacity": 0.1,
         "type": "scatter",
         "x": [
          1,
          2,
          3,
          4,
          5,
          6,
          7,
          8,
          9,
          10
         ],
         "y": [
          -0.3496176983252793,
          -1.1542165051251942,
          -1.389568948957942,
          -1.5025422626623905,
          -1.6806943764567512,
          -1.6880411926205006,
          -1.7898881636722497,
          -1.81211861383845,
          -1.8400796812790114,
          -1.9078354263814914
         ]
        },
        {
         "hovertext": "<b>Topic 171</b>:invoice_hou_obtain_tell_where_it_",
         "line": {
          "color": "black",
          "width": 1.5
         },
         "mode": "lines+lines",
         "name": "",
         "opacity": 0.1,
         "type": "scatter",
         "x": [
          1,
          2,
          3,
          4,
          5,
          6,
          7,
          8,
          9,
          10
         ],
         "y": [
          -1.3104863061623966,
          -1.3850172867333552,
          -1.4126721550887686,
          -1.464494739330436,
          -1.471910518583393,
          -1.737213878646111,
          -1.7536235392516784,
          -1.774697421012161,
          -1.839123349706558,
          -1.9194689234753866
         ]
        },
        {
         "hovertext": "<b>Topic 172</b>:request_invoice_invpice_nivoices_",
         "line": {
          "color": "black",
          "width": 1.5
         },
         "mode": "lines+lines",
         "name": "",
         "opacity": 0.1,
         "type": "scatter",
         "x": [
          1,
          2,
          3,
          4,
          5,
          6,
          7,
          8,
          9,
          10
         ],
         "y": [
          -0.9002000937988269,
          -1.1529602023505046,
          -1.1605443932908501,
          -1.2068682566241664,
          -1.4932921950543552,
          -1.5422218560030554,
          -1.7579014687167944,
          -1.7840898902382065,
          -1.7901237401966625,
          -2.050764802325949
         ]
        },
        {
         "hovertext": "<b>Topic 173</b>:request_bill_wabt_areimbursement_",
         "line": {
          "color": "black",
          "width": 1.5
         },
         "mode": "lines+lines",
         "name": "",
         "opacity": 0.1,
         "type": "scatter",
         "x": [
          1,
          2,
          3,
          4,
          5,
          6,
          7,
          8,
          9,
          10
         ],
         "y": [
          -1.0806561582569583,
          -1.2967079007134925,
          -1.3410004577489814,
          -1.3873243210822976,
          -1.4526625937174635,
          -1.4612362784552633,
          -1.7226779204611866,
          -1.7253817330331385,
          -1.7417913936387057,
          -1.8754520944910127
         ]
        },
        {
         "hovertext": "<b>Topic 174</b>:delivery_know_where_be_how_tell_m",
         "line": {
          "color": "black",
          "width": 1.5
         },
         "mode": "lines+lines",
         "name": "",
         "opacity": 0.1,
         "type": "scatter",
         "x": [
          1,
          2,
          3,
          4,
          5,
          6,
          7,
          8,
          9,
          10
         ],
         "y": [
          -1.001420975524514,
          -1.0128683047846072,
          -1.3690737261991022,
          -1.6213068297276731,
          -1.6638579570612697,
          -1.7296347322407395,
          -1.938126794566652,
          -2.018763532161982,
          -2.117662126755077,
          -2.215475965749555
         ]
        },
        {
         "hovertext": "<b>Topic 175</b>:option_your_youacept_paymnet_paye",
         "line": {
          "color": "black",
          "width": 1.5
         },
         "mode": "lines+lines",
         "name": "",
         "opacity": 0.1,
         "type": "scatter",
         "x": [
          1,
          2,
          3,
          4,
          5,
          6,
          7,
          8,
          9,
          10
         ],
         "y": [
          -0.8280301543085747,
          -0.8966479535785843,
          -1.1902150639580704,
          -1.2883156551051924,
          -1.2883156551051924,
          -1.2955611339149562,
          -1.460536891697802,
          -1.474114059964273,
          -1.7012214658279783,
          -1.7422388882945015
         ]
        },
        {
         "hovertext": "<b>Topic 176</b>:invoice_check_di_olst_acn_how_my_",
         "line": {
          "color": "black",
          "width": 1.5
         },
         "mode": "lines+lines",
         "name": "",
         "opacity": 0.1,
         "type": "scatter",
         "x": [
          1,
          2,
          3,
          4,
          5,
          6,
          7,
          8,
          9,
          10
         ],
         "y": [
          -0.9596099378533176,
          -0.9637497480350239,
          -1.0341409184242765,
          -1.0804647817575928,
          -1.2444035225286436,
          -1.5619464168147197,
          -1.6579025352704626,
          -2.17065254649427,
          -2.2220010274594797,
          -2.2684663854887486
         ]
        },
        {
         "hovertext": "<b>Topic 177</b>:reimbursement_one_onme_hep_reques",
         "line": {
          "color": "black",
          "width": 1.5
         },
         "mode": "lines+lines",
         "name": "",
         "opacity": 0.1,
         "type": "scatter",
         "x": [
          1,
          2,
          3,
          4,
          5,
          6,
          7,
          8,
          9,
          10
         ],
         "y": [
          -0.8680816662024612,
          -1.0178119357972026,
          -1.0679991856852438,
          -1.1438701880826818,
          -1.2548129175354397,
          -1.4636308393352515,
          -1.5723777565234847,
          -1.5890520382890596,
          -1.6168196877456344,
          -1.6200230100216748
         ]
        },
        {
         "hovertext": "<b>Topic 178</b>:email_customer_whzt_whatsthe_wat_",
         "line": {
          "color": "black",
          "width": 1.5
         },
         "mode": "lines+lines",
         "name": "",
         "opacity": 0.1,
         "type": "scatter",
         "x": [
          1,
          2,
          3,
          4,
          5,
          6,
          7,
          8,
          9,
          10
         ],
         "y": [
          -1.2221004628185068,
          -1.2572477060931462,
          -1.3116036071441795,
          -1.3116036071441795,
          -1.396724961064705,
          -1.4545536145009321,
          -1.4598819893005863,
          -1.5708878518147202,
          -1.5980275455743682,
          -1.671352868820085
         ]
        },
        {
         "hovertext": "<b>Topic 179</b>:support_mail_contacxt_trhe_custom",
         "line": {
          "color": "black",
          "width": 1.5
         },
         "mode": "lines+lines",
         "name": "",
         "opacity": 0.1,
         "type": "scatter",
         "x": [
          1,
          2,
          3,
          4,
          5,
          6,
          7,
          8,
          9,
          10
         ],
         "y": [
          -1.1391319651514684,
          -1.2918126445232012,
          -1.37173507472515,
          -1.37173507472515,
          -1.4180589380584663,
          -1.4362537041560446,
          -1.447606077122588,
          -1.4878778682875486,
          -1.4970644659150165,
          -1.5392009480677815
         ]
        },
        {
         "hovertext": "<b>Topic 180</b>:anyway_charge_but_card_notify_att",
         "line": {
          "color": "black",
          "width": 1.5
         },
         "mode": "lines+lines",
         "name": "",
         "opacity": 0.1,
         "type": "scatter",
         "x": [
          1,
          2,
          3,
          4,
          5,
          6,
          7,
          8,
          9,
          10
         ],
         "y": [
          -1.3965723178346356,
          -1.3969359301423736,
          -1.3983870645482368,
          -1.449642623271177,
          -1.4779557064606914,
          -1.5193005551974579,
          -1.5261451641652828,
          -1.5487245646737315,
          -1.5487245646737315,
          -1.5950484280070478
         ]
        },
        {
         "hovertext": "<b>Topic 181</b>:check_trfack_ik_ne_order_tell_it_",
         "line": {
          "color": "black",
          "width": 1.5
         },
         "mode": "lines+lines",
         "name": "",
         "opacity": 0.1,
         "type": "scatter",
         "x": [
          1,
          2,
          3,
          4,
          5,
          6,
          7,
          8,
          9,
          10
         ],
         "y": [
          -1.370979832477292,
          -1.3744242132359312,
          -1.4207480765692475,
          -1.4502952156333693,
          -1.4591572029133726,
          -1.4860863492044132,
          -1.7588054885200883,
          -1.7882863593195377,
          -1.8099772553848674,
          -1.9088758499779623
         ]
        },
        {
         "hovertext": "<b>Topic 182</b>:inform_pay_of_haev_problem_inform",
         "line": {
          "color": "black",
          "width": 1.5
         },
         "mode": "lines+lines",
         "name": "",
         "opacity": 0.1,
         "type": "scatter",
         "x": [
          1,
          2,
          3,
          4,
          5,
          6,
          7,
          8,
          9,
          10
         ],
         "y": [
          -1.1296696284357681,
          -1.3124644320282595,
          -1.3459386369937494,
          -1.3535643711058698,
          -1.442271627142793,
          -1.6000674381077697,
          -1.6052418793066072,
          -1.6357723791577805,
          -1.646391609798718,
          -1.8768086277060252
         ]
        },
        {
         "hovertext": "<b>Topic 183</b>:package_check_hopw_tell_hwere_id_",
         "line": {
          "color": "black",
          "width": 1.5
         },
         "mode": "lines+lines",
         "name": "",
         "opacity": 0.1,
         "type": "scatter",
         "x": [
          1,
          2,
          3,
          4,
          5,
          6,
          7,
          8,
          9,
          10
         ],
         "y": [
          -0.9100775772554864,
          -1.3253597986298715,
          -1.3635662856477229,
          -1.4752284216162048,
          -1.4797090792101215,
          -1.6113567920441323,
          -1.764357221537447,
          -1.7827096671910918,
          -1.8499790988799412,
          -1.915590109984154
         ]
        },
        {
         "hovertext": "<b>Topic 184</b>:check_bill_fuckingbill_my_need_he",
         "line": {
          "color": "black",
          "width": 1.5
         },
         "mode": "lines+lines",
         "name": "",
         "opacity": 0.1,
         "type": "scatter",
         "x": [
          1,
          2,
          3,
          4,
          5,
          6,
          7,
          8,
          9,
          10
         ],
         "y": [
          -0.9048539620590926,
          -0.9335299983006669,
          -0.9430604490769439,
          -1.5990067492945312,
          -1.6378120440171902,
          -1.6515590025711095,
          -1.881969032315965,
          -1.978780434225081,
          -2.1451963421760953,
          -2.1567647416095235
         ]
        },
        {
         "hovertext": "<b>Topic 185</b>:see_bill_tro_where_know_fucking_t",
         "line": {
          "color": "black",
          "width": 1.5
         },
         "mode": "lines+lines",
         "name": "",
         "opacity": 0.1,
         "type": "scatter",
         "x": [
          1,
          2,
          3,
          4,
          5,
          6,
          7,
          8,
          9,
          10
         ],
         "y": [
          -0.9829031432130508,
          -1.0014302339386025,
          -1.1438233821212134,
          -1.1648007061955306,
          -1.600319342353953,
          -1.898776610974504,
          -1.970298283585429,
          -2.0437387014173183,
          -2.116642439162497,
          -2.182234419044085
         ]
        },
        {
         "hovertext": "<b>Topic 186</b>:report_for_rpoblem_order_pay_issu",
         "line": {
          "color": "black",
          "width": 1.5
         },
         "mode": "lines+lines",
         "name": "",
         "opacity": 0.1,
         "type": "scatter",
         "x": [
          1,
          2,
          3,
          4,
          5,
          6,
          7,
          8,
          9,
          10
         ],
         "y": [
          -1.259017426830412,
          -1.367872865463612,
          -1.4311118992610299,
          -1.4399738865410332,
          -1.4816068311286128,
          -1.6694059732208333,
          -1.6702162043606779,
          -1.7396221721477487,
          -1.8155340088990712,
          -1.9617440453426123
         ]
        },
        {
         "hovertext": "<b>Topic 187</b>:paymet_notgify_pay_have_issue_pro",
         "line": {
          "color": "black",
          "width": 1.5
         },
         "mode": "lines+lines",
         "name": "",
         "opacity": 0.1,
         "type": "scatter",
         "x": [
          1,
          2,
          3,
          4,
          5,
          6,
          7,
          8,
          9,
          10
         ],
         "y": [
          -1.193504295066185,
          -1.193504295066185,
          -1.3083084722571017,
          -1.4341270156297112,
          -1.46134550809011,
          -1.5282922977207234,
          -1.6287448436035894,
          -1.6437907840997443,
          -1.7909724964177964,
          -2.077789774302662
         ]
        },
        {
         "hovertext": "<b>Topic 188</b>:track_wherei_order_tell_od_where_",
         "line": {
          "color": "black",
          "width": 1.5
         },
         "mode": "lines+lines",
         "name": "",
         "opacity": 0.1,
         "type": "scatter",
         "x": [
          1,
          2,
          3,
          4,
          5,
          6,
          7,
          8,
          9,
          10
         ],
         "y": [
          -1.0482008684055615,
          -1.3524299195297633,
          -1.4371629092072047,
          -1.4640920554982453,
          -1.4972330949292323,
          -1.5062699410104141,
          -1.7368111948139202,
          -1.7532208554194875,
          -1.8868815562717944,
          -1.9012504215901538
         ]
        },
        {
         "hovertext": "<b>Topic 189</b>:full_case_in_ticket_cancel_refund",
         "line": {
          "color": "black",
          "width": 1.5
         },
         "mode": "lines+lines",
         "name": "",
         "opacity": 0.1,
         "type": "scatter",
         "x": [
          1,
          2,
          3,
          4,
          5,
          6,
          7,
          8,
          9,
          10
         ],
         "y": [
          -0.44791949117537644,
          -0.47724370578486297,
          -0.6727164115313143,
          -0.9074688725277551,
          -1.0765960322873567,
          -1.1701287666026996,
          -1.3322265334414762,
          -1.4080975358389143,
          -1.515493598547893,
          -1.517487284122099
         ]
        },
        {
         "hovertext": "<b>Topic 190</b>:cancel_purchase_waznt_hjelp_want_",
         "line": {
          "color": "black",
          "width": 1.5
         },
         "mode": "lines+lines",
         "name": "",
         "opacity": 0.1,
         "type": "scatter",
         "x": [
          1,
          2,
          3,
          4,
          5,
          6,
          7,
          8,
          9,
          10
         ],
         "y": [
          -0.7726015576596366,
          -0.8505371734295162,
          -1.0282320588137561,
          -1.0745559221470724,
          -1.8637136912197685,
          -1.9585793619242782,
          -1.9641751050108944,
          -2.0658450922906546,
          -2.078916302484537,
          -2.0842399162346696
         ]
        },
        {
         "hovertext": "<b>Topic 191</b>:opinion_happy_submit_file_sservic",
         "line": {
          "color": "black",
          "width": 1.5
         },
         "mode": "lines+lines",
         "name": "",
         "opacity": 0.1,
         "type": "scatter",
         "x": [
          1,
          2,
          3,
          4,
          5,
          6,
          7,
          8,
          9,
          10
         ],
         "y": [
          -0.75800675927813,
          -0.8726371920062735,
          -1.0744209536801705,
          -1.219850218048287,
          -1.2476945690097503,
          -1.345795160156872,
          -1.345795160156872,
          -1.509519106848431,
          -1.5694890522930036,
          -1.637374703288556
         ]
        },
        {
         "hovertext": "<b>Topic 192</b>:see_bill_wht_what_want_do_should_",
         "line": {
          "color": "black",
          "width": 1.5
         },
         "mode": "lines+lines",
         "name": "",
         "opacity": 0.1,
         "type": "scatter",
         "x": [
          1,
          2,
          3,
          4,
          5,
          6,
          7,
          8,
          9,
          10
         ],
         "y": [
          -1.1538849964902518,
          -1.1724120872158035,
          -1.2578135403895185,
          -1.6785528903589562,
          -1.7163941747341118,
          -1.7677426556993217,
          -1.7884456864711011,
          -1.87265094446888,
          -1.9902992727842714,
          -2.0709491132168854
         ]
        },
        {
         "hovertext": "<b>Topic 193</b>:validation_no_get_payment_not_do_",
         "line": {
          "color": "black",
          "width": 1.5
         },
         "mode": "lines+lines",
         "name": "",
         "opacity": 0.1,
         "type": "scatter",
         "x": [
          1,
          2,
          3,
          4,
          5,
          6,
          7,
          8,
          9,
          10
         ],
         "y": [
          -0.225084828577369,
          -1.12829770011155,
          -1.3294147277833035,
          -1.3797136985832006,
          -1.6354153934645872,
          -1.7531839355283967,
          -1.8692436579849259,
          -1.8919862783781707,
          -2.0397391739539907,
          -2.1470049043203674
         ]
        },
        {
         "hovertext": "<b>Topic 194</b>:opem_online_acconut_account_need_",
         "line": {
          "color": "black",
          "width": 1.5
         },
         "mode": "lines+lines",
         "name": "",
         "opacity": 0.1,
         "type": "scatter",
         "x": [
          1,
          2,
          3,
          4,
          5,
          6,
          7,
          8,
          9,
          10
         ],
         "y": [
          -1.099407649936868,
          -1.1060003879683475,
          -1.1457315132701842,
          -1.4794044785734657,
          -1.6692205082688143,
          -1.6831681780226437,
          -1.7059107984158886,
          -1.76677555773208,
          -1.7901177798796548,
          -1.8479350651418087
         ]
        },
        {
         "hovertext": "<b>Topic 195</b>:place_order_ask_agent_an_make_whe",
         "line": {
          "color": "black",
          "width": 1.5
         },
         "mode": "lines+lines",
         "name": "",
         "opacity": 0.1,
         "type": "scatter",
         "x": [
          1,
          2,
          3,
          4,
          5,
          6,
          7,
          8,
          9,
          10
         ],
         "y": [
          -0.7678048852863385,
          -1.3178280501169033,
          -1.4706570407017225,
          -1.4970771444920647,
          -1.5646708663114808,
          -1.6008910169016004,
          -1.653202971324882,
          -1.750356778516681,
          -1.9044787645670043,
          -2.0202576055677954
         ]
        },
        {
         "hovertext": "<b>Topic 196</b>:option_delivery_sew_shuld_whatco_",
         "line": {
          "color": "black",
          "width": 1.5
         },
         "mode": "lines+lines",
         "name": "",
         "opacity": 0.1,
         "type": "scatter",
         "x": [
          1,
          2,
          3,
          4,
          5,
          6,
          7,
          8,
          9,
          10
         ],
         "y": [
          -0.9643644909002901,
          -1.0080013208358356,
          -1.221814050029773,
          -1.221814050029773,
          -1.221814050029773,
          -1.221814050029773,
          -1.2315450694173438,
          -1.2681379133630892,
          -1.6494193666006112,
          -1.678689833364279
         ]
        },
        {
         "hovertext": "<b>Topic 197</b>:visa_withvisa_if_with_make_know_p",
         "line": {
          "color": "black",
          "width": 1.5
         },
         "mode": "lines+lines",
         "name": "",
         "opacity": 0.1,
         "type": "scatter",
         "x": [
          1,
          2,
          3,
          4,
          5,
          6,
          7,
          8,
          9,
          10
         ],
         "y": [
          -0.2876499763255347,
          -1.142632803982148,
          -1.3258998690885646,
          -1.4644272872654014,
          -1.5451908667034986,
          -1.5722906187537093,
          -1.6470378377552477,
          -1.669268287921448,
          -1.6839720862179872,
          -1.8976106657390803
         ]
        },
        {
         "hovertext": "<b>Topic 198</b>:fast_expect_arrive_ticket_know_te",
         "line": {
          "color": "black",
          "width": 1.5
         },
         "mode": "lines+lines",
         "name": "",
         "opacity": 0.1,
         "type": "scatter",
         "x": [
          1,
          2,
          3,
          4,
          5,
          6,
          7,
          8,
          9,
          10
         ],
         "y": [
          -0.3911918667264493,
          -0.5172050223475018,
          -0.5925703275164477,
          -0.88550335433804,
          -1.7051567237641105,
          -1.7229531468842243,
          -1.7241231613353678,
          -1.9662073154693487,
          -2.000513547372038,
          -2.0120819468054667
         ]
        },
        {
         "hovertext": "<b>Topic 199</b>:delivery_check_possible_if_know_m",
         "line": {
          "color": "black",
          "width": 1.5
         },
         "mode": "lines+lines",
         "name": "",
         "opacity": 0.1,
         "type": "scatter",
         "x": [
          1,
          2,
          3,
          4,
          5,
          6,
          7,
          8,
          9,
          10
         ],
         "y": [
          -0.8203281892303391,
          -1.0306965376656372,
          -1.358449568433536,
          -1.4392567331470494,
          -1.5887374698041379,
          -1.724849324901076,
          -1.7826251519799328,
          -1.946815215292875,
          -2.032156828867503,
          -2.17065254649427
         ]
        },
        {
         "hovertext": "<b>Topic 200</b>:two_single_profile_create_knoe_em",
         "line": {
          "color": "black",
          "width": 1.5
         },
         "mode": "lines+lines",
         "name": "",
         "opacity": 0.1,
         "type": "scatter",
         "x": [
          1,
          2,
          3,
          4,
          5,
          6,
          7,
          8,
          9,
          10
         ],
         "y": [
          -0.8402988053296132,
          -0.9287034348734637,
          -1.1881116708739774,
          -1.223801770495893,
          -1.288760839660386,
          -1.288760839660386,
          -1.288760839660386,
          -1.3181322258166415,
          -1.4140902308502525,
          -1.5177853953274778
         ]
        },
        {
         "hovertext": "<b>Topic 201</b>:shipment_tgell_trrack_check_where",
         "line": {
          "color": "black",
          "width": 1.5
         },
         "mode": "lines+lines",
         "name": "",
         "opacity": 0.1,
         "type": "scatter",
         "x": [
          1,
          2,
          3,
          4,
          5,
          6,
          7,
          8,
          9,
          10
         ],
         "y": [
          -0.8960872452243263,
          -1.3232716907885498,
          -1.3232716907885498,
          -1.3576158709193102,
          -1.4771117122692008,
          -1.5074844939056435,
          -1.758824732937486,
          -1.7802036332213187,
          -1.936904573578206,
          -2.013980097265349
         ]
        },
        {
         "hovertext": "<b>Topic 202</b>:report_try_oredr_od_pay_when_have",
         "line": {
          "color": "black",
          "width": 1.5
         },
         "mode": "lines+lines",
         "name": "",
         "opacity": 0.1,
         "type": "scatter",
         "x": [
          1,
          2,
          3,
          4,
          5,
          6,
          7,
          8,
          9,
          10
         ],
         "y": [
          -1.2707651696675084,
          -1.3556248066899166,
          -1.4303271245885982,
          -1.4770297088409454,
          -1.4933545739657095,
          -1.4981444734075,
          -1.6771650643160056,
          -1.713338399429331,
          -1.713338399429331,
          -1.7513699149848454
         ]
        },
        {
         "hovertext": "<b>Topic 203</b>:more_than_several_user_if_know_on",
         "line": {
          "color": "black",
          "width": 1.5
         },
         "mode": "lines+lines",
         "name": "",
         "opacity": 0.1,
         "type": "scatter",
         "x": [
          1,
          2,
          3,
          4,
          5,
          6,
          7,
          8,
          9,
          10
         ],
         "y": [
          -1.0910994779739551,
          -1.0919265795798345,
          -1.1016894723436548,
          -1.124726225230712,
          -1.4353264395186172,
          -1.4598684395674055,
          -1.491906735886677,
          -1.5485101515987234,
          -1.6181872043566679,
          -1.9547861174071817
         ]
        },
        {
         "hovertext": "<b>Topic 204</b>:remember_password_ermember_zccoun",
         "line": {
          "color": "black",
          "width": 1.5
         },
         "mode": "lines+lines",
         "name": "",
         "opacity": 0.1,
         "type": "scatter",
         "x": [
          1,
          2,
          3,
          4,
          5,
          6,
          7,
          8,
          9,
          10
         ],
         "y": [
          -0.6479906667446963,
          -0.9869493793554965,
          -1.19429297637851,
          -1.270163978775948,
          -1.2923935675256317,
          -1.419286503335647,
          -1.8007961248575306,
          -1.829206026911667,
          -1.837531239789689,
          -1.8649499524354063
         ]
        },
        {
         "hovertext": "<b>Topic 205</b>:refund_reqauest_receive_obtain_ho",
         "line": {
          "color": "black",
          "width": 1.5
         },
         "mode": "lines+lines",
         "name": "",
         "opacity": 0.1,
         "type": "scatter",
         "x": [
          1,
          2,
          3,
          4,
          5,
          6,
          7,
          8,
          9,
          10
         ],
         "y": [
          -0.7285746127784789,
          -0.8181217124686438,
          -0.9142905413223765,
          -1.0888146295103516,
          -1.4428372238671436,
          -1.8162958197921222,
          -1.9546333405386376,
          -2.0059818215038474,
          -2.052447179533116,
          -2.526882305422081
         ]
        },
        {
         "hovertext": "<b>Topic 206</b>:notifypayment_notify_where_make_p",
         "line": {
          "color": "black",
          "width": 1.5
         },
         "mode": "lines+lines",
         "name": "",
         "opacity": 0.1,
         "type": "scatter",
         "x": [
          1,
          2,
          3,
          4,
          5,
          6,
          7,
          8,
          9,
          10
         ],
         "y": [
          -0.9844531342351689,
          -1.0276276283289656,
          -1.1760817166052195,
          -1.2321092369707762,
          -1.3339562080225253,
          -1.3655650002230235,
          -1.4447462462706484,
          -2.1865890273343203,
          -2.297251979878672,
          -2.392183731524625
         ]
        },
        {
         "hovertext": "<b>Topic 207</b>:todownload_invopice_invoie_check_",
         "line": {
          "color": "black",
          "width": 1.5
         },
         "mode": "lines+lines",
         "name": "",
         "opacity": 0.1,
         "type": "scatter",
         "x": [
          1,
          2,
          3,
          4,
          5,
          6,
          7,
          8,
          9,
          10
         ],
         "y": [
          -1.1333921472472352,
          -1.1333921472472352,
          -1.1333921472472352,
          -1.2091290125362208,
          -1.2507466929151898,
          -1.671395184772336,
          -1.7056323448786663,
          -1.7398952957262561,
          -1.8093688953035645,
          -1.9032817997716596
         ]
        },
        {
         "hovertext": "<b>Topic 208</b>:whaty_see_invoice_so_should_want_",
         "line": {
          "color": "black",
          "width": 1.5
         },
         "mode": "lines+lines",
         "name": "",
         "opacity": 0.1,
         "type": "scatter",
         "x": [
          1,
          2,
          3,
          4,
          5,
          6,
          7,
          8,
          9,
          10
         ],
         "y": [
          -1.119151708132625,
          -1.128882727520196,
          -1.1493560780816794,
          -1.1654755714659413,
          -1.5038061069952895,
          -1.691391905764056,
          -1.7029122362184008,
          -1.8476486754988244,
          -1.867679123337566,
          -1.9019316546006664
         ]
        },
        {
         "hovertext": "<b>Topic 209</b>:card_notify_inotify_make_ot_payme",
         "line": {
          "color": "black",
          "width": 1.5
         },
         "mode": "lines+lines",
         "name": "",
         "opacity": 0.1,
         "type": "scatter",
         "x": [
          1,
          2,
          3,
          4,
          5,
          6,
          7,
          8,
          9,
          10
         ],
         "y": [
          -1.1837009032260148,
          -1.2534066715737544,
          -1.2565560408132739,
          -1.41649559505734,
          -1.5050067817264514,
          -1.518342566109089,
          -1.524397253837199,
          -1.532026660763211,
          -1.6599060588744998,
          -1.7085568050709514
         ]
        },
        {
         "hovertext": "<b>Topic 210</b>:wehen_notify_try_for_order_pay_wh",
         "line": {
          "color": "black",
          "width": 1.5
         },
         "mode": "lines+lines",
         "name": "",
         "opacity": 0.1,
         "type": "scatter",
         "x": [
          1,
          2,
          3,
          4,
          5,
          6,
          7,
          8,
          9,
          10
         ],
         "y": [
          -1.3850172867333552,
          -1.386799095668927,
          -1.4462041208711953,
          -1.4701999224819875,
          -1.5423009435594084,
          -1.5839338881469882,
          -1.6301164727470039,
          -1.7299558176078846,
          -1.76612915272121,
          -1.841949229166124
         ]
        },
        {
         "hovertext": "<b>Topic 211</b>:human_nuderstand_nered_speak_and_",
         "line": {
          "color": "black",
          "width": 1.5
         },
         "mode": "lines+lines",
         "name": "",
         "opacity": 0.1,
         "type": "scatter",
         "x": [
          1,
          2,
          3,
          4,
          5,
          6,
          7,
          8,
          9,
          10
         ],
         "y": [
          -1.0235118199315554,
          -1.2476945690097503,
          -1.2476945690097503,
          -1.2867532547061367,
          -1.299109741883242,
          -1.3799743385989722,
          -1.510476656856287,
          -1.584227320210965,
          -1.6137704416817098,
          -1.732948940066597
         ]
        },
        {
         "hovertext": "<b>Topic 212</b>:amex_ppay_if_with_make_payment_te",
         "line": {
          "color": "black",
          "width": 1.5
         },
         "mode": "lines+lines",
         "name": "",
         "opacity": 0.1,
         "type": "scatter",
         "x": [
          1,
          2,
          3,
          4,
          5,
          6,
          7,
          8,
          9,
          10
         ],
         "y": [
          -0.24442482228025464,
          -1.099407649936868,
          -1.3795847280513411,
          -1.4212021332201212,
          -1.5019657126582184,
          -1.6038126837099675,
          -1.7229531468842243,
          -1.8300954603724107,
          -1.8625956817890634,
          -1.8865701950652016
         ]
        },
        {
         "hovertext": "<b>Topic 213</b>:view_losg_invoice_ddo_hwat_should",
         "line": {
          "color": "black",
          "width": 1.5
         },
         "mode": "lines+lines",
         "name": "",
         "opacity": 0.1,
         "type": "scatter",
         "x": [
          1,
          2,
          3,
          4,
          5,
          6,
          7,
          8,
          9,
          10
         ],
         "y": [
          -1.0063032740177233,
          -1.1333921472472352,
          -1.1635965171962896,
          -1.1797160105805515,
          -1.264837364501077,
          -1.5180465461098995,
          -1.671395184772336,
          -1.7470250300368912,
          -1.8441310015627763,
          -1.8618891146134344
         ]
        },
        {
         "hovertext": "<b>Topic 214</b>:confirmation_ogt_confirmaiton_pay",
         "line": {
          "color": "black",
          "width": 1.5
         },
         "mode": "lines+lines",
         "name": "",
         "opacity": 0.1,
         "type": "scatter",
         "x": [
          1,
          2,
          3,
          4,
          5,
          6,
          7,
          8,
          9,
          10
         ],
         "y": [
          -0.29194641498032364,
          -1.078723051077017,
          -1.078723051077017,
          -1.078723051077017,
          -1.0976288803450982,
          -1.3779271540644764,
          -1.4282261248643733,
          -1.68392781974576,
          -1.7225151157619447,
          -1.7716280485878608
         ]
        },
        {
         "hovertext": "<b>Topic 215</b>:inform_myu_of_payment_with_proble",
         "line": {
          "color": "black",
          "width": 1.5
         },
         "mode": "lines+lines",
         "name": "",
         "opacity": 0.1,
         "type": "scatter",
         "x": [
          1,
          2,
          3,
          4,
          5,
          6,
          7,
          8,
          9,
          10
         ],
         "y": [
          -1.1067396677895287,
          -1.182087882216496,
          -1.357770782606722,
          -1.4334903648567305,
          -1.4471744595108524,
          -1.4650991570572287,
          -1.6117927894598174,
          -1.64119041611291,
          -1.8996344341544735,
          -2.2718474001045776
         ]
        }
       ],
       "layout": {
        "height": 500,
        "hoverlabel": {
         "bgcolor": "white",
         "font": {
          "family": "Rockwell",
          "size": 16
         }
        },
        "showlegend": false,
        "template": {
         "data": {
          "bar": [
           {
            "error_x": {
             "color": "#2a3f5f"
            },
            "error_y": {
             "color": "#2a3f5f"
            },
            "marker": {
             "line": {
              "color": "white",
              "width": 0.5
             },
             "pattern": {
              "fillmode": "overlay",
              "size": 10,
              "solidity": 0.2
             }
            },
            "type": "bar"
           }
          ],
          "barpolar": [
           {
            "marker": {
             "line": {
              "color": "white",
              "width": 0.5
             },
             "pattern": {
              "fillmode": "overlay",
              "size": 10,
              "solidity": 0.2
             }
            },
            "type": "barpolar"
           }
          ],
          "carpet": [
           {
            "aaxis": {
             "endlinecolor": "#2a3f5f",
             "gridcolor": "#C8D4E3",
             "linecolor": "#C8D4E3",
             "minorgridcolor": "#C8D4E3",
             "startlinecolor": "#2a3f5f"
            },
            "baxis": {
             "endlinecolor": "#2a3f5f",
             "gridcolor": "#C8D4E3",
             "linecolor": "#C8D4E3",
             "minorgridcolor": "#C8D4E3",
             "startlinecolor": "#2a3f5f"
            },
            "type": "carpet"
           }
          ],
          "choropleth": [
           {
            "colorbar": {
             "outlinewidth": 0,
             "ticks": ""
            },
            "type": "choropleth"
           }
          ],
          "contour": [
           {
            "colorbar": {
             "outlinewidth": 0,
             "ticks": ""
            },
            "colorscale": [
             [
              0,
              "#0d0887"
             ],
             [
              0.1111111111111111,
              "#46039f"
             ],
             [
              0.2222222222222222,
              "#7201a8"
             ],
             [
              0.3333333333333333,
              "#9c179e"
             ],
             [
              0.4444444444444444,
              "#bd3786"
             ],
             [
              0.5555555555555556,
              "#d8576b"
             ],
             [
              0.6666666666666666,
              "#ed7953"
             ],
             [
              0.7777777777777778,
              "#fb9f3a"
             ],
             [
              0.8888888888888888,
              "#fdca26"
             ],
             [
              1,
              "#f0f921"
             ]
            ],
            "type": "contour"
           }
          ],
          "contourcarpet": [
           {
            "colorbar": {
             "outlinewidth": 0,
             "ticks": ""
            },
            "type": "contourcarpet"
           }
          ],
          "heatmap": [
           {
            "colorbar": {
             "outlinewidth": 0,
             "ticks": ""
            },
            "colorscale": [
             [
              0,
              "#0d0887"
             ],
             [
              0.1111111111111111,
              "#46039f"
             ],
             [
              0.2222222222222222,
              "#7201a8"
             ],
             [
              0.3333333333333333,
              "#9c179e"
             ],
             [
              0.4444444444444444,
              "#bd3786"
             ],
             [
              0.5555555555555556,
              "#d8576b"
             ],
             [
              0.6666666666666666,
              "#ed7953"
             ],
             [
              0.7777777777777778,
              "#fb9f3a"
             ],
             [
              0.8888888888888888,
              "#fdca26"
             ],
             [
              1,
              "#f0f921"
             ]
            ],
            "type": "heatmap"
           }
          ],
          "heatmapgl": [
           {
            "colorbar": {
             "outlinewidth": 0,
             "ticks": ""
            },
            "colorscale": [
             [
              0,
              "#0d0887"
             ],
             [
              0.1111111111111111,
              "#46039f"
             ],
             [
              0.2222222222222222,
              "#7201a8"
             ],
             [
              0.3333333333333333,
              "#9c179e"
             ],
             [
              0.4444444444444444,
              "#bd3786"
             ],
             [
              0.5555555555555556,
              "#d8576b"
             ],
             [
              0.6666666666666666,
              "#ed7953"
             ],
             [
              0.7777777777777778,
              "#fb9f3a"
             ],
             [
              0.8888888888888888,
              "#fdca26"
             ],
             [
              1,
              "#f0f921"
             ]
            ],
            "type": "heatmapgl"
           }
          ],
          "histogram": [
           {
            "marker": {
             "pattern": {
              "fillmode": "overlay",
              "size": 10,
              "solidity": 0.2
             }
            },
            "type": "histogram"
           }
          ],
          "histogram2d": [
           {
            "colorbar": {
             "outlinewidth": 0,
             "ticks": ""
            },
            "colorscale": [
             [
              0,
              "#0d0887"
             ],
             [
              0.1111111111111111,
              "#46039f"
             ],
             [
              0.2222222222222222,
              "#7201a8"
             ],
             [
              0.3333333333333333,
              "#9c179e"
             ],
             [
              0.4444444444444444,
              "#bd3786"
             ],
             [
              0.5555555555555556,
              "#d8576b"
             ],
             [
              0.6666666666666666,
              "#ed7953"
             ],
             [
              0.7777777777777778,
              "#fb9f3a"
             ],
             [
              0.8888888888888888,
              "#fdca26"
             ],
             [
              1,
              "#f0f921"
             ]
            ],
            "type": "histogram2d"
           }
          ],
          "histogram2dcontour": [
           {
            "colorbar": {
             "outlinewidth": 0,
             "ticks": ""
            },
            "colorscale": [
             [
              0,
              "#0d0887"
             ],
             [
              0.1111111111111111,
              "#46039f"
             ],
             [
              0.2222222222222222,
              "#7201a8"
             ],
             [
              0.3333333333333333,
              "#9c179e"
             ],
             [
              0.4444444444444444,
              "#bd3786"
             ],
             [
              0.5555555555555556,
              "#d8576b"
             ],
             [
              0.6666666666666666,
              "#ed7953"
             ],
             [
              0.7777777777777778,
              "#fb9f3a"
             ],
             [
              0.8888888888888888,
              "#fdca26"
             ],
             [
              1,
              "#f0f921"
             ]
            ],
            "type": "histogram2dcontour"
           }
          ],
          "mesh3d": [
           {
            "colorbar": {
             "outlinewidth": 0,
             "ticks": ""
            },
            "type": "mesh3d"
           }
          ],
          "parcoords": [
           {
            "line": {
             "colorbar": {
              "outlinewidth": 0,
              "ticks": ""
             }
            },
            "type": "parcoords"
           }
          ],
          "pie": [
           {
            "automargin": true,
            "type": "pie"
           }
          ],
          "scatter": [
           {
            "fillpattern": {
             "fillmode": "overlay",
             "size": 10,
             "solidity": 0.2
            },
            "type": "scatter"
           }
          ],
          "scatter3d": [
           {
            "line": {
             "colorbar": {
              "outlinewidth": 0,
              "ticks": ""
             }
            },
            "marker": {
             "colorbar": {
              "outlinewidth": 0,
              "ticks": ""
             }
            },
            "type": "scatter3d"
           }
          ],
          "scattercarpet": [
           {
            "marker": {
             "colorbar": {
              "outlinewidth": 0,
              "ticks": ""
             }
            },
            "type": "scattercarpet"
           }
          ],
          "scattergeo": [
           {
            "marker": {
             "colorbar": {
              "outlinewidth": 0,
              "ticks": ""
             }
            },
            "type": "scattergeo"
           }
          ],
          "scattergl": [
           {
            "marker": {
             "colorbar": {
              "outlinewidth": 0,
              "ticks": ""
             }
            },
            "type": "scattergl"
           }
          ],
          "scattermapbox": [
           {
            "marker": {
             "colorbar": {
              "outlinewidth": 0,
              "ticks": ""
             }
            },
            "type": "scattermapbox"
           }
          ],
          "scatterpolar": [
           {
            "marker": {
             "colorbar": {
              "outlinewidth": 0,
              "ticks": ""
             }
            },
            "type": "scatterpolar"
           }
          ],
          "scatterpolargl": [
           {
            "marker": {
             "colorbar": {
              "outlinewidth": 0,
              "ticks": ""
             }
            },
            "type": "scatterpolargl"
           }
          ],
          "scatterternary": [
           {
            "marker": {
             "colorbar": {
              "outlinewidth": 0,
              "ticks": ""
             }
            },
            "type": "scatterternary"
           }
          ],
          "surface": [
           {
            "colorbar": {
             "outlinewidth": 0,
             "ticks": ""
            },
            "colorscale": [
             [
              0,
              "#0d0887"
             ],
             [
              0.1111111111111111,
              "#46039f"
             ],
             [
              0.2222222222222222,
              "#7201a8"
             ],
             [
              0.3333333333333333,
              "#9c179e"
             ],
             [
              0.4444444444444444,
              "#bd3786"
             ],
             [
              0.5555555555555556,
              "#d8576b"
             ],
             [
              0.6666666666666666,
              "#ed7953"
             ],
             [
              0.7777777777777778,
              "#fb9f3a"
             ],
             [
              0.8888888888888888,
              "#fdca26"
             ],
             [
              1,
              "#f0f921"
             ]
            ],
            "type": "surface"
           }
          ],
          "table": [
           {
            "cells": {
             "fill": {
              "color": "#EBF0F8"
             },
             "line": {
              "color": "white"
             }
            },
            "header": {
             "fill": {
              "color": "#C8D4E3"
             },
             "line": {
              "color": "white"
             }
            },
            "type": "table"
           }
          ]
         },
         "layout": {
          "annotationdefaults": {
           "arrowcolor": "#2a3f5f",
           "arrowhead": 0,
           "arrowwidth": 1
          },
          "autotypenumbers": "strict",
          "coloraxis": {
           "colorbar": {
            "outlinewidth": 0,
            "ticks": ""
           }
          },
          "colorscale": {
           "diverging": [
            [
             0,
             "#8e0152"
            ],
            [
             0.1,
             "#c51b7d"
            ],
            [
             0.2,
             "#de77ae"
            ],
            [
             0.3,
             "#f1b6da"
            ],
            [
             0.4,
             "#fde0ef"
            ],
            [
             0.5,
             "#f7f7f7"
            ],
            [
             0.6,
             "#e6f5d0"
            ],
            [
             0.7,
             "#b8e186"
            ],
            [
             0.8,
             "#7fbc41"
            ],
            [
             0.9,
             "#4d9221"
            ],
            [
             1,
             "#276419"
            ]
           ],
           "sequential": [
            [
             0,
             "#0d0887"
            ],
            [
             0.1111111111111111,
             "#46039f"
            ],
            [
             0.2222222222222222,
             "#7201a8"
            ],
            [
             0.3333333333333333,
             "#9c179e"
            ],
            [
             0.4444444444444444,
             "#bd3786"
            ],
            [
             0.5555555555555556,
             "#d8576b"
            ],
            [
             0.6666666666666666,
             "#ed7953"
            ],
            [
             0.7777777777777778,
             "#fb9f3a"
            ],
            [
             0.8888888888888888,
             "#fdca26"
            ],
            [
             1,
             "#f0f921"
            ]
           ],
           "sequentialminus": [
            [
             0,
             "#0d0887"
            ],
            [
             0.1111111111111111,
             "#46039f"
            ],
            [
             0.2222222222222222,
             "#7201a8"
            ],
            [
             0.3333333333333333,
             "#9c179e"
            ],
            [
             0.4444444444444444,
             "#bd3786"
            ],
            [
             0.5555555555555556,
             "#d8576b"
            ],
            [
             0.6666666666666666,
             "#ed7953"
            ],
            [
             0.7777777777777778,
             "#fb9f3a"
            ],
            [
             0.8888888888888888,
             "#fdca26"
            ],
            [
             1,
             "#f0f921"
            ]
           ]
          },
          "colorway": [
           "#636efa",
           "#EF553B",
           "#00cc96",
           "#ab63fa",
           "#FFA15A",
           "#19d3f3",
           "#FF6692",
           "#B6E880",
           "#FF97FF",
           "#FECB52"
          ],
          "font": {
           "color": "#2a3f5f"
          },
          "geo": {
           "bgcolor": "white",
           "lakecolor": "white",
           "landcolor": "white",
           "showlakes": true,
           "showland": true,
           "subunitcolor": "#C8D4E3"
          },
          "hoverlabel": {
           "align": "left"
          },
          "hovermode": "closest",
          "mapbox": {
           "style": "light"
          },
          "paper_bgcolor": "white",
          "plot_bgcolor": "white",
          "polar": {
           "angularaxis": {
            "gridcolor": "#EBF0F8",
            "linecolor": "#EBF0F8",
            "ticks": ""
           },
           "bgcolor": "white",
           "radialaxis": {
            "gridcolor": "#EBF0F8",
            "linecolor": "#EBF0F8",
            "ticks": ""
           }
          },
          "scene": {
           "xaxis": {
            "backgroundcolor": "white",
            "gridcolor": "#DFE8F3",
            "gridwidth": 2,
            "linecolor": "#EBF0F8",
            "showbackground": true,
            "ticks": "",
            "zerolinecolor": "#EBF0F8"
           },
           "yaxis": {
            "backgroundcolor": "white",
            "gridcolor": "#DFE8F3",
            "gridwidth": 2,
            "linecolor": "#EBF0F8",
            "showbackground": true,
            "ticks": "",
            "zerolinecolor": "#EBF0F8"
           },
           "zaxis": {
            "backgroundcolor": "white",
            "gridcolor": "#DFE8F3",
            "gridwidth": 2,
            "linecolor": "#EBF0F8",
            "showbackground": true,
            "ticks": "",
            "zerolinecolor": "#EBF0F8"
           }
          },
          "shapedefaults": {
           "line": {
            "color": "#2a3f5f"
           }
          },
          "ternary": {
           "aaxis": {
            "gridcolor": "#DFE8F3",
            "linecolor": "#A2B1C6",
            "ticks": ""
           },
           "baxis": {
            "gridcolor": "#DFE8F3",
            "linecolor": "#A2B1C6",
            "ticks": ""
           },
           "bgcolor": "white",
           "caxis": {
            "gridcolor": "#DFE8F3",
            "linecolor": "#A2B1C6",
            "ticks": ""
           }
          },
          "title": {
           "x": 0.05
          },
          "xaxis": {
           "automargin": true,
           "gridcolor": "#EBF0F8",
           "linecolor": "#EBF0F8",
           "ticks": "",
           "title": {
            "standoff": 15
           },
           "zerolinecolor": "#EBF0F8",
           "zerolinewidth": 2
          },
          "yaxis": {
           "automargin": true,
           "gridcolor": "#EBF0F8",
           "linecolor": "#EBF0F8",
           "ticks": "",
           "title": {
            "standoff": 15
           },
           "zerolinecolor": "#EBF0F8",
           "zerolinewidth": 2
          }
         }
        },
        "title": {
         "font": {
          "color": "Black",
          "size": 22
         },
         "text": "<b>Term score decline per Topic</b>",
         "x": 0.5,
         "xanchor": "center",
         "y": 0.9,
         "yanchor": "top"
        },
        "width": 800,
        "xaxis": {
         "dtick": 2,
         "range": [
          0,
          10
         ],
         "tick0": 1,
         "title": {
          "text": "Term Rank"
         }
        },
        "yaxis": {
         "title": {
          "text": "c-TF-IDF score (log scale)"
         }
        }
       }
      }
     },
     "metadata": {},
     "output_type": "display_data"
    }
   ],
   "source": [
    "topic_model.visualize_term_rank(log_scale=True)"
   ]
  },
  {
   "attachments": {},
   "cell_type": "markdown",
   "metadata": {},
   "source": [
    "## Step 5: Prepare for anomaly detection"
   ]
  },
  {
   "cell_type": "code",
   "execution_count": 45,
   "metadata": {},
   "outputs": [],
   "source": [
    "to_clean_df = cleaned_df\n",
    "del to_clean_df[TEXT_COL]\n",
    "del to_clean_df[\"intent\"]\n",
    "del to_clean_df[\"category\"]"
   ]
  },
  {
   "cell_type": "code",
   "execution_count": 46,
   "metadata": {},
   "outputs": [],
   "source": [
    "GROUP: str = \"group\""
   ]
  },
  {
   "cell_type": "code",
   "execution_count": 47,
   "metadata": {},
   "outputs": [],
   "source": [
    "to_clean_df[GROUP] = topics"
   ]
  },
  {
   "attachments": {},
   "cell_type": "markdown",
   "metadata": {},
   "source": [
    "Count the occurence"
   ]
  },
  {
   "cell_type": "code",
   "execution_count": 48,
   "metadata": {},
   "outputs": [],
   "source": [
    "counted_df = to_clean_df.groupby([GROUP, DATE_COL]).count().reset_index().assign(COUNT=lambda x: x.iloc[:,0])"
   ]
  },
  {
   "cell_type": "code",
   "execution_count": 49,
   "metadata": {},
   "outputs": [],
   "source": [
    "duplicates_df = to_clean_df.groupby([GROUP, DATE_COL]).apply(lambda x: x.duplicated().sum()).reset_index(name='DUPLICATES')"
   ]
  },
  {
   "cell_type": "code",
   "execution_count": 50,
   "metadata": {},
   "outputs": [],
   "source": [
    "duplicates_df[\"DUPLICATES\"] = duplicates_df[\"DUPLICATES\"].apply(lambda count: count+1)"
   ]
  },
  {
   "attachments": {},
   "cell_type": "markdown",
   "metadata": {},
   "source": [
    "Fill missing values"
   ]
  },
  {
   "cell_type": "code",
   "execution_count": 51,
   "metadata": {},
   "outputs": [],
   "source": [
    "def fill_missing_dates(df: DataFrame, date_col: str, freq: str=\"15min\") -> DataFrame:\n",
    "    \"\"\"Fill missing dates of group\"\"\"\n",
    "    min_date = df[date_col].min()\n",
    "    max_date = df[date_col].max()\n",
    "    new_dates = pd.date_range(min_date, max_date, freq=freq)\n",
    "    all_dates = pd.DataFrame({date_col: new_dates})\n",
    "    \n",
    "    # merge the new dataframe with the original df\n",
    "    df = pd.merge(df, all_dates, on=date_col, how='outer')\n",
    "    \n",
    "    # sort by date_col and fill missing values with new dates\n",
    "    df = df.sort_values(by=date_col)\n",
    "    df[date_col] = df[date_col].fillna(method='ffill')\n",
    "    df = df.ffill()\n",
    "    return df"
   ]
  },
  {
   "cell_type": "code",
   "execution_count": 52,
   "metadata": {},
   "outputs": [],
   "source": [
    "filled_df: DataFrame = duplicates_df.groupby(GROUP).apply(lambda df: fill_missing_dates(df, DATE_COL))"
   ]
  },
  {
   "attachments": {},
   "cell_type": "markdown",
   "metadata": {},
   "source": [
    "## Step 6: Anomaly Detection"
   ]
  },
  {
   "attachments": {},
   "cell_type": "markdown",
   "metadata": {},
   "source": [
    "Convert df for tad"
   ]
  },
  {
   "cell_type": "code",
   "execution_count": 53,
   "metadata": {},
   "outputs": [],
   "source": [
    "filled_df = filled_df.set_index(DATE_COL)"
   ]
  },
  {
   "attachments": {},
   "cell_type": "markdown",
   "metadata": {},
   "source": [
    "Find anomalies"
   ]
  },
  {
   "cell_type": "code",
   "execution_count": 63,
   "metadata": {},
   "outputs": [
    {
     "name": "stderr",
     "output_type": "stream",
     "text": [
      "<>:292: SyntaxWarning:\n",
      "\n",
      "\"is\" with a literal. Did you mean \"==\"?\n",
      "\n",
      "<>:292: SyntaxWarning:\n",
      "\n",
      "\"is\" with a literal. Did you mean \"==\"?\n",
      "\n",
      "/var/folders/v_/tk7569mn3tg3vprcs753bknw0000gn/T/ipykernel_76299/1389781380.py:292: SyntaxWarning:\n",
      "\n",
      "\"is\" with a literal. Did you mean \"==\"?\n",
      "\n"
     ]
    }
   ],
   "source": [
    "import numpy as np\n",
    "import scipy as sp\n",
    "import pandas as pd\n",
    "import datetime\n",
    "import statsmodels.api as sm\n",
    "import logging\n",
    "\n",
    "\n",
    "logger = logging.getLogger(__name__)\n",
    "\n",
    "\n",
    "def _handle_granularity_error(level):\n",
    "    \"\"\"\n",
    "    Raises ValueError with detailed error message if one of the two situations is true:\n",
    "      1. calculated granularity is less than minute (sec or ms)\n",
    "      2. resampling is not enabled for situations where calculated granularity < min\n",
    "      level : String\n",
    "        the granularity that is below the min threshold\n",
    "    \"\"\"\n",
    "    e_message = '%s granularity is not supported. Ensure granularity => minute or enable resampling' % level\n",
    "    raise ValueError(e_message)\n",
    "\n",
    "\n",
    "def _resample_to_min(data, period_override=None):\n",
    "    \"\"\"\n",
    "    Resamples a data set to the min level of granularity\n",
    "      data : pandas DataFrame\n",
    "        input Pandas DataFrame\n",
    "      period_override : int\n",
    "        indicates whether resampling should be done with overridden value instead of min (1440)\n",
    "    \"\"\"\n",
    "    data = data.resample('60s', label='right').sum()\n",
    "    if _override_period(period_override):\n",
    "        period = period_override\n",
    "    else:\n",
    "        period = 1440\n",
    "    return (data, period)\n",
    "\n",
    "\n",
    "def _override_period(period_override):\n",
    "    \"\"\"\n",
    "    Indicates whether period can be overridden if the period derived from granularity does\n",
    "    not match the generated period.\n",
    "      period_override : int\n",
    "        the user-specified period that overrides the value calculated from granularity\n",
    "    \"\"\"\n",
    "    return period_override is not None\n",
    "\n",
    "\n",
    "def _get_period(gran_period, period_arg=None):\n",
    "    \"\"\"\n",
    "    Returns the generated period or overridden period depending upon the period_arg\n",
    "      gran_period : int\n",
    "        the period generated from the granularity\n",
    "      period_arg : the period override value that is either None or an int\n",
    "        the period to override the period generated from granularity\n",
    "    \"\"\"\n",
    "    if _override_period(period_arg):\n",
    "        return period_arg\n",
    "    else:\n",
    "        return gran_period\n",
    "\n",
    "\n",
    "def _get_data_tuple(raw_data, period_override, resampling=False):\n",
    "    \"\"\"\n",
    "    Generates a tuple consisting of processed input data, a calculated or overridden period, and granularity\n",
    "      raw_data : pandas DataFrame\n",
    "        input data\n",
    "      period_override : int\n",
    "        period specified in the anomaly_detect_ts parameter list, None if it is not provided\n",
    "      resampling : True | False\n",
    "        indicates whether the raw_data should be resampled to a supporting granularity, if applicable\n",
    "    \"\"\"\n",
    "    data = raw_data.sort_index()\n",
    "    timediff = _get_time_diff(data)\n",
    "\n",
    "    if timediff.days > 0:\n",
    "        period = _get_period(7, period_override)\n",
    "        granularity = 'day'\n",
    "    elif timediff.seconds / 60 / 60 >= 1:\n",
    "        granularity = 'hr'\n",
    "        period = _get_period(24, period_override)\n",
    "    elif timediff.seconds / 60 >= 1:\n",
    "        granularity = 'min'\n",
    "        period = _get_period(1440, period_override)\n",
    "    elif timediff.seconds > 0:\n",
    "        granularity = 'sec'\n",
    "    elif timediff.seconds > 0:\n",
    "        granularity = 'sec'\n",
    "\n",
    "        '''\n",
    "           Aggregate data to minute level of granularity if data stream granularity is sec and\n",
    "           resampling=True. If resampling=False, raise ValueError\n",
    "        '''\n",
    "        if resampling is True:\n",
    "            period = _resample_to_min(data, period_override)\n",
    "        else:\n",
    "            _handle_granularity_error('sec')\n",
    "    else:\n",
    "        '''\n",
    "           Aggregate data to minute level of granularity if data stream granularity is ms and\n",
    "           resampling=True. If resampling=False, raise ValueError\n",
    "        '''\n",
    "        if resampling is True:\n",
    "            data, period = _resample_to_min(data, period_override)\n",
    "            granularity = None\n",
    "        else:\n",
    "            _handle_granularity_error('ms')\n",
    "\n",
    "    return (data, period, granularity)\n",
    "\n",
    "\n",
    "def _get_time_diff(data):\n",
    "    \"\"\"\n",
    "    Generates the time difference used to determine granularity and\n",
    "    to generate the period\n",
    "      data : pandas DataFrame\n",
    "        composed of input data\n",
    "    \"\"\"\n",
    "    return data.index[1] - data.index[0]\n",
    "\n",
    "\n",
    "def _get_max_anoms(data, max_anoms):\n",
    "    \"\"\"\n",
    "    Returns the max_anoms parameter used for S-H-ESD time series anomaly detection\n",
    "      data : pandas DataFrame\n",
    "        composed of input data\n",
    "      max_anoms : float\n",
    "        the input max_anoms\n",
    "    \"\"\"\n",
    "    if max_anoms == 0:\n",
    "        logger.warning('0 max_anoms results in max_outliers being 0.')\n",
    "    return 1 / data.size if max_anoms < 1 / data.size else max_anoms\n",
    "\n",
    "\n",
    "def _process_long_term_data(data, period, granularity, piecewise_median_period_weeks):\n",
    "    \"\"\"\n",
    "    Processes result set when longterm is set to true\n",
    "      data : list of floats\n",
    "        the result set of anoms\n",
    "      period : int\n",
    "        the calculated or overridden period value\n",
    "      granularity : string\n",
    "        the calculated or overridden granularity\n",
    "      piecewise_median_period_weeks : int\n",
    "        used to determine days and observations per period\n",
    "    \"\"\"\n",
    "    # Pre-allocate list with size equal to the number of piecewise_median_period_weeks chunks in x + any left over chunk\n",
    "    # handle edge cases for daily and single column data period lengths\n",
    "    num_obs_in_period = period * piecewise_median_period_weeks + \\\n",
    "        1 if granularity == 'day' else period * 7 * piecewise_median_period_weeks\n",
    "    num_days_in_period = (7 * piecewise_median_period_weeks) + \\\n",
    "        1 if granularity == 'day' else (7 * piecewise_median_period_weeks)\n",
    "\n",
    "    all_data = []\n",
    "    # Subset x into piecewise_median_period_weeks chunks\n",
    "    for i in range(1, data.size + 1, num_obs_in_period):\n",
    "        start_date = data.index[i]\n",
    "        # if there is at least 14 days left, subset it, otherwise subset last_date - 14 days\n",
    "        end_date = start_date + datetime.timedelta(days=num_days_in_period)\n",
    "        if end_date < data.index[-1]:\n",
    "            all_data.append(\n",
    "                data.loc[lambda x: (x.index >= start_date) & (x.index <= end_date)])\n",
    "        else:\n",
    "            all_data.append(\n",
    "                data.loc[lambda x: x.index >= data.index[-1] - datetime.timedelta(days=num_days_in_period)])\n",
    "    return all_data\n",
    "\n",
    "\n",
    "def _get_only_last_results(data, all_anoms, granularity, only_last):\n",
    "    \"\"\"\n",
    "    Returns the results from the last day or hour only\n",
    "      data : pandas DataFrame\n",
    "        input data set\n",
    "      all_anoms : list of floats\n",
    "        all of the anomalies returned by the algorithm\n",
    "      granularity : string day | hr | min\n",
    "        The supported granularity value\n",
    "      only_last : string day | hr\n",
    "        The subset of anomalies to be returned\n",
    "    \"\"\"\n",
    "    start_date = data.index[-1] - datetime.timedelta(days=7)\n",
    "    start_anoms = data.index[-1] - datetime.timedelta(days=1)\n",
    "\n",
    "    if only_last == 'hr':\n",
    "        # We need to change start_date and start_anoms for the hourly only_last option\n",
    "        start_date = datetime.datetime.combine(\n",
    "            (data.index[-1] - datetime.timedelta(days=2)).date(), datetime.time.min)\n",
    "        start_anoms = data.index[-1] - datetime.timedelta(hours=1)\n",
    "\n",
    "    # subset the last days worth of data\n",
    "    x_subset_single_day = data.loc[data.index > start_anoms]\n",
    "    # When plotting anoms for the last day only we only show the previous weeks data\n",
    "    x_subset_week = data.loc[lambda df: (\n",
    "        df.index <= start_anoms) & (df.index > start_date)]\n",
    "    return all_anoms.loc[all_anoms.index >= x_subset_single_day.index[0]]\n",
    "\n",
    "\n",
    "def _get_plot_breaks(granularity, only_last):\n",
    "    \"\"\"\n",
    "    Generates the breaks used in plotting\n",
    "      granularity : string\n",
    "        the supported granularity value\n",
    "      only_last : True | False\n",
    "        indicates whether only the last day or hour is returned and to be plotted\n",
    "    \"\"\"\n",
    "    if granularity == 'day':\n",
    "        breaks = 3 * 12\n",
    "    elif only_last == 'day':\n",
    "        breaks = 12\n",
    "    else:\n",
    "        breaks = 3\n",
    "    return breaks\n",
    "\n",
    "\n",
    "def _perform_threshold_filter(anoms, periodic_max, threshold):\n",
    "    \"\"\"\n",
    "    Filters the list of anomalies per the threshold filter\n",
    "      anoms : list of floats\n",
    "        the anoms returned by the algorithm\n",
    "      periodic_max : float\n",
    "        calculated daily max value\n",
    "      threshold : med_max\" | \"p95\" | \"p99\"\n",
    "        user-specified threshold value used to filter anoms\n",
    "    \"\"\"\n",
    "    if threshold == 'med_max':\n",
    "        thresh = periodic_max.median()\n",
    "    elif threshold == 'p95':\n",
    "        thresh = periodic_max.quantile(0.95)\n",
    "    elif threshold == 'p99':\n",
    "        thresh = periodic_max.quantile(0.99)\n",
    "    else:\n",
    "        raise AttributeError(\n",
    "            'Invalid threshold, threshold options are None | med_max | p95 | p99')\n",
    "\n",
    "    return anoms.loc[anoms.values >= thresh]\n",
    "\n",
    "\n",
    "def _get_max_outliers(data, max_percent_anomalies):\n",
    "    \"\"\"\n",
    "    Calculates the max_outliers for an input data set\n",
    "      data : pandas DataFrame\n",
    "        the input data set\n",
    "      max_percent_anomalies : float\n",
    "        the input maximum number of anomalies per percent of data set values\n",
    "    \"\"\"\n",
    "    max_outliers = int(np.trunc(data.size * max_percent_anomalies))\n",
    "    assert max_outliers, 'With longterm=True, AnomalyDetection splits the data into 2 week periods by default. You have {0} observations in a period, which is too few. Set a higher piecewise_median_period_weeks.'.format(\n",
    "        data.size)\n",
    "    return max_outliers\n",
    "\n",
    "\n",
    "def _get_decomposed_data_tuple(data, num_obs_per_period):\n",
    "    \"\"\"\n",
    "    Returns a tuple consisting of two versions of the input data set: seasonally-decomposed and smoothed\n",
    "      data : pandas DataFrame\n",
    "        the input data set\n",
    "      num_obs_per_period : int\n",
    "        the number of observations in each period\n",
    "    \"\"\"\n",
    "    decomposed = sm.tsa.seasonal_decompose(\n",
    "        data, period=num_obs_per_period, two_sided=False)\n",
    "    smoothed = data - decomposed.resid.fillna(0)\n",
    "    data = data - decomposed.seasonal - data.mean()\n",
    "    return (data, smoothed)\n",
    "\n",
    "\n",
    "def anomaly_detect_ts(x, max_anoms=0.1, direction=\"pos\", alpha=0.05, only_last=None,\n",
    "                      threshold=None, e_value=False, longterm=False, piecewise_median_period_weeks=2,\n",
    "                      plot=False, y_log=False, xlabel=\"\", ylabel=\"count\", title='shesd output: ', verbose=False,\n",
    "                      dropna=False, resampling=False, period_override=None):\n",
    "\n",
    "    if verbose:\n",
    "        logger.setLevel(logging.DEBUG)\n",
    "        logger.debug(\"The debug logs will be logged because verbose=%s\", verbose)\n",
    "\n",
    "    # validation\n",
    "    assert isinstance(x, pd.Series), 'Data must be a series(Pandas.Series)'\n",
    "    assert x.values.dtype in [int, float], 'Values of the series must be number'\n",
    "    assert x.index.dtype == np.dtype('datetime64[ns]'), 'Index of the series must be datetime'\n",
    "    assert max_anoms <= 0.49 and max_anoms >= 0, 'max_anoms must be non-negative and less than 50% '\n",
    "    assert direction in ['pos', 'neg', 'both'], 'direction options: pos | neg | both'\n",
    "    assert only_last in [None, 'day', 'hr'], 'only_last options: None | day | hr'\n",
    "    assert threshold in [None, 'med_max', 'p95', 'p99'], 'threshold options: None | med_max | p95 | p99'\n",
    "    assert piecewise_median_period_weeks >= 2, 'piecewise_median_period_weeks must be greater than 2 weeks'\n",
    "    logger.debug('Completed validation of input parameters')\n",
    "\n",
    "    if alpha < 0.01 or alpha > 0.1:\n",
    "        logger.warning('alpha is the statistical significance and is usually between 0.01 and 0.1')\n",
    "\n",
    "    data, period, granularity = _get_data_tuple(x, period_override, resampling)\n",
    "    if granularity is 'day':\n",
    "        num_days_per_line = 7\n",
    "        only_last = 'day' if only_last == 'hr' else only_last\n",
    "\n",
    "    max_anoms = _get_max_anoms(data, max_anoms)\n",
    "\n",
    "    # If longterm is enabled, break the data into subset data frames and store in all_data\n",
    "    all_data = _process_long_term_data(data, period, granularity, piecewise_median_period_weeks) if longterm else [data] \n",
    "    all_anoms = pd.Series()\n",
    "    seasonal_plus_trend = pd.Series()\n",
    "\n",
    "    # Detect anomalies on all data (either entire data in one-pass, or in 2 week blocks if longterm=True)\n",
    "    for series in all_data:\n",
    "        shesd = _detect_anoms(series, k=max_anoms, alpha=alpha, num_obs_per_period=period, use_decomp=True,\n",
    "                              use_esd=False, direction=direction, verbose=verbose)\n",
    "        shesd_anoms = shesd['anoms']\n",
    "        shesd_stl = shesd['stl']\n",
    "\n",
    "        # -- Step 3: Use detected anomaly timestamps to extract the actual anomalies (timestamp and value) from the data\n",
    "        anoms = pd.Series() if shesd_anoms.empty else series.loc[shesd_anoms.index]\n",
    "\n",
    "        # Filter the anomalies using one of the thresholding functions if applicable\n",
    "        if threshold:\n",
    "            # Calculate daily max values\n",
    "            periodic_max = data.resample('1D').max()\n",
    "            anoms = _perform_threshold_filter(anoms, periodic_max, threshold)\n",
    "\n",
    "        all_anoms = all_anoms.append(anoms)\n",
    "        seasonal_plus_trend = seasonal_plus_trend.append(shesd_stl)\n",
    "\n",
    "    # De-dupe\n",
    "    all_anoms.drop_duplicates(inplace=True)\n",
    "    seasonal_plus_trend.drop_duplicates(inplace=True)\n",
    "\n",
    "    # If only_last is specified, create a subset of the data corresponding to the most recent day or hour\n",
    "    if only_last:\n",
    "        all_anoms = _get_only_last_results(\n",
    "            data, all_anoms, granularity, only_last)\n",
    "\n",
    "    # If there are no anoms, log it and return an empty anoms result\n",
    "    if all_anoms.empty:\n",
    "        if verbose:\n",
    "            logger.info('No anomalies detected.')\n",
    "\n",
    "        return {\n",
    "            'anoms': pd.Series(),\n",
    "            'plot': None\n",
    "        }\n",
    "\n",
    "    if plot:\n",
    "        # TODO additional refactoring and logic needed to support plotting\n",
    "        num_days_per_line\n",
    "        #breaks = _get_plot_breaks(granularity, only_last)\n",
    "        # x_subset_week\n",
    "        raise Exception('TODO: Unsupported now')\n",
    "\n",
    "    return {\n",
    "        'anoms': all_anoms,\n",
    "        'expected': seasonal_plus_trend if e_value else None,\n",
    "        'plot': 'TODO' if plot else None\n",
    "    }\n",
    "\n",
    "\n",
    "def _detect_anoms(data, k=0.49, alpha=0.05, num_obs_per_period=None,\n",
    "                  use_decomp=True, use_esd=False, direction=\"pos\", verbose=False):\n",
    "    \"\"\"\n",
    "    Detects anomalies in a time series using S-H-ESD.\n",
    "    Args:\n",
    "         data: Time series to perform anomaly detection on.\n",
    "         k: Maximum number of anomalies that S-H-ESD will detect as a percentage of the data.\n",
    "         alpha: The level of statistical significance with which to accept or reject anomalies.\n",
    "         num_obs_per_period: Defines the number of observations in a single period, and used during seasonal decomposition.\n",
    "         use_decomp: Use seasonal decomposition during anomaly detection.\n",
    "         use_esd: Uses regular ESD instead of hybrid-ESD. Note hybrid-ESD is more statistically robust.\n",
    "         one_tail: If TRUE only positive or negative going anomalies are detected depending on if upper_tail is TRUE or FALSE.\n",
    "         upper_tail: If TRUE and one_tail is also TRUE, detect only positive going (right-tailed) anomalies. If FALSE and one_tail is TRUE, only detect negative (left-tailed) anomalies.\n",
    "         verbose: Additionally printing for debugging.\n",
    "    Returns:\n",
    "       A list containing the anomalies (anoms) and decomposition components (stl).\n",
    "    \"\"\"\n",
    "\n",
    "    # validation\n",
    "    assert num_obs_per_period, \"must supply period length for time series decomposition\"\n",
    "    assert direction in ['pos', 'neg',\n",
    "                         'both'], 'direction options: pos | neg | both'\n",
    "    assert data.size >= num_obs_per_period * \\\n",
    "        2, 'Anomaly detection needs at least 2 periods worth of data'\n",
    "    assert data[data.isnull(\n",
    "    )].empty, 'Data contains NA. We suggest replacing NA with interpolated values before detecting anomaly'\n",
    "\n",
    "    # conversion\n",
    "    one_tail = True if direction in ['pos', 'neg'] else False\n",
    "    upper_tail = True if direction in ['pos', 'both'] else False\n",
    "\n",
    "    # -- Step 1: Decompose data. This returns a univariate remainder which will be used for anomaly detection. Optionally, we might NOT decompose.\n",
    "    # Note: R use stl, but here we will use MA, the result may be different TODO.. Here need improvement\n",
    "    #decomposed = sm.tsa.seasonal_decompose(data, freq=num_obs_per_period, two_sided=False)\n",
    "    #smoothed = data - decomposed.resid.fillna(0)\n",
    "    #data = data - decomposed.seasonal - data.mean()\n",
    "\n",
    "    data, smoothed = _get_decomposed_data_tuple(data, num_obs_per_period)\n",
    "\n",
    "    max_outliers = _get_max_outliers(data, k)\n",
    "\n",
    "    R_idx = pd.Series()\n",
    "\n",
    "    n = data.size\n",
    "    # Compute test statistic until r=max_outliers values have been\n",
    "    # removed from the sample.\n",
    "    for i in range(1, max_outliers + 1):\n",
    "        if verbose:\n",
    "            logger.info(i, '/', max_outliers, ' completed')\n",
    "\n",
    "        if not data.mad():\n",
    "            break\n",
    "\n",
    "        if not one_tail:\n",
    "            ares = abs(data - data.median())\n",
    "        elif upper_tail:\n",
    "            ares = data - data.median()\n",
    "        else:\n",
    "            ares = data.median() - data\n",
    "\n",
    "        ares = ares / data.mad()\n",
    "\n",
    "        tmp_anom_index = ares[ares.values == ares.max()].index\n",
    "        cand = pd.Series(data.loc[tmp_anom_index], index=tmp_anom_index)\n",
    "\n",
    "        data.drop(tmp_anom_index, inplace=True)\n",
    "\n",
    "        # Compute critical value.\n",
    "        p = 1 - alpha / (n - i + 1) if one_tail else (1 -\n",
    "                                                      alpha / (2 * (n - i + 1)))\n",
    "        t = sp.stats.t.ppf(p, n - i - 1)\n",
    "        lam = t * (n - i) / np.sqrt((n - i - 1 + t ** 2) * (n - i + 1))\n",
    "        if ares.max() > lam:\n",
    "            R_idx = R_idx.append(cand)\n",
    "\n",
    "    return {\n",
    "        'anoms': R_idx,\n",
    "        'stl': smoothed\n",
    "    }"
   ]
  },
  {
   "cell_type": "code",
   "execution_count": 65,
   "metadata": {},
   "outputs": [
    {
     "ename": "AttributeError",
     "evalue": "'Series' object has no attribute 'mad'",
     "output_type": "error",
     "traceback": [
      "\u001b[0;31m---------------------------------------------------------------------------\u001b[0m",
      "\u001b[0;31mAttributeError\u001b[0m                            Traceback (most recent call last)",
      "\u001b[0;32m/var/folders/v_/tk7569mn3tg3vprcs753bknw0000gn/T/ipykernel_76299/2187762949.py\u001b[0m in \u001b[0;36m?\u001b[0;34m()\u001b[0m\n\u001b[0;32m----> 1\u001b[0;31m \u001b[0mfilled_df\u001b[0m\u001b[0;34m.\u001b[0m\u001b[0mgroupby\u001b[0m\u001b[0;34m(\u001b[0m\u001b[0mGROUP\u001b[0m\u001b[0;34m)\u001b[0m\u001b[0;34m[\u001b[0m\u001b[0;34m\"DUPLICATES\"\u001b[0m\u001b[0;34m]\u001b[0m\u001b[0;34m.\u001b[0m\u001b[0mapply\u001b[0m\u001b[0;34m(\u001b[0m\u001b[0manomaly_detect_ts\u001b[0m\u001b[0;34m)\u001b[0m\u001b[0;34m\u001b[0m\u001b[0;34m\u001b[0m\u001b[0m\n\u001b[0m",
      "\u001b[0;32m/opt/anaconda3/envs/bertopic/lib/python3.10/site-packages/pandas/core/groupby/generic.py\u001b[0m in \u001b[0;36m?\u001b[0;34m(self, func, *args, **kwargs)\u001b[0m\n\u001b[1;32m    212\u001b[0m             \u001b[0minput\u001b[0m\u001b[0;34m=\u001b[0m\u001b[0;34m\"series\"\u001b[0m\u001b[0;34m,\u001b[0m \u001b[0mexamples\u001b[0m\u001b[0;34m=\u001b[0m\u001b[0m_apply_docs\u001b[0m\u001b[0;34m[\u001b[0m\u001b[0;34m\"series_examples\"\u001b[0m\u001b[0;34m]\u001b[0m\u001b[0;34m\u001b[0m\u001b[0;34m\u001b[0m\u001b[0m\n\u001b[1;32m    213\u001b[0m         )\n\u001b[1;32m    214\u001b[0m     )\n\u001b[1;32m    215\u001b[0m     \u001b[0;32mdef\u001b[0m \u001b[0mapply\u001b[0m\u001b[0;34m(\u001b[0m\u001b[0mself\u001b[0m\u001b[0;34m,\u001b[0m \u001b[0mfunc\u001b[0m\u001b[0;34m,\u001b[0m \u001b[0;34m*\u001b[0m\u001b[0margs\u001b[0m\u001b[0;34m,\u001b[0m \u001b[0;34m**\u001b[0m\u001b[0mkwargs\u001b[0m\u001b[0;34m)\u001b[0m \u001b[0;34m->\u001b[0m \u001b[0mSeries\u001b[0m\u001b[0;34m:\u001b[0m\u001b[0;34m\u001b[0m\u001b[0;34m\u001b[0m\u001b[0m\n\u001b[0;32m--> 216\u001b[0;31m         \u001b[0;32mreturn\u001b[0m \u001b[0msuper\u001b[0m\u001b[0;34m(\u001b[0m\u001b[0;34m)\u001b[0m\u001b[0;34m.\u001b[0m\u001b[0mapply\u001b[0m\u001b[0;34m(\u001b[0m\u001b[0mfunc\u001b[0m\u001b[0;34m,\u001b[0m \u001b[0;34m*\u001b[0m\u001b[0margs\u001b[0m\u001b[0;34m,\u001b[0m \u001b[0;34m**\u001b[0m\u001b[0mkwargs\u001b[0m\u001b[0;34m)\u001b[0m\u001b[0;34m\u001b[0m\u001b[0;34m\u001b[0m\u001b[0m\n\u001b[0m",
      "\u001b[0;32m/opt/anaconda3/envs/bertopic/lib/python3.10/site-packages/pandas/core/groupby/groupby.py\u001b[0m in \u001b[0;36m?\u001b[0;34m(self, func, *args, **kwargs)\u001b[0m\n\u001b[1;32m   1350\u001b[0m         \u001b[0;31m# ignore SettingWithCopy here in case the user mutates\u001b[0m\u001b[0;34m\u001b[0m\u001b[0;34m\u001b[0m\u001b[0m\n\u001b[1;32m   1351\u001b[0m         \u001b[0;32mwith\u001b[0m \u001b[0moption_context\u001b[0m\u001b[0;34m(\u001b[0m\u001b[0;34m\"mode.chained_assignment\"\u001b[0m\u001b[0;34m,\u001b[0m \u001b[0;32mNone\u001b[0m\u001b[0;34m)\u001b[0m\u001b[0;34m:\u001b[0m\u001b[0;34m\u001b[0m\u001b[0;34m\u001b[0m\u001b[0m\n\u001b[1;32m   1352\u001b[0m             \u001b[0;32mtry\u001b[0m\u001b[0;34m:\u001b[0m\u001b[0;34m\u001b[0m\u001b[0;34m\u001b[0m\u001b[0m\n\u001b[1;32m   1353\u001b[0m                 \u001b[0mresult\u001b[0m \u001b[0;34m=\u001b[0m \u001b[0mself\u001b[0m\u001b[0;34m.\u001b[0m\u001b[0m_python_apply_general\u001b[0m\u001b[0;34m(\u001b[0m\u001b[0mf\u001b[0m\u001b[0;34m,\u001b[0m \u001b[0mself\u001b[0m\u001b[0;34m.\u001b[0m\u001b[0m_selected_obj\u001b[0m\u001b[0;34m)\u001b[0m\u001b[0;34m\u001b[0m\u001b[0;34m\u001b[0m\u001b[0m\n\u001b[0;32m-> 1354\u001b[0;31m             \u001b[0;32mexcept\u001b[0m \u001b[0mTypeError\u001b[0m\u001b[0;34m:\u001b[0m\u001b[0;34m\u001b[0m\u001b[0;34m\u001b[0m\u001b[0m\n\u001b[0m\u001b[1;32m   1355\u001b[0m                 \u001b[0;31m# gh-20949\u001b[0m\u001b[0;34m\u001b[0m\u001b[0;34m\u001b[0m\u001b[0m\n\u001b[1;32m   1356\u001b[0m                 \u001b[0;31m# try again, with .apply acting as a filtering\u001b[0m\u001b[0;34m\u001b[0m\u001b[0;34m\u001b[0m\u001b[0m\n\u001b[1;32m   1357\u001b[0m                 \u001b[0;31m# operation, by excluding the grouping column\u001b[0m\u001b[0;34m\u001b[0m\u001b[0;34m\u001b[0m\u001b[0m\n",
      "\u001b[0;32m/opt/anaconda3/envs/bertopic/lib/python3.10/site-packages/pandas/core/groupby/groupby.py\u001b[0m in \u001b[0;36m?\u001b[0;34m(self, f, data, not_indexed_same, is_transform, is_agg)\u001b[0m\n\u001b[1;32m   1398\u001b[0m         \u001b[0;34m-\u001b[0m\u001b[0;34m-\u001b[0m\u001b[0;34m-\u001b[0m\u001b[0;34m-\u001b[0m\u001b[0;34m-\u001b[0m\u001b[0;34m-\u001b[0m\u001b[0;34m-\u001b[0m\u001b[0;34m\u001b[0m\u001b[0;34m\u001b[0m\u001b[0m\n\u001b[1;32m   1399\u001b[0m         \u001b[0mSeries\u001b[0m \u001b[0;32mor\u001b[0m \u001b[0mDataFrame\u001b[0m\u001b[0;34m\u001b[0m\u001b[0;34m\u001b[0m\u001b[0m\n\u001b[1;32m   1400\u001b[0m             \u001b[0mdata\u001b[0m \u001b[0mafter\u001b[0m \u001b[0mapplying\u001b[0m \u001b[0mf\u001b[0m\u001b[0;34m\u001b[0m\u001b[0;34m\u001b[0m\u001b[0m\n\u001b[1;32m   1401\u001b[0m         \"\"\"\n\u001b[0;32m-> 1402\u001b[0;31m         \u001b[0mvalues\u001b[0m\u001b[0;34m,\u001b[0m \u001b[0mmutated\u001b[0m \u001b[0;34m=\u001b[0m \u001b[0mself\u001b[0m\u001b[0;34m.\u001b[0m\u001b[0mgrouper\u001b[0m\u001b[0;34m.\u001b[0m\u001b[0mapply\u001b[0m\u001b[0;34m(\u001b[0m\u001b[0mf\u001b[0m\u001b[0;34m,\u001b[0m \u001b[0mdata\u001b[0m\u001b[0;34m,\u001b[0m \u001b[0mself\u001b[0m\u001b[0;34m.\u001b[0m\u001b[0maxis\u001b[0m\u001b[0;34m)\u001b[0m\u001b[0;34m\u001b[0m\u001b[0;34m\u001b[0m\u001b[0m\n\u001b[0m\u001b[1;32m   1403\u001b[0m         \u001b[0;32mif\u001b[0m \u001b[0mnot_indexed_same\u001b[0m \u001b[0;32mis\u001b[0m \u001b[0;32mNone\u001b[0m\u001b[0;34m:\u001b[0m\u001b[0;34m\u001b[0m\u001b[0;34m\u001b[0m\u001b[0m\n\u001b[1;32m   1404\u001b[0m             \u001b[0mnot_indexed_same\u001b[0m \u001b[0;34m=\u001b[0m \u001b[0mmutated\u001b[0m\u001b[0;34m\u001b[0m\u001b[0;34m\u001b[0m\u001b[0m\n\u001b[1;32m   1405\u001b[0m \u001b[0;34m\u001b[0m\u001b[0m\n",
      "\u001b[0;32m/opt/anaconda3/envs/bertopic/lib/python3.10/site-packages/pandas/core/groupby/ops.py\u001b[0m in \u001b[0;36m?\u001b[0;34m(self, f, data, axis)\u001b[0m\n\u001b[1;32m    763\u001b[0m             \u001b[0mobject\u001b[0m\u001b[0;34m.\u001b[0m\u001b[0m__setattr__\u001b[0m\u001b[0;34m(\u001b[0m\u001b[0mgroup\u001b[0m\u001b[0;34m,\u001b[0m \u001b[0;34m\"name\"\u001b[0m\u001b[0;34m,\u001b[0m \u001b[0mkey\u001b[0m\u001b[0;34m)\u001b[0m\u001b[0;34m\u001b[0m\u001b[0;34m\u001b[0m\u001b[0m\n\u001b[1;32m    764\u001b[0m \u001b[0;34m\u001b[0m\u001b[0m\n\u001b[1;32m    765\u001b[0m             \u001b[0;31m# group might be modified\u001b[0m\u001b[0;34m\u001b[0m\u001b[0;34m\u001b[0m\u001b[0m\n\u001b[1;32m    766\u001b[0m             \u001b[0mgroup_axes\u001b[0m \u001b[0;34m=\u001b[0m \u001b[0mgroup\u001b[0m\u001b[0;34m.\u001b[0m\u001b[0maxes\u001b[0m\u001b[0;34m\u001b[0m\u001b[0;34m\u001b[0m\u001b[0m\n\u001b[0;32m--> 767\u001b[0;31m             \u001b[0mres\u001b[0m \u001b[0;34m=\u001b[0m \u001b[0mf\u001b[0m\u001b[0;34m(\u001b[0m\u001b[0mgroup\u001b[0m\u001b[0;34m)\u001b[0m\u001b[0;34m\u001b[0m\u001b[0;34m\u001b[0m\u001b[0m\n\u001b[0m\u001b[1;32m    768\u001b[0m             \u001b[0;32mif\u001b[0m \u001b[0;32mnot\u001b[0m \u001b[0mmutated\u001b[0m \u001b[0;32mand\u001b[0m \u001b[0;32mnot\u001b[0m \u001b[0m_is_indexed_like\u001b[0m\u001b[0;34m(\u001b[0m\u001b[0mres\u001b[0m\u001b[0;34m,\u001b[0m \u001b[0mgroup_axes\u001b[0m\u001b[0;34m,\u001b[0m \u001b[0maxis\u001b[0m\u001b[0;34m)\u001b[0m\u001b[0;34m:\u001b[0m\u001b[0;34m\u001b[0m\u001b[0;34m\u001b[0m\u001b[0m\n\u001b[1;32m    769\u001b[0m                 \u001b[0mmutated\u001b[0m \u001b[0;34m=\u001b[0m \u001b[0;32mTrue\u001b[0m\u001b[0;34m\u001b[0m\u001b[0;34m\u001b[0m\u001b[0m\n\u001b[1;32m    770\u001b[0m             \u001b[0mresult_values\u001b[0m\u001b[0;34m.\u001b[0m\u001b[0mappend\u001b[0m\u001b[0;34m(\u001b[0m\u001b[0mres\u001b[0m\u001b[0;34m)\u001b[0m\u001b[0;34m\u001b[0m\u001b[0;34m\u001b[0m\u001b[0m\n",
      "\u001b[0;32m/var/folders/v_/tk7569mn3tg3vprcs753bknw0000gn/T/ipykernel_76299/1389781380.py\u001b[0m in \u001b[0;36m?\u001b[0;34m(x, max_anoms, direction, alpha, only_last, threshold, e_value, longterm, piecewise_median_period_weeks, plot, y_log, xlabel, ylabel, title, verbose, dropna, resampling, period_override)\u001b[0m\n\u001b[1;32m    301\u001b[0m     \u001b[0mseasonal_plus_trend\u001b[0m \u001b[0;34m=\u001b[0m \u001b[0mpd\u001b[0m\u001b[0;34m.\u001b[0m\u001b[0mSeries\u001b[0m\u001b[0;34m(\u001b[0m\u001b[0;34m)\u001b[0m\u001b[0;34m\u001b[0m\u001b[0;34m\u001b[0m\u001b[0m\n\u001b[1;32m    302\u001b[0m \u001b[0;34m\u001b[0m\u001b[0m\n\u001b[1;32m    303\u001b[0m     \u001b[0;31m# Detect anomalies on all data (either entire data in one-pass, or in 2 week blocks if longterm=True)\u001b[0m\u001b[0;34m\u001b[0m\u001b[0;34m\u001b[0m\u001b[0m\n\u001b[1;32m    304\u001b[0m     \u001b[0;32mfor\u001b[0m \u001b[0mseries\u001b[0m \u001b[0;32min\u001b[0m \u001b[0mall_data\u001b[0m\u001b[0;34m:\u001b[0m\u001b[0;34m\u001b[0m\u001b[0;34m\u001b[0m\u001b[0m\n\u001b[0;32m--> 305\u001b[0;31m         shesd = _detect_anoms(series, k=max_anoms, alpha=alpha, num_obs_per_period=period, use_decomp=True,\n\u001b[0m\u001b[1;32m    306\u001b[0m                               use_esd=False, direction=direction, verbose=verbose)\n\u001b[1;32m    307\u001b[0m         \u001b[0mshesd_anoms\u001b[0m \u001b[0;34m=\u001b[0m \u001b[0mshesd\u001b[0m\u001b[0;34m[\u001b[0m\u001b[0;34m'anoms'\u001b[0m\u001b[0;34m]\u001b[0m\u001b[0;34m\u001b[0m\u001b[0;34m\u001b[0m\u001b[0m\n\u001b[1;32m    308\u001b[0m         \u001b[0mshesd_stl\u001b[0m \u001b[0;34m=\u001b[0m \u001b[0mshesd\u001b[0m\u001b[0;34m[\u001b[0m\u001b[0;34m'stl'\u001b[0m\u001b[0;34m]\u001b[0m\u001b[0;34m\u001b[0m\u001b[0;34m\u001b[0m\u001b[0m\n",
      "\u001b[0;32m/var/folders/v_/tk7569mn3tg3vprcs753bknw0000gn/T/ipykernel_76299/1389781380.py\u001b[0m in \u001b[0;36m?\u001b[0;34m(data, k, alpha, num_obs_per_period, use_decomp, use_esd, direction, verbose)\u001b[0m\n\u001b[1;32m    401\u001b[0m     \u001b[0;32mfor\u001b[0m \u001b[0mi\u001b[0m \u001b[0;32min\u001b[0m \u001b[0mrange\u001b[0m\u001b[0;34m(\u001b[0m\u001b[0;36m1\u001b[0m\u001b[0;34m,\u001b[0m \u001b[0mmax_outliers\u001b[0m \u001b[0;34m+\u001b[0m \u001b[0;36m1\u001b[0m\u001b[0;34m)\u001b[0m\u001b[0;34m:\u001b[0m\u001b[0;34m\u001b[0m\u001b[0;34m\u001b[0m\u001b[0m\n\u001b[1;32m    402\u001b[0m         \u001b[0;32mif\u001b[0m \u001b[0mverbose\u001b[0m\u001b[0;34m:\u001b[0m\u001b[0;34m\u001b[0m\u001b[0;34m\u001b[0m\u001b[0m\n\u001b[1;32m    403\u001b[0m             \u001b[0mlogger\u001b[0m\u001b[0;34m.\u001b[0m\u001b[0minfo\u001b[0m\u001b[0;34m(\u001b[0m\u001b[0mi\u001b[0m\u001b[0;34m,\u001b[0m \u001b[0;34m'/'\u001b[0m\u001b[0;34m,\u001b[0m \u001b[0mmax_outliers\u001b[0m\u001b[0;34m,\u001b[0m \u001b[0;34m' completed'\u001b[0m\u001b[0;34m)\u001b[0m\u001b[0;34m\u001b[0m\u001b[0;34m\u001b[0m\u001b[0m\n\u001b[1;32m    404\u001b[0m \u001b[0;34m\u001b[0m\u001b[0m\n\u001b[0;32m--> 405\u001b[0;31m         \u001b[0;32mif\u001b[0m \u001b[0;32mnot\u001b[0m \u001b[0mdata\u001b[0m\u001b[0;34m.\u001b[0m\u001b[0mmad\u001b[0m\u001b[0;34m(\u001b[0m\u001b[0;34m)\u001b[0m\u001b[0;34m:\u001b[0m\u001b[0;34m\u001b[0m\u001b[0;34m\u001b[0m\u001b[0m\n\u001b[0m\u001b[1;32m    406\u001b[0m             \u001b[0;32mbreak\u001b[0m\u001b[0;34m\u001b[0m\u001b[0;34m\u001b[0m\u001b[0m\n\u001b[1;32m    407\u001b[0m \u001b[0;34m\u001b[0m\u001b[0m\n\u001b[1;32m    408\u001b[0m         \u001b[0;32mif\u001b[0m \u001b[0;32mnot\u001b[0m \u001b[0mone_tail\u001b[0m\u001b[0;34m:\u001b[0m\u001b[0;34m\u001b[0m\u001b[0;34m\u001b[0m\u001b[0m\n",
      "\u001b[0;32m/opt/anaconda3/envs/bertopic/lib/python3.10/site-packages/pandas/core/generic.py\u001b[0m in \u001b[0;36m?\u001b[0;34m(self, name)\u001b[0m\n\u001b[1;32m   5985\u001b[0m             \u001b[0;32mand\u001b[0m \u001b[0mname\u001b[0m \u001b[0;32mnot\u001b[0m \u001b[0;32min\u001b[0m \u001b[0mself\u001b[0m\u001b[0;34m.\u001b[0m\u001b[0m_accessors\u001b[0m\u001b[0;34m\u001b[0m\u001b[0;34m\u001b[0m\u001b[0m\n\u001b[1;32m   5986\u001b[0m             \u001b[0;32mand\u001b[0m \u001b[0mself\u001b[0m\u001b[0;34m.\u001b[0m\u001b[0m_info_axis\u001b[0m\u001b[0;34m.\u001b[0m\u001b[0m_can_hold_identifiers_and_holds_name\u001b[0m\u001b[0;34m(\u001b[0m\u001b[0mname\u001b[0m\u001b[0;34m)\u001b[0m\u001b[0;34m\u001b[0m\u001b[0;34m\u001b[0m\u001b[0m\n\u001b[1;32m   5987\u001b[0m         ):\n\u001b[1;32m   5988\u001b[0m             \u001b[0;32mreturn\u001b[0m \u001b[0mself\u001b[0m\u001b[0;34m[\u001b[0m\u001b[0mname\u001b[0m\u001b[0;34m]\u001b[0m\u001b[0;34m\u001b[0m\u001b[0;34m\u001b[0m\u001b[0m\n\u001b[0;32m-> 5989\u001b[0;31m         \u001b[0;32mreturn\u001b[0m \u001b[0mobject\u001b[0m\u001b[0;34m.\u001b[0m\u001b[0m__getattribute__\u001b[0m\u001b[0;34m(\u001b[0m\u001b[0mself\u001b[0m\u001b[0;34m,\u001b[0m \u001b[0mname\u001b[0m\u001b[0;34m)\u001b[0m\u001b[0;34m\u001b[0m\u001b[0;34m\u001b[0m\u001b[0m\n\u001b[0m",
      "\u001b[0;31mAttributeError\u001b[0m: 'Series' object has no attribute 'mad'"
     ]
    }
   ],
   "source": [
    "filled_df.groupby(GROUP)[\"DUPLICATES\"].apply(anomaly_detect_ts)"
   ]
  }
 ],
 "metadata": {
  "kernelspec": {
   "display_name": "topicAI",
   "language": "python",
   "name": "python3"
  },
  "language_info": {
   "codemirror_mode": {
    "name": "ipython",
    "version": 3
   },
   "file_extension": ".py",
   "mimetype": "text/x-python",
   "name": "python",
   "nbconvert_exporter": "python",
   "pygments_lexer": "ipython3",
   "version": "3.10.11"
  },
  "orig_nbformat": 4,
  "vscode": {
   "interpreter": {
    "hash": "47cf3fe8b39e71073ace1d367424325adb6a623308305581edeee8cdeeb69c1d"
   }
  }
 },
 "nbformat": 4,
 "nbformat_minor": 2
}
