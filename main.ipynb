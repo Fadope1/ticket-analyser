{
 "cells": [
  {
   "attachments": {},
   "cell_type": "markdown",
   "metadata": {},
   "source": [
    "# Analyse Support Tickets\n",
    "author: Fabian Peschke<br>\n",
    "created_at: 03.05.2023"
   ]
  },
  {
   "cell_type": "code",
   "execution_count": 7,
   "metadata": {},
   "outputs": [],
   "source": [
    "from typing import List, Tuple, Dict"
   ]
  },
  {
   "cell_type": "code",
   "execution_count": 8,
   "metadata": {},
   "outputs": [],
   "source": [
    "DATA_PATH: str = \"./data/bitext_free_dataset.csv\"\n",
    "\n",
    "TEXT_COL: str = \"utterance\"\n",
    "DATE_COL: str = \"created_at\""
   ]
  },
  {
   "attachments": {},
   "cell_type": "markdown",
   "metadata": {},
   "source": [
    "## Step 1: Download the data\n",
    "https://www.bitext.com/blog/free-customer-support-dataset/"
   ]
  },
  {
   "attachments": {},
   "cell_type": "markdown",
   "metadata": {},
   "source": [
    "## Step 2: Data ingestion"
   ]
  },
  {
   "cell_type": "code",
   "execution_count": 9,
   "metadata": {},
   "outputs": [],
   "source": [
    "import pandas as pd\n",
    "from pandas import DataFrame"
   ]
  },
  {
   "cell_type": "code",
   "execution_count": 10,
   "metadata": {},
   "outputs": [],
   "source": [
    "raw_df: DataFrame = pd.read_csv(DATA_PATH)"
   ]
  },
  {
   "attachments": {},
   "cell_type": "markdown",
   "metadata": {},
   "source": [
    "Delete useless column"
   ]
  },
  {
   "cell_type": "code",
   "execution_count": 11,
   "metadata": {},
   "outputs": [],
   "source": [
    "del raw_df[\"flags\"]"
   ]
  },
  {
   "attachments": {},
   "cell_type": "markdown",
   "metadata": {},
   "source": [
    "shuffle dataset"
   ]
  },
  {
   "cell_type": "code",
   "execution_count": 12,
   "metadata": {},
   "outputs": [],
   "source": [
    "raw_df = raw_df.sample(frac=1).reset_index(drop=True)"
   ]
  },
  {
   "attachments": {},
   "cell_type": "markdown",
   "metadata": {},
   "source": [
    "## Step 2.1: Add random dates"
   ]
  },
  {
   "cell_type": "code",
   "execution_count": 13,
   "metadata": {},
   "outputs": [],
   "source": [
    "from datetime import datetime\n",
    "from datetime import timedelta\n",
    "import random"
   ]
  },
  {
   "cell_type": "code",
   "execution_count": 14,
   "metadata": {},
   "outputs": [],
   "source": [
    "def generate_random_date(start_date: datetime, end_date: datetime, step: timedelta) -> datetime:\n",
    "    \"\"\"Generate a random date between start_date and end_date\"\"\"\n",
    "    delta: timedelta = end_date - start_date\n",
    "    offset: timedelta = timedelta(days=random.randint(0, delta.days))\n",
    "    new_date: datetime = start_date + offset\n",
    "    for _ in range(random.randint(0, int(timedelta(hours=24) / step))):\n",
    "        new_date += step\n",
    "    return new_date"
   ]
  },
  {
   "cell_type": "code",
   "execution_count": 15,
   "metadata": {},
   "outputs": [],
   "source": [
    "start = datetime(year=2020, month=1, day=1)\n",
    "end = datetime(year=2020, month=3, day=31)\n",
    "step = timedelta(minutes=15) # every 15 minutes"
   ]
  },
  {
   "cell_type": "code",
   "execution_count": 16,
   "metadata": {},
   "outputs": [],
   "source": [
    "raw_df[DATE_COL] = raw_df[TEXT_COL].apply(lambda x: generate_random_date(start, end, step))"
   ]
  },
  {
   "attachments": {},
   "cell_type": "markdown",
   "metadata": {},
   "source": [
    "## Step 3: Preprocess data"
   ]
  },
  {
   "cell_type": "code",
   "execution_count": 17,
   "metadata": {},
   "outputs": [],
   "source": [
    "import nltk\n",
    "from nltk import word_tokenize, pos_tag\n",
    "from nltk.stem import WordNetLemmatizer\n",
    "from nltk.corpus import wordnet\n",
    "import contractions"
   ]
  },
  {
   "cell_type": "code",
   "execution_count": 18,
   "metadata": {},
   "outputs": [
    {
     "name": "stderr",
     "output_type": "stream",
     "text": [
      "[nltk_data] Downloading package wordnet to\n",
      "[nltk_data]     C:\\Users\\fadop\\AppData\\Roaming\\nltk_data...\n",
      "[nltk_data]   Package wordnet is already up-to-date!\n",
      "[nltk_data] Downloading package averaged_perceptron_tagger to\n",
      "[nltk_data]     C:\\Users\\fadop\\AppData\\Roaming\\nltk_data...\n",
      "[nltk_data]   Package averaged_perceptron_tagger is already up-to-\n",
      "[nltk_data]       date!\n"
     ]
    },
    {
     "data": {
      "text/plain": [
       "True"
      ]
     },
     "execution_count": 18,
     "metadata": {},
     "output_type": "execute_result"
    }
   ],
   "source": [
    "nltk.download(\"wordnet\")\n",
    "nltk.download(\"averaged_perceptron_tagger\")"
   ]
  },
  {
   "attachments": {},
   "cell_type": "markdown",
   "metadata": {},
   "source": [
    "Define usefull cleaning functions"
   ]
  },
  {
   "cell_type": "code",
   "execution_count": 19,
   "metadata": {},
   "outputs": [],
   "source": [
    "lemmatizer = WordNetLemmatizer()\n",
    "TAGS: Dict[str, str] = {\n",
    "    \"N\": wordnet.NOUN,\n",
    "    \"V\": wordnet.VERB,\n",
    "    \"J\": wordnet.ADJ,\n",
    "    \"R\": wordnet.ADV,\n",
    "}\n",
    "\n",
    "\n",
    "def unicode(sentence: str) -> str:\n",
    "    \"\"\"Apply casefold on str\"\"\"\n",
    "    return sentence.casefold()\n",
    "\n",
    "\n",
    "def tag_words(words: List[str]) -> List[Tuple[str, str]]:\n",
    "    \"\"\"Tag word type\"\"\"\n",
    "    tagged_words: List[Tuple[str, str]] = pos_tag(words)\n",
    "    return list(map(lambda word: (word[0], TAGS.get(word[1][0], wordnet.NOUN)), tagged_words))\n",
    "\n",
    "\n",
    "def lemmatize(words: List[str]) -> List[str]:\n",
    "    \"\"\"Lemmatize all words sentence\"\"\"\n",
    "    word_tags = tag_words(words)\n",
    "    return [lemmatizer.lemmatize(word, pos=tag) for word, tag in word_tags]"
   ]
  },
  {
   "cell_type": "code",
   "execution_count": 20,
   "metadata": {},
   "outputs": [],
   "source": [
    "decoded_df = lemmatized_df = const_fixed_df = raw_df\n",
    "decoded_df[TEXT_COL] = raw_df[TEXT_COL].apply(unicode) # casefold + lowercase\n",
    "const_fixed_df[TEXT_COL] = decoded_df[TEXT_COL].apply(contractions.fix) # casefold + lowercase\n",
    "lemmatized_df[TEXT_COL] = decoded_df[TEXT_COL].apply(lambda sentence: \" \".join(lemmatize(word_tokenize(sentence)))) # lemmatize"
   ]
  },
  {
   "cell_type": "code",
   "execution_count": 21,
   "metadata": {},
   "outputs": [],
   "source": [
    "cleaned_df = lemmatized_df"
   ]
  },
  {
   "cell_type": "code",
   "execution_count": 22,
   "metadata": {},
   "outputs": [],
   "source": [
    "cleaned_df.to_csv(\"preprocessed.csv\")"
   ]
  },
  {
   "attachments": {},
   "cell_type": "markdown",
   "metadata": {},
   "source": [
    "## Step 4: Find Topics in Data\n",
    "Find the topics using BERTopic and convert the topic names using OpenAI-GPT3"
   ]
  },
  {
   "cell_type": "code",
   "execution_count": 23,
   "metadata": {},
   "outputs": [],
   "source": [
    "from bertopic import BERTopic"
   ]
  },
  {
   "cell_type": "code",
   "execution_count": 24,
   "metadata": {},
   "outputs": [],
   "source": [
    "topic_model = BERTopic(\n",
    "    nr_topics=\"auto\",\n",
    "    verbose=True\n",
    ")"
   ]
  },
  {
   "cell_type": "code",
   "execution_count": 25,
   "metadata": {},
   "outputs": [
    {
     "name": "stderr",
     "output_type": "stream",
     "text": [
      "Batches: 100%|██████████| 673/673 [01:05<00:00, 10.34it/s]\n",
      "2023-05-15 22:10:35,343 - BERTopic - Transformed documents to Embeddings\n",
      "2023-05-15 22:11:10,267 - BERTopic - Reduced dimensionality\n",
      "2023-05-15 22:11:11,979 - BERTopic - Clustered reduced embeddings\n",
      "2023-05-15 22:11:22,520 - BERTopic - Reduced number of topics from 724 to 210\n"
     ]
    }
   ],
   "source": [
    "topics, probs = topic_model.fit_transform(cleaned_df[TEXT_COL])"
   ]
  },
  {
   "cell_type": "code",
   "execution_count": 26,
   "metadata": {},
   "outputs": [],
   "source": [
    "topic_model.save(\"ticket_topic.model\")"
   ]
  },
  {
   "attachments": {},
   "cell_type": "markdown",
   "metadata": {},
   "source": [
    "Visulize model perfomance"
   ]
  },
  {
   "cell_type": "code",
   "execution_count": 27,
   "metadata": {},
   "outputs": [
    {
     "data": {
      "application/vnd.plotly.v1+json": {
       "config": {
        "plotlyServerURL": "https://plot.ly"
       },
       "data": [
        {
         "marker": {
          "color": "#D55E00"
         },
         "orientation": "h",
         "type": "bar",
         "x": [
          0.015146558753235647,
          0.015590329435334432,
          0.015595060367475244,
          0.015622112759757792,
          0.01579783344922868
         ],
         "xaxis": "x",
         "y": [
          "pay  ",
          "but  ",
          "anyway  ",
          "charge  ",
          "when  "
         ],
         "yaxis": "y"
        },
        {
         "marker": {
          "color": "#0072B2"
         },
         "orientation": "h",
         "type": "bar",
         "x": [
          0.02343050098051724,
          0.025983065127866682,
          0.0352706111761536,
          0.03643345157546062,
          0.04095172941080314
         ],
         "xaxis": "x2",
         "y": [
          "see  ",
          "obtain  ",
          "bill  ",
          "invoice  ",
          "some  "
         ],
         "yaxis": "y2"
        },
        {
         "marker": {
          "color": "#CC79A7"
         },
         "orientation": "h",
         "type": "bar",
         "x": [
          0.036850476417347226,
          0.03810135682890947,
          0.04483471932368112,
          0.058619797005530994,
          0.0595863567370931
         ],
         "xaxis": "x3",
         "y": [
          "speak  ",
          "talk  ",
          "person  ",
          "human  ",
          "understand  "
         ],
         "yaxis": "y3"
        },
        {
         "marker": {
          "color": "#E69F00"
         },
         "orientation": "h",
         "type": "bar",
         "x": [
          0.037159549546538315,
          0.04026069130884112,
          0.04867795693413682,
          0.05875720020564157,
          0.06048164871225788
         ],
         "xaxis": "x4",
         "y": [
          "talk  ",
          "support  ",
          "customer  ",
          "question  ",
          "call  "
         ],
         "yaxis": "y4"
        },
        {
         "marker": {
          "color": "#56B4E9"
         },
         "orientation": "h",
         "type": "bar",
         "x": [
          0.058659691275114834,
          0.060513245035877655,
          0.06375821028668188,
          0.06531255894496739,
          0.08124839395864088
         ],
         "xaxis": "x5",
         "y": [
          "modify  ",
          "something  ",
          "buy  ",
          "product  ",
          "purchase  "
         ],
         "yaxis": "y5"
        },
        {
         "marker": {
          "color": "#009E73"
         },
         "orientation": "h",
         "type": "bar",
         "x": [
          0.05230215278615757,
          0.05828021801423258,
          0.058853246615982104,
          0.06816890613569367,
          0.10636772763360482
         ],
         "xaxis": "x6",
         "y": [
          "forget  ",
          "reset  ",
          "remember  ",
          "retrieve  ",
          "password  "
         ],
         "yaxis": "y6"
        },
        {
         "marker": {
          "color": "#F0E442"
         },
         "orientation": "h",
         "type": "bar",
         "x": [
          0.026712489805109412,
          0.027442229599346345,
          0.035286509795756184,
          0.040591341796014334,
          0.06871892744806808
         ],
         "xaxis": "x7",
         "y": [
          "client  ",
          "email  ",
          "customer  ",
          "address  ",
          "mail  "
         ],
         "yaxis": "y7"
        },
        {
         "marker": {
          "color": "#D55E00"
         },
         "orientation": "h",
         "type": "bar",
         "x": [
          0.019301745302226215,
          0.020534826040376375,
          0.02228106779792618,
          0.03444415767173742,
          0.11058508330312952
         ],
         "xaxis": "x8",
         "y": [
          "view  ",
          "reimbursement  ",
          "refund  ",
          "of  ",
          "status  "
         ],
         "yaxis": "y8"
        }
       ],
       "layout": {
        "annotations": [
         {
          "font": {
           "size": 16
          },
          "showarrow": false,
          "text": "Topic 0",
          "x": 0.0875,
          "xanchor": "center",
          "xref": "paper",
          "y": 1,
          "yanchor": "bottom",
          "yref": "paper"
         },
         {
          "font": {
           "size": 16
          },
          "showarrow": false,
          "text": "Topic 1",
          "x": 0.36250000000000004,
          "xanchor": "center",
          "xref": "paper",
          "y": 1,
          "yanchor": "bottom",
          "yref": "paper"
         },
         {
          "font": {
           "size": 16
          },
          "showarrow": false,
          "text": "Topic 2",
          "x": 0.6375000000000001,
          "xanchor": "center",
          "xref": "paper",
          "y": 1,
          "yanchor": "bottom",
          "yref": "paper"
         },
         {
          "font": {
           "size": 16
          },
          "showarrow": false,
          "text": "Topic 3",
          "x": 0.9125,
          "xanchor": "center",
          "xref": "paper",
          "y": 1,
          "yanchor": "bottom",
          "yref": "paper"
         },
         {
          "font": {
           "size": 16
          },
          "showarrow": false,
          "text": "Topic 4",
          "x": 0.0875,
          "xanchor": "center",
          "xref": "paper",
          "y": 0.4,
          "yanchor": "bottom",
          "yref": "paper"
         },
         {
          "font": {
           "size": 16
          },
          "showarrow": false,
          "text": "Topic 5",
          "x": 0.36250000000000004,
          "xanchor": "center",
          "xref": "paper",
          "y": 0.4,
          "yanchor": "bottom",
          "yref": "paper"
         },
         {
          "font": {
           "size": 16
          },
          "showarrow": false,
          "text": "Topic 6",
          "x": 0.6375000000000001,
          "xanchor": "center",
          "xref": "paper",
          "y": 0.4,
          "yanchor": "bottom",
          "yref": "paper"
         },
         {
          "font": {
           "size": 16
          },
          "showarrow": false,
          "text": "Topic 7",
          "x": 0.9125,
          "xanchor": "center",
          "xref": "paper",
          "y": 0.4,
          "yanchor": "bottom",
          "yref": "paper"
         }
        ],
        "height": 500,
        "hoverlabel": {
         "bgcolor": "white",
         "font": {
          "family": "Rockwell",
          "size": 16
         }
        },
        "showlegend": false,
        "template": {
         "data": {
          "bar": [
           {
            "error_x": {
             "color": "#2a3f5f"
            },
            "error_y": {
             "color": "#2a3f5f"
            },
            "marker": {
             "line": {
              "color": "white",
              "width": 0.5
             },
             "pattern": {
              "fillmode": "overlay",
              "size": 10,
              "solidity": 0.2
             }
            },
            "type": "bar"
           }
          ],
          "barpolar": [
           {
            "marker": {
             "line": {
              "color": "white",
              "width": 0.5
             },
             "pattern": {
              "fillmode": "overlay",
              "size": 10,
              "solidity": 0.2
             }
            },
            "type": "barpolar"
           }
          ],
          "carpet": [
           {
            "aaxis": {
             "endlinecolor": "#2a3f5f",
             "gridcolor": "#C8D4E3",
             "linecolor": "#C8D4E3",
             "minorgridcolor": "#C8D4E3",
             "startlinecolor": "#2a3f5f"
            },
            "baxis": {
             "endlinecolor": "#2a3f5f",
             "gridcolor": "#C8D4E3",
             "linecolor": "#C8D4E3",
             "minorgridcolor": "#C8D4E3",
             "startlinecolor": "#2a3f5f"
            },
            "type": "carpet"
           }
          ],
          "choropleth": [
           {
            "colorbar": {
             "outlinewidth": 0,
             "ticks": ""
            },
            "type": "choropleth"
           }
          ],
          "contour": [
           {
            "colorbar": {
             "outlinewidth": 0,
             "ticks": ""
            },
            "colorscale": [
             [
              0,
              "#0d0887"
             ],
             [
              0.1111111111111111,
              "#46039f"
             ],
             [
              0.2222222222222222,
              "#7201a8"
             ],
             [
              0.3333333333333333,
              "#9c179e"
             ],
             [
              0.4444444444444444,
              "#bd3786"
             ],
             [
              0.5555555555555556,
              "#d8576b"
             ],
             [
              0.6666666666666666,
              "#ed7953"
             ],
             [
              0.7777777777777778,
              "#fb9f3a"
             ],
             [
              0.8888888888888888,
              "#fdca26"
             ],
             [
              1,
              "#f0f921"
             ]
            ],
            "type": "contour"
           }
          ],
          "contourcarpet": [
           {
            "colorbar": {
             "outlinewidth": 0,
             "ticks": ""
            },
            "type": "contourcarpet"
           }
          ],
          "heatmap": [
           {
            "colorbar": {
             "outlinewidth": 0,
             "ticks": ""
            },
            "colorscale": [
             [
              0,
              "#0d0887"
             ],
             [
              0.1111111111111111,
              "#46039f"
             ],
             [
              0.2222222222222222,
              "#7201a8"
             ],
             [
              0.3333333333333333,
              "#9c179e"
             ],
             [
              0.4444444444444444,
              "#bd3786"
             ],
             [
              0.5555555555555556,
              "#d8576b"
             ],
             [
              0.6666666666666666,
              "#ed7953"
             ],
             [
              0.7777777777777778,
              "#fb9f3a"
             ],
             [
              0.8888888888888888,
              "#fdca26"
             ],
             [
              1,
              "#f0f921"
             ]
            ],
            "type": "heatmap"
           }
          ],
          "heatmapgl": [
           {
            "colorbar": {
             "outlinewidth": 0,
             "ticks": ""
            },
            "colorscale": [
             [
              0,
              "#0d0887"
             ],
             [
              0.1111111111111111,
              "#46039f"
             ],
             [
              0.2222222222222222,
              "#7201a8"
             ],
             [
              0.3333333333333333,
              "#9c179e"
             ],
             [
              0.4444444444444444,
              "#bd3786"
             ],
             [
              0.5555555555555556,
              "#d8576b"
             ],
             [
              0.6666666666666666,
              "#ed7953"
             ],
             [
              0.7777777777777778,
              "#fb9f3a"
             ],
             [
              0.8888888888888888,
              "#fdca26"
             ],
             [
              1,
              "#f0f921"
             ]
            ],
            "type": "heatmapgl"
           }
          ],
          "histogram": [
           {
            "marker": {
             "pattern": {
              "fillmode": "overlay",
              "size": 10,
              "solidity": 0.2
             }
            },
            "type": "histogram"
           }
          ],
          "histogram2d": [
           {
            "colorbar": {
             "outlinewidth": 0,
             "ticks": ""
            },
            "colorscale": [
             [
              0,
              "#0d0887"
             ],
             [
              0.1111111111111111,
              "#46039f"
             ],
             [
              0.2222222222222222,
              "#7201a8"
             ],
             [
              0.3333333333333333,
              "#9c179e"
             ],
             [
              0.4444444444444444,
              "#bd3786"
             ],
             [
              0.5555555555555556,
              "#d8576b"
             ],
             [
              0.6666666666666666,
              "#ed7953"
             ],
             [
              0.7777777777777778,
              "#fb9f3a"
             ],
             [
              0.8888888888888888,
              "#fdca26"
             ],
             [
              1,
              "#f0f921"
             ]
            ],
            "type": "histogram2d"
           }
          ],
          "histogram2dcontour": [
           {
            "colorbar": {
             "outlinewidth": 0,
             "ticks": ""
            },
            "colorscale": [
             [
              0,
              "#0d0887"
             ],
             [
              0.1111111111111111,
              "#46039f"
             ],
             [
              0.2222222222222222,
              "#7201a8"
             ],
             [
              0.3333333333333333,
              "#9c179e"
             ],
             [
              0.4444444444444444,
              "#bd3786"
             ],
             [
              0.5555555555555556,
              "#d8576b"
             ],
             [
              0.6666666666666666,
              "#ed7953"
             ],
             [
              0.7777777777777778,
              "#fb9f3a"
             ],
             [
              0.8888888888888888,
              "#fdca26"
             ],
             [
              1,
              "#f0f921"
             ]
            ],
            "type": "histogram2dcontour"
           }
          ],
          "mesh3d": [
           {
            "colorbar": {
             "outlinewidth": 0,
             "ticks": ""
            },
            "type": "mesh3d"
           }
          ],
          "parcoords": [
           {
            "line": {
             "colorbar": {
              "outlinewidth": 0,
              "ticks": ""
             }
            },
            "type": "parcoords"
           }
          ],
          "pie": [
           {
            "automargin": true,
            "type": "pie"
           }
          ],
          "scatter": [
           {
            "fillpattern": {
             "fillmode": "overlay",
             "size": 10,
             "solidity": 0.2
            },
            "type": "scatter"
           }
          ],
          "scatter3d": [
           {
            "line": {
             "colorbar": {
              "outlinewidth": 0,
              "ticks": ""
             }
            },
            "marker": {
             "colorbar": {
              "outlinewidth": 0,
              "ticks": ""
             }
            },
            "type": "scatter3d"
           }
          ],
          "scattercarpet": [
           {
            "marker": {
             "colorbar": {
              "outlinewidth": 0,
              "ticks": ""
             }
            },
            "type": "scattercarpet"
           }
          ],
          "scattergeo": [
           {
            "marker": {
             "colorbar": {
              "outlinewidth": 0,
              "ticks": ""
             }
            },
            "type": "scattergeo"
           }
          ],
          "scattergl": [
           {
            "marker": {
             "colorbar": {
              "outlinewidth": 0,
              "ticks": ""
             }
            },
            "type": "scattergl"
           }
          ],
          "scattermapbox": [
           {
            "marker": {
             "colorbar": {
              "outlinewidth": 0,
              "ticks": ""
             }
            },
            "type": "scattermapbox"
           }
          ],
          "scatterpolar": [
           {
            "marker": {
             "colorbar": {
              "outlinewidth": 0,
              "ticks": ""
             }
            },
            "type": "scatterpolar"
           }
          ],
          "scatterpolargl": [
           {
            "marker": {
             "colorbar": {
              "outlinewidth": 0,
              "ticks": ""
             }
            },
            "type": "scatterpolargl"
           }
          ],
          "scatterternary": [
           {
            "marker": {
             "colorbar": {
              "outlinewidth": 0,
              "ticks": ""
             }
            },
            "type": "scatterternary"
           }
          ],
          "surface": [
           {
            "colorbar": {
             "outlinewidth": 0,
             "ticks": ""
            },
            "colorscale": [
             [
              0,
              "#0d0887"
             ],
             [
              0.1111111111111111,
              "#46039f"
             ],
             [
              0.2222222222222222,
              "#7201a8"
             ],
             [
              0.3333333333333333,
              "#9c179e"
             ],
             [
              0.4444444444444444,
              "#bd3786"
             ],
             [
              0.5555555555555556,
              "#d8576b"
             ],
             [
              0.6666666666666666,
              "#ed7953"
             ],
             [
              0.7777777777777778,
              "#fb9f3a"
             ],
             [
              0.8888888888888888,
              "#fdca26"
             ],
             [
              1,
              "#f0f921"
             ]
            ],
            "type": "surface"
           }
          ],
          "table": [
           {
            "cells": {
             "fill": {
              "color": "#EBF0F8"
             },
             "line": {
              "color": "white"
             }
            },
            "header": {
             "fill": {
              "color": "#C8D4E3"
             },
             "line": {
              "color": "white"
             }
            },
            "type": "table"
           }
          ]
         },
         "layout": {
          "annotationdefaults": {
           "arrowcolor": "#2a3f5f",
           "arrowhead": 0,
           "arrowwidth": 1
          },
          "autotypenumbers": "strict",
          "coloraxis": {
           "colorbar": {
            "outlinewidth": 0,
            "ticks": ""
           }
          },
          "colorscale": {
           "diverging": [
            [
             0,
             "#8e0152"
            ],
            [
             0.1,
             "#c51b7d"
            ],
            [
             0.2,
             "#de77ae"
            ],
            [
             0.3,
             "#f1b6da"
            ],
            [
             0.4,
             "#fde0ef"
            ],
            [
             0.5,
             "#f7f7f7"
            ],
            [
             0.6,
             "#e6f5d0"
            ],
            [
             0.7,
             "#b8e186"
            ],
            [
             0.8,
             "#7fbc41"
            ],
            [
             0.9,
             "#4d9221"
            ],
            [
             1,
             "#276419"
            ]
           ],
           "sequential": [
            [
             0,
             "#0d0887"
            ],
            [
             0.1111111111111111,
             "#46039f"
            ],
            [
             0.2222222222222222,
             "#7201a8"
            ],
            [
             0.3333333333333333,
             "#9c179e"
            ],
            [
             0.4444444444444444,
             "#bd3786"
            ],
            [
             0.5555555555555556,
             "#d8576b"
            ],
            [
             0.6666666666666666,
             "#ed7953"
            ],
            [
             0.7777777777777778,
             "#fb9f3a"
            ],
            [
             0.8888888888888888,
             "#fdca26"
            ],
            [
             1,
             "#f0f921"
            ]
           ],
           "sequentialminus": [
            [
             0,
             "#0d0887"
            ],
            [
             0.1111111111111111,
             "#46039f"
            ],
            [
             0.2222222222222222,
             "#7201a8"
            ],
            [
             0.3333333333333333,
             "#9c179e"
            ],
            [
             0.4444444444444444,
             "#bd3786"
            ],
            [
             0.5555555555555556,
             "#d8576b"
            ],
            [
             0.6666666666666666,
             "#ed7953"
            ],
            [
             0.7777777777777778,
             "#fb9f3a"
            ],
            [
             0.8888888888888888,
             "#fdca26"
            ],
            [
             1,
             "#f0f921"
            ]
           ]
          },
          "colorway": [
           "#636efa",
           "#EF553B",
           "#00cc96",
           "#ab63fa",
           "#FFA15A",
           "#19d3f3",
           "#FF6692",
           "#B6E880",
           "#FF97FF",
           "#FECB52"
          ],
          "font": {
           "color": "#2a3f5f"
          },
          "geo": {
           "bgcolor": "white",
           "lakecolor": "white",
           "landcolor": "white",
           "showlakes": true,
           "showland": true,
           "subunitcolor": "#C8D4E3"
          },
          "hoverlabel": {
           "align": "left"
          },
          "hovermode": "closest",
          "mapbox": {
           "style": "light"
          },
          "paper_bgcolor": "white",
          "plot_bgcolor": "white",
          "polar": {
           "angularaxis": {
            "gridcolor": "#EBF0F8",
            "linecolor": "#EBF0F8",
            "ticks": ""
           },
           "bgcolor": "white",
           "radialaxis": {
            "gridcolor": "#EBF0F8",
            "linecolor": "#EBF0F8",
            "ticks": ""
           }
          },
          "scene": {
           "xaxis": {
            "backgroundcolor": "white",
            "gridcolor": "#DFE8F3",
            "gridwidth": 2,
            "linecolor": "#EBF0F8",
            "showbackground": true,
            "ticks": "",
            "zerolinecolor": "#EBF0F8"
           },
           "yaxis": {
            "backgroundcolor": "white",
            "gridcolor": "#DFE8F3",
            "gridwidth": 2,
            "linecolor": "#EBF0F8",
            "showbackground": true,
            "ticks": "",
            "zerolinecolor": "#EBF0F8"
           },
           "zaxis": {
            "backgroundcolor": "white",
            "gridcolor": "#DFE8F3",
            "gridwidth": 2,
            "linecolor": "#EBF0F8",
            "showbackground": true,
            "ticks": "",
            "zerolinecolor": "#EBF0F8"
           }
          },
          "shapedefaults": {
           "line": {
            "color": "#2a3f5f"
           }
          },
          "ternary": {
           "aaxis": {
            "gridcolor": "#DFE8F3",
            "linecolor": "#A2B1C6",
            "ticks": ""
           },
           "baxis": {
            "gridcolor": "#DFE8F3",
            "linecolor": "#A2B1C6",
            "ticks": ""
           },
           "bgcolor": "white",
           "caxis": {
            "gridcolor": "#DFE8F3",
            "linecolor": "#A2B1C6",
            "ticks": ""
           }
          },
          "title": {
           "x": 0.05
          },
          "xaxis": {
           "automargin": true,
           "gridcolor": "#EBF0F8",
           "linecolor": "#EBF0F8",
           "ticks": "",
           "title": {
            "standoff": 15
           },
           "zerolinecolor": "#EBF0F8",
           "zerolinewidth": 2
          },
          "yaxis": {
           "automargin": true,
           "gridcolor": "#EBF0F8",
           "linecolor": "#EBF0F8",
           "ticks": "",
           "title": {
            "standoff": 15
           },
           "zerolinecolor": "#EBF0F8",
           "zerolinewidth": 2
          }
         }
        },
        "title": {
         "font": {
          "color": "Black",
          "size": 22
         },
         "text": "Topic Word Scores",
         "x": 0.5,
         "xanchor": "center",
         "yanchor": "top"
        },
        "width": 1000,
        "xaxis": {
         "anchor": "y",
         "domain": [
          0,
          0.175
         ],
         "showgrid": true
        },
        "xaxis2": {
         "anchor": "y2",
         "domain": [
          0.275,
          0.45
         ],
         "showgrid": true
        },
        "xaxis3": {
         "anchor": "y3",
         "domain": [
          0.55,
          0.7250000000000001
         ],
         "showgrid": true
        },
        "xaxis4": {
         "anchor": "y4",
         "domain": [
          0.825,
          1
         ],
         "showgrid": true
        },
        "xaxis5": {
         "anchor": "y5",
         "domain": [
          0,
          0.175
         ],
         "showgrid": true
        },
        "xaxis6": {
         "anchor": "y6",
         "domain": [
          0.275,
          0.45
         ],
         "showgrid": true
        },
        "xaxis7": {
         "anchor": "y7",
         "domain": [
          0.55,
          0.7250000000000001
         ],
         "showgrid": true
        },
        "xaxis8": {
         "anchor": "y8",
         "domain": [
          0.825,
          1
         ],
         "showgrid": true
        },
        "yaxis": {
         "anchor": "x",
         "domain": [
          0.6000000000000001,
          1
         ],
         "showgrid": true
        },
        "yaxis2": {
         "anchor": "x2",
         "domain": [
          0.6000000000000001,
          1
         ],
         "showgrid": true
        },
        "yaxis3": {
         "anchor": "x3",
         "domain": [
          0.6000000000000001,
          1
         ],
         "showgrid": true
        },
        "yaxis4": {
         "anchor": "x4",
         "domain": [
          0.6000000000000001,
          1
         ],
         "showgrid": true
        },
        "yaxis5": {
         "anchor": "x5",
         "domain": [
          0,
          0.4
         ],
         "showgrid": true
        },
        "yaxis6": {
         "anchor": "x6",
         "domain": [
          0,
          0.4
         ],
         "showgrid": true
        },
        "yaxis7": {
         "anchor": "x7",
         "domain": [
          0,
          0.4
         ],
         "showgrid": true
        },
        "yaxis8": {
         "anchor": "x8",
         "domain": [
          0,
          0.4
         ],
         "showgrid": true
        }
       }
      }
     },
     "metadata": {},
     "output_type": "display_data"
    }
   ],
   "source": [
    "topic_model.visualize_barchart()"
   ]
  },
  {
   "cell_type": "code",
   "execution_count": 28,
   "metadata": {},
   "outputs": [
    {
     "data": {
      "application/vnd.plotly.v1+json": {
       "config": {
        "plotlyServerURL": "https://plot.ly"
       },
       "data": [
        {
         "hovertext": "<b>Topic -1</b>:and_fuck_purchase_item_order_want_",
         "line": {
          "color": "black",
          "width": 1.5
         },
         "mode": "lines+lines",
         "name": "",
         "opacity": 0.1,
         "type": "scatter",
         "x": [
          1,
          2,
          3,
          4,
          5,
          6,
          7,
          8,
          9,
          10
         ],
         "y": [
          0.00763181384506412,
          0.006624032651232298,
          0.005922247081109984,
          0.0056823019427224035,
          0.005677963782695225,
          0.005663242442241894,
          0.005639022300664464,
          0.005052046741816813,
          0.005003305828466872,
          0.004993757110648712
         ]
        },
        {
         "hovertext": "<b>Topic 0</b>:when_charge_anyway_but_pay_report_t",
         "line": {
          "color": "black",
          "width": 1.5
         },
         "mode": "lines+lines",
         "name": "",
         "opacity": 0.1,
         "type": "scatter",
         "x": [
          1,
          2,
          3,
          4,
          5,
          6,
          7,
          8,
          9,
          10
         ],
         "y": [
          0.01579783344922868,
          0.015622112759757792,
          0.015595060367475244,
          0.015590329435334432,
          0.015146558753235647,
          0.01508003422893466,
          0.014857018836165263,
          0.014785602235590901,
          0.014454264640760772,
          0.013618463794576449
         ]
        },
        {
         "hovertext": "<b>Topic 1</b>:some_invoice_bill_obtain_see_reques",
         "line": {
          "color": "black",
          "width": 1.5
         },
         "mode": "lines+lines",
         "name": "",
         "opacity": 0.1,
         "type": "scatter",
         "x": [
          1,
          2,
          3,
          4,
          5,
          6,
          7,
          8,
          9,
          10
         ],
         "y": [
          0.04095172941080314,
          0.03643345157546062,
          0.0352706111761536,
          0.025983065127866682,
          0.02343050098051724,
          0.023091495124612147,
          0.017278430199597024,
          0.014015222600115406,
          0.011828260743405386,
          0.009924799408905586
         ]
        },
        {
         "hovertext": "<b>Topic 2</b>:understand_human_person_talk_speak_",
         "line": {
          "color": "black",
          "width": 1.5
         },
         "mode": "lines+lines",
         "name": "",
         "opacity": 0.1,
         "type": "scatter",
         "x": [
          1,
          2,
          3,
          4,
          5,
          6,
          7,
          8,
          9,
          10
         ],
         "y": [
          0.0595863567370931,
          0.058619797005530994,
          0.04483471932368112,
          0.03810135682890947,
          0.036850476417347226,
          0.03439265334134382,
          0.03332269939373694,
          0.026162816401308225,
          0.018039362322738586,
          0.0175991090798767
         ]
        },
        {
         "hovertext": "<b>Topic 3</b>:call_question_customer_support_talk",
         "line": {
          "color": "black",
          "width": 1.5
         },
         "mode": "lines+lines",
         "name": "",
         "opacity": 0.1,
         "type": "scatter",
         "x": [
          1,
          2,
          3,
          4,
          5,
          6,
          7,
          8,
          9,
          10
         ],
         "y": [
          0.06048164871225788,
          0.05875720020564157,
          0.04867795693413682,
          0.04026069130884112,
          0.037159549546538315,
          0.03639517598266713,
          0.03589944764069517,
          0.03578030386145924,
          0.029817886471052706,
          0.02019562486354699
         ]
        },
        {
         "hovertext": "<b>Topic 4</b>:purchase_product_buy_something_modi",
         "line": {
          "color": "black",
          "width": 1.5
         },
         "mode": "lines+lines",
         "name": "",
         "opacity": 0.1,
         "type": "scatter",
         "x": [
          1,
          2,
          3,
          4,
          5,
          6,
          7,
          8,
          9,
          10
         ],
         "y": [
          0.08124839395864088,
          0.06531255894496739,
          0.06375821028668188,
          0.060513245035877655,
          0.058659691275114834,
          0.056218660524947575,
          0.04363068883624653,
          0.036783744877515206,
          0.013949717677141295,
          0.008296610485279491
         ]
        },
        {
         "hovertext": "<b>Topic 5</b>:password_retrieve_remember_reset_fo",
         "line": {
          "color": "black",
          "width": 1.5
         },
         "mode": "lines+lines",
         "name": "",
         "opacity": 0.1,
         "type": "scatter",
         "x": [
          1,
          2,
          3,
          4,
          5,
          6,
          7,
          8,
          9,
          10
         ],
         "y": [
          0.10636772763360482,
          0.06816890613569367,
          0.058853246615982104,
          0.05828021801423258,
          0.05230215278615757,
          0.0494767841675991,
          0.036176914614693995,
          0.01599576162083596,
          0.015346353282520713,
          0.013874483300430692
         ]
        },
        {
         "hovertext": "<b>Topic 6</b>:mail_address_customer_email_client_",
         "line": {
          "color": "black",
          "width": 1.5
         },
         "mode": "lines+lines",
         "name": "",
         "opacity": 0.1,
         "type": "scatter",
         "x": [
          1,
          2,
          3,
          4,
          5,
          6,
          7,
          8,
          9,
          10
         ],
         "y": [
          0.06871892744806808,
          0.040591341796014334,
          0.035286509795756184,
          0.027442229599346345,
          0.026712489805109412,
          0.026544946624781594,
          0.025249965377471123,
          0.024766171695834224,
          0.02432224087868368,
          0.022917738365870403
         ]
        },
        {
         "hovertext": "<b>Topic 7</b>:status_of_refund_reimbursement_view",
         "line": {
          "color": "black",
          "width": 1.5
         },
         "mode": "lines+lines",
         "name": "",
         "opacity": 0.1,
         "type": "scatter",
         "x": [
          1,
          2,
          3,
          4,
          5,
          6,
          7,
          8,
          9,
          10
         ],
         "y": [
          0.11058508330312952,
          0.03444415767173742,
          0.02228106779792618,
          0.020534826040376375,
          0.019301745302226215,
          0.01896807928005934,
          0.01779020279849662,
          0.014446063511191331,
          0.011789514683401689,
          0.011280716214914605
         ]
        },
        {
         "hovertext": "<b>Topic 8</b>:open_one_no_account_user_online_hav",
         "line": {
          "color": "black",
          "width": 1.5
         },
         "mode": "lines+lines",
         "name": "",
         "opacity": 0.1,
         "type": "scatter",
         "x": [
          1,
          2,
          3,
          4,
          5,
          6,
          7,
          8,
          9,
          10
         ],
         "y": [
          0.12847525320568545,
          0.050730666982409064,
          0.03392778252068135,
          0.03041290675697324,
          0.02821603537708664,
          0.0243629851558351,
          0.01430669729175453,
          0.010936294979632251,
          0.009464358540918125,
          0.008560886680252741
         ]
        },
        {
         "hovertext": "<b>Topic 9</b>:reimbursement_refund_obtain_request",
         "line": {
          "color": "black",
          "width": 1.5
         },
         "mode": "lines+lines",
         "name": "",
         "opacity": 0.1,
         "type": "scatter",
         "x": [
          1,
          2,
          3,
          4,
          5,
          6,
          7,
          8,
          9,
          10
         ],
         "y": [
          0.06652021048907834,
          0.04417210856854774,
          0.03669028447829449,
          0.03561459814491037,
          0.026220510992347377,
          0.02364245731924508,
          0.013165336426731568,
          0.01309313945773358,
          0.01246188075213435,
          0.012323372516919973
         ]
        },
        {
         "hovertext": "<b>Topic 10</b>:create_one_no_account_user_online_",
         "line": {
          "color": "black",
          "width": 1.5
         },
         "mode": "lines+lines",
         "name": "",
         "opacity": 0.1,
         "type": "scatter",
         "x": [
          1,
          2,
          3,
          4,
          5,
          6,
          7,
          8,
          9,
          10
         ],
         "y": [
          0.08394834338479226,
          0.05745777998427977,
          0.03582155406993145,
          0.025580294051856377,
          0.025150309199294528,
          0.021113332927327057,
          0.01806941870666266,
          0.012466798019768324,
          0.012155254601315722,
          0.011833807646286838
         ]
        },
        {
         "hovertext": "<b>Topic 11</b>:number_free_phone_contact_customer",
         "line": {
          "color": "black",
          "width": 1.5
         },
         "mode": "lines+lines",
         "name": "",
         "opacity": 0.1,
         "type": "scatter",
         "x": [
          1,
          2,
          3,
          4,
          5,
          6,
          7,
          8,
          9,
          10
         ],
         "y": [
          0.11590368655269093,
          0.08727413673714358,
          0.08395416902959048,
          0.03446818035858744,
          0.033244817406287194,
          0.027446503790024987,
          0.025841848756693653,
          0.02226154276829865,
          0.020045009560031277,
          0.019684392635604776
         ]
        },
        {
         "hovertext": "<b>Topic 12</b>:money_policy_back_guarantee_your_t",
         "line": {
          "color": "black",
          "width": 1.5
         },
         "mode": "lines+lines",
         "name": "",
         "opacity": 0.1,
         "type": "scatter",
         "x": [
          1,
          2,
          3,
          4,
          5,
          6,
          7,
          8,
          9,
          10
         ],
         "y": [
          0.10821836802034786,
          0.08592146030271704,
          0.08280799352006686,
          0.07630593766959835,
          0.07155683235483272,
          0.055121801827917025,
          0.03610448064452094,
          0.03181875560316194,
          0.03082196025168663,
          0.02937701760188338
         ]
        },
        {
         "hovertext": "<b>Topic 13</b>:hack_back_recover_be_account_profi",
         "line": {
          "color": "black",
          "width": 1.5
         },
         "mode": "lines+lines",
         "name": "",
         "opacity": 0.1,
         "type": "scatter",
         "x": [
          1,
          2,
          3,
          4,
          5,
          6,
          7,
          8,
          9,
          10
         ],
         "y": [
          0.13988173214858735,
          0.0583880053299162,
          0.053488785617245405,
          0.02366566968313597,
          0.020181083878235462,
          0.020146565567860434,
          0.019516705541024124,
          0.01895625100266531,
          0.01588644058251303,
          0.012574594281670974
         ]
        },
        {
         "hovertext": "<b>Topic 14</b>:remove_delete_account_profile_user",
         "line": {
          "color": "black",
          "width": 1.5
         },
         "mode": "lines+lines",
         "name": "",
         "opacity": 0.1,
         "type": "scatter",
         "x": [
          1,
          2,
          3,
          4,
          5,
          6,
          7,
          8,
          9,
          10
         ],
         "y": [
          0.09987884599838415,
          0.09018431931837852,
          0.023111790341168382,
          0.02188759667802712,
          0.02068861592891121,
          0.015393124361209919,
          0.014988331178568924,
          0.01408208379545819,
          0.011538488468852538,
          0.010728725620784068
         ]
        },
        {
         "hovertext": "<b>Topic 15</b>:solve_problem_issue_payment_ask_pa",
         "line": {
          "color": "black",
          "width": 1.5
         },
         "mode": "lines+lines",
         "name": "",
         "opacity": 0.1,
         "type": "scatter",
         "x": [
          1,
          2,
          3,
          4,
          5,
          6,
          7,
          8,
          9,
          10
         ],
         "y": [
          0.15935243373662217,
          0.02885896643982013,
          0.027928032038535614,
          0.02721124369972039,
          0.012584478688779524,
          0.012216978780841773,
          0.011731810867257417,
          0.011252736114718843,
          0.00951705600612363,
          0.009218041143498014
         ]
        },
        {
         "hovertext": "<b>Topic 16</b>:download_some_bill_invoice_about_t",
         "line": {
          "color": "black",
          "width": 1.5
         },
         "mode": "lines+lines",
         "name": "",
         "opacity": 0.1,
         "type": "scatter",
         "x": [
          1,
          2,
          3,
          4,
          5,
          6,
          7,
          8,
          9,
          10
         ],
         "y": [
          0.18006242132257066,
          0.04961139278244369,
          0.03570481074416357,
          0.03393046452792725,
          0.018668124913274117,
          0.017035266720378847,
          0.014640978012674237,
          0.012390252196196078,
          0.010923261173275562,
          0.009403529196418788
         ]
        },
        {
         "hovertext": "<b>Topic 17</b>:cancel_show_account_refund_profile",
         "line": {
          "color": "black",
          "width": 1.5
         },
         "mode": "lines+lines",
         "name": "",
         "opacity": 0.1,
         "type": "scatter",
         "x": [
          1,
          2,
          3,
          4,
          5,
          6,
          7,
          8,
          9,
          10
         ],
         "y": [
          0.11294006352209453,
          0.021327562733106827,
          0.016452077711338234,
          0.01433384923049374,
          0.013894468017760253,
          0.01291049205563786,
          0.012151896062617127,
          0.010084254398212601,
          0.010052667029946876,
          0.008392333601415404
         ]
        },
        {
         "hovertext": "<b>Topic 18</b>:register_no_registering_registrati",
         "line": {
          "color": "black",
          "width": 1.5
         },
         "mode": "lines+lines",
         "name": "",
         "opacity": 0.1,
         "type": "scatter",
         "x": [
          1,
          2,
          3,
          4,
          5,
          6,
          7,
          8,
          9,
          10
         ],
         "y": [
          0.1039877894994152,
          0.05933127369400935,
          0.05422775535469157,
          0.03521459815890448,
          0.029507872378113944,
          0.0286981584593831,
          0.027097211785852345,
          0.02036518840817867,
          0.018602494850814177,
          0.015367283691833895
         ]
        },
        {
         "hovertext": "<b>Topic 19</b>:pop_error_attempt_message_when_try",
         "line": {
          "color": "black",
          "width": 1.5
         },
         "mode": "lines+lines",
         "name": "",
         "opacity": 0.1,
         "type": "scatter",
         "x": [
          1,
          2,
          3,
          4,
          5,
          6,
          7,
          8,
          9,
          10
         ],
         "y": [
          0.13117507530269862,
          0.04259127257810301,
          0.034682472305252066,
          0.033205210543654134,
          0.029953814479911,
          0.021366564269210346,
          0.020032256309169386,
          0.01698394905389549,
          0.015290625155074797,
          0.014743448508865668
         ]
        },
        {
         "hovertext": "<b>Topic 20</b>:find_them_not_view_bill_invoice_ch",
         "line": {
          "color": "black",
          "width": 1.5
         },
         "mode": "lines+lines",
         "name": "",
         "opacity": 0.1,
         "type": "scatter",
         "x": [
          1,
          2,
          3,
          4,
          5,
          6,
          7,
          8,
          9,
          10
         ],
         "y": [
          0.1433520836213135,
          0.05970206565355519,
          0.03501589215115802,
          0.030992959334709316,
          0.03042095763271392,
          0.029976781056056116,
          0.01836756694131574,
          0.016840477931145355,
          0.012518948284598793,
          0.011930509335863019
         ]
        },
        {
         "hovertext": "<b>Topic 21</b>:same_more_than_several_email_regis",
         "line": {
          "color": "black",
          "width": 1.5
         },
         "mode": "lines+lines",
         "name": "",
         "opacity": 0.1,
         "type": "scatter",
         "x": [
          1,
          2,
          3,
          4,
          5,
          6,
          7,
          8,
          9,
          10
         ],
         "y": [
          0.09569671901931782,
          0.056197956004423164,
          0.055536686611743546,
          0.05377068946082399,
          0.043413162817589404,
          0.037737195600450274,
          0.027028152525782684,
          0.026778517452151172,
          0.026115601296457517,
          0.022443537881934476
         ]
        },
        {
         "hovertext": "<b>Topic 22</b>:send_email_question_client_custome",
         "line": {
          "color": "black",
          "width": 1.5
         },
         "mode": "lines+lines",
         "name": "",
         "opacity": 0.1,
         "type": "scatter",
         "x": [
          1,
          2,
          3,
          4,
          5,
          6,
          7,
          8,
          9,
          10
         ],
         "y": [
          0.15114975074179463,
          0.05483903238128421,
          0.03639291812868624,
          0.03244988352445416,
          0.032225385305294355,
          0.024919794818225812,
          0.02322079541301102,
          0.022735802315255568,
          0.015114170571681214,
          0.014031347566312767
         ]
        },
        {
         "hovertext": "<b>Topic 23</b>:single_several_more_than_email_reg",
         "line": {
          "color": "black",
          "width": 1.5
         },
         "mode": "lines+lines",
         "name": "",
         "opacity": 0.1,
         "type": "scatter",
         "x": [
          1,
          2,
          3,
          4,
          5,
          6,
          7,
          8,
          9,
          10
         ],
         "y": [
          0.10551014864962976,
          0.06038382320058945,
          0.058703800083315695,
          0.05859317540602076,
          0.047260026235895876,
          0.04239112532272612,
          0.030378802470770242,
          0.029723367513921004,
          0.027157862767822744,
          0.02431525397331159
         ]
        },
        {
         "hovertext": "<b>Topic 24</b>:receive_them_not_invoice_bill_view",
         "line": {
          "color": "black",
          "width": 1.5
         },
         "mode": "lines+lines",
         "name": "",
         "opacity": 0.1,
         "type": "scatter",
         "x": [
          1,
          2,
          3,
          4,
          5,
          6,
          7,
          8,
          9,
          10
         ],
         "y": [
          0.1369231884010267,
          0.06272934552100401,
          0.03465394385416917,
          0.03415664960206503,
          0.026980910578056776,
          0.024705470444737452,
          0.022994459152783076,
          0.018070875370621117,
          0.01678636924280473,
          0.012698434028735116
         ]
        },
        {
         "hovertext": "<b>Topic 25</b>:lose_them_bill_invoice_view_check_",
         "line": {
          "color": "black",
          "width": 1.5
         },
         "mode": "lines+lines",
         "name": "",
         "opacity": 0.1,
         "type": "scatter",
         "x": [
          1,
          2,
          3,
          4,
          5,
          6,
          7,
          8,
          9,
          10
         ],
         "y": [
          0.18688742828772656,
          0.07841944159268512,
          0.0391428484498768,
          0.03687386030646653,
          0.03601960360010916,
          0.02407415468775318,
          0.02107730007449905,
          0.015623063163464193,
          0.014024923137747412,
          0.012286898240281872
         ]
        },
        {
         "hovertext": "<b>Topic 26</b>:ticket_option_delivery_for_view_th",
         "line": {
          "color": "black",
          "width": 1.5
         },
         "mode": "lines+lines",
         "name": "",
         "opacity": 0.1,
         "type": "scatter",
         "x": [
          1,
          2,
          3,
          4,
          5,
          6,
          7,
          8,
          9,
          10
         ],
         "y": [
          0.15300332953951457,
          0.12325962926355949,
          0.10060907437620943,
          0.026887476170394015,
          0.02340284684457642,
          0.021907738549472835,
          0.019776718902421973,
          0.017498469742862878,
          0.009226931581066378,
          0.007776340864051136
         ]
        },
        {
         "hovertext": "<b>Topic 27</b>:game_postpone_cancel_reimbursement",
         "line": {
          "color": "black",
          "width": 1.5
         },
         "mode": "lines+lines",
         "name": "",
         "opacity": 0.1,
         "type": "scatter",
         "x": [
          1,
          2,
          3,
          4,
          5,
          6,
          7,
          8,
          9,
          10
         ],
         "y": [
          0.20149957322005552,
          0.08089782956645633,
          0.05091690663154445,
          0.04477983761264939,
          0.039066614363188965,
          0.03633331823763744,
          0.02929045381114471,
          0.02635979660783523,
          0.02318849864928817,
          0.012767173720860659
         ]
        },
        {
         "hovertext": "<b>Topic 28</b>:complaint_lodge_file_for_process_s",
         "line": {
          "color": "black",
          "width": 1.5
         },
         "mode": "lines+lines",
         "name": "",
         "opacity": 0.1,
         "type": "scatter",
         "x": [
          1,
          2,
          3,
          4,
          5,
          6,
          7,
          8,
          9,
          10
         ],
         "y": [
          0.10895310067052574,
          0.06241914113391015,
          0.059681690233117424,
          0.03514668119276663,
          0.024903387494547714,
          0.023451244256479844,
          0.016332849354163067,
          0.013787935635832709,
          0.011341651107562115,
          0.009272092294555655
         ]
        },
        {
         "hovertext": "<b>Topic 29</b>:mind_change_delete_remove_cancel_m",
         "line": {
          "color": "black",
          "width": 1.5
         },
         "mode": "lines+lines",
         "name": "",
         "opacity": 0.1,
         "type": "scatter",
         "x": [
          1,
          2,
          3,
          4,
          5,
          6,
          7,
          8,
          9,
          10
         ],
         "y": [
          0.1618879258331903,
          0.07677338230638235,
          0.06615545536374669,
          0.06151963502614796,
          0.02823757363175839,
          0.02598790487275822,
          0.023007927149483277,
          0.01875508155889053,
          0.01752033874795781,
          0.014459907407792572
         ]
        },
        {
         "hovertext": "<b>Topic 30</b>:fee_cancellation_view_the_see_chec",
         "line": {
          "color": "black",
          "width": 1.5
         },
         "mode": "lines+lines",
         "name": "",
         "opacity": 0.1,
         "type": "scatter",
         "x": [
          1,
          2,
          3,
          4,
          5,
          6,
          7,
          8,
          9,
          10
         ],
         "y": [
          0.2401773035448138,
          0.16163309703863596,
          0.027002469627161078,
          0.02228537835963884,
          0.020691545714645012,
          0.019558801848855664,
          0.016573495096666793,
          0.01244353805539902,
          0.009613317988917555,
          0.009329888777197507
         ]
        },
        {
         "hovertext": "<b>Topic 31</b>:event_postpone_cancel_refund_reimb",
         "line": {
          "color": "black",
          "width": 1.5
         },
         "mode": "lines+lines",
         "name": "",
         "opacity": 0.1,
         "type": "scatter",
         "x": [
          1,
          2,
          3,
          4,
          5,
          6,
          7,
          8,
          9,
          10
         ],
         "y": [
          0.20666097178682438,
          0.06418654082972357,
          0.05908333302966715,
          0.04195017151781596,
          0.040369114755757954,
          0.0347581334820462,
          0.03203869350580061,
          0.025499303698379428,
          0.022829891246565336,
          0.013781704127088224
         ]
        },
        {
         "hovertext": "<b>Topic 32</b>:option_delivery_for_the_view_check",
         "line": {
          "color": "black",
          "width": 1.5
         },
         "mode": "lines+lines",
         "name": "",
         "opacity": 0.1,
         "type": "scatter",
         "x": [
          1,
          2,
          3,
          4,
          5,
          6,
          7,
          8,
          9,
          10
         ],
         "y": [
          0.13379345090835906,
          0.1138441686558149,
          0.030952537362462226,
          0.024506384340265596,
          0.02330512437395112,
          0.022897968981700743,
          0.017046588892145696,
          0.013848549971661375,
          0.009466190174646515,
          0.009384588428663205
         ]
        },
        {
         "hovertext": "<b>Topic 33</b>:close_closing_account_profile_user",
         "line": {
          "color": "black",
          "width": 1.5
         },
         "mode": "lines+lines",
         "name": "",
         "opacity": 0.1,
         "type": "scatter",
         "x": [
          1,
          2,
          3,
          4,
          5,
          6,
          7,
          8,
          9,
          10
         ],
         "y": [
          0.18524582561968073,
          0.03465909627943106,
          0.023308046479522993,
          0.01965112699050399,
          0.019321248366822658,
          0.016624292542436504,
          0.015626253691204194,
          0.013843536971930573,
          0.01194743908653961,
          0.011150576256301824
         ]
        },
        {
         "hovertext": "<b>Topic 34</b>:consumer_complaint_lodge_file_for_",
         "line": {
          "color": "black",
          "width": 1.5
         },
         "mode": "lines+lines",
         "name": "",
         "opacity": 0.1,
         "type": "scatter",
         "x": [
          1,
          2,
          3,
          4,
          5,
          6,
          7,
          8,
          9,
          10
         ],
         "y": [
          0.15944071790183068,
          0.0995555937612498,
          0.05777983417029336,
          0.05058581765748187,
          0.030187302791306013,
          0.020142152464424686,
          0.015689434076574825,
          0.014448844947302376,
          0.010583577111454932,
          0.008541102029553478
         ]
        },
        {
         "hovertext": "<b>Topic 35</b>:concert_postpone_cancel_reimbursem",
         "line": {
          "color": "black",
          "width": 1.5
         },
         "mode": "lines+lines",
         "name": "",
         "opacity": 0.1,
         "type": "scatter",
         "x": [
          1,
          2,
          3,
          4,
          5,
          6,
          7,
          8,
          9,
          10
         ],
         "y": [
          0.21332466211969003,
          0.07776758349264191,
          0.05030636858327645,
          0.04338083334440732,
          0.04172775312247922,
          0.03486166662410335,
          0.03447807460050103,
          0.025404560371308074,
          0.02304004863180514,
          0.011901248965942223
         ]
        },
        {
         "hovertext": "<b>Topic 36</b>:penalty_cancellation_view_the_see_",
         "line": {
          "color": "black",
          "width": 1.5
         },
         "mode": "lines+lines",
         "name": "",
         "opacity": 0.1,
         "type": "scatter",
         "x": [
          1,
          2,
          3,
          4,
          5,
          6,
          7,
          8,
          9,
          10
         ],
         "y": [
          0.22049070858445638,
          0.15576308202302608,
          0.03304358514905282,
          0.021953287610227364,
          0.01836905505910812,
          0.014922913817407022,
          0.014164923230512489,
          0.010204264643531698,
          0.009833014092872952,
          0.009590459759338012
         ]
        },
        {
         "hovertext": "<b>Topic 37</b>:delivery_check_know_where_order_pl",
         "line": {
          "color": "black",
          "width": 1.5
         },
         "mode": "lines+lines",
         "name": "",
         "opacity": 0.1,
         "type": "scatter",
         "x": [
          1,
          2,
          3,
          4,
          5,
          6,
          7,
          8,
          9,
          10
         ],
         "y": [
          0.044877462725221556,
          0.038218689067284116,
          0.03473990711009643,
          0.03396705689417536,
          0.031215337065398106,
          0.01652729111677674,
          0.015231295068271172,
          0.01256916248512563,
          0.009464806397194077,
          0.009216839227705146
         ]
        },
        {
         "hovertext": "<b>Topic 38</b>:other_use_them_switch_change_profi",
         "line": {
          "color": "black",
          "width": 1.5
         },
         "mode": "lines+lines",
         "name": "",
         "opacity": 0.1,
         "type": "scatter",
         "x": [
          1,
          2,
          3,
          4,
          5,
          6,
          7,
          8,
          9,
          10
         ],
         "y": [
          0.1938578412717296,
          0.19251740143121124,
          0.10518935377054962,
          0.08919393433316039,
          0.033374569269701414,
          0.019631116508609464,
          0.017590579079541917,
          0.01658262145008431,
          0.014815893011055146,
          0.011747267944527833
         ]
        },
        {
         "hovertext": "<b>Topic 39</b>:comment_happy_submit_lodge_file_se",
         "line": {
          "color": "black",
          "width": 1.5
         },
         "mode": "lines+lines",
         "name": "",
         "opacity": 0.1,
         "type": "scatter",
         "x": [
          1,
          2,
          3,
          4,
          5,
          6,
          7,
          8,
          9,
          10
         ],
         "y": [
          0.18781226755078365,
          0.09100369175003192,
          0.04846102373289869,
          0.03780099897523294,
          0.03628982571080222,
          0.02883623371980708,
          0.020160660086235356,
          0.01523616991898722,
          0.013558985141380254,
          0.009615397838943458
         ]
        },
        {
         "hovertext": "<b>Topic 40</b>:another_switch_change_account_user",
         "line": {
          "color": "black",
          "width": 1.5
         },
         "mode": "lines+lines",
         "name": "",
         "opacity": 0.1,
         "type": "scatter",
         "x": [
          1,
          2,
          3,
          4,
          5,
          6,
          7,
          8,
          9,
          10
         ],
         "y": [
          0.2592839201897449,
          0.13196159535201765,
          0.047613887177603134,
          0.027485690192968443,
          0.02523480071956092,
          0.019982194857489116,
          0.017298296919548695,
          0.0118302953542198,
          0.011503130382649787,
          0.01017025586945711
         ]
        },
        {
         "hovertext": "<b>Topic 41</b>:policy_your_refund_reimbursement_v",
         "line": {
          "color": "black",
          "width": 1.5
         },
         "mode": "lines+lines",
         "name": "",
         "opacity": 0.1,
         "type": "scatter",
         "x": [
          1,
          2,
          3,
          4,
          5,
          6,
          7,
          8,
          9,
          10
         ],
         "y": [
          0.18544006259063303,
          0.14452083762007006,
          0.06143078241640174,
          0.04525590233145496,
          0.03245194762447931,
          0.030150506908510587,
          0.0281877523466552,
          0.01125060928234495,
          0.009601147637618617,
          0.008197871811539572
         ]
        },
        {
         "hovertext": "<b>Topic 42</b>:set_up_shipping_address_ship_no_up",
         "line": {
          "color": "black",
          "width": 1.5
         },
         "mode": "lines+lines",
         "name": "",
         "opacity": 0.1,
         "type": "scatter",
         "x": [
          1,
          2,
          3,
          4,
          5,
          6,
          7,
          8,
          9,
          10
         ],
         "y": [
          0.18283806601214694,
          0.17362545063781842,
          0.1606721259567217,
          0.07318549394650421,
          0.03422318065712449,
          0.03175455377379818,
          0.022076862544644485,
          0.0156962436626994,
          0.013952538455106342,
          0.010474806866172868
         ]
        },
        {
         "hovertext": "<b>Topic 43</b>:two_same_email_register_create_add",
         "line": {
          "color": "black",
          "width": 1.5
         },
         "mode": "lines+lines",
         "name": "",
         "opacity": 0.1,
         "type": "scatter",
         "x": [
          1,
          2,
          3,
          4,
          5,
          6,
          7,
          8,
          9,
          10
         ],
         "y": [
          0.13016624136434987,
          0.10777533080849183,
          0.04809125999878177,
          0.03728434925324487,
          0.03225276760112503,
          0.029428693746031794,
          0.028466580957362726,
          0.02439163697008639,
          0.01942276624791755,
          0.016702778528133354
         ]
        },
        {
         "hovertext": "<b>Topic 44</b>:discontent_complaint_consumer_subm",
         "line": {
          "color": "black",
          "width": 1.5
         },
         "mode": "lines+lines",
         "name": "",
         "opacity": 0.1,
         "type": "scatter",
         "x": [
          1,
          2,
          3,
          4,
          5,
          6,
          7,
          8,
          9,
          10
         ],
         "y": [
          0.2135769846178042,
          0.0846971711137723,
          0.06594314624733905,
          0.043771247242618175,
          0.03628982571080222,
          0.03454010412592277,
          0.03128358535881347,
          0.03037907684227245,
          0.023167326863117555,
          0.020431347473312707
         ]
        },
        {
         "hovertext": "<b>Topic 45</b>:method_your_their_payment_view_acc",
         "line": {
          "color": "black",
          "width": 1.5
         },
         "mode": "lines+lines",
         "name": "",
         "opacity": 0.1,
         "type": "scatter",
         "x": [
          1,
          2,
          3,
          4,
          5,
          6,
          7,
          8,
          9,
          10
         ],
         "y": [
          0.2803214975934463,
          0.10164423281419635,
          0.04929598683140094,
          0.039053132441782455,
          0.02569426247529829,
          0.022278155640399856,
          0.01951698080419282,
          0.018448537654050075,
          0.012751498780667982,
          0.009056780195007838
         ]
        },
        {
         "hovertext": "<b>Topic 46</b>:steal_someone_stole_password_retri",
         "line": {
          "color": "black",
          "width": 1.5
         },
         "mode": "lines+lines",
         "name": "",
         "opacity": 0.1,
         "type": "scatter",
         "x": [
          1,
          2,
          3,
          4,
          5,
          6,
          7,
          8,
          9,
          10
         ],
         "y": [
          0.17415785163296346,
          0.13723472578520163,
          0.13073093367186778,
          0.10269157697866062,
          0.06140555758821502,
          0.056931289376424075,
          0.04228749432595032,
          0.02194953159987711,
          0.017719692633768307,
          0.01336680165570508
         ]
        },
        {
         "hovertext": "<b>Topic 47</b>:two_single_email_register_address_",
         "line": {
          "color": "black",
          "width": 1.5
         },
         "mode": "lines+lines",
         "name": "",
         "opacity": 0.1,
         "type": "scatter",
         "x": [
          1,
          2,
          3,
          4,
          5,
          6,
          7,
          8,
          9,
          10
         ],
         "y": [
          0.14017499824864568,
          0.11457987220822684,
          0.051322529974327714,
          0.04289566088582963,
          0.034993414538170745,
          0.03154080030772929,
          0.03114417069788192,
          0.026512648880528684,
          0.01749795297698173,
          0.01718457000792608
         ]
        },
        {
         "hovertext": "<b>Topic 48</b>:review_happy_lodge_submit_file_ser",
         "line": {
          "color": "black",
          "width": 1.5
         },
         "mode": "lines+lines",
         "name": "",
         "opacity": 0.1,
         "type": "scatter",
         "x": [
          1,
          2,
          3,
          4,
          5,
          6,
          7,
          8,
          9,
          10
         ],
         "y": [
          0.19431850715806953,
          0.07765815100513739,
          0.052629647259863827,
          0.03787104777104268,
          0.03566203237155811,
          0.028878948179483672,
          0.017204132659151845,
          0.015340190166180913,
          0.013001810822781554,
          0.011356312371601342
         ]
        },
        {
         "hovertext": "<b>Topic 49</b>:package_track_tell_where_my_me_cou",
         "line": {
          "color": "black",
          "width": 1.5
         },
         "mode": "lines+lines",
         "name": "",
         "opacity": 0.1,
         "type": "scatter",
         "x": [
          1,
          2,
          3,
          4,
          5,
          6,
          7,
          8,
          9,
          10
         ],
         "y": [
          0.1734689458461943,
          0.12340790057901181,
          0.020101868798156217,
          0.016545979218855717,
          0.013806276333408527,
          0.010839477770220715,
          0.009609381320643073,
          0.008648985242166207,
          0.008014659777916542,
          0.007706736357762647
         ]
        },
        {
         "hovertext": "<b>Topic 50</b>:package_check_know_where_my_ask_ag",
         "line": {
          "color": "black",
          "width": 1.5
         },
         "mode": "lines+lines",
         "name": "",
         "opacity": 0.1,
         "type": "scatter",
         "x": [
          1,
          2,
          3,
          4,
          5,
          6,
          7,
          8,
          9,
          10
         ],
         "y": [
          0.18536948856688004,
          0.06092965309498531,
          0.019252411575792355,
          0.016192780976088686,
          0.015052928479253633,
          0.012727504255861711,
          0.011979233602604441,
          0.010859310064190181,
          0.010293888592938285,
          0.010022955938021022
         ]
        },
        {
         "hovertext": "<b>Topic 51</b>:subscribe_newsletter_there_keep_up",
         "line": {
          "color": "black",
          "width": 1.5
         },
         "mode": "lines+lines",
         "name": "",
         "opacity": 0.1,
         "type": "scatter",
         "x": [
          1,
          2,
          3,
          4,
          5,
          6,
          7,
          8,
          9,
          10
         ],
         "y": [
          0.1698852918830696,
          0.15533619734825754,
          0.07174602015402717,
          0.024929142137292394,
          0.02395071600841307,
          0.022955841908231186,
          0.021843128432347973,
          0.014772217809477066,
          0.013036273830199405,
          0.012137421399998868
         ]
        },
        {
         "hovertext": "<b>Topic 52</b>:opinion_happy_submit_lodge_service",
         "line": {
          "color": "black",
          "width": 1.5
         },
         "mode": "lines+lines",
         "name": "",
         "opacity": 0.1,
         "type": "scatter",
         "x": [
          1,
          2,
          3,
          4,
          5,
          6,
          7,
          8,
          9,
          10
         ],
         "y": [
          0.17352117498716849,
          0.07901370096179167,
          0.04683902031211274,
          0.037553364470391946,
          0.025927405353338668,
          0.01750443676089185,
          0.015489046464364668,
          0.013243784305954858,
          0.013228761939555925,
          0.012442898832488999
         ]
        },
        {
         "hovertext": "<b>Topic 53</b>:shipment_check_know_where_out_my_t",
         "line": {
          "color": "black",
          "width": 1.5
         },
         "mode": "lines+lines",
         "name": "",
         "opacity": 0.1,
         "type": "scatter",
         "x": [
          1,
          2,
          3,
          4,
          5,
          6,
          7,
          8,
          9,
          10
         ],
         "y": [
          0.1701002340132351,
          0.04502733919637632,
          0.03212691779602012,
          0.023305824407323695,
          0.017432509872602222,
          0.013741652124456822,
          0.012883226784010307,
          0.01235704033868814,
          0.011853263208546109,
          0.011630549861004888
         ]
        },
        {
         "hovertext": "<b>Topic 54</b>:update_on_profile_edit_shipping_an",
         "line": {
          "color": "black",
          "width": 1.5
         },
         "mode": "lines+lines",
         "name": "",
         "opacity": 0.1,
         "type": "scatter",
         "x": [
          1,
          2,
          3,
          4,
          5,
          6,
          7,
          8,
          9,
          10
         ],
         "y": [
          0.17804914236828154,
          0.08155671287874028,
          0.063683405705433,
          0.041817085001813706,
          0.038497034333151735,
          0.029318038378136638,
          0.018482074129446635,
          0.01831796301970235,
          0.0178638557580529,
          0.01728939097575861
         ]
        },
        {
         "hovertext": "<b>Topic 55</b>:give_some_about_information_provid",
         "line": {
          "color": "black",
          "width": 1.5
         },
         "mode": "lines+lines",
         "name": "",
         "opacity": 0.1,
         "type": "scatter",
         "x": [
          1,
          2,
          3,
          4,
          5,
          6,
          7,
          8,
          9,
          10
         ],
         "y": [
          0.06904324954874029,
          0.0496649936081077,
          0.047661777290541,
          0.046777009548133464,
          0.04094814386923026,
          0.03769536227800713,
          0.02870036851046074,
          0.023575425276050582,
          0.014424976477627059,
          0.013981113681562483
         ]
        },
        {
         "hovertext": "<b>Topic 56</b>:shipment_track_where_tell_my_know_",
         "line": {
          "color": "black",
          "width": 1.5
         },
         "mode": "lines+lines",
         "name": "",
         "opacity": 0.1,
         "type": "scatter",
         "x": [
          1,
          2,
          3,
          4,
          5,
          6,
          7,
          8,
          9,
          10
         ],
         "y": [
          0.19787419046339993,
          0.13808093005962022,
          0.01935812512965921,
          0.016514025529947803,
          0.015297844712332852,
          0.013859005496049107,
          0.009948828657250912,
          0.009490857840957186,
          0.009393695007436701,
          0.00856706282599589
         ]
        },
        {
         "hovertext": "<b>Topic 57</b>:consumer_happy_complaint_submit_fi",
         "line": {
          "color": "black",
          "width": 1.5
         },
         "mode": "lines+lines",
         "name": "",
         "opacity": 0.1,
         "type": "scatter",
         "x": [
          1,
          2,
          3,
          4,
          5,
          6,
          7,
          8,
          9,
          10
         ],
         "y": [
          0.12209226185661333,
          0.08669448878613763,
          0.0777010864174503,
          0.04270914563027118,
          0.035051590187861456,
          0.032268465199652596,
          0.031805059514999505,
          0.028220398528766507,
          0.02751829443261207,
          0.019548977886599046
         ]
        },
        {
         "hovertext": "<b>Topic 58</b>:modify_order_change_myorder_tell_w",
         "line": {
          "color": "black",
          "width": 1.5
         },
         "mode": "lines+lines",
         "name": "",
         "opacity": 0.1,
         "type": "scatter",
         "x": [
          1,
          2,
          3,
          4,
          5,
          6,
          7,
          8,
          9,
          10
         ],
         "y": [
          0.06003137594042013,
          0.046469996675979626,
          0.03667755685625126,
          0.03393016269191971,
          0.027018979660309268,
          0.019781586801084956,
          0.014514264502591736,
          0.013993306737450537,
          0.012527258439351891,
          0.011843404767834416
         ]
        },
        {
         "hovertext": "<b>Topic 59</b>:own_more_than_several_if_one_profi",
         "line": {
          "color": "black",
          "width": 1.5
         },
         "mode": "lines+lines",
         "name": "",
         "opacity": 0.1,
         "type": "scatter",
         "x": [
          1,
          2,
          3,
          4,
          5,
          6,
          7,
          8,
          9,
          10
         ],
         "y": [
          0.2292036845006914,
          0.09009157991343437,
          0.08992180637337785,
          0.0815070560851573,
          0.03882027755385905,
          0.035194871933610865,
          0.0256600982544136,
          0.021868528441044473,
          0.02093994806125702,
          0.02082879605074822
         ]
        },
        {
         "hovertext": "<b>Topic 60</b>:happy_complaint_submit_lodge_servi",
         "line": {
          "color": "black",
          "width": 1.5
         },
         "mode": "lines+lines",
         "name": "",
         "opacity": 0.1,
         "type": "scatter",
         "x": [
          1,
          2,
          3,
          4,
          5,
          6,
          7,
          8,
          9,
          10
         ],
         "y": [
          0.08936850710908667,
          0.08314533105335149,
          0.047068302229724475,
          0.03737779029884207,
          0.034983738490842874,
          0.03490703445535131,
          0.033834876417881236,
          0.028906181518561072,
          0.020505643282306574,
          0.019798406631563625
         ]
        },
        {
         "hovertext": "<b>Topic 61</b>:period_ticket_delivery_provide_abo",
         "line": {
          "color": "black",
          "width": 1.5
         },
         "mode": "lines+lines",
         "name": "",
         "opacity": 0.1,
         "type": "scatter",
         "x": [
          1,
          2,
          3,
          4,
          5,
          6,
          7,
          8,
          9,
          10
         ],
         "y": [
          0.23085413429958715,
          0.09343662527802317,
          0.0837577069507645,
          0.04492473526860432,
          0.03876698275953407,
          0.03165100541318036,
          0.025256784231490893,
          0.025256784231490893,
          0.02463343620928477,
          0.019638431824595515
         ]
        },
        {
         "hovertext": "<b>Topic 62</b>:opinion_leave_write_for_service_an",
         "line": {
          "color": "black",
          "width": 1.5
         },
         "mode": "lines+lines",
         "name": "",
         "opacity": 0.1,
         "type": "scatter",
         "x": [
          1,
          2,
          3,
          4,
          5,
          6,
          7,
          8,
          9,
          10
         ],
         "y": [
          0.22177678490096367,
          0.14880344176885624,
          0.13181214440870526,
          0.04077933885843093,
          0.02720957438176668,
          0.022218527511354946,
          0.016740036999817607,
          0.013918832937050114,
          0.013100522135104117,
          0.012728081174467627
         ]
        },
        {
         "hovertext": "<b>Topic 63</b>:comment_write_leave_for_service_wh",
         "line": {
          "color": "black",
          "width": 1.5
         },
         "mode": "lines+lines",
         "name": "",
         "opacity": 0.1,
         "type": "scatter",
         "x": [
          1,
          2,
          3,
          4,
          5,
          6,
          7,
          8,
          9,
          10
         ],
         "y": [
          0.27529994021221704,
          0.17425626233754524,
          0.169396775227939,
          0.03862073865100123,
          0.025769271656201225,
          0.019260553934449236,
          0.015341883558510083,
          0.014680019113295042,
          0.013816956939367624,
          0.013121666327563135
         ]
        },
        {
         "hovertext": "<b>Topic 64</b>:while_create_find_open_profile_pro",
         "line": {
          "color": "black",
          "width": 1.5
         },
         "mode": "lines+lines",
         "name": "",
         "opacity": 0.1,
         "type": "scatter",
         "x": [
          1,
          2,
          3,
          4,
          5,
          6,
          7,
          8,
          9,
          10
         ],
         "y": [
          0.16324220771545164,
          0.07753069134885825,
          0.07031854101878825,
          0.05586017634166964,
          0.0462958416058651,
          0.04082570501633206,
          0.0328873734853786,
          0.028405268835550945,
          0.024875566375109782,
          0.023319735633886656
         ]
        },
        {
         "hovertext": "<b>Topic 65</b>:modify_mistake_modification_purcha",
         "line": {
          "color": "black",
          "width": 1.5
         },
         "mode": "lines+lines",
         "name": "",
         "opacity": 0.1,
         "type": "scatter",
         "x": [
          1,
          2,
          3,
          4,
          5,
          6,
          7,
          8,
          9,
          10
         ],
         "y": [
          0.06941556288901844,
          0.03515382008026245,
          0.03319130178834108,
          0.0317211585215497,
          0.026830867188700435,
          0.01941370662508621,
          0.018810164514435637,
          0.018727907049952412,
          0.01827234327163788,
          0.012539141178941652
         ]
        },
        {
         "hovertext": "<b>Topic 66</b>:notify_make_payment_issue_problem_",
         "line": {
          "color": "black",
          "width": 1.5
         },
         "mode": "lines+lines",
         "name": "",
         "opacity": 0.1,
         "type": "scatter",
         "x": [
          1,
          2,
          3,
          4,
          5,
          6,
          7,
          8,
          9,
          10
         ],
         "y": [
          0.07384068399561547,
          0.043104295824052945,
          0.03288874281065592,
          0.03166609171138576,
          0.02398946341771649,
          0.013994396603390847,
          0.013556536162154869,
          0.013556536162154869,
          0.012191422711821201,
          0.012191422711821201
         ]
        },
        {
         "hovertext": "<b>Topic 67</b>:newsletter_receive_there_tell_know",
         "line": {
          "color": "black",
          "width": 1.5
         },
         "mode": "lines+lines",
         "name": "",
         "opacity": 0.1,
         "type": "scatter",
         "x": [
          1,
          2,
          3,
          4,
          5,
          6,
          7,
          8,
          9,
          10
         ],
         "y": [
          0.18548335714133254,
          0.15529215618090078,
          0.041358057376735535,
          0.026120742304580898,
          0.01781098753203186,
          0.017622037195732212,
          0.015289667506395994,
          0.014445415450836926,
          0.01345901823135739,
          0.013424148113696324
         ]
        },
        {
         "hovertext": "<b>Topic 68</b>:option_your_payment_view_see_check",
         "line": {
          "color": "black",
          "width": 1.5
         },
         "mode": "lines+lines",
         "name": "",
         "opacity": 0.1,
         "type": "scatter",
         "x": [
          1,
          2,
          3,
          4,
          5,
          6,
          7,
          8,
          9,
          10
         ],
         "y": [
          0.1638792798163234,
          0.14300412718027922,
          0.041845338817275674,
          0.03986553910765776,
          0.027625020448627604,
          0.024662002443208337,
          0.016928974961114576,
          0.016928974961114576,
          0.016928974961114576,
          0.016928974961114576
         ]
        },
        {
         "hovertext": "<b>Topic 69</b>:close_mind_change_closing_my_profi",
         "line": {
          "color": "black",
          "width": 1.5
         },
         "mode": "lines+lines",
         "name": "",
         "opacity": 0.1,
         "type": "scatter",
         "x": [
          1,
          2,
          3,
          4,
          5,
          6,
          7,
          8,
          9,
          10
         ],
         "y": [
          0.17288312207437656,
          0.16001638911835575,
          0.07959145288707298,
          0.040163025725411666,
          0.02646916237040189,
          0.022156309737746682,
          0.0198217803751063,
          0.01838295692478556,
          0.013870268175466601,
          0.013801533803639592
         ]
        },
        {
         "hovertext": "<b>Topic 70</b>:way_out_on_their_package_shipment_",
         "line": {
          "color": "black",
          "width": 1.5
         },
         "mode": "lines+lines",
         "name": "",
         "opacity": 0.1,
         "type": "scatter",
         "x": [
          1,
          2,
          3,
          4,
          5,
          6,
          7,
          8,
          9,
          10
         ],
         "y": [
          0.1889665863722412,
          0.1623334243982092,
          0.1308543770084709,
          0.054917072117773046,
          0.05396006874965125,
          0.05177501434532942,
          0.043751416175571496,
          0.03845418034274714,
          0.02453334032426735,
          0.02408085026534245
         ]
        },
        {
         "hovertext": "<b>Topic 71</b>:track_order_tell_trackign_hel_how_",
         "line": {
          "color": "black",
          "width": 1.5
         },
         "mode": "lines+lines",
         "name": "",
         "opacity": 0.1,
         "type": "scatter",
         "x": [
          1,
          2,
          3,
          4,
          5,
          6,
          7,
          8,
          9,
          10
         ],
         "y": [
          0.129268447937929,
          0.05421002500551538,
          0.021406266864241904,
          0.01676381422978663,
          0.01676381422978663,
          0.016310492406584762,
          0.014321518850610797,
          0.014089316581971873,
          0.013655979473767498,
          0.0128484345343008
         ]
        },
        {
         "hovertext": "<b>Topic 72</b>:review_write_leave_for_fucking_ask",
         "line": {
          "color": "black",
          "width": 1.5
         },
         "mode": "lines+lines",
         "name": "",
         "opacity": 0.1,
         "type": "scatter",
         "x": [
          1,
          2,
          3,
          4,
          5,
          6,
          7,
          8,
          9,
          10
         ],
         "y": [
          0.2417023277496911,
          0.2131641592645272,
          0.08288785881023822,
          0.030596093573206987,
          0.02338928321517885,
          0.021598189040250175,
          0.02111025781717706,
          0.02041491370818417,
          0.018231203804277233,
          0.018231203804277233
         ]
        },
        {
         "hovertext": "<b>Topic 73</b>:postpone_show_refund_obtain_reques",
         "line": {
          "color": "black",
          "width": 1.5
         },
         "mode": "lines+lines",
         "name": "",
         "opacity": 0.1,
         "type": "scatter",
         "x": [
          1,
          2,
          3,
          4,
          5,
          6,
          7,
          8,
          9,
          10
         ],
         "y": [
          0.1553606045083082,
          0.1114849870139675,
          0.0770000165274457,
          0.03784487384998908,
          0.02755150293552944,
          0.026766073514800297,
          0.023819686641063192,
          0.01735647432881949,
          0.01735647432881949,
          0.01735647432881949
         ]
        },
        {
         "hovertext": "<b>Topic 74</b>:shipping_address_change_modify_adr",
         "line": {
          "color": "black",
          "width": 1.5
         },
         "mode": "lines+lines",
         "name": "",
         "opacity": 0.1,
         "type": "scatter",
         "x": [
          1,
          2,
          3,
          4,
          5,
          6,
          7,
          8,
          9,
          10
         ],
         "y": [
          0.24686145831548129,
          0.10021591644911199,
          0.06352361219094269,
          0.053061167548553716,
          0.037574780029746804,
          0.020891075483928625,
          0.01755811488938744,
          0.01755811488938744,
          0.016686839667996584,
          0.016390547906070915
         ]
        },
        {
         "hovertext": "<b>Topic 75</b>:customer_support_ask_agent_talk_ca",
         "line": {
          "color": "black",
          "width": 1.5
         },
         "mode": "lines+lines",
         "name": "",
         "opacity": 0.1,
         "type": "scatter",
         "x": [
          1,
          2,
          3,
          4,
          5,
          6,
          7,
          8,
          9,
          10
         ],
         "y": [
          0.052535032577688434,
          0.04496018925246335,
          0.030660366259935564,
          0.029544883836161384,
          0.02880427050524923,
          0.025304089958159477,
          0.024641418509607497,
          0.01982819685219131,
          0.01632422077154516,
          0.016086766761393267
         ]
        },
        {
         "hovertext": "<b>Topic 76</b>:on_edit_profile_information_change",
         "line": {
          "color": "black",
          "width": 1.5
         },
         "mode": "lines+lines",
         "name": "",
         "opacity": 0.1,
         "type": "scatter",
         "x": [
          1,
          2,
          3,
          4,
          5,
          6,
          7,
          8,
          9,
          10
         ],
         "y": [
          0.2615722340617948,
          0.08534754608564794,
          0.07873915595814426,
          0.058750167109467906,
          0.04263085348491724,
          0.03254433689356883,
          0.030929409863497893,
          0.027660936111138654,
          0.023104950177246845,
          0.019361024885105684
         ]
        },
        {
         "hovertext": "<b>Topic 77</b>:cancel_show_reimbursement_request_",
         "line": {
          "color": "black",
          "width": 1.5
         },
         "mode": "lines+lines",
         "name": "",
         "opacity": 0.1,
         "type": "scatter",
         "x": [
          1,
          2,
          3,
          4,
          5,
          6,
          7,
          8,
          9,
          10
         ],
         "y": [
          0.10727125724492376,
          0.10634960335832999,
          0.08775975654815929,
          0.03440214690868811,
          0.0334110881886127,
          0.03037818252282907,
          0.025533135698372365,
          0.022722469583096476,
          0.018576118470844644,
          0.015612485942185048
         ]
        },
        {
         "hovertext": "<b>Topic 78</b>:place_order_tack_mlake_inmy_plcae_",
         "line": {
          "color": "black",
          "width": 1.5
         },
         "mode": "lines+lines",
         "name": "",
         "opacity": 0.1,
         "type": "scatter",
         "x": [
          1,
          2,
          3,
          4,
          5,
          6,
          7,
          8,
          9,
          10
         ],
         "y": [
          0.29195937819925855,
          0.07347474463557457,
          0.04353601784349858,
          0.028401503447159165,
          0.028401503447159165,
          0.028401503447159165,
          0.028401503447159165,
          0.028401503447159165,
          0.0279125413754705,
          0.023870329746315984
         ]
        },
        {
         "hovertext": "<b>Topic 79</b>:track_delivery_ho_tell_trac_tracki",
         "line": {
          "color": "black",
          "width": 1.5
         },
         "mode": "lines+lines",
         "name": "",
         "opacity": 0.1,
         "type": "scatter",
         "x": [
          1,
          2,
          3,
          4,
          5,
          6,
          7,
          8,
          9,
          10
         ],
         "y": [
          0.13208071362688645,
          0.11946643822798564,
          0.034771340983916356,
          0.023448323124904302,
          0.022683709023803688,
          0.022683709023803688,
          0.022683709023803688,
          0.022683709023803688,
          0.01719797381687942,
          0.015424064553193685
         ]
        },
        {
         "hovertext": "<b>Topic 80</b>:postpone_show_reimbursement_obtain",
         "line": {
          "color": "black",
          "width": 1.5
         },
         "mode": "lines+lines",
         "name": "",
         "opacity": 0.1,
         "type": "scatter",
         "x": [
          1,
          2,
          3,
          4,
          5,
          6,
          7,
          8,
          9,
          10
         ],
         "y": [
          0.13950748159929716,
          0.10632691624959963,
          0.08774103513241269,
          0.03550025702983669,
          0.03445945993977297,
          0.024184126253453737,
          0.022119790129601843,
          0.020038378525400927,
          0.020038378525400927,
          0.020038378525400927
         ]
        },
        {
         "hovertext": "<b>Topic 81</b>:create_profile_one_profilee_need_t",
         "line": {
          "color": "black",
          "width": 1.5
         },
         "mode": "lines+lines",
         "name": "",
         "opacity": 0.1,
         "type": "scatter",
         "x": [
          1,
          2,
          3,
          4,
          5,
          6,
          7,
          8,
          9,
          10
         ],
         "y": [
          0.10852245712349444,
          0.10800321778511121,
          0.05525036244816054,
          0.02727445965957348,
          0.026258963013425948,
          0.02292309443892249,
          0.02178559623321776,
          0.0201847896788225,
          0.01556479302945616,
          0.014980514044511315
         ]
        },
        {
         "hovertext": "<b>Topic 82</b>:track_order_ask_agent_fuck_myreimb",
         "line": {
          "color": "black",
          "width": 1.5
         },
         "mode": "lines+lines",
         "name": "",
         "opacity": 0.1,
         "type": "scatter",
         "x": [
          1,
          2,
          3,
          4,
          5,
          6,
          7,
          8,
          9,
          10
         ],
         "y": [
          0.10875123975257227,
          0.03503028246280315,
          0.03233859282928763,
          0.030437354417157662,
          0.018753323208254652,
          0.01867707563644706,
          0.01867707563644706,
          0.01867707563644706,
          0.017518596017558584,
          0.01679633509481888
         ]
        },
        {
         "hovertext": "<b>Topic 83</b>:profile_edit_change_modify_iy_prof",
         "line": {
          "color": "black",
          "width": 1.5
         },
         "mode": "lines+lines",
         "name": "",
         "opacity": 0.1,
         "type": "scatter",
         "x": [
          1,
          2,
          3,
          4,
          5,
          6,
          7,
          8,
          9,
          10
         ],
         "y": [
          0.11017639837871566,
          0.09343112423913442,
          0.06031993009351097,
          0.048064769062428896,
          0.0302782547762666,
          0.0302782547762666,
          0.0302782547762666,
          0.0302782547762666,
          0.027229300946666736,
          0.027229300946666736
         ]
        },
        {
         "hovertext": "<b>Topic 84</b>:client_contact_question_service_in",
         "line": {
          "color": "black",
          "width": 1.5
         },
         "mode": "lines+lines",
         "name": "",
         "opacity": 0.1,
         "type": "scatter",
         "x": [
          1,
          2,
          3,
          4,
          5,
          6,
          7,
          8,
          9,
          10
         ],
         "y": [
          0.12873416649327354,
          0.1043021962674666,
          0.08012264855211562,
          0.051775932966447454,
          0.031284463985791655,
          0.028359680054500024,
          0.02310647919443387,
          0.014944378802537123,
          0.013221527657651024,
          0.012732575656102115
         ]
        },
        {
         "hovertext": "<b>Topic 85</b>:card_notify_pay_with_problem_have_",
         "line": {
          "color": "black",
          "width": 1.5
         },
         "mode": "lines+lines",
         "name": "",
         "opacity": 0.1,
         "type": "scatter",
         "x": [
          1,
          2,
          3,
          4,
          5,
          6,
          7,
          8,
          9,
          10
         ],
         "y": [
          0.06873837758582928,
          0.06442912562871668,
          0.04103049126750556,
          0.030020476270875555,
          0.028441907828044666,
          0.02308653827754779,
          0.022705102014565187,
          0.021148196412961593,
          0.019018619430441072,
          0.019018619430441072
         ]
        },
        {
         "hovertext": "<b>Topic 86</b>:hour_customer_of_support_client_se",
         "line": {
          "color": "black",
          "width": 1.5
         },
         "mode": "lines+lines",
         "name": "",
         "opacity": 0.1,
         "type": "scatter",
         "x": [
          1,
          2,
          3,
          4,
          5,
          6,
          7,
          8,
          9,
          10
         ],
         "y": [
          0.373771124883337,
          0.042003335746216015,
          0.041030992181386575,
          0.0335654379184266,
          0.028897855457769944,
          0.023245008964015202,
          0.02283443134289873,
          0.022481270043724813,
          0.020535054202303483,
          0.020535054202303483
         ]
        },
        {
         "hovertext": "<b>Topic 87</b>:about_modify_order_change_informat",
         "line": {
          "color": "black",
          "width": 1.5
         },
         "mode": "lines+lines",
         "name": "",
         "opacity": 0.1,
         "type": "scatter",
         "x": [
          1,
          2,
          3,
          4,
          5,
          6,
          7,
          8,
          9,
          10
         ],
         "y": [
          0.0829569203693268,
          0.06175869383304543,
          0.055355595345254575,
          0.048950791333085567,
          0.047221832431383635,
          0.02593646729891516,
          0.0217985652777678,
          0.018206048107455314,
          0.014922614559011482,
          0.014801237144992273
         ]
        },
        {
         "hovertext": "<b>Topic 88</b>:no_account_have_crezte_ylu_donty_c",
         "line": {
          "color": "black",
          "width": 1.5
         },
         "mode": "lines+lines",
         "name": "",
         "opacity": 0.1,
         "type": "scatter",
         "x": [
          1,
          2,
          3,
          4,
          5,
          6,
          7,
          8,
          9,
          10
         ],
         "y": [
          0.07068786669799806,
          0.034936844560756866,
          0.030676556994577088,
          0.02727445965957348,
          0.02727445965957348,
          0.02727445965957348,
          0.02727445965957348,
          0.02727445965957348,
          0.024527981408306938,
          0.024527981408306938
         ]
        },
        {
         "hovertext": "<b>Topic 89</b>:online_no_account_have_regiksterin",
         "line": {
          "color": "black",
          "width": 1.5
         },
         "mode": "lines+lines",
         "name": "",
         "opacity": 0.1,
         "type": "scatter",
         "x": [
          1,
          2,
          3,
          4,
          5,
          6,
          7,
          8,
          9,
          10
         ],
         "y": [
          0.06832853333201981,
          0.06808156945463663,
          0.03166936988960694,
          0.031079000188327363,
          0.02472361091443352,
          0.02472361091443352,
          0.022233997535587587,
          0.022233997535587587,
          0.020320597754798234,
          0.019748094427233367
         ]
        },
        {
         "hovertext": "<b>Topic 90</b>:mistake_purchase_modify_make_chang",
         "line": {
          "color": "black",
          "width": 1.5
         },
         "mode": "lines+lines",
         "name": "",
         "opacity": 0.1,
         "type": "scatter",
         "x": [
          1,
          2,
          3,
          4,
          5,
          6,
          7,
          8,
          9,
          10
         ],
         "y": [
          0.342052249352395,
          0.1028839691730686,
          0.060615014317618655,
          0.05045628394296067,
          0.04861625109249349,
          0.024527981408306938,
          0.02178559623321776,
          0.017296734725158705,
          0.015216903735018921,
          0.011262157266538349
         ]
        },
        {
         "hovertext": "<b>Topic 91</b>:make_payment_try_problem_iut_repol",
         "line": {
          "color": "black",
          "width": 1.5
         },
         "mode": "lines+lines",
         "name": "",
         "opacity": 0.1,
         "type": "scatter",
         "x": [
          1,
          2,
          3,
          4,
          5,
          6,
          7,
          8,
          9,
          10
         ],
         "y": [
          0.04447872045344948,
          0.03521809195649652,
          0.02893521788099033,
          0.027229831237572222,
          0.0256461337097482,
          0.0256461337097482,
          0.024603191233139744,
          0.02306362430930354,
          0.020878694070098923,
          0.019656187160684062
         ]
        },
        {
         "hovertext": "<b>Topic 92</b>:like_complaint_file_service_submit",
         "line": {
          "color": "black",
          "width": 1.5
         },
         "mode": "lines+lines",
         "name": "",
         "opacity": 0.1,
         "type": "scatter",
         "x": [
          1,
          2,
          3,
          4,
          5,
          6,
          7,
          8,
          9,
          10
         ],
         "y": [
          0.09189719520906015,
          0.08022795101639178,
          0.03768509590567962,
          0.033317846181755116,
          0.032873099969966305,
          0.0321366348954028,
          0.03197877614456488,
          0.021819567727658785,
          0.021819567727658785,
          0.02107166012476595
         ]
        },
        {
         "hovertext": "<b>Topic 93</b>:user_no_account_have_opn_opdn_opne",
         "line": {
          "color": "black",
          "width": 1.5
         },
         "mode": "lines+lines",
         "name": "",
         "opacity": 0.1,
         "type": "scatter",
         "x": [
          1,
          2,
          3,
          4,
          5,
          6,
          7,
          8,
          9,
          10
         ],
         "y": [
          0.08729859391490664,
          0.06900829961736381,
          0.03307319620327096,
          0.03288371812009843,
          0.028401503447159165,
          0.028401503447159165,
          0.028401503447159165,
          0.021884528057207808,
          0.02176800892174929,
          0.0216365916045566
         ]
        },
        {
         "hovertext": "<b>Topic 94</b>:purchase_about_modify_information_",
         "line": {
          "color": "black",
          "width": 1.5
         },
         "mode": "lines+lines",
         "name": "",
         "opacity": 0.1,
         "type": "scatter",
         "x": [
          1,
          2,
          3,
          4,
          5,
          6,
          7,
          8,
          9,
          10
         ],
         "y": [
          0.09153014203106156,
          0.06611171935813896,
          0.059346917783777264,
          0.04799569091265109,
          0.045229985018367065,
          0.02875800767452936,
          0.02875800767452936,
          0.02875800767452936,
          0.0258621393928592,
          0.021282707109051335
         ]
        },
        {
         "hovertext": "<b>Topic 95</b>:card_pay_with_issue_have_tryng_rep",
         "line": {
          "color": "black",
          "width": 1.5
         },
         "mode": "lines+lines",
         "name": "",
         "opacity": 0.1,
         "type": "scatter",
         "x": [
          1,
          2,
          3,
          4,
          5,
          6,
          7,
          8,
          9,
          10
         ],
         "y": [
          0.06723320970801587,
          0.04013204443713573,
          0.03028071370430245,
          0.029990115500011048,
          0.025695633356859697,
          0.02353823230894698,
          0.02353823230894698,
          0.02353823230894698,
          0.021167983955114208,
          0.021167983955114208
         ]
        },
        {
         "hovertext": "<b>Topic 96</b>:report_where_payment_issue_iwth_my",
         "line": {
          "color": "black",
          "width": 1.5
         },
         "mode": "lines+lines",
         "name": "",
         "opacity": 0.1,
         "type": "scatter",
         "x": [
          1,
          2,
          3,
          4,
          5,
          6,
          7,
          8,
          9,
          10
         ],
         "y": [
          0.11081937351305701,
          0.0677037653453367,
          0.048264794204016824,
          0.044227847101026396,
          0.03511960974371221,
          0.03511960974371221,
          0.03511960974371221,
          0.0331708853257698,
          0.027278082616512322,
          0.024133376777927564
         ]
        },
        {
         "hovertext": "<b>Topic 97</b>:mistake_modify_order_make_change_a",
         "line": {
          "color": "black",
          "width": 1.5
         },
         "mode": "lines+lines",
         "name": "",
         "opacity": 0.1,
         "type": "scatter",
         "x": [
          1,
          2,
          3,
          4,
          5,
          6,
          7,
          8,
          9,
          10
         ],
         "y": [
          0.32323937563801325,
          0.0678888160357329,
          0.05531831885007259,
          0.04591521838809422,
          0.03843543615783015,
          0.0305473948187223,
          0.0305473948187223,
          0.0305473948187223,
          0.0305473948187223,
          0.0305473948187223
         ]
        },
        {
         "hovertext": "<b>Topic 98</b>:support_speak_customer_information",
         "line": {
          "color": "black",
          "width": 1.5
         },
         "mode": "lines+lines",
         "name": "",
         "opacity": 0.1,
         "type": "scatter",
         "x": [
          1,
          2,
          3,
          4,
          5,
          6,
          7,
          8,
          9,
          10
         ],
         "y": [
          0.09631920693786157,
          0.06371757640142377,
          0.05764600450563566,
          0.04882094879180971,
          0.04628101890169259,
          0.025742186644990703,
          0.025742186644990703,
          0.025742186644990703,
          0.025742186644990703,
          0.025742186644990703
         ]
        },
        {
         "hovertext": "<b>Topic 99</b>:support_mail_customre_see_customer",
         "line": {
          "color": "black",
          "width": 1.5
         },
         "mode": "lines+lines",
         "name": "",
         "opacity": 0.1,
         "type": "scatter",
         "x": [
          1,
          2,
          3,
          4,
          5,
          6,
          7,
          8,
          9,
          10
         ],
         "y": [
          0.09574809194912355,
          0.06462880224720277,
          0.06359038900506805,
          0.05052143379343607,
          0.04244755433812664,
          0.04050495885965337,
          0.03265225804053008,
          0.027601161431002788,
          0.026537312101206634,
          0.026537312101206634
         ]
        },
        {
         "hovertext": "<b>Topic 100</b>:track_shipment_rder_tell_apckage_",
         "line": {
          "color": "black",
          "width": 1.5
         },
         "mode": "lines+lines",
         "name": "",
         "opacity": 0.1,
         "type": "scatter",
         "x": [
          1,
          2,
          3,
          4,
          5,
          6,
          7,
          8,
          9,
          10
         ],
         "y": [
          0.09623077865958111,
          0.0882570529231772,
          0.039074521357799825,
          0.03272064516445721,
          0.024459657772998283,
          0.024459657772998283,
          0.024459657772998283,
          0.024459657772998283,
          0.024459657772998283,
          0.024459657772998283
         ]
        },
        {
         "hovertext": "<b>Topic 101</b>:profile_no_have_prfofile_get_not_",
         "line": {
          "color": "black",
          "width": 1.5
         },
         "mode": "lines+lines",
         "name": "",
         "opacity": 0.1,
         "type": "scatter",
         "x": [
          1,
          2,
          3,
          4,
          5,
          6,
          7,
          8,
          9,
          10
         ],
         "y": [
          0.10160075736093784,
          0.07996320832273537,
          0.040197555346810146,
          0.037973280852002855,
          0.02535864650754172,
          0.025071350713788233,
          0.01917526834114293,
          0.019173585490999873,
          0.01896810708506746,
          0.007609074388611316
         ]
        },
        {
         "hovertext": "<b>Topic 102</b>:call_information_clent_customer_n",
         "line": {
          "color": "black",
          "width": 1.5
         },
         "mode": "lines+lines",
         "name": "",
         "opacity": 0.1,
         "type": "scatter",
         "x": [
          1,
          2,
          3,
          4,
          5,
          6,
          7,
          8,
          9,
          10
         ],
         "y": [
          0.1306675089783846,
          0.07241774070785106,
          0.06867834794325943,
          0.06413118001251966,
          0.055143822328194494,
          0.05053206670899526,
          0.04306772368401399,
          0.038184243523402876,
          0.038184243523402876,
          0.038184243523402876
         ]
        },
        {
         "hovertext": "<b>Topic 103</b>:invoice_see_some_tedlo_possible_a",
         "line": {
          "color": "black",
          "width": 1.5
         },
         "mode": "lines+lines",
         "name": "",
         "opacity": 0.1,
         "type": "scatter",
         "x": [
          1,
          2,
          3,
          4,
          5,
          6,
          7,
          8,
          9,
          10
         ],
         "y": [
          0.09652451257171636,
          0.08496786592532429,
          0.045891057923601035,
          0.044630933988392976,
          0.04250863153552662,
          0.03751051817278226,
          0.029901870753532272,
          0.022126327925781345,
          0.016918785930241768,
          0.014962939352585159
         ]
        },
        {
         "hovertext": "<b>Topic 104</b>:mail_client_of_the_service_about_",
         "line": {
          "color": "black",
          "width": 1.5
         },
         "mode": "lines+lines",
         "name": "",
         "opacity": 0.1,
         "type": "scatter",
         "x": [
          1,
          2,
          3,
          4,
          5,
          6,
          7,
          8,
          9,
          10
         ],
         "y": [
          0.1383834307376448,
          0.08629220726972969,
          0.035643084117164096,
          0.03417607213717762,
          0.033317846181755116,
          0.029987527638465725,
          0.02727445965957348,
          0.02727445965957348,
          0.02727445965957348,
          0.024527981408306938
         ]
        },
        {
         "hovertext": "<b>Topic 105</b>:consumer_complaint_discontent_and",
         "line": {
          "color": "black",
          "width": 1.5
         },
         "mode": "lines+lines",
         "name": "",
         "opacity": 0.1,
         "type": "scatter",
         "x": [
          1,
          2,
          3,
          4,
          5,
          6,
          7,
          8,
          9,
          10
         ],
         "y": [
          0.11490093664309076,
          0.07019945713934281,
          0.059006254008522475,
          0.051890204175476115,
          0.041218073646837085,
          0.040205022903963814,
          0.03997347018070609,
          0.033451128702637306,
          0.029962460910125537,
          0.02915311540903573
         ]
        },
        {
         "hovertext": "<b>Topic 106</b>:inform_of_payment_agetn_havr_awnn",
         "line": {
          "color": "black",
          "width": 1.5
         },
         "mode": "lines+lines",
         "name": "",
         "opacity": 0.1,
         "type": "scatter",
         "x": [
          1,
          2,
          3,
          4,
          5,
          6,
          7,
          8,
          9,
          10
         ],
         "y": [
          0.060885024889026286,
          0.034272196266503935,
          0.028810893297744406,
          0.025176424301144754,
          0.025176424301144754,
          0.022641213607667944,
          0.021384893103792983,
          0.021384893103792983,
          0.017585870111744208,
          0.01695103086567458
         ]
        },
        {
         "hovertext": "<b>Topic 107</b>:card_error_message_attempt_pay_wh",
         "line": {
          "color": "black",
          "width": 1.5
         },
         "mode": "lines+lines",
         "name": "",
         "opacity": 0.1,
         "type": "scatter",
         "x": [
          1,
          2,
          3,
          4,
          5,
          6,
          7,
          8,
          9,
          10
         ],
         "y": [
          0.05309559765988001,
          0.04457264281337808,
          0.03958626710793563,
          0.033600679019085526,
          0.030372640347059224,
          0.02742887260189467,
          0.025384145397946485,
          0.023531815849059362,
          0.02246131971964875,
          0.02246131971964875
         ]
        },
        {
         "hovertext": "<b>Topic 108</b>:file_complaint_ask_lodge_mje_agen",
         "line": {
          "color": "black",
          "width": 1.5
         },
         "mode": "lines+lines",
         "name": "",
         "opacity": 0.1,
         "type": "scatter",
         "x": [
          1,
          2,
          3,
          4,
          5,
          6,
          7,
          8,
          9,
          10
         ],
         "y": [
          0.09845454558296632,
          0.0958172685124679,
          0.035621657753587964,
          0.03410059067548387,
          0.03257423618110198,
          0.03213042751145204,
          0.027377345017101744,
          0.025714503070057092,
          0.02300084452805014,
          0.01857348029936267
         ]
        },
        {
         "hovertext": "<b>Topic 109</b>:client_email_of_service_the_yoush",
         "line": {
          "color": "black",
          "width": 1.5
         },
         "mode": "lines+lines",
         "name": "",
         "opacity": 0.1,
         "type": "scatter",
         "x": [
          1,
          2,
          3,
          4,
          5,
          6,
          7,
          8,
          9,
          10
         ],
         "y": [
          0.08520739094976737,
          0.05835674131126304,
          0.03666145794908307,
          0.03426978464409098,
          0.03347860127723522,
          0.028053729935561298,
          0.025236257025617912,
          0.019153753460688774,
          0.013646755163209612,
          0.011726590513920374
         ]
        },
        {
         "hovertext": "<b>Topic 110</b>:leave_review_tol_rview_ho_for_ser",
         "line": {
          "color": "black",
          "width": 1.5
         },
         "mode": "lines+lines",
         "name": "",
         "opacity": 0.1,
         "type": "scatter",
         "x": [
          1,
          2,
          3,
          4,
          5,
          6,
          7,
          8,
          9,
          10
         ],
         "y": [
          0.4658194698851152,
          0.37192562270054513,
          0.05374827230342043,
          0.05374827230342043,
          0.04580746225272459,
          0.04559180741936377,
          0.030420642165950324,
          0.01786486162035871,
          0.014537612797173374,
          0.00958081714322538
         ]
        },
        {
         "hovertext": "<b>Topic 111</b>:package_know_where_tfackmy_wasn_c",
         "line": {
          "color": "black",
          "width": 1.5
         },
         "mode": "lines+lines",
         "name": "",
         "opacity": 0.1,
         "type": "scatter",
         "x": [
          1,
          2,
          3,
          4,
          5,
          6,
          7,
          8,
          9,
          10
         ],
         "y": [
          0.16145886266163217,
          0.08646547676738603,
          0.041816423881282115,
          0.030412229354922642,
          0.030412229354922642,
          0.030412229354922642,
          0.02734978457917411,
          0.024291903764472902,
          0.02243036095237978,
          0.020343009057991503
         ]
        },
        {
         "hovertext": "<b>Topic 112</b>:delivery_ask_whee_otions_howw_age",
         "line": {
          "color": "black",
          "width": 1.5
         },
         "mode": "lines+lines",
         "name": "",
         "opacity": 0.1,
         "type": "scatter",
         "x": [
          1,
          2,
          3,
          4,
          5,
          6,
          7,
          8,
          9,
          10
         ],
         "y": [
          0.09694476106320819,
          0.03187166391559042,
          0.030412229354922642,
          0.030412229354922642,
          0.030412229354922642,
          0.02999787701290434,
          0.02966732050878516,
          0.028715945631867922,
          0.028667491647935566,
          0.02054383696724273
         ]
        },
        {
         "hovertext": "<b>Topic 113</b>:bill_check_ask_agent_hw_hwere_sak",
         "line": {
          "color": "black",
          "width": 1.5
         },
         "mode": "lines+lines",
         "name": "",
         "opacity": 0.1,
         "type": "scatter",
         "x": [
          1,
          2,
          3,
          4,
          5,
          6,
          7,
          8,
          9,
          10
         ],
         "y": [
          0.06024830903879593,
          0.05941531961163041,
          0.030218518876490377,
          0.029734737740861314,
          0.02533605174828275,
          0.023104641048523368,
          0.022309504381856447,
          0.01983099469218584,
          0.01773822439845972,
          0.017188615540199664
         ]
        },
        {
         "hovertext": "<b>Topic 114</b>:uptodate_stay_newsletter_keep_the",
         "line": {
          "color": "black",
          "width": 1.5
         },
         "mode": "lines+lines",
         "name": "",
         "opacity": 0.1,
         "type": "scatter",
         "x": [
          1,
          2,
          3,
          4,
          5,
          6,
          7,
          8,
          9,
          10
         ],
         "y": [
          0.34104258897693945,
          0.22129126042950706,
          0.16517332226983758,
          0.14521693887870135,
          0.1300239277528247,
          0.038374067467033084,
          0.030145455413212795,
          0.030145455413212795,
          0.028569002557645086,
          0.02533605174828275
         ]
        },
        {
         "hovertext": "<b>Topic 115</b>:request_invoice_invpice_som_some_",
         "line": {
          "color": "black",
          "width": 1.5
         },
         "mode": "lines+lines",
         "name": "",
         "opacity": 0.1,
         "type": "scatter",
         "x": [
          1,
          2,
          3,
          4,
          5,
          6,
          7,
          8,
          9,
          10
         ],
         "y": [
          0.1252191061560889,
          0.07120850268763745,
          0.041156669665943224,
          0.041156669665943224,
          0.03702886260601939,
          0.03701228332271467,
          0.0351039480528669,
          0.034590537716218374,
          0.027530060162311857,
          0.017518102623431498
         ]
        },
        {
         "hovertext": "<b>Topic 116</b>:consumer_like_complaint_submit_lo",
         "line": {
          "color": "black",
          "width": 1.5
         },
         "mode": "lines+lines",
         "name": "",
         "opacity": 0.1,
         "type": "scatter",
         "x": [
          1,
          2,
          3,
          4,
          5,
          6,
          7,
          8,
          9,
          10
         ],
         "y": [
          0.11445169989832078,
          0.08343297986085724,
          0.07283853447540832,
          0.04541678285324291,
          0.03245965999636284,
          0.030249097191330305,
          0.03018277415312331,
          0.027891929535453667,
          0.019790533783242064,
          0.01773044343958839
         ]
        },
        {
         "hovertext": "<b>Topic 117</b>:about_something_bill_obtain_some_",
         "line": {
          "color": "black",
          "width": 1.5
         },
         "mode": "lines+lines",
         "name": "",
         "opacity": 0.1,
         "type": "scatter",
         "x": [
          1,
          2,
          3,
          4,
          5,
          6,
          7,
          8,
          9,
          10
         ],
         "y": [
          0.0844957268801883,
          0.07383263094858741,
          0.07345783134141964,
          0.05509768398748409,
          0.051964874413489404,
          0.03675488681397068,
          0.03675488681397068,
          0.03305375034702326,
          0.030891014965820682,
          0.02786623564980997
         ]
        },
        {
         "hovertext": "<b>Topic 118</b>:check_order_wanty_kknow_mky_ca_ho",
         "line": {
          "color": "black",
          "width": 1.5
         },
         "mode": "lines+lines",
         "name": "",
         "opacity": 0.1,
         "type": "scatter",
         "x": [
          1,
          2,
          3,
          4,
          5,
          6,
          7,
          8,
          9,
          10
         ],
         "y": [
          0.08210116891788931,
          0.06196370130933456,
          0.041655538389166774,
          0.041655538389166774,
          0.041655538389166774,
          0.029899670638818942,
          0.027863757861248967,
          0.023686300302338474,
          0.02279628419308878,
          0.021221487003008712
         ]
        },
        {
         "hovertext": "<b>Topic 119</b>:their_option_payment_optiond_assk",
         "line": {
          "color": "black",
          "width": 1.5
         },
         "mode": "lines+lines",
         "name": "",
         "opacity": 0.1,
         "type": "scatter",
         "x": [
          1,
          2,
          3,
          4,
          5,
          6,
          7,
          8,
          9,
          10
         ],
         "y": [
          0.17828043066359395,
          0.10612446754625347,
          0.030491317206388178,
          0.0302782547762666,
          0.0302782547762666,
          0.0302782547762666,
          0.02897202010024748,
          0.02856721787170281,
          0.026268922361224988,
          0.024184890972558926
         ]
        },
        {
         "hovertext": "<b>Topic 120</b>:bil_bils_ibll_abill_bklls_bipls_b",
         "line": {
          "color": "black",
          "width": 1.5
         },
         "mode": "lines+lines",
         "name": "",
         "opacity": 0.1,
         "type": "scatter",
         "x": [
          1,
          2,
          3,
          4,
          5,
          6,
          7,
          8,
          9,
          10
         ],
         "y": [
          0.25207386560464146,
          0.16029110221228834,
          0.12649532405711975,
          0.0902343257648664,
          0.05016907908184319,
          0.05016907908184319,
          0.05016907908184319,
          0.05016907908184319,
          0.05016907908184319,
          0.05016907908184319
         ]
        },
        {
         "hovertext": "<b>Topic 121</b>:invoice_obtain_where_telo_gt_know",
         "line": {
          "color": "black",
          "width": 1.5
         },
         "mode": "lines+lines",
         "name": "",
         "opacity": 0.1,
         "type": "scatter",
         "x": [
          1,
          2,
          3,
          4,
          5,
          6,
          7,
          8,
          9,
          10
         ],
         "y": [
          0.08279115154252532,
          0.059282318214381624,
          0.05721278468292093,
          0.043501036925395684,
          0.036560884801319415,
          0.03298092447161053,
          0.024580849657505142,
          0.02258560856879727,
          0.01920239392076944,
          0.018515969228563675
         ]
        },
        {
         "hovertext": "<b>Topic 122</b>:create_one_createw_opoen_fukcing_",
         "line": {
          "color": "black",
          "width": 1.5
         },
         "mode": "lines+lines",
         "name": "",
         "opacity": 0.1,
         "type": "scatter",
         "x": [
          1,
          2,
          3,
          4,
          5,
          6,
          7,
          8,
          9,
          10
         ],
         "y": [
          0.09297181436383001,
          0.07995212416616505,
          0.043227445498191935,
          0.043227445498191935,
          0.038874536571656286,
          0.03691440180004499,
          0.035010500015517906,
          0.031990987415492264,
          0.01756328777627739,
          0.017159805466444897
         ]
        },
        {
         "hovertext": "<b>Topic 123</b>:soon_expect_ticket_arrive_sono_kn",
         "line": {
          "color": "black",
          "width": 1.5
         },
         "mode": "lines+lines",
         "name": "",
         "opacity": 0.1,
         "type": "scatter",
         "x": [
          1,
          2,
          3,
          4,
          5,
          6,
          7,
          8,
          9,
          10
         ],
         "y": [
          0.3760188481818718,
          0.3628718905900644,
          0.15663715861607805,
          0.15276028088609075,
          0.06181051314893349,
          0.030905256574466744,
          0.022987600235530398,
          0.018806934459298246,
          0.016284331457857702,
          0.013181642860460141
         ]
        },
        {
         "hovertext": "<b>Topic 124</b>:notify_payment_id_issue_wih_wiht_",
         "line": {
          "color": "black",
          "width": 1.5
         },
         "mode": "lines+lines",
         "name": "",
         "opacity": 0.1,
         "type": "scatter",
         "x": [
          1,
          2,
          3,
          4,
          5,
          6,
          7,
          8,
          9,
          10
         ],
         "y": [
          0.07931615844444288,
          0.039326869351421115,
          0.033428930483718346,
          0.0331708853257698,
          0.032821703401184475,
          0.031193012788470885,
          0.027642404438141498,
          0.021930012493071173,
          0.019055966382879992,
          0.016574515022388034
         ]
        },
        {
         "hovertext": "<b>Topic 125</b>:check_order_ploease_possible_agne",
         "line": {
          "color": "black",
          "width": 1.5
         },
         "mode": "lines+lines",
         "name": "",
         "opacity": 0.1,
         "type": "scatter",
         "x": [
          1,
          2,
          3,
          4,
          5,
          6,
          7,
          8,
          9,
          10
         ],
         "y": [
          0.09189862570827571,
          0.06935807454606366,
          0.04874584279583346,
          0.04642786706717092,
          0.037360696163569705,
          0.02286114657610482,
          0.01869736575951793,
          0.016314947850207356,
          0.014820279321748028,
          0.013859005496049107
         ]
        },
        {
         "hovertext": "<b>Topic 126</b>:notify_make_payment_anb_havean_ma",
         "line": {
          "color": "black",
          "width": 1.5
         },
         "mode": "lines+lines",
         "name": "",
         "opacity": 0.1,
         "type": "scatter",
         "x": [
          1,
          2,
          3,
          4,
          5,
          6,
          7,
          8,
          9,
          10
         ],
         "y": [
          0.08891492921160477,
          0.053147821382593136,
          0.04408617201178418,
          0.043778113593710304,
          0.043778113593710304,
          0.03936975359804681,
          0.03936975359804681,
          0.03718519628876105,
          0.027888897216570785,
          0.027095235720859895
         ]
        },
        {
         "hovertext": "<b>Topic 127</b>:track_reimbursement_reimbursemenn",
         "line": {
          "color": "black",
          "width": 1.5
         },
         "mode": "lines+lines",
         "name": "",
         "opacity": 0.1,
         "type": "scatter",
         "x": [
          1,
          2,
          3,
          4,
          5,
          6,
          7,
          8,
          9,
          10
         ],
         "y": [
          0.15758905262874978,
          0.10489778686098834,
          0.045517641286175616,
          0.045517641286175616,
          0.028612982202472055,
          0.01666553281575334,
          0.013605689313518224,
          0.012987840541135604,
          0.012780404631723597,
          0.009397561692608159
         ]
        },
        {
         "hovertext": "<b>Topic 128</b>:sign_up_signing_find_while_issuea",
         "line": {
          "color": "black",
          "width": 1.5
         },
         "mode": "lines+lines",
         "name": "",
         "opacity": 0.1,
         "type": "scatter",
         "x": [
          1,
          2,
          3,
          4,
          5,
          6,
          7,
          8,
          9,
          10
         ],
         "y": [
          0.6000356043376502,
          0.37200860442214057,
          0.1444154949652117,
          0.09576715586368303,
          0.08753863388741094,
          0.05727636528510431,
          0.05727636528510431,
          0.04054219317594086,
          0.03692684948621623,
          0.036487973858346776
         ]
        },
        {
         "hovertext": "<b>Topic 129</b>:arrive_go_will_ticket_when_gtoiin",
         "line": {
          "color": "black",
          "width": 1.5
         },
         "mode": "lines+lines",
         "name": "",
         "opacity": 0.1,
         "type": "scatter",
         "x": [
          1,
          2,
          3,
          4,
          5,
          6,
          7,
          8,
          9,
          10
         ],
         "y": [
          0.3086066280527086,
          0.2076919983733844,
          0.16097115495392345,
          0.15821935213745256,
          0.04440865087925803,
          0.03636594621276464,
          0.026535357261796465,
          0.02478405675294347,
          0.020678516136962158,
          0.014629903536039914
         ]
        },
        {
         "hovertext": "<b>Topic 130</b>:credit_card_if_car_credot_with_te",
         "line": {
          "color": "black",
          "width": 1.5
         },
         "mode": "lines+lines",
         "name": "",
         "opacity": 0.1,
         "type": "scatter",
         "x": [
          1,
          2,
          3,
          4,
          5,
          6,
          7,
          8,
          9,
          10
         ],
         "y": [
          0.25396193094431835,
          0.0774843887536502,
          0.04438446357632743,
          0.041404601410918784,
          0.041404601410918784,
          0.03673439302723854,
          0.03173408529556222,
          0.03139148232840039,
          0.025587194656115975,
          0.024342660938187856
         ]
        },
        {
         "hovertext": "<b>Topic 131</b>:online_for_order_pay_ordder_onfor",
         "line": {
          "color": "black",
          "width": 1.5
         },
         "mode": "lines+lines",
         "name": "",
         "opacity": 0.1,
         "type": "scatter",
         "x": [
          1,
          2,
          3,
          4,
          5,
          6,
          7,
          8,
          9,
          10
         ],
         "y": [
          0.04462140537068712,
          0.04064385932733979,
          0.0327361313792996,
          0.03132466446309445,
          0.026640169900048517,
          0.026640169900048517,
          0.023957563236020732,
          0.023957563236020732,
          0.022389999219412666,
          0.021469098538497808
         ]
        },
        {
         "hovertext": "<b>Topic 132</b>:shipment_rtack_check_posaible_yyo",
         "line": {
          "color": "black",
          "width": 1.5
         },
         "mode": "lines+lines",
         "name": "",
         "opacity": 0.1,
         "type": "scatter",
         "x": [
          1,
          2,
          3,
          4,
          5,
          6,
          7,
          8,
          9,
          10
         ],
         "y": [
          0.21379510233976548,
          0.0852558802054255,
          0.07311558371398237,
          0.04740112989112081,
          0.04740112989112081,
          0.04262794010271275,
          0.03810941872588113,
          0.02594059925420448,
          0.02257354916024517,
          0.016528705781141243
         ]
        },
        {
         "hovertext": "<b>Topic 133</b>:informed_stay_keep_newsletter_the",
         "line": {
          "color": "black",
          "width": 1.5
         },
         "mode": "lines+lines",
         "name": "",
         "opacity": 0.1,
         "type": "scatter",
         "x": [
          1,
          2,
          3,
          4,
          5,
          6,
          7,
          8,
          9,
          10
         ],
         "y": [
          0.24946072177733303,
          0.18576733202477028,
          0.17066733022857689,
          0.16036101122208346,
          0.12006627791019306,
          0.03560480486631936,
          0.03542867955779648,
          0.029776390714476637,
          0.0274170916201306,
          0.023503158805155442
         ]
        },
        {
         "hovertext": "<b>Topic 134</b>:view_bill_whwre_receiove_my_help_",
         "line": {
          "color": "black",
          "width": 1.5
         },
         "mode": "lines+lines",
         "name": "",
         "opacity": 0.1,
         "type": "scatter",
         "x": [
          1,
          2,
          3,
          4,
          5,
          6,
          7,
          8,
          9,
          10
         ],
         "y": [
          0.14944975879694417,
          0.10477966789355814,
          0.06029091082642559,
          0.06029091082642559,
          0.021023353844434038,
          0.01932971879773541,
          0.011333910089564117,
          0.010998851787335118,
          0.009031314687121653,
          0.00829230410950293
         ]
        },
        {
         "hovertext": "<b>Topic 135</b>:refund_one_rebund_ike_ened_reund_",
         "line": {
          "color": "black",
          "width": 1.5
         },
         "mode": "lines+lines",
         "name": "",
         "opacity": 0.1,
         "type": "scatter",
         "x": [
          1,
          2,
          3,
          4,
          5,
          6,
          7,
          8,
          9,
          10
         ],
         "y": [
          0.13531955567249335,
          0.11059311680676952,
          0.06608811379050498,
          0.06608811379050498,
          0.05943318572012836,
          0.05943318572012836,
          0.05554442114046604,
          0.05403811314157094,
          0.05245382289648875,
          0.05065248229868585
         ]
        },
        {
         "hovertext": "<b>Topic 136</b>:purchase_change_purtchase_tell_ho",
         "line": {
          "color": "black",
          "width": 1.5
         },
         "mode": "lines+lines",
         "name": "",
         "opacity": 0.1,
         "type": "scatter",
         "x": [
          1,
          2,
          3,
          4,
          5,
          6,
          7,
          8,
          9,
          10
         ],
         "y": [
          0.08578707429577927,
          0.080544847830747,
          0.04043037549536775,
          0.029501073661644308,
          0.020897818395936726,
          0.016882657384736512,
          0.015200773531885993,
          0.013393113066777684,
          0.011103204527108388,
          0.010522863678764614
         ]
        },
        {
         "hovertext": "<b>Topic 137</b>:notify_propblem_payment_problem_i",
         "line": {
          "color": "black",
          "width": 1.5
         },
         "mode": "lines+lines",
         "name": "",
         "opacity": 0.1,
         "type": "scatter",
         "x": [
          1,
          2,
          3,
          4,
          5,
          6,
          7,
          8,
          9,
          10
         ],
         "y": [
          0.12302098044444201,
          0.07013432483890324,
          0.060996776953224585,
          0.04467915166328177,
          0.04467915166328177,
          0.02838165971791538,
          0.017182716069726912,
          0.015555890924799995,
          0.006113934536391532,
          0.004702468993727115
         ]
        },
        {
         "hovertext": "<b>Topic 138</b>:client_talk_sdpeak_couldspeak_mak",
         "line": {
          "color": "black",
          "width": 1.5
         },
         "mode": "lines+lines",
         "name": "",
         "opacity": 0.1,
         "type": "scatter",
         "x": [
          1,
          2,
          3,
          4,
          5,
          6,
          7,
          8,
          9,
          10
         ],
         "y": [
          0.08607647675155536,
          0.04290636127344417,
          0.035797728303190196,
          0.035797728303190196,
          0.035797728303190196,
          0.0327972548351652,
          0.03099115146140064,
          0.02916913131644276,
          0.025695029455235028,
          0.02119437557727362
         ]
        },
        {
         "hovertext": "<b>Topic 139</b>:register_registering_odl_wher_wat",
         "line": {
          "color": "black",
          "width": 1.5
         },
         "mode": "lines+lines",
         "name": "",
         "opacity": 0.1,
         "type": "scatter",
         "x": [
          1,
          2,
          3,
          4,
          5,
          6,
          7,
          8,
          9,
          10
         ],
         "y": [
          0.2233811774431882,
          0.10010795114668176,
          0.09546060880850718,
          0.08584793492907429,
          0.07064676387587875,
          0.022827323181569464,
          0.019128367560259006,
          0.013129481506712974,
          0.011916317989952184,
          0.00953674272888114
         ]
        },
        {
         "hovertext": "<b>Topic 140</b>:bill_check_fuckingbill_checkl_ols",
         "line": {
          "color": "black",
          "width": 1.5
         },
         "mode": "lines+lines",
         "name": "",
         "opacity": 0.1,
         "type": "scatter",
         "x": [
          1,
          2,
          3,
          4,
          5,
          6,
          7,
          8,
          9,
          10
         ],
         "y": [
          0.09954068449888023,
          0.09816444109747632,
          0.06738395915894625,
          0.06738395915894625,
          0.060598542302875966,
          0.024304278782446734,
          0.021147020631754238,
          0.013901803948284325,
          0.01273225603244688,
          0.01266731127657166
         ]
        },
        {
         "hovertext": "<b>Topic 141</b>:report_maiing_paiyng_payment_prob",
         "line": {
          "color": "black",
          "width": 1.5
         },
         "mode": "lines+lines",
         "name": "",
         "opacity": 0.1,
         "type": "scatter",
         "x": [
          1,
          2,
          3,
          4,
          5,
          6,
          7,
          8,
          9,
          10
         ],
         "y": [
          0.12878788528590043,
          0.07311876419375019,
          0.061453402112856034,
          0.05689844927439651,
          0.04658039215959163,
          0.04658039215959163,
          0.02113527851334124,
          0.016971058872899368,
          0.01621784373011063,
          0.006374101963472022
         ]
        },
        {
         "hovertext": "<b>Topic 142</b>:available_any_there_person_if_iss",
         "line": {
          "color": "black",
          "width": 1.5
         },
         "mode": "lines+lines",
         "name": "",
         "opacity": 0.1,
         "type": "scatter",
         "x": [
          1,
          2,
          3,
          4,
          5,
          6,
          7,
          8,
          9,
          10
         ],
         "y": [
          0.42876065577507394,
          0.33599867243474135,
          0.2016697654941771,
          0.06479278215424766,
          0.046988654041265,
          0.04675621655926883,
          0.04675621655926883,
          0.04675621655926883,
          0.04675621655926883,
          0.044321894794903643
         ]
        },
        {
         "hovertext": "<b>Topic 143</b>:through_go_fail_will_dop_payment_",
         "line": {
          "color": "black",
          "width": 1.5
         },
         "mode": "lines+lines",
         "name": "",
         "opacity": 0.1,
         "type": "scatter",
         "x": [
          1,
          2,
          3,
          4,
          5,
          6,
          7,
          8,
          9,
          10
         ],
         "y": [
          0.3503157010194552,
          0.28933995842188936,
          0.20621217563770014,
          0.15988351201504558,
          0.04644029617711161,
          0.0382639809905719,
          0.028303000909744306,
          0.024939295883886374,
          0.016552077776809112,
          0.015633889953814734
         ]
        },
        {
         "hovertext": "<b>Topic 144</b>:order_change_modify_knolw_possibe",
         "line": {
          "color": "black",
          "width": 1.5
         },
         "mode": "lines+lines",
         "name": "",
         "opacity": 0.1,
         "type": "scatter",
         "x": [
          1,
          2,
          3,
          4,
          5,
          6,
          7,
          8,
          9,
          10
         ],
         "y": [
          0.05971193799114978,
          0.059159020205615434,
          0.0569962074926862,
          0.0512922674194964,
          0.0512922674194964,
          0.04467428749893404,
          0.02442660170325037,
          0.024304972325160747,
          0.02183226222472433,
          0.01687114473812825
         ]
        },
        {
         "hovertext": "<b>Topic 145</b>:track_delivery_where_tell_know_my",
         "line": {
          "color": "black",
          "width": 1.5
         },
         "mode": "lines+lines",
         "name": "",
         "opacity": 0.1,
         "type": "scatter",
         "x": [
          1,
          2,
          3,
          4,
          5,
          6,
          7,
          8,
          9,
          10
         ],
         "y": [
          0.12725105319219904,
          0.11206913555133019,
          0.04834021379626475,
          0.027315808945966955,
          0.017029366230439425,
          0.014098013754502824,
          0.014074790307301846,
          0.01009382229737126,
          0.007530368170908871,
          0.007307544221364317
         ]
        },
        {
         "hovertext": "<b>Topic 146</b>:invoice_check_lease_ask_agent_ica",
         "line": {
          "color": "black",
          "width": 1.5
         },
         "mode": "lines+lines",
         "name": "",
         "opacity": 0.1,
         "type": "scatter",
         "x": [
          1,
          2,
          3,
          4,
          5,
          6,
          7,
          8,
          9,
          10
         ],
         "y": [
          0.06258852604650239,
          0.06199859437735347,
          0.03614649891750496,
          0.03296565695617132,
          0.03102755242524659,
          0.030806188064697825,
          0.02379719363062301,
          0.019223008995005862,
          0.017188615540199664,
          0.016555676105229074
         ]
        },
        {
         "hovertext": "<b>Topic 147</b>:track_refund_my_would_where_shoul",
         "line": {
          "color": "black",
          "width": 1.5
         },
         "mode": "lines+lines",
         "name": "",
         "opacity": 0.1,
         "type": "scatter",
         "x": [
          1,
          2,
          3,
          4,
          5,
          6,
          7,
          8,
          9,
          10
         ],
         "y": [
          0.17184838491843699,
          0.12421857446986928,
          0.01903890642547344,
          0.013261979584895625,
          0.011520331325278048,
          0.01081222295871299,
          0.010297139920288958,
          0.009622148358241763,
          0.009539359466385313,
          0.009017949062571322
         ]
        },
        {
         "hovertext": "<b>Topic 148</b>:newsletter_receive_about_informma",
         "line": {
          "color": "black",
          "width": 1.5
         },
         "mode": "lines+lines",
         "name": "",
         "opacity": 0.1,
         "type": "scatter",
         "x": [
          1,
          2,
          3,
          4,
          5,
          6,
          7,
          8,
          9,
          10
         ],
         "y": [
          0.20317733961215184,
          0.16290861101727996,
          0.05515953988973257,
          0.05016907908184319,
          0.05016907908184319,
          0.0380589586201845,
          0.03419114398763734,
          0.031208519395916123,
          0.0257927843804181,
          0.025444958817460714
         ]
        },
        {
         "hovertext": "<b>Topic 149</b>:notify_online_for_order_aying_pay",
         "line": {
          "color": "black",
          "width": 1.5
         },
         "mode": "lines+lines",
         "name": "",
         "opacity": 0.1,
         "type": "scatter",
         "x": [
          1,
          2,
          3,
          4,
          5,
          6,
          7,
          8,
          9,
          10
         ],
         "y": [
          0.04439093641335075,
          0.04026944114317566,
          0.03667982860282147,
          0.031098261258308002,
          0.02828462483215028,
          0.026606628580998746,
          0.023772097936660363,
          0.022592470167781382,
          0.022592470167781382,
          0.019649036506330424
         ]
        },
        {
         "hovertext": "<b>Topic 150</b>:tracking_track_order_possible_can",
         "line": {
          "color": "black",
          "width": 1.5
         },
         "mode": "lines+lines",
         "name": "",
         "opacity": 0.1,
         "type": "scatter",
         "x": [
          1,
          2,
          3,
          4,
          5,
          6,
          7,
          8,
          9,
          10
         ],
         "y": [
          0.14198198924407437,
          0.13054202870579037,
          0.06131340759244499,
          0.05643387290061293,
          0.04979844653972817,
          0.04732732974802479,
          0.03518372605043771,
          0.027788117820954996,
          0.01756174989246257,
          0.01684586012881831
         ]
        },
        {
         "hovertext": "<b>Topic 151</b>:refund_refumd_postopned_cincert_o",
         "line": {
          "color": "black",
          "width": 1.5
         },
         "mode": "lines+lines",
         "name": "",
         "opacity": 0.1,
         "type": "scatter",
         "x": [
          1,
          2,
          3,
          4,
          5,
          6,
          7,
          8,
          9,
          10
         ],
         "y": [
          0.15255537983674047,
          0.08381907114893314,
          0.08381907114893314,
          0.08381907114893314,
          0.08120572890047775,
          0.05711345291385546,
          0.05470204040993564,
          0.044351199847437635,
          0.03461053208741054,
          0.03402207272769414
         ]
        },
        {
         "hovertext": "<b>Topic 152</b>:bill_check_tocheck_where_my_how_w",
         "line": {
          "color": "black",
          "width": 1.5
         },
         "mode": "lines+lines",
         "name": "",
         "opacity": 0.1,
         "type": "scatter",
         "x": [
          1,
          2,
          3,
          4,
          5,
          6,
          7,
          8,
          9,
          10
         ],
         "y": [
          0.12087083117721173,
          0.11218793268283009,
          0.08182337897872044,
          0.02934941551916074,
          0.02425194032768641,
          0.014927013139954804,
          0.010213986848530442,
          0.006533366574717552,
          0.00527539528456528,
          0.0040871754552347745
         ]
        },
        {
         "hovertext": "<b>Topic 153</b>:request_invoice_some_possible_tok",
         "line": {
          "color": "black",
          "width": 1.5
         },
         "mode": "lines+lines",
         "name": "",
         "opacity": 0.1,
         "type": "scatter",
         "x": [
          1,
          2,
          3,
          4,
          5,
          6,
          7,
          8,
          9,
          10
         ],
         "y": [
          0.13346049128403253,
          0.08727941246851711,
          0.07294152096572366,
          0.06005806657312936,
          0.056706892797186687,
          0.03802201180219792,
          0.02390360580969938,
          0.015336949610029151,
          0.012196326712939914,
          0.007902542814741955
         ]
        },
        {
         "hovertext": "<b>Topic 154</b>:option_your_accept_optins_about_p",
         "line": {
          "color": "black",
          "width": 1.5
         },
         "mode": "lines+lines",
         "name": "",
         "opacity": 0.1,
         "type": "scatter",
         "x": [
          1,
          2,
          3,
          4,
          5,
          6,
          7,
          8,
          9,
          10
         ],
         "y": [
          0.14833900328201688,
          0.12740367694243057,
          0.0827748713880374,
          0.05925141236390102,
          0.05330071526962403,
          0.04732732974802479,
          0.04732732974802479,
          0.03797077040826866,
          0.03595915400665708,
          0.01842916878120909
         ]
        },
        {
         "hovertext": "<b>Topic 155</b>:inform_wherecan_issud_make_where_",
         "line": {
          "color": "black",
          "width": 1.5
         },
         "mode": "lines+lines",
         "name": "",
         "opacity": 0.1,
         "type": "scatter",
         "x": [
          1,
          2,
          3,
          4,
          5,
          6,
          7,
          8,
          9,
          10
         ],
         "y": [
          0.0909216371676126,
          0.05874499003600443,
          0.05874499003600443,
          0.054337536553957656,
          0.052678438111314146,
          0.05117981309131256,
          0.04302426732463165,
          0.033265389272566864,
          0.029107215613496006,
          0.00983080190974033
         ]
        },
        {
         "hovertext": "<b>Topic 156</b>:decline_transfer_transaction_be_c",
         "line": {
          "color": "black",
          "width": 1.5
         },
         "mode": "lines+lines",
         "name": "",
         "opacity": 0.1,
         "type": "scatter",
         "x": [
          1,
          2,
          3,
          4,
          5,
          6,
          7,
          8,
          9,
          10
         ],
         "y": [
          0.5879976767607974,
          0.2724946606641037,
          0.23517223924389857,
          0.032917282956089804,
          0.030221824560869207,
          0.020139471080836812,
          0.018226990408986225,
          0.01549430165065567,
          0.013283320229513017,
          0.007378084630385615
         ]
        },
        {
         "hovertext": "<b>Topic 157</b>:see_bill_nkow_where_tell_want_it_",
         "line": {
          "color": "black",
          "width": 1.5
         },
         "mode": "lines+lines",
         "name": "",
         "opacity": 0.1,
         "type": "scatter",
         "x": [
          1,
          2,
          3,
          4,
          5,
          6,
          7,
          8,
          9,
          10
         ],
         "y": [
          0.07668894565567731,
          0.07350696701455772,
          0.0422305403905452,
          0.025285650293430793,
          0.022504024139331235,
          0.019799420660228242,
          0.012040584401663359,
          0.011595461860861751,
          0.010915629350644862,
          0.010553899851466816
         ]
        },
        {
         "hovertext": "<b>Topic 158</b>:master_card_if_with_pay_make_paym",
         "line": {
          "color": "black",
          "width": 1.5
         },
         "mode": "lines+lines",
         "name": "",
         "opacity": 0.1,
         "type": "scatter",
         "x": [
          1,
          2,
          3,
          4,
          5,
          6,
          7,
          8,
          9,
          10
         ],
         "y": [
          0.388657780266755,
          0.07079413021317335,
          0.04213623094419319,
          0.03188449277135476,
          0.02112879328491077,
          0.020776116917689692,
          0.01645045515353563,
          0.013657904472983477,
          0.013322959071608001,
          0.01277202467282957
         ]
        },
        {
         "hovertext": "<b>Topic 159</b>:edit_shipping_address_my_would_mo",
         "line": {
          "color": "black",
          "width": 1.5
         },
         "mode": "lines+lines",
         "name": "",
         "opacity": 0.1,
         "type": "scatter",
         "x": [
          1,
          2,
          3,
          4,
          5,
          6,
          7,
          8,
          9,
          10
         ],
         "y": [
          0.40219086982838526,
          0.25555137002412853,
          0.10610148515449025,
          0.016967520978870658,
          0.012557803677733025,
          0.009655489006346335,
          0.00911123782594574,
          0.008539119908806474,
          0.00731279184604592,
          0.007272421544570803
         ]
        },
        {
         "hovertext": "<b>Topic 160</b>:track_order_trackmy_where_tell_kn",
         "line": {
          "color": "black",
          "width": 1.5
         },
         "mode": "lines+lines",
         "name": "",
         "opacity": 0.1,
         "type": "scatter",
         "x": [
          1,
          2,
          3,
          4,
          5,
          6,
          7,
          8,
          9,
          10
         ],
         "y": [
          0.14357972815933961,
          0.0629411971745453,
          0.060824458709845285,
          0.05817937235656642,
          0.025889585293035932,
          0.02305746047130294,
          0.01590705091769124,
          0.013339911875327678,
          0.008627372111395255,
          0.006677910083007763
         ]
        },
        {
         "hovertext": "<b>Topic 161</b>:client_contact_information_servic",
         "line": {
          "color": "black",
          "width": 1.5
         },
         "mode": "lines+lines",
         "name": "",
         "opacity": 0.1,
         "type": "scatter",
         "x": [
          1,
          2,
          3,
          4,
          5,
          6,
          7,
          8,
          9,
          10
         ],
         "y": [
          0.09870359708129081,
          0.0799710149645134,
          0.055468907776226345,
          0.039697859280389075,
          0.03607494325576787,
          0.023465456309869997,
          0.01641004051889773,
          0.01592599445664612,
          0.013908963983769335,
          0.012174565185805711
         ]
        },
        {
         "hovertext": "<b>Topic 162</b>:track_purchase_pyrchase_my_where_",
         "line": {
          "color": "black",
          "width": 1.5
         },
         "mode": "lines+lines",
         "name": "",
         "opacity": 0.1,
         "type": "scatter",
         "x": [
          1,
          2,
          3,
          4,
          5,
          6,
          7,
          8,
          9,
          10
         ],
         "y": [
          0.18027232535561527,
          0.12659550894342428,
          0.07159545660638039,
          0.019972186152212336,
          0.012840369289632824,
          0.010724686190956964,
          0.008607765402116552,
          0.008505928857526903,
          0.008344649887770998,
          0.006530568248730227
         ]
        },
        {
         "hovertext": "<b>Topic 163</b>:purchase_tp_make_id_where_like_he",
         "line": {
          "color": "black",
          "width": 1.5
         },
         "mode": "lines+lines",
         "name": "",
         "opacity": 0.1,
         "type": "scatter",
         "x": [
          1,
          2,
          3,
          4,
          5,
          6,
          7,
          8,
          9,
          10
         ],
         "y": [
          0.1687940119245657,
          0.09546060880850718,
          0.08277984084391987,
          0.02723838780154828,
          0.022827323181569464,
          0.013401674301321272,
          0.011477020536155402,
          0.009533054391961745,
          0.008707424331640302,
          0.008034082337377015
         ]
        },
        {
         "hovertext": "<b>Topic 164</b>:refund_obtani_should_obtain_what_",
         "line": {
          "color": "black",
          "width": 1.5
         },
         "mode": "lines+lines",
         "name": "",
         "opacity": 0.1,
         "type": "scatter",
         "x": [
          1,
          2,
          3,
          4,
          5,
          6,
          7,
          8,
          9,
          10
         ],
         "y": [
          0.11611579034603389,
          0.06805112707141106,
          0.040090866317208075,
          0.03709547040741503,
          0.03031816226445233,
          0.021528488536484158,
          0.020387522263997395,
          0.014039445571534664,
          0.010487239187810474,
          0.009004650393282966
         ]
        },
        {
         "hovertext": "<b>Topic 165</b>:check_cherck_order_tell_where_cn_",
         "line": {
          "color": "black",
          "width": 1.5
         },
         "mode": "lines+lines",
         "name": "",
         "opacity": 0.1,
         "type": "scatter",
         "x": [
          1,
          2,
          3,
          4,
          5,
          6,
          7,
          8,
          9,
          10
         ],
         "y": [
          0.044571962444259525,
          0.03715223694168929,
          0.036042340949612936,
          0.033886368395131976,
          0.03331555275147976,
          0.02749495675169335,
          0.02335438006796368,
          0.018130609716790386,
          0.017460347975814992,
          0.01564736026532646
         ]
        },
        {
         "hovertext": "<b>Topic 166</b>:shipment_check_mydelivery_roder_t",
         "line": {
          "color": "black",
          "width": 1.5
         },
         "mode": "lines+lines",
         "name": "",
         "opacity": 0.1,
         "type": "scatter",
         "x": [
          1,
          2,
          3,
          4,
          5,
          6,
          7,
          8,
          9,
          10
         ],
         "y": [
          0.11448970679274373,
          0.05019772556120949,
          0.03905206723984385,
          0.03511960974371221,
          0.030869968178141062,
          0.01651671074578821,
          0.016125361540725365,
          0.015906112455240554,
          0.01543588858790781,
          0.011699657662862142
         ]
        },
        {
         "hovertext": "<b>Topic 167</b>:profile_rceate_ho_hwat_need_shoul",
         "line": {
          "color": "black",
          "width": 1.5
         },
         "mode": "lines+lines",
         "name": "",
         "opacity": 0.1,
         "type": "scatter",
         "x": [
          1,
          2,
          3,
          4,
          5,
          6,
          7,
          8,
          9,
          10
         ],
         "y": [
          0.1554062288647584,
          0.08136084223392208,
          0.07419518533892011,
          0.07164178871920099,
          0.04660041323509393,
          0.04073619213317923,
          0.023001948459791064,
          0.01998636359977228,
          0.01611843841501038,
          0.014500984145519275
         ]
        },
        {
         "hovertext": "<b>Topic 168</b>:refund_requesg_reqauest_receive_o",
         "line": {
          "color": "black",
          "width": 1.5
         },
         "mode": "lines+lines",
         "name": "",
         "opacity": 0.1,
         "type": "scatter",
         "x": [
          1,
          2,
          3,
          4,
          5,
          6,
          7,
          8,
          9,
          10
         ],
         "y": [
          0.1861538861103083,
          0.10909783863829392,
          0.10909783863829392,
          0.08856539567209268,
          0.07433814506247853,
          0.03648825434211174,
          0.022417167364420273,
          0.013618649131373922,
          0.009608758686636616,
          0.009082612122743942
         ]
        },
        {
         "hovertext": "<b>Topic 169</b>:invoice_obtain_hou_where_tell_it_",
         "line": {
          "color": "black",
          "width": 1.5
         },
         "mode": "lines+lines",
         "name": "",
         "opacity": 0.1,
         "type": "scatter",
         "x": [
          1,
          2,
          3,
          4,
          5,
          6,
          7,
          8,
          9,
          10
         ],
         "y": [
          0.05125784460704938,
          0.04306485644998757,
          0.03950094157593401,
          0.035421708385194,
          0.03362670273693173,
          0.017991677841565936,
          0.017326552205885373,
          0.016310710523952093,
          0.014203981045559397,
          0.01282031452712097
         ]
        },
        {
         "hovertext": "<b>Topic 170</b>:track_wherei_order_tell_where_od_",
         "line": {
          "color": "black",
          "width": 1.5
         },
         "mode": "lines+lines",
         "name": "",
         "opacity": 0.1,
         "type": "scatter",
         "x": [
          1,
          2,
          3,
          4,
          5,
          6,
          7,
          8,
          9,
          10
         ],
         "y": [
          0.09067590017887235,
          0.041156669665943224,
          0.03726533455468962,
          0.035036205246862996,
          0.03198559056579194,
          0.0295415907509289,
          0.018745820026541755,
          0.018052814873197934,
          0.013357692980353586,
          0.011743496537194469
         ]
        },
        {
         "hovertext": "<b>Topic 171</b>:inform_pazyment_where_of_with_pay",
         "line": {
          "color": "black",
          "width": 1.5
         },
         "mode": "lines+lines",
         "name": "",
         "opacity": 0.1,
         "type": "scatter",
         "x": [
          1,
          2,
          3,
          4,
          5,
          6,
          7,
          8,
          9,
          10
         ],
         "y": [
          0.08024226383650293,
          0.05925141236390102,
          0.0495903917392716,
          0.04516839107950968,
          0.03679772818763033,
          0.03525857252196376,
          0.033552159869744164,
          0.025164119902308123,
          0.014462617558498588,
          0.004755451786021272
         ]
        },
        {
         "hovertext": "<b>Topic 172</b>:notify_notifypayment_where_make_p",
         "line": {
          "color": "black",
          "width": 1.5
         },
         "mode": "lines+lines",
         "name": "",
         "opacity": 0.1,
         "type": "scatter",
         "x": [
          1,
          2,
          3,
          4,
          5,
          6,
          7,
          8,
          9,
          10
         ],
         "y": [
          0.09704565268496541,
          0.0808607509907355,
          0.06767629931477065,
          0.060770141984242354,
          0.04811758132409172,
          0.04006522619740038,
          0.04006522619740038,
          0.006255998172755062,
          0.00538545471748582,
          0.004867344769221773
         ]
        },
        {
         "hovertext": "<b>Topic 173</b>:see_bill_where_tro_know_fucking_t",
         "line": {
          "color": "black",
          "width": 1.5
         },
         "mode": "lines+lines",
         "name": "",
         "opacity": 0.1,
         "type": "scatter",
         "x": [
          1,
          2,
          3,
          4,
          5,
          6,
          7,
          8,
          9,
          10
         ],
         "y": [
          0.10769589590534931,
          0.10322737651735728,
          0.07101833878710499,
          0.06777741050334414,
          0.02412493549312252,
          0.01209569241717754,
          0.010319305601809737,
          0.008876527178761038,
          0.008753248472167576,
          0.006355369594641164
         ]
        },
        {
         "hovertext": "<b>Topic 174</b>:fuck_two_create_same_online_singl",
         "line": {
          "color": "black",
          "width": 1.5
         },
         "mode": "lines+lines",
         "name": "",
         "opacity": 0.1,
         "type": "scatter",
         "x": [
          1,
          2,
          3,
          4,
          5,
          6,
          7,
          8,
          9,
          10
         ],
         "y": [
          0.07455024781553082,
          0.05272938018231765,
          0.04790630990136241,
          0.04365898817473627,
          0.03730845282382451,
          0.03694397748769931,
          0.03585382351010277,
          0.03415987730664487,
          0.031820202936169065,
          0.031820202936169065
         ]
        },
        {
         "hovertext": "<b>Topic 175</b>:invoice_check_di_olst_acn_how_my_",
         "line": {
          "color": "black",
          "width": 1.5
         },
         "mode": "lines+lines",
         "name": "",
         "opacity": 0.1,
         "type": "scatter",
         "x": [
          1,
          2,
          3,
          4,
          5,
          6,
          7,
          8,
          9,
          10
         ],
         "y": [
          0.11249018870520026,
          0.11142990611064882,
          0.09288059235422322,
          0.08352772047153174,
          0.05739830152588178,
          0.028240295129644228,
          0.022671130226835624,
          0.006956553204945058,
          0.0061859952835985775,
          0.005562190462259538
         ]
        },
        {
         "hovertext": "<b>Topic 176</b>:mind_cancel_profile_change_ichang",
         "line": {
          "color": "black",
          "width": 1.5
         },
         "mode": "lines+lines",
         "name": "",
         "opacity": 0.1,
         "type": "scatter",
         "x": [
          1,
          2,
          3,
          4,
          5,
          6,
          7,
          8,
          9,
          10
         ],
         "y": [
          0.17074292392610593,
          0.11200667456736647,
          0.08510952699260048,
          0.07742675672290164,
          0.05108306871812685,
          0.04774065949263197,
          0.027729977467534483,
          0.008512134005943497,
          0.006748505539856057,
          0.005181277288248775
         ]
        },
        {
         "hovertext": "<b>Topic 177</b>:hsipments_deliveires_wherr_oackag",
         "line": {
          "color": "black",
          "width": 1.5
         },
         "mode": "lines+lines",
         "name": "",
         "opacity": 0.1,
         "type": "scatter",
         "x": [
          1,
          2,
          3,
          4,
          5,
          6,
          7,
          8,
          9,
          10
         ],
         "y": [
          0.06942589731527796,
          0.06942589731527796,
          0.06942589731527796,
          0.06942589731527796,
          0.06942589731527796,
          0.06942589731527796,
          0.06942589731527796,
          0.06942589731527796,
          0.06942589731527796,
          0.06942589731527796
         ]
        },
        {
         "hovertext": "<b>Topic 178</b>:more_than_several_online_yuou_tep",
         "line": {
          "color": "black",
          "width": 1.5
         },
         "mode": "lines+lines",
         "name": "",
         "opacity": 0.1,
         "type": "scatter",
         "x": [
          1,
          2,
          3,
          4,
          5,
          6,
          7,
          8,
          9,
          10
         ],
         "y": [
          0.07838862671420052,
          0.0782409068643519,
          0.07651812516688451,
          0.05969352451811922,
          0.050912324697870506,
          0.050912324697870506,
          0.050912324697870506,
          0.045785565295506286,
          0.04093233863150196,
          0.03138861170967961
         ]
        },
        {
         "hovertext": "<b>Topic 179</b>:check_nodify_trfack_order_ik_ne_t",
         "line": {
          "color": "black",
          "width": 1.5
         },
         "mode": "lines+lines",
         "name": "",
         "opacity": 0.1,
         "type": "scatter",
         "x": [
          1,
          2,
          3,
          4,
          5,
          6,
          7,
          8,
          9,
          10
         ],
         "y": [
          0.04157552799422527,
          0.04043037549536775,
          0.04043037549536775,
          0.03660771100372451,
          0.03635912538172558,
          0.03398011646240275,
          0.03195949646678133,
          0.01720996809077142,
          0.0170996534779925,
          0.015200773531885993
         ]
        },
        {
         "hovertext": "<b>Topic 180</b>:see_bill_wolud_wht_hat_what_want_",
         "line": {
          "color": "black",
          "width": 1.5
         },
         "mode": "lines+lines",
         "name": "",
         "opacity": 0.1,
         "type": "scatter",
         "x": [
          1,
          2,
          3,
          4,
          5,
          6,
          7,
          8,
          9,
          10
         ],
         "y": [
          0.07168380429098156,
          0.0687094990346253,
          0.060824458709845285,
          0.051120529191225374,
          0.051120529191225374,
          0.01987225856979737,
          0.01822247565189148,
          0.01721677448399781,
          0.015357183936933054,
          0.013786110795332408
         ]
        },
        {
         "hovertext": "<b>Topic 181</b>:delivery_check_wamt_deliveris_cfa",
         "line": {
          "color": "black",
          "width": 1.5
         },
         "mode": "lines+lines",
         "name": "",
         "opacity": 0.1,
         "type": "scatter",
         "x": [
          1,
          2,
          3,
          4,
          5,
          6,
          7,
          8,
          9,
          10
         ],
         "y": [
          0.12032686132879662,
          0.08059817269055952,
          0.07234909299171072,
          0.07234909299171072,
          0.060806524195878606,
          0.05778916053443027,
          0.027426242455339284,
          0.026397244289604285,
          0.02639569748673438,
          0.01639821599865855
         ]
        },
        {
         "hovertext": "<b>Topic 182</b>:create_profile_one_pfofile_ivegot",
         "line": {
          "color": "black",
          "width": 1.5
         },
         "mode": "lines+lines",
         "name": "",
         "opacity": 0.1,
         "type": "scatter",
         "x": [
          1,
          2,
          3,
          4,
          5,
          6,
          7,
          8,
          9,
          10
         ],
         "y": [
          0.10676263349446478,
          0.09807859777242531,
          0.0874397040483932,
          0.07636848704680575,
          0.07636848704680575,
          0.07422226003289796,
          0.05204651918118129,
          0.025263046936710543,
          0.02327135630356754,
          0.019615021443867738
         ]
        },
        {
         "hovertext": "<b>Topic 183</b>:aand_shat_ayign_for_order_inofrm_",
         "line": {
          "color": "black",
          "width": 1.5
         },
         "mode": "lines+lines",
         "name": "",
         "opacity": 0.1,
         "type": "scatter",
         "x": [
          1,
          2,
          3,
          4,
          5,
          6,
          7,
          8,
          9,
          10
         ],
         "y": [
          0.048064082756730894,
          0.048064082756730894,
          0.048064082756730894,
          0.04766416230206212,
          0.04041110954956602,
          0.04039594264761166,
          0.03390949691529385,
          0.027114120252116812,
          0.023814994592860367,
          0.020669765675490444
         ]
        },
        {
         "hovertext": "<b>Topic 184</b>:package_check_xo_wqnna_checkmy_te",
         "line": {
          "color": "black",
          "width": 1.5
         },
         "mode": "lines+lines",
         "name": "",
         "opacity": 0.1,
         "type": "scatter",
         "x": [
          1,
          2,
          3,
          4,
          5,
          6,
          7,
          8,
          9,
          10
         ],
         "y": [
          0.12353284856767587,
          0.04417399849386435,
          0.04295727396382824,
          0.03863157071808343,
          0.03863157071808343,
          0.033956964995955165,
          0.033384960153045345,
          0.018168381820367032,
          0.01749672370076461,
          0.011797154810052661
         ]
        },
        {
         "hovertext": "<b>Topic 185</b>:full_case_in_ticket_cancel_refund",
         "line": {
          "color": "black",
          "width": 1.5
         },
         "mode": "lines+lines",
         "name": "",
         "opacity": 0.1,
         "type": "scatter",
         "x": [
          1,
          2,
          3,
          4,
          5,
          6,
          7,
          8,
          9,
          10
         ],
         "y": [
          0.3591493879391659,
          0.3356546969371561,
          0.21476577761535562,
          0.12592968843593164,
          0.08561054377768097,
          0.0691428719838288,
          0.04675621655926883,
          0.03929673332386713,
          0.03132576936084334,
          0.031223911686156812
         ]
        },
        {
         "hovertext": "<b>Topic 186</b>:cancel_purchase_waznt_hjelp_want_",
         "line": {
          "color": "black",
          "width": 1.5
         },
         "mode": "lines+lines",
         "name": "",
         "opacity": 0.1,
         "type": "scatter",
         "x": [
          1,
          2,
          3,
          4,
          5,
          6,
          7,
          8,
          9,
          10
         ],
         "y": [
          0.17239383473039868,
          0.14428419649442326,
          0.09415292923578791,
          0.08467193582045683,
          0.014103696908655733,
          0.011319801076756012,
          0.011185879045514832,
          0.00884976541239938,
          0.008588144546275366,
          0.008498445006368177
         ]
        },
        {
         "hovertext": "<b>Topic 187</b>:email_customer_whzt_wat_service_k",
         "line": {
          "color": "black",
          "width": 1.5
         },
         "mode": "lines+lines",
         "name": "",
         "opacity": 0.1,
         "type": "scatter",
         "x": [
          1,
          2,
          3,
          4,
          5,
          6,
          7,
          8,
          9,
          10
         ],
         "y": [
          0.059117754795283965,
          0.054549967731478015,
          0.047183597823613345,
          0.038828755718040224,
          0.03471668705198148,
          0.0298338896937851,
          0.026610376778565783,
          0.025711995794442805,
          0.022866204190871545,
          0.02151891814884807
         ]
        },
        {
         "hovertext": "<b>Topic 188</b>:package_check_hopw_tell_hwere_id_",
         "line": {
          "color": "black",
          "width": 1.5
         },
         "mode": "lines+lines",
         "name": "",
         "opacity": 0.1,
         "type": "scatter",
         "x": [
          1,
          2,
          3,
          4,
          5,
          6,
          7,
          8,
          9,
          10
         ],
         "y": [
          0.12509655551157048,
          0.04846092661774148,
          0.043501036925395684,
          0.034386799995903966,
          0.033340874424451446,
          0.0248248597684997,
          0.017718201215964156,
          0.016983102772689728,
          0.014549114073120505,
          0.012401912478371909
         ]
        },
        {
         "hovertext": "<b>Topic 189</b>:notify_howdo_payment_issue_proble",
         "line": {
          "color": "black",
          "width": 1.5
         },
         "mode": "lines+lines",
         "name": "",
         "opacity": 0.1,
         "type": "scatter",
         "x": [
          1,
          2,
          3,
          4,
          5,
          6,
          7,
          8,
          9,
          10
         ],
         "y": [
          0.12888875747221967,
          0.09657892679520858,
          0.06390616269605931,
          0.05321162854342238,
          0.04560996732293347,
          0.03918340949238136,
          0.010728835569991282,
          0.005539165048793544,
          0.0021437609073291968,
          0.00001
         ]
        },
        {
         "hovertext": "<b>Topic 190</b>:invoice_check_iwanna_chdck_help_m",
         "line": {
          "color": "black",
          "width": 1.5
         },
         "mode": "lines+lines",
         "name": "",
         "opacity": 0.1,
         "type": "scatter",
         "x": [
          1,
          2,
          3,
          4,
          5,
          6,
          7,
          8,
          9,
          10
         ],
         "y": [
          0.09662103708428808,
          0.0883479969877287,
          0.08591454792765647,
          0.08591454792765647,
          0.03098795544761959,
          0.01947288149840703,
          0.018842625523900345,
          0.011816533356041678,
          0.010724686190956964,
          0.010146016525856108
         ]
        },
        {
         "hovertext": "<b>Topic 191</b>:report_pfoblem_make_payment_probl",
         "line": {
          "color": "black",
          "width": 1.5
         },
         "mode": "lines+lines",
         "name": "",
         "opacity": 0.1,
         "type": "scatter",
         "x": [
          1,
          2,
          3,
          4,
          5,
          6,
          7,
          8,
          9,
          10
         ],
         "y": [
          0.06830676901882393,
          0.04828946339760429,
          0.03725092837976394,
          0.031953081348029655,
          0.022804983661466736,
          0.022804983661466736,
          0.019138339929435533,
          0.016087029286435447,
          0.013557513944323713,
          0.013411044462489103
         ]
        },
        {
         "hovertext": "<b>Topic 192</b>:paymet_notgify_pay_have_issue_pro",
         "line": {
          "color": "black",
          "width": 1.5
         },
         "mode": "lines+lines",
         "name": "",
         "opacity": 0.1,
         "type": "scatter",
         "x": [
          1,
          2,
          3,
          4,
          5,
          6,
          7,
          8,
          9,
          10
         ],
         "y": [
          0.06945001477408257,
          0.06945001477408257,
          0.0499434818799225,
          0.03832035209501038,
          0.03826454187392171,
          0.027331815624229795,
          0.025997929361399778,
          0.025231069869518008,
          0.018001941330921704,
          0.009297175401884286
         ]
        },
        {
         "hovertext": "<b>Topic 193</b>:human_contact_csn_gaent_how_want_",
         "line": {
          "color": "black",
          "width": 1.5
         },
         "mode": "lines+lines",
         "name": "",
         "opacity": 0.1,
         "type": "scatter",
         "x": [
          1,
          2,
          3,
          4,
          5,
          6,
          7,
          8,
          9,
          10
         ],
         "y": [
          0.2835432149863357,
          0.1879318851666065,
          0.12836932885796595,
          0.10963212567566946,
          0.01857583857416598,
          0.011439665270354095,
          0.007877923624950819,
          0.007214945085053232,
          0.0060978088030697155,
          0.005086262788736608
         ]
        },
        {
         "hovertext": "<b>Topic 194</b>:shipment_tgell_trrack_check_where",
         "line": {
          "color": "black",
          "width": 1.5
         },
         "mode": "lines+lines",
         "name": "",
         "opacity": 0.1,
         "type": "scatter",
         "x": [
          1,
          2,
          3,
          4,
          5,
          6,
          7,
          8,
          9,
          10
         ],
         "y": [
          0.12916787433027496,
          0.04773030440425359,
          0.04773030440425359,
          0.04499203550300999,
          0.0342409847723542,
          0.031925351705598876,
          0.01794535764180985,
          0.01708138461743909,
          0.011916317989952184,
          0.009986093076106168
         ]
        },
        {
         "hovertext": "<b>Topic 195</b>:request_wabt_bill_areimbursement_",
         "line": {
          "color": "black",
          "width": 1.5
         },
         "mode": "lines+lines",
         "name": "",
         "opacity": 0.1,
         "type": "scatter",
         "x": [
          1,
          2,
          3,
          4,
          5,
          6,
          7,
          8,
          9,
          10
         ],
         "y": [
          0.08659043779737824,
          0.05454891931914696,
          0.05214035854703251,
          0.049055962816613875,
          0.03648611623497014,
          0.028044535397756185,
          0.019902684186606404,
          0.019521582419930385,
          0.018799898481896036,
          0.013618649131373922
         ]
        },
        {
         "hovertext": "<b>Topic 196</b>:inform_niform_pay_haev_of_problem",
         "line": {
          "color": "black",
          "width": 1.5
         },
         "mode": "lines+lines",
         "name": "",
         "opacity": 0.1,
         "type": "scatter",
         "x": [
          1,
          2,
          3,
          4,
          5,
          6,
          7,
          8,
          9,
          10
         ],
         "y": [
          0.0769843072596825,
          0.07234909299171072,
          0.051042716409337066,
          0.04930722869796122,
          0.04727398525013344,
          0.030726714828081498,
          0.030726714828081498,
          0.028245581453526073,
          0.026326754176150987,
          0.008709985376502121
         ]
        },
        {
         "hovertext": "<b>Topic 197</b>:notify_wheere_noify_payment_with_",
         "line": {
          "color": "black",
          "width": 1.5
         },
         "mode": "lines+lines",
         "name": "",
         "opacity": 0.1,
         "type": "scatter",
         "x": [
          1,
          2,
          3,
          4,
          5,
          6,
          7,
          8,
          9,
          10
         ],
         "y": [
          0.08022783842656292,
          0.07900188315186801,
          0.07900188315186801,
          0.04339516618087847,
          0.04205454650014895,
          0.03914418651470152,
          0.027960133224786802,
          0.026422529006356783,
          0.016528705781141243,
          0.0065770639509525105
         ]
        },
        {
         "hovertext": "<b>Topic 198</b>:support_mail_trhe_contacxt_custom",
         "line": {
          "color": "black",
          "width": 1.5
         },
         "mode": "lines+lines",
         "name": "",
         "opacity": 0.1,
         "type": "scatter",
         "x": [
          1,
          2,
          3,
          4,
          5,
          6,
          7,
          8,
          9,
          10
         ],
         "y": [
          0.07497734184375812,
          0.05693489721777386,
          0.04675621655926883,
          0.04675621655926883,
          0.04113370146575605,
          0.03929673332386713,
          0.03583576978954645,
          0.03186521582521303,
          0.030585377098105604,
          0.02556520335376551
         ]
        },
        {
         "hovertext": "<b>Topic 199</b>:visa_withvisa_if_with_make_know_p",
         "line": {
          "color": "black",
          "width": 1.5
         },
         "mode": "lines+lines",
         "name": "",
         "opacity": 0.1,
         "type": "scatter",
         "x": [
          1,
          2,
          3,
          4,
          5,
          6,
          7,
          8,
          9,
          10
         ],
         "y": [
          0.5193814784185468,
          0.07234909299171072,
          0.04847250627414705,
          0.03530368508828293,
          0.029277922656375865,
          0.027426242455339284,
          0.023182154565048234,
          0.02199641457227865,
          0.02126779850389044,
          0.01306076811505004
         ]
        },
        {
         "hovertext": "<b>Topic 200</b>:more_than_several_user_if_know_on",
         "line": {
          "color": "black",
          "width": 1.5
         },
         "mode": "lines+lines",
         "name": "",
         "opacity": 0.1,
         "type": "scatter",
         "x": [
          1,
          2,
          3,
          4,
          5,
          6,
          7,
          8,
          9,
          10
         ],
         "y": [
          0.08246076316688626,
          0.08230536955860393,
          0.08049309270802137,
          0.07682276264511784,
          0.03767635714945067,
          0.03552945045350771,
          0.03301918894135128,
          0.029104412658878445,
          0.024803718810588533,
          0.01139814209654439
         ]
        },
        {
         "hovertext": "<b>Topic 201</b>:validation_no_get_payment_not_do_",
         "line": {
          "color": "black",
          "width": 1.5
         },
         "mode": "lines+lines",
         "name": "",
         "opacity": 0.1,
         "type": "scatter",
         "x": [
          1,
          2,
          3,
          4,
          5,
          6,
          7,
          8,
          9,
          10
         ],
         "y": [
          0.5999427275801975,
          0.07590912957910019,
          0.048145961725857174,
          0.04290203929245939,
          0.023800250765012253,
          0.018206508846045813,
          0.013918792675953116,
          0.013146680188435116,
          0.009390289529581692,
          0.0073412826716494845
         ]
        },
        {
         "hovertext": "<b>Topic 202</b>:fast_expect_arrive_ticket_know_ho",
         "line": {
          "color": "black",
          "width": 1.5
         },
         "mode": "lines+lines",
         "name": "",
         "opacity": 0.1,
         "type": "scatter",
         "x": [
          1,
          2,
          3,
          4,
          5,
          6,
          7,
          8,
          9,
          10
         ],
         "y": [
          0.4092632560237007,
          0.30686840641865915,
          0.25836833976505835,
          0.13246271341740215,
          0.02019762041284676,
          0.01943983106598765,
          0.019438691947595087,
          0.011147266689606885,
          0.010305423346592641,
          0.010016013567521779
         ]
        },
        {
         "hovertext": "<b>Topic 203</b>:create_ivge_and_one_no_account_no",
         "line": {
          "color": "black",
          "width": 1.5
         },
         "mode": "lines+lines",
         "name": "",
         "opacity": 0.1,
         "type": "scatter",
         "x": [
          1,
          2,
          3,
          4,
          5,
          6,
          7,
          8,
          9,
          10
         ],
         "y": [
          0.07528134413071236,
          0.06364040587233813,
          0.06342136065891525,
          0.06165620157258495,
          0.04123458890716553,
          0.027173101325033113,
          0.022624929739579552,
          0.02105253911392545,
          0.019615021443867738,
          0.01588842398660291
         ]
        },
        {
         "hovertext": "<b>Topic 204</b>:view_losg_invoice_ddo_hwat_should",
         "line": {
          "color": "black",
          "width": 1.5
         },
         "mode": "lines+lines",
         "name": "",
         "opacity": 0.1,
         "type": "scatter",
         "x": [
          1,
          2,
          3,
          4,
          5,
          6,
          7,
          8,
          9,
          10
         ],
         "y": [
          0.10075806318890752,
          0.07390498746465074,
          0.07032796743934948,
          0.06646291736444461,
          0.054694268807131935,
          0.03109967356404006,
          0.021950784148456526,
          0.018451073016700154,
          0.014766569386654669,
          0.014173809527376497
         ]
        },
        {
         "hovertext": "<b>Topic 205</b>:amex_ppay_if_with_make_payment_te",
         "line": {
          "color": "black",
          "width": 1.5
         },
         "mode": "lines+lines",
         "name": "",
         "opacity": 0.1,
         "type": "scatter",
         "x": [
          1,
          2,
          3,
          4,
          5,
          6,
          7,
          8,
          9,
          10
         ],
         "y": [
          0.5737353540669994,
          0.07992050970014555,
          0.042836168335292746,
          0.03899825678356836,
          0.032341891306461715,
          0.025608193996274217,
          0.019438691947595087,
          0.01514821530963507,
          0.014096099008392503,
          0.013397050350570433
         ]
        },
        {
         "hovertext": "<b>Topic 206</b>:wheree_informof_inform_where_of_p",
         "line": {
          "color": "black",
          "width": 1.5
         },
         "mode": "lines+lines",
         "name": "",
         "opacity": 0.1,
         "type": "scatter",
         "x": [
          1,
          2,
          3,
          4,
          5,
          6,
          7,
          8,
          9,
          10
         ],
         "y": [
          0.11455273057020862,
          0.10301752191488915,
          0.09972967076822506,
          0.06163377259023755,
          0.056137857484533454,
          0.05243582580189482,
          0.04054219317594086,
          0.04054219317594086,
          0.019170063723993644,
          0.00753577798303062
         ]
        },
        {
         "hovertext": "<b>Topic 207</b>:happy_complaint_servicfe_and_file",
         "line": {
          "color": "black",
          "width": 1.5
         },
         "mode": "lines+lines",
         "name": "",
         "opacity": 0.1,
         "type": "scatter",
         "x": [
          1,
          2,
          3,
          4,
          5,
          6,
          7,
          8,
          9,
          10
         ],
         "y": [
          0.08920300987369947,
          0.077999396821492,
          0.06364040587233813,
          0.05765578241719568,
          0.041218073646837085,
          0.03997347018070609,
          0.03232132819939936,
          0.0319599583041339,
          0.02915311540903573,
          0.026803348602642545
         ]
        },
        {
         "hovertext": "<b>Topic 208</b>:confirmation_ogt_confirmaiton_pay",
         "line": {
          "color": "black",
          "width": 1.5
         },
         "mode": "lines+lines",
         "name": "",
         "opacity": 0.1,
         "type": "scatter",
         "x": [
          1,
          2,
          3,
          4,
          5,
          6,
          7,
          8,
          9,
          10
         ],
         "y": [
          0.5133355316500072,
          0.09415292923578791,
          0.09415292923578791,
          0.09415292923578791,
          0.07625574660914174,
          0.04352922566995306,
          0.03878814511373041,
          0.023908927709144732,
          0.018812204835053206,
          0.01677881856827225
         ]
        }
       ],
       "layout": {
        "height": 500,
        "hoverlabel": {
         "bgcolor": "white",
         "font": {
          "family": "Rockwell",
          "size": 16
         }
        },
        "showlegend": false,
        "template": {
         "data": {
          "bar": [
           {
            "error_x": {
             "color": "#2a3f5f"
            },
            "error_y": {
             "color": "#2a3f5f"
            },
            "marker": {
             "line": {
              "color": "white",
              "width": 0.5
             },
             "pattern": {
              "fillmode": "overlay",
              "size": 10,
              "solidity": 0.2
             }
            },
            "type": "bar"
           }
          ],
          "barpolar": [
           {
            "marker": {
             "line": {
              "color": "white",
              "width": 0.5
             },
             "pattern": {
              "fillmode": "overlay",
              "size": 10,
              "solidity": 0.2
             }
            },
            "type": "barpolar"
           }
          ],
          "carpet": [
           {
            "aaxis": {
             "endlinecolor": "#2a3f5f",
             "gridcolor": "#C8D4E3",
             "linecolor": "#C8D4E3",
             "minorgridcolor": "#C8D4E3",
             "startlinecolor": "#2a3f5f"
            },
            "baxis": {
             "endlinecolor": "#2a3f5f",
             "gridcolor": "#C8D4E3",
             "linecolor": "#C8D4E3",
             "minorgridcolor": "#C8D4E3",
             "startlinecolor": "#2a3f5f"
            },
            "type": "carpet"
           }
          ],
          "choropleth": [
           {
            "colorbar": {
             "outlinewidth": 0,
             "ticks": ""
            },
            "type": "choropleth"
           }
          ],
          "contour": [
           {
            "colorbar": {
             "outlinewidth": 0,
             "ticks": ""
            },
            "colorscale": [
             [
              0,
              "#0d0887"
             ],
             [
              0.1111111111111111,
              "#46039f"
             ],
             [
              0.2222222222222222,
              "#7201a8"
             ],
             [
              0.3333333333333333,
              "#9c179e"
             ],
             [
              0.4444444444444444,
              "#bd3786"
             ],
             [
              0.5555555555555556,
              "#d8576b"
             ],
             [
              0.6666666666666666,
              "#ed7953"
             ],
             [
              0.7777777777777778,
              "#fb9f3a"
             ],
             [
              0.8888888888888888,
              "#fdca26"
             ],
             [
              1,
              "#f0f921"
             ]
            ],
            "type": "contour"
           }
          ],
          "contourcarpet": [
           {
            "colorbar": {
             "outlinewidth": 0,
             "ticks": ""
            },
            "type": "contourcarpet"
           }
          ],
          "heatmap": [
           {
            "colorbar": {
             "outlinewidth": 0,
             "ticks": ""
            },
            "colorscale": [
             [
              0,
              "#0d0887"
             ],
             [
              0.1111111111111111,
              "#46039f"
             ],
             [
              0.2222222222222222,
              "#7201a8"
             ],
             [
              0.3333333333333333,
              "#9c179e"
             ],
             [
              0.4444444444444444,
              "#bd3786"
             ],
             [
              0.5555555555555556,
              "#d8576b"
             ],
             [
              0.6666666666666666,
              "#ed7953"
             ],
             [
              0.7777777777777778,
              "#fb9f3a"
             ],
             [
              0.8888888888888888,
              "#fdca26"
             ],
             [
              1,
              "#f0f921"
             ]
            ],
            "type": "heatmap"
           }
          ],
          "heatmapgl": [
           {
            "colorbar": {
             "outlinewidth": 0,
             "ticks": ""
            },
            "colorscale": [
             [
              0,
              "#0d0887"
             ],
             [
              0.1111111111111111,
              "#46039f"
             ],
             [
              0.2222222222222222,
              "#7201a8"
             ],
             [
              0.3333333333333333,
              "#9c179e"
             ],
             [
              0.4444444444444444,
              "#bd3786"
             ],
             [
              0.5555555555555556,
              "#d8576b"
             ],
             [
              0.6666666666666666,
              "#ed7953"
             ],
             [
              0.7777777777777778,
              "#fb9f3a"
             ],
             [
              0.8888888888888888,
              "#fdca26"
             ],
             [
              1,
              "#f0f921"
             ]
            ],
            "type": "heatmapgl"
           }
          ],
          "histogram": [
           {
            "marker": {
             "pattern": {
              "fillmode": "overlay",
              "size": 10,
              "solidity": 0.2
             }
            },
            "type": "histogram"
           }
          ],
          "histogram2d": [
           {
            "colorbar": {
             "outlinewidth": 0,
             "ticks": ""
            },
            "colorscale": [
             [
              0,
              "#0d0887"
             ],
             [
              0.1111111111111111,
              "#46039f"
             ],
             [
              0.2222222222222222,
              "#7201a8"
             ],
             [
              0.3333333333333333,
              "#9c179e"
             ],
             [
              0.4444444444444444,
              "#bd3786"
             ],
             [
              0.5555555555555556,
              "#d8576b"
             ],
             [
              0.6666666666666666,
              "#ed7953"
             ],
             [
              0.7777777777777778,
              "#fb9f3a"
             ],
             [
              0.8888888888888888,
              "#fdca26"
             ],
             [
              1,
              "#f0f921"
             ]
            ],
            "type": "histogram2d"
           }
          ],
          "histogram2dcontour": [
           {
            "colorbar": {
             "outlinewidth": 0,
             "ticks": ""
            },
            "colorscale": [
             [
              0,
              "#0d0887"
             ],
             [
              0.1111111111111111,
              "#46039f"
             ],
             [
              0.2222222222222222,
              "#7201a8"
             ],
             [
              0.3333333333333333,
              "#9c179e"
             ],
             [
              0.4444444444444444,
              "#bd3786"
             ],
             [
              0.5555555555555556,
              "#d8576b"
             ],
             [
              0.6666666666666666,
              "#ed7953"
             ],
             [
              0.7777777777777778,
              "#fb9f3a"
             ],
             [
              0.8888888888888888,
              "#fdca26"
             ],
             [
              1,
              "#f0f921"
             ]
            ],
            "type": "histogram2dcontour"
           }
          ],
          "mesh3d": [
           {
            "colorbar": {
             "outlinewidth": 0,
             "ticks": ""
            },
            "type": "mesh3d"
           }
          ],
          "parcoords": [
           {
            "line": {
             "colorbar": {
              "outlinewidth": 0,
              "ticks": ""
             }
            },
            "type": "parcoords"
           }
          ],
          "pie": [
           {
            "automargin": true,
            "type": "pie"
           }
          ],
          "scatter": [
           {
            "fillpattern": {
             "fillmode": "overlay",
             "size": 10,
             "solidity": 0.2
            },
            "type": "scatter"
           }
          ],
          "scatter3d": [
           {
            "line": {
             "colorbar": {
              "outlinewidth": 0,
              "ticks": ""
             }
            },
            "marker": {
             "colorbar": {
              "outlinewidth": 0,
              "ticks": ""
             }
            },
            "type": "scatter3d"
           }
          ],
          "scattercarpet": [
           {
            "marker": {
             "colorbar": {
              "outlinewidth": 0,
              "ticks": ""
             }
            },
            "type": "scattercarpet"
           }
          ],
          "scattergeo": [
           {
            "marker": {
             "colorbar": {
              "outlinewidth": 0,
              "ticks": ""
             }
            },
            "type": "scattergeo"
           }
          ],
          "scattergl": [
           {
            "marker": {
             "colorbar": {
              "outlinewidth": 0,
              "ticks": ""
             }
            },
            "type": "scattergl"
           }
          ],
          "scattermapbox": [
           {
            "marker": {
             "colorbar": {
              "outlinewidth": 0,
              "ticks": ""
             }
            },
            "type": "scattermapbox"
           }
          ],
          "scatterpolar": [
           {
            "marker": {
             "colorbar": {
              "outlinewidth": 0,
              "ticks": ""
             }
            },
            "type": "scatterpolar"
           }
          ],
          "scatterpolargl": [
           {
            "marker": {
             "colorbar": {
              "outlinewidth": 0,
              "ticks": ""
             }
            },
            "type": "scatterpolargl"
           }
          ],
          "scatterternary": [
           {
            "marker": {
             "colorbar": {
              "outlinewidth": 0,
              "ticks": ""
             }
            },
            "type": "scatterternary"
           }
          ],
          "surface": [
           {
            "colorbar": {
             "outlinewidth": 0,
             "ticks": ""
            },
            "colorscale": [
             [
              0,
              "#0d0887"
             ],
             [
              0.1111111111111111,
              "#46039f"
             ],
             [
              0.2222222222222222,
              "#7201a8"
             ],
             [
              0.3333333333333333,
              "#9c179e"
             ],
             [
              0.4444444444444444,
              "#bd3786"
             ],
             [
              0.5555555555555556,
              "#d8576b"
             ],
             [
              0.6666666666666666,
              "#ed7953"
             ],
             [
              0.7777777777777778,
              "#fb9f3a"
             ],
             [
              0.8888888888888888,
              "#fdca26"
             ],
             [
              1,
              "#f0f921"
             ]
            ],
            "type": "surface"
           }
          ],
          "table": [
           {
            "cells": {
             "fill": {
              "color": "#EBF0F8"
             },
             "line": {
              "color": "white"
             }
            },
            "header": {
             "fill": {
              "color": "#C8D4E3"
             },
             "line": {
              "color": "white"
             }
            },
            "type": "table"
           }
          ]
         },
         "layout": {
          "annotationdefaults": {
           "arrowcolor": "#2a3f5f",
           "arrowhead": 0,
           "arrowwidth": 1
          },
          "autotypenumbers": "strict",
          "coloraxis": {
           "colorbar": {
            "outlinewidth": 0,
            "ticks": ""
           }
          },
          "colorscale": {
           "diverging": [
            [
             0,
             "#8e0152"
            ],
            [
             0.1,
             "#c51b7d"
            ],
            [
             0.2,
             "#de77ae"
            ],
            [
             0.3,
             "#f1b6da"
            ],
            [
             0.4,
             "#fde0ef"
            ],
            [
             0.5,
             "#f7f7f7"
            ],
            [
             0.6,
             "#e6f5d0"
            ],
            [
             0.7,
             "#b8e186"
            ],
            [
             0.8,
             "#7fbc41"
            ],
            [
             0.9,
             "#4d9221"
            ],
            [
             1,
             "#276419"
            ]
           ],
           "sequential": [
            [
             0,
             "#0d0887"
            ],
            [
             0.1111111111111111,
             "#46039f"
            ],
            [
             0.2222222222222222,
             "#7201a8"
            ],
            [
             0.3333333333333333,
             "#9c179e"
            ],
            [
             0.4444444444444444,
             "#bd3786"
            ],
            [
             0.5555555555555556,
             "#d8576b"
            ],
            [
             0.6666666666666666,
             "#ed7953"
            ],
            [
             0.7777777777777778,
             "#fb9f3a"
            ],
            [
             0.8888888888888888,
             "#fdca26"
            ],
            [
             1,
             "#f0f921"
            ]
           ],
           "sequentialminus": [
            [
             0,
             "#0d0887"
            ],
            [
             0.1111111111111111,
             "#46039f"
            ],
            [
             0.2222222222222222,
             "#7201a8"
            ],
            [
             0.3333333333333333,
             "#9c179e"
            ],
            [
             0.4444444444444444,
             "#bd3786"
            ],
            [
             0.5555555555555556,
             "#d8576b"
            ],
            [
             0.6666666666666666,
             "#ed7953"
            ],
            [
             0.7777777777777778,
             "#fb9f3a"
            ],
            [
             0.8888888888888888,
             "#fdca26"
            ],
            [
             1,
             "#f0f921"
            ]
           ]
          },
          "colorway": [
           "#636efa",
           "#EF553B",
           "#00cc96",
           "#ab63fa",
           "#FFA15A",
           "#19d3f3",
           "#FF6692",
           "#B6E880",
           "#FF97FF",
           "#FECB52"
          ],
          "font": {
           "color": "#2a3f5f"
          },
          "geo": {
           "bgcolor": "white",
           "lakecolor": "white",
           "landcolor": "white",
           "showlakes": true,
           "showland": true,
           "subunitcolor": "#C8D4E3"
          },
          "hoverlabel": {
           "align": "left"
          },
          "hovermode": "closest",
          "mapbox": {
           "style": "light"
          },
          "paper_bgcolor": "white",
          "plot_bgcolor": "white",
          "polar": {
           "angularaxis": {
            "gridcolor": "#EBF0F8",
            "linecolor": "#EBF0F8",
            "ticks": ""
           },
           "bgcolor": "white",
           "radialaxis": {
            "gridcolor": "#EBF0F8",
            "linecolor": "#EBF0F8",
            "ticks": ""
           }
          },
          "scene": {
           "xaxis": {
            "backgroundcolor": "white",
            "gridcolor": "#DFE8F3",
            "gridwidth": 2,
            "linecolor": "#EBF0F8",
            "showbackground": true,
            "ticks": "",
            "zerolinecolor": "#EBF0F8"
           },
           "yaxis": {
            "backgroundcolor": "white",
            "gridcolor": "#DFE8F3",
            "gridwidth": 2,
            "linecolor": "#EBF0F8",
            "showbackground": true,
            "ticks": "",
            "zerolinecolor": "#EBF0F8"
           },
           "zaxis": {
            "backgroundcolor": "white",
            "gridcolor": "#DFE8F3",
            "gridwidth": 2,
            "linecolor": "#EBF0F8",
            "showbackground": true,
            "ticks": "",
            "zerolinecolor": "#EBF0F8"
           }
          },
          "shapedefaults": {
           "line": {
            "color": "#2a3f5f"
           }
          },
          "ternary": {
           "aaxis": {
            "gridcolor": "#DFE8F3",
            "linecolor": "#A2B1C6",
            "ticks": ""
           },
           "baxis": {
            "gridcolor": "#DFE8F3",
            "linecolor": "#A2B1C6",
            "ticks": ""
           },
           "bgcolor": "white",
           "caxis": {
            "gridcolor": "#DFE8F3",
            "linecolor": "#A2B1C6",
            "ticks": ""
           }
          },
          "title": {
           "x": 0.05
          },
          "xaxis": {
           "automargin": true,
           "gridcolor": "#EBF0F8",
           "linecolor": "#EBF0F8",
           "ticks": "",
           "title": {
            "standoff": 15
           },
           "zerolinecolor": "#EBF0F8",
           "zerolinewidth": 2
          },
          "yaxis": {
           "automargin": true,
           "gridcolor": "#EBF0F8",
           "linecolor": "#EBF0F8",
           "ticks": "",
           "title": {
            "standoff": 15
           },
           "zerolinecolor": "#EBF0F8",
           "zerolinewidth": 2
          }
         }
        },
        "title": {
         "font": {
          "color": "Black",
          "size": 22
         },
         "text": "<b>Term score decline per Topic</b>",
         "x": 0.5,
         "xanchor": "center",
         "y": 0.9,
         "yanchor": "top"
        },
        "width": 800,
        "xaxis": {
         "dtick": 2,
         "range": [
          0,
          10
         ],
         "tick0": 1,
         "title": {
          "text": "Term Rank"
         }
        },
        "yaxis": {
         "title": {
          "text": "c-TF-IDF score"
         }
        }
       }
      }
     },
     "metadata": {},
     "output_type": "display_data"
    }
   ],
   "source": [
    "topic_model.visualize_term_rank()"
   ]
  },
  {
   "cell_type": "code",
   "execution_count": 29,
   "metadata": {},
   "outputs": [
    {
     "data": {
      "application/vnd.plotly.v1+json": {
       "config": {
        "plotlyServerURL": "https://plot.ly"
       },
       "data": [
        {
         "hovertext": "<b>Topic -1</b>:and_fuck_purchase_item_order_want_",
         "line": {
          "color": "black",
          "width": 1.5
         },
         "mode": "lines+lines",
         "name": "",
         "opacity": 0.1,
         "type": "scatter",
         "x": [
          1,
          2,
          3,
          4,
          5,
          6,
          7,
          8,
          9,
          10
         ],
         "y": [
          -2.117372231470552,
          -2.1788775354902254,
          -2.2275134774390923,
          -2.2454756927225303,
          -2.245807381980253,
          -2.2469348459182257,
          -2.248796187902094,
          -2.2965326399814714,
          -2.3007429499336665,
          -2.3015725849462787
         ]
        },
        {
         "hovertext": "<b>Topic 0</b>:when_charge_anyway_but_pay_report_t",
         "line": {
          "color": "black",
          "width": 1.5
         },
         "mode": "lines+lines",
         "name": "",
         "opacity": 0.1,
         "type": "scatter",
         "x": [
          1,
          2,
          3,
          4,
          5,
          6,
          7,
          8,
          9,
          10
         ],
         "y": [
          -1.801402469093794,
          -1.8062602317995984,
          -1.8070129397775883,
          -1.8071447077466125,
          -1.819686026187556,
          -1.8215976726956498,
          -1.8280683260323718,
          -1.8301609814342934,
          -1.8400039981187777,
          -1.865871879439848
         ]
        },
        {
         "hovertext": "<b>Topic 1</b>:some_invoice_bill_obtain_see_reques",
         "line": {
          "color": "black",
          "width": 1.5
         },
         "mode": "lines+lines",
         "name": "",
         "opacity": 0.1,
         "type": "scatter",
         "x": [
          1,
          2,
          3,
          4,
          5,
          6,
          7,
          8,
          9,
          10
         ],
         "y": [
          -1.3877277530559575,
          -1.4384996832963983,
          -1.452587014726294,
          -1.5853096180975097,
          -1.6302184254129333,
          -1.6365479465394204,
          -1.762495717101431,
          -1.8534000000632338,
          -1.9270791104078397,
          -2.0032782620445215
         ]
        },
        {
         "hovertext": "<b>Topic 2</b>:understand_human_person_talk_speak_",
         "line": {
          "color": "black",
          "width": 1.5
         },
         "mode": "lines+lines",
         "name": "",
         "opacity": 0.1,
         "type": "scatter",
         "x": [
          1,
          2,
          3,
          4,
          5,
          6,
          7,
          8,
          9,
          10
         ],
         "y": [
          -1.2248531676436305,
          -1.2319556898131478,
          -1.3483855446863036,
          -1.4190595583712047,
          -1.4335568930400044,
          -1.4635343177210873,
          -1.477259824662632,
          -1.5823155064597996,
          -1.7437788184908958,
          -1.7545093169294168
         ]
        },
        {
         "hovertext": "<b>Topic 3</b>:call_question_customer_support_talk",
         "line": {
          "color": "black",
          "width": 1.5
         },
         "mode": "lines+lines",
         "name": "",
         "opacity": 0.1,
         "type": "scatter",
         "x": [
          1,
          2,
          3,
          4,
          5,
          6,
          7,
          8,
          9,
          10
         ],
         "y": [
          -1.21837637860347,
          -1.2309389066225855,
          -1.3126676578628966,
          -1.3951187721935798,
          -1.4299295592273324,
          -1.4389561763220013,
          -1.4449122335510287,
          -1.446355975540735,
          -1.52552314312612,
          -1.6947427049801471
         ]
        },
        {
         "hovertext": "<b>Topic 4</b>:purchase_product_buy_something_modi",
         "line": {
          "color": "black",
          "width": 1.5
         },
         "mode": "lines+lines",
         "name": "",
         "opacity": 0.1,
         "type": "scatter",
         "x": [
          1,
          2,
          3,
          4,
          5,
          6,
          7,
          8,
          9,
          10
         ],
         "y": [
          -1.0901852149865483,
          -1.1850033002553588,
          -1.195463882225607,
          -1.2181495573074081,
          -1.2316602270333883,
          -1.2501195061770665,
          -1.3602079303682277,
          -1.4343440582178908,
          -1.8554345818169344,
          -2.081099298972746
         ]
        },
        {
         "hovertext": "<b>Topic 5</b>:password_retrieve_remember_reset_fo",
         "line": {
          "color": "black",
          "width": 1.5
         },
         "mode": "lines+lines",
         "name": "",
         "opacity": 0.1,
         "type": "scatter",
         "x": [
          1,
          2,
          3,
          4,
          5,
          6,
          7,
          8,
          9,
          10
         ],
         "y": [
          -0.9731901186259133,
          -1.166413674800776,
          -1.230229574477055,
          -1.2344788322932436,
          -1.2814804349585902,
          -1.3055985358750373,
          -1.4415684751476119,
          -1.7959950766269726,
          -1.81399480829329,
          -1.8577831814629535
         ]
        },
        {
         "hovertext": "<b>Topic 6</b>:mail_address_customer_email_client_",
         "line": {
          "color": "black",
          "width": 1.5
         },
         "mode": "lines+lines",
         "name": "",
         "opacity": 0.1,
         "type": "scatter",
         "x": [
          1,
          2,
          3,
          4,
          5,
          6,
          7,
          8,
          9,
          10
         ],
         "y": [
          -1.1629236275094779,
          -1.3915665923148097,
          -1.452391295774471,
          -1.561580606399832,
          -1.573285630577451,
          -1.5760181435790355,
          -1.5977392130456585,
          -1.6061411205788443,
          -1.613996414744137,
          -1.6398282428864044
         ]
        },
        {
         "hovertext": "<b>Topic 7</b>:status_of_refund_reimbursement_view",
         "line": {
          "color": "black",
          "width": 1.5
         },
         "mode": "lines+lines",
         "name": "",
         "opacity": 0.1,
         "type": "scatter",
         "x": [
          1,
          2,
          3,
          4,
          5,
          6,
          7,
          8,
          9,
          10
         ],
         "y": [
          -0.9563034505723749,
          -1.4628844314079688,
          -1.652063999870174,
          -1.6875089718960177,
          -1.71440341944527,
          -1.7219766438242408,
          -1.749819101170374,
          -1.8402504801237056,
          -1.9285040723144744,
          -1.9476633260343428
         ]
        },
        {
         "hovertext": "<b>Topic 8</b>:open_one_no_account_user_online_hav",
         "line": {
          "color": "black",
          "width": 1.5
         },
         "mode": "lines+lines",
         "name": "",
         "opacity": 0.1,
         "type": "scatter",
         "x": [
          1,
          2,
          3,
          4,
          5,
          6,
          7,
          8,
          9,
          10
         ],
         "y": [
          -0.8911805177118798,
          -1.2947294277500987,
          -1.4694445243956331,
          -1.5169420695571338,
          -1.5495040088245517,
          -1.613269499402116,
          -1.8444606117687756,
          -1.9611297842578232,
          -2.0239088155702367,
          -2.0674812516314627
         ]
        },
        {
         "hovertext": "<b>Topic 9</b>:reimbursement_refund_obtain_request",
         "line": {
          "color": "black",
          "width": 1.5
         },
         "mode": "lines+lines",
         "name": "",
         "opacity": 0.1,
         "type": "scatter",
         "x": [
          1,
          2,
          3,
          4,
          5,
          6,
          7,
          8,
          9,
          10
         ],
         "y": [
          -1.177046385217693,
          -1.3548518690724194,
          -1.4354489209266752,
          -1.4483719516263769,
          -1.581358848916174,
          -1.6263073863049171,
          -1.880568038464009,
          -1.8829562063374283,
          -1.9044164088297577,
          -1.909270423254881
         ]
        },
        {
         "hovertext": "<b>Topic 10</b>:create_one_no_account_user_online_",
         "line": {
          "color": "black",
          "width": 1.5
         },
         "mode": "lines+lines",
         "name": "",
         "opacity": 0.1,
         "type": "scatter",
         "x": [
          1,
          2,
          3,
          4,
          5,
          6,
          7,
          8,
          9,
          10
         ],
         "y": [
          -1.0759878696979648,
          -1.2406511580030115,
          -1.4458555767964465,
          -1.5920944675053472,
          -1.5994566713348142,
          -1.675443204035188,
          -1.743055818471134,
          -1.904245076666773,
          -1.9152359400877383,
          -1.9268754942811748
         ]
        },
        {
         "hovertext": "<b>Topic 11</b>:number_free_phone_contact_customer",
         "line": {
          "color": "black",
          "width": 1.5
         },
         "mode": "lines+lines",
         "name": "",
         "opacity": 0.1,
         "type": "scatter",
         "x": [
          1,
          2,
          3,
          4,
          5,
          6,
          7,
          8,
          9,
          10
         ],
         "y": [
          -0.9359027501966428,
          -1.0591144382702906,
          -1.0759577326219434,
          -1.462581643226338,
          -1.4782760480234545,
          -1.561512969297809,
          -1.5876764196200894,
          -1.6524447415043777,
          -1.697993732286104,
          -1.705877980877547
         ]
        },
        {
         "hovertext": "<b>Topic 12</b>:money_policy_back_guarantee_your_t",
         "line": {
          "color": "black",
          "width": 1.5
         },
         "mode": "lines+lines",
         "name": "",
         "opacity": 0.1,
         "type": "scatter",
         "x": [
          1,
          2,
          3,
          4,
          5,
          6,
          7,
          8,
          9,
          10
         ],
         "y": [
          -0.9656990197021035,
          -1.0658983504058963,
          -1.0819277384072055,
          -1.117441666543023,
          -1.1453488928288897,
          -1.2586765945994882,
          -1.4424388978605631,
          -1.497316809140972,
          -1.5111397439622383,
          -1.5319922965236368
         ]
        },
        {
         "hovertext": "<b>Topic 13</b>:hack_back_recover_be_account_profi",
         "line": {
          "color": "black",
          "width": 1.5
         },
         "mode": "lines+lines",
         "name": "",
         "opacity": 0.1,
         "type": "scatter",
         "x": [
          1,
          2,
          3,
          4,
          5,
          6,
          7,
          8,
          9,
          10
         ],
         "y": [
          -0.8542389984823547,
          -1.2336763610050479,
          -1.2717372619987222,
          -1.6258812015033823,
          -1.6950555125443114,
          -1.695798978408921,
          -1.7095934902607877,
          -1.7222475493738403,
          -1.7989733972253201,
          -1.9005060185244431
         ]
        },
        {
         "hovertext": "<b>Topic 14</b>:remove_delete_account_profile_user",
         "line": {
          "color": "black",
          "width": 1.5
         },
         "mode": "lines+lines",
         "name": "",
         "opacity": 0.1,
         "type": "scatter",
         "x": [
          1,
          2,
          3,
          4,
          5,
          6,
          7,
          8,
          9,
          10
         ],
         "y": [
          -1.0005264841363604,
          -1.0448689682841032,
          -1.6361664108526206,
          -1.6598019226153635,
          -1.6842685627196023,
          -1.8126732219411965,
          -1.8242467194055687,
          -1.8513330757401878,
          -1.9378510796232538,
          -1.9694518613267162
         ]
        },
        {
         "hovertext": "<b>Topic 15</b>:solve_problem_issue_payment_ask_pa",
         "line": {
          "color": "black",
          "width": 1.5
         },
         "mode": "lines+lines",
         "name": "",
         "opacity": 0.1,
         "type": "scatter",
         "x": [
          1,
          2,
          3,
          4,
          5,
          6,
          7,
          8,
          9,
          10
         ],
         "y": [
          -0.7976412993046879,
          -1.53971922686417,
          -1.55395966597878,
          -1.5652516081804753,
          -1.9001647703639855,
          -1.913036180430171,
          -1.9306349470525959,
          -1.9487418655484565,
          -2.0214973749378973,
          -2.0353613577916376
         ]
        },
        {
         "hovertext": "<b>Topic 16</b>:download_some_bill_invoice_about_t",
         "line": {
          "color": "black",
          "width": 1.5
         },
         "mode": "lines+lines",
         "name": "",
         "opacity": 0.1,
         "type": "scatter",
         "x": [
          1,
          2,
          3,
          4,
          5,
          6,
          7,
          8,
          9,
          10
         ],
         "y": [
          -0.7445769141384045,
          -1.3044185804776405,
          -1.4472732645912645,
          -1.4694101945684246,
          -1.7288993017999432,
          -1.7686510623143645,
          -1.8344299115753793,
          -1.9069198537287289,
          -1.9616476823166962,
          -2.0267091226899945
         ]
        },
        {
         "hovertext": "<b>Topic 17</b>:cancel_show_account_refund_profile",
         "line": {
          "color": "black",
          "width": 1.5
         },
         "mode": "lines+lines",
         "name": "",
         "opacity": 0.1,
         "type": "scatter",
         "x": [
          1,
          2,
          3,
          4,
          5,
          6,
          7,
          8,
          9,
          10
         ],
         "y": [
          -0.9471519723341549,
          -1.6710587719317886,
          -1.7837792477693744,
          -1.8436371679360315,
          -1.857158076549368,
          -1.8890572052180137,
          -1.91535595372928,
          -1.9963562067930605,
          -1.9977187021512794,
          -2.076117260947213
         ]
        },
        {
         "hovertext": "<b>Topic 18</b>:register_no_registering_registrati",
         "line": {
          "color": "black",
          "width": 1.5
         },
         "mode": "lines+lines",
         "name": "",
         "opacity": 0.1,
         "type": "scatter",
         "x": [
          1,
          2,
          3,
          4,
          5,
          6,
          7,
          8,
          9,
          10
         ],
         "y": [
          -0.983017653627719,
          -1.226716328346477,
          -1.2657783719106022,
          -1.4532772630679331,
          -1.5300621035382054,
          -1.5421459707429395,
          -1.5670753943032947,
          -1.691111567691716,
          -1.7304288070034608,
          -1.8134028912446245
         ]
        },
        {
         "hovertext": "<b>Topic 19</b>:pop_error_attempt_message_when_try",
         "line": {
          "color": "black",
          "width": 1.5
         },
         "mode": "lines+lines",
         "name": "",
         "opacity": 0.1,
         "type": "scatter",
         "x": [
          1,
          2,
          3,
          4,
          5,
          6,
          7,
          8,
          9,
          10
         ],
         "y": [
          -0.8821486778173528,
          -1.370679383514154,
          -1.4598899518458122,
          -1.4787937616935516,
          -1.5235478643567553,
          -1.670265306515516,
          -1.6982701317131845,
          -1.7699613215767047,
          -1.8155747581554305,
          -1.8314009226367804
         ]
        },
        {
         "hovertext": "<b>Topic 20</b>:find_them_not_view_bill_invoice_ch",
         "line": {
          "color": "black",
          "width": 1.5
         },
         "mode": "lines+lines",
         "name": "",
         "opacity": 0.1,
         "type": "scatter",
         "x": [
          1,
          2,
          3,
          4,
          5,
          6,
          7,
          8,
          9,
          10
         ],
         "y": [
          -0.843595990205028,
          -1.2240106422974184,
          -1.4557348040185738,
          -1.5087369535647428,
          -1.5168271187492524,
          -1.5232150040643755,
          -1.7359483686774848,
          -1.7736455874258097,
          -1.902432154622448,
          -1.9233410150863288
         ]
        },
        {
         "hovertext": "<b>Topic 21</b>:same_more_than_several_email_regis",
         "line": {
          "color": "black",
          "width": 1.5
         },
         "mode": "lines+lines",
         "name": "",
         "opacity": 0.1,
         "type": "scatter",
         "x": [
          1,
          2,
          3,
          4,
          5,
          6,
          7,
          8,
          9,
          10
         ],
         "y": [
          -1.019102951838955,
          -1.2502794800206758,
          -1.255420034365401,
          -1.269454394857981,
          -1.3623785729682734,
          -1.4232303771043984,
          -1.5681836389212944,
          -1.5722134706463682,
          -1.583099970335233,
          -1.648908682108663
         ]
        },
        {
         "hovertext": "<b>Topic 22</b>:send_email_question_client_custome",
         "line": {
          "color": "black",
          "width": 1.5
         },
         "mode": "lines+lines",
         "name": "",
         "opacity": 0.1,
         "type": "scatter",
         "x": [
          1,
          2,
          3,
          4,
          5,
          6,
          7,
          8,
          9,
          10
         ],
         "y": [
          -0.8205925646724189,
          -1.2609102168142585,
          -1.4389831195614728,
          -1.4887868577165433,
          -1.4918018812681886,
          -1.60345553784269,
          -1.6341229078719934,
          -1.6432897155323207,
          -1.820615680839832,
          -1.8529006174599103
         ]
        },
        {
         "hovertext": "<b>Topic 23</b>:single_several_more_than_email_reg",
         "line": {
          "color": "black",
          "width": 1.5
         },
         "mode": "lines+lines",
         "name": "",
         "opacity": 0.1,
         "type": "scatter",
         "x": [
          1,
          2,
          3,
          4,
          5,
          6,
          7,
          8,
          9,
          10
         ],
         "y": [
          -0.9767057651003633,
          -1.2190793930957273,
          -1.2313337845820744,
          -1.232152965144157,
          -1.3255060416096667,
          -1.3727250544163647,
          -1.5174293499790594,
          -1.5269019886576327,
          -1.566104410557324,
          -1.614121189857608
         ]
        },
        {
         "hovertext": "<b>Topic 24</b>:receive_them_not_invoice_bill_view",
         "line": {
          "color": "black",
          "width": 1.5
         },
         "mode": "lines+lines",
         "name": "",
         "opacity": 0.1,
         "type": "scatter",
         "x": [
          1,
          2,
          3,
          4,
          5,
          6,
          7,
          8,
          9,
          10
         ],
         "y": [
          -0.8635229964108059,
          -1.2025292435976769,
          -1.4602473325778424,
          -1.4665247354858368,
          -1.568943397423486,
          -1.607206871804589,
          -1.6383768009072603,
          -1.7430208092861985,
          -1.775043228122182,
          -1.8962498329504966
         ]
        },
        {
         "hovertext": "<b>Topic 25</b>:lose_them_bill_invoice_view_check_",
         "line": {
          "color": "black",
          "width": 1.5
         },
         "mode": "lines+lines",
         "name": "",
         "opacity": 0.1,
         "type": "scatter",
         "x": [
          1,
          2,
          3,
          4,
          5,
          6,
          7,
          8,
          9,
          10
         ],
         "y": [
          -0.7284199121519467,
          -1.1055762545387315,
          -1.4073475736434917,
          -1.4332813939361317,
          -1.4434610709510358,
          -1.618448953253871,
          -1.6761850214407015,
          -1.806233811395603,
          -1.853099510174734,
          -1.9105577385249832
         ]
        },
        {
         "hovertext": "<b>Topic 26</b>:ticket_option_delivery_for_view_th",
         "line": {
          "color": "black",
          "width": 1.5
         },
         "mode": "lines+lines",
         "name": "",
         "opacity": 0.1,
         "type": "scatter",
         "x": [
          1,
          2,
          3,
          4,
          5,
          6,
          7,
          8,
          9,
          10
         ],
         "y": [
          -0.8152991183006694,
          -0.9091791428606776,
          -0.9973628465784689,
          -1.570449961507167,
          -1.6307313095262614,
          -1.659402450653549,
          -1.7038457592894902,
          -1.7569999291016403,
          -2.034942699728619,
          -2.109224711027771
         ]
        },
        {
         "hovertext": "<b>Topic 27</b>:game_postpone_cancel_reimbursement",
         "line": {
          "color": "black",
          "width": 1.5
         },
         "mode": "lines+lines",
         "name": "",
         "opacity": 0.1,
         "type": "scatter",
         "x": [
          1,
          2,
          3,
          4,
          5,
          6,
          7,
          8,
          9,
          10
         ],
         "y": [
          -0.6957258693659049,
          -1.0920631300559105,
          -1.293137989025823,
          -1.3489174856577963,
          -1.4081942244828198,
          -1.439694937218822,
          -1.5332738995321542,
          -1.579057945080896,
          -1.6347273690608932,
          -1.8939052322028258
         ]
        },
        {
         "hovertext": "<b>Topic 28</b>:complaint_lodge_file_for_process_s",
         "line": {
          "color": "black",
          "width": 1.5
         },
         "mode": "lines+lines",
         "name": "",
         "opacity": 0.1,
         "type": "scatter",
         "x": [
          1,
          2,
          3,
          4,
          5,
          6,
          7,
          8,
          9,
          10
         ],
         "y": [
          -0.9627604057578999,
          -1.2046822113735007,
          -1.224158885794748,
          -1.4541156779760702,
          -1.6037415737827088,
          -1.6298341099046478,
          -1.7869380436256692,
          -1.8605007526116335,
          -1.9453237166330823,
          -2.032822254048695
         ]
        },
        {
         "hovertext": "<b>Topic 29</b>:mind_change_delete_remove_cancel_m",
         "line": {
          "color": "black",
          "width": 1.5
         },
         "mode": "lines+lines",
         "name": "",
         "opacity": 0.1,
         "type": "scatter",
         "x": [
          1,
          2,
          3,
          4,
          5,
          6,
          7,
          8,
          9,
          10
         ],
         "y": [
          -0.7907855412377476,
          -1.1147893258170105,
          -1.1794343368629892,
          -1.2109862497118296,
          -1.5491726236120968,
          -1.5852287316139106,
          -1.638122506411411,
          -1.7268810429235975,
          -1.7564575011960997,
          -1.8398344879829471
         ]
        },
        {
         "hovertext": "<b>Topic 30</b>:fee_cancellation_view_the_see_chec",
         "line": {
          "color": "black",
          "width": 1.5
         },
         "mode": "lines+lines",
         "name": "",
         "opacity": 0.1,
         "type": "scatter",
         "x": [
          1,
          2,
          3,
          4,
          5,
          6,
          7,
          8,
          9,
          10
         ],
         "y": [
          -0.6194680352801817,
          -0.7914697055075708,
          -1.5685965137521316,
          -1.6519799880930208,
          -1.684207065145454,
          -1.7086577531459737,
          -1.7805858958574419,
          -1.905056119687646,
          -2.017126691876198,
          -2.0301235335029424
         ]
        },
        {
         "hovertext": "<b>Topic 31</b>:event_postpone_cancel_refund_reimb",
         "line": {
          "color": "black",
          "width": 1.5
         },
         "mode": "lines+lines",
         "name": "",
         "opacity": 0.1,
         "type": "scatter",
         "x": [
          1,
          2,
          3,
          4,
          5,
          6,
          7,
          8,
          9,
          10
         ],
         "y": [
          -0.684741532748671,
          -1.1925560288809747,
          -1.228535013096669,
          -1.3772662591716638,
          -1.3939507740205688,
          -1.4589435532881725,
          -1.494325202163026,
          -1.5934716785495855,
          -1.641496157328383,
          -1.8606970779848355
         ]
        },
        {
         "hovertext": "<b>Topic 32</b>:option_delivery_for_the_view_check",
         "line": {
          "color": "black",
          "width": 1.5
         },
         "mode": "lines+lines",
         "name": "",
         "opacity": 0.1,
         "type": "scatter",
         "x": [
          1,
          2,
          3,
          4,
          5,
          6,
          7,
          8,
          9,
          10
         ],
         "y": [
          -0.8735651444454124,
          -0.9436892099804252,
          -1.509303743498548,
          -1.6107207596130042,
          -1.6325485749980109,
          -1.6402030372739815,
          -1.76836251247962,
          -1.8585956975218219,
          -2.023824774855354,
          -2.02758476908205
         ]
        },
        {
         "hovertext": "<b>Topic 33</b>:close_closing_account_profile_user",
         "line": {
          "color": "black",
          "width": 1.5
         },
         "mode": "lines+lines",
         "name": "",
         "opacity": 0.1,
         "type": "scatter",
         "x": [
          1,
          2,
          3,
          4,
          5,
          6,
          7,
          8,
          9,
          10
         ],
         "y": [
          -0.7322515697495205,
          -1.4601827655105355,
          -1.632494124536743,
          -1.7066125378217893,
          -1.7139648167762522,
          -1.779256827315289,
          -1.8061451292267672,
          -1.8587529350856853,
          -1.9227251750316638,
          -1.9527026879104261
         ]
        },
        {
         "hovertext": "<b>Topic 34</b>:consumer_complaint_lodge_file_for_",
         "line": {
          "color": "black",
          "width": 1.5
         },
         "mode": "lines+lines",
         "name": "",
         "opacity": 0.1,
         "type": "scatter",
         "x": [
          1,
          2,
          3,
          4,
          5,
          6,
          7,
          8,
          9,
          10
         ],
         "y": [
          -0.797400758837789,
          -1.0019343331112722,
          -1.2382237089270915,
          -1.295971225777477,
          -1.5201756890697076,
          -1.6958941209982852,
          -1.804392721285805,
          -1.8401668693823698,
          -1.975367521601239,
          -2.0684860901451607
         ]
        },
        {
         "hovertext": "<b>Topic 35</b>:concert_postpone_cancel_reimbursem",
         "line": {
          "color": "black",
          "width": 1.5
         },
         "mode": "lines+lines",
         "name": "",
         "opacity": 0.1,
         "type": "scatter",
         "x": [
          1,
          2,
          3,
          4,
          5,
          6,
          7,
          8,
          9,
          10
         ],
         "y": [
          -0.6709589335643984,
          -1.109201395864425,
          -1.2983770315346295,
          -1.3627021094587228,
          -1.379574999730659,
          -1.4576518545080162,
          -1.4624569949855384,
          -1.595088316202101,
          -1.6375166085603565,
          -1.9244074595693215
         ]
        },
        {
         "hovertext": "<b>Topic 36</b>:penalty_cancellation_view_the_see_",
         "line": {
          "color": "black",
          "width": 1.5
         },
         "mode": "lines+lines",
         "name": "",
         "opacity": 0.1,
         "type": "scatter",
         "x": [
          1,
          2,
          3,
          4,
          5,
          6,
          7,
          8,
          9,
          10
         ],
         "y": [
          -0.6566097068560963,
          -0.8075354681883907,
          -1.4809128388945896,
          -1.6585004328676103,
          -1.7359131840954076,
          -1.8261463691376094,
          -1.8487857748784646,
          -1.9912182866621004,
          -2.007313338397867,
          -2.0181605725835188
         ]
        },
        {
         "hovertext": "<b>Topic 37</b>:delivery_check_know_where_order_pl",
         "line": {
          "color": "black",
          "width": 1.5
         },
         "mode": "lines+lines",
         "name": "",
         "opacity": 0.1,
         "type": "scatter",
         "x": [
          1,
          2,
          3,
          4,
          5,
          6,
          7,
          8,
          9,
          10
         ],
         "y": [
          -1.3479717051294569,
          -1.4177242136862598,
          -1.4591713471332057,
          -1.4689420813310903,
          -1.5056319711651092,
          -1.7817983230433851,
          -1.817263168424174,
          -1.9006936594823987,
          -2.023888265111724,
          -2.0354179879825347
         ]
        },
        {
         "hovertext": "<b>Topic 38</b>:other_use_them_switch_change_profi",
         "line": {
          "color": "black",
          "width": 1.5
         },
         "mode": "lines+lines",
         "name": "",
         "opacity": 0.1,
         "type": "scatter",
         "x": [
          1,
          2,
          3,
          4,
          5,
          6,
          7,
          8,
          9,
          10
         ],
         "y": [
          -0.7125166277123804,
          -0.7155300089918858,
          -0.9780282129643427,
          -1.0496646789782298,
          -1.476584330571158,
          -1.7070549994453934,
          -1.7547198633901757,
          -1.7803468132722642,
          -1.8292721667903902,
          -1.9300631252712976
         ]
        },
        {
         "hovertext": "<b>Topic 39</b>:comment_happy_submit_lodge_file_se",
         "line": {
          "color": "black",
          "width": 1.5
         },
         "mode": "lines+lines",
         "name": "",
         "opacity": 0.1,
         "type": "scatter",
         "x": [
          1,
          2,
          3,
          4,
          5,
          6,
          7,
          8,
          9,
          10
         ],
         "y": [
          -0.7262760438291769,
          -1.0409409892816943,
          -1.3146074156864875,
          -1.4224967228162546,
          -1.4402151175811635,
          -1.5400614631453131,
          -1.6954952526274776,
          -1.8171241925832216,
          -1.8677728151881678,
          -2.017032742035653
         ]
        },
        {
         "hovertext": "<b>Topic 40</b>:another_switch_change_account_user",
         "line": {
          "color": "black",
          "width": 1.5
         },
         "mode": "lines+lines",
         "name": "",
         "opacity": 0.1,
         "type": "scatter",
         "x": [
          1,
          2,
          3,
          4,
          5,
          6,
          7,
          8,
          9,
          10
         ],
         "y": [
          -0.586224415700377,
          -0.8795524426842125,
          -1.3222663614603727,
          -1.560893352995717,
          -1.5980001205612355,
          -1.6993568102970578,
          -1.7619966526429442,
          -1.9270044126749728,
          -1.939183957654153,
          -1.9926681206961883
         ]
        },
        {
         "hovertext": "<b>Topic 41</b>:policy_your_refund_reimbursement_v",
         "line": {
          "color": "black",
          "width": 1.5
         },
         "mode": "lines+lines",
         "name": "",
         "opacity": 0.1,
         "type": "scatter",
         "x": [
          1,
          2,
          3,
          4,
          5,
          6,
          7,
          8,
          9,
          10
         ],
         "y": [
          -0.7317964347952659,
          -0.8400695299941332,
          -1.2116139532306258,
          -1.34432477153466,
          -1.488759233619181,
          -1.5207053818416296,
          -1.5499395528038862,
          -1.9488239574819328,
          -2.017676852075448,
          -2.086298876941238
         ]
        },
        {
         "hovertext": "<b>Topic 42</b>:set_up_shipping_address_ship_no_up",
         "line": {
          "color": "black",
          "width": 1.5
         },
         "mode": "lines+lines",
         "name": "",
         "opacity": 0.1,
         "type": "scatter",
         "x": [
          1,
          2,
          3,
          4,
          5,
          6,
          7,
          8,
          9,
          10
         ],
         "y": [
          -0.7379333811515474,
          -0.7603866140591435,
          -0.794059459846378,
          -1.1355749916642284,
          -1.4656796301647033,
          -1.4981939857414317,
          -1.6560626463579244,
          -1.804204268084385,
          -1.8553467718345973,
          -1.979853975782063
         ]
        },
        {
         "hovertext": "<b>Topic 43</b>:two_same_email_register_create_add",
         "line": {
          "color": "black",
          "width": 1.5
         },
         "mode": "lines+lines",
         "name": "",
         "opacity": 0.1,
         "type": "scatter",
         "x": [
          1,
          2,
          3,
          4,
          5,
          6,
          7,
          8,
          9,
          10
         ],
         "y": [
          -0.8855016355082722,
          -0.9674806354368942,
          -1.3179338441915376,
          -1.4284734325167703,
          -1.4914330127395485,
          -1.5312290145392113,
          -1.5456646916348888,
          -1.61275905236281,
          -1.711688916516014,
          -1.7772112774115436
         ]
        },
        {
         "hovertext": "<b>Topic 44</b>:discontent_complaint_consumer_subm",
         "line": {
          "color": "black",
          "width": 1.5
         },
         "mode": "lines+lines",
         "name": "",
         "opacity": 0.1,
         "type": "scatter",
         "x": [
          1,
          2,
          3,
          4,
          5,
          6,
          7,
          8,
          9,
          10
         ],
         "y": [
          -0.6704455493589768,
          -1.0721310948664067,
          -1.1808303358513268,
          -1.358811078178541,
          -1.4402151175811635,
          -1.461676357525783,
          -1.5046834790036048,
          -1.5174254275897086,
          -1.6351240739170199,
          -1.6897029901503988
         ]
        },
        {
         "hovertext": "<b>Topic 45</b>:method_your_their_payment_view_acc",
         "line": {
          "color": "black",
          "width": 1.5
         },
         "mode": "lines+lines",
         "name": "",
         "opacity": 0.1,
         "type": "scatter",
         "x": [
          1,
          2,
          3,
          4,
          5,
          6,
          7,
          8,
          9,
          10
         ],
         "y": [
          -0.552343595324968,
          -0.9929172577345021,
          -1.307188435041632,
          -1.4083441257400537,
          -1.5901638437311003,
          -1.65212076629689,
          -1.7095873650245403,
          -1.7340380530250599,
          -1.8944387662952136,
          -2.0430261723095278
         ]
        },
        {
         "hovertext": "<b>Topic 46</b>:steal_someone_stole_password_retri",
         "line": {
          "color": "black",
          "width": 1.5
         },
         "mode": "lines+lines",
         "name": "",
         "opacity": 0.1,
         "type": "scatter",
         "x": [
          1,
          2,
          3,
          4,
          5,
          6,
          7,
          8,
          9,
          10
         ],
         "y": [
          -0.759056941280374,
          -0.8625359811317362,
          -0.8836216371061354,
          -0.9884651768672463,
          -1.211792320704649,
          -1.244648980201715,
          -1.3737880474767064,
          -1.6585747431102058,
          -1.7515438156665797,
          -1.8739724962118134
         ]
        },
        {
         "hovertext": "<b>Topic 47</b>:two_single_email_register_address_",
         "line": {
          "color": "black",
          "width": 1.5
         },
         "mode": "lines+lines",
         "name": "",
         "opacity": 0.1,
         "type": "scatter",
         "x": [
          1,
          2,
          3,
          4,
          5,
          6,
          7,
          8,
          9,
          10
         ],
         "y": [
          -0.8533294406555676,
          -0.9408916664579621,
          -1.2896919429672653,
          -1.3675866366881975,
          -1.4560136784735225,
          -1.501127291196683,
          -1.5066232289615797,
          -1.576546879708365,
          -1.7570127549022905,
          -1.7648613303013436
         ]
        },
        {
         "hovertext": "<b>Topic 48</b>:review_happy_lodge_submit_file_ser",
         "line": {
          "color": "black",
          "width": 1.5
         },
         "mode": "lines+lines",
         "name": "",
         "opacity": 0.1,
         "type": "scatter",
         "x": [
          1,
          2,
          3,
          4,
          5,
          6,
          7,
          8,
          9,
          10
         ],
         "y": [
          -0.7114858346351157,
          -1.1098129539628452,
          -1.2787695407485986,
          -1.4216926791705045,
          -1.4477939101062214,
          -1.5394186285596287,
          -1.7643672173086284,
          -1.8141692565792733,
          -1.8859961572643724,
          -1.9447626700914982
         ]
        },
        {
         "hovertext": "<b>Topic 49</b>:package_track_tell_where_my_me_cou",
         "line": {
          "color": "black",
          "width": 1.5
         },
         "mode": "lines+lines",
         "name": "",
         "opacity": 0.1,
         "type": "scatter",
         "x": [
          1,
          2,
          3,
          4,
          5,
          6,
          7,
          8,
          9,
          10
         ],
         "y": [
          -0.7607782606699133,
          -0.9086570358616568,
          -1.6967635659128593,
          -1.7813075254662745,
          -1.8599234384318881,
          -1.9649916409502906,
          -2.017304572547904,
          -2.0630348439317006,
          -2.0961149087071607,
          -2.113129497680309
         ]
        },
        {
         "hovertext": "<b>Topic 50</b>:package_check_know_where_my_ask_ag",
         "line": {
          "color": "black",
          "width": 1.5
         },
         "mode": "lines+lines",
         "name": "",
         "opacity": 0.1,
         "type": "scatter",
         "x": [
          1,
          2,
          3,
          4,
          5,
          6,
          7,
          8,
          9,
          10
         ],
         "y": [
          -0.7319617482795385,
          -1.215171294538628,
          -1.7155148625990373,
          -1.7906785583589133,
          -1.8223790018204005,
          -1.8952567490698857,
          -1.9215709659873383,
          -1.9641977663524564,
          -1.9874205362737223,
          -1.9990041788426844
         ]
        },
        {
         "hovertext": "<b>Topic 51</b>:subscribe_newsletter_there_keep_up",
         "line": {
          "color": "black",
          "width": 1.5
         },
         "mode": "lines+lines",
         "name": "",
         "opacity": 0.1,
         "type": "scatter",
         "x": [
          1,
          2,
          3,
          4,
          5,
          6,
          7,
          8,
          9,
          10
         ],
         "y": [
          -0.7698442193094432,
          -0.8087273306407499,
          -1.1442021848111539,
          -1.6032926661994127,
          -1.6206814987899323,
          -1.6391067748041195,
          -1.660685160674007,
          -1.8305542975038218,
          -1.884846525646632,
          -1.9158735694964864
         ]
        },
        {
         "hovertext": "<b>Topic 52</b>:opinion_happy_submit_lodge_service",
         "line": {
          "color": "black",
          "width": 1.5
         },
         "mode": "lines+lines",
         "name": "",
         "opacity": 0.1,
         "type": "scatter",
         "x": [
          1,
          2,
          3,
          4,
          5,
          6,
          7,
          8,
          9,
          10
         ],
         "y": [
          -0.7606475201875246,
          -1.1022975955932708,
          -1.3293921972353064,
          -1.4253511477285374,
          -1.5862409424326958,
          -1.756851858939054,
          -1.809975317425515,
          -1.877987900971645,
          -1.8784807988947978,
          -1.905078429910989
         ]
        },
        {
         "hovertext": "<b>Topic 53</b>:shipment_check_know_where_out_my_t",
         "line": {
          "color": "black",
          "width": 1.5
         },
         "mode": "lines+lines",
         "name": "",
         "opacity": 0.1,
         "type": "scatter",
         "x": [
          1,
          2,
          3,
          4,
          5,
          6,
          7,
          8,
          9,
          10
         ],
         "y": [
          -0.7692950889119061,
          -1.3465237160722365,
          -1.4931309379526618,
          -1.632535529967226,
          -1.7586400801677622,
          -1.8619610499983636,
          -1.8899753482356467,
          -1.908085535597848,
          -1.92616207173236,
          -1.9343997525153005
         ]
        },
        {
         "hovertext": "<b>Topic 54</b>:update_on_profile_edit_shipping_an",
         "line": {
          "color": "black",
          "width": 1.5
         },
         "mode": "lines+lines",
         "name": "",
         "opacity": 0.1,
         "type": "scatter",
         "x": [
          1,
          2,
          3,
          4,
          5,
          6,
          7,
          8,
          9,
          10
         ],
         "y": [
          -0.7494601139055932,
          -1.088540286662818,
          -1.195973719147174,
          -1.3786462443961631,
          -1.414572725617639,
          -1.5328650909903414,
          -1.7332492921837221,
          -1.7371228220703652,
          -1.7480247966391818,
          -1.7622203046165228
         ]
        },
        {
         "hovertext": "<b>Topic 55</b>:give_some_about_information_provid",
         "line": {
          "color": "black",
          "width": 1.5
         },
         "mode": "lines+lines",
         "name": "",
         "opacity": 0.1,
         "type": "scatter",
         "x": [
          1,
          2,
          3,
          4,
          5,
          6,
          7,
          8,
          9,
          10
         ],
         "y": [
          -1.1608787765646418,
          -1.3039496160860133,
          -1.3218297670025045,
          -1.3299675460637883,
          -1.3877657795109049,
          -1.4237120784670536,
          -1.542112526923424,
          -1.627540464301082,
          -1.8408848863625324,
          -1.8544582329899655
         ]
        },
        {
         "hovertext": "<b>Topic 56</b>:shipment_track_where_tell_my_know_",
         "line": {
          "color": "black",
          "width": 1.5
         },
         "mode": "lines+lines",
         "name": "",
         "opacity": 0.1,
         "type": "scatter",
         "x": [
          1,
          2,
          3,
          4,
          5,
          6,
          7,
          8,
          9,
          10
         ],
         "y": [
          -0.7036108488977367,
          -0.8598662963797306,
          -1.713136707217327,
          -1.7821470483396658,
          -1.8153697518932166,
          -1.8582679330051854,
          -2.0022280486651254,
          -2.022694531644716,
          -2.0271635445080527,
          -2.067168048217247
         ]
        },
        {
         "hovertext": "<b>Topic 57</b>:consumer_happy_complaint_submit_fi",
         "line": {
          "color": "black",
          "width": 1.5
         },
         "mode": "lines+lines",
         "name": "",
         "opacity": 0.1,
         "type": "scatter",
         "x": [
          1,
          2,
          3,
          4,
          5,
          6,
          7,
          8,
          9,
          10
         ],
         "y": [
          -0.9133118605388877,
          -1.0620085099729835,
          -1.109572908846381,
          -1.3694791162755875,
          -1.455292274583265,
          -1.4912216906597235,
          -1.4975037874161174,
          -1.5494368574270978,
          -1.5603784869139705,
          -1.7088759446524757
         ]
        },
        {
         "hovertext": "<b>Topic 58</b>:modify_order_change_myorder_tell_w",
         "line": {
          "color": "black",
          "width": 1.5
         },
         "mode": "lines+lines",
         "name": "",
         "opacity": 0.1,
         "type": "scatter",
         "x": [
          1,
          2,
          3,
          4,
          5,
          6,
          7,
          8,
          9,
          10
         ],
         "y": [
          -1.2216217023465474,
          -1.3328273585864159,
          -1.4355996010060132,
          -1.469414057948941,
          -1.5683310556198486,
          -1.7037388739464063,
          -1.8382049667602407,
          -1.8540796458989204,
          -1.9021439629193893,
          -1.9265234277384058
         ]
        },
        {
         "hovertext": "<b>Topic 59</b>:own_more_than_several_if_one_profi",
         "line": {
          "color": "black",
          "width": 1.5
         },
         "mode": "lines+lines",
         "name": "",
         "opacity": 0.1,
         "type": "scatter",
         "x": [
          1,
          2,
          3,
          4,
          5,
          6,
          7,
          8,
          9,
          10
         ],
         "y": [
          -0.6397784052672247,
          -1.0453157969012032,
          -1.046134977463286,
          -1.0888047926563411,
          -1.410941363855474,
          -1.4535206107598468,
          -1.5907416850122222,
          -1.6601804401647522,
          -1.6790243998652685,
          -1.6813358324827732
         ]
        },
        {
         "hovertext": "<b>Topic 60</b>:happy_complaint_submit_lodge_servi",
         "line": {
          "color": "black",
          "width": 1.5
         },
         "mode": "lines+lines",
         "name": "",
         "opacity": 0.1,
         "type": "scatter",
         "x": [
          1,
          2,
          3,
          4,
          5,
          6,
          7,
          8,
          9,
          10
         ],
         "y": [
          -1.0488154968454333,
          -1.0801621331515743,
          -1.3272714665661427,
          -1.4273863768305313,
          -1.4561337820732265,
          -1.4570870453245535,
          -1.4706354054411965,
          -1.5390092744637713,
          -1.6881266019154437,
          -1.7033697601912166
         ]
        },
        {
         "hovertext": "<b>Topic 61</b>:period_ticket_delivery_provide_abo",
         "line": {
          "color": "black",
          "width": 1.5
         },
         "mode": "lines+lines",
         "name": "",
         "opacity": 0.1,
         "type": "scatter",
         "x": [
          1,
          2,
          3,
          4,
          5,
          6,
          7,
          8,
          9,
          10
         ],
         "y": [
          -0.6366623433895584,
          -1.0294828556940012,
          -1.0769752209216388,
          -1.347514473411489,
          -1.4115379988864396,
          -1.4996124898026755,
          -1.5976219459193985,
          -1.5976219459193985,
          -1.6084750025887853,
          -1.7068931946099564
         ]
        },
        {
         "hovertext": "<b>Topic 62</b>:opinion_leave_write_for_service_an",
         "line": {
          "color": "black",
          "width": 1.5
         },
         "mode": "lines+lines",
         "name": "",
         "opacity": 0.1,
         "type": "scatter",
         "x": [
          1,
          2,
          3,
          4,
          5,
          6,
          7,
          8,
          9,
          10
         ],
         "y": [
          -0.6540839167850574,
          -0.8273870236024001,
          -0.8800445745165933,
          -1.389559819569717,
          -1.5652782514982946,
          -1.6532847264430057,
          -1.7762435864384063,
          -1.8563971778179604,
          -1.8827113947354128,
          -1.8952370636010298
         ]
        },
        {
         "hovertext": "<b>Topic 63</b>:comment_write_leave_for_service_wh",
         "line": {
          "color": "black",
          "width": 1.5
         },
         "mode": "lines+lines",
         "name": "",
         "opacity": 0.1,
         "type": "scatter",
         "x": [
          1,
          2,
          3,
          4,
          5,
          6,
          7,
          8,
          9,
          10
         ],
         "y": [
          -0.5601938829238039,
          -0.7588116054837865,
          -0.7710948615026078,
          -1.4131794242649056,
          -1.588897856193483,
          -1.7153312267018688,
          -1.8141213177762054,
          -1.8332733789708227,
          -1.8595875958882753,
          -1.8820110101651064
         ]
        },
        {
         "hovertext": "<b>Topic 64</b>:while_create_find_open_profile_pro",
         "line": {
          "color": "black",
          "width": 1.5
         },
         "mode": "lines+lines",
         "name": "",
         "opacity": 0.1,
         "type": "scatter",
         "x": [
          1,
          2,
          3,
          4,
          5,
          6,
          7,
          8,
          9,
          10
         ],
         "y": [
          -0.7871675403864244,
          -1.1105263433662913,
          -1.1529301486575882,
          -1.25289769763442,
          -1.3344580165140538,
          -1.3890663067245728,
          -1.4829708095929037,
          -1.5466010960806562,
          -1.6042270223094877,
          -1.6322763773004598
         ]
        },
        {
         "hovertext": "<b>Topic 65</b>:modify_mistake_modification_purcha",
         "line": {
          "color": "black",
          "width": 1.5
         },
         "mode": "lines+lines",
         "name": "",
         "opacity": 0.1,
         "type": "scatter",
         "x": [
          1,
          2,
          3,
          4,
          5,
          6,
          7,
          8,
          9,
          10
         ],
         "y": [
          -1.1585431503073877,
          -1.4540274743530268,
          -1.4789757138943163,
          -1.4986509597425723,
          -1.5713652904595894,
          -1.711891537608203,
          -1.7256074060764608,
          -1.7275107547894828,
          -1.7382057545256553,
          -1.9017322078449563
         ]
        },
        {
         "hovertext": "<b>Topic 66</b>:notify_make_payment_issue_problem_",
         "line": {
          "color": "black",
          "width": 1.5
         },
         "mode": "lines+lines",
         "name": "",
         "opacity": 0.1,
         "type": "scatter",
         "x": [
          1,
          2,
          3,
          4,
          5,
          6,
          7,
          8,
          9,
          10
         ],
         "y": [
          -1.1317042890386773,
          -1.3654794453911994,
          -1.4829527273330976,
          -1.499405534762584,
          -1.6199794659684341,
          -1.8540458222758551,
          -1.8678512631113973,
          -1.8678512631113973,
          -1.913945610227433,
          -1.913945610227433
         ]
        },
        {
         "hovertext": "<b>Topic 67</b>:newsletter_receive_there_tell_know",
         "line": {
          "color": "black",
          "width": 1.5
         },
         "mode": "lines+lines",
         "name": "",
         "opacity": 0.1,
         "type": "scatter",
         "x": [
          1,
          2,
          3,
          4,
          5,
          6,
          7,
          8,
          9,
          10
         ],
         "y": [
          -0.7316950522265177,
          -0.8088504799661123,
          -1.3834398686176397,
          -1.583014485352453,
          -1.7493120003670608,
          -1.7539438864050871,
          -1.8156019587804568,
          -1.8402699633101687,
          -1.8709866185856412,
          -1.872113264753892
         ]
        },
        {
         "hovertext": "<b>Topic 68</b>:option_your_payment_view_see_check",
         "line": {
          "color": "black",
          "width": 1.5
         },
         "mode": "lines+lines",
         "name": "",
         "opacity": 0.1,
         "type": "scatter",
         "x": [
          1,
          2,
          3,
          4,
          5,
          6,
          7,
          8,
          9,
          10
         ],
         "y": [
          -0.7854759532646847,
          -0.8446514283688136,
          -1.3783529113547761,
          -1.3994023585015707,
          -1.5586973918327027,
          -1.6079716635582546,
          -1.7713693373552555,
          -1.7713693373552555,
          -1.7713693373552555,
          -1.7713693373552555
         ]
        },
        {
         "hovertext": "<b>Topic 69</b>:close_mind_change_closing_my_profi",
         "line": {
          "color": "black",
          "width": 1.5
         },
         "mode": "lines+lines",
         "name": "",
         "opacity": 0.1,
         "type": "scatter",
         "x": [
          1,
          2,
          3,
          4,
          5,
          6,
          7,
          8,
          9,
          10
         ],
         "y": [
          -0.7622474031850259,
          -0.7958355339743891,
          -1.0991335674794442,
          -1.3961735765813916,
          -1.5772598019426352,
          -1.6545025721923534,
          -1.7028573401454483,
          -1.7355846304454758,
          -1.8579151419548767,
          -1.860072646537779
         ]
        },
        {
         "hovertext": "<b>Topic 70</b>:way_out_on_their_package_shipment_",
         "line": {
          "color": "black",
          "width": 1.5
         },
         "mode": "lines+lines",
         "name": "",
         "opacity": 0.1,
         "type": "scatter",
         "x": [
          1,
          2,
          3,
          4,
          5,
          6,
          7,
          8,
          9,
          10
         ],
         "y": [
          -0.7236149822661768,
          -0.7895920498769256,
          -0.8832117458645008,
          -1.2602926250585649,
          -1.2679275056722026,
          -1.2858797721043014,
          -1.3590078848752216,
          -1.4150564412695008,
          -1.6102433166271242,
          -1.618328182737006
         ]
        },
        {
         "hovertext": "<b>Topic 71</b>:track_order_tell_trackign_hel_how_",
         "line": {
          "color": "black",
          "width": 1.5
         },
         "mode": "lines+lines",
         "name": "",
         "opacity": 0.1,
         "type": "scatter",
         "x": [
          1,
          2,
          3,
          4,
          5,
          6,
          7,
          8,
          9,
          10
         ],
         "y": [
          -0.8885074655188786,
          -1.265920392391886,
          -1.6694590646823444,
          -1.775627160497797,
          -1.775627160497797,
          -1.7875329276026075,
          -1.8440109210323645,
          -1.8511100723183762,
          -1.864677144678634,
          -1.8911497839693627
         ]
        },
        {
         "hovertext": "<b>Topic 72</b>:review_write_leave_for_fucking_ask",
         "line": {
          "color": "black",
          "width": 1.5
         },
         "mode": "lines+lines",
         "name": "",
         "opacity": 0.1,
         "type": "scatter",
         "x": [
          1,
          2,
          3,
          4,
          5,
          6,
          7,
          8,
          9,
          10
         ],
         "y": [
          -0.6167191670355514,
          -0.6712858143834147,
          -1.0815090790742736,
          -1.5143340195282355,
          -1.630983087317074,
          -1.6655826619415728,
          -1.675506462670856,
          -1.6900524514568132,
          -1.7391846539838542,
          -1.7391846539838542
         ]
        },
        {
         "hovertext": "<b>Topic 73</b>:postpone_show_refund_obtain_reques",
         "line": {
          "color": "black",
          "width": 1.5
         },
         "mode": "lines+lines",
         "name": "",
         "opacity": 0.1,
         "type": "scatter",
         "x": [
          1,
          2,
          3,
          4,
          5,
          6,
          7,
          8,
          9,
          10
         ],
         "y": [
          -0.8086590975924056,
          -0.9527836124003833,
          -1.1135091816096259,
          -1.4219929380775551,
          -1.559854705385557,
          -1.5724153335544355,
          -1.623063956159382,
          -1.7605384897035736,
          -1.7605384897035736,
          -1.7605384897035736
         ]
        },
        {
         "hovertext": "<b>Topic 74</b>:shipping_address_change_modify_adr",
         "line": {
          "color": "black",
          "width": 1.5
         },
         "mode": "lines+lines",
         "name": "",
         "opacity": 0.1,
         "type": "scatter",
         "x": [
          1,
          2,
          3,
          4,
          5,
          6,
          7,
          8,
          9,
          10
         ],
         "y": [
          -0.6075467097744314,
          -0.9990632976596854,
          -1.1970648142649887,
          -1.2752231981095214,
          -1.4251035531800902,
          -1.6800392017280357,
          -1.7555221135486152,
          -1.7555221135486152,
          -1.7776259068625517,
          -1.7854065285157734
         ]
        },
        {
         "hovertext": "<b>Topic 75</b>:customer_support_ask_agent_talk_ca",
         "line": {
          "color": "black",
          "width": 1.5
         },
         "mode": "lines+lines",
         "name": "",
         "opacity": 0.1,
         "type": "scatter",
         "x": [
          1,
          2,
          3,
          4,
          5,
          6,
          7,
          8,
          9,
          10
         ],
         "y": [
          -1.2795509940944538,
          -1.3471718693445216,
          -1.5134226614934216,
          -1.5295177132291882,
          -1.5405431192069954,
          -1.596809277136326,
          -1.608334295161715,
          -1.702716778116894,
          -1.7871675403864244,
          -1.7935312348809078
         ]
        },
        {
         "hovertext": "<b>Topic 76</b>:on_edit_profile_information_change",
         "line": {
          "color": "black",
          "width": 1.5
         },
         "mode": "lines+lines",
         "name": "",
         "opacity": 0.1,
         "type": "scatter",
         "x": [
          1,
          2,
          3,
          4,
          5,
          6,
          7,
          8,
          9,
          10
         ],
         "y": [
          -0.5824083583360564,
          -1.0688089612133698,
          -1.103809244926601,
          -1.2309908937436036,
          -1.3702759725351452,
          -1.4875245729897537,
          -1.5096283663036905,
          -1.5581331264312412,
          -1.6362949636425754,
          -1.7130716568331554
         ]
        },
        {
         "hovertext": "<b>Topic 77</b>:cancel_show_reimbursement_request_",
         "line": {
          "color": "black",
          "width": 1.5
         },
         "mode": "lines+lines",
         "name": "",
         "opacity": 0.1,
         "type": "scatter",
         "x": [
          1,
          2,
          3,
          4,
          5,
          6,
          7,
          8,
          9,
          10
         ],
         "y": [
          -0.9695166293120276,
          -0.9732641255037046,
          -1.0567045901956251,
          -1.4634144538964264,
          -1.476109379297111,
          -1.5174382128273378,
          -1.5928958466577567,
          -1.6435444692627033,
          -1.7310450278450564,
          -1.8065279396656357
         ]
        },
        {
         "hovertext": "<b>Topic 78</b>:place_order_tack_mlake_inmy_plcae_",
         "line": {
          "color": "black",
          "width": 1.5
         },
         "mode": "lines+lines",
         "name": "",
         "opacity": 0.1,
         "type": "scatter",
         "x": [
          1,
          2,
          3,
          4,
          5,
          6,
          7,
          8,
          9,
          10
         ],
         "y": [
          -0.534677569959625,
          -1.1338619146606381,
          -1.3611512975660773,
          -1.5466586697584925,
          -1.5466586697584925,
          -1.5466586697584925,
          -1.5466586697584925,
          -1.5466586697584925,
          -1.5542006201542644,
          -1.622141581579072
         ]
        },
        {
         "hovertext": "<b>Topic 79</b>:track_delivery_ho_tell_trac_tracki",
         "line": {
          "color": "black",
          "width": 1.5
         },
         "mode": "lines+lines",
         "name": "",
         "opacity": 0.1,
         "type": "scatter",
         "x": [
          1,
          2,
          3,
          4,
          5,
          6,
          7,
          8,
          9,
          10
         ],
         "y": [
          -0.8791605932629667,
          -0.9227540841683596,
          -1.458778560087951,
          -1.6298882098205594,
          -1.6442859322803665,
          -1.6442859322803665,
          -1.6442859322803665,
          -1.6442859322803665,
          -1.7645227165798294,
          -1.8118011658169486
         ]
        },
        {
         "hovertext": "<b>Topic 80</b>:postpone_show_reimbursement_obtain",
         "line": {
          "color": "black",
          "width": 1.5
         },
         "mode": "lines+lines",
         "name": "",
         "opacity": 0.1,
         "type": "scatter",
         "x": [
          1,
          2,
          3,
          4,
          5,
          6,
          7,
          8,
          9,
          10
         ],
         "y": [
          -0.8554025011347318,
          -0.9733567815824055,
          -1.056797246274326,
          -1.4497685025439015,
          -1.4626915332436032,
          -1.6164695985859805,
          -1.6552189978912193,
          -1.6981374238208318,
          -1.6981374238208318,
          -1.6981374238208318
         ]
        },
        {
         "hovertext": "<b>Topic 81</b>:create_profile_one_profilee_need_t",
         "line": {
          "color": "black",
          "width": 1.5
         },
         "mode": "lines+lines",
         "name": "",
         "opacity": 0.1,
         "type": "scatter",
         "x": [
          1,
          2,
          3,
          4,
          5,
          6,
          7,
          8,
          9,
          10
         ],
         "y": [
          -0.9644803816714598,
          -0.9665633052028662,
          -1.2576648686162493,
          -1.5642438445596054,
          -1.580722428529833,
          -1.639726756380185,
          -1.6618305496941217,
          -1.694975771485408,
          -1.8078566499100062,
          -1.8244732839086213
         ]
        },
        {
         "hovertext": "<b>Topic 82</b>:track_order_ask_agent_fuck_myreimb",
         "line": {
          "color": "black",
          "width": 1.5
         },
         "mode": "lines+lines",
         "name": "",
         "opacity": 0.1,
         "type": "scatter",
         "x": [
          1,
          2,
          3,
          4,
          5,
          6,
          7,
          8,
          9,
          10
         ],
         "y": [
          -0.9635657834341793,
          -1.4555563607827309,
          -1.4902788817633055,
          -1.5165930986807579,
          -1.726921761369701,
          -1.728691122451579,
          -1.728691122451579,
          -1.728691122451579,
          -1.7565007021781796,
          -1.7747854695676148
         ]
        },
        {
         "hovertext": "<b>Topic 83</b>:profile_edit_change_modify_iy_prof",
         "line": {
          "color": "black",
          "width": 1.5
         },
         "mode": "lines+lines",
         "name": "",
         "opacity": 0.1,
         "type": "scatter",
         "x": [
          1,
          2,
          3,
          4,
          5,
          6,
          7,
          8,
          9,
          10
         ],
         "y": [
          -0.9579114286391845,
          -1.0295084253371416,
          -1.2195391704542642,
          -1.3181731400085945,
          -1.518869160971184,
          -1.518869160971184,
          -1.518869160971184,
          -1.518869160971184,
          -1.5649635080872197,
          -1.5649635080872197
         ]
        },
        {
         "hovertext": "<b>Topic 84</b>:client_contact_question_service_in",
         "line": {
          "color": "black",
          "width": 1.5
         },
         "mode": "lines+lines",
         "name": "",
         "opacity": 0.1,
         "type": "scatter",
         "x": [
          1,
          2,
          3,
          4,
          5,
          6,
          7,
          8,
          9,
          10
         ],
         "y": [
          -0.8903061745388939,
          -0.9817065466377145,
          -1.0962447030060556,
          -1.2858720666782693,
          -1.5046712816328285,
          -1.547298673042883,
          -1.6362662242706785,
          -1.8255221326981224,
          -1.8787183621758066,
          -1.8950837345957228
         ]
        },
        {
         "hovertext": "<b>Topic 85</b>:card_notify_pay_with_problem_have_",
         "line": {
          "color": "black",
          "width": 1.5
         },
         "mode": "lines+lines",
         "name": "",
         "opacity": 0.1,
         "type": "scatter",
         "x": [
          1,
          2,
          3,
          4,
          5,
          6,
          7,
          8,
          9,
          10
         ],
         "y": [
          -1.162800722618301,
          -1.1909177624484724,
          -1.3868932830942737,
          -1.5225824220137218,
          -1.5460412753331811,
          -1.63664118270291,
          -1.6438765424631596,
          -1.6747266647569357,
          -1.7208210118729717,
          -1.7208210118729717
         ]
        },
        {
         "hovertext": "<b>Topic 86</b>:hour_customer_of_support_client_se",
         "line": {
          "color": "black",
          "width": 1.5
         },
         "mode": "lines+lines",
         "name": "",
         "opacity": 0.1,
         "type": "scatter",
         "x": [
          1,
          2,
          3,
          4,
          5,
          6,
          7,
          8,
          9,
          10
         ],
         "y": [
          -0.42739425241735146,
          -1.3767162182057153,
          -1.3868879811151893,
          -1.474107682329335,
          -1.5391343855276947,
          -1.6336702820030886,
          -1.6414097993719048,
          -1.6481791576313995,
          -1.6875041464879406,
          -1.6875041464879406
         ]
        },
        {
         "hovertext": "<b>Topic 87</b>:about_modify_order_change_informat",
         "line": {
          "color": "black",
          "width": 1.5
         },
         "mode": "lines+lines",
         "name": "",
         "opacity": 0.1,
         "type": "scatter",
         "x": [
          1,
          2,
          3,
          4,
          5,
          6,
          7,
          8,
          9,
          10
         ],
         "y": [
          -1.0811473787433274,
          -1.2093018976965986,
          -1.2568384740670897,
          -1.3102402830474722,
          -1.3258571642416739,
          -1.5860891777148691,
          -1.6615720895354487,
          -1.739784314028491,
          -1.826155078400063,
          -1.8297019830652699
         ]
        },
        {
         "hovertext": "<b>Topic 88</b>:no_account_have_crezte_ylu_donty_c",
         "line": {
          "color": "black",
          "width": 1.5
         },
         "mode": "lines+lines",
         "name": "",
         "opacity": 0.1,
         "type": "scatter",
         "x": [
          1,
          2,
          3,
          4,
          5,
          6,
          7,
          8,
          9,
          10
         ],
         "y": [
          -1.150655124793189,
          -1.4567163223563824,
          -1.513193385341212,
          -1.5642438445596054,
          -1.5642438445596054,
          -1.5642438445596054,
          -1.5642438445596054,
          -1.5642438445596054,
          -1.6103381916756412,
          -1.6103381916756412
         ]
        },
        {
         "hovertext": "<b>Topic 89</b>:online_no_account_have_regiksterin",
         "line": {
          "color": "black",
          "width": 1.5
         },
         "mode": "lines+lines",
         "name": "",
         "opacity": 0.1,
         "type": "scatter",
         "x": [
          1,
          2,
          3,
          4,
          5,
          6,
          7,
          8,
          9,
          10
         ],
         "y": [
          -1.165397901282973,
          -1.166970441207372,
          -1.4993605774929146,
          -1.5075329609031891,
          -1.6068880996961377,
          -1.6068880996961377,
          -1.6529824468121734,
          -1.6529824468121734,
          -1.6920635209062227,
          -1.7044748048306537
         ]
        },
        {
         "hovertext": "<b>Topic 90</b>:mistake_purchase_modify_make_chang",
         "line": {
          "color": "black",
          "width": 1.5
         },
         "mode": "lines+lines",
         "name": "",
         "opacity": 0.1,
         "type": "scatter",
         "x": [
          1,
          2,
          3,
          4,
          5,
          6,
          7,
          8,
          9,
          10
         ],
         "y": [
          -0.4659075492881935,
          -0.9876522893974014,
          -1.217419787918778,
          -1.2970847380137454,
          -1.3132185336172406,
          -1.6103381916756412,
          -1.6618305496941217,
          -1.7620358751770158,
          -1.8176737068027808,
          -1.948378412396101
         ]
        },
        {
         "hovertext": "<b>Topic 91</b>:make_payment_try_problem_iut_repol",
         "line": {
          "color": "black",
          "width": 1.5
         },
         "mode": "lines+lines",
         "name": "",
         "opacity": 0.1,
         "type": "scatter",
         "x": [
          1,
          2,
          3,
          4,
          5,
          6,
          7,
          8,
          9,
          10
         ],
         "y": [
          -1.3518477148612336,
          -1.453234176909677,
          -1.538573243068689,
          -1.5649550502802432,
          -1.5909780978068502,
          -1.5909780978068502,
          -1.6090085577317559,
          -1.637072444922886,
          -1.680296669265889,
          -1.706500721278416
         ]
        },
        {
         "hovertext": "<b>Topic 92</b>:like_complaint_file_service_submit",
         "line": {
          "color": "black",
          "width": 1.5
         },
         "mode": "lines+lines",
         "name": "",
         "opacity": 0.1,
         "type": "scatter",
         "x": [
          1,
          2,
          3,
          4,
          5,
          6,
          7,
          8,
          9,
          10
         ],
         "y": [
          -1.03669774349764,
          -1.095674299329822,
          -1.4238303751446275,
          -1.4773230811431646,
          -1.483159339533537,
          -1.4929996012151978,
          -1.4951381610973742,
          -1.6611538575676619,
          -1.6611538575676619,
          -1.6763012472764203
         ]
        },
        {
         "hovertext": "<b>Topic 93</b>:user_no_account_have_opn_opdn_opne",
         "line": {
          "color": "black",
          "width": 1.5
         },
         "mode": "lines+lines",
         "name": "",
         "opacity": 0.1,
         "type": "scatter",
         "x": [
          1,
          2,
          3,
          4,
          5,
          6,
          7,
          8,
          9,
          10
         ],
         "y": [
          -1.058992751253364,
          -1.1610986735923199,
          -1.4805238327134946,
          -1.4830190832320789,
          -1.5466586697584925,
          -1.5466586697584925,
          -1.5466586697584925,
          -1.6598628145688212,
          -1.6621812932300586,
          -1.6648111522493034
         ]
        },
        {
         "hovertext": "<b>Topic 94</b>:purchase_about_modify_information_",
         "line": {
          "color": "black",
          "width": 1.5
         },
         "mode": "lines+lines",
         "name": "",
         "opacity": 0.1,
         "type": "scatter",
         "x": [
          1,
          2,
          3,
          4,
          5,
          6,
          7,
          8,
          9,
          10
         ],
         "y": [
          -1.0384358637249136,
          -1.1797215480569703,
          -1.2266018314567728,
          -1.3187977521424035,
          -1.344573556106427,
          -1.541241204726199,
          -1.541241204726199,
          -1.541241204726199,
          -1.5873355518422347,
          -1.6719731316520015
         ]
        },
        {
         "hovertext": "<b>Topic 95</b>:card_pay_with_issue_have_tryng_rep",
         "line": {
          "color": "black",
          "width": 1.5
         },
         "mode": "lines+lines",
         "name": "",
         "opacity": 0.1,
         "type": "scatter",
         "x": [
          1,
          2,
          3,
          4,
          5,
          6,
          7,
          8,
          9,
          10
         ],
         "y": [
          -1.1724161550667764,
          -1.396508715542749,
          -1.5188338929042158,
          -1.523021861652248,
          -1.590140673172454,
          -1.6282261552264796,
          -1.6282261552264796,
          -1.6282261552264796,
          -1.6743205023425154,
          -1.6743205023425154
         ]
        },
        {
         "hovertext": "<b>Topic 96</b>:report_where_payment_issue_iwth_my",
         "line": {
          "color": "black",
          "width": 1.5
         },
         "mode": "lines+lines",
         "name": "",
         "opacity": 0.1,
         "type": "scatter",
         "x": [
          1,
          2,
          3,
          4,
          5,
          6,
          7,
          8,
          9,
          10
         ],
         "y": [
          -0.955384309333951,
          -1.169387177352838,
          -1.316369541255713,
          -1.3543042004653607,
          -1.454450318708247,
          -1.454450318708247,
          -1.454450318708247,
          -1.4792429370736606,
          -1.5641861596142894,
          -1.6173819067104758
         ]
        },
        {
         "hovertext": "<b>Topic 97</b>:mistake_modify_order_make_change_a",
         "line": {
          "color": "black",
          "width": 1.5
         },
         "mode": "lines+lines",
         "name": "",
         "opacity": 0.1,
         "type": "scatter",
         "x": [
          1,
          2,
          3,
          4,
          5,
          6,
          7,
          8,
          9,
          10
         ],
         "y": [
          -0.4904757407789306,
          -1.1682017652485963,
          -1.2571310267773126,
          -1.3380433456926517,
          -1.4152681862777081,
          -1.515025821889424,
          -1.515025821889424,
          -1.515025821889424,
          -1.515025821889424,
          -1.515025821889424
         ]
        },
        {
         "hovertext": "<b>Topic 98</b>:support_speak_customer_information",
         "line": {
          "color": "black",
          "width": 1.5
         },
         "mode": "lines+lines",
         "name": "",
         "opacity": 0.1,
         "type": "scatter",
         "x": [
          1,
          2,
          3,
          4,
          5,
          6,
          7,
          8,
          9,
          10
         ],
         "y": [
          -1.0162871019160726,
          -1.1957407516327636,
          -1.239230788651821,
          -1.3113937847090096,
          -1.3345970883868463,
          -1.5893545651426366,
          -1.5893545651426366,
          -1.5893545651426366,
          -1.5893545651426366,
          -1.5893545651426366
         ]
        },
        {
         "hovertext": "<b>Topic 99</b>:support_mail_customre_see_customer",
         "line": {
          "color": "black",
          "width": 1.5
         },
         "mode": "lines+lines",
         "name": "",
         "opacity": 0.1,
         "type": "scatter",
         "x": [
          1,
          2,
          3,
          4,
          5,
          6,
          7,
          8,
          9,
          10
         ],
         "y": [
          -1.0188698718159812,
          -1.1895738926964,
          -1.1966085182741668,
          -1.2965243327061473,
          -1.3721473270467355,
          -1.3924918045989123,
          -1.486086780066299,
          -1.5590726428455406,
          -1.5761430678593131,
          -1.5761430678593131
         ]
        },
        {
         "hovertext": "<b>Topic 100</b>:track_shipment_rder_tell_apckage_",
         "line": {
          "color": "black",
          "width": 1.5
         },
         "mode": "lines+lines",
         "name": "",
         "opacity": 0.1,
         "type": "scatter",
         "x": [
          1,
          2,
          3,
          4,
          5,
          6,
          7,
          8,
          9,
          10
         ],
         "y": [
          -1.016686000060699,
          -1.054250578594818,
          -1.4081063331536763,
          -1.4851781417794019,
          -1.6115496236831413,
          -1.6115496236831413,
          -1.6115496236831413,
          -1.6115496236831413,
          -1.6115496236831413,
          -1.6115496236831413
         ]
        },
        {
         "hovertext": "<b>Topic 101</b>:profile_no_have_prfofile_get_not_",
         "line": {
          "color": "black",
          "width": 1.5
         },
         "mode": "lines+lines",
         "name": "",
         "opacity": 0.1,
         "type": "scatter",
         "x": [
          1,
          2,
          3,
          4,
          5,
          6,
          7,
          8,
          9,
          10
         ],
         "y": [
          -0.9931030546854639,
          -1.0971097892299175,
          -1.3958003581512017,
          -1.420521878647246,
          -1.5958739302064189,
          -1.6008222678869013,
          -1.717258549764264,
          -1.7172966657681825,
          -1.7219760071992791,
          -2.1186681700845593
         ]
        },
        {
         "hovertext": "<b>Topic 102</b>:call_information_clent_customer_n",
         "line": {
          "color": "black",
          "width": 1.5
         },
         "mode": "lines+lines",
         "name": "",
         "opacity": 0.1,
         "type": "scatter",
         "x": [
          1,
          2,
          3,
          4,
          5,
          6,
          7,
          8,
          9,
          10
         ],
         "y": [
          -0.8838323881317147,
          -1.1401550284477404,
          -1.163180160333422,
          -1.1929307689988518,
          -1.2585031337959136,
          -1.2964329392057148,
          -1.365848081977753,
          -1.4181158088813675,
          -1.4181158088813675,
          -1.4181158088813675
         ]
        },
        {
         "hovertext": "<b>Topic 103</b>:invoice_see_some_tedlo_possible_a",
         "line": {
          "color": "black",
          "width": 1.5
         },
         "mode": "lines+lines",
         "name": "",
         "opacity": 0.1,
         "type": "scatter",
         "x": [
          1,
          2,
          3,
          4,
          5,
          6,
          7,
          8,
          9,
          10
         ],
         "y": [
          -1.0153623827932516,
          -1.0707452894613585,
          -1.3382719304272337,
          -1.3503640246145243,
          -1.371522875887633,
          -1.4258469364351039,
          -1.5243016400193632,
          -1.655090655385706,
          -1.7716308045779687,
          -1.8249830843314316
         ]
        },
        {
         "hovertext": "<b>Topic 104</b>:mail_client_of_the_service_about_",
         "line": {
          "color": "black",
          "width": 1.5
         },
         "mode": "lines+lines",
         "name": "",
         "opacity": 0.1,
         "type": "scatter",
         "x": [
          1,
          2,
          3,
          4,
          5,
          6,
          7,
          8,
          9,
          10
         ],
         "y": [
          -0.8589159067722794,
          -1.0640284220433578,
          -1.4480247244691715,
          -1.4662778522990874,
          -1.4773230811431646,
          -1.5230593387497446,
          -1.5642438445596054,
          -1.5642438445596054,
          -1.5642438445596054,
          -1.6103381916756412
         ]
        },
        {
         "hovertext": "<b>Topic 105</b>:consumer_complaint_discontent_and",
         "line": {
          "color": "black",
          "width": 1.5
         },
         "mode": "lines+lines",
         "name": "",
         "opacity": 0.1,
         "type": "scatter",
         "x": [
          1,
          2,
          3,
          4,
          5,
          6,
          7,
          8,
          9,
          10
         ],
         "y": [
          -0.9396764310395839,
          -1.1536662463075087,
          -1.2291019555197413,
          -1.2849146204573532,
          -1.3849123091142579,
          -1.3957196861393082,
          -1.398228148089318,
          -1.4755892237539443,
          -1.523422519550792,
          -1.5353150281208514
         ]
        },
        {
         "hovertext": "<b>Topic 106</b>:inform_of_payment_agetn_havr_awnn",
         "line": {
          "color": "black",
          "width": 1.5
         },
         "mode": "lines+lines",
         "name": "",
         "opacity": 0.1,
         "type": "scatter",
         "x": [
          1,
          2,
          3,
          4,
          5,
          6,
          7,
          8,
          9,
          10
         ],
         "y": [
          -1.2154895120929188,
          -1.465058063767952,
          -1.540443275969269,
          -1.5990059508188175,
          -1.5990059508188175,
          -1.6451002979348532,
          -1.669892916300267,
          -1.669892916300267,
          -1.7548361388408955,
          -1.7708038853275356
         ]
        },
        {
         "hovertext": "<b>Topic 107</b>:card_error_message_attempt_pay_wh",
         "line": {
          "color": "black",
          "width": 1.5
         },
         "mode": "lines+lines",
         "name": "",
         "opacity": 0.1,
         "type": "scatter",
         "x": [
          1,
          2,
          3,
          4,
          5,
          6,
          7,
          8,
          9,
          10
         ],
         "y": [
          -1.274941486287288,
          -1.3509316148427108,
          -1.4024554492672237,
          -1.473651946084494,
          -1.5175174524572739,
          -1.5617920426629988,
          -1.595437453303445,
          -1.6283445588928813,
          -1.6485647302596413,
          -1.6485647302596413
         ]
        },
        {
         "hovertext": "<b>Topic 108</b>:file_complaint_ask_lodge_mje_agen",
         "line": {
          "color": "black",
          "width": 1.5
         },
         "mode": "lines+lines",
         "name": "",
         "opacity": 0.1,
         "type": "scatter",
         "x": [
          1,
          2,
          3,
          4,
          5,
          6,
          7,
          8,
          9,
          10
         ],
         "y": [
          -1.0067642279664253,
          -1.0185562138459705,
          -1.4482858732926847,
          -1.4672380982837046,
          -1.487125759075754,
          -1.4930834959041503,
          -1.5626086708963334,
          -1.5898218639548831,
          -1.6382562175850837,
          -1.7311067105203364
         ]
        },
        {
         "hovertext": "<b>Topic 109</b>:client_email_of_service_the_yoush",
         "line": {
          "color": "black",
          "width": 1.5
         },
         "mode": "lines+lines",
         "name": "",
         "opacity": 0.1,
         "type": "scatter",
         "x": [
          1,
          2,
          3,
          4,
          5,
          6,
          7,
          8,
          9,
          10
         ],
         "y": [
          -1.0695227325867778,
          -1.23390896746484,
          -1.43579026805216,
          -1.465088624726153,
          -1.4752326949520138,
          -1.5520093881425938,
          -1.597975058051633,
          -1.7177461069416795,
          -1.864970600069117,
          -1.9308282399073347
         ]
        },
        {
         "hovertext": "<b>Topic 110</b>:leave_review_tol_rview_ho_for_ser",
         "line": {
          "color": "black",
          "width": 1.5
         },
         "mode": "lines+lines",
         "name": "",
         "opacity": 0.1,
         "type": "scatter",
         "x": [
          1,
          2,
          3,
          4,
          5,
          6,
          7,
          8,
          9,
          10
         ],
         "y": [
          -0.3317823631887245,
          -0.429543901194291,
          -1.2696354912477088,
          -1.2696354912477088,
          -1.339063767603239,
          -1.3411131904982607,
          -1.5168316224268383,
          -1.748000343455237,
          -1.8375069025644462,
          -2.0185974485770433
         ]
        },
        {
         "hovertext": "<b>Topic 111</b>:package_know_where_tfackmy_wasn_c",
         "line": {
          "color": "black",
          "width": 1.5
         },
         "mode": "lines+lines",
         "name": "",
         "opacity": 0.1,
         "type": "scatter",
         "x": [
          1,
          2,
          3,
          4,
          5,
          6,
          7,
          8,
          9,
          10
         ],
         "y": [
          -0.7919381110717081,
          -1.0631572594972065,
          -1.3786531105674522,
          -1.5169517429254622,
          -1.5169517429254622,
          -1.5169517429254622,
          -1.563046090041498,
          -1.6145384480599785,
          -1.649163737635692,
          -1.6915848075279727
         ]
        },
        {
         "hovertext": "<b>Topic 112</b>:delivery_ask_whee_otions_howw_age",
         "line": {
          "color": "black",
          "width": 1.5
         },
         "mode": "lines+lines",
         "name": "",
         "opacity": 0.1,
         "type": "scatter",
         "x": [
          1,
          2,
          3,
          4,
          5,
          6,
          7,
          8,
          9,
          10
         ],
         "y": [
          -1.0134756554126727,
          -1.4965952628364059,
          -1.5169517429254622,
          -1.5169517429254622,
          -1.5169517429254622,
          -1.5229094797538585,
          -1.5277216764940207,
          -1.541876877591414,
          -1.5426103053485103,
          -1.6873184400923447
         ]
        },
        {
         "hovertext": "<b>Topic 113</b>:bill_check_ask_agent_hw_hwere_sak",
         "line": {
          "color": "black",
          "width": 1.5
         },
         "mode": "lines+lines",
         "name": "",
         "opacity": 0.1,
         "type": "scatter",
         "x": [
          1,
          2,
          3,
          4,
          5,
          6,
          7,
          8,
          9,
          10
         ],
         "y": [
          -1.220055137722814,
          -1.2261015623421954,
          -1.5197268258848455,
          -1.5267358876069115,
          -1.5962610625990947,
          -1.636300774250081,
          -1.6515100777043175,
          -1.7026555017052691,
          -1.7510898553354697,
          -1.7647591022230975
         ]
        },
        {
         "hovertext": "<b>Topic 114</b>:uptodate_stay_newsletter_keep_the",
         "line": {
          "color": "black",
          "width": 1.5
         },
         "mode": "lines+lines",
         "name": "",
         "opacity": 0.1,
         "type": "scatter",
         "x": [
          1,
          2,
          3,
          4,
          5,
          6,
          7,
          8,
          9,
          10
         ],
         "y": [
          -0.46719138346281613,
          -0.655035737551224,
          -0.782060095796485,
          -0.837982722255178,
          -0.8859767189640247,
          -1.415962165230525,
          -1.5207781507785152,
          -1.5207781507785152,
          -1.544104922069922,
          -1.5962610625990947
         ]
        },
        {
         "hovertext": "<b>Topic 115</b>:request_invoice_invpice_som_some_",
         "line": {
          "color": "black",
          "width": 1.5
         },
         "mode": "lines+lines",
         "name": "",
         "opacity": 0.1,
         "type": "scatter",
         "x": [
          1,
          2,
          3,
          4,
          5,
          6,
          7,
          8,
          9,
          10
         ],
         "y": [
          -0.9023294006376599,
          -1.1474681461124283,
          -1.3855597749256445,
          -1.3855597749256445,
          -1.431459627716041,
          -1.4316541220416803,
          -1.4546440367777265,
          -1.461042686746224,
          -1.560192839528155,
          -1.7565129338298546
         ]
        },
        {
         "hovertext": "<b>Topic 116</b>:consumer_like_complaint_submit_lo",
         "line": {
          "color": "black",
          "width": 1.5
         },
         "mode": "lines+lines",
         "name": "",
         "opacity": 0.1,
         "type": "scatter",
         "x": [
          1,
          2,
          3,
          4,
          5,
          6,
          7,
          8,
          9,
          10
         ],
         "y": [
          -0.9413777525658648,
          -1.0786622450411762,
          -1.137638800873358,
          -1.3427836327443903,
          -1.488656033569454,
          -1.5192875826867007,
          -1.5202408459380277,
          -1.554521440642019,
          -1.70354249199925,
          -1.751280402528918
         ]
        },
        {
         "hovertext": "<b>Topic 117</b>:about_something_bill_obtain_some_",
         "line": {
          "color": "black",
          "width": 1.5
         },
         "mode": "lines+lines",
         "name": "",
         "opacity": 0.1,
         "type": "scatter",
         "x": [
          1,
          2,
          3,
          4,
          5,
          6,
          7,
          8,
          9,
          10
         ],
         "y": [
          -1.0731652536453316,
          -1.1317516556721354,
          -1.133961897258859,
          -1.2588666561862418,
          -1.2842901179609882,
          -1.4346849103145602,
          -1.4346849103145602,
          -1.480779257430596,
          -1.5101678221351398,
          -1.5549216946140234
         ]
        },
        {
         "hovertext": "<b>Topic 118</b>:check_order_wanty_kknow_mky_ca_ho",
         "line": {
          "color": "black",
          "width": 1.5
         },
         "mode": "lines+lines",
         "name": "",
         "opacity": 0.1,
         "type": "scatter",
         "x": [
          1,
          2,
          3,
          4,
          5,
          6,
          7,
          8,
          9,
          10
         ],
         "y": [
          -1.0856506595556477,
          -1.2078626482044827,
          -1.3803272479919677,
          -1.3803272479919677,
          -1.3803272479919677,
          -1.5243335956398283,
          -1.5549603125944782,
          -1.6255027688997308,
          -1.6421359374711098,
          -1.6732241880795877
         ]
        },
        {
         "hovertext": "<b>Topic 119</b>:their_option_payment_optiond_assk",
         "line": {
          "color": "black",
          "width": 1.5
         },
         "mode": "lines+lines",
         "name": "",
         "opacity": 0.1,
         "type": "scatter",
         "x": [
          1,
          2,
          3,
          4,
          5,
          6,
          7,
          8,
          9,
          10
         ],
         "y": [
          -0.7488963254799801,
          -0.9741844757096313,
          -1.515823813971467,
          -1.518869160971184,
          -1.518869160971184,
          -1.518869160971184,
          -1.5380212221658014,
          -1.544132052994967,
          -1.5805577430560713,
          -1.6164558661057002
         ]
        },
        {
         "hovertext": "<b>Topic 120</b>:bil_bils_ibll_abill_bklls_bipls_b",
         "line": {
          "color": "black",
          "width": 1.5
         },
         "mode": "lines+lines",
         "name": "",
         "opacity": 0.1,
         "type": "scatter",
         "x": [
          1,
          2,
          3,
          4,
          5,
          6,
          7,
          8,
          9,
          10
         ],
         "y": [
          -0.598472178568072,
          -0.7950905847410219,
          -0.8979255280353851,
          -1.0446282223865229,
          -1.2995638709344681,
          -1.2995638709344681,
          -1.2995638709344681,
          -1.2995638709344681,
          -1.2995638709344681,
          -1.2995638709344681
         ]
        },
        {
         "hovertext": "<b>Topic 121</b>:invoice_obtain_where_telo_gt_know",
         "line": {
          "color": "black",
          "width": 1.5
         },
         "mode": "lines+lines",
         "name": "",
         "opacity": 0.1,
         "type": "scatter",
         "x": [
          1,
          2,
          3,
          4,
          5,
          6,
          7,
          8,
          9,
          10
         ],
         "y": [
          -1.0820160767610427,
          -1.2270748217623904,
          -1.2425069135698605,
          -1.3615003907324839,
          -1.4369833025530634,
          -1.4817371750319472,
          -1.6094031094402688,
          -1.6461682028882976,
          -1.7166446253708723,
          -1.732453549636694
         ]
        },
        {
         "hovertext": "<b>Topic 122</b>:create_one_createw_opoen_fukcing_",
         "line": {
          "color": "black",
          "width": 1.5
         },
         "mode": "lines+lines",
         "name": "",
         "opacity": 0.1,
         "type": "scatter",
         "x": [
          1,
          2,
          3,
          4,
          5,
          6,
          7,
          8,
          9,
          10
         ],
         "y": [
          -1.031648693613381,
          -1.0971699934388301,
          -1.3642404280985128,
          -1.3642404280985128,
          -1.4103347752145485,
          -1.4328041649509708,
          -1.4558016866520025,
          -1.4949723550243152,
          -1.7553941826530615,
          -1.7654876398747499
         ]
        },
        {
         "hovertext": "<b>Topic 123</b>:soon_expect_ticket_arrive_sono_kn",
         "line": {
          "color": "black",
          "width": 1.5
         },
         "mode": "lines+lines",
         "name": "",
         "opacity": 0.1,
         "type": "scatter",
         "x": [
          1,
          2,
          3,
          4,
          5,
          6,
          7,
          8,
          9,
          10
         ],
         "y": [
          -0.4247903852419621,
          -0.440246672566712,
          -0.8051052035321945,
          -0.8159895517443396,
          -1.2089376508940972,
          -1.5099676465580782,
          -1.638506364044553,
          -1.7256819889211845,
          -1.7882300663974304,
          -1.8800304591829178
         ]
        },
        {
         "hovertext": "<b>Topic 124</b>:notify_payment_id_issue_wih_wiht_",
         "line": {
          "color": "black",
          "width": 1.5
         },
         "mode": "lines+lines",
         "name": "",
         "opacity": 0.1,
         "type": "scatter",
         "x": [
          1,
          2,
          3,
          4,
          5,
          6,
          7,
          8,
          9,
          10
         ],
         "y": [
          -1.1006383283394292,
          -1.4053106245924942,
          -1.4758775178869306,
          -1.4792429370736606,
          -1.4838388834127907,
          -1.5059426767267272,
          -1.5584241831212855,
          -1.6589611209138895,
          -1.7199690220106783,
          -1.7805591703851595
         ]
        },
        {
         "hovertext": "<b>Topic 125</b>:check_order_ploease_possible_agne",
         "line": {
          "color": "black",
          "width": 1.5
         },
         "mode": "lines+lines",
         "name": "",
         "opacity": 0.1,
         "type": "scatter",
         "x": [
          1,
          2,
          3,
          4,
          5,
          6,
          7,
          8,
          9,
          10
         ],
         "y": [
          -1.036690983192508,
          -1.158902971841343,
          -1.3120624164334413,
          -1.3332212677065498,
          -1.4275850399050072,
          -1.640901991824023,
          -1.7282195761743164,
          -1.7874143100712259,
          -1.8291436110158894,
          -1.8582679330051854
         ]
        },
        {
         "hovertext": "<b>Topic 126</b>:notify_make_payment_anb_havean_ma",
         "line": {
          "color": "black",
          "width": 1.5
         },
         "mode": "lines+lines",
         "name": "",
         "opacity": 0.1,
         "type": "scatter",
         "x": [
          1,
          2,
          3,
          4,
          5,
          6,
          7,
          8,
          9,
          10
         ],
         "y": [
          -1.051025312934513,
          -1.2745145332274217,
          -1.355697609187578,
          -1.358742956187295,
          -1.358742956187295,
          -1.4048373033033308,
          -1.4048373033033308,
          -1.4296299216687447,
          -1.5545686582770446,
          -1.5671070663964357
         ]
        },
        {
         "hovertext": "<b>Topic 127</b>:track_reimbursement_reimbursemenn",
         "line": {
          "color": "black",
          "width": 1.5
         },
         "mode": "lines+lines",
         "name": "",
         "opacity": 0.1,
         "type": "scatter",
         "x": [
          1,
          2,
          3,
          4,
          5,
          6,
          7,
          8,
          9,
          10
         ],
         "y": [
          -0.8024739552986199,
          -0.9792336744775538,
          -1.3418202510712307,
          -1.3418202510712307,
          -1.5434368752747394,
          -1.7781807969003929,
          -1.8662794503947948,
          -1.8864630520856127,
          -1.8934553960568903,
          -2.0269848145717075
         ]
        },
        {
         "hovertext": "<b>Topic 128</b>:sign_up_signing_find_while_issuea",
         "line": {
          "color": "black",
          "width": 1.5
         },
         "mode": "lines+lines",
         "name": "",
         "opacity": 0.1,
         "type": "scatter",
         "x": [
          1,
          2,
          3,
          4,
          5,
          6,
          7,
          8,
          9,
          10
         ],
         "y": [
          -0.22182297910201168,
          -0.4294470149303625,
          -0.8403862069266032,
          -1.0187834102624647,
          -1.0578002351936437,
          -1.242024549825686,
          -1.242024549825686,
          -1.3920927613547605,
          -1.4326577437738193,
          -1.4378502519154357
         ]
        },
        {
         "hovertext": "<b>Topic 129</b>:arrive_go_will_ticket_when_gtoiin",
         "line": {
          "color": "black",
          "width": 1.5
         },
         "mode": "lines+lines",
         "name": "",
         "opacity": 0.1,
         "type": "scatter",
         "x": [
          1,
          2,
          3,
          4,
          5,
          6,
          7,
          8,
          9,
          10
         ],
         "y": [
          -0.5105947506779084,
          -0.6825802349488941,
          -0.7932519399102436,
          -0.8007403981297444,
          -1.3525324203546631,
          -1.4393051079513055,
          -1.5761750608221476,
          -1.6058276050939897,
          -1.6844806288590686,
          -1.8347585374361166
         ]
        },
        {
         "hovertext": "<b>Topic 130</b>:credit_card_if_car_credot_with_te",
         "line": {
          "color": "black",
          "width": 1.5
         },
         "mode": "lines+lines",
         "name": "",
         "opacity": 0.1,
         "type": "scatter",
         "x": [
          1,
          2,
          3,
          4,
          5,
          6,
          7,
          8,
          9,
          10
         ],
         "y": [
          -0.5952313795214756,
          -1.1107857886045402,
          -1.3527690245670303,
          -1.3829513918181164,
          -1.3829513918181164,
          -1.4349271317308272,
          -1.4984740152896823,
          -1.5031881761175796,
          -1.591977326936381,
          -1.6136319500333418
         ]
        },
        {
         "hovertext": "<b>Topic 131</b>:online_for_order_pay_ordder_onfor",
         "line": {
          "color": "black",
          "width": 1.5
         },
         "mode": "lines+lines",
         "name": "",
         "opacity": 0.1,
         "type": "scatter",
         "x": [
          1,
          2,
          3,
          4,
          5,
          6,
          7,
          8,
          9,
          10
         ],
         "y": [
          -1.350456755542033,
          -1.391005060443898,
          -1.4849726450185705,
          -1.5041135722925358,
          -1.5744630097412915,
          -1.5744630097412915,
          -1.6205573568573273,
          -1.6205573568573273,
          -1.649945921561871,
          -1.6681861906813682
         ]
        },
        {
         "hovertext": "<b>Topic 132</b>:shipment_rtack_check_posaible_yyo",
         "line": {
          "color": "black",
          "width": 1.5
         },
         "mode": "lines+lines",
         "name": "",
         "opacity": 0.1,
         "type": "scatter",
         "x": [
          1,
          2,
          3,
          4,
          5,
          6,
          7,
          8,
          9,
          10
         ],
         "y": [
          -0.6700022479166565,
          -1.0692756574650908,
          -1.1359900484910033,
          -1.3242113060130363,
          -1.3242113060130363,
          -1.370305653129072,
          -1.41896767537025,
          -1.5860199954921783,
          -1.646400152950126,
          -1.7817611509121365
         ]
        },
        {
         "hovertext": "<b>Topic 133</b>:informed_stay_keep_newsletter_the",
         "line": {
          "color": "black",
          "width": 1.5
         },
         "mode": "lines+lines",
         "name": "",
         "opacity": 0.1,
         "type": "scatter",
         "x": [
          1,
          2,
          3,
          4,
          5,
          6,
          7,
          8,
          9,
          10
         ],
         "y": [
          -0.6029978254242796,
          -0.7310306561592343,
          -0.7678496051849502,
          -0.7949012137910212,
          -0.9205789524138099,
          -1.4484913900574448,
          -1.4506450337082875,
          -1.5261279455288668,
          -1.5619786166624827,
          -1.6288737649854372
         ]
        },
        {
         "hovertext": "<b>Topic 134</b>:view_bill_whwre_receiove_my_help_",
         "line": {
          "color": "black",
          "width": 1.5
         },
         "mode": "lines+lines",
         "name": "",
         "opacity": 0.1,
         "type": "scatter",
         "x": [
          1,
          2,
          3,
          4,
          5,
          6,
          7,
          8,
          9,
          10
         ],
         "y": [
          -0.8255047815496969,
          -0.9797229824124445,
          -1.219748155114534,
          -1.219748155114534,
          -1.6772980000136342,
          -1.713774463895923,
          -1.9456202368825455,
          -1.9586526501556072,
          -2.0442490249021126,
          -2.081324779099018
         ]
        },
        {
         "hovertext": "<b>Topic 135</b>:refund_one_rebund_ike_ened_reund_",
         "line": {
          "color": "black",
          "width": 1.5
         },
         "mode": "lines+lines",
         "name": "",
         "opacity": 0.1,
         "type": "scatter",
         "x": [
          1,
          2,
          3,
          4,
          5,
          6,
          7,
          8,
          9,
          10
         ],
         "y": [
          -0.8686394369060871,
          -0.9562719021982493,
          -1.1798766430768417,
          -1.1798766430768417,
          -1.2259709901928775,
          -1.2259709901928775,
          -1.255359554897421,
          -1.2672998237231046,
          -1.280222854422806,
          -1.2953992665484075
         ]
        },
        {
         "hovertext": "<b>Topic 136</b>:purchase_change_purtchase_tell_ho",
         "line": {
          "color": "black",
          "width": 1.5
         },
         "mode": "lines+lines",
         "name": "",
         "opacity": 0.1,
         "type": "scatter",
         "x": [
          1,
          2,
          3,
          4,
          5,
          6,
          7,
          8,
          9,
          10
         ],
         "y": [
          -1.066578143210731,
          -1.0939622346394156,
          -1.3932922251563353,
          -1.5301621780271772,
          -1.679899049202778,
          -1.7725591929773041,
          -1.8181343112603656,
          -1.8731184647665877,
          -1.9545516601693322,
          -1.977866055748503
         ]
        },
        {
         "hovertext": "<b>Topic 137</b>:notify_propblem_payment_problem_i",
         "line": {
          "color": "black",
          "width": 1.5
         },
         "mode": "lines+lines",
         "name": "",
         "opacity": 0.1,
         "type": "scatter",
         "x": [
          1,
          2,
          3,
          4,
          5,
          6,
          7,
          8,
          9,
          10
         ],
         "y": [
          -0.9100208160871515,
          -1.1540693794705563,
          -1.2146931123402165,
          -1.3498950815603057,
          -1.3498950815603057,
          -1.5469622112303452,
          -1.7649081862054525,
          -1.8081051107112294,
          -2.213679215697619,
          -2.327674059339011
         ]
        },
        {
         "hovertext": "<b>Topic 138</b>:client_talk_sdpeak_couldspeak_mak",
         "line": {
          "color": "black",
          "width": 1.5
         },
         "mode": "lines+lines",
         "name": "",
         "opacity": 0.1,
         "type": "scatter",
         "x": [
          1,
          2,
          3,
          4,
          5,
          6,
          7,
          8,
          9,
          10
         ],
         "y": [
          -1.065115517684572,
          -1.367478314781502,
          -1.446144532481611,
          -1.446144532481611,
          -1.446144532481611,
          -1.48416250567347,
          -1.5087622874573186,
          -1.5350765043747712,
          -1.5901508801294717,
          -1.67377937396904
         ]
        },
        {
         "hovertext": "<b>Topic 139</b>:register_registering_odl_wher_wat",
         "line": {
          "color": "black",
          "width": 1.5
         },
         "mode": "lines+lines",
         "name": "",
         "opacity": 0.1,
         "type": "scatter",
         "x": [
          1,
          2,
          3,
          4,
          5,
          6,
          7,
          8,
          9,
          10
         ],
         "y": [
          -0.650953424223769,
          -0.9995314269962955,
          -1.02017580020933,
          -1.0662701473253655,
          -1.1509077271351322,
          -1.64154501254095,
          -1.7183220916466435,
          -1.881752424193814,
          -1.923857916044533,
          -2.020599933097382
         ]
        },
        {
         "hovertext": "<b>Topic 140</b>:bill_check_fuckingbill_checkl_ols",
         "line": {
          "color": "black",
          "width": 1.5
         },
         "mode": "lines+lines",
         "name": "",
         "opacity": 0.1,
         "type": "scatter",
         "x": [
          1,
          2,
          3,
          4,
          5,
          6,
          7,
          8,
          9,
          10
         ],
         "y": [
          -1.0019993771235967,
          -1.008045801742978,
          -1.171443475539979,
          -1.171443475539979,
          -1.2175378226560147,
          -1.6143172618739865,
          -1.6747508109997542,
          -1.8569288404687818,
          -1.8950946367521917,
          -1.8973155573079905
         ]
        },
        {
         "hovertext": "<b>Topic 141</b>:report_maiing_paiyng_payment_prob",
         "line": {
          "color": "black",
          "width": 1.5
         },
         "mode": "lines+lines",
         "name": "",
         "opacity": 0.1,
         "type": "scatter",
         "x": [
          1,
          2,
          3,
          4,
          5,
          6,
          7,
          8,
          9,
          10
         ],
         "y": [
          -0.8901249879151498,
          -1.13597115737776,
          -1.2114540691983395,
          -1.2448995698219754,
          -1.3317968594675094,
          -1.3317968594675094,
          -1.674992024815787,
          -1.7702910599621793,
          -1.7900068886184333,
          -2.1955809936048225
         ]
        },
        {
         "hovertext": "<b>Topic 142</b>:available_any_there_person_if_iss",
         "line": {
          "color": "black",
          "width": 1.5
         },
         "mode": "lines+lines",
         "name": "",
         "opacity": 0.1,
         "type": "scatter",
         "x": [
          1,
          2,
          3,
          4,
          5,
          6,
          7,
          8,
          9,
          10
         ],
         "y": [
          -0.36778507351055145,
          -0.4736624385488619,
          -0.695359206711747,
          -1.1884733713697528,
          -1.328006994875395,
          -1.3301606385262374,
          -1.3301606385262374,
          -1.3301606385262374,
          -1.3301606385262374,
          -1.3533816814614643
         ]
        },
        {
         "hovertext": "<b>Topic 143</b>:through_go_fail_will_dop_payment_",
         "line": {
          "color": "black",
          "width": 1.5
         },
         "mode": "lines+lines",
         "name": "",
         "opacity": 0.1,
         "type": "scatter",
         "x": [
          1,
          2,
          3,
          4,
          5,
          6,
          7,
          8,
          9,
          10
         ],
         "y": [
          -0.4555403973289024,
          -0.5385915852812074,
          -0.6856856957151775,
          -0.7961963205570249,
          -1.3331050191730187,
          -1.417209847892202,
          -1.548167514671886,
          -1.603115812207095,
          -1.7811474816246045,
          -1.8059329493457181
         ]
        },
        {
         "hovertext": "<b>Topic 144</b>:order_change_modify_knolw_possibe",
         "line": {
          "color": "black",
          "width": 1.5
         },
         "mode": "lines+lines",
         "name": "",
         "opacity": 0.1,
         "type": "scatter",
         "x": [
          1,
          2,
          3,
          4,
          5,
          6,
          7,
          8,
          9,
          10
         ],
         "y": [
          -1.2239388332696708,
          -1.227979027420553,
          -1.2441540411660228,
          -1.289948102142869,
          -1.289948102142869,
          -1.3499423652408709,
          -1.6121369490799589,
          -1.6143048690982569,
          -1.660901261047079,
          -1.7728554487336041
         ]
        },
        {
         "hovertext": "<b>Topic 145</b>:track_delivery_where_tell_know_my",
         "line": {
          "color": "black",
          "width": 1.5
         },
         "mode": "lines+lines",
         "name": "",
         "opacity": 0.1,
         "type": "scatter",
         "x": [
          1,
          2,
          3,
          4,
          5,
          6,
          7,
          8,
          9,
          10
         ],
         "y": [
          -0.8953386145419494,
          -0.9505139779971574,
          -1.3156914331519367,
          -1.563585933514127,
          -1.7688015145591045,
          -1.8508420700554356,
          -1.8515580667473153,
          -1.9959443453275574,
          -2.1231837899765487,
          -2.1362285478437526
         ]
        },
        {
         "hovertext": "<b>Topic 146</b>:invoice_check_lease_ask_agent_ica",
         "line": {
          "color": "black",
          "width": 1.5
         },
         "mode": "lines+lines",
         "name": "",
         "opacity": 0.1,
         "type": "scatter",
         "x": [
          1,
          2,
          3,
          4,
          5,
          6,
          7,
          8,
          9,
          10
         ],
         "y": [
          -1.203505275917674,
          -1.207618156648182,
          -1.441933761286251,
          -1.4819382649954458,
          -1.5082524819128982,
          -1.5113620376417811,
          -1.6234742556576442,
          -1.7161786308378544,
          -1.7647591022230975,
          -1.7810530787129129
         ]
        },
        {
         "hovertext": "<b>Topic 147</b>:track_refund_my_would_where_shoul",
         "line": {
          "color": "black",
          "width": 1.5
         },
         "mode": "lines+lines",
         "name": "",
         "opacity": 0.1,
         "type": "scatter",
         "x": [
          1,
          2,
          3,
          4,
          5,
          6,
          7,
          8,
          9,
          10
         ],
         "y": [
          -0.7648545451345924,
          -0.9058134590175485,
          -1.7203580006480785,
          -1.8773916449637478,
          -1.9385350304031912,
          -1.9660850072999516,
          -1.9872833859086412,
          -2.0167279512508496,
          -2.0204807856264626,
          -2.0448922221129116
         ]
        },
        {
         "hovertext": "<b>Topic 148</b>:newsletter_receive_about_informma",
         "line": {
          "color": "black",
          "width": 1.5
         },
         "mode": "lines+lines",
         "name": "",
         "opacity": 0.1,
         "type": "scatter",
         "x": [
          1,
          2,
          3,
          4,
          5,
          6,
          7,
          8,
          9,
          10
         ],
         "y": [
          -0.6921247305917569,
          -0.7880559591632549,
          -1.2583793651246074,
          -1.2995638709344681,
          -1.2995638709344681,
          -1.4195430991728788,
          -1.4660863680771523,
          -1.5057268347770385,
          -1.5885017724111588,
          -1.5943982476935765
         ]
        },
        {
         "hovertext": "<b>Topic 149</b>:notify_online_for_order_aying_pay",
         "line": {
          "color": "black",
          "width": 1.5
         },
         "mode": "lines+lines",
         "name": "",
         "opacity": 0.1,
         "type": "scatter",
         "x": [
          1,
          2,
          3,
          4,
          5,
          6,
          7,
          8,
          9,
          10
         ],
         "y": [
          -1.352705693567524,
          -1.3950243974628223,
          -1.4355727023646871,
          -1.5072638922282076,
          -1.5484495773763736,
          -1.5750101529356741,
          -1.6239324891969529,
          -1.6460362825108896,
          -1.6460362825108896,
          -1.706658740466316
         ]
        },
        {
         "hovertext": "<b>Topic 150</b>:tracking_track_order_possible_can",
         "line": {
          "color": "black",
          "width": 1.5
         },
         "mode": "lines+lines",
         "name": "",
         "opacity": 0.1,
         "type": "scatter",
         "x": [
          1,
          2,
          3,
          4,
          5,
          6,
          7,
          8,
          9,
          10
         ],
         "y": [
          -0.8477667434198335,
          -0.8842496423763372,
          -1.212444546579163,
          -1.2484601442780885,
          -1.3027842048255593,
          -1.3248879981394959,
          -1.4536581694989286,
          -1.5561408683955615,
          -1.7554322121897874,
          -1.7735068095767241
         ]
        },
        {
         "hovertext": "<b>Topic 151</b>:refund_refumd_postopned_cincert_o",
         "line": {
          "color": "black",
          "width": 1.5
         },
         "mode": "lines+lines",
         "name": "",
         "opacity": 0.1,
         "type": "scatter",
         "x": [
          1,
          2,
          3,
          4,
          5,
          6,
          7,
          8,
          9,
          10
         ],
         "y": [
          -0.8165724724384047,
          -1.0766571561617782,
          -1.0766571561617782,
          -1.0766571561617782,
          -1.0904133310777895,
          -1.2432615828556657,
          -1.2619964739910852,
          -1.3530946265634238,
          -1.4607917239982735,
          -1.4682392313825083
         ]
        },
        {
         "hovertext": "<b>Topic 152</b>:bill_check_tocheck_where_my_how_w",
         "line": {
          "color": "black",
          "width": 1.5
         },
         "mode": "lines+lines",
         "name": "",
         "opacity": 0.1,
         "type": "scatter",
         "x": [
          1,
          2,
          3,
          4,
          5,
          6,
          7,
          8,
          9,
          10
         ],
         "y": [
          -0.9176784914235607,
          -0.9500538547652913,
          -1.087122589839943,
          -1.532400543115882,
          -1.6152535090247504,
          -1.826027084881016,
          -1.9908047056751463,
          -2.1848629736928276,
          -2.2777449931916496,
          -2.388576718391976
         ]
        },
        {
         "hovertext": "<b>Topic 153</b>:request_invoice_some_possible_tok",
         "line": {
          "color": "black",
          "width": 1.5
         },
         "mode": "lines+lines",
         "name": "",
         "opacity": 0.1,
         "type": "scatter",
         "x": [
          1,
          2,
          3,
          4,
          5,
          6,
          7,
          8,
          9,
          10
         ],
         "y": [
          -0.8746472807923682,
          -1.059088185913525,
          -1.1370251850840132,
          -1.2214286529917935,
          -1.2463641488347208,
          -1.4199649076841987,
          -1.6215365816821292,
          -1.8142610093091895,
          -1.913770950350729,
          -2.1022331425423775
         ]
        },
        {
         "hovertext": "<b>Topic 154</b>:option_your_accept_optins_about_p",
         "line": {
          "color": "black",
          "width": 1.5
         },
         "mode": "lines+lines",
         "name": "",
         "opacity": 0.1,
         "type": "scatter",
         "x": [
          1,
          2,
          3,
          4,
          5,
          6,
          7,
          8,
          9,
          10
         ],
         "y": [
          -0.828744643421665,
          -0.8948180378345437,
          -1.0821014853630768,
          -1.2273012930049798,
          -1.2732669629140192,
          -1.3248879981394959,
          -1.3248879981394959,
          -1.420550591149231,
          -1.444190534251447,
          -1.7344942525115312
         ]
        },
        {
         "hovertext": "<b>Topic 155</b>:inform_wherecan_issud_make_where_",
         "line": {
          "color": "black",
          "width": 1.5
         },
         "mode": "lines+lines",
         "name": "",
         "opacity": 0.1,
         "type": "scatter",
         "x": [
          1,
          2,
          3,
          4,
          5,
          6,
          7,
          8,
          9,
          10
         ],
         "y": [
          -1.0413327528144372,
          -1.231029165524223,
          -1.231029165524223,
          -1.264900054642344,
          -1.2783671101281244,
          -1.2909013044894702,
          -1.3662865166907874,
          -1.4780073900613537,
          -1.5359993370390406,
          -2.007411054825989
         ]
        },
        {
         "hovertext": "<b>Topic 156</b>:decline_transfer_transaction_be_c",
         "line": {
          "color": "black",
          "width": 1.5
         },
         "mode": "lines+lines",
         "name": "",
         "opacity": 0.1,
         "type": "scatter",
         "x": [
          1,
          2,
          3,
          4,
          5,
          6,
          7,
          8,
          9,
          10
         ],
         "y": [
          -0.23062438986256747,
          -0.5646420029904018,
          -0.6286139455837901,
          -1.4825760193247541,
          -1.5196793198514769,
          -1.6959519394274003,
          -1.7392850349474536,
          -1.8098279932292423,
          -1.8766933574131017,
          -2.132056367501913
         ]
        },
        {
         "hovertext": "<b>Topic 157</b>:see_bill_nkow_where_tell_want_it_",
         "line": {
          "color": "black",
          "width": 1.5
         },
         "mode": "lines+lines",
         "name": "",
         "opacity": 0.1,
         "type": "scatter",
         "x": [
          1,
          2,
          3,
          4,
          5,
          6,
          7,
          8,
          9,
          10
         ],
         "y": [
          -1.1152672330097266,
          -1.133671496390865,
          -1.3743733612194142,
          -1.5971258727525373,
          -1.6477398149891083,
          -1.703347517200439,
          -1.9193524336547527,
          -1.9357119482222964,
          -1.9619512195853748,
          -1.976587031265745
         ]
        },
        {
         "hovertext": "<b>Topic 158</b>:master_card_if_with_pay_make_paym",
         "line": {
          "color": "black",
          "width": 1.5
         },
         "mode": "lines+lines",
         "name": "",
         "opacity": 0.1,
         "type": "scatter",
         "x": [
          1,
          2,
          3,
          4,
          5,
          6,
          7,
          8,
          9,
          10
         ],
         "y": [
          -0.4104326340356867,
          -1.1500027496789882,
          -1.3753443143222608,
          -1.4964204875164275,
          -1.675125305818942,
          -1.6824356193777623,
          -1.7838220814262058,
          -1.8646159291781081,
          -1.8753993062657925,
          -1.8937402511674044
         ]
        },
        {
         "hovertext": "<b>Topic 159</b>:edit_shipping_address_my_would_mo",
         "line": {
          "color": "black",
          "width": 1.5
         },
         "mode": "lines+lines",
         "name": "",
         "opacity": 0.1,
         "type": "scatter",
         "x": [
          1,
          2,
          3,
          4,
          5,
          6,
          7,
          8,
          9,
          10
         ],
         "y": [
          -0.3955677925860142,
          -0.5925217864272956,
          -0.9742785370233934,
          -1.7703816051686376,
          -1.9010863107619578,
          -2.0152257262988917,
          -2.0404226170490594,
          -2.0685868879111218,
          -2.1359167883151513,
          -2.1383209552570825
         ]
        },
        {
         "hovertext": "<b>Topic 160</b>:track_order_trackmy_where_tell_kn",
         "line": {
          "color": "black",
          "width": 1.5
         },
         "mode": "lines+lines",
         "name": "",
         "opacity": 0.1,
         "type": "scatter",
         "x": [
          1,
          2,
          3,
          4,
          5,
          6,
          7,
          8,
          9,
          10
         ],
         "y": [
          -0.8429068732553952,
          -1.2010650008356643,
          -1.2159217472614812,
          -1.235230968265139,
          -1.586874906165691,
          -1.6371885272249254,
          -1.7984103287688813,
          -1.8748470393988794,
          -2.0641214697909813,
          -2.1753594329480843
         ]
        },
        {
         "hovertext": "<b>Topic 161</b>:client_contact_information_servic",
         "line": {
          "color": "black",
          "width": 1.5
         },
         "mode": "lines+lines",
         "name": "",
         "opacity": 0.1,
         "type": "scatter",
         "x": [
          1,
          2,
          3,
          4,
          5,
          6,
          7,
          8,
          9,
          10
         ],
         "y": [
          -1.0056670199333064,
          -1.097067392032127,
          -1.2559503856161707,
          -1.4012329120726816,
          -1.4427943433592436,
          -1.6295709960676499,
          -1.7848903466061405,
          -1.7978934397744268,
          -1.8567052174478231,
          -1.9145465406494557
         ]
        },
        {
         "hovertext": "<b>Topic 162</b>:track_purchase_pyrchase_my_where_",
         "line": {
          "color": "black",
          "width": 1.5
         },
         "mode": "lines+lines",
         "name": "",
         "opacity": 0.1,
         "type": "scatter",
         "x": [
          1,
          2,
          3,
          4,
          5,
          6,
          7,
          8,
          9,
          10
         ],
         "y": [
          -0.7440709392113004,
          -0.8975817009196504,
          -1.1451145368176299,
          -1.6995743947247863,
          -1.8914224857575501,
          -1.9696154066052083,
          -2.0651095778713,
          -2.070278253988878,
          -2.0785918800750687,
          -2.185049027522684
         ]
        },
        {
         "hovertext": "<b>Topic 163</b>:purchase_tp_make_id_where_like_he",
         "line": {
          "color": "black",
          "width": 1.5
         },
         "mode": "lines+lines",
         "name": "",
         "opacity": 0.1,
         "type": "scatter",
         "x": [
          1,
          2,
          3,
          4,
          5,
          6,
          7,
          8,
          9,
          10
         ],
         "y": [
          -0.7726429643113505,
          -1.02017580020933,
          -1.0820754129276944,
          -1.5648186012237117,
          -1.64154501254095,
          -1.8728409408589706,
          -1.9401708412629999,
          -2.0207679290525897,
          -2.060110290914384,
          -2.0950637217099914
         ]
        },
        {
         "hovertext": "<b>Topic 164</b>:refund_obtani_should_obtain_what_",
         "line": {
          "color": "black",
          "width": 1.5
         },
         "mode": "lines+lines",
         "name": "",
         "opacity": 0.1,
         "type": "scatter",
         "x": [
          1,
          2,
          3,
          4,
          5,
          6,
          7,
          8,
          9,
          10
         ],
         "y": [
          -0.9351087174375742,
          -1.1671646775607039,
          -1.3969545590471089,
          -1.430679117262648,
          -1.5182971270042334,
          -1.6669864598795707,
          -1.6906355516843012,
          -1.852650042489507,
          -1.9793388267070513,
          -2.0455331440566034
         ]
        },
        {
         "hovertext": "<b>Topic 165</b>:check_cherck_order_tell_where_cn_",
         "line": {
          "color": "black",
          "width": 1.5
         },
         "mode": "lines+lines",
         "name": "",
         "opacity": 0.1,
         "type": "scatter",
         "x": [
          1,
          2,
          3,
          4,
          5,
          6,
          7,
          8,
          9,
          10
         ],
         "y": [
          -1.3509382440841102,
          -1.4300150321810752,
          -1.4431870093555017,
          -1.4699749720438609,
          -1.4773529767849767,
          -1.5607469591068774,
          -1.6316316563845836,
          -1.7415875907095053,
          -1.757947105277049,
          -1.8055589181110534
         ]
        },
        {
         "hovertext": "<b>Topic 166</b>:shipment_check_mydelivery_roder_t",
         "line": {
          "color": "black",
          "width": 1.5
         },
         "mode": "lines+lines",
         "name": "",
         "opacity": 0.1,
         "type": "scatter",
         "x": [
          1,
          2,
          3,
          4,
          5,
          6,
          7,
          8,
          9,
          10
         ],
         "y": [
          -0.9412335568529758,
          -1.299315960117803,
          -1.4083559715922112,
          -1.454450318708247,
          -1.5104638182038412,
          -1.782076436869486,
          -1.7924905394287065,
          -1.7984359514370294,
          -1.811468364710091,
          -1.9318268457158085
         ]
        },
        {
         "hovertext": "<b>Topic 167</b>:profile_rceate_ho_hwat_need_shoul",
         "line": {
          "color": "black",
          "width": 1.5
         },
         "mode": "lines+lines",
         "name": "",
         "opacity": 0.1,
         "type": "scatter",
         "x": [
          1,
          2,
          3,
          4,
          5,
          6,
          7,
          8,
          9,
          10
         ],
         "y": [
          -0.8085315781517111,
          -1.089584564317716,
          -1.1296242759687025,
          -1.144833579422939,
          -1.3316102321313452,
          -1.3900195696617796,
          -1.6382353740044038,
          -1.6992662159976133,
          -1.7926770357688322,
          -1.838602522284715
         ]
        },
        {
         "hovertext": "<b>Topic 168</b>:refund_requesg_reqauest_receive_o",
         "line": {
          "color": "black",
          "width": 1.5
         },
         "mode": "lines+lines",
         "name": "",
         "opacity": 0.1,
         "type": "scatter",
         "x": [
          1,
          2,
          3,
          4,
          5,
          6,
          7,
          8,
          9,
          10
         ],
         "y": [
          -0.7301278931085132,
          -0.9621838532316431,
          -0.9621838532316431,
          -1.0527359327883923,
          -1.1287882799255307,
          -1.4378469134981349,
          -1.6494192657696904,
          -1.8658659690668464,
          -2.01733271330588,
          -2.04178923216732
         ]
        },
        {
         "hovertext": "<b>Topic 169</b>:invoice_obtain_hou_where_tell_it_",
         "line": {
          "color": "black",
          "width": 1.5
         },
         "mode": "lines+lines",
         "name": "",
         "opacity": 0.1,
         "type": "scatter",
         "x": [
          1,
          2,
          3,
          4,
          5,
          6,
          7,
          8,
          9,
          10
         ],
         "y": [
          -1.2902396598557448,
          -1.365876996098624,
          -1.4033925520606612,
          -1.4507304966645624,
          -1.47331571530089,
          -1.7449283339665345,
          -1.7612878485340782,
          -1.7875271198971565,
          -1.847589915912414,
          -1.8921013199250465
         ]
        },
        {
         "hovertext": "<b>Topic 170</b>:track_wherei_order_tell_where_od_",
         "line": {
          "color": "black",
          "width": 1.5
         },
         "mode": "lines+lines",
         "name": "",
         "opacity": 0.1,
         "type": "scatter",
         "x": [
          1,
          2,
          3,
          4,
          5,
          6,
          7,
          8,
          9,
          10
         ],
         "y": [
          -1.042508124297002,
          -1.3855597749256445,
          -1.4286949754775145,
          -1.4554829381658736,
          -1.4950456262783907,
          -1.5295661225735053,
          -1.727095556831518,
          -1.7434550713990618,
          -1.8742685427900299,
          -1.9302025759400265
         ]
        },
        {
         "hovertext": "<b>Topic 171</b>:inform_pazyment_where_of_with_pay",
         "line": {
          "color": "black",
          "width": 1.5
         },
         "mode": "lines+lines",
         "name": "",
         "opacity": 0.1,
         "type": "scatter",
         "x": [
          1,
          2,
          3,
          4,
          5,
          6,
          7,
          8,
          9,
          10
         ],
         "y": [
          -1.0955968272728807,
          -1.2273012930049798,
          -1.3046024609863245,
          -1.3451653789479139,
          -1.4341789929034339,
          -1.4527352745206323,
          -1.4742795175421106,
          -1.5992182541504105,
          -1.839753097889823,
          -2.322808217137612
         ]
        },
        {
         "hovertext": "<b>Topic 172</b>:notify_notifypayment_where_make_p",
         "line": {
          "color": "black",
          "width": 1.5
         },
         "mode": "lines+lines",
         "name": "",
         "opacity": 0.1,
         "type": "scatter",
         "x": [
          1,
          2,
          3,
          4,
          5,
          6,
          7,
          8,
          9,
          10
         ],
         "y": [
          -1.0130239147549416,
          -1.092262229492354,
          -1.1695633974736988,
          -1.2163097489595631,
          -1.3176962110080066,
          -1.3972324010071715,
          -1.3972324010071715,
          -2.2037033867964357,
          -2.2687776214360875,
          -2.3127078902332863
         ]
        },
        {
         "hovertext": "<b>Topic 173</b>:see_bill_where_tro_know_fucking_t",
         "line": {
          "color": "black",
          "width": 1.5
         },
         "mode": "lines+lines",
         "name": "",
         "opacity": 0.1,
         "type": "scatter",
         "x": [
          1,
          2,
          3,
          4,
          5,
          6,
          7,
          8,
          9,
          10
         ],
         "y": [
          -0.9678008465592265,
          -0.9862051099403647,
          -1.1486294906380559,
          -1.1689150277912272,
          -1.6175338392284553,
          -1.9173692654292558,
          -1.9863495259111967,
          -2.051756912836149,
          -2.057830743352493,
          -2.1968591881082706
         ]
        },
        {
         "hovertext": "<b>Topic 174</b>:fuck_two_create_same_online_singl",
         "line": {
          "color": "black",
          "width": 1.5
         },
         "mode": "lines+lines",
         "name": "",
         "opacity": 0.1,
         "type": "scatter",
         "x": [
          1,
          2,
          3,
          4,
          5,
          6,
          7,
          8,
          9,
          10
         ],
         "y": [
          -1.12755090855252,
          -1.2779473336368898,
          -1.3196072804296035,
          -1.3599263335655118,
          -1.428192760715477,
          -1.4324563490698976,
          -1.4454645236560077,
          -1.4664836978525522,
          -1.4972970549289923,
          -1.4972970549289923
         ]
        },
        {
         "hovertext": "<b>Topic 175</b>:invoice_check_di_olst_acn_how_my_",
         "line": {
          "color": "black",
          "width": 1.5
         },
         "mode": "lines+lines",
         "name": "",
         "opacity": 0.1,
         "type": "scatter",
         "x": [
          1,
          2,
          3,
          4,
          5,
          6,
          7,
          8,
          9,
          10
         ],
         "y": [
          -0.9488853546815644,
          -0.9529982354120725,
          -1.0320750235090375,
          -1.0781693706250732,
          -1.241100958627302,
          -1.5491307689337541,
          -1.644526828393881,
          -2.1576058889605974,
          -2.208590415452771,
          -2.254754143970222
         ]
        },
        {
         "hovertext": "<b>Topic 176</b>:mind_cancel_profile_change_ichang",
         "line": {
          "color": "black",
          "width": 1.5
         },
         "mode": "lines+lines",
         "name": "",
         "opacity": 0.1,
         "type": "scatter",
         "x": [
          1,
          2,
          3,
          4,
          5,
          6,
          7,
          8,
          9,
          10
         ],
         "y": [
          -0.7676572856758522,
          -0.9507560966029801,
          -1.070021823126529,
          -1.1111089322235839,
          -1.2917230212105473,
          -1.3211115859150908,
          -1.5570504833153735,
          -2.0699615479268823,
          -2.17079239126576,
          -2.285563164799566
         ]
        },
        {
         "hovertext": "<b>Topic 177</b>:hsipments_deliveires_wherr_oackag",
         "line": {
          "color": "black",
          "width": 1.5
         },
         "mode": "lines+lines",
         "name": "",
         "opacity": 0.1,
         "type": "scatter",
         "x": [
          1,
          2,
          3,
          4,
          5,
          6,
          7,
          8,
          9,
          10
         ],
         "y": [
          -1.1584784983756113,
          -1.1584784983756113,
          -1.1584784983756113,
          -1.1584784983756113,
          -1.1584784983756113,
          -1.1584784983756113,
          -1.1584784983756113,
          -1.1584784983756113,
          -1.1584784983756113,
          -1.1584784983756113
         ]
        },
        {
         "hovertext": "<b>Topic 178</b>:more_than_several_online_yuou_tep",
         "line": {
          "color": "black",
          "width": 1.5
         },
         "mode": "lines+lines",
         "name": "",
         "opacity": 0.1,
         "type": "scatter",
         "x": [
          1,
          2,
          3,
          4,
          5,
          6,
          7,
          8,
          9,
          10
         ],
         "y": [
          -1.105746943866177,
          -1.1065661244282594,
          -1.1162356795183894,
          -1.2240727780595522,
          -1.2931770722730673,
          -1.2931770722730673,
          -1.2931770722730673,
          -1.3392714193891033,
          -1.3879334416302813,
          -1.5032278923330473
         ]
        },
        {
         "hovertext": "<b>Topic 179</b>:check_nodify_trfack_order_ik_ne_t",
         "line": {
          "color": "black",
          "width": 1.5
         },
         "mode": "lines+lines",
         "name": "",
         "opacity": 0.1,
         "type": "scatter",
         "x": [
          1,
          2,
          3,
          4,
          5,
          6,
          7,
          8,
          9,
          10
         ],
         "y": [
          -1.3811622266899835,
          -1.3932922251563353,
          -1.3932922251563353,
          -1.4364274257082053,
          -1.439386572272371,
          -1.4687751369769146,
          -1.4954000717679654,
          -1.764219934902814,
          -1.7670126904336099,
          -1.8181343112603656
         ]
        },
        {
         "hovertext": "<b>Topic 180</b>:see_bill_wolud_wht_hat_what_want_",
         "line": {
          "color": "black",
          "width": 1.5
         },
         "mode": "lines+lines",
         "name": "",
         "opacity": 0.1,
         "type": "scatter",
         "x": [
          1,
          2,
          3,
          4,
          5,
          6,
          7,
          8,
          9,
          10
         ],
         "y": [
          -1.1445789545353977,
          -1.162983217916536,
          -1.2159217472614812,
          -1.2914046590820605,
          -1.2914046590820605,
          -1.7017527706024667,
          -1.7393926213850783,
          -1.7640482091549028,
          -1.8136884140424805,
          -1.8605582355177257
         ]
        },
        {
         "hovertext": "<b>Topic 181</b>:delivery_check_wamt_deliveris_cfa",
         "line": {
          "color": "black",
          "width": 1.5
         },
         "mode": "lines+lines",
         "name": "",
         "opacity": 0.1,
         "type": "scatter",
         "x": [
          1,
          2,
          3,
          4,
          5,
          6,
          7,
          8,
          9,
          10
         ],
         "y": [
          -0.9196374115240876,
          -1.0936748043413453,
          -1.140566909066909,
          -1.140566909066909,
          -1.2160498208874886,
          -1.2381536142014253,
          -1.5618336890303535,
          -1.578441408444001,
          -1.5784668576017324,
          -1.7852033973231538
         ]
        },
        {
         "hovertext": "<b>Topic 182</b>:create_profile_one_pfofile_ivegot",
         "line": {
          "color": "black",
          "width": 1.5
         },
         "mode": "lines+lines",
         "name": "",
         "opacity": 0.1,
         "type": "scatter",
         "x": [
          1,
          2,
          3,
          4,
          5,
          6,
          7,
          8,
          9,
          10
         ],
         "y": [
          -0.9715807220893988,
          -1.008425751880017,
          -1.0582913209847862,
          -1.1170858132173862,
          -1.1170858132173862,
          -1.129465825723251,
          -1.2836083103600704,
          -1.597514271041248,
          -1.6331783043802348,
          -1.7074112127473773
         ]
        },
        {
         "hovertext": "<b>Topic 183</b>:aand_shat_ayign_for_order_inofrm_",
         "line": {
          "color": "black",
          "width": 1.5
         },
         "mode": "lines+lines",
         "name": "",
         "opacity": 0.1,
         "type": "scatter",
         "x": [
          1,
          2,
          3,
          4,
          5,
          6,
          7,
          8,
          9,
          10
         ],
         "y": [
          -1.318179341243123,
          -1.318179341243123,
          -1.318179341243123,
          -1.321808035302874,
          -1.3934992251663942,
          -1.3936622530637026,
          -1.4696786534107238,
          -1.566804482168943,
          -1.6231495127579407,
          -1.6846644467601481
         ]
        },
        {
         "hovertext": "<b>Topic 184</b>:package_check_xo_wqnna_checkmy_te",
         "line": {
          "color": "black",
          "width": 1.5
         },
         "mode": "lines+lines",
         "name": "",
         "opacity": 0.1,
         "type": "scatter",
         "x": [
          1,
          2,
          3,
          4,
          5,
          6,
          7,
          8,
          9,
          10
         ],
         "y": [
          -0.9082175439850012,
          -1.3548332879676344,
          -1.3669632864339862,
          -1.413057633550022,
          -1.413057633550022,
          -1.4690711330456163,
          -1.4764491377867321,
          -1.7406837517112608,
          -1.7570432662788045,
          -1.9282227214469831
         ]
        },
        {
         "hovertext": "<b>Topic 185</b>:full_case_in_ticket_cancel_refund",
         "line": {
          "color": "black",
          "width": 1.5
         },
         "mode": "lines+lines",
         "name": "",
         "opacity": 0.1,
         "type": "scatter",
         "x": [
          1,
          2,
          3,
          4,
          5,
          6,
          7,
          8,
          9,
          10
         ],
         "y": [
          -0.4447248693528299,
          -0.47410727119731944,
          -0.6680349211889813,
          -0.8998718711317588,
          -1.0674727444061074,
          -1.160252585151952,
          -1.3301606385262374,
          -1.4056435503468168,
          -1.504098253931076,
          -1.5055126900854106
         ]
        },
        {
         "hovertext": "<b>Topic 186</b>:cancel_purchase_waznt_hjelp_want_",
         "line": {
          "color": "black",
          "width": 1.5
         },
         "mode": "lines+lines",
         "name": "",
         "opacity": 0.1,
         "type": "scatter",
         "x": [
          1,
          2,
          3,
          4,
          5,
          6,
          7,
          8,
          9,
          10
         ],
         "y": [
          -0.7634782697783873,
          -0.8407812347493825,
          -1.0261661638985173,
          -1.072260511014553,
          -1.8506670336860958,
          -1.9461612049521873,
          -1.9513298810697655,
          -2.05306824133051,
          -2.0661006546035714,
          -2.0706605315719857
         ]
        },
        {
         "hovertext": "<b>Topic 187</b>:email_customer_whzt_wat_service_k",
         "line": {
          "color": "black",
          "width": 1.5
         },
         "mode": "lines+lines",
         "name": "",
         "opacity": 0.1,
         "type": "scatter",
         "x": [
          1,
          2,
          3,
          4,
          5,
          6,
          7,
          8,
          9,
          10
         ],
         "y": [
          -1.228282068160841,
          -1.2632055019783923,
          -1.3262089465498614,
          -1.4108465263596282,
          -1.459461725422154,
          -1.5252901203415887,
          -1.574948976192934,
          -1.589864211615673,
          -1.6408059226594247,
          -1.6671795663604738
         ]
        },
        {
         "hovertext": "<b>Topic 188</b>:package_check_hopw_tell_hwere_id_",
         "line": {
          "color": "black",
          "width": 1.5
         },
         "mode": "lines+lines",
         "name": "",
         "opacity": 0.1,
         "type": "scatter",
         "x": [
          1,
          2,
          3,
          4,
          5,
          6,
          7,
          8,
          9,
          10
         ],
         "y": [
          -0.902754648283499,
          -1.3146082860069204,
          -1.3615003907324839,
          -1.4636082373441142,
          -1.47702301420405,
          -1.6051131960828846,
          -1.7515803705773023,
          -1.7699829622689705,
          -1.8371634509989756,
          -1.9065113378410474
         ]
        },
        {
         "hovertext": "<b>Topic 189</b>:notify_howdo_payment_issue_proble",
         "line": {
          "color": "black",
          "width": 1.5
         },
         "mode": "lines+lines",
         "name": "",
         "opacity": 0.1,
         "type": "scatter",
         "x": [
          1,
          2,
          3,
          4,
          5,
          6,
          7,
          8,
          9,
          10
         ],
         "y": [
          -0.889784963024536,
          -1.0151176248779843,
          -1.194457259277601,
          -1.273993449276766,
          -1.3409402389073792,
          -1.4068977771390405,
          -1.9694474106500006,
          -2.2565556941217113,
          -2.6688236529427956,
          -5
         ]
        },
        {
         "hovertext": "<b>Topic 190</b>:invoice_check_iwanna_chdck_help_m",
         "line": {
          "color": "black",
          "width": 1.5
         },
         "mode": "lines+lines",
         "name": "",
         "opacity": 0.1,
         "type": "scatter",
         "x": [
          1,
          2,
          3,
          4,
          5,
          6,
          7,
          8,
          9,
          10
         ],
         "y": [
          -1.014928305313933,
          -1.053803292303653,
          -1.065933290770005,
          -1.065933290770005,
          -1.5088070771040125,
          -1.7105697790262495,
          -1.7248585829074032,
          -1.9275099147544892,
          -1.9696154066052083,
          -1.9937044346381423
         ]
        },
        {
         "hovertext": "<b>Topic 191</b>:report_pfoblem_make_payment_probl",
         "line": {
          "color": "black",
          "width": 1.5
         },
         "mode": "lines+lines",
         "name": "",
         "opacity": 0.1,
         "type": "scatter",
         "x": [
          1,
          2,
          3,
          4,
          5,
          6,
          7,
          8,
          9,
          10
         ],
         "y": [
          -1.165536256759789,
          -1.3161476205419655,
          -1.4288628991523507,
          -1.4954872549415823,
          -1.6419702345713605,
          -1.6419702345713605,
          -1.7180957358775155,
          -1.793524147549527,
          -1.867819940206929,
          -1.8725373976419442
         ]
        },
        {
         "hovertext": "<b>Topic 192</b>:paymet_notgify_pay_have_issue_pro",
         "line": {
          "color": "black",
          "width": 1.5
         },
         "mode": "lines+lines",
         "name": "",
         "opacity": 0.1,
         "type": "scatter",
         "x": [
          1,
          2,
          3,
          4,
          5,
          6,
          7,
          8,
          9,
          10
         ],
         "y": [
          -1.15832765753901,
          -1.15832765753901,
          -1.3015211834799745,
          -1.4165705091911547,
          -1.4172034819377917,
          -1.5633315176160296,
          -1.5850612405956734,
          -1.5980643337639597,
          -1.7446806580164318,
          -2.031648975499925
         ]
        },
        {
         "hovertext": "<b>Topic 193</b>:human_contact_csn_gaent_how_want_",
         "line": {
          "color": "black",
          "width": 1.5
         },
         "mode": "lines+lines",
         "name": "",
         "opacity": 0.1,
         "type": "scatter",
         "x": [
          1,
          2,
          3,
          4,
          5,
          6,
          7,
          8,
          9,
          10
         ],
         "y": [
          -0.5473807406518321,
          -0.7259995297603907,
          -0.8915387293739845,
          -0.9600621652012657,
          -1.7310515716501593,
          -1.9415866830049648,
          -2.1035882339131677,
          -2.14176697009358,
          -2.2148261970702707,
          -2.2936012051611194
         ]
        },
        {
         "hovertext": "<b>Topic 194</b>:shipment_tgell_trrack_check_where",
         "line": {
          "color": "black",
          "width": 1.5
         },
         "mode": "lines+lines",
         "name": "",
         "opacity": 0.1,
         "type": "scatter",
         "x": [
          1,
          2,
          3,
          4,
          5,
          6,
          7,
          8,
          9,
          10
         ],
         "y": [
          -0.8888454873932877,
          -1.321205795873311,
          -1.321205795873311,
          -1.346864358296359,
          -1.465453753485269,
          -1.4958643096335529,
          -1.7460478819773413,
          -1.7674769282991973,
          -1.923857916044533,
          -2.0006043903887676
         ]
        },
        {
         "hovertext": "<b>Topic 195</b>:request_wabt_bill_areimbursement_",
         "line": {
          "color": "black",
          "width": 1.5
         },
         "mode": "lines+lines",
         "name": "",
         "opacity": 0.1,
         "type": "scatter",
         "x": [
          1,
          2,
          3,
          4,
          5,
          6,
          7,
          8,
          9,
          10
         ],
         "y": [
          -1.0625300645776075,
          -1.2632138488956244,
          -1.2828259866992908,
          -1.3093081960116602,
          -1.437872362655866,
          -1.5521517503723148,
          -1.7010883482727162,
          -1.7094849813215107,
          -1.7258444958890544,
          -1.8658659690668464
         ]
        },
        {
         "hovertext": "<b>Topic 196</b>:inform_niform_pay_haev_of_problem",
         "line": {
          "color": "black",
          "width": 1.5
         },
         "mode": "lines+lines",
         "name": "",
         "opacity": 0.1,
         "type": "scatter",
         "x": [
          1,
          2,
          3,
          4,
          5,
          6,
          7,
          8,
          9,
          10
         ],
         "y": [
          -1.1135977938548232,
          -1.140566909066909,
          -1.2920662212345098,
          -1.3070894062095932,
          -1.3253777846404564,
          -1.5124838702123398,
          -1.5124838702123398,
          -1.5490494806033956,
          -1.579602681732546,
          -2.0599825741438598
         ]
        },
        {
         "hovertext": "<b>Topic 197</b>:notify_wheere_noify_payment_with_",
         "line": {
          "color": "black",
          "width": 1.5
         },
         "mode": "lines+lines",
         "name": "",
         "opacity": 0.1,
         "type": "scatter",
         "x": [
          1,
          2,
          3,
          4,
          5,
          6,
          7,
          8,
          9,
          10
         ],
         "y": [
          -1.095674908807879,
          -1.10236255639668,
          -1.10236255639668,
          -1.3625586441715443,
          -1.376187045925747,
          -1.4073327279114973,
          -1.5534607635897355,
          -1.5780256166631714,
          -1.7817611509121365,
          -2.1819679353323567
         ]
        },
        {
         "hovertext": "<b>Topic 198</b>:support_mail_trhe_contacxt_custom",
         "line": {
          "color": "black",
          "width": 1.5
         },
         "mode": "lines+lines",
         "name": "",
         "opacity": 0.1,
         "type": "scatter",
         "x": [
          1,
          2,
          3,
          4,
          5,
          6,
          7,
          8,
          9,
          10
         ],
         "y": [
          -1.125069960594268,
          -1.2446214590273055,
          -1.3301606385262374,
          -1.3301606385262374,
          -1.385802208219416,
          -1.4056435503468168,
          -1.4456832619978033,
          -1.4966831356689216,
          -1.514486160560431,
          -1.5923507484071493
         ]
        },
        {
         "hovertext": "<b>Topic 199</b>:visa_withvisa_if_with_make_know_p",
         "line": {
          "color": "black",
          "width": 1.5
         },
         "mode": "lines+lines",
         "name": "",
         "opacity": 0.1,
         "type": "scatter",
         "x": [
          1,
          2,
          3,
          4,
          5,
          6,
          7,
          8,
          9,
          10
         ],
         "y": [
          -0.28451354173799115,
          -1.140566909066909,
          -1.314504524471748,
          -1.4521799594853761,
          -1.5334597408266981,
          -1.5618336890303535,
          -1.6348462028751416,
          -1.657648103649357,
          -1.6722774629461157,
          -1.8840312810763964
         ]
        },
        {
         "hovertext": "<b>Topic 200</b>:more_than_several_user_if_know_on",
         "line": {
          "color": "black",
          "width": 1.5
         },
         "mode": "lines+lines",
         "name": "",
         "opacity": 0.1,
         "type": "scatter",
         "x": [
          1,
          2,
          3,
          4,
          5,
          6,
          7,
          8,
          9,
          10
         ],
         "y": [
          -1.083752650160009,
          -1.0845718307220915,
          -1.0942413858122215,
          -1.1145100791031952,
          -1.4239310949018003,
          -1.4494115098440494,
          -1.4812335986268794,
          -1.536041160563326,
          -1.6054832007125233,
          -1.9431659331350908
         ]
        },
        {
         "hovertext": "<b>Topic 201</b>:validation_no_get_payment_not_do_",
         "line": {
          "color": "black",
          "width": 1.5
         },
         "mode": "lines+lines",
         "name": "",
         "opacity": 0.1,
         "type": "scatter",
         "x": [
          1,
          2,
          3,
          4,
          5,
          6,
          7,
          8,
          9,
          10
         ],
         "y": [
          -0.2218902067548225,
          -1.1197059884340947,
          -1.317440133746615,
          -1.3675220637030945,
          -1.6234184670910785,
          -1.7397733235216877,
          -1.856398434043797,
          -1.8811839017649106,
          -2.0273210169819,
          -2.1342280533602227
         ]
        },
        {
         "hovertext": "<b>Topic 202</b>:fast_expect_arrive_ticket_know_ho",
         "line": {
          "color": "black",
          "width": 1.5
         },
         "mode": "lines+lines",
         "name": "",
         "opacity": 0.1,
         "type": "scatter",
         "x": [
          1,
          2,
          3,
          4,
          5,
          6,
          7,
          8,
          9,
          10
         ],
         "y": [
          -0.3879972449039028,
          -0.5130478219765612,
          -0.5877607054902076,
          -0.8779063529420437,
          -1.6946997940407547,
          -1.7113075134544022,
          -1.7113329626121336,
          -1.9528316085927668,
          -1.9869341627093542,
          -1.9993050958453218
         ]
        },
        {
         "hovertext": "<b>Topic 203</b>:create_ivge_and_one_no_account_no",
         "line": {
          "color": "black",
          "width": 1.5
         },
         "mode": "lines+lines",
         "name": "",
         "opacity": 0.1,
         "type": "scatter",
         "x": [
          1,
          2,
          3,
          4,
          5,
          6,
          7,
          8,
          9,
          10
         ],
         "y": [
          -1.1233126352856353,
          -1.196267059265011,
          -1.197764444738453,
          -1.2100232341810226,
          -1.384738330826557,
          -1.5658607917814504,
          -1.6454127607972464,
          -1.6766955170888729,
          -1.7074112127473773,
          -1.7989191794362331
         ]
        },
        {
         "hovertext": "<b>Topic 204</b>:view_losg_invoice_ddo_hwat_should",
         "line": {
          "color": "black",
          "width": 1.5
         },
         "mode": "lines+lines",
         "name": "",
         "opacity": 0.1,
         "type": "scatter",
         "x": [
          1,
          2,
          3,
          4,
          5,
          6,
          7,
          8,
          9,
          10
         ],
         "y": [
          -0.9967201892729155,
          -1.1313262523319965,
          -1.1528719340245364,
          -1.1774205994480322,
          -1.262058179257799,
          -1.5072441694966394,
          -1.658549960831207,
          -1.7339783725032185,
          -1.8307203895560673,
          -1.8485134077368528
         ]
        },
        {
         "hovertext": "<b>Topic 205</b>:amex_ppay_if_with_make_payment_te",
         "line": {
          "color": "black",
          "width": 1.5
         },
         "mode": "lines+lines",
         "name": "",
         "opacity": 0.1,
         "type": "scatter",
         "x": [
          1,
          2,
          3,
          4,
          5,
          6,
          7,
          8,
          9,
          10
         ],
         "y": [
          -0.24128838769271108,
          -1.0973417550216291,
          -1.3681893834345242,
          -1.408954805440096,
          -1.490234586781418,
          -1.5916210488298614,
          -1.7113329626121336,
          -1.8196385306490546,
          -1.850901058517192,
          -1.8729908104025175
         ]
        },
        {
         "hovertext": "<b>Topic 206</b>:wheree_informof_inform_where_of_p",
         "line": {
          "color": "black",
          "width": 1.5
         },
         "mode": "lines+lines",
         "name": "",
         "opacity": 0.1,
         "type": "scatter",
         "x": [
          1,
          2,
          3,
          4,
          5,
          6,
          7,
          8,
          9,
          10
         ],
         "y": [
          -0.940994554161705,
          -0.9870889012777407,
          -1.0011756146685191,
          -1.210181248381963,
          -1.2507441663435521,
          -1.2803718879841943,
          -1.3920927613547605,
          -1.3920927613547605,
          -1.7173764434634706,
          -2.122871905088459
         ]
        },
        {
         "hovertext": "<b>Topic 207</b>:happy_complaint_servicfe_and_file",
         "line": {
          "color": "black",
          "width": 1.5
         },
         "mode": "lines+lines",
         "name": "",
         "opacity": 0.1,
         "type": "scatter",
         "x": [
          1,
          2,
          3,
          4,
          5,
          6,
          7,
          8,
          9,
          10
         ],
         "y": [
          -1.0496204914816631,
          -1.1079087557468337,
          -1.196267059265011,
          -1.2391571298966781,
          -1.3849123091142579,
          -1.398228148089318,
          -1.4905108008115033,
          -1.4953937959505486,
          -1.5353150281208514,
          -1.5718109451949893
         ]
        },
        {
         "hovertext": "<b>Topic 208</b>:confirmation_ogt_confirmaiton_pay",
         "line": {
          "color": "black",
          "width": 1.5
         },
         "mode": "lines+lines",
         "name": "",
         "opacity": 0.1,
         "type": "scatter",
         "x": [
          1,
          2,
          3,
          4,
          5,
          6,
          7,
          8,
          9,
          10
         ],
         "y": [
          -0.28959867404925776,
          -1.0261661638985173,
          -1.0261661638985173,
          -1.0261661638985173,
          -1.1177274224520068,
          -1.3612190583252022,
          -1.4113009882816816,
          -1.6214399011089906,
          -1.7255603011225882,
          -1.7752386220140843
         ]
        }
       ],
       "layout": {
        "height": 500,
        "hoverlabel": {
         "bgcolor": "white",
         "font": {
          "family": "Rockwell",
          "size": 16
         }
        },
        "showlegend": false,
        "template": {
         "data": {
          "bar": [
           {
            "error_x": {
             "color": "#2a3f5f"
            },
            "error_y": {
             "color": "#2a3f5f"
            },
            "marker": {
             "line": {
              "color": "white",
              "width": 0.5
             },
             "pattern": {
              "fillmode": "overlay",
              "size": 10,
              "solidity": 0.2
             }
            },
            "type": "bar"
           }
          ],
          "barpolar": [
           {
            "marker": {
             "line": {
              "color": "white",
              "width": 0.5
             },
             "pattern": {
              "fillmode": "overlay",
              "size": 10,
              "solidity": 0.2
             }
            },
            "type": "barpolar"
           }
          ],
          "carpet": [
           {
            "aaxis": {
             "endlinecolor": "#2a3f5f",
             "gridcolor": "#C8D4E3",
             "linecolor": "#C8D4E3",
             "minorgridcolor": "#C8D4E3",
             "startlinecolor": "#2a3f5f"
            },
            "baxis": {
             "endlinecolor": "#2a3f5f",
             "gridcolor": "#C8D4E3",
             "linecolor": "#C8D4E3",
             "minorgridcolor": "#C8D4E3",
             "startlinecolor": "#2a3f5f"
            },
            "type": "carpet"
           }
          ],
          "choropleth": [
           {
            "colorbar": {
             "outlinewidth": 0,
             "ticks": ""
            },
            "type": "choropleth"
           }
          ],
          "contour": [
           {
            "colorbar": {
             "outlinewidth": 0,
             "ticks": ""
            },
            "colorscale": [
             [
              0,
              "#0d0887"
             ],
             [
              0.1111111111111111,
              "#46039f"
             ],
             [
              0.2222222222222222,
              "#7201a8"
             ],
             [
              0.3333333333333333,
              "#9c179e"
             ],
             [
              0.4444444444444444,
              "#bd3786"
             ],
             [
              0.5555555555555556,
              "#d8576b"
             ],
             [
              0.6666666666666666,
              "#ed7953"
             ],
             [
              0.7777777777777778,
              "#fb9f3a"
             ],
             [
              0.8888888888888888,
              "#fdca26"
             ],
             [
              1,
              "#f0f921"
             ]
            ],
            "type": "contour"
           }
          ],
          "contourcarpet": [
           {
            "colorbar": {
             "outlinewidth": 0,
             "ticks": ""
            },
            "type": "contourcarpet"
           }
          ],
          "heatmap": [
           {
            "colorbar": {
             "outlinewidth": 0,
             "ticks": ""
            },
            "colorscale": [
             [
              0,
              "#0d0887"
             ],
             [
              0.1111111111111111,
              "#46039f"
             ],
             [
              0.2222222222222222,
              "#7201a8"
             ],
             [
              0.3333333333333333,
              "#9c179e"
             ],
             [
              0.4444444444444444,
              "#bd3786"
             ],
             [
              0.5555555555555556,
              "#d8576b"
             ],
             [
              0.6666666666666666,
              "#ed7953"
             ],
             [
              0.7777777777777778,
              "#fb9f3a"
             ],
             [
              0.8888888888888888,
              "#fdca26"
             ],
             [
              1,
              "#f0f921"
             ]
            ],
            "type": "heatmap"
           }
          ],
          "heatmapgl": [
           {
            "colorbar": {
             "outlinewidth": 0,
             "ticks": ""
            },
            "colorscale": [
             [
              0,
              "#0d0887"
             ],
             [
              0.1111111111111111,
              "#46039f"
             ],
             [
              0.2222222222222222,
              "#7201a8"
             ],
             [
              0.3333333333333333,
              "#9c179e"
             ],
             [
              0.4444444444444444,
              "#bd3786"
             ],
             [
              0.5555555555555556,
              "#d8576b"
             ],
             [
              0.6666666666666666,
              "#ed7953"
             ],
             [
              0.7777777777777778,
              "#fb9f3a"
             ],
             [
              0.8888888888888888,
              "#fdca26"
             ],
             [
              1,
              "#f0f921"
             ]
            ],
            "type": "heatmapgl"
           }
          ],
          "histogram": [
           {
            "marker": {
             "pattern": {
              "fillmode": "overlay",
              "size": 10,
              "solidity": 0.2
             }
            },
            "type": "histogram"
           }
          ],
          "histogram2d": [
           {
            "colorbar": {
             "outlinewidth": 0,
             "ticks": ""
            },
            "colorscale": [
             [
              0,
              "#0d0887"
             ],
             [
              0.1111111111111111,
              "#46039f"
             ],
             [
              0.2222222222222222,
              "#7201a8"
             ],
             [
              0.3333333333333333,
              "#9c179e"
             ],
             [
              0.4444444444444444,
              "#bd3786"
             ],
             [
              0.5555555555555556,
              "#d8576b"
             ],
             [
              0.6666666666666666,
              "#ed7953"
             ],
             [
              0.7777777777777778,
              "#fb9f3a"
             ],
             [
              0.8888888888888888,
              "#fdca26"
             ],
             [
              1,
              "#f0f921"
             ]
            ],
            "type": "histogram2d"
           }
          ],
          "histogram2dcontour": [
           {
            "colorbar": {
             "outlinewidth": 0,
             "ticks": ""
            },
            "colorscale": [
             [
              0,
              "#0d0887"
             ],
             [
              0.1111111111111111,
              "#46039f"
             ],
             [
              0.2222222222222222,
              "#7201a8"
             ],
             [
              0.3333333333333333,
              "#9c179e"
             ],
             [
              0.4444444444444444,
              "#bd3786"
             ],
             [
              0.5555555555555556,
              "#d8576b"
             ],
             [
              0.6666666666666666,
              "#ed7953"
             ],
             [
              0.7777777777777778,
              "#fb9f3a"
             ],
             [
              0.8888888888888888,
              "#fdca26"
             ],
             [
              1,
              "#f0f921"
             ]
            ],
            "type": "histogram2dcontour"
           }
          ],
          "mesh3d": [
           {
            "colorbar": {
             "outlinewidth": 0,
             "ticks": ""
            },
            "type": "mesh3d"
           }
          ],
          "parcoords": [
           {
            "line": {
             "colorbar": {
              "outlinewidth": 0,
              "ticks": ""
             }
            },
            "type": "parcoords"
           }
          ],
          "pie": [
           {
            "automargin": true,
            "type": "pie"
           }
          ],
          "scatter": [
           {
            "fillpattern": {
             "fillmode": "overlay",
             "size": 10,
             "solidity": 0.2
            },
            "type": "scatter"
           }
          ],
          "scatter3d": [
           {
            "line": {
             "colorbar": {
              "outlinewidth": 0,
              "ticks": ""
             }
            },
            "marker": {
             "colorbar": {
              "outlinewidth": 0,
              "ticks": ""
             }
            },
            "type": "scatter3d"
           }
          ],
          "scattercarpet": [
           {
            "marker": {
             "colorbar": {
              "outlinewidth": 0,
              "ticks": ""
             }
            },
            "type": "scattercarpet"
           }
          ],
          "scattergeo": [
           {
            "marker": {
             "colorbar": {
              "outlinewidth": 0,
              "ticks": ""
             }
            },
            "type": "scattergeo"
           }
          ],
          "scattergl": [
           {
            "marker": {
             "colorbar": {
              "outlinewidth": 0,
              "ticks": ""
             }
            },
            "type": "scattergl"
           }
          ],
          "scattermapbox": [
           {
            "marker": {
             "colorbar": {
              "outlinewidth": 0,
              "ticks": ""
             }
            },
            "type": "scattermapbox"
           }
          ],
          "scatterpolar": [
           {
            "marker": {
             "colorbar": {
              "outlinewidth": 0,
              "ticks": ""
             }
            },
            "type": "scatterpolar"
           }
          ],
          "scatterpolargl": [
           {
            "marker": {
             "colorbar": {
              "outlinewidth": 0,
              "ticks": ""
             }
            },
            "type": "scatterpolargl"
           }
          ],
          "scatterternary": [
           {
            "marker": {
             "colorbar": {
              "outlinewidth": 0,
              "ticks": ""
             }
            },
            "type": "scatterternary"
           }
          ],
          "surface": [
           {
            "colorbar": {
             "outlinewidth": 0,
             "ticks": ""
            },
            "colorscale": [
             [
              0,
              "#0d0887"
             ],
             [
              0.1111111111111111,
              "#46039f"
             ],
             [
              0.2222222222222222,
              "#7201a8"
             ],
             [
              0.3333333333333333,
              "#9c179e"
             ],
             [
              0.4444444444444444,
              "#bd3786"
             ],
             [
              0.5555555555555556,
              "#d8576b"
             ],
             [
              0.6666666666666666,
              "#ed7953"
             ],
             [
              0.7777777777777778,
              "#fb9f3a"
             ],
             [
              0.8888888888888888,
              "#fdca26"
             ],
             [
              1,
              "#f0f921"
             ]
            ],
            "type": "surface"
           }
          ],
          "table": [
           {
            "cells": {
             "fill": {
              "color": "#EBF0F8"
             },
             "line": {
              "color": "white"
             }
            },
            "header": {
             "fill": {
              "color": "#C8D4E3"
             },
             "line": {
              "color": "white"
             }
            },
            "type": "table"
           }
          ]
         },
         "layout": {
          "annotationdefaults": {
           "arrowcolor": "#2a3f5f",
           "arrowhead": 0,
           "arrowwidth": 1
          },
          "autotypenumbers": "strict",
          "coloraxis": {
           "colorbar": {
            "outlinewidth": 0,
            "ticks": ""
           }
          },
          "colorscale": {
           "diverging": [
            [
             0,
             "#8e0152"
            ],
            [
             0.1,
             "#c51b7d"
            ],
            [
             0.2,
             "#de77ae"
            ],
            [
             0.3,
             "#f1b6da"
            ],
            [
             0.4,
             "#fde0ef"
            ],
            [
             0.5,
             "#f7f7f7"
            ],
            [
             0.6,
             "#e6f5d0"
            ],
            [
             0.7,
             "#b8e186"
            ],
            [
             0.8,
             "#7fbc41"
            ],
            [
             0.9,
             "#4d9221"
            ],
            [
             1,
             "#276419"
            ]
           ],
           "sequential": [
            [
             0,
             "#0d0887"
            ],
            [
             0.1111111111111111,
             "#46039f"
            ],
            [
             0.2222222222222222,
             "#7201a8"
            ],
            [
             0.3333333333333333,
             "#9c179e"
            ],
            [
             0.4444444444444444,
             "#bd3786"
            ],
            [
             0.5555555555555556,
             "#d8576b"
            ],
            [
             0.6666666666666666,
             "#ed7953"
            ],
            [
             0.7777777777777778,
             "#fb9f3a"
            ],
            [
             0.8888888888888888,
             "#fdca26"
            ],
            [
             1,
             "#f0f921"
            ]
           ],
           "sequentialminus": [
            [
             0,
             "#0d0887"
            ],
            [
             0.1111111111111111,
             "#46039f"
            ],
            [
             0.2222222222222222,
             "#7201a8"
            ],
            [
             0.3333333333333333,
             "#9c179e"
            ],
            [
             0.4444444444444444,
             "#bd3786"
            ],
            [
             0.5555555555555556,
             "#d8576b"
            ],
            [
             0.6666666666666666,
             "#ed7953"
            ],
            [
             0.7777777777777778,
             "#fb9f3a"
            ],
            [
             0.8888888888888888,
             "#fdca26"
            ],
            [
             1,
             "#f0f921"
            ]
           ]
          },
          "colorway": [
           "#636efa",
           "#EF553B",
           "#00cc96",
           "#ab63fa",
           "#FFA15A",
           "#19d3f3",
           "#FF6692",
           "#B6E880",
           "#FF97FF",
           "#FECB52"
          ],
          "font": {
           "color": "#2a3f5f"
          },
          "geo": {
           "bgcolor": "white",
           "lakecolor": "white",
           "landcolor": "white",
           "showlakes": true,
           "showland": true,
           "subunitcolor": "#C8D4E3"
          },
          "hoverlabel": {
           "align": "left"
          },
          "hovermode": "closest",
          "mapbox": {
           "style": "light"
          },
          "paper_bgcolor": "white",
          "plot_bgcolor": "white",
          "polar": {
           "angularaxis": {
            "gridcolor": "#EBF0F8",
            "linecolor": "#EBF0F8",
            "ticks": ""
           },
           "bgcolor": "white",
           "radialaxis": {
            "gridcolor": "#EBF0F8",
            "linecolor": "#EBF0F8",
            "ticks": ""
           }
          },
          "scene": {
           "xaxis": {
            "backgroundcolor": "white",
            "gridcolor": "#DFE8F3",
            "gridwidth": 2,
            "linecolor": "#EBF0F8",
            "showbackground": true,
            "ticks": "",
            "zerolinecolor": "#EBF0F8"
           },
           "yaxis": {
            "backgroundcolor": "white",
            "gridcolor": "#DFE8F3",
            "gridwidth": 2,
            "linecolor": "#EBF0F8",
            "showbackground": true,
            "ticks": "",
            "zerolinecolor": "#EBF0F8"
           },
           "zaxis": {
            "backgroundcolor": "white",
            "gridcolor": "#DFE8F3",
            "gridwidth": 2,
            "linecolor": "#EBF0F8",
            "showbackground": true,
            "ticks": "",
            "zerolinecolor": "#EBF0F8"
           }
          },
          "shapedefaults": {
           "line": {
            "color": "#2a3f5f"
           }
          },
          "ternary": {
           "aaxis": {
            "gridcolor": "#DFE8F3",
            "linecolor": "#A2B1C6",
            "ticks": ""
           },
           "baxis": {
            "gridcolor": "#DFE8F3",
            "linecolor": "#A2B1C6",
            "ticks": ""
           },
           "bgcolor": "white",
           "caxis": {
            "gridcolor": "#DFE8F3",
            "linecolor": "#A2B1C6",
            "ticks": ""
           }
          },
          "title": {
           "x": 0.05
          },
          "xaxis": {
           "automargin": true,
           "gridcolor": "#EBF0F8",
           "linecolor": "#EBF0F8",
           "ticks": "",
           "title": {
            "standoff": 15
           },
           "zerolinecolor": "#EBF0F8",
           "zerolinewidth": 2
          },
          "yaxis": {
           "automargin": true,
           "gridcolor": "#EBF0F8",
           "linecolor": "#EBF0F8",
           "ticks": "",
           "title": {
            "standoff": 15
           },
           "zerolinecolor": "#EBF0F8",
           "zerolinewidth": 2
          }
         }
        },
        "title": {
         "font": {
          "color": "Black",
          "size": 22
         },
         "text": "<b>Term score decline per Topic</b>",
         "x": 0.5,
         "xanchor": "center",
         "y": 0.9,
         "yanchor": "top"
        },
        "width": 800,
        "xaxis": {
         "dtick": 2,
         "range": [
          0,
          10
         ],
         "tick0": 1,
         "title": {
          "text": "Term Rank"
         }
        },
        "yaxis": {
         "title": {
          "text": "c-TF-IDF score (log scale)"
         }
        }
       }
      }
     },
     "metadata": {},
     "output_type": "display_data"
    }
   ],
   "source": [
    "topic_model.visualize_term_rank(log_scale=True)"
   ]
  },
  {
   "attachments": {},
   "cell_type": "markdown",
   "metadata": {},
   "source": [
    "## Step 5: Prepare for anomaly detection"
   ]
  },
  {
   "cell_type": "code",
   "execution_count": 30,
   "metadata": {},
   "outputs": [],
   "source": [
    "to_clean_df = cleaned_df\n",
    "del to_clean_df[TEXT_COL]\n",
    "del to_clean_df[\"intent\"]\n",
    "del to_clean_df[\"category\"]"
   ]
  },
  {
   "cell_type": "code",
   "execution_count": 31,
   "metadata": {},
   "outputs": [],
   "source": [
    "GROUP: str = \"group\""
   ]
  },
  {
   "cell_type": "code",
   "execution_count": 32,
   "metadata": {},
   "outputs": [],
   "source": [
    "to_clean_df[GROUP] = topics"
   ]
  },
  {
   "attachments": {},
   "cell_type": "markdown",
   "metadata": {},
   "source": [
    "Count the occurence"
   ]
  },
  {
   "cell_type": "code",
   "execution_count": 33,
   "metadata": {},
   "outputs": [],
   "source": [
    "counted_df = to_clean_df.groupby([GROUP, DATE_COL]).count().reset_index().assign(COUNT=lambda x: x.iloc[:,0])"
   ]
  },
  {
   "cell_type": "code",
   "execution_count": 34,
   "metadata": {},
   "outputs": [],
   "source": [
    "duplicates_df = to_clean_df.groupby([GROUP, DATE_COL]).apply(lambda x: x.duplicated().sum()).reset_index(name='DUPLICATES')"
   ]
  },
  {
   "cell_type": "code",
   "execution_count": 35,
   "metadata": {},
   "outputs": [],
   "source": [
    "duplicates_df[\"DUPLICATES\"] = duplicates_df[\"DUPLICATES\"].apply(lambda count: count+1)"
   ]
  },
  {
   "attachments": {},
   "cell_type": "markdown",
   "metadata": {},
   "source": [
    "Fill missing values"
   ]
  },
  {
   "cell_type": "code",
   "execution_count": 36,
   "metadata": {},
   "outputs": [],
   "source": [
    "def fill_missing_dates(df: DataFrame, date_col: str, freq: str=\"15min\") -> DataFrame:\n",
    "    \"\"\"Fill missing dates of group\"\"\"\n",
    "    min_date = df[date_col].min()\n",
    "    max_date = df[date_col].max()\n",
    "    new_dates = pd.date_range(min_date, max_date, freq=freq)\n",
    "    all_dates = pd.DataFrame({date_col: new_dates})\n",
    "    \n",
    "    # merge the new dataframe with the original df\n",
    "    df = pd.merge(df, all_dates, on=date_col, how='outer')\n",
    "    \n",
    "    # sort by date_col and fill missing values with new dates\n",
    "    df = df.sort_values(by=date_col)\n",
    "    df[date_col] = df[date_col].fillna(method='ffill')\n",
    "    df = df.ffill()\n",
    "    return df"
   ]
  },
  {
   "cell_type": "code",
   "execution_count": 37,
   "metadata": {},
   "outputs": [],
   "source": [
    "filled_df: DataFrame = duplicates_df.groupby(GROUP).apply(lambda df: fill_missing_dates(df, DATE_COL))"
   ]
  },
  {
   "attachments": {},
   "cell_type": "markdown",
   "metadata": {},
   "source": [
    "## Step 6: Anomaly Detection"
   ]
  },
  {
   "attachments": {},
   "cell_type": "markdown",
   "metadata": {},
   "source": [
    "Convert df for tad"
   ]
  },
  {
   "cell_type": "code",
   "execution_count": 38,
   "metadata": {},
   "outputs": [],
   "source": [
    "filled_df = filled_df.set_index(DATE_COL)"
   ]
  },
  {
   "attachments": {},
   "cell_type": "markdown",
   "metadata": {},
   "source": [
    "Find anomalies"
   ]
  },
  {
   "cell_type": "code",
   "execution_count": 40,
   "metadata": {},
   "outputs": [
    {
     "name": "stderr",
     "output_type": "stream",
     "text": [
      "<>:292: SyntaxWarning:\n",
      "\n",
      "\"is\" with a literal. Did you mean \"==\"?\n",
      "\n",
      "<>:292: SyntaxWarning:\n",
      "\n",
      "\"is\" with a literal. Did you mean \"==\"?\n",
      "\n"
     ]
    },
    {
     "ename": "ImportError",
     "evalue": "cannot import name 'Int64Index' from 'pandas' (C:\\Users\\fadop\\AppData\\Roaming\\Python\\Python310\\site-packages\\pandas\\__init__.py)",
     "output_type": "error",
     "traceback": [
      "\u001b[1;31m---------------------------------------------------------------------------\u001b[0m",
      "\u001b[1;31mImportError\u001b[0m                               Traceback (most recent call last)",
      "File \u001b[1;32m~\\AppData\\Roaming\\Python\\Python310\\site-packages\\statsmodels\\compat\\pandas.py:57\u001b[0m\n\u001b[0;32m     56\u001b[0m \u001b[39mtry\u001b[39;00m:\n\u001b[1;32m---> 57\u001b[0m     \u001b[39mfrom\u001b[39;00m \u001b[39mpandas\u001b[39;00m \u001b[39mimport\u001b[39;00m NumericIndex\n\u001b[0;32m     59\u001b[0m     has_numeric_index \u001b[39m=\u001b[39m \u001b[39mTrue\u001b[39;00m\n",
      "\u001b[1;31mImportError\u001b[0m: cannot import name 'NumericIndex' from 'pandas' (C:\\Users\\fadop\\AppData\\Roaming\\Python\\Python310\\site-packages\\pandas\\__init__.py)",
      "\nDuring handling of the above exception, another exception occurred:\n",
      "\u001b[1;31mImportError\u001b[0m                               Traceback (most recent call last)",
      "Cell \u001b[1;32mIn[40], line 5\u001b[0m\n\u001b[0;32m      3\u001b[0m \u001b[39mimport\u001b[39;00m \u001b[39mpandas\u001b[39;00m \u001b[39mas\u001b[39;00m \u001b[39mpd\u001b[39;00m\n\u001b[0;32m      4\u001b[0m \u001b[39mimport\u001b[39;00m \u001b[39mdatetime\u001b[39;00m\n\u001b[1;32m----> 5\u001b[0m \u001b[39mimport\u001b[39;00m \u001b[39mstatsmodels\u001b[39;00m\u001b[39m.\u001b[39;00m\u001b[39mapi\u001b[39;00m \u001b[39mas\u001b[39;00m \u001b[39msm\u001b[39;00m\n\u001b[0;32m      6\u001b[0m \u001b[39mimport\u001b[39;00m \u001b[39mlogging\u001b[39;00m\n\u001b[0;32m      9\u001b[0m logger \u001b[39m=\u001b[39m logging\u001b[39m.\u001b[39mgetLogger(\u001b[39m__name__\u001b[39m)\n",
      "File \u001b[1;32m~\\AppData\\Roaming\\Python\\Python310\\site-packages\\statsmodels\\api.py:71\u001b[0m\n\u001b[0;32m      1\u001b[0m \u001b[39m# -*- coding: utf-8 -*-\u001b[39;00m\n\u001b[0;32m      3\u001b[0m __all__ \u001b[39m=\u001b[39m [\n\u001b[0;32m      4\u001b[0m     \u001b[39m\"\u001b[39m\u001b[39mBayesGaussMI\u001b[39m\u001b[39m\"\u001b[39m,\n\u001b[0;32m      5\u001b[0m     \u001b[39m\"\u001b[39m\u001b[39mBinomialBayesMixedGLM\u001b[39m\u001b[39m\"\u001b[39m,\n\u001b[1;32m   (...)\u001b[0m\n\u001b[0;32m     67\u001b[0m     \u001b[39m\"\u001b[39m\u001b[39mwebdoc\u001b[39m\u001b[39m\"\u001b[39m,\n\u001b[0;32m     68\u001b[0m ]\n\u001b[1;32m---> 71\u001b[0m \u001b[39mfrom\u001b[39;00m \u001b[39m.\u001b[39;00m \u001b[39mimport\u001b[39;00m datasets, distributions, iolib, regression, robust, tools\n\u001b[0;32m     72\u001b[0m \u001b[39mfrom\u001b[39;00m \u001b[39m.\u001b[39;00m\u001b[39m__init__\u001b[39;00m \u001b[39mimport\u001b[39;00m test\n\u001b[0;32m     73\u001b[0m \u001b[39mfrom\u001b[39;00m \u001b[39m.\u001b[39;00m\u001b[39mdiscrete\u001b[39;00m\u001b[39m.\u001b[39;00m\u001b[39mcount_model\u001b[39;00m \u001b[39mimport\u001b[39;00m (\n\u001b[0;32m     74\u001b[0m     ZeroInflatedGeneralizedPoisson,\n\u001b[0;32m     75\u001b[0m     ZeroInflatedNegativeBinomialP,\n\u001b[0;32m     76\u001b[0m     ZeroInflatedPoisson,\n\u001b[0;32m     77\u001b[0m )\n",
      "File \u001b[1;32m~\\AppData\\Roaming\\Python\\Python310\\site-packages\\statsmodels\\distributions\\__init__.py:4\u001b[0m\n\u001b[0;32m      2\u001b[0m \u001b[39mfrom\u001b[39;00m \u001b[39m.\u001b[39;00m\u001b[39mempirical_distribution\u001b[39;00m \u001b[39mimport\u001b[39;00m ECDF, monotone_fn_inverter, StepFunction\n\u001b[0;32m      3\u001b[0m \u001b[39mfrom\u001b[39;00m \u001b[39m.\u001b[39;00m\u001b[39medgeworth\u001b[39;00m \u001b[39mimport\u001b[39;00m ExpandedNormal\n\u001b[1;32m----> 4\u001b[0m \u001b[39mfrom\u001b[39;00m \u001b[39m.\u001b[39;00m\u001b[39mdiscrete\u001b[39;00m \u001b[39mimport\u001b[39;00m genpoisson_p, zipoisson, zigenpoisson, zinegbin\n\u001b[0;32m      6\u001b[0m __all__ \u001b[39m=\u001b[39m [\u001b[39m'\u001b[39m\u001b[39mtest\u001b[39m\u001b[39m'\u001b[39m, \u001b[39m'\u001b[39m\u001b[39mECDF\u001b[39m\u001b[39m'\u001b[39m, \u001b[39m'\u001b[39m\u001b[39mmonotone_fn_inverter\u001b[39m\u001b[39m'\u001b[39m, \u001b[39m'\u001b[39m\u001b[39mStepFunction\u001b[39m\u001b[39m'\u001b[39m,\n\u001b[0;32m      7\u001b[0m            \u001b[39m'\u001b[39m\u001b[39mExpandedNormal\u001b[39m\u001b[39m'\u001b[39m, \u001b[39m'\u001b[39m\u001b[39mgenpoisson_p\u001b[39m\u001b[39m'\u001b[39m, \u001b[39m'\u001b[39m\u001b[39mzigenpoisson\u001b[39m\u001b[39m'\u001b[39m, \u001b[39m'\u001b[39m\u001b[39mzinegbin\u001b[39m\u001b[39m'\u001b[39m,\n\u001b[0;32m      8\u001b[0m            \u001b[39m'\u001b[39m\u001b[39mzipoisson\u001b[39m\u001b[39m'\u001b[39m]\n\u001b[0;32m     10\u001b[0m test \u001b[39m=\u001b[39m PytestTester()\n",
      "File \u001b[1;32m~\\AppData\\Roaming\\Python\\Python310\\site-packages\\statsmodels\\distributions\\discrete.py:6\u001b[0m\n\u001b[0;32m      3\u001b[0m \u001b[39mfrom\u001b[39;00m \u001b[39mscipy\u001b[39;00m\u001b[39m.\u001b[39;00m\u001b[39mspecial\u001b[39;00m \u001b[39mimport\u001b[39;00m gammaln\n\u001b[0;32m      4\u001b[0m \u001b[39mfrom\u001b[39;00m \u001b[39mscipy\u001b[39;00m\u001b[39m.\u001b[39;00m\u001b[39m_lib\u001b[39;00m\u001b[39m.\u001b[39;00m\u001b[39m_util\u001b[39;00m \u001b[39mimport\u001b[39;00m _lazywhere\n\u001b[1;32m----> 6\u001b[0m \u001b[39mfrom\u001b[39;00m \u001b[39mstatsmodels\u001b[39;00m\u001b[39m.\u001b[39;00m\u001b[39mbase\u001b[39;00m\u001b[39m.\u001b[39;00m\u001b[39mmodel\u001b[39;00m \u001b[39mimport\u001b[39;00m GenericLikelihoodModel\n\u001b[0;32m      9\u001b[0m \u001b[39mclass\u001b[39;00m \u001b[39mgenpoisson_p_gen\u001b[39;00m(rv_discrete):\n\u001b[0;32m     10\u001b[0m \u001b[39m    \u001b[39m\u001b[39m'''Generalized Poisson distribution\u001b[39;00m\n\u001b[0;32m     11\u001b[0m \u001b[39m    '''\u001b[39;00m\n",
      "File \u001b[1;32m~\\AppData\\Roaming\\Python\\Python310\\site-packages\\statsmodels\\base\\model.py:9\u001b[0m\n\u001b[0;32m      6\u001b[0m \u001b[39mimport\u001b[39;00m \u001b[39mnumpy\u001b[39;00m \u001b[39mas\u001b[39;00m \u001b[39mnp\u001b[39;00m\n\u001b[0;32m      7\u001b[0m \u001b[39mfrom\u001b[39;00m \u001b[39mscipy\u001b[39;00m \u001b[39mimport\u001b[39;00m stats\n\u001b[1;32m----> 9\u001b[0m \u001b[39mfrom\u001b[39;00m \u001b[39mstatsmodels\u001b[39;00m\u001b[39m.\u001b[39;00m\u001b[39mbase\u001b[39;00m\u001b[39m.\u001b[39;00m\u001b[39mdata\u001b[39;00m \u001b[39mimport\u001b[39;00m handle_data\n\u001b[0;32m     10\u001b[0m \u001b[39mfrom\u001b[39;00m \u001b[39mstatsmodels\u001b[39;00m\u001b[39m.\u001b[39;00m\u001b[39mbase\u001b[39;00m\u001b[39m.\u001b[39;00m\u001b[39moptimizer\u001b[39;00m \u001b[39mimport\u001b[39;00m Optimizer\n\u001b[0;32m     11\u001b[0m \u001b[39mimport\u001b[39;00m \u001b[39mstatsmodels\u001b[39;00m\u001b[39m.\u001b[39;00m\u001b[39mbase\u001b[39;00m\u001b[39m.\u001b[39;00m\u001b[39mwrapper\u001b[39;00m \u001b[39mas\u001b[39;00m \u001b[39mwrap\u001b[39;00m\n",
      "File \u001b[1;32m~\\AppData\\Roaming\\Python\\Python310\\site-packages\\statsmodels\\base\\data.py:13\u001b[0m\n\u001b[0;32m     10\u001b[0m \u001b[39mfrom\u001b[39;00m \u001b[39mpandas\u001b[39;00m \u001b[39mimport\u001b[39;00m DataFrame, Series, isnull, MultiIndex\n\u001b[0;32m     12\u001b[0m \u001b[39mimport\u001b[39;00m \u001b[39mstatsmodels\u001b[39;00m\u001b[39m.\u001b[39;00m\u001b[39mtools\u001b[39;00m\u001b[39m.\u001b[39;00m\u001b[39mdata\u001b[39;00m \u001b[39mas\u001b[39;00m \u001b[39mdata_util\u001b[39;00m\n\u001b[1;32m---> 13\u001b[0m \u001b[39mfrom\u001b[39;00m \u001b[39mstatsmodels\u001b[39;00m\u001b[39m.\u001b[39;00m\u001b[39mtools\u001b[39;00m\u001b[39m.\u001b[39;00m\u001b[39mdecorators\u001b[39;00m \u001b[39mimport\u001b[39;00m cache_readonly, cache_writable\n\u001b[0;32m     14\u001b[0m \u001b[39mfrom\u001b[39;00m \u001b[39mstatsmodels\u001b[39;00m\u001b[39m.\u001b[39;00m\u001b[39mtools\u001b[39;00m\u001b[39m.\u001b[39;00m\u001b[39msm_exceptions\u001b[39;00m \u001b[39mimport\u001b[39;00m MissingDataError\n\u001b[0;32m     17\u001b[0m \u001b[39mdef\u001b[39;00m \u001b[39m_asarray_2dcolumns\u001b[39m(x):\n",
      "File \u001b[1;32m~\\AppData\\Roaming\\Python\\Python310\\site-packages\\statsmodels\\tools\\decorators.py:2\u001b[0m\n\u001b[0;32m      1\u001b[0m \u001b[39mfrom\u001b[39;00m \u001b[39mstatsmodels\u001b[39;00m\u001b[39m.\u001b[39;00m\u001b[39mtools\u001b[39;00m\u001b[39m.\u001b[39;00m\u001b[39msm_exceptions\u001b[39;00m \u001b[39mimport\u001b[39;00m CacheWriteWarning\n\u001b[1;32m----> 2\u001b[0m \u001b[39mfrom\u001b[39;00m \u001b[39mstatsmodels\u001b[39;00m\u001b[39m.\u001b[39;00m\u001b[39mcompat\u001b[39;00m\u001b[39m.\u001b[39;00m\u001b[39mpandas\u001b[39;00m \u001b[39mimport\u001b[39;00m cache_readonly \u001b[39mas\u001b[39;00m PandasCacheReadonly\n\u001b[0;32m      4\u001b[0m \u001b[39mimport\u001b[39;00m \u001b[39mwarnings\u001b[39;00m\n\u001b[0;32m      6\u001b[0m __all__ \u001b[39m=\u001b[39m [\u001b[39m'\u001b[39m\u001b[39mcache_readonly\u001b[39m\u001b[39m'\u001b[39m, \u001b[39m'\u001b[39m\u001b[39mcache_writable\u001b[39m\u001b[39m'\u001b[39m, \u001b[39m'\u001b[39m\u001b[39mdeprecated_alias\u001b[39m\u001b[39m'\u001b[39m,\n\u001b[0;32m      7\u001b[0m            \u001b[39m'\u001b[39m\u001b[39mResettableCache\u001b[39m\u001b[39m'\u001b[39m]\n",
      "File \u001b[1;32m~\\AppData\\Roaming\\Python\\Python310\\site-packages\\statsmodels\\compat\\pandas.py:61\u001b[0m\n\u001b[0;32m     59\u001b[0m     has_numeric_index \u001b[39m=\u001b[39m \u001b[39mTrue\u001b[39;00m\n\u001b[0;32m     60\u001b[0m \u001b[39mexcept\u001b[39;00m \u001b[39mImportError\u001b[39;00m:\n\u001b[1;32m---> 61\u001b[0m     \u001b[39mfrom\u001b[39;00m \u001b[39mpandas\u001b[39;00m \u001b[39mimport\u001b[39;00m Int64Index \u001b[39mas\u001b[39;00m NumericIndex\n\u001b[0;32m     63\u001b[0m     has_numeric_index \u001b[39m=\u001b[39m \u001b[39mFalse\u001b[39;00m\n\u001b[0;32m     66\u001b[0m \u001b[39mdef\u001b[39;00m \u001b[39mis_int_index\u001b[39m(index: pd\u001b[39m.\u001b[39mIndex) \u001b[39m-\u001b[39m\u001b[39m>\u001b[39m \u001b[39mbool\u001b[39m:\n",
      "\u001b[1;31mImportError\u001b[0m: cannot import name 'Int64Index' from 'pandas' (C:\\Users\\fadop\\AppData\\Roaming\\Python\\Python310\\site-packages\\pandas\\__init__.py)"
     ]
    }
   ],
   "source": [
    "import numpy as np\n",
    "import scipy as sp\n",
    "import pandas as pd\n",
    "import datetime\n",
    "import statsmodels.api as sm\n",
    "import logging\n",
    "\n",
    "\n",
    "logger = logging.getLogger(__name__)\n",
    "\n",
    "\n",
    "def _handle_granularity_error(level):\n",
    "    \"\"\"\n",
    "    Raises ValueError with detailed error message if one of the two situations is true:\n",
    "      1. calculated granularity is less than minute (sec or ms)\n",
    "      2. resampling is not enabled for situations where calculated granularity < min\n",
    "      level : String\n",
    "        the granularity that is below the min threshold\n",
    "    \"\"\"\n",
    "    e_message = '%s granularity is not supported. Ensure granularity => minute or enable resampling' % level\n",
    "    raise ValueError(e_message)\n",
    "\n",
    "\n",
    "def _resample_to_min(data, period_override=None):\n",
    "    \"\"\"\n",
    "    Resamples a data set to the min level of granularity\n",
    "      data : pandas DataFrame\n",
    "        input Pandas DataFrame\n",
    "      period_override : int\n",
    "        indicates whether resampling should be done with overridden value instead of min (1440)\n",
    "    \"\"\"\n",
    "    data = data.resample('60s', label='right').sum()\n",
    "    if _override_period(period_override):\n",
    "        period = period_override\n",
    "    else:\n",
    "        period = 1440\n",
    "    return (data, period)\n",
    "\n",
    "\n",
    "def _override_period(period_override):\n",
    "    \"\"\"\n",
    "    Indicates whether period can be overridden if the period derived from granularity does\n",
    "    not match the generated period.\n",
    "      period_override : int\n",
    "        the user-specified period that overrides the value calculated from granularity\n",
    "    \"\"\"\n",
    "    return period_override is not None\n",
    "\n",
    "\n",
    "def _get_period(gran_period, period_arg=None):\n",
    "    \"\"\"\n",
    "    Returns the generated period or overridden period depending upon the period_arg\n",
    "      gran_period : int\n",
    "        the period generated from the granularity\n",
    "      period_arg : the period override value that is either None or an int\n",
    "        the period to override the period generated from granularity\n",
    "    \"\"\"\n",
    "    if _override_period(period_arg):\n",
    "        return period_arg\n",
    "    else:\n",
    "        return gran_period\n",
    "\n",
    "\n",
    "def _get_data_tuple(raw_data, period_override, resampling=False):\n",
    "    \"\"\"\n",
    "    Generates a tuple consisting of processed input data, a calculated or overridden period, and granularity\n",
    "      raw_data : pandas DataFrame\n",
    "        input data\n",
    "      period_override : int\n",
    "        period specified in the anomaly_detect_ts parameter list, None if it is not provided\n",
    "      resampling : True | False\n",
    "        indicates whether the raw_data should be resampled to a supporting granularity, if applicable\n",
    "    \"\"\"\n",
    "    data = raw_data.sort_index()\n",
    "    timediff = _get_time_diff(data)\n",
    "\n",
    "    if timediff.days > 0:\n",
    "        period = _get_period(7, period_override)\n",
    "        granularity = 'day'\n",
    "    elif timediff.seconds / 60 / 60 >= 1:\n",
    "        granularity = 'hr'\n",
    "        period = _get_period(24, period_override)\n",
    "    elif timediff.seconds / 60 >= 1:\n",
    "        granularity = 'min'\n",
    "        period = _get_period(1440, period_override)\n",
    "    elif timediff.seconds > 0:\n",
    "        granularity = 'sec'\n",
    "    elif timediff.seconds > 0:\n",
    "        granularity = 'sec'\n",
    "\n",
    "        '''\n",
    "           Aggregate data to minute level of granularity if data stream granularity is sec and\n",
    "           resampling=True. If resampling=False, raise ValueError\n",
    "        '''\n",
    "        if resampling is True:\n",
    "            period = _resample_to_min(data, period_override)\n",
    "        else:\n",
    "            _handle_granularity_error('sec')\n",
    "    else:\n",
    "        '''\n",
    "           Aggregate data to minute level of granularity if data stream granularity is ms and\n",
    "           resampling=True. If resampling=False, raise ValueError\n",
    "        '''\n",
    "        if resampling is True:\n",
    "            data, period = _resample_to_min(data, period_override)\n",
    "            granularity = None\n",
    "        else:\n",
    "            _handle_granularity_error('ms')\n",
    "\n",
    "    return (data, period, granularity)\n",
    "\n",
    "\n",
    "def _get_time_diff(data):\n",
    "    \"\"\"\n",
    "    Generates the time difference used to determine granularity and\n",
    "    to generate the period\n",
    "      data : pandas DataFrame\n",
    "        composed of input data\n",
    "    \"\"\"\n",
    "    return data.index[1] - data.index[0]\n",
    "\n",
    "\n",
    "def _get_max_anoms(data, max_anoms):\n",
    "    \"\"\"\n",
    "    Returns the max_anoms parameter used for S-H-ESD time series anomaly detection\n",
    "      data : pandas DataFrame\n",
    "        composed of input data\n",
    "      max_anoms : float\n",
    "        the input max_anoms\n",
    "    \"\"\"\n",
    "    if max_anoms == 0:\n",
    "        logger.warning('0 max_anoms results in max_outliers being 0.')\n",
    "    return 1 / data.size if max_anoms < 1 / data.size else max_anoms\n",
    "\n",
    "\n",
    "def _process_long_term_data(data, period, granularity, piecewise_median_period_weeks):\n",
    "    \"\"\"\n",
    "    Processes result set when longterm is set to true\n",
    "      data : list of floats\n",
    "        the result set of anoms\n",
    "      period : int\n",
    "        the calculated or overridden period value\n",
    "      granularity : string\n",
    "        the calculated or overridden granularity\n",
    "      piecewise_median_period_weeks : int\n",
    "        used to determine days and observations per period\n",
    "    \"\"\"\n",
    "    # Pre-allocate list with size equal to the number of piecewise_median_period_weeks chunks in x + any left over chunk\n",
    "    # handle edge cases for daily and single column data period lengths\n",
    "    num_obs_in_period = period * piecewise_median_period_weeks + \\\n",
    "        1 if granularity == 'day' else period * 7 * piecewise_median_period_weeks\n",
    "    num_days_in_period = (7 * piecewise_median_period_weeks) + \\\n",
    "        1 if granularity == 'day' else (7 * piecewise_median_period_weeks)\n",
    "\n",
    "    all_data = []\n",
    "    # Subset x into piecewise_median_period_weeks chunks\n",
    "    for i in range(1, data.size + 1, num_obs_in_period):\n",
    "        start_date = data.index[i]\n",
    "        # if there is at least 14 days left, subset it, otherwise subset last_date - 14 days\n",
    "        end_date = start_date + datetime.timedelta(days=num_days_in_period)\n",
    "        if end_date < data.index[-1]:\n",
    "            all_data.append(\n",
    "                data.loc[lambda x: (x.index >= start_date) & (x.index <= end_date)])\n",
    "        else:\n",
    "            all_data.append(\n",
    "                data.loc[lambda x: x.index >= data.index[-1] - datetime.timedelta(days=num_days_in_period)])\n",
    "    return all_data\n",
    "\n",
    "\n",
    "def _get_only_last_results(data, all_anoms, granularity, only_last):\n",
    "    \"\"\"\n",
    "    Returns the results from the last day or hour only\n",
    "      data : pandas DataFrame\n",
    "        input data set\n",
    "      all_anoms : list of floats\n",
    "        all of the anomalies returned by the algorithm\n",
    "      granularity : string day | hr | min\n",
    "        The supported granularity value\n",
    "      only_last : string day | hr\n",
    "        The subset of anomalies to be returned\n",
    "    \"\"\"\n",
    "    start_date = data.index[-1] - datetime.timedelta(days=7)\n",
    "    start_anoms = data.index[-1] - datetime.timedelta(days=1)\n",
    "\n",
    "    if only_last == 'hr':\n",
    "        # We need to change start_date and start_anoms for the hourly only_last option\n",
    "        start_date = datetime.datetime.combine(\n",
    "            (data.index[-1] - datetime.timedelta(days=2)).date(), datetime.time.min)\n",
    "        start_anoms = data.index[-1] - datetime.timedelta(hours=1)\n",
    "\n",
    "    # subset the last days worth of data\n",
    "    x_subset_single_day = data.loc[data.index > start_anoms]\n",
    "    # When plotting anoms for the last day only we only show the previous weeks data\n",
    "    x_subset_week = data.loc[lambda df: (\n",
    "        df.index <= start_anoms) & (df.index > start_date)]\n",
    "    return all_anoms.loc[all_anoms.index >= x_subset_single_day.index[0]]\n",
    "\n",
    "\n",
    "def _get_plot_breaks(granularity, only_last):\n",
    "    \"\"\"\n",
    "    Generates the breaks used in plotting\n",
    "      granularity : string\n",
    "        the supported granularity value\n",
    "      only_last : True | False\n",
    "        indicates whether only the last day or hour is returned and to be plotted\n",
    "    \"\"\"\n",
    "    if granularity == 'day':\n",
    "        breaks = 3 * 12\n",
    "    elif only_last == 'day':\n",
    "        breaks = 12\n",
    "    else:\n",
    "        breaks = 3\n",
    "    return breaks\n",
    "\n",
    "\n",
    "def _perform_threshold_filter(anoms, periodic_max, threshold):\n",
    "    \"\"\"\n",
    "    Filters the list of anomalies per the threshold filter\n",
    "      anoms : list of floats\n",
    "        the anoms returned by the algorithm\n",
    "      periodic_max : float\n",
    "        calculated daily max value\n",
    "      threshold : med_max\" | \"p95\" | \"p99\"\n",
    "        user-specified threshold value used to filter anoms\n",
    "    \"\"\"\n",
    "    if threshold == 'med_max':\n",
    "        thresh = periodic_max.median()\n",
    "    elif threshold == 'p95':\n",
    "        thresh = periodic_max.quantile(0.95)\n",
    "    elif threshold == 'p99':\n",
    "        thresh = periodic_max.quantile(0.99)\n",
    "    else:\n",
    "        raise AttributeError(\n",
    "            'Invalid threshold, threshold options are None | med_max | p95 | p99')\n",
    "\n",
    "    return anoms.loc[anoms.values >= thresh]\n",
    "\n",
    "\n",
    "def _get_max_outliers(data, max_percent_anomalies):\n",
    "    \"\"\"\n",
    "    Calculates the max_outliers for an input data set\n",
    "      data : pandas DataFrame\n",
    "        the input data set\n",
    "      max_percent_anomalies : float\n",
    "        the input maximum number of anomalies per percent of data set values\n",
    "    \"\"\"\n",
    "    max_outliers = int(np.trunc(data.size * max_percent_anomalies))\n",
    "    assert max_outliers, 'With longterm=True, AnomalyDetection splits the data into 2 week periods by default. You have {0} observations in a period, which is too few. Set a higher piecewise_median_period_weeks.'.format(\n",
    "        data.size)\n",
    "    return max_outliers\n",
    "\n",
    "\n",
    "def _get_decomposed_data_tuple(data, num_obs_per_period):\n",
    "    \"\"\"\n",
    "    Returns a tuple consisting of two versions of the input data set: seasonally-decomposed and smoothed\n",
    "      data : pandas DataFrame\n",
    "        the input data set\n",
    "      num_obs_per_period : int\n",
    "        the number of observations in each period\n",
    "    \"\"\"\n",
    "    decomposed = sm.tsa.seasonal_decompose(\n",
    "        data, period=num_obs_per_period, two_sided=False)\n",
    "    smoothed = data - decomposed.resid.fillna(0)\n",
    "    data = data - decomposed.seasonal - data.mean()\n",
    "    return (data, smoothed)\n",
    "\n",
    "\n",
    "def anomaly_detect_ts(x, max_anoms=0.1, direction=\"pos\", alpha=0.05, only_last=None,\n",
    "                      threshold=None, e_value=False, longterm=False, piecewise_median_period_weeks=2,\n",
    "                      plot=False, y_log=False, xlabel=\"\", ylabel=\"count\", title='shesd output: ', verbose=False,\n",
    "                      dropna=False, resampling=False, period_override=None):\n",
    "\n",
    "    if verbose:\n",
    "        logger.setLevel(logging.DEBUG)\n",
    "        logger.debug(\"The debug logs will be logged because verbose=%s\", verbose)\n",
    "\n",
    "    # validation\n",
    "    assert isinstance(x, pd.Series), 'Data must be a series(Pandas.Series)'\n",
    "    assert x.values.dtype in [int, float], 'Values of the series must be number'\n",
    "    assert x.index.dtype == np.dtype('datetime64[ns]'), 'Index of the series must be datetime'\n",
    "    assert max_anoms <= 0.49 and max_anoms >= 0, 'max_anoms must be non-negative and less than 50% '\n",
    "    assert direction in ['pos', 'neg', 'both'], 'direction options: pos | neg | both'\n",
    "    assert only_last in [None, 'day', 'hr'], 'only_last options: None | day | hr'\n",
    "    assert threshold in [None, 'med_max', 'p95', 'p99'], 'threshold options: None | med_max | p95 | p99'\n",
    "    assert piecewise_median_period_weeks >= 2, 'piecewise_median_period_weeks must be greater than 2 weeks'\n",
    "    logger.debug('Completed validation of input parameters')\n",
    "\n",
    "    if alpha < 0.01 or alpha > 0.1:\n",
    "        logger.warning('alpha is the statistical significance and is usually between 0.01 and 0.1')\n",
    "\n",
    "    data, period, granularity = _get_data_tuple(x, period_override, resampling)\n",
    "    if granularity is 'day':\n",
    "        num_days_per_line = 7\n",
    "        only_last = 'day' if only_last == 'hr' else only_last\n",
    "\n",
    "    max_anoms = _get_max_anoms(data, max_anoms)\n",
    "\n",
    "    # If longterm is enabled, break the data into subset data frames and store in all_data\n",
    "    all_data = _process_long_term_data(data, period, granularity, piecewise_median_period_weeks) if longterm else [data] \n",
    "    all_anoms = pd.Series()\n",
    "    seasonal_plus_trend = pd.Series()\n",
    "\n",
    "    # Detect anomalies on all data (either entire data in one-pass, or in 2 week blocks if longterm=True)\n",
    "    for series in all_data:\n",
    "        shesd = _detect_anoms(series, k=max_anoms, alpha=alpha, num_obs_per_period=period, use_decomp=True,\n",
    "                              use_esd=False, direction=direction, verbose=verbose)\n",
    "        shesd_anoms = shesd['anoms']\n",
    "        shesd_stl = shesd['stl']\n",
    "\n",
    "        # -- Step 3: Use detected anomaly timestamps to extract the actual anomalies (timestamp and value) from the data\n",
    "        anoms = pd.Series() if shesd_anoms.empty else series.loc[shesd_anoms.index]\n",
    "\n",
    "        # Filter the anomalies using one of the thresholding functions if applicable\n",
    "        if threshold:\n",
    "            # Calculate daily max values\n",
    "            periodic_max = data.resample('1D').max()\n",
    "            anoms = _perform_threshold_filter(anoms, periodic_max, threshold)\n",
    "\n",
    "        all_anoms = all_anoms.append(anoms)\n",
    "        seasonal_plus_trend = seasonal_plus_trend.append(shesd_stl)\n",
    "\n",
    "    # De-dupe\n",
    "    all_anoms.drop_duplicates(inplace=True)\n",
    "    seasonal_plus_trend.drop_duplicates(inplace=True)\n",
    "\n",
    "    # If only_last is specified, create a subset of the data corresponding to the most recent day or hour\n",
    "    if only_last:\n",
    "        all_anoms = _get_only_last_results(\n",
    "            data, all_anoms, granularity, only_last)\n",
    "\n",
    "    # If there are no anoms, log it and return an empty anoms result\n",
    "    if all_anoms.empty:\n",
    "        if verbose:\n",
    "            logger.info('No anomalies detected.')\n",
    "\n",
    "        return {\n",
    "            'anoms': pd.Series(),\n",
    "            'plot': None\n",
    "        }\n",
    "\n",
    "    if plot:\n",
    "        # TODO additional refactoring and logic needed to support plotting\n",
    "        num_days_per_line\n",
    "        #breaks = _get_plot_breaks(granularity, only_last)\n",
    "        # x_subset_week\n",
    "        raise Exception('TODO: Unsupported now')\n",
    "\n",
    "    return {\n",
    "        'anoms': all_anoms,\n",
    "        'expected': seasonal_plus_trend if e_value else None,\n",
    "        'plot': 'TODO' if plot else None\n",
    "    }\n",
    "\n",
    "\n",
    "def _detect_anoms(data, k=0.49, alpha=0.05, num_obs_per_period=None,\n",
    "                  use_decomp=True, use_esd=False, direction=\"pos\", verbose=False):\n",
    "    \"\"\"\n",
    "    Detects anomalies in a time series using S-H-ESD.\n",
    "    Args:\n",
    "         data: Time series to perform anomaly detection on.\n",
    "         k: Maximum number of anomalies that S-H-ESD will detect as a percentage of the data.\n",
    "         alpha: The level of statistical significance with which to accept or reject anomalies.\n",
    "         num_obs_per_period: Defines the number of observations in a single period, and used during seasonal decomposition.\n",
    "         use_decomp: Use seasonal decomposition during anomaly detection.\n",
    "         use_esd: Uses regular ESD instead of hybrid-ESD. Note hybrid-ESD is more statistically robust.\n",
    "         one_tail: If TRUE only positive or negative going anomalies are detected depending on if upper_tail is TRUE or FALSE.\n",
    "         upper_tail: If TRUE and one_tail is also TRUE, detect only positive going (right-tailed) anomalies. If FALSE and one_tail is TRUE, only detect negative (left-tailed) anomalies.\n",
    "         verbose: Additionally printing for debugging.\n",
    "    Returns:\n",
    "       A list containing the anomalies (anoms) and decomposition components (stl).\n",
    "    \"\"\"\n",
    "\n",
    "    # validation\n",
    "    assert num_obs_per_period, \"must supply period length for time series decomposition\"\n",
    "    assert direction in ['pos', 'neg',\n",
    "                         'both'], 'direction options: pos | neg | both'\n",
    "    assert data.size >= num_obs_per_period * \\\n",
    "        2, 'Anomaly detection needs at least 2 periods worth of data'\n",
    "    assert data[data.isnull(\n",
    "    )].empty, 'Data contains NA. We suggest replacing NA with interpolated values before detecting anomaly'\n",
    "\n",
    "    # conversion\n",
    "    one_tail = True if direction in ['pos', 'neg'] else False\n",
    "    upper_tail = True if direction in ['pos', 'both'] else False\n",
    "\n",
    "    # -- Step 1: Decompose data. This returns a univariate remainder which will be used for anomaly detection. Optionally, we might NOT decompose.\n",
    "    # Note: R use stl, but here we will use MA, the result may be different TODO.. Here need improvement\n",
    "    #decomposed = sm.tsa.seasonal_decompose(data, freq=num_obs_per_period, two_sided=False)\n",
    "    #smoothed = data - decomposed.resid.fillna(0)\n",
    "    #data = data - decomposed.seasonal - data.mean()\n",
    "\n",
    "    data, smoothed = _get_decomposed_data_tuple(data, num_obs_per_period)\n",
    "\n",
    "    max_outliers = _get_max_outliers(data, k)\n",
    "\n",
    "    R_idx = pd.Series()\n",
    "\n",
    "    n = data.size\n",
    "    # Compute test statistic until r=max_outliers values have been\n",
    "    # removed from the sample.\n",
    "    for i in range(1, max_outliers + 1):\n",
    "        if verbose:\n",
    "            logger.info(i, '/', max_outliers, ' completed')\n",
    "\n",
    "        if not data.mad():\n",
    "            break\n",
    "\n",
    "        if not one_tail:\n",
    "            ares = abs(data - data.median())\n",
    "        elif upper_tail:\n",
    "            ares = data - data.median()\n",
    "        else:\n",
    "            ares = data.median() - data\n",
    "\n",
    "        ares = ares / data.mad()\n",
    "\n",
    "        tmp_anom_index = ares[ares.values == ares.max()].index\n",
    "        cand = pd.Series(data.loc[tmp_anom_index], index=tmp_anom_index)\n",
    "\n",
    "        data.drop(tmp_anom_index, inplace=True)\n",
    "\n",
    "        # Compute critical value.\n",
    "        p = 1 - alpha / (n - i + 1) if one_tail else (1 -\n",
    "                                                      alpha / (2 * (n - i + 1)))\n",
    "        t = sp.stats.t.ppf(p, n - i - 1)\n",
    "        lam = t * (n - i) / np.sqrt((n - i - 1 + t ** 2) * (n - i + 1))\n",
    "        if ares.max() > lam:\n",
    "            R_idx = R_idx.append(cand)\n",
    "\n",
    "    return {\n",
    "        'anoms': R_idx,\n",
    "        'stl': smoothed\n",
    "    }"
   ]
  },
  {
   "cell_type": "code",
   "execution_count": 50,
   "metadata": {},
   "outputs": [
    {
     "ename": "AttributeError",
     "evalue": "module 'pandas' has no attribute 'Int64Index'",
     "output_type": "error",
     "traceback": [
      "\u001b[1;31m---------------------------------------------------------------------------\u001b[0m",
      "\u001b[1;31mAttributeError\u001b[0m                            Traceback (most recent call last)",
      "Cell \u001b[1;32mIn[50], line 2\u001b[0m\n\u001b[0;32m      1\u001b[0m \u001b[39mimport\u001b[39;00m \u001b[39mpandas\u001b[39;00m \u001b[39mas\u001b[39;00m \u001b[39mpd\u001b[39;00m\n\u001b[1;32m----> 2\u001b[0m pd\u001b[39m.\u001b[39;49mInt64Index\n",
      "\u001b[1;31mAttributeError\u001b[0m: module 'pandas' has no attribute 'Int64Index'"
     ]
    }
   ],
   "source": [
    "import pandas as pd\n",
    "pd.Int64Index"
   ]
  },
  {
   "cell_type": "code",
   "execution_count": 47,
   "metadata": {},
   "outputs": [
    {
     "ename": "ImportError",
     "evalue": "cannot import name 'Int64Index' from 'pandas' (C:\\Users\\fadop\\AppData\\Roaming\\Python\\Python310\\site-packages\\pandas\\__init__.py)",
     "output_type": "error",
     "traceback": [
      "\u001b[1;31m---------------------------------------------------------------------------\u001b[0m",
      "\u001b[1;31mImportError\u001b[0m                               Traceback (most recent call last)",
      "Cell \u001b[1;32mIn[47], line 2\u001b[0m\n\u001b[0;32m      1\u001b[0m \u001b[39mtry\u001b[39;00m:\n\u001b[1;32m----> 2\u001b[0m     \u001b[39mfrom\u001b[39;00m \u001b[39mpandas\u001b[39;00m \u001b[39mimport\u001b[39;00m NumericIndex\n\u001b[0;32m      3\u001b[0m \u001b[39mexcept\u001b[39;00m \u001b[39mException\u001b[39;00m:\n",
      "\u001b[1;31mImportError\u001b[0m: cannot import name 'NumericIndex' from 'pandas' (C:\\Users\\fadop\\AppData\\Roaming\\Python\\Python310\\site-packages\\pandas\\__init__.py)",
      "\nDuring handling of the above exception, another exception occurred:\n",
      "\u001b[1;31mImportError\u001b[0m                               Traceback (most recent call last)",
      "Cell \u001b[1;32mIn[47], line 4\u001b[0m\n\u001b[0;32m      2\u001b[0m     \u001b[39mfrom\u001b[39;00m \u001b[39mpandas\u001b[39;00m \u001b[39mimport\u001b[39;00m NumericIndex\n\u001b[0;32m      3\u001b[0m \u001b[39mexcept\u001b[39;00m \u001b[39mException\u001b[39;00m:\n\u001b[1;32m----> 4\u001b[0m     \u001b[39mfrom\u001b[39;00m \u001b[39mpandas\u001b[39;00m \u001b[39mimport\u001b[39;00m Int64Index \u001b[39mas\u001b[39;00m NumericIndex\n",
      "\u001b[1;31mImportError\u001b[0m: cannot import name 'Int64Index' from 'pandas' (C:\\Users\\fadop\\AppData\\Roaming\\Python\\Python310\\site-packages\\pandas\\__init__.py)"
     ]
    }
   ],
   "source": [
    "try:\n",
    "    from pandas import NumericIndex\n",
    "except Exception:\n",
    "    from pandas import Int64Index as NumericIndex"
   ]
  },
  {
   "cell_type": "code",
   "execution_count": null,
   "metadata": {},
   "outputs": [
    {
     "ename": "AttributeError",
     "evalue": "'Series' object has no attribute 'mad'",
     "output_type": "error",
     "traceback": [
      "\u001b[1;31m---------------------------------------------------------------------------\u001b[0m",
      "\u001b[1;31mAttributeError\u001b[0m                            Traceback (most recent call last)",
      "\u001b[1;32m~\\AppData\\Local\\Temp\\ipykernel_18368\\2187762949.py\u001b[0m in \u001b[0;36m?\u001b[1;34m()\u001b[0m\n\u001b[1;32m----> 1\u001b[1;33m \u001b[0mfilled_df\u001b[0m\u001b[1;33m.\u001b[0m\u001b[0mgroupby\u001b[0m\u001b[1;33m(\u001b[0m\u001b[0mGROUP\u001b[0m\u001b[1;33m)\u001b[0m\u001b[1;33m[\u001b[0m\u001b[1;34m\"DUPLICATES\"\u001b[0m\u001b[1;33m]\u001b[0m\u001b[1;33m.\u001b[0m\u001b[0mapply\u001b[0m\u001b[1;33m(\u001b[0m\u001b[0manomaly_detect_ts\u001b[0m\u001b[1;33m)\u001b[0m\u001b[1;33m\u001b[0m\u001b[1;33m\u001b[0m\u001b[0m\n\u001b[0m",
      "\u001b[1;32mc:\\Users\\fadop\\anaconda3\\envs\\topicAnalyzer\\lib\\site-packages\\pandas\\core\\groupby\\generic.py\u001b[0m in \u001b[0;36m?\u001b[1;34m(self, func, *args, **kwargs)\u001b[0m\n\u001b[0;32m    212\u001b[0m             \u001b[0minput\u001b[0m\u001b[1;33m=\u001b[0m\u001b[1;34m\"series\"\u001b[0m\u001b[1;33m,\u001b[0m \u001b[0mexamples\u001b[0m\u001b[1;33m=\u001b[0m\u001b[0m_apply_docs\u001b[0m\u001b[1;33m[\u001b[0m\u001b[1;34m\"series_examples\"\u001b[0m\u001b[1;33m]\u001b[0m\u001b[1;33m\u001b[0m\u001b[1;33m\u001b[0m\u001b[0m\n\u001b[0;32m    213\u001b[0m         )\n\u001b[0;32m    214\u001b[0m     )\n\u001b[0;32m    215\u001b[0m     \u001b[1;32mdef\u001b[0m \u001b[0mapply\u001b[0m\u001b[1;33m(\u001b[0m\u001b[0mself\u001b[0m\u001b[1;33m,\u001b[0m \u001b[0mfunc\u001b[0m\u001b[1;33m,\u001b[0m \u001b[1;33m*\u001b[0m\u001b[0margs\u001b[0m\u001b[1;33m,\u001b[0m \u001b[1;33m**\u001b[0m\u001b[0mkwargs\u001b[0m\u001b[1;33m)\u001b[0m \u001b[1;33m->\u001b[0m \u001b[0mSeries\u001b[0m\u001b[1;33m:\u001b[0m\u001b[1;33m\u001b[0m\u001b[1;33m\u001b[0m\u001b[0m\n\u001b[1;32m--> 216\u001b[1;33m         \u001b[1;32mreturn\u001b[0m \u001b[0msuper\u001b[0m\u001b[1;33m(\u001b[0m\u001b[1;33m)\u001b[0m\u001b[1;33m.\u001b[0m\u001b[0mapply\u001b[0m\u001b[1;33m(\u001b[0m\u001b[0mfunc\u001b[0m\u001b[1;33m,\u001b[0m \u001b[1;33m*\u001b[0m\u001b[0margs\u001b[0m\u001b[1;33m,\u001b[0m \u001b[1;33m**\u001b[0m\u001b[0mkwargs\u001b[0m\u001b[1;33m)\u001b[0m\u001b[1;33m\u001b[0m\u001b[1;33m\u001b[0m\u001b[0m\n\u001b[0m",
      "\u001b[1;32mc:\\Users\\fadop\\anaconda3\\envs\\topicAnalyzer\\lib\\site-packages\\pandas\\core\\groupby\\groupby.py\u001b[0m in \u001b[0;36m?\u001b[1;34m(self, func, *args, **kwargs)\u001b[0m\n\u001b[0;32m   1350\u001b[0m         \u001b[1;31m# ignore SettingWithCopy here in case the user mutates\u001b[0m\u001b[1;33m\u001b[0m\u001b[1;33m\u001b[0m\u001b[0m\n\u001b[0;32m   1351\u001b[0m         \u001b[1;32mwith\u001b[0m \u001b[0moption_context\u001b[0m\u001b[1;33m(\u001b[0m\u001b[1;34m\"mode.chained_assignment\"\u001b[0m\u001b[1;33m,\u001b[0m \u001b[1;32mNone\u001b[0m\u001b[1;33m)\u001b[0m\u001b[1;33m:\u001b[0m\u001b[1;33m\u001b[0m\u001b[1;33m\u001b[0m\u001b[0m\n\u001b[0;32m   1352\u001b[0m             \u001b[1;32mtry\u001b[0m\u001b[1;33m:\u001b[0m\u001b[1;33m\u001b[0m\u001b[1;33m\u001b[0m\u001b[0m\n\u001b[0;32m   1353\u001b[0m                 \u001b[0mresult\u001b[0m \u001b[1;33m=\u001b[0m \u001b[0mself\u001b[0m\u001b[1;33m.\u001b[0m\u001b[0m_python_apply_general\u001b[0m\u001b[1;33m(\u001b[0m\u001b[0mf\u001b[0m\u001b[1;33m,\u001b[0m \u001b[0mself\u001b[0m\u001b[1;33m.\u001b[0m\u001b[0m_selected_obj\u001b[0m\u001b[1;33m)\u001b[0m\u001b[1;33m\u001b[0m\u001b[1;33m\u001b[0m\u001b[0m\n\u001b[1;32m-> 1354\u001b[1;33m             \u001b[1;32mexcept\u001b[0m \u001b[0mTypeError\u001b[0m\u001b[1;33m:\u001b[0m\u001b[1;33m\u001b[0m\u001b[1;33m\u001b[0m\u001b[0m\n\u001b[0m\u001b[0;32m   1355\u001b[0m                 \u001b[1;31m# gh-20949\u001b[0m\u001b[1;33m\u001b[0m\u001b[1;33m\u001b[0m\u001b[0m\n\u001b[0;32m   1356\u001b[0m                 \u001b[1;31m# try again, with .apply acting as a filtering\u001b[0m\u001b[1;33m\u001b[0m\u001b[1;33m\u001b[0m\u001b[0m\n\u001b[0;32m   1357\u001b[0m                 \u001b[1;31m# operation, by excluding the grouping column\u001b[0m\u001b[1;33m\u001b[0m\u001b[1;33m\u001b[0m\u001b[0m\n",
      "\u001b[1;32mc:\\Users\\fadop\\anaconda3\\envs\\topicAnalyzer\\lib\\site-packages\\pandas\\core\\groupby\\groupby.py\u001b[0m in \u001b[0;36m?\u001b[1;34m(self, f, data, not_indexed_same, is_transform, is_agg)\u001b[0m\n\u001b[0;32m   1398\u001b[0m         \u001b[1;33m-\u001b[0m\u001b[1;33m-\u001b[0m\u001b[1;33m-\u001b[0m\u001b[1;33m-\u001b[0m\u001b[1;33m-\u001b[0m\u001b[1;33m-\u001b[0m\u001b[1;33m-\u001b[0m\u001b[1;33m\u001b[0m\u001b[1;33m\u001b[0m\u001b[0m\n\u001b[0;32m   1399\u001b[0m         \u001b[0mSeries\u001b[0m \u001b[1;32mor\u001b[0m \u001b[0mDataFrame\u001b[0m\u001b[1;33m\u001b[0m\u001b[1;33m\u001b[0m\u001b[0m\n\u001b[0;32m   1400\u001b[0m             \u001b[0mdata\u001b[0m \u001b[0mafter\u001b[0m \u001b[0mapplying\u001b[0m \u001b[0mf\u001b[0m\u001b[1;33m\u001b[0m\u001b[1;33m\u001b[0m\u001b[0m\n\u001b[0;32m   1401\u001b[0m         \"\"\"\n\u001b[1;32m-> 1402\u001b[1;33m         \u001b[0mvalues\u001b[0m\u001b[1;33m,\u001b[0m \u001b[0mmutated\u001b[0m \u001b[1;33m=\u001b[0m \u001b[0mself\u001b[0m\u001b[1;33m.\u001b[0m\u001b[0mgrouper\u001b[0m\u001b[1;33m.\u001b[0m\u001b[0mapply\u001b[0m\u001b[1;33m(\u001b[0m\u001b[0mf\u001b[0m\u001b[1;33m,\u001b[0m \u001b[0mdata\u001b[0m\u001b[1;33m,\u001b[0m \u001b[0mself\u001b[0m\u001b[1;33m.\u001b[0m\u001b[0maxis\u001b[0m\u001b[1;33m)\u001b[0m\u001b[1;33m\u001b[0m\u001b[1;33m\u001b[0m\u001b[0m\n\u001b[0m\u001b[0;32m   1403\u001b[0m         \u001b[1;32mif\u001b[0m \u001b[0mnot_indexed_same\u001b[0m \u001b[1;32mis\u001b[0m \u001b[1;32mNone\u001b[0m\u001b[1;33m:\u001b[0m\u001b[1;33m\u001b[0m\u001b[1;33m\u001b[0m\u001b[0m\n\u001b[0;32m   1404\u001b[0m             \u001b[0mnot_indexed_same\u001b[0m \u001b[1;33m=\u001b[0m \u001b[0mmutated\u001b[0m\u001b[1;33m\u001b[0m\u001b[1;33m\u001b[0m\u001b[0m\n\u001b[0;32m   1405\u001b[0m \u001b[1;33m\u001b[0m\u001b[0m\n",
      "\u001b[1;32mc:\\Users\\fadop\\anaconda3\\envs\\topicAnalyzer\\lib\\site-packages\\pandas\\core\\groupby\\ops.py\u001b[0m in \u001b[0;36m?\u001b[1;34m(self, f, data, axis)\u001b[0m\n\u001b[0;32m    763\u001b[0m             \u001b[0mobject\u001b[0m\u001b[1;33m.\u001b[0m\u001b[0m__setattr__\u001b[0m\u001b[1;33m(\u001b[0m\u001b[0mgroup\u001b[0m\u001b[1;33m,\u001b[0m \u001b[1;34m\"name\"\u001b[0m\u001b[1;33m,\u001b[0m \u001b[0mkey\u001b[0m\u001b[1;33m)\u001b[0m\u001b[1;33m\u001b[0m\u001b[1;33m\u001b[0m\u001b[0m\n\u001b[0;32m    764\u001b[0m \u001b[1;33m\u001b[0m\u001b[0m\n\u001b[0;32m    765\u001b[0m             \u001b[1;31m# group might be modified\u001b[0m\u001b[1;33m\u001b[0m\u001b[1;33m\u001b[0m\u001b[0m\n\u001b[0;32m    766\u001b[0m             \u001b[0mgroup_axes\u001b[0m \u001b[1;33m=\u001b[0m \u001b[0mgroup\u001b[0m\u001b[1;33m.\u001b[0m\u001b[0maxes\u001b[0m\u001b[1;33m\u001b[0m\u001b[1;33m\u001b[0m\u001b[0m\n\u001b[1;32m--> 767\u001b[1;33m             \u001b[0mres\u001b[0m \u001b[1;33m=\u001b[0m \u001b[0mf\u001b[0m\u001b[1;33m(\u001b[0m\u001b[0mgroup\u001b[0m\u001b[1;33m)\u001b[0m\u001b[1;33m\u001b[0m\u001b[1;33m\u001b[0m\u001b[0m\n\u001b[0m\u001b[0;32m    768\u001b[0m             \u001b[1;32mif\u001b[0m \u001b[1;32mnot\u001b[0m \u001b[0mmutated\u001b[0m \u001b[1;32mand\u001b[0m \u001b[1;32mnot\u001b[0m \u001b[0m_is_indexed_like\u001b[0m\u001b[1;33m(\u001b[0m\u001b[0mres\u001b[0m\u001b[1;33m,\u001b[0m \u001b[0mgroup_axes\u001b[0m\u001b[1;33m,\u001b[0m \u001b[0maxis\u001b[0m\u001b[1;33m)\u001b[0m\u001b[1;33m:\u001b[0m\u001b[1;33m\u001b[0m\u001b[1;33m\u001b[0m\u001b[0m\n\u001b[0;32m    769\u001b[0m                 \u001b[0mmutated\u001b[0m \u001b[1;33m=\u001b[0m \u001b[1;32mTrue\u001b[0m\u001b[1;33m\u001b[0m\u001b[1;33m\u001b[0m\u001b[0m\n\u001b[0;32m    770\u001b[0m             \u001b[0mresult_values\u001b[0m\u001b[1;33m.\u001b[0m\u001b[0mappend\u001b[0m\u001b[1;33m(\u001b[0m\u001b[0mres\u001b[0m\u001b[1;33m)\u001b[0m\u001b[1;33m\u001b[0m\u001b[1;33m\u001b[0m\u001b[0m\n",
      "\u001b[1;32m~\\AppData\\Local\\Temp\\ipykernel_18368\\1389781380.py\u001b[0m in \u001b[0;36m?\u001b[1;34m(x, max_anoms, direction, alpha, only_last, threshold, e_value, longterm, piecewise_median_period_weeks, plot, y_log, xlabel, ylabel, title, verbose, dropna, resampling, period_override)\u001b[0m\n\u001b[0;32m    301\u001b[0m     \u001b[0mseasonal_plus_trend\u001b[0m \u001b[1;33m=\u001b[0m \u001b[0mpd\u001b[0m\u001b[1;33m.\u001b[0m\u001b[0mSeries\u001b[0m\u001b[1;33m(\u001b[0m\u001b[1;33m)\u001b[0m\u001b[1;33m\u001b[0m\u001b[1;33m\u001b[0m\u001b[0m\n\u001b[0;32m    302\u001b[0m \u001b[1;33m\u001b[0m\u001b[0m\n\u001b[0;32m    303\u001b[0m     \u001b[1;31m# Detect anomalies on all data (either entire data in one-pass, or in 2 week blocks if longterm=True)\u001b[0m\u001b[1;33m\u001b[0m\u001b[1;33m\u001b[0m\u001b[0m\n\u001b[0;32m    304\u001b[0m     \u001b[1;32mfor\u001b[0m \u001b[0mseries\u001b[0m \u001b[1;32min\u001b[0m \u001b[0mall_data\u001b[0m\u001b[1;33m:\u001b[0m\u001b[1;33m\u001b[0m\u001b[1;33m\u001b[0m\u001b[0m\n\u001b[1;32m--> 305\u001b[1;33m         shesd = _detect_anoms(series, k=max_anoms, alpha=alpha, num_obs_per_period=period, use_decomp=True,\n\u001b[0m\u001b[0;32m    306\u001b[0m                               use_esd=False, direction=direction, verbose=verbose)\n\u001b[0;32m    307\u001b[0m         \u001b[0mshesd_anoms\u001b[0m \u001b[1;33m=\u001b[0m \u001b[0mshesd\u001b[0m\u001b[1;33m[\u001b[0m\u001b[1;34m'anoms'\u001b[0m\u001b[1;33m]\u001b[0m\u001b[1;33m\u001b[0m\u001b[1;33m\u001b[0m\u001b[0m\n\u001b[0;32m    308\u001b[0m         \u001b[0mshesd_stl\u001b[0m \u001b[1;33m=\u001b[0m \u001b[0mshesd\u001b[0m\u001b[1;33m[\u001b[0m\u001b[1;34m'stl'\u001b[0m\u001b[1;33m]\u001b[0m\u001b[1;33m\u001b[0m\u001b[1;33m\u001b[0m\u001b[0m\n",
      "\u001b[1;32m~\\AppData\\Local\\Temp\\ipykernel_18368\\1389781380.py\u001b[0m in \u001b[0;36m?\u001b[1;34m(data, k, alpha, num_obs_per_period, use_decomp, use_esd, direction, verbose)\u001b[0m\n\u001b[0;32m    401\u001b[0m     \u001b[1;32mfor\u001b[0m \u001b[0mi\u001b[0m \u001b[1;32min\u001b[0m \u001b[0mrange\u001b[0m\u001b[1;33m(\u001b[0m\u001b[1;36m1\u001b[0m\u001b[1;33m,\u001b[0m \u001b[0mmax_outliers\u001b[0m \u001b[1;33m+\u001b[0m \u001b[1;36m1\u001b[0m\u001b[1;33m)\u001b[0m\u001b[1;33m:\u001b[0m\u001b[1;33m\u001b[0m\u001b[1;33m\u001b[0m\u001b[0m\n\u001b[0;32m    402\u001b[0m         \u001b[1;32mif\u001b[0m \u001b[0mverbose\u001b[0m\u001b[1;33m:\u001b[0m\u001b[1;33m\u001b[0m\u001b[1;33m\u001b[0m\u001b[0m\n\u001b[0;32m    403\u001b[0m             \u001b[0mlogger\u001b[0m\u001b[1;33m.\u001b[0m\u001b[0minfo\u001b[0m\u001b[1;33m(\u001b[0m\u001b[0mi\u001b[0m\u001b[1;33m,\u001b[0m \u001b[1;34m'/'\u001b[0m\u001b[1;33m,\u001b[0m \u001b[0mmax_outliers\u001b[0m\u001b[1;33m,\u001b[0m \u001b[1;34m' completed'\u001b[0m\u001b[1;33m)\u001b[0m\u001b[1;33m\u001b[0m\u001b[1;33m\u001b[0m\u001b[0m\n\u001b[0;32m    404\u001b[0m \u001b[1;33m\u001b[0m\u001b[0m\n\u001b[1;32m--> 405\u001b[1;33m         \u001b[1;32mif\u001b[0m \u001b[1;32mnot\u001b[0m \u001b[0mdata\u001b[0m\u001b[1;33m.\u001b[0m\u001b[0mmad\u001b[0m\u001b[1;33m(\u001b[0m\u001b[1;33m)\u001b[0m\u001b[1;33m:\u001b[0m\u001b[1;33m\u001b[0m\u001b[1;33m\u001b[0m\u001b[0m\n\u001b[0m\u001b[0;32m    406\u001b[0m             \u001b[1;32mbreak\u001b[0m\u001b[1;33m\u001b[0m\u001b[1;33m\u001b[0m\u001b[0m\n\u001b[0;32m    407\u001b[0m \u001b[1;33m\u001b[0m\u001b[0m\n\u001b[0;32m    408\u001b[0m         \u001b[1;32mif\u001b[0m \u001b[1;32mnot\u001b[0m \u001b[0mone_tail\u001b[0m\u001b[1;33m:\u001b[0m\u001b[1;33m\u001b[0m\u001b[1;33m\u001b[0m\u001b[0m\n",
      "\u001b[1;32mc:\\Users\\fadop\\anaconda3\\envs\\topicAnalyzer\\lib\\site-packages\\pandas\\core\\generic.py\u001b[0m in \u001b[0;36m?\u001b[1;34m(self, name)\u001b[0m\n\u001b[0;32m   5985\u001b[0m             \u001b[1;32mand\u001b[0m \u001b[0mname\u001b[0m \u001b[1;32mnot\u001b[0m \u001b[1;32min\u001b[0m \u001b[0mself\u001b[0m\u001b[1;33m.\u001b[0m\u001b[0m_accessors\u001b[0m\u001b[1;33m\u001b[0m\u001b[1;33m\u001b[0m\u001b[0m\n\u001b[0;32m   5986\u001b[0m             \u001b[1;32mand\u001b[0m \u001b[0mself\u001b[0m\u001b[1;33m.\u001b[0m\u001b[0m_info_axis\u001b[0m\u001b[1;33m.\u001b[0m\u001b[0m_can_hold_identifiers_and_holds_name\u001b[0m\u001b[1;33m(\u001b[0m\u001b[0mname\u001b[0m\u001b[1;33m)\u001b[0m\u001b[1;33m\u001b[0m\u001b[1;33m\u001b[0m\u001b[0m\n\u001b[0;32m   5987\u001b[0m         ):\n\u001b[0;32m   5988\u001b[0m             \u001b[1;32mreturn\u001b[0m \u001b[0mself\u001b[0m\u001b[1;33m[\u001b[0m\u001b[0mname\u001b[0m\u001b[1;33m]\u001b[0m\u001b[1;33m\u001b[0m\u001b[1;33m\u001b[0m\u001b[0m\n\u001b[1;32m-> 5989\u001b[1;33m         \u001b[1;32mreturn\u001b[0m \u001b[0mobject\u001b[0m\u001b[1;33m.\u001b[0m\u001b[0m__getattribute__\u001b[0m\u001b[1;33m(\u001b[0m\u001b[0mself\u001b[0m\u001b[1;33m,\u001b[0m \u001b[0mname\u001b[0m\u001b[1;33m)\u001b[0m\u001b[1;33m\u001b[0m\u001b[1;33m\u001b[0m\u001b[0m\n\u001b[0m",
      "\u001b[1;31mAttributeError\u001b[0m: 'Series' object has no attribute 'mad'"
     ]
    }
   ],
   "source": [
    "filled_df.groupby(GROUP)[\"DUPLICATES\"].apply(anomaly_detect_ts)"
   ]
  }
 ],
 "metadata": {
  "kernelspec": {
   "display_name": "topicAnalyzer",
   "language": "python",
   "name": "python3"
  },
  "language_info": {
   "codemirror_mode": {
    "name": "ipython",
    "version": 3
   },
   "file_extension": ".py",
   "mimetype": "text/x-python",
   "name": "python",
   "nbconvert_exporter": "python",
   "pygments_lexer": "ipython3",
   "version": "3.10.11"
  },
  "orig_nbformat": 4,
  "vscode": {
   "interpreter": {
    "hash": "d9926d43133e1556d3d69827be73be13335d61b7bb02d32c7261e4e57a80aa2d"
   }
  }
 },
 "nbformat": 4,
 "nbformat_minor": 2
}
