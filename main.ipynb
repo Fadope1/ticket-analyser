{
 "cells": [
  {
   "attachments": {},
   "cell_type": "markdown",
   "metadata": {},
   "source": [
    "# Analyse Support Tickets\n",
    "author: Fabian Peschke<br>\n",
    "created_at: 03.05.2023"
   ]
  },
  {
   "cell_type": "code",
   "execution_count": 1,
   "metadata": {},
   "outputs": [],
   "source": [
    "from typing import List, Tuple, Dict"
   ]
  },
  {
   "cell_type": "code",
   "execution_count": 2,
   "metadata": {},
   "outputs": [],
   "source": [
    "DATA_PATH: str = \"./data/bitext_free_dataset.csv\"\n",
    "\n",
    "TEXT_COL: str = \"utterance\"\n",
    "DATE_COL: str = \"created_at\""
   ]
  },
  {
   "attachments": {},
   "cell_type": "markdown",
   "metadata": {},
   "source": [
    "## Step 1: Download the data\n",
    "https://www.bitext.com/blog/free-customer-support-dataset/"
   ]
  },
  {
   "attachments": {},
   "cell_type": "markdown",
   "metadata": {},
   "source": [
    "## Step 2: Data ingestion"
   ]
  },
  {
   "cell_type": "code",
   "execution_count": 3,
   "metadata": {},
   "outputs": [],
   "source": [
    "import pandas as pd\n",
    "from pandas import DataFrame"
   ]
  },
  {
   "cell_type": "code",
   "execution_count": 4,
   "metadata": {},
   "outputs": [],
   "source": [
    "raw_df: DataFrame = pd.read_csv(DATA_PATH)"
   ]
  },
  {
   "attachments": {},
   "cell_type": "markdown",
   "metadata": {},
   "source": [
    "Delete useless column"
   ]
  },
  {
   "cell_type": "code",
   "execution_count": 5,
   "metadata": {},
   "outputs": [],
   "source": [
    "del raw_df[\"flags\"]"
   ]
  },
  {
   "attachments": {},
   "cell_type": "markdown",
   "metadata": {},
   "source": [
    "shuffle dataset"
   ]
  },
  {
   "cell_type": "code",
   "execution_count": 6,
   "metadata": {},
   "outputs": [],
   "source": [
    "raw_df = raw_df.sample(frac=1).reset_index(drop=True)"
   ]
  },
  {
   "attachments": {},
   "cell_type": "markdown",
   "metadata": {},
   "source": [
    "## Step 2.1: Add random dates"
   ]
  },
  {
   "cell_type": "code",
   "execution_count": 7,
   "metadata": {},
   "outputs": [],
   "source": [
    "from datetime import datetime\n",
    "from datetime import timedelta\n",
    "import random"
   ]
  },
  {
   "cell_type": "code",
   "execution_count": 8,
   "metadata": {},
   "outputs": [],
   "source": [
    "def generate_random_date(start_date: datetime, end_date: datetime, step: timedelta) -> datetime:\n",
    "    \"\"\"Generate a random date between start_date and end_date\"\"\"\n",
    "    delta: timedelta = end_date - start_date\n",
    "    offset: timedelta = timedelta(days=random.randint(0, delta.days))\n",
    "    new_date: datetime = start_date + offset\n",
    "    for _ in range(random.randint(0, int(timedelta(hours=24) / step))):\n",
    "        new_date += step\n",
    "    return new_date"
   ]
  },
  {
   "cell_type": "code",
   "execution_count": 9,
   "metadata": {},
   "outputs": [],
   "source": [
    "start = datetime(year=2020, month=1, day=1)\n",
    "end = datetime(year=2020, month=3, day=31)\n",
    "step = timedelta(minutes=15) # every 15 minutes"
   ]
  },
  {
   "cell_type": "code",
   "execution_count": 10,
   "metadata": {},
   "outputs": [],
   "source": [
    "raw_df[DATE_COL] = raw_df[TEXT_COL].apply(lambda x: generate_random_date(start, end, step))"
   ]
  },
  {
   "attachments": {},
   "cell_type": "markdown",
   "metadata": {},
   "source": [
    "## Step 3: Preprocess data"
   ]
  },
  {
   "cell_type": "code",
   "execution_count": 11,
   "metadata": {},
   "outputs": [],
   "source": [
    "import nltk\n",
    "from nltk import word_tokenize, pos_tag\n",
    "from nltk.stem import WordNetLemmatizer\n",
    "from nltk.corpus import wordnet\n",
    "import contractions"
   ]
  },
  {
   "cell_type": "code",
   "execution_count": 12,
   "metadata": {},
   "outputs": [
    {
     "name": "stderr",
     "output_type": "stream",
     "text": [
      "[nltk_data] Downloading package wordnet to\n",
      "[nltk_data]     C:\\Users\\fadop\\AppData\\Roaming\\nltk_data...\n",
      "[nltk_data]   Package wordnet is already up-to-date!\n",
      "[nltk_data] Downloading package averaged_perceptron_tagger to\n",
      "[nltk_data]     C:\\Users\\fadop\\AppData\\Roaming\\nltk_data...\n",
      "[nltk_data]   Package averaged_perceptron_tagger is already up-to-\n",
      "[nltk_data]       date!\n"
     ]
    },
    {
     "data": {
      "text/plain": [
       "True"
      ]
     },
     "execution_count": 12,
     "metadata": {},
     "output_type": "execute_result"
    }
   ],
   "source": [
    "nltk.download(\"wordnet\")\n",
    "nltk.download(\"averaged_perceptron_tagger\")"
   ]
  },
  {
   "attachments": {},
   "cell_type": "markdown",
   "metadata": {},
   "source": [
    "Define usefull cleaning functions"
   ]
  },
  {
   "cell_type": "code",
   "execution_count": 13,
   "metadata": {},
   "outputs": [],
   "source": [
    "lemmatizer = WordNetLemmatizer()\n",
    "TAGS: Dict[str, str] = {\n",
    "    \"N\": wordnet.NOUN,\n",
    "    \"V\": wordnet.VERB,\n",
    "    \"J\": wordnet.ADJ,\n",
    "    \"R\": wordnet.ADV,\n",
    "}\n",
    "\n",
    "\n",
    "def unicode(sentence: str) -> str:\n",
    "    \"\"\"Apply casefold on str\"\"\"\n",
    "    return sentence.casefold()\n",
    "\n",
    "\n",
    "def tag_words(words: List[str]) -> List[Tuple[str, str]]:\n",
    "    \"\"\"Tag word type\"\"\"\n",
    "    tagged_words: List[Tuple[str, str]] = pos_tag(words)\n",
    "    return list(map(lambda word: (word[0], TAGS.get(word[1][0], wordnet.NOUN)), tagged_words))\n",
    "\n",
    "\n",
    "def lemmatize(words: List[str]) -> List[str]:\n",
    "    \"\"\"Lemmatize all words sentence\"\"\"\n",
    "    word_tags = tag_words(words)\n",
    "    return [lemmatizer.lemmatize(word, pos=tag) for word, tag in word_tags]"
   ]
  },
  {
   "cell_type": "code",
   "execution_count": 14,
   "metadata": {},
   "outputs": [],
   "source": [
    "decoded_df = lemmatized_df = const_fixed_df = raw_df\n",
    "decoded_df[TEXT_COL] = raw_df[TEXT_COL].apply(unicode) # casefold + lowercase\n",
    "const_fixed_df[TEXT_COL] = decoded_df[TEXT_COL].apply(contractions.fix) # casefold + lowercase\n",
    "lemmatized_df[TEXT_COL] = decoded_df[TEXT_COL].apply(lambda sentence: \" \".join(lemmatize(word_tokenize(sentence)))) # lemmatize"
   ]
  },
  {
   "cell_type": "code",
   "execution_count": 15,
   "metadata": {},
   "outputs": [],
   "source": [
    "cleaned_df = lemmatized_df"
   ]
  },
  {
   "cell_type": "code",
   "execution_count": 16,
   "metadata": {},
   "outputs": [],
   "source": [
    "cleaned_df.to_csv(\"preprocessed.csv\")"
   ]
  },
  {
   "attachments": {},
   "cell_type": "markdown",
   "metadata": {},
   "source": [
    "## Step 4: Find Topics in Data\n",
    "Find the topics using BERTopic and convert the topic names using OpenAI-GPT3"
   ]
  },
  {
   "cell_type": "code",
   "execution_count": 17,
   "metadata": {},
   "outputs": [
    {
     "name": "stderr",
     "output_type": "stream",
     "text": [
      "c:\\Users\\fadop\\anaconda3\\envs\\ticketAnalyser\\lib\\site-packages\\umap\\distances.py:1063: NumbaDeprecationWarning: \u001b[1mThe 'nopython' keyword argument was not supplied to the 'numba.jit' decorator. The implicit default value for this argument is currently False, but it will be changed to True in Numba 0.59.0. See https://numba.readthedocs.io/en/stable/reference/deprecation.html#deprecation-of-object-mode-fall-back-behaviour-when-using-jit for details.\u001b[0m\n",
      "  @numba.jit()\n",
      "c:\\Users\\fadop\\anaconda3\\envs\\ticketAnalyser\\lib\\site-packages\\umap\\distances.py:1071: NumbaDeprecationWarning: \u001b[1mThe 'nopython' keyword argument was not supplied to the 'numba.jit' decorator. The implicit default value for this argument is currently False, but it will be changed to True in Numba 0.59.0. See https://numba.readthedocs.io/en/stable/reference/deprecation.html#deprecation-of-object-mode-fall-back-behaviour-when-using-jit for details.\u001b[0m\n",
      "  @numba.jit()\n",
      "c:\\Users\\fadop\\anaconda3\\envs\\ticketAnalyser\\lib\\site-packages\\umap\\distances.py:1086: NumbaDeprecationWarning: \u001b[1mThe 'nopython' keyword argument was not supplied to the 'numba.jit' decorator. The implicit default value for this argument is currently False, but it will be changed to True in Numba 0.59.0. See https://numba.readthedocs.io/en/stable/reference/deprecation.html#deprecation-of-object-mode-fall-back-behaviour-when-using-jit for details.\u001b[0m\n",
      "  @numba.jit()\n",
      "c:\\Users\\fadop\\anaconda3\\envs\\ticketAnalyser\\lib\\site-packages\\tqdm\\auto.py:21: TqdmWarning: IProgress not found. Please update jupyter and ipywidgets. See https://ipywidgets.readthedocs.io/en/stable/user_install.html\n",
      "  from .autonotebook import tqdm as notebook_tqdm\n",
      "c:\\Users\\fadop\\anaconda3\\envs\\ticketAnalyser\\lib\\site-packages\\umap\\umap_.py:660: NumbaDeprecationWarning: \u001b[1mThe 'nopython' keyword argument was not supplied to the 'numba.jit' decorator. The implicit default value for this argument is currently False, but it will be changed to True in Numba 0.59.0. See https://numba.readthedocs.io/en/stable/reference/deprecation.html#deprecation-of-object-mode-fall-back-behaviour-when-using-jit for details.\u001b[0m\n",
      "  @numba.jit()\n"
     ]
    }
   ],
   "source": [
    "from bertopic import BERTopic"
   ]
  },
  {
   "cell_type": "code",
   "execution_count": 18,
   "metadata": {},
   "outputs": [],
   "source": [
    "topic_model = BERTopic(\n",
    "    nr_topics=\"auto\",\n",
    "    verbose=True\n",
    ")"
   ]
  },
  {
   "cell_type": "code",
   "execution_count": 19,
   "metadata": {},
   "outputs": [
    {
     "name": "stderr",
     "output_type": "stream",
     "text": [
      "Batches: 100%|██████████| 2/2 [00:00<00:00,  8.19it/s]\n",
      "2023-05-15 23:00:10,346 - BERTopic - Transformed documents to Embeddings\n",
      "2023-05-15 23:00:20,217 - BERTopic - Reduced dimensionality\n",
      "2023-05-15 23:00:20,225 - BERTopic - Clustered reduced embeddings\n",
      "2023-05-15 23:00:20,349 - BERTopic - Reduced number of topics from 2 to 2\n"
     ]
    }
   ],
   "source": [
    "topics, probs = topic_model.fit_transform(cleaned_df[TEXT_COL])"
   ]
  },
  {
   "cell_type": "code",
   "execution_count": 20,
   "metadata": {},
   "outputs": [],
   "source": [
    "topic_model.save(\"ticket_topic.model\")"
   ]
  },
  {
   "attachments": {},
   "cell_type": "markdown",
   "metadata": {},
   "source": [
    "Visulize model perfomance"
   ]
  },
  {
   "cell_type": "code",
   "execution_count": 21,
   "metadata": {},
   "outputs": [
    {
     "ename": "ValueError",
     "evalue": "Mime type rendering requires nbformat>=4.2.0 but it is not installed",
     "output_type": "error",
     "traceback": [
      "\u001b[1;31m---------------------------------------------------------------------------\u001b[0m",
      "\u001b[1;31mValueError\u001b[0m                                Traceback (most recent call last)",
      "File \u001b[1;32mc:\\Users\\fadop\\anaconda3\\envs\\ticketAnalyser\\lib\\site-packages\\IPython\\core\\formatters.py:921\u001b[0m, in \u001b[0;36mIPythonDisplayFormatter.__call__\u001b[1;34m(self, obj)\u001b[0m\n\u001b[0;32m    919\u001b[0m method \u001b[39m=\u001b[39m get_real_method(obj, \u001b[39mself\u001b[39m\u001b[39m.\u001b[39mprint_method)\n\u001b[0;32m    920\u001b[0m \u001b[39mif\u001b[39;00m method \u001b[39mis\u001b[39;00m \u001b[39mnot\u001b[39;00m \u001b[39mNone\u001b[39;00m:\n\u001b[1;32m--> 921\u001b[0m     method()\n\u001b[0;32m    922\u001b[0m     \u001b[39mreturn\u001b[39;00m \u001b[39mTrue\u001b[39;00m\n",
      "File \u001b[1;32mc:\\Users\\fadop\\anaconda3\\envs\\ticketAnalyser\\lib\\site-packages\\plotly\\basedatatypes.py:834\u001b[0m, in \u001b[0;36mBaseFigure._ipython_display_\u001b[1;34m(self)\u001b[0m\n\u001b[0;32m    831\u001b[0m \u001b[39mimport\u001b[39;00m \u001b[39mplotly\u001b[39;00m\u001b[39m.\u001b[39;00m\u001b[39mio\u001b[39;00m \u001b[39mas\u001b[39;00m \u001b[39mpio\u001b[39;00m\n\u001b[0;32m    833\u001b[0m \u001b[39mif\u001b[39;00m pio\u001b[39m.\u001b[39mrenderers\u001b[39m.\u001b[39mrender_on_display \u001b[39mand\u001b[39;00m pio\u001b[39m.\u001b[39mrenderers\u001b[39m.\u001b[39mdefault:\n\u001b[1;32m--> 834\u001b[0m     pio\u001b[39m.\u001b[39;49mshow(\u001b[39mself\u001b[39;49m)\n\u001b[0;32m    835\u001b[0m \u001b[39melse\u001b[39;00m:\n\u001b[0;32m    836\u001b[0m     \u001b[39mprint\u001b[39m(\u001b[39mrepr\u001b[39m(\u001b[39mself\u001b[39m))\n",
      "File \u001b[1;32mc:\\Users\\fadop\\anaconda3\\envs\\ticketAnalyser\\lib\\site-packages\\plotly\\io\\_renderers.py:396\u001b[0m, in \u001b[0;36mshow\u001b[1;34m(fig, renderer, validate, **kwargs)\u001b[0m\n\u001b[0;32m    391\u001b[0m         \u001b[39mraise\u001b[39;00m \u001b[39mValueError\u001b[39;00m(\n\u001b[0;32m    392\u001b[0m             \u001b[39m\"\u001b[39m\u001b[39mMime type rendering requires ipython but it is not installed\u001b[39m\u001b[39m\"\u001b[39m\n\u001b[0;32m    393\u001b[0m         )\n\u001b[0;32m    395\u001b[0m     \u001b[39mif\u001b[39;00m \u001b[39mnot\u001b[39;00m nbformat \u001b[39mor\u001b[39;00m Version(nbformat\u001b[39m.\u001b[39m__version__) \u001b[39m<\u001b[39m Version(\u001b[39m\"\u001b[39m\u001b[39m4.2.0\u001b[39m\u001b[39m\"\u001b[39m):\n\u001b[1;32m--> 396\u001b[0m         \u001b[39mraise\u001b[39;00m \u001b[39mValueError\u001b[39;00m(\n\u001b[0;32m    397\u001b[0m             \u001b[39m\"\u001b[39m\u001b[39mMime type rendering requires nbformat>=4.2.0 but it is not installed\u001b[39m\u001b[39m\"\u001b[39m\n\u001b[0;32m    398\u001b[0m         )\n\u001b[0;32m    400\u001b[0m     ipython_display\u001b[39m.\u001b[39mdisplay(bundle, raw\u001b[39m=\u001b[39m\u001b[39mTrue\u001b[39;00m)\n\u001b[0;32m    402\u001b[0m \u001b[39m# external renderers\u001b[39;00m\n",
      "\u001b[1;31mValueError\u001b[0m: Mime type rendering requires nbformat>=4.2.0 but it is not installed"
     ]
    },
    {
     "data": {
      "application/vnd.plotly.v1+json": {
       "config": {
        "plotlyServerURL": "https://plot.ly"
       },
       "data": [
        {
         "marker": {
          "color": "#D55E00"
         },
         "orientation": "h",
         "type": "bar",
         "x": [
          0.16324275810008537,
          0.17008761022095029,
          0.18748951856519938,
          0.1937415780929133,
          0.21260951277618786
         ],
         "xaxis": "x",
         "y": [
          "an  ",
          "one  ",
          "have  ",
          "account  ",
          "do  "
         ],
         "yaxis": "y"
        },
        {
         "marker": {
          "color": "#0072B2"
         },
         "orientation": "h",
         "type": "bar",
         "x": [
          0.15491178641565403,
          0.19985348214702342,
          0.19985348214702342,
          0.2049249686835787,
          0.21009339732167254
         ],
         "xaxis": "x2",
         "y": [
          "address  ",
          "email  ",
          "with  ",
          "can  ",
          "if  "
         ],
         "yaxis": "y2"
        }
       ],
       "layout": {
        "annotations": [
         {
          "font": {
           "size": 16
          },
          "showarrow": false,
          "text": "Topic 0",
          "x": 0.0875,
          "xanchor": "center",
          "xref": "paper",
          "y": 1,
          "yanchor": "bottom",
          "yref": "paper"
         },
         {
          "font": {
           "size": 16
          },
          "showarrow": false,
          "text": "Topic 1",
          "x": 0.36250000000000004,
          "xanchor": "center",
          "xref": "paper",
          "y": 1,
          "yanchor": "bottom",
          "yref": "paper"
         }
        ],
        "height": 325,
        "hoverlabel": {
         "bgcolor": "white",
         "font": {
          "family": "Rockwell",
          "size": 16
         }
        },
        "showlegend": false,
        "template": {
         "data": {
          "bar": [
           {
            "error_x": {
             "color": "#2a3f5f"
            },
            "error_y": {
             "color": "#2a3f5f"
            },
            "marker": {
             "line": {
              "color": "white",
              "width": 0.5
             },
             "pattern": {
              "fillmode": "overlay",
              "size": 10,
              "solidity": 0.2
             }
            },
            "type": "bar"
           }
          ],
          "barpolar": [
           {
            "marker": {
             "line": {
              "color": "white",
              "width": 0.5
             },
             "pattern": {
              "fillmode": "overlay",
              "size": 10,
              "solidity": 0.2
             }
            },
            "type": "barpolar"
           }
          ],
          "carpet": [
           {
            "aaxis": {
             "endlinecolor": "#2a3f5f",
             "gridcolor": "#C8D4E3",
             "linecolor": "#C8D4E3",
             "minorgridcolor": "#C8D4E3",
             "startlinecolor": "#2a3f5f"
            },
            "baxis": {
             "endlinecolor": "#2a3f5f",
             "gridcolor": "#C8D4E3",
             "linecolor": "#C8D4E3",
             "minorgridcolor": "#C8D4E3",
             "startlinecolor": "#2a3f5f"
            },
            "type": "carpet"
           }
          ],
          "choropleth": [
           {
            "colorbar": {
             "outlinewidth": 0,
             "ticks": ""
            },
            "type": "choropleth"
           }
          ],
          "contour": [
           {
            "colorbar": {
             "outlinewidth": 0,
             "ticks": ""
            },
            "colorscale": [
             [
              0,
              "#0d0887"
             ],
             [
              0.1111111111111111,
              "#46039f"
             ],
             [
              0.2222222222222222,
              "#7201a8"
             ],
             [
              0.3333333333333333,
              "#9c179e"
             ],
             [
              0.4444444444444444,
              "#bd3786"
             ],
             [
              0.5555555555555556,
              "#d8576b"
             ],
             [
              0.6666666666666666,
              "#ed7953"
             ],
             [
              0.7777777777777778,
              "#fb9f3a"
             ],
             [
              0.8888888888888888,
              "#fdca26"
             ],
             [
              1,
              "#f0f921"
             ]
            ],
            "type": "contour"
           }
          ],
          "contourcarpet": [
           {
            "colorbar": {
             "outlinewidth": 0,
             "ticks": ""
            },
            "type": "contourcarpet"
           }
          ],
          "heatmap": [
           {
            "colorbar": {
             "outlinewidth": 0,
             "ticks": ""
            },
            "colorscale": [
             [
              0,
              "#0d0887"
             ],
             [
              0.1111111111111111,
              "#46039f"
             ],
             [
              0.2222222222222222,
              "#7201a8"
             ],
             [
              0.3333333333333333,
              "#9c179e"
             ],
             [
              0.4444444444444444,
              "#bd3786"
             ],
             [
              0.5555555555555556,
              "#d8576b"
             ],
             [
              0.6666666666666666,
              "#ed7953"
             ],
             [
              0.7777777777777778,
              "#fb9f3a"
             ],
             [
              0.8888888888888888,
              "#fdca26"
             ],
             [
              1,
              "#f0f921"
             ]
            ],
            "type": "heatmap"
           }
          ],
          "heatmapgl": [
           {
            "colorbar": {
             "outlinewidth": 0,
             "ticks": ""
            },
            "colorscale": [
             [
              0,
              "#0d0887"
             ],
             [
              0.1111111111111111,
              "#46039f"
             ],
             [
              0.2222222222222222,
              "#7201a8"
             ],
             [
              0.3333333333333333,
              "#9c179e"
             ],
             [
              0.4444444444444444,
              "#bd3786"
             ],
             [
              0.5555555555555556,
              "#d8576b"
             ],
             [
              0.6666666666666666,
              "#ed7953"
             ],
             [
              0.7777777777777778,
              "#fb9f3a"
             ],
             [
              0.8888888888888888,
              "#fdca26"
             ],
             [
              1,
              "#f0f921"
             ]
            ],
            "type": "heatmapgl"
           }
          ],
          "histogram": [
           {
            "marker": {
             "pattern": {
              "fillmode": "overlay",
              "size": 10,
              "solidity": 0.2
             }
            },
            "type": "histogram"
           }
          ],
          "histogram2d": [
           {
            "colorbar": {
             "outlinewidth": 0,
             "ticks": ""
            },
            "colorscale": [
             [
              0,
              "#0d0887"
             ],
             [
              0.1111111111111111,
              "#46039f"
             ],
             [
              0.2222222222222222,
              "#7201a8"
             ],
             [
              0.3333333333333333,
              "#9c179e"
             ],
             [
              0.4444444444444444,
              "#bd3786"
             ],
             [
              0.5555555555555556,
              "#d8576b"
             ],
             [
              0.6666666666666666,
              "#ed7953"
             ],
             [
              0.7777777777777778,
              "#fb9f3a"
             ],
             [
              0.8888888888888888,
              "#fdca26"
             ],
             [
              1,
              "#f0f921"
             ]
            ],
            "type": "histogram2d"
           }
          ],
          "histogram2dcontour": [
           {
            "colorbar": {
             "outlinewidth": 0,
             "ticks": ""
            },
            "colorscale": [
             [
              0,
              "#0d0887"
             ],
             [
              0.1111111111111111,
              "#46039f"
             ],
             [
              0.2222222222222222,
              "#7201a8"
             ],
             [
              0.3333333333333333,
              "#9c179e"
             ],
             [
              0.4444444444444444,
              "#bd3786"
             ],
             [
              0.5555555555555556,
              "#d8576b"
             ],
             [
              0.6666666666666666,
              "#ed7953"
             ],
             [
              0.7777777777777778,
              "#fb9f3a"
             ],
             [
              0.8888888888888888,
              "#fdca26"
             ],
             [
              1,
              "#f0f921"
             ]
            ],
            "type": "histogram2dcontour"
           }
          ],
          "mesh3d": [
           {
            "colorbar": {
             "outlinewidth": 0,
             "ticks": ""
            },
            "type": "mesh3d"
           }
          ],
          "parcoords": [
           {
            "line": {
             "colorbar": {
              "outlinewidth": 0,
              "ticks": ""
             }
            },
            "type": "parcoords"
           }
          ],
          "pie": [
           {
            "automargin": true,
            "type": "pie"
           }
          ],
          "scatter": [
           {
            "fillpattern": {
             "fillmode": "overlay",
             "size": 10,
             "solidity": 0.2
            },
            "type": "scatter"
           }
          ],
          "scatter3d": [
           {
            "line": {
             "colorbar": {
              "outlinewidth": 0,
              "ticks": ""
             }
            },
            "marker": {
             "colorbar": {
              "outlinewidth": 0,
              "ticks": ""
             }
            },
            "type": "scatter3d"
           }
          ],
          "scattercarpet": [
           {
            "marker": {
             "colorbar": {
              "outlinewidth": 0,
              "ticks": ""
             }
            },
            "type": "scattercarpet"
           }
          ],
          "scattergeo": [
           {
            "marker": {
             "colorbar": {
              "outlinewidth": 0,
              "ticks": ""
             }
            },
            "type": "scattergeo"
           }
          ],
          "scattergl": [
           {
            "marker": {
             "colorbar": {
              "outlinewidth": 0,
              "ticks": ""
             }
            },
            "type": "scattergl"
           }
          ],
          "scattermapbox": [
           {
            "marker": {
             "colorbar": {
              "outlinewidth": 0,
              "ticks": ""
             }
            },
            "type": "scattermapbox"
           }
          ],
          "scatterpolar": [
           {
            "marker": {
             "colorbar": {
              "outlinewidth": 0,
              "ticks": ""
             }
            },
            "type": "scatterpolar"
           }
          ],
          "scatterpolargl": [
           {
            "marker": {
             "colorbar": {
              "outlinewidth": 0,
              "ticks": ""
             }
            },
            "type": "scatterpolargl"
           }
          ],
          "scatterternary": [
           {
            "marker": {
             "colorbar": {
              "outlinewidth": 0,
              "ticks": ""
             }
            },
            "type": "scatterternary"
           }
          ],
          "surface": [
           {
            "colorbar": {
             "outlinewidth": 0,
             "ticks": ""
            },
            "colorscale": [
             [
              0,
              "#0d0887"
             ],
             [
              0.1111111111111111,
              "#46039f"
             ],
             [
              0.2222222222222222,
              "#7201a8"
             ],
             [
              0.3333333333333333,
              "#9c179e"
             ],
             [
              0.4444444444444444,
              "#bd3786"
             ],
             [
              0.5555555555555556,
              "#d8576b"
             ],
             [
              0.6666666666666666,
              "#ed7953"
             ],
             [
              0.7777777777777778,
              "#fb9f3a"
             ],
             [
              0.8888888888888888,
              "#fdca26"
             ],
             [
              1,
              "#f0f921"
             ]
            ],
            "type": "surface"
           }
          ],
          "table": [
           {
            "cells": {
             "fill": {
              "color": "#EBF0F8"
             },
             "line": {
              "color": "white"
             }
            },
            "header": {
             "fill": {
              "color": "#C8D4E3"
             },
             "line": {
              "color": "white"
             }
            },
            "type": "table"
           }
          ]
         },
         "layout": {
          "annotationdefaults": {
           "arrowcolor": "#2a3f5f",
           "arrowhead": 0,
           "arrowwidth": 1
          },
          "autotypenumbers": "strict",
          "coloraxis": {
           "colorbar": {
            "outlinewidth": 0,
            "ticks": ""
           }
          },
          "colorscale": {
           "diverging": [
            [
             0,
             "#8e0152"
            ],
            [
             0.1,
             "#c51b7d"
            ],
            [
             0.2,
             "#de77ae"
            ],
            [
             0.3,
             "#f1b6da"
            ],
            [
             0.4,
             "#fde0ef"
            ],
            [
             0.5,
             "#f7f7f7"
            ],
            [
             0.6,
             "#e6f5d0"
            ],
            [
             0.7,
             "#b8e186"
            ],
            [
             0.8,
             "#7fbc41"
            ],
            [
             0.9,
             "#4d9221"
            ],
            [
             1,
             "#276419"
            ]
           ],
           "sequential": [
            [
             0,
             "#0d0887"
            ],
            [
             0.1111111111111111,
             "#46039f"
            ],
            [
             0.2222222222222222,
             "#7201a8"
            ],
            [
             0.3333333333333333,
             "#9c179e"
            ],
            [
             0.4444444444444444,
             "#bd3786"
            ],
            [
             0.5555555555555556,
             "#d8576b"
            ],
            [
             0.6666666666666666,
             "#ed7953"
            ],
            [
             0.7777777777777778,
             "#fb9f3a"
            ],
            [
             0.8888888888888888,
             "#fdca26"
            ],
            [
             1,
             "#f0f921"
            ]
           ],
           "sequentialminus": [
            [
             0,
             "#0d0887"
            ],
            [
             0.1111111111111111,
             "#46039f"
            ],
            [
             0.2222222222222222,
             "#7201a8"
            ],
            [
             0.3333333333333333,
             "#9c179e"
            ],
            [
             0.4444444444444444,
             "#bd3786"
            ],
            [
             0.5555555555555556,
             "#d8576b"
            ],
            [
             0.6666666666666666,
             "#ed7953"
            ],
            [
             0.7777777777777778,
             "#fb9f3a"
            ],
            [
             0.8888888888888888,
             "#fdca26"
            ],
            [
             1,
             "#f0f921"
            ]
           ]
          },
          "colorway": [
           "#636efa",
           "#EF553B",
           "#00cc96",
           "#ab63fa",
           "#FFA15A",
           "#19d3f3",
           "#FF6692",
           "#B6E880",
           "#FF97FF",
           "#FECB52"
          ],
          "font": {
           "color": "#2a3f5f"
          },
          "geo": {
           "bgcolor": "white",
           "lakecolor": "white",
           "landcolor": "white",
           "showlakes": true,
           "showland": true,
           "subunitcolor": "#C8D4E3"
          },
          "hoverlabel": {
           "align": "left"
          },
          "hovermode": "closest",
          "mapbox": {
           "style": "light"
          },
          "paper_bgcolor": "white",
          "plot_bgcolor": "white",
          "polar": {
           "angularaxis": {
            "gridcolor": "#EBF0F8",
            "linecolor": "#EBF0F8",
            "ticks": ""
           },
           "bgcolor": "white",
           "radialaxis": {
            "gridcolor": "#EBF0F8",
            "linecolor": "#EBF0F8",
            "ticks": ""
           }
          },
          "scene": {
           "xaxis": {
            "backgroundcolor": "white",
            "gridcolor": "#DFE8F3",
            "gridwidth": 2,
            "linecolor": "#EBF0F8",
            "showbackground": true,
            "ticks": "",
            "zerolinecolor": "#EBF0F8"
           },
           "yaxis": {
            "backgroundcolor": "white",
            "gridcolor": "#DFE8F3",
            "gridwidth": 2,
            "linecolor": "#EBF0F8",
            "showbackground": true,
            "ticks": "",
            "zerolinecolor": "#EBF0F8"
           },
           "zaxis": {
            "backgroundcolor": "white",
            "gridcolor": "#DFE8F3",
            "gridwidth": 2,
            "linecolor": "#EBF0F8",
            "showbackground": true,
            "ticks": "",
            "zerolinecolor": "#EBF0F8"
           }
          },
          "shapedefaults": {
           "line": {
            "color": "#2a3f5f"
           }
          },
          "ternary": {
           "aaxis": {
            "gridcolor": "#DFE8F3",
            "linecolor": "#A2B1C6",
            "ticks": ""
           },
           "baxis": {
            "gridcolor": "#DFE8F3",
            "linecolor": "#A2B1C6",
            "ticks": ""
           },
           "bgcolor": "white",
           "caxis": {
            "gridcolor": "#DFE8F3",
            "linecolor": "#A2B1C6",
            "ticks": ""
           }
          },
          "title": {
           "x": 0.05
          },
          "xaxis": {
           "automargin": true,
           "gridcolor": "#EBF0F8",
           "linecolor": "#EBF0F8",
           "ticks": "",
           "title": {
            "standoff": 15
           },
           "zerolinecolor": "#EBF0F8",
           "zerolinewidth": 2
          },
          "yaxis": {
           "automargin": true,
           "gridcolor": "#EBF0F8",
           "linecolor": "#EBF0F8",
           "ticks": "",
           "title": {
            "standoff": 15
           },
           "zerolinecolor": "#EBF0F8",
           "zerolinewidth": 2
          }
         }
        },
        "title": {
         "font": {
          "color": "Black",
          "size": 22
         },
         "text": "<b>Topic Word Scores",
         "x": 0.5,
         "xanchor": "center",
         "yanchor": "top"
        },
        "width": 1000,
        "xaxis": {
         "anchor": "y",
         "domain": [
          0,
          0.175
         ],
         "showgrid": true
        },
        "xaxis2": {
         "anchor": "y2",
         "domain": [
          0.275,
          0.45
         ],
         "showgrid": true
        },
        "xaxis3": {
         "anchor": "y3",
         "domain": [
          0.55,
          0.7250000000000001
         ],
         "showgrid": true
        },
        "xaxis4": {
         "anchor": "y4",
         "domain": [
          0.825,
          1
         ],
         "showgrid": true
        },
        "yaxis": {
         "anchor": "x",
         "domain": [
          0,
          1
         ],
         "showgrid": true
        },
        "yaxis2": {
         "anchor": "x2",
         "domain": [
          0,
          1
         ],
         "showgrid": true
        },
        "yaxis3": {
         "anchor": "x3",
         "domain": [
          0,
          1
         ],
         "showgrid": true
        },
        "yaxis4": {
         "anchor": "x4",
         "domain": [
          0,
          1
         ],
         "showgrid": true
        }
       }
      },
      "text/html": [
       "<div>                        <script type=\"text/javascript\">window.PlotlyConfig = {MathJaxConfig: 'local'};</script>\n",
       "        <script charset=\"utf-8\" src=\"https://cdn.plot.ly/plotly-2.20.0.min.js\"></script>                <div id=\"01c84442-0325-455a-8a87-857767cb9c9d\" class=\"plotly-graph-div\" style=\"height:325.0px; width:1000px;\"></div>            <script type=\"text/javascript\">                                    window.PLOTLYENV=window.PLOTLYENV || {};                                    if (document.getElementById(\"01c84442-0325-455a-8a87-857767cb9c9d\")) {                    Plotly.newPlot(                        \"01c84442-0325-455a-8a87-857767cb9c9d\",                        [{\"marker\":{\"color\":\"#D55E00\"},\"orientation\":\"h\",\"x\":[0.16324275810008537,0.17008761022095029,0.18748951856519938,0.1937415780929133,0.21260951277618786],\"y\":[\"an  \",\"one  \",\"have  \",\"account  \",\"do  \"],\"type\":\"bar\",\"xaxis\":\"x\",\"yaxis\":\"y\"},{\"marker\":{\"color\":\"#0072B2\"},\"orientation\":\"h\",\"x\":[0.15491178641565403,0.19985348214702342,0.19985348214702342,0.2049249686835787,0.21009339732167254],\"y\":[\"address  \",\"email  \",\"with  \",\"can  \",\"if  \"],\"type\":\"bar\",\"xaxis\":\"x2\",\"yaxis\":\"y2\"}],                        {\"template\":{\"data\":{\"barpolar\":[{\"marker\":{\"line\":{\"color\":\"white\",\"width\":0.5},\"pattern\":{\"fillmode\":\"overlay\",\"size\":10,\"solidity\":0.2}},\"type\":\"barpolar\"}],\"bar\":[{\"error_x\":{\"color\":\"#2a3f5f\"},\"error_y\":{\"color\":\"#2a3f5f\"},\"marker\":{\"line\":{\"color\":\"white\",\"width\":0.5},\"pattern\":{\"fillmode\":\"overlay\",\"size\":10,\"solidity\":0.2}},\"type\":\"bar\"}],\"carpet\":[{\"aaxis\":{\"endlinecolor\":\"#2a3f5f\",\"gridcolor\":\"#C8D4E3\",\"linecolor\":\"#C8D4E3\",\"minorgridcolor\":\"#C8D4E3\",\"startlinecolor\":\"#2a3f5f\"},\"baxis\":{\"endlinecolor\":\"#2a3f5f\",\"gridcolor\":\"#C8D4E3\",\"linecolor\":\"#C8D4E3\",\"minorgridcolor\":\"#C8D4E3\",\"startlinecolor\":\"#2a3f5f\"},\"type\":\"carpet\"}],\"choropleth\":[{\"colorbar\":{\"outlinewidth\":0,\"ticks\":\"\"},\"type\":\"choropleth\"}],\"contourcarpet\":[{\"colorbar\":{\"outlinewidth\":0,\"ticks\":\"\"},\"type\":\"contourcarpet\"}],\"contour\":[{\"colorbar\":{\"outlinewidth\":0,\"ticks\":\"\"},\"colorscale\":[[0.0,\"#0d0887\"],[0.1111111111111111,\"#46039f\"],[0.2222222222222222,\"#7201a8\"],[0.3333333333333333,\"#9c179e\"],[0.4444444444444444,\"#bd3786\"],[0.5555555555555556,\"#d8576b\"],[0.6666666666666666,\"#ed7953\"],[0.7777777777777778,\"#fb9f3a\"],[0.8888888888888888,\"#fdca26\"],[1.0,\"#f0f921\"]],\"type\":\"contour\"}],\"heatmapgl\":[{\"colorbar\":{\"outlinewidth\":0,\"ticks\":\"\"},\"colorscale\":[[0.0,\"#0d0887\"],[0.1111111111111111,\"#46039f\"],[0.2222222222222222,\"#7201a8\"],[0.3333333333333333,\"#9c179e\"],[0.4444444444444444,\"#bd3786\"],[0.5555555555555556,\"#d8576b\"],[0.6666666666666666,\"#ed7953\"],[0.7777777777777778,\"#fb9f3a\"],[0.8888888888888888,\"#fdca26\"],[1.0,\"#f0f921\"]],\"type\":\"heatmapgl\"}],\"heatmap\":[{\"colorbar\":{\"outlinewidth\":0,\"ticks\":\"\"},\"colorscale\":[[0.0,\"#0d0887\"],[0.1111111111111111,\"#46039f\"],[0.2222222222222222,\"#7201a8\"],[0.3333333333333333,\"#9c179e\"],[0.4444444444444444,\"#bd3786\"],[0.5555555555555556,\"#d8576b\"],[0.6666666666666666,\"#ed7953\"],[0.7777777777777778,\"#fb9f3a\"],[0.8888888888888888,\"#fdca26\"],[1.0,\"#f0f921\"]],\"type\":\"heatmap\"}],\"histogram2dcontour\":[{\"colorbar\":{\"outlinewidth\":0,\"ticks\":\"\"},\"colorscale\":[[0.0,\"#0d0887\"],[0.1111111111111111,\"#46039f\"],[0.2222222222222222,\"#7201a8\"],[0.3333333333333333,\"#9c179e\"],[0.4444444444444444,\"#bd3786\"],[0.5555555555555556,\"#d8576b\"],[0.6666666666666666,\"#ed7953\"],[0.7777777777777778,\"#fb9f3a\"],[0.8888888888888888,\"#fdca26\"],[1.0,\"#f0f921\"]],\"type\":\"histogram2dcontour\"}],\"histogram2d\":[{\"colorbar\":{\"outlinewidth\":0,\"ticks\":\"\"},\"colorscale\":[[0.0,\"#0d0887\"],[0.1111111111111111,\"#46039f\"],[0.2222222222222222,\"#7201a8\"],[0.3333333333333333,\"#9c179e\"],[0.4444444444444444,\"#bd3786\"],[0.5555555555555556,\"#d8576b\"],[0.6666666666666666,\"#ed7953\"],[0.7777777777777778,\"#fb9f3a\"],[0.8888888888888888,\"#fdca26\"],[1.0,\"#f0f921\"]],\"type\":\"histogram2d\"}],\"histogram\":[{\"marker\":{\"pattern\":{\"fillmode\":\"overlay\",\"size\":10,\"solidity\":0.2}},\"type\":\"histogram\"}],\"mesh3d\":[{\"colorbar\":{\"outlinewidth\":0,\"ticks\":\"\"},\"type\":\"mesh3d\"}],\"parcoords\":[{\"line\":{\"colorbar\":{\"outlinewidth\":0,\"ticks\":\"\"}},\"type\":\"parcoords\"}],\"pie\":[{\"automargin\":true,\"type\":\"pie\"}],\"scatter3d\":[{\"line\":{\"colorbar\":{\"outlinewidth\":0,\"ticks\":\"\"}},\"marker\":{\"colorbar\":{\"outlinewidth\":0,\"ticks\":\"\"}},\"type\":\"scatter3d\"}],\"scattercarpet\":[{\"marker\":{\"colorbar\":{\"outlinewidth\":0,\"ticks\":\"\"}},\"type\":\"scattercarpet\"}],\"scattergeo\":[{\"marker\":{\"colorbar\":{\"outlinewidth\":0,\"ticks\":\"\"}},\"type\":\"scattergeo\"}],\"scattergl\":[{\"marker\":{\"colorbar\":{\"outlinewidth\":0,\"ticks\":\"\"}},\"type\":\"scattergl\"}],\"scattermapbox\":[{\"marker\":{\"colorbar\":{\"outlinewidth\":0,\"ticks\":\"\"}},\"type\":\"scattermapbox\"}],\"scatterpolargl\":[{\"marker\":{\"colorbar\":{\"outlinewidth\":0,\"ticks\":\"\"}},\"type\":\"scatterpolargl\"}],\"scatterpolar\":[{\"marker\":{\"colorbar\":{\"outlinewidth\":0,\"ticks\":\"\"}},\"type\":\"scatterpolar\"}],\"scatter\":[{\"fillpattern\":{\"fillmode\":\"overlay\",\"size\":10,\"solidity\":0.2},\"type\":\"scatter\"}],\"scatterternary\":[{\"marker\":{\"colorbar\":{\"outlinewidth\":0,\"ticks\":\"\"}},\"type\":\"scatterternary\"}],\"surface\":[{\"colorbar\":{\"outlinewidth\":0,\"ticks\":\"\"},\"colorscale\":[[0.0,\"#0d0887\"],[0.1111111111111111,\"#46039f\"],[0.2222222222222222,\"#7201a8\"],[0.3333333333333333,\"#9c179e\"],[0.4444444444444444,\"#bd3786\"],[0.5555555555555556,\"#d8576b\"],[0.6666666666666666,\"#ed7953\"],[0.7777777777777778,\"#fb9f3a\"],[0.8888888888888888,\"#fdca26\"],[1.0,\"#f0f921\"]],\"type\":\"surface\"}],\"table\":[{\"cells\":{\"fill\":{\"color\":\"#EBF0F8\"},\"line\":{\"color\":\"white\"}},\"header\":{\"fill\":{\"color\":\"#C8D4E3\"},\"line\":{\"color\":\"white\"}},\"type\":\"table\"}]},\"layout\":{\"annotationdefaults\":{\"arrowcolor\":\"#2a3f5f\",\"arrowhead\":0,\"arrowwidth\":1},\"autotypenumbers\":\"strict\",\"coloraxis\":{\"colorbar\":{\"outlinewidth\":0,\"ticks\":\"\"}},\"colorscale\":{\"diverging\":[[0,\"#8e0152\"],[0.1,\"#c51b7d\"],[0.2,\"#de77ae\"],[0.3,\"#f1b6da\"],[0.4,\"#fde0ef\"],[0.5,\"#f7f7f7\"],[0.6,\"#e6f5d0\"],[0.7,\"#b8e186\"],[0.8,\"#7fbc41\"],[0.9,\"#4d9221\"],[1,\"#276419\"]],\"sequential\":[[0.0,\"#0d0887\"],[0.1111111111111111,\"#46039f\"],[0.2222222222222222,\"#7201a8\"],[0.3333333333333333,\"#9c179e\"],[0.4444444444444444,\"#bd3786\"],[0.5555555555555556,\"#d8576b\"],[0.6666666666666666,\"#ed7953\"],[0.7777777777777778,\"#fb9f3a\"],[0.8888888888888888,\"#fdca26\"],[1.0,\"#f0f921\"]],\"sequentialminus\":[[0.0,\"#0d0887\"],[0.1111111111111111,\"#46039f\"],[0.2222222222222222,\"#7201a8\"],[0.3333333333333333,\"#9c179e\"],[0.4444444444444444,\"#bd3786\"],[0.5555555555555556,\"#d8576b\"],[0.6666666666666666,\"#ed7953\"],[0.7777777777777778,\"#fb9f3a\"],[0.8888888888888888,\"#fdca26\"],[1.0,\"#f0f921\"]]},\"colorway\":[\"#636efa\",\"#EF553B\",\"#00cc96\",\"#ab63fa\",\"#FFA15A\",\"#19d3f3\",\"#FF6692\",\"#B6E880\",\"#FF97FF\",\"#FECB52\"],\"font\":{\"color\":\"#2a3f5f\"},\"geo\":{\"bgcolor\":\"white\",\"lakecolor\":\"white\",\"landcolor\":\"white\",\"showlakes\":true,\"showland\":true,\"subunitcolor\":\"#C8D4E3\"},\"hoverlabel\":{\"align\":\"left\"},\"hovermode\":\"closest\",\"mapbox\":{\"style\":\"light\"},\"paper_bgcolor\":\"white\",\"plot_bgcolor\":\"white\",\"polar\":{\"angularaxis\":{\"gridcolor\":\"#EBF0F8\",\"linecolor\":\"#EBF0F8\",\"ticks\":\"\"},\"bgcolor\":\"white\",\"radialaxis\":{\"gridcolor\":\"#EBF0F8\",\"linecolor\":\"#EBF0F8\",\"ticks\":\"\"}},\"scene\":{\"xaxis\":{\"backgroundcolor\":\"white\",\"gridcolor\":\"#DFE8F3\",\"gridwidth\":2,\"linecolor\":\"#EBF0F8\",\"showbackground\":true,\"ticks\":\"\",\"zerolinecolor\":\"#EBF0F8\"},\"yaxis\":{\"backgroundcolor\":\"white\",\"gridcolor\":\"#DFE8F3\",\"gridwidth\":2,\"linecolor\":\"#EBF0F8\",\"showbackground\":true,\"ticks\":\"\",\"zerolinecolor\":\"#EBF0F8\"},\"zaxis\":{\"backgroundcolor\":\"white\",\"gridcolor\":\"#DFE8F3\",\"gridwidth\":2,\"linecolor\":\"#EBF0F8\",\"showbackground\":true,\"ticks\":\"\",\"zerolinecolor\":\"#EBF0F8\"}},\"shapedefaults\":{\"line\":{\"color\":\"#2a3f5f\"}},\"ternary\":{\"aaxis\":{\"gridcolor\":\"#DFE8F3\",\"linecolor\":\"#A2B1C6\",\"ticks\":\"\"},\"baxis\":{\"gridcolor\":\"#DFE8F3\",\"linecolor\":\"#A2B1C6\",\"ticks\":\"\"},\"bgcolor\":\"white\",\"caxis\":{\"gridcolor\":\"#DFE8F3\",\"linecolor\":\"#A2B1C6\",\"ticks\":\"\"}},\"title\":{\"x\":0.05},\"xaxis\":{\"automargin\":true,\"gridcolor\":\"#EBF0F8\",\"linecolor\":\"#EBF0F8\",\"ticks\":\"\",\"title\":{\"standoff\":15},\"zerolinecolor\":\"#EBF0F8\",\"zerolinewidth\":2},\"yaxis\":{\"automargin\":true,\"gridcolor\":\"#EBF0F8\",\"linecolor\":\"#EBF0F8\",\"ticks\":\"\",\"title\":{\"standoff\":15},\"zerolinecolor\":\"#EBF0F8\",\"zerolinewidth\":2}}},\"xaxis\":{\"anchor\":\"y\",\"domain\":[0.0,0.175],\"showgrid\":true},\"yaxis\":{\"anchor\":\"x\",\"domain\":[0.0,1.0],\"showgrid\":true},\"xaxis2\":{\"anchor\":\"y2\",\"domain\":[0.275,0.45],\"showgrid\":true},\"yaxis2\":{\"anchor\":\"x2\",\"domain\":[0.0,1.0],\"showgrid\":true},\"xaxis3\":{\"anchor\":\"y3\",\"domain\":[0.55,0.7250000000000001],\"showgrid\":true},\"yaxis3\":{\"anchor\":\"x3\",\"domain\":[0.0,1.0],\"showgrid\":true},\"xaxis4\":{\"anchor\":\"y4\",\"domain\":[0.825,1.0],\"showgrid\":true},\"yaxis4\":{\"anchor\":\"x4\",\"domain\":[0.0,1.0],\"showgrid\":true},\"annotations\":[{\"font\":{\"size\":16},\"showarrow\":false,\"text\":\"Topic 0\",\"x\":0.0875,\"xanchor\":\"center\",\"xref\":\"paper\",\"y\":1.0,\"yanchor\":\"bottom\",\"yref\":\"paper\"},{\"font\":{\"size\":16},\"showarrow\":false,\"text\":\"Topic 1\",\"x\":0.36250000000000004,\"xanchor\":\"center\",\"xref\":\"paper\",\"y\":1.0,\"yanchor\":\"bottom\",\"yref\":\"paper\"}],\"title\":{\"font\":{\"size\":22,\"color\":\"Black\"},\"text\":\"<b>Topic Word Scores\",\"x\":0.5,\"xanchor\":\"center\",\"yanchor\":\"top\"},\"hoverlabel\":{\"font\":{\"size\":16,\"family\":\"Rockwell\"},\"bgcolor\":\"white\"},\"showlegend\":false,\"width\":1000,\"height\":325.0},                        {\"responsive\": true}                    )                };                            </script>        </div>"
      ],
      "text/plain": [
       "Figure({\n",
       "    'data': [{'marker': {'color': '#D55E00'},\n",
       "              'orientation': 'h',\n",
       "              'type': 'bar',\n",
       "              'x': [0.16324275810008537, 0.17008761022095029, 0.18748951856519938,\n",
       "                    0.1937415780929133, 0.21260951277618786],\n",
       "              'xaxis': 'x',\n",
       "              'y': [an  , one  , have  , account  , do  ],\n",
       "              'yaxis': 'y'},\n",
       "             {'marker': {'color': '#0072B2'},\n",
       "              'orientation': 'h',\n",
       "              'type': 'bar',\n",
       "              'x': [0.15491178641565403, 0.19985348214702342, 0.19985348214702342,\n",
       "                    0.2049249686835787, 0.21009339732167254],\n",
       "              'xaxis': 'x2',\n",
       "              'y': [address  , email  , with  , can  , if  ],\n",
       "              'yaxis': 'y2'}],\n",
       "    'layout': {'annotations': [{'font': {'size': 16},\n",
       "                                'showarrow': False,\n",
       "                                'text': 'Topic 0',\n",
       "                                'x': 0.0875,\n",
       "                                'xanchor': 'center',\n",
       "                                'xref': 'paper',\n",
       "                                'y': 1.0,\n",
       "                                'yanchor': 'bottom',\n",
       "                                'yref': 'paper'},\n",
       "                               {'font': {'size': 16},\n",
       "                                'showarrow': False,\n",
       "                                'text': 'Topic 1',\n",
       "                                'x': 0.36250000000000004,\n",
       "                                'xanchor': 'center',\n",
       "                                'xref': 'paper',\n",
       "                                'y': 1.0,\n",
       "                                'yanchor': 'bottom',\n",
       "                                'yref': 'paper'}],\n",
       "               'height': 325.0,\n",
       "               'hoverlabel': {'bgcolor': 'white', 'font': {'family': 'Rockwell', 'size': 16}},\n",
       "               'showlegend': False,\n",
       "               'template': '...',\n",
       "               'title': {'font': {'color': 'Black', 'size': 22},\n",
       "                         'text': '<b>Topic Word Scores',\n",
       "                         'x': 0.5,\n",
       "                         'xanchor': 'center',\n",
       "                         'yanchor': 'top'},\n",
       "               'width': 1000,\n",
       "               'xaxis': {'anchor': 'y', 'domain': [0.0, 0.175], 'showgrid': True},\n",
       "               'xaxis2': {'anchor': 'y2', 'domain': [0.275, 0.45], 'showgrid': True},\n",
       "               'xaxis3': {'anchor': 'y3', 'domain': [0.55, 0.7250000000000001], 'showgrid': True},\n",
       "               'xaxis4': {'anchor': 'y4', 'domain': [0.825, 1.0], 'showgrid': True},\n",
       "               'yaxis': {'anchor': 'x', 'domain': [0.0, 1.0], 'showgrid': True},\n",
       "               'yaxis2': {'anchor': 'x2', 'domain': [0.0, 1.0], 'showgrid': True},\n",
       "               'yaxis3': {'anchor': 'x3', 'domain': [0.0, 1.0], 'showgrid': True},\n",
       "               'yaxis4': {'anchor': 'x4', 'domain': [0.0, 1.0], 'showgrid': True}}\n",
       "})"
      ]
     },
     "execution_count": 21,
     "metadata": {},
     "output_type": "execute_result"
    }
   ],
   "source": [
    "topic_model.visualize_barchart()"
   ]
  },
  {
   "cell_type": "code",
   "execution_count": null,
   "metadata": {},
   "outputs": [
    {
     "data": {
      "application/vnd.plotly.v1+json": {
       "config": {
        "plotlyServerURL": "https://plot.ly"
       },
       "data": [
        {
         "hovertext": "<b>Topic -1</b>:and_customer_inform_contact_talk_s",
         "line": {
          "color": "black",
          "width": 1.5
         },
         "mode": "lines+lines",
         "name": "",
         "opacity": 0.1,
         "type": "scatter",
         "x": [
          1,
          2,
          3,
          4,
          5,
          6,
          7,
          8,
          9,
          10
         ],
         "y": [
          0.007345064545071603,
          0.005898400133448602,
          0.005351273760145038,
          0.005221966327861727,
          0.0051382076287304,
          0.005109124809801377,
          0.0050226178361804435,
          0.004877742040724757,
          0.004768657472317276,
          0.004637045252225257
         ]
        },
        {
         "hovertext": "<b>Topic 0</b>:some_bill_invoice_obtain_request_ab",
         "line": {
          "color": "black",
          "width": 1.5
         },
         "mode": "lines+lines",
         "name": "",
         "opacity": 0.1,
         "type": "scatter",
         "x": [
          1,
          2,
          3,
          4,
          5,
          6,
          7,
          8,
          9,
          10
         ],
         "y": [
          0.04182944375857595,
          0.03743652738831763,
          0.02755632283255645,
          0.025190149497852574,
          0.024228795755116977,
          0.022739883568901754,
          0.01612356826082638,
          0.014522351789235572,
          0.012734327029680794,
          0.010382115114452058
         ]
        },
        {
         "hovertext": "<b>Topic 1</b>:report_issue_problem_inform_pay_for",
         "line": {
          "color": "black",
          "width": 1.5
         },
         "mode": "lines+lines",
         "name": "",
         "opacity": 0.1,
         "type": "scatter",
         "x": [
          1,
          2,
          3,
          4,
          5,
          6,
          7,
          8,
          9,
          10
         ],
         "y": [
          0.030674310842312626,
          0.020921944191477748,
          0.019019949264979772,
          0.017688656761921846,
          0.017012979008875294,
          0.012762632085218798,
          0.012479847414717402,
          0.011798969142060675,
          0.010762405496757848,
          0.010749518162258765
         ]
        },
        {
         "hovertext": "<b>Topic 2</b>:understand_human_person_speak_talk_",
         "line": {
          "color": "black",
          "width": 1.5
         },
         "mode": "lines+lines",
         "name": "",
         "opacity": 0.1,
         "type": "scatter",
         "x": [
          1,
          2,
          3,
          4,
          5,
          6,
          7,
          8,
          9,
          10
         ],
         "y": [
          0.05557212321044126,
          0.054055534298842495,
          0.040762601608998555,
          0.0382313146563242,
          0.03380634015293637,
          0.03215720579865938,
          0.030458552758884268,
          0.022075058845178186,
          0.016525698959760457,
          0.015919034633381648
         ]
        },
        {
         "hovertext": "<b>Topic 3</b>:charge_anyway_but_error_attempt_mes",
         "line": {
          "color": "black",
          "width": 1.5
         },
         "mode": "lines+lines",
         "name": "",
         "opacity": 0.1,
         "type": "scatter",
         "x": [
          1,
          2,
          3,
          4,
          5,
          6,
          7,
          8,
          9,
          10
         ],
         "y": [
          0.039480437925343496,
          0.03945912298003506,
          0.03934646407201606,
          0.029101231473621827,
          0.023987676876979842,
          0.023574154950484778,
          0.02030511196596355,
          0.01931733988468446,
          0.017952906330269316,
          0.014233728239829711
         ]
        },
        {
         "hovertext": "<b>Topic 4</b>:call_question_customer_support_clie",
         "line": {
          "color": "black",
          "width": 1.5
         },
         "mode": "lines+lines",
         "name": "",
         "opacity": 0.1,
         "type": "scatter",
         "x": [
          1,
          2,
          3,
          4,
          5,
          6,
          7,
          8,
          9,
          10
         ],
         "y": [
          0.07065494437484529,
          0.0557820578381672,
          0.04459998703982947,
          0.039073957559128424,
          0.034198114415596115,
          0.03283005274701437,
          0.03015711085377137,
          0.028752141559073116,
          0.026997696591132863,
          0.018750079864620357
         ]
        },
        {
         "hovertext": "<b>Topic 5</b>:mail_address_customer_support_clien",
         "line": {
          "color": "black",
          "width": 1.5
         },
         "mode": "lines+lines",
         "name": "",
         "opacity": 0.1,
         "type": "scatter",
         "x": [
          1,
          2,
          3,
          4,
          5,
          6,
          7,
          8,
          9,
          10
         ],
         "y": [
          0.06380003649550943,
          0.03663841506836898,
          0.030192840713367086,
          0.028587860040733153,
          0.02785786730037129,
          0.024945837908687245,
          0.022849035659672935,
          0.02281475037610242,
          0.02133744372558708,
          0.01937041983962234
         ]
        },
        {
         "hovertext": "<b>Topic 6</b>:purchase_buy_product_something_item",
         "line": {
          "color": "black",
          "width": 1.5
         },
         "mode": "lines+lines",
         "name": "",
         "opacity": 0.1,
         "type": "scatter",
         "x": [
          1,
          2,
          3,
          4,
          5,
          6,
          7,
          8,
          9,
          10
         ],
         "y": [
          0.07890794877116922,
          0.07698297623282753,
          0.07217726095459061,
          0.06886868196758751,
          0.06512110969214478,
          0.06090902617368315,
          0.03960169227650673,
          0.03677009339541283,
          0.012913481556507718,
          0.008564307683066397
         ]
        },
        {
         "hovertext": "<b>Topic 7</b>:several_more_than_single_same_email",
         "line": {
          "color": "black",
          "width": 1.5
         },
         "mode": "lines+lines",
         "name": "",
         "opacity": 0.1,
         "type": "scatter",
         "x": [
          1,
          2,
          3,
          4,
          5,
          6,
          7,
          8,
          9,
          10
         ],
         "y": [
          0.0551617423628535,
          0.05404070845968288,
          0.05393558305914151,
          0.047568161158436255,
          0.046641045285194395,
          0.04102560257150068,
          0.036970341057261186,
          0.0262450968454216,
          0.025612140167054053,
          0.023832311990378417
         ]
        },
        {
         "hovertext": "<b>Topic 8</b>:status_of_refund_reimbursement_view",
         "line": {
          "color": "black",
          "width": 1.5
         },
         "mode": "lines+lines",
         "name": "",
         "opacity": 0.1,
         "type": "scatter",
         "x": [
          1,
          2,
          3,
          4,
          5,
          6,
          7,
          8,
          9,
          10
         ],
         "y": [
          0.10453618769999391,
          0.03176818077693342,
          0.02196709529829175,
          0.018466781752662517,
          0.017946359608340633,
          0.01732068618320271,
          0.01670889074455072,
          0.013394827261350786,
          0.011221409108361755,
          0.010373401342497264
         ]
        },
        {
         "hovertext": "<b>Topic 9</b>:option_delivery_ticket_check_for_vi",
         "line": {
          "color": "black",
          "width": 1.5
         },
         "mode": "lines+lines",
         "name": "",
         "opacity": 0.1,
         "type": "scatter",
         "x": [
          1,
          2,
          3,
          4,
          5,
          6,
          7,
          8,
          9,
          10
         ],
         "y": [
          0.10901008365995248,
          0.08266837928275922,
          0.056432669514180564,
          0.022642003757027518,
          0.020365080381575765,
          0.020331623211806774,
          0.016217369957598708,
          0.014257333417628484,
          0.013682453400276299,
          0.008493887923274098
         ]
        },
        {
         "hovertext": "<b>Topic 10</b>:consumer_complaint_happy_lodge_fil",
         "line": {
          "color": "black",
          "width": 1.5
         },
         "mode": "lines+lines",
         "name": "",
         "opacity": 0.1,
         "type": "scatter",
         "x": [
          1,
          2,
          3,
          4,
          5,
          6,
          7,
          8,
          9,
          10
         ],
         "y": [
          0.0900169329956314,
          0.07946457991597931,
          0.03928758988662386,
          0.038440366546692244,
          0.036892011997462726,
          0.03132292847043351,
          0.02926227615238588,
          0.025995983402438794,
          0.01929545568795073,
          0.011679290000641504
         ]
        },
        {
         "hovertext": "<b>Topic 11</b>:comment_opinion_leave_happy_write_",
         "line": {
          "color": "black",
          "width": 1.5
         },
         "mode": "lines+lines",
         "name": "",
         "opacity": 0.1,
         "type": "scatter",
         "x": [
          1,
          2,
          3,
          4,
          5,
          6,
          7,
          8,
          9,
          10
         ],
         "y": [
          0.09456144935737085,
          0.08865135877253516,
          0.05885153890329745,
          0.05038565037083838,
          0.044011115220349124,
          0.029923934565431548,
          0.024801258258377586,
          0.021260963509782127,
          0.018853953018538636,
          0.01869350855262582
         ]
        },
        {
         "hovertext": "<b>Topic 12</b>:create_one_no_user_account_have_pr",
         "line": {
          "color": "black",
          "width": 1.5
         },
         "mode": "lines+lines",
         "name": "",
         "opacity": 0.1,
         "type": "scatter",
         "x": [
          1,
          2,
          3,
          4,
          5,
          6,
          7,
          8,
          9,
          10
         ],
         "y": [
          0.07702697851988854,
          0.05327453368551922,
          0.031812724794663,
          0.023507930201109906,
          0.022368733628063006,
          0.015914778991605198,
          0.01586620240503514,
          0.015650398249683332,
          0.011288411699254172,
          0.010383285371997163
         ]
        },
        {
         "hovertext": "<b>Topic 13</b>:open_one_no_user_account_online_ha",
         "line": {
          "color": "black",
          "width": 1.5
         },
         "mode": "lines+lines",
         "name": "",
         "opacity": 0.1,
         "type": "scatter",
         "x": [
          1,
          2,
          3,
          4,
          5,
          6,
          7,
          8,
          9,
          10
         ],
         "y": [
          0.12862659635884777,
          0.05214963605542758,
          0.036936187301071885,
          0.02900951602670389,
          0.02766920130587082,
          0.018955427958829454,
          0.014973249262017225,
          0.010003746411132615,
          0.009800124153838692,
          0.008813893161984247
         ]
        },
        {
         "hovertext": "<b>Topic 14</b>:hack_recover_back_be_profile_accou",
         "line": {
          "color": "black",
          "width": 1.5
         },
         "mode": "lines+lines",
         "name": "",
         "opacity": 0.1,
         "type": "scatter",
         "x": [
          1,
          2,
          3,
          4,
          5,
          6,
          7,
          8,
          9,
          10
         ],
         "y": [
          0.13204670679576583,
          0.054197737110378515,
          0.05245109539209132,
          0.021487682758336638,
          0.01992654886775337,
          0.017896702442522356,
          0.017435029976188527,
          0.01723178338203722,
          0.013841994800579946,
          0.012041908903432945
         ]
        },
        {
         "hovertext": "<b>Topic 15</b>:reimbursement_obtain_refund_reques",
         "line": {
          "color": "black",
          "width": 1.5
         },
         "mode": "lines+lines",
         "name": "",
         "opacity": 0.1,
         "type": "scatter",
         "x": [
          1,
          2,
          3,
          4,
          5,
          6,
          7,
          8,
          9,
          10
         ],
         "y": [
          0.07113436477130054,
          0.03722783280639597,
          0.0293793969728991,
          0.02599683494412178,
          0.024038405237528836,
          0.022443063297717017,
          0.013389758926408132,
          0.012784111826574334,
          0.01270706931343601,
          0.010743826124907385
         ]
        },
        {
         "hovertext": "<b>Topic 16</b>:remove_delete_profile_account_user",
         "line": {
          "color": "black",
          "width": 1.5
         },
         "mode": "lines+lines",
         "name": "",
         "opacity": 0.1,
         "type": "scatter",
         "x": [
          1,
          2,
          3,
          4,
          5,
          6,
          7,
          8,
          9,
          10
         ],
         "y": [
          0.09518027730130049,
          0.08511846163640374,
          0.02103438339016759,
          0.02073617873924043,
          0.019414065585157302,
          0.01349919231923826,
          0.013322864673603548,
          0.012711024251668404,
          0.010495501805097665,
          0.009653079301227467
         ]
        },
        {
         "hovertext": "<b>Topic 17</b>:game_cancel_postpone_refund_reimbu",
         "line": {
          "color": "black",
          "width": 1.5
         },
         "mode": "lines+lines",
         "name": "",
         "opacity": 0.1,
         "type": "scatter",
         "x": [
          1,
          2,
          3,
          4,
          5,
          6,
          7,
          8,
          9,
          10
         ],
         "y": [
          0.107355198325259,
          0.07381451304621747,
          0.03813899983223,
          0.02810463952871088,
          0.02226476490541297,
          0.02091427092399941,
          0.01819633306260146,
          0.016145586939358837,
          0.014155239318861758,
          0.012614230230405055
         ]
        },
        {
         "hovertext": "<b>Topic 18</b>:number_phone_free_contact_customer",
         "line": {
          "color": "black",
          "width": 1.5
         },
         "mode": "lines+lines",
         "name": "",
         "opacity": 0.1,
         "type": "scatter",
         "x": [
          1,
          2,
          3,
          4,
          5,
          6,
          7,
          8,
          9,
          10
         ],
         "y": [
          0.11098831900023406,
          0.07992277518010808,
          0.07696918116705355,
          0.0321686442522847,
          0.029137200676315565,
          0.02820460528317415,
          0.02224320321410782,
          0.02103959800336677,
          0.01930439722161663,
          0.015771681025472255
         ]
        },
        {
         "hovertext": "<b>Topic 19</b>:money_policy_back_guarantee_your_t",
         "line": {
          "color": "black",
          "width": 1.5
         },
         "mode": "lines+lines",
         "name": "",
         "opacity": 0.1,
         "type": "scatter",
         "x": [
          1,
          2,
          3,
          4,
          5,
          6,
          7,
          8,
          9,
          10
         ],
         "y": [
          0.10779019618350151,
          0.08579642817554803,
          0.08137811018289634,
          0.07758002998558347,
          0.07026747499397105,
          0.05577975366344605,
          0.037109322805122115,
          0.032556927801859634,
          0.031742688945412836,
          0.028790170114129866
         ]
        },
        {
         "hovertext": "<b>Topic 20</b>:solve_problem_issue_payment_ask_ag",
         "line": {
          "color": "black",
          "width": 1.5
         },
         "mode": "lines+lines",
         "name": "",
         "opacity": 0.1,
         "type": "scatter",
         "x": [
          1,
          2,
          3,
          4,
          5,
          6,
          7,
          8,
          9,
          10
         ],
         "y": [
          0.14963684623952436,
          0.027352894407235866,
          0.024565338289301002,
          0.02450234476728272,
          0.012472709447418682,
          0.011625405467153677,
          0.011250470732094493,
          0.010634281884238797,
          0.008917691323489312,
          0.008893557156974626
         ]
        },
        {
         "hovertext": "<b>Topic 21</b>:download_some_bill_invoice_about_t",
         "line": {
          "color": "black",
          "width": 1.5
         },
         "mode": "lines+lines",
         "name": "",
         "opacity": 0.1,
         "type": "scatter",
         "x": [
          1,
          2,
          3,
          4,
          5,
          6,
          7,
          8,
          9,
          10
         ],
         "y": [
          0.17047677089272803,
          0.04634721488400565,
          0.033580859190212024,
          0.030896014176244876,
          0.017613227723229617,
          0.01538229396983492,
          0.013731474716090873,
          0.011397684671099181,
          0.00984471612597876,
          0.008619032803703285
         ]
        },
        {
         "hovertext": "<b>Topic 22</b>:newsletter_subscribe_there_receive",
         "line": {
          "color": "black",
          "width": 1.5
         },
         "mode": "lines+lines",
         "name": "",
         "opacity": 0.1,
         "type": "scatter",
         "x": [
          1,
          2,
          3,
          4,
          5,
          6,
          7,
          8,
          9,
          10
         ],
         "y": [
          0.15964310458062195,
          0.09278989773264151,
          0.06091583851666573,
          0.051993264752544774,
          0.04469946461139913,
          0.042456738113055545,
          0.040151332613512454,
          0.023151855876928265,
          0.01934080682895366,
          0.014431345180285575
         ]
        },
        {
         "hovertext": "<b>Topic 23</b>:two_same_single_email_register_cre",
         "line": {
          "color": "black",
          "width": 1.5
         },
         "mode": "lines+lines",
         "name": "",
         "opacity": 0.1,
         "type": "scatter",
         "x": [
          1,
          2,
          3,
          4,
          5,
          6,
          7,
          8,
          9,
          10
         ],
         "y": [
          0.1277372396432777,
          0.054008475557780294,
          0.05044177782270047,
          0.045680627485243215,
          0.03673369121321085,
          0.0301703870814479,
          0.02927888986886716,
          0.02727078275945621,
          0.023112791057640605,
          0.016453762279903392
         ]
        },
        {
         "hovertext": "<b>Topic 24</b>:register_no_registering_registrati",
         "line": {
          "color": "black",
          "width": 1.5
         },
         "mode": "lines+lines",
         "name": "",
         "opacity": 0.1,
         "type": "scatter",
         "x": [
          1,
          2,
          3,
          4,
          5,
          6,
          7,
          8,
          9,
          10
         ],
         "y": [
          0.09614342407864229,
          0.055885401048412185,
          0.050041712250853444,
          0.03264592492425943,
          0.026430729626993457,
          0.02456529262357659,
          0.024439943600241567,
          0.018042461948481837,
          0.016696663682303017,
          0.01420474167715597
         ]
        },
        {
         "hovertext": "<b>Topic 25</b>:pop_error_attempt_message_when_try",
         "line": {
          "color": "black",
          "width": 1.5
         },
         "mode": "lines+lines",
         "name": "",
         "opacity": 0.1,
         "type": "scatter",
         "x": [
          1,
          2,
          3,
          4,
          5,
          6,
          7,
          8,
          9,
          10
         ],
         "y": [
          0.12459585172778187,
          0.03920573265045049,
          0.03215297490100026,
          0.03076809776985663,
          0.02739363902834985,
          0.01975453414297386,
          0.018322506234360533,
          0.015486554287921808,
          0.013918665120718307,
          0.013548449631617247
         ]
        },
        {
         "hovertext": "<b>Topic 26</b>:find_them_not_view_bill_invoice_ch",
         "line": {
          "color": "black",
          "width": 1.5
         },
         "mode": "lines+lines",
         "name": "",
         "opacity": 0.1,
         "type": "scatter",
         "x": [
          1,
          2,
          3,
          4,
          5,
          6,
          7,
          8,
          9,
          10
         ],
         "y": [
          0.13700664695483655,
          0.05673322220411501,
          0.03235722940404376,
          0.02916626131270684,
          0.02838407025142963,
          0.026813672365787224,
          0.017132605427199497,
          0.01602993434085302,
          0.011222439231659758,
          0.010727398024252403
         ]
        },
        {
         "hovertext": "<b>Topic 27</b>:complaint_file_lodge_for_service_s",
         "line": {
          "color": "black",
          "width": 1.5
         },
         "mode": "lines+lines",
         "name": "",
         "opacity": 0.1,
         "type": "scatter",
         "x": [
          1,
          2,
          3,
          4,
          5,
          6,
          7,
          8,
          9,
          10
         ],
         "y": [
          0.10481519162299045,
          0.06491662488478879,
          0.05999160179598195,
          0.02917407962130516,
          0.01933158362774147,
          0.012840455149370258,
          0.0121645674275141,
          0.011383681003150122,
          0.010979502016329381,
          0.010323591169980356
         ]
        },
        {
         "hovertext": "<b>Topic 28</b>:lose_them_bill_view_invoice_check_",
         "line": {
          "color": "black",
          "width": 1.5
         },
         "mode": "lines+lines",
         "name": "",
         "opacity": 0.1,
         "type": "scatter",
         "x": [
          1,
          2,
          3,
          4,
          5,
          6,
          7,
          8,
          9,
          10
         ],
         "y": [
          0.17709406254824156,
          0.07344801323746583,
          0.035609617727432305,
          0.03396592484369807,
          0.033906808142012926,
          0.022132529051872,
          0.019401173436690008,
          0.014083923306567363,
          0.012847018615229943,
          0.011309641959617641
         ]
        },
        {
         "hovertext": "<b>Topic 29</b>:fee_cancellation_view_the_check_se",
         "line": {
          "color": "black",
          "width": 1.5
         },
         "mode": "lines+lines",
         "name": "",
         "opacity": 0.1,
         "type": "scatter",
         "x": [
          1,
          2,
          3,
          4,
          5,
          6,
          7,
          8,
          9,
          10
         ],
         "y": [
          0.22925702407460244,
          0.153122033024715,
          0.02418634507983855,
          0.02056016268956674,
          0.01973242218962387,
          0.01881077200705274,
          0.01566870116602253,
          0.011085821932350052,
          0.008839948375692002,
          0.008839948375692002
         ]
        },
        {
         "hovertext": "<b>Topic 30</b>:remember_password_forget_retrieve_",
         "line": {
          "color": "black",
          "width": 1.5
         },
         "mode": "lines+lines",
         "name": "",
         "opacity": 0.1,
         "type": "scatter",
         "x": [
          1,
          2,
          3,
          4,
          5,
          6,
          7,
          8,
          9,
          10
         ],
         "y": [
          0.12027467797517308,
          0.09611734150133622,
          0.09243185678761474,
          0.08700338451343533,
          0.0682593204799051,
          0.02062067909543213,
          0.018494814373098006,
          0.01331394417739805,
          0.013247190304965257,
          0.012344163126889898
         ]
        },
        {
         "hovertext": "<b>Topic 31</b>:event_postpone_cancel_refund_reimb",
         "line": {
          "color": "black",
          "width": 1.5
         },
         "mode": "lines+lines",
         "name": "",
         "opacity": 0.1,
         "type": "scatter",
         "x": [
          1,
          2,
          3,
          4,
          5,
          6,
          7,
          8,
          9,
          10
         ],
         "y": [
          0.19852335385174397,
          0.06189764040863482,
          0.05437127434138829,
          0.038265348069594855,
          0.03777974184513777,
          0.032075083872605235,
          0.030118249326571932,
          0.023215567368890883,
          0.02076218901824322,
          0.01243524613569333
         ]
        },
        {
         "hovertext": "<b>Topic 32</b>:notify_payment_problem_issue_ask_a",
         "line": {
          "color": "black",
          "width": 1.5
         },
         "mode": "lines+lines",
         "name": "",
         "opacity": 0.1,
         "type": "scatter",
         "x": [
          1,
          2,
          3,
          4,
          5,
          6,
          7,
          8,
          9,
          10
         ],
         "y": [
          0.06085058802522951,
          0.02997956734388693,
          0.023200394732029072,
          0.023200394732029072,
          0.01880849332516125,
          0.01785880167694939,
          0.016915432735088522,
          0.01234208559766605,
          0.011487484777400806,
          0.010824836179486895
         ]
        },
        {
         "hovertext": "<b>Topic 33</b>:receive_them_not_bill_invoice_chec",
         "line": {
          "color": "black",
          "width": 1.5
         },
         "mode": "lines+lines",
         "name": "",
         "opacity": 0.1,
         "type": "scatter",
         "x": [
          1,
          2,
          3,
          4,
          5,
          6,
          7,
          8,
          9,
          10
         ],
         "y": [
          0.12738731549213894,
          0.05770324062924305,
          0.031060977448896302,
          0.029367907268673766,
          0.02670818978370309,
          0.02502128366773928,
          0.02242800075347681,
          0.015251083411354789,
          0.014387285256459938,
          0.01140986229215256
         ]
        },
        {
         "hovertext": "<b>Topic 34</b>:penalty_cancellation_view_the_chec",
         "line": {
          "color": "black",
          "width": 1.5
         },
         "mode": "lines+lines",
         "name": "",
         "opacity": 0.1,
         "type": "scatter",
         "x": [
          1,
          2,
          3,
          4,
          5,
          6,
          7,
          8,
          9,
          10
         ],
         "y": [
          0.212090782353474,
          0.149304582283249,
          0.027579980751105047,
          0.019290711574831167,
          0.018060898029548533,
          0.016016111998568842,
          0.013273361155639114,
          0.00940827968102309,
          0.009278449524062522,
          0.008933814322714876
         ]
        },
        {
         "hovertext": "<b>Topic 35</b>:send_email_question_customer_clien",
         "line": {
          "color": "black",
          "width": 1.5
         },
         "mode": "lines+lines",
         "name": "",
         "opacity": 0.1,
         "type": "scatter",
         "x": [
          1,
          2,
          3,
          4,
          5,
          6,
          7,
          8,
          9,
          10
         ],
         "y": [
          0.15853308456832566,
          0.05383142355356918,
          0.04290255053677359,
          0.033602580016195135,
          0.025049637290594038,
          0.02483415324516601,
          0.02349326384920889,
          0.021835373515744168,
          0.014544331178235845,
          0.0123075744569031
         ]
        },
        {
         "hovertext": "<b>Topic 36</b>:concert_postpone_cancel_refund_rei",
         "line": {
          "color": "black",
          "width": 1.5
         },
         "mode": "lines+lines",
         "name": "",
         "opacity": 0.1,
         "type": "scatter",
         "x": [
          1,
          2,
          3,
          4,
          5,
          6,
          7,
          8,
          9,
          10
         ],
         "y": [
          0.20128627919938952,
          0.06463474346917904,
          0.05236987480030894,
          0.04319116994980555,
          0.0351273622396427,
          0.03184867151585743,
          0.03146934403300193,
          0.022957986707504815,
          0.020698927874282704,
          0.010862209423702614
         ]
        },
        {
         "hovertext": "<b>Topic 37</b>:reset_password_forget_remember_los",
         "line": {
          "color": "black",
          "width": 1.5
         },
         "mode": "lines+lines",
         "name": "",
         "opacity": 0.1,
         "type": "scatter",
         "x": [
          1,
          2,
          3,
          4,
          5,
          6,
          7,
          8,
          9,
          10
         ],
         "y": [
          0.19484142744457789,
          0.09761048510830667,
          0.05112542373793642,
          0.044186276512220596,
          0.032086605467529304,
          0.015154618022927027,
          0.014367843920745822,
          0.012350522241227993,
          0.006898125408442386,
          0.006314710069354766
         ]
        },
        {
         "hovertext": "<b>Topic 38</b>:close_closing_account_user_online_",
         "line": {
          "color": "black",
          "width": 1.5
         },
         "mode": "lines+lines",
         "name": "",
         "opacity": 0.1,
         "type": "scatter",
         "x": [
          1,
          2,
          3,
          4,
          5,
          6,
          7,
          8,
          9,
          10
         ],
         "y": [
          0.16486421643193117,
          0.03513940800012819,
          0.02168142233961012,
          0.018690285917967987,
          0.016511733630519977,
          0.01593180980305366,
          0.013401458833928627,
          0.011891786233717127,
          0.011148720274361474,
          0.009808892992642197
         ]
        },
        {
         "hovertext": "<b>Topic 39</b>:other_use_them_switch_change_accou",
         "line": {
          "color": "black",
          "width": 1.5
         },
         "mode": "lines+lines",
         "name": "",
         "opacity": 0.1,
         "type": "scatter",
         "x": [
          1,
          2,
          3,
          4,
          5,
          6,
          7,
          8,
          9,
          10
         ],
         "y": [
          0.1813773178177304,
          0.1812959732693472,
          0.09621573739316114,
          0.09180921021576224,
          0.02857260884170824,
          0.017039626729924977,
          0.015553410102521857,
          0.014828640427363812,
          0.012985989234429457,
          0.011911264294472819
         ]
        },
        {
         "hovertext": "<b>Topic 40</b>:another_switch_change_account_prof",
         "line": {
          "color": "black",
          "width": 1.5
         },
         "mode": "lines+lines",
         "name": "",
         "opacity": 0.1,
         "type": "scatter",
         "x": [
          1,
          2,
          3,
          4,
          5,
          6,
          7,
          8,
          9,
          10
         ],
         "y": [
          0.24487855293927202,
          0.12804480850971128,
          0.041176097101589544,
          0.02246862286024702,
          0.021681969293454267,
          0.021363419474795947,
          0.01687201556479697,
          0.011011655024420587,
          0.010614970950786142,
          0.010613907212918688
         ]
        },
        {
         "hovertext": "<b>Topic 41</b>:mind_delete_remove_change_my_accou",
         "line": {
          "color": "black",
          "width": 1.5
         },
         "mode": "lines+lines",
         "name": "",
         "opacity": 0.1,
         "type": "scatter",
         "x": [
          1,
          2,
          3,
          4,
          5,
          6,
          7,
          8,
          9,
          10
         ],
         "y": [
          0.1540048945559637,
          0.08546836422493202,
          0.08065575197171063,
          0.07137367953986667,
          0.023635128225337032,
          0.019473291552776696,
          0.01822206850443757,
          0.0163020058595136,
          0.01463707175391608,
          0.00693911969974813
         ]
        },
        {
         "hovertext": "<b>Topic 42</b>:shipment_check_know_tell_where_my_",
         "line": {
          "color": "black",
          "width": 1.5
         },
         "mode": "lines+lines",
         "name": "",
         "opacity": 0.1,
         "type": "scatter",
         "x": [
          1,
          2,
          3,
          4,
          5,
          6,
          7,
          8,
          9,
          10
         ],
         "y": [
          0.16466013966617055,
          0.04643551330081985,
          0.023797267958797254,
          0.01619144281331918,
          0.014876305465191916,
          0.012352016436764698,
          0.010291930776020199,
          0.009712132848197627,
          0.008810461224204116,
          0.007878504561671084
         ]
        },
        {
         "hovertext": "<b>Topic 43</b>:steal_stole_someone_password_reset",
         "line": {
          "color": "black",
          "width": 1.5
         },
         "mode": "lines+lines",
         "name": "",
         "opacity": 0.1,
         "type": "scatter",
         "x": [
          1,
          2,
          3,
          4,
          5,
          6,
          7,
          8,
          9,
          10
         ],
         "y": [
          0.1599896829997667,
          0.1315154216236218,
          0.12899032474168431,
          0.09542091587789427,
          0.05988211369791099,
          0.0523173568317827,
          0.03797436804168312,
          0.019769995074985648,
          0.016575236364319536,
          0.012525454272360738
         ]
        },
        {
         "hovertext": "<b>Topic 44</b>:package_check_where_know_my_tell_a",
         "line": {
          "color": "black",
          "width": 1.5
         },
         "mode": "lines+lines",
         "name": "",
         "opacity": 0.1,
         "type": "scatter",
         "x": [
          1,
          2,
          3,
          4,
          5,
          6,
          7,
          8,
          9,
          10
         ],
         "y": [
          0.1624650246792704,
          0.05231220689283232,
          0.017538479399882487,
          0.014963137896316018,
          0.012680822121259623,
          0.01229255623654166,
          0.010058986944507024,
          0.009460118833379494,
          0.008528791174900628,
          0.008162044468148402
         ]
        },
        {
         "hovertext": "<b>Topic 45</b>:policy_your_refund_reimbursement_c",
         "line": {
          "color": "black",
          "width": 1.5
         },
         "mode": "lines+lines",
         "name": "",
         "opacity": 0.1,
         "type": "scatter",
         "x": [
          1,
          2,
          3,
          4,
          5,
          6,
          7,
          8,
          9,
          10
         ],
         "y": [
          0.1791767806952856,
          0.1385530818933835,
          0.06349488664284016,
          0.03500788646389944,
          0.030745961749894354,
          0.028549860944757876,
          0.024424914786477247,
          0.01065166297573619,
          0.008717833732964616,
          0.008717833732964616
         ]
        },
        {
         "hovertext": "<b>Topic 46</b>:track_delivery_order_tell_know_my_",
         "line": {
          "color": "black",
          "width": 1.5
         },
         "mode": "lines+lines",
         "name": "",
         "opacity": 0.1,
         "type": "scatter",
         "x": [
          1,
          2,
          3,
          4,
          5,
          6,
          7,
          8,
          9,
          10
         ],
         "y": [
          0.13132009109688977,
          0.0454274529862669,
          0.03353646245819771,
          0.01956630794946126,
          0.01575706219168859,
          0.014180867003788393,
          0.01360260036352101,
          0.011701488514237614,
          0.010406263784704484,
          0.00844574154404562
         ]
        },
        {
         "hovertext": "<b>Topic 47</b>:shipping_address_update_edit_ship_",
         "line": {
          "color": "black",
          "width": 1.5
         },
         "mode": "lines+lines",
         "name": "",
         "opacity": 0.1,
         "type": "scatter",
         "x": [
          1,
          2,
          3,
          4,
          5,
          6,
          7,
          8,
          9,
          10
         ],
         "y": [
          0.17591993765186878,
          0.0788851225428335,
          0.07321818521535996,
          0.06526429804158071,
          0.057427959115011584,
          0.023410952325051998,
          0.022753691139778664,
          0.022292243205082968,
          0.021431449336937473,
          0.013540790488518183
         ]
        },
        {
         "hovertext": "<b>Topic 48</b>:package_track_tell_where_my_me_cou",
         "line": {
          "color": "black",
          "width": 1.5
         },
         "mode": "lines+lines",
         "name": "",
         "opacity": 0.1,
         "type": "scatter",
         "x": [
          1,
          2,
          3,
          4,
          5,
          6,
          7,
          8,
          9,
          10
         ],
         "y": [
          0.1639355227168206,
          0.11539659786179322,
          0.01838605185527621,
          0.015129390730636884,
          0.012463663262102418,
          0.00982895585140974,
          0.008801130724043692,
          0.007840411831078066,
          0.007567157692148257,
          0.007567157692148257
         ]
        },
        {
         "hovertext": "<b>Topic 49</b>:discontent_complaint_consumer_subm",
         "line": {
          "color": "black",
          "width": 1.5
         },
         "mode": "lines+lines",
         "name": "",
         "opacity": 0.1,
         "type": "scatter",
         "x": [
          1,
          2,
          3,
          4,
          5,
          6,
          7,
          8,
          9,
          10
         ],
         "y": [
          0.20255024418769327,
          0.07806499439793584,
          0.06835967060114363,
          0.042496291320878996,
          0.03635849289954438,
          0.03152634696656577,
          0.02845168636460975,
          0.027701054731447967,
          0.020866433598566183,
          0.018362726455057026
         ]
        },
        {
         "hovertext": "<b>Topic 50</b>:notify_pay_issue_problem_have_paym",
         "line": {
          "color": "black",
          "width": 1.5
         },
         "mode": "lines+lines",
         "name": "",
         "opacity": 0.1,
         "type": "scatter",
         "x": [
          1,
          2,
          3,
          4,
          5,
          6,
          7,
          8,
          9,
          10
         ],
         "y": [
          0.08633070730128774,
          0.05229820162721024,
          0.03391258309608706,
          0.031252772657178275,
          0.011374749798090429,
          0.010082025300716157,
          0.010082025300716157,
          0.010082025300716157,
          0.009371154446423153,
          0.00895888412862353
         ]
        },
        {
         "hovertext": "<b>Topic 51</b>:method_your_their_payment_accept_v",
         "line": {
          "color": "black",
          "width": 1.5
         },
         "mode": "lines+lines",
         "name": "",
         "opacity": 0.1,
         "type": "scatter",
         "x": [
          1,
          2,
          3,
          4,
          5,
          6,
          7,
          8,
          9,
          10
         ],
         "y": [
          0.26251052020122057,
          0.08865080246194236,
          0.05131014843907454,
          0.035181775504618644,
          0.0237652599188643,
          0.02103293553145454,
          0.018532491098497885,
          0.01599471213021632,
          0.013657311640075557,
          0.009091705288746978
         ]
        },
        {
         "hovertext": "<b>Topic 52</b>:invoice_see_view_where_ask_agent_c",
         "line": {
          "color": "black",
          "width": 1.5
         },
         "mode": "lines+lines",
         "name": "",
         "opacity": 0.1,
         "type": "scatter",
         "x": [
          1,
          2,
          3,
          4,
          5,
          6,
          7,
          8,
          9,
          10
         ],
         "y": [
          0.06364976663755575,
          0.04428601681692053,
          0.02815797164861733,
          0.01871880727408573,
          0.014885981098255875,
          0.013681559063611988,
          0.011298548414046724,
          0.010086972192633322,
          0.010051104696846133,
          0.008469589504855417
         ]
        },
        {
         "hovertext": "<b>Topic 53</b>:notify_try_pay_when_card_issue_pro",
         "line": {
          "color": "black",
          "width": 1.5
         },
         "mode": "lines+lines",
         "name": "",
         "opacity": 0.1,
         "type": "scatter",
         "x": [
          1,
          2,
          3,
          4,
          5,
          6,
          7,
          8,
          9,
          10
         ],
         "y": [
          0.04014086830250435,
          0.03314644863636334,
          0.025340770048279677,
          0.02441715578798442,
          0.019245154813009018,
          0.01922865158770494,
          0.018443808665757802,
          0.018324138167448392,
          0.01439973041642608,
          0.013915155372567736
         ]
        },
        {
         "hovertext": "<b>Topic 54</b>:error_attempt_message_when_online_",
         "line": {
          "color": "black",
          "width": 1.5
         },
         "mode": "lines+lines",
         "name": "",
         "opacity": 0.1,
         "type": "scatter",
         "x": [
          1,
          2,
          3,
          4,
          5,
          6,
          7,
          8,
          9,
          10
         ],
         "y": [
          0.035971116632297066,
          0.031984291193740126,
          0.031203618309373266,
          0.02484795516019537,
          0.02401984673768617,
          0.02216011595795104,
          0.02183701931751907,
          0.018138866378253998,
          0.017318719314440126,
          0.016325972530073642
         ]
        },
        {
         "hovertext": "<b>Topic 55</b>:modify_order_change_myorder_tell_w",
         "line": {
          "color": "black",
          "width": 1.5
         },
         "mode": "lines+lines",
         "name": "",
         "opacity": 0.1,
         "type": "scatter",
         "x": [
          1,
          2,
          3,
          4,
          5,
          6,
          7,
          8,
          9,
          10
         ],
         "y": [
          0.056989131230675505,
          0.04175824100535799,
          0.033759720521360066,
          0.03133782731678109,
          0.023332682780277735,
          0.017077872870188606,
          0.012933374115127726,
          0.012932545336833572,
          0.011239455257919114,
          0.010785463874397137
         ]
        },
        {
         "hovertext": "<b>Topic 56</b>:set_up_shipping_address_no_one_hav",
         "line": {
          "color": "black",
          "width": 1.5
         },
         "mode": "lines+lines",
         "name": "",
         "opacity": 0.1,
         "type": "scatter",
         "x": [
          1,
          2,
          3,
          4,
          5,
          6,
          7,
          8,
          9,
          10
         ],
         "y": [
          0.23213870328438038,
          0.2206837888993574,
          0.1728346071126938,
          0.07078827022901327,
          0.042528663473576256,
          0.02133839543526346,
          0.018681207085315298,
          0.012182717558081138,
          0.009353637715167127,
          0.008628876245893547
         ]
        },
        {
         "hovertext": "<b>Topic 57</b>:shipment_track_where_my_know_tell_",
         "line": {
          "color": "black",
          "width": 1.5
         },
         "mode": "lines+lines",
         "name": "",
         "opacity": 0.1,
         "type": "scatter",
         "x": [
          1,
          2,
          3,
          4,
          5,
          6,
          7,
          8,
          9,
          10
         ],
         "y": [
          0.1944355847948307,
          0.13416759307220497,
          0.015974200813951924,
          0.014350375909664584,
          0.014309985051635556,
          0.013002001549293573,
          0.010779738777774798,
          0.010328307030783001,
          0.00873066934079061,
          0.008210883453221338
         ]
        },
        {
         "hovertext": "<b>Topic 58</b>:own_more_than_several_if_one_profi",
         "line": {
          "color": "black",
          "width": 1.5
         },
         "mode": "lines+lines",
         "name": "",
         "opacity": 0.1,
         "type": "scatter",
         "x": [
          1,
          2,
          3,
          4,
          5,
          6,
          7,
          8,
          9,
          10
         ],
         "y": [
          0.21997160987365288,
          0.08414928826287024,
          0.08398559263625749,
          0.07592154952302123,
          0.036038163407497624,
          0.03202959149870473,
          0.024059467332192927,
          0.02026703746652771,
          0.019473381719751482,
          0.01856942885872649
         ]
        },
        {
         "hovertext": "<b>Topic 59</b>:period_ticket_delivery_provide_abo",
         "line": {
          "color": "black",
          "width": 1.5
         },
         "mode": "lines+lines",
         "name": "",
         "opacity": 0.1,
         "type": "scatter",
         "x": [
          1,
          2,
          3,
          4,
          5,
          6,
          7,
          8,
          9,
          10
         ],
         "y": [
          0.21982604608520243,
          0.0945691456468012,
          0.07874976159553373,
          0.04166680889728287,
          0.034861787210499415,
          0.03163371164439005,
          0.03163371164439005,
          0.031198620556748834,
          0.021581061943617242,
          0.018847193681603026
         ]
        },
        {
         "hovertext": "<b>Topic 60</b>:review_happy_lodge_submit_file_ser",
         "line": {
          "color": "black",
          "width": 1.5
         },
         "mode": "lines+lines",
         "name": "",
         "opacity": 0.1,
         "type": "scatter",
         "x": [
          1,
          2,
          3,
          4,
          5,
          6,
          7,
          8,
          9,
          10
         ],
         "y": [
          0.19560019973046164,
          0.10329761438483055,
          0.046355430467217844,
          0.0426079138496768,
          0.03645399363136308,
          0.02438534588229364,
          0.02211490057243305,
          0.016658539135323617,
          0.014505603869301515,
          0.01100006337687893
         ]
        },
        {
         "hovertext": "<b>Topic 61</b>:password_retrieve_recover_account_",
         "line": {
          "color": "black",
          "width": 1.5
         },
         "mode": "lines+lines",
         "name": "",
         "opacity": 0.1,
         "type": "scatter",
         "x": [
          1,
          2,
          3,
          4,
          5,
          6,
          7,
          8,
          9,
          10
         ],
         "y": [
          0.11321983773756678,
          0.11182835022793554,
          0.08163404147017823,
          0.016164925891122162,
          0.014011854221539161,
          0.012885788527201032,
          0.011567703874476962,
          0.011535549332423074,
          0.00948386658034462,
          0.009125925340504756
         ]
        },
        {
         "hovertext": "<b>Topic 62</b>:while_create_find_open_profile_pro",
         "line": {
          "color": "black",
          "width": 1.5
         },
         "mode": "lines+lines",
         "name": "",
         "opacity": 0.1,
         "type": "scatter",
         "x": [
          1,
          2,
          3,
          4,
          5,
          6,
          7,
          8,
          9,
          10
         ],
         "y": [
          0.16330495342849882,
          0.07234990867591909,
          0.06840554980358482,
          0.05403221840465553,
          0.044178907712449214,
          0.037539452017892376,
          0.0300315616143139,
          0.025709386502418382,
          0.023314796958349274,
          0.020826611149284333
         ]
        },
        {
         "hovertext": "<b>Topic 63</b>:delivery_check_tell_where_know_my_",
         "line": {
          "color": "black",
          "width": 1.5
         },
         "mode": "lines+lines",
         "name": "",
         "opacity": 0.1,
         "type": "scatter",
         "x": [
          1,
          2,
          3,
          4,
          5,
          6,
          7,
          8,
          9,
          10
         ],
         "y": [
          0.10629720671640484,
          0.06391504112128055,
          0.02470874667048261,
          0.017857091404189604,
          0.014854090947135008,
          0.01336822090444039,
          0.012993157101419975,
          0.012861290830381258,
          0.012861290830381258,
          0.012861290830381258
         ]
        },
        {
         "hovertext": "<b>Topic 64</b>:lose_password_retrieve_recover_it_",
         "line": {
          "color": "black",
          "width": 1.5
         },
         "mode": "lines+lines",
         "name": "",
         "opacity": 0.1,
         "type": "scatter",
         "x": [
          1,
          2,
          3,
          4,
          5,
          6,
          7,
          8,
          9,
          10
         ],
         "y": [
          0.16953783710827616,
          0.10605806717963044,
          0.07878318215666691,
          0.06353832617541892,
          0.019847372746512014,
          0.013760749046258592,
          0.013337230297496483,
          0.013238823829316128,
          0.013238823829316128,
          0.013238823829316128
         ]
        },
        {
         "hovertext": "<b>Topic 65</b>:review_write_leave_for_lodge_servi",
         "line": {
          "color": "black",
          "width": 1.5
         },
         "mode": "lines+lines",
         "name": "",
         "opacity": 0.1,
         "type": "scatter",
         "x": [
          1,
          2,
          3,
          4,
          5,
          6,
          7,
          8,
          9,
          10
         ],
         "y": [
          0.17539112932090414,
          0.0864674218118312,
          0.05111797545551012,
          0.03704184046035397,
          0.030167819827871926,
          0.025090432260777853,
          0.01679735065227643,
          0.012675638450333033,
          0.012492694689617027,
          0.012379485821779864
         ]
        },
        {
         "hovertext": "<b>Topic 66</b>:client_contact_question_service_in",
         "line": {
          "color": "black",
          "width": 1.5
         },
         "mode": "lines+lines",
         "name": "",
         "opacity": 0.1,
         "type": "scatter",
         "x": [
          1,
          2,
          3,
          4,
          5,
          6,
          7,
          8,
          9,
          10
         ],
         "y": [
          0.10984257087934936,
          0.08852153922878472,
          0.057110143730909856,
          0.04335760102665572,
          0.03456520934971604,
          0.02207659872130066,
          0.012035521946066417,
          0.010571188863441454,
          0.009635281833902042,
          0.007935782473768518
         ]
        },
        {
         "hovertext": "<b>Topic 67</b>:card_notify_make_payment_with_try_",
         "line": {
          "color": "black",
          "width": 1.5
         },
         "mode": "lines+lines",
         "name": "",
         "opacity": 0.1,
         "type": "scatter",
         "x": [
          1,
          2,
          3,
          4,
          5,
          6,
          7,
          8,
          9,
          10
         ],
         "y": [
          0.04859009849531737,
          0.04471851116541948,
          0.028222171922834775,
          0.022269325342114784,
          0.021572375783091347,
          0.02045079252005844,
          0.01763556118044506,
          0.017338725432394404,
          0.01676076791798126,
          0.015502032148564524
         ]
        },
        {
         "hovertext": "<b>Topic 68</b>:close_mind_change_closing_my_user_",
         "line": {
          "color": "black",
          "width": 1.5
         },
         "mode": "lines+lines",
         "name": "",
         "opacity": 0.1,
         "type": "scatter",
         "x": [
          1,
          2,
          3,
          4,
          5,
          6,
          7,
          8,
          9,
          10
         ],
         "y": [
          0.1612599723095453,
          0.150482785410218,
          0.0732323021193424,
          0.04350933301387127,
          0.02377134322007753,
          0.019395335809739164,
          0.019013475696646878,
          0.018512903953519795,
          0.0125978379455876,
          0.0125978379455876
         ]
        },
        {
         "hovertext": "<b>Topic 69</b>:report_pay_ask_agent_issue_could_p",
         "line": {
          "color": "black",
          "width": 1.5
         },
         "mode": "lines+lines",
         "name": "",
         "opacity": 0.1,
         "type": "scatter",
         "x": [
          1,
          2,
          3,
          4,
          5,
          6,
          7,
          8,
          9,
          10
         ],
         "y": [
          0.0610844563650347,
          0.034314960365923915,
          0.027533149092936506,
          0.026382510767727574,
          0.024381595689997232,
          0.020366378431307317,
          0.018692556695664546,
          0.016835585567414844,
          0.015701439412593478,
          0.015433663496250073
         ]
        },
        {
         "hovertext": "<b>Topic 70</b>:try_pay_inform_when_have_of_issue_",
         "line": {
          "color": "black",
          "width": 1.5
         },
         "mode": "lines+lines",
         "name": "",
         "opacity": 0.1,
         "type": "scatter",
         "x": [
          1,
          2,
          3,
          4,
          5,
          6,
          7,
          8,
          9,
          10
         ],
         "y": [
          0.04131811708325171,
          0.03452856111516713,
          0.031391429810074235,
          0.028991547755783505,
          0.01928215010579579,
          0.01868199856431519,
          0.01809914219738948,
          0.01809914219738948,
          0.011931285673334287,
          0.011931285673334287
         ]
        },
        {
         "hovertext": "<b>Topic 71</b>:inform_pay_of_ask_agent_issue_plea",
         "line": {
          "color": "black",
          "width": 1.5
         },
         "mode": "lines+lines",
         "name": "",
         "opacity": 0.1,
         "type": "scatter",
         "x": [
          1,
          2,
          3,
          4,
          5,
          6,
          7,
          8,
          9,
          10
         ],
         "y": [
          0.05453237869866134,
          0.031533331584468104,
          0.030360084999679807,
          0.025340235403758113,
          0.023831588559349737,
          0.019433066251173754,
          0.018034607759045366,
          0.017878420951079853,
          0.017506639879722466,
          0.017314969816163716
         ]
        },
        {
         "hovertext": "<b>Topic 72</b>:report_payment_issue_problem_with_",
         "line": {
          "color": "black",
          "width": 1.5
         },
         "mode": "lines+lines",
         "name": "",
         "opacity": 0.1,
         "type": "scatter",
         "x": [
          1,
          2,
          3,
          4,
          5,
          6,
          7,
          8,
          9,
          10
         ],
         "y": [
          0.07844530185825509,
          0.036947545571996414,
          0.02817999165012312,
          0.02817999165012312,
          0.02045212609330274,
          0.01780273414942248,
          0.01780273414942248,
          0.015981696142369488,
          0.015981696142369488,
          0.012961773300254522
         ]
        },
        {
         "hovertext": "<b>Topic 73</b>:inform_of_make_payment_problem_iss",
         "line": {
          "color": "black",
          "width": 1.5
         },
         "mode": "lines+lines",
         "name": "",
         "opacity": 0.1,
         "type": "scatter",
         "x": [
          1,
          2,
          3,
          4,
          5,
          6,
          7,
          8,
          9,
          10
         ],
         "y": [
          0.0742968486666385,
          0.04136365760224693,
          0.03726812071283813,
          0.0331773878605682,
          0.029354157968878247,
          0.02583165901261286,
          0.01780273414942248,
          0.015981696142369488,
          0.015981696142369488,
          0.015981696142369488
         ]
        },
        {
         "hovertext": "<b>Topic 74</b>:check_order_ploease_mky_wanty_kkno",
         "line": {
          "color": "black",
          "width": 1.5
         },
         "mode": "lines+lines",
         "name": "",
         "opacity": 0.1,
         "type": "scatter",
         "x": [
          1,
          2,
          3,
          4,
          5,
          6,
          7,
          8,
          9,
          10
         ],
         "y": [
          0.08065065570642597,
          0.05924839354309326,
          0.021408351192343484,
          0.021408351192343484,
          0.021408351192343484,
          0.021408351192343484,
          0.020058501270036652,
          0.017939021634801527,
          0.017117640346576708,
          0.016935518473700107
         ]
        },
        {
         "hovertext": "<b>Topic 75</b>:postpone_show_refund_obtain_reques",
         "line": {
          "color": "black",
          "width": 1.5
         },
         "mode": "lines+lines",
         "name": "",
         "opacity": 0.1,
         "type": "scatter",
         "x": [
          1,
          2,
          3,
          4,
          5,
          6,
          7,
          8,
          9,
          10
         ],
         "y": [
          0.14632332727841488,
          0.1038890163470784,
          0.07136100896312071,
          0.03524234839005486,
          0.025635767792120092,
          0.02428726407639173,
          0.021588990607246415,
          0.017083431759546824,
          0.017083431759546824,
          0.017083431759546824
         ]
        },
        {
         "hovertext": "<b>Topic 76</b>:refund_reund_obtain_one_request_he",
         "line": {
          "color": "black",
          "width": 1.5
         },
         "mode": "lines+lines",
         "name": "",
         "opacity": 0.1,
         "type": "scatter",
         "x": [
          1,
          2,
          3,
          4,
          5,
          6,
          7,
          8,
          9,
          10
         ],
         "y": [
          0.12218554656852887,
          0.04763172183608161,
          0.04446755135098098,
          0.03936306357940365,
          0.03649326944525331,
          0.03339169545279783,
          0.027184517641131008,
          0.02652956461482565,
          0.02652956461482565,
          0.02652956461482565
         ]
        },
        {
         "hovertext": "<b>Topic 77</b>:notify_make_issue_payment_problem_",
         "line": {
          "color": "black",
          "width": 1.5
         },
         "mode": "lines+lines",
         "name": "",
         "opacity": 0.1,
         "type": "scatter",
         "x": [
          1,
          2,
          3,
          4,
          5,
          6,
          7,
          8,
          9,
          10
         ],
         "y": [
          0.07078189711530312,
          0.04099801534166643,
          0.031184847390593233,
          0.030809890975112213,
          0.02158950973194916,
          0.018185588647259523,
          0.018185588647259523,
          0.016325388532527973,
          0.016325388532527973,
          0.016325388532527973
         ]
        },
        {
         "hovertext": "<b>Topic 78</b>:notify_pay_problem_ask_agent_issue",
         "line": {
          "color": "black",
          "width": 1.5
         },
         "mode": "lines+lines",
         "name": "",
         "opacity": 0.1,
         "type": "scatter",
         "x": [
          1,
          2,
          3,
          4,
          5,
          6,
          7,
          8,
          9,
          10
         ],
         "y": [
          0.05864632204420559,
          0.035340316946602064,
          0.02744179141327479,
          0.02728582764365539,
          0.026883317729909192,
          0.017278164963913756,
          0.016843255538060594,
          0.015410111564420367,
          0.015410111564420367,
          0.01419181505333192
         ]
        },
        {
         "hovertext": "<b>Topic 79</b>:see_invoice_some_whaty_doo_so_ky_h",
         "line": {
          "color": "black",
          "width": 1.5
         },
         "mode": "lines+lines",
         "name": "",
         "opacity": 0.1,
         "type": "scatter",
         "x": [
          1,
          2,
          3,
          4,
          5,
          6,
          7,
          8,
          9,
          10
         ],
         "y": [
          0.0807100967117422,
          0.07693878854357605,
          0.032209154155969213,
          0.022107970512354712,
          0.019846550765034006,
          0.019846550765034006,
          0.019846550765034006,
          0.019810855119544366,
          0.017677040357902747,
          0.011242907222036205
         ]
        },
        {
         "hovertext": "<b>Topic 80</b>:no_account_have_aget_ylu_creage_cr",
         "line": {
          "color": "black",
          "width": 1.5
         },
         "mode": "lines+lines",
         "name": "",
         "opacity": 0.1,
         "type": "scatter",
         "x": [
          1,
          2,
          3,
          4,
          5,
          6,
          7,
          8,
          9,
          10
         ],
         "y": [
          0.05292455898933934,
          0.03309961015801204,
          0.0235751571104824,
          0.021476314212001718,
          0.021476314212001718,
          0.021476314212001718,
          0.021476314212001718,
          0.021476314212001718,
          0.021476314212001718,
          0.019279506457461605
         ]
        },
        {
         "hovertext": "<b>Topic 81</b>:place_order_tack_mlake_persn_nodif",
         "line": {
          "color": "black",
          "width": 1.5
         },
         "mode": "lines+lines",
         "name": "",
         "opacity": 0.1,
         "type": "scatter",
         "x": [
          1,
          2,
          3,
          4,
          5,
          6,
          7,
          8,
          9,
          10
         ],
         "y": [
          0.27242136910788317,
          0.06621999540582439,
          0.04095400051125716,
          0.026845392765002148,
          0.026845392765002148,
          0.026845392765002148,
          0.026845392765002148,
          0.026845392765002148,
          0.026845392765002148,
          0.026845392765002148
         ]
        },
        {
         "hovertext": "<b>Topic 82</b>:cancel_show_reimbursement_obain_re",
         "line": {
          "color": "black",
          "width": 1.5
         },
         "mode": "lines+lines",
         "name": "",
         "opacity": 0.1,
         "type": "scatter",
         "x": [
          1,
          2,
          3,
          4,
          5,
          6,
          7,
          8,
          9,
          10
         ],
         "y": [
          0.09998667659554968,
          0.09910352934260663,
          0.0813594533042677,
          0.03282726775189408,
          0.03201006681070131,
          0.02828912830228728,
          0.023168508786386377,
          0.02059452711511474,
          0.018283889126433896,
          0.015320894152965628
         ]
        },
        {
         "hovertext": "<b>Topic 83</b>:on_edit_profile_information_change",
         "line": {
          "color": "black",
          "width": 1.5
         },
         "mode": "lines+lines",
         "name": "",
         "opacity": 0.1,
         "type": "scatter",
         "x": [
          1,
          2,
          3,
          4,
          5,
          6,
          7,
          8,
          9,
          10
         ],
         "y": [
          0.24928240979085703,
          0.07570095949564382,
          0.07432739177505292,
          0.05366196167553533,
          0.04022212502434367,
          0.030932177301889303,
          0.029324800218938882,
          0.02082835900414253,
          0.017451277396840246,
          0.016289456427003683
         ]
        },
        {
         "hovertext": "<b>Topic 84</b>:mind_cancel_change_user_account_my",
         "line": {
          "color": "black",
          "width": 1.5
         },
         "mode": "lines+lines",
         "name": "",
         "opacity": 0.1,
         "type": "scatter",
         "x": [
          1,
          2,
          3,
          4,
          5,
          6,
          7,
          8,
          9,
          10
         ],
         "y": [
          0.14725544224120157,
          0.09536702645738528,
          0.07044711328305488,
          0.024697516026019484,
          0.024313099917541464,
          0.022574095604404616,
          0.021531668052635698,
          0.01833343896146488,
          0.015362414191320548,
          0.012443671099199898
         ]
        },
        {
         "hovertext": "<b>Topic 85</b>:create_profile_one_profilee_tto_ne",
         "line": {
          "color": "black",
          "width": 1.5
         },
         "mode": "lines+lines",
         "name": "",
         "opacity": 0.1,
         "type": "scatter",
         "x": [
          1,
          2,
          3,
          4,
          5,
          6,
          7,
          8,
          9,
          10
         ],
         "y": [
          0.10193470199188315,
          0.10143502877536632,
          0.05029724790701578,
          0.02652956461482565,
          0.02223031700626385,
          0.022087420583418945,
          0.02110666215893623,
          0.019525607665415393,
          0.014657857039784205,
          0.014006209973756522
         ]
        },
        {
         "hovertext": "<b>Topic 86</b>:retrieve_password_recover_ask_agen",
         "line": {
          "color": "black",
          "width": 1.5
         },
         "mode": "lines+lines",
         "name": "",
         "opacity": 0.1,
         "type": "scatter",
         "x": [
          1,
          2,
          3,
          4,
          5,
          6,
          7,
          8,
          9,
          10
         ],
         "y": [
          0.09202831814269008,
          0.08501452903317734,
          0.05181938701348879,
          0.0277378372572749,
          0.02608644767931168,
          0.0258177282691136,
          0.01936134324256616,
          0.016870421388480154,
          0.016870421388480154,
          0.012118606759506025
         ]
        },
        {
         "hovertext": "<b>Topic 87</b>:postpone_show_reimbursement_obtain",
         "line": {
          "color": "black",
          "width": 1.5
         },
         "mode": "lines+lines",
         "name": "",
         "opacity": 0.1,
         "type": "scatter",
         "x": [
          1,
          2,
          3,
          4,
          5,
          6,
          7,
          8,
          9,
          10
         ],
         "y": [
          0.13139237551531133,
          0.09908238800803877,
          0.0813420972380007,
          0.033058966747813855,
          0.03206339470209772,
          0.021944431276019805,
          0.020048288146620262,
          0.01972314570489954,
          0.01972314570489954,
          0.01972314570489954
         ]
        },
        {
         "hovertext": "<b>Topic 88</b>:mistake_modify_order_ask_change_mo",
         "line": {
          "color": "black",
          "width": 1.5
         },
         "mode": "lines+lines",
         "name": "",
         "opacity": 0.1,
         "type": "scatter",
         "x": [
          1,
          2,
          3,
          4,
          5,
          6,
          7,
          8,
          9,
          10
         ],
         "y": [
          0.05278616253289024,
          0.049337297467588775,
          0.0383190738635826,
          0.026851066182957378,
          0.02544038442106797,
          0.025338574832981808,
          0.02525247107835502,
          0.017213839635573897,
          0.015805967993762677,
          0.01418079420291078
         ]
        },
        {
         "hovertext": "<b>Topic 89</b>:profile_edit_change_modify_iy_prof",
         "line": {
          "color": "black",
          "width": 1.5
         },
         "mode": "lines+lines",
         "name": "",
         "opacity": 0.1,
         "type": "scatter",
         "x": [
          1,
          2,
          3,
          4,
          5,
          6,
          7,
          8,
          9,
          10
         ],
         "y": [
          0.1035139179171365,
          0.0944227021666095,
          0.05528887231786016,
          0.04232501119157446,
          0.031175294823873462,
          0.031175294823873462,
          0.031175294823873462,
          0.031175294823873462,
          0.027986380341476522,
          0.027986380341476522
         ]
        },
        {
         "hovertext": "<b>Topic 90</b>:purchase_modify_change_ask_agent_m",
         "line": {
          "color": "black",
          "width": 1.5
         },
         "mode": "lines+lines",
         "name": "",
         "opacity": 0.1,
         "type": "scatter",
         "x": [
          1,
          2,
          3,
          4,
          5,
          6,
          7,
          8,
          9,
          10
         ],
         "y": [
          0.06986355914129987,
          0.031621221193830436,
          0.030041152533272376,
          0.027315108209872593,
          0.02568888607148685,
          0.02191369212192873,
          0.020997449312277407,
          0.019056447821917018,
          0.019056447821917018,
          0.019056447821917018
         ]
        },
        {
         "hovertext": "<b>Topic 91</b>:card_inform_try_pay_when_of_with_i",
         "line": {
          "color": "black",
          "width": 1.5
         },
         "mode": "lines+lines",
         "name": "",
         "opacity": 0.1,
         "type": "scatter",
         "x": [
          1,
          2,
          3,
          4,
          5,
          6,
          7,
          8,
          9,
          10
         ],
         "y": [
          0.045517234307819066,
          0.03811336338824858,
          0.03598842234171506,
          0.02610253755508433,
          0.025813031170995253,
          0.02341411770055501,
          0.020208127036209195,
          0.01649090254811672,
          0.016242215030317215,
          0.01590187256916907
         ]
        },
        {
         "hovertext": "<b>Topic 92</b>:on_edit_update_profile_ask_agent_i",
         "line": {
          "color": "black",
          "width": 1.5
         },
         "mode": "lines+lines",
         "name": "",
         "opacity": 0.1,
         "type": "scatter",
         "x": [
          1,
          2,
          3,
          4,
          5,
          6,
          7,
          8,
          9,
          10
         ],
         "y": [
          0.0969595487391657,
          0.08255933702259959,
          0.06315068474824798,
          0.05934154517425276,
          0.023401178677537906,
          0.023383473218917518,
          0.020872068722713147,
          0.018316721367521823,
          0.017346253786616774,
          0.01557190906179591
         ]
        },
        {
         "hovertext": "<b>Topic 93</b>:speaking_information_customer_talk",
         "line": {
          "color": "black",
          "width": 1.5
         },
         "mode": "lines+lines",
         "name": "",
         "opacity": 0.1,
         "type": "scatter",
         "x": [
          1,
          2,
          3,
          4,
          5,
          6,
          7,
          8,
          9,
          10
         ],
         "y": [
          0.05823510692336779,
          0.05466954545018196,
          0.05371763259755864,
          0.04921169994019109,
          0.04303689342146314,
          0.037687186423883204,
          0.037525872039061256,
          0.02663401171960843,
          0.02663401171960843,
          0.02663401171960843
         ]
        },
        {
         "hovertext": "<b>Topic 94</b>:open_create_ask_agent_account_onli",
         "line": {
          "color": "black",
          "width": 1.5
         },
         "mode": "lines+lines",
         "name": "",
         "opacity": 0.1,
         "type": "scatter",
         "x": [
          1,
          2,
          3,
          4,
          5,
          6,
          7,
          8,
          9,
          10
         ],
         "y": [
          0.05636966233564062,
          0.036453302518958376,
          0.02950364122060275,
          0.02690630147262499,
          0.025083505693120595,
          0.02324610180980481,
          0.021092863175817336,
          0.017770316102185837,
          0.015066529679578652,
          0.014318625378969357
         ]
        },
        {
         "hovertext": "<b>Topic 95</b>:notify_try_when_make_payment_have_",
         "line": {
          "color": "black",
          "width": 1.5
         },
         "mode": "lines+lines",
         "name": "",
         "opacity": 0.1,
         "type": "scatter",
         "x": [
          1,
          2,
          3,
          4,
          5,
          6,
          7,
          8,
          9,
          10
         ],
         "y": [
          0.04592162236476374,
          0.03996965019110156,
          0.029593397607928885,
          0.029417744100494105,
          0.023212717858717456,
          0.01932267623928779,
          0.0192028213143244,
          0.01807324358995238,
          0.01712668095387479,
          0.0164326197038463
         ]
        },
        {
         "hovertext": "<b>Topic 96</b>:hour_customer_of_support_client_se",
         "line": {
          "color": "black",
          "width": 1.5
         },
         "mode": "lines+lines",
         "name": "",
         "opacity": 0.1,
         "type": "scatter",
         "x": [
          1,
          2,
          3,
          4,
          5,
          6,
          7,
          8,
          9,
          10
         ],
         "y": [
          0.36231757677464993,
          0.03861429920449583,
          0.03746210214734772,
          0.031240246374631502,
          0.026856234885887436,
          0.02247521254744366,
          0.02120165083425545,
          0.02037591573418288,
          0.020176227688041212,
          0.020176227688041212
         ]
        },
        {
         "hovertext": "<b>Topic 97</b>:cancel_account_profole_olne_rpofil",
         "line": {
          "color": "black",
          "width": 1.5
         },
         "mode": "lines+lines",
         "name": "",
         "opacity": 0.1,
         "type": "scatter",
         "x": [
          1,
          2,
          3,
          4,
          5,
          6,
          7,
          8,
          9,
          10
         ],
         "y": [
          0.11882387342078773,
          0.02893721301497177,
          0.027839666571113343,
          0.027839666571113343,
          0.024991952815228008,
          0.024991952815228008,
          0.024991952815228008,
          0.024991952815228008,
          0.02096296420419339,
          0.017340886996805107
         ]
        },
        {
         "hovertext": "<b>Topic 98</b>:mistake_purchase_modify_make_chang",
         "line": {
          "color": "black",
          "width": 1.5
         },
         "mode": "lines+lines",
         "name": "",
         "opacity": 0.1,
         "type": "scatter",
         "x": [
          1,
          2,
          3,
          4,
          5,
          6,
          7,
          8,
          9,
          10
         ],
         "y": [
          0.32928510913374387,
          0.09543651176589303,
          0.056694613756615164,
          0.04611114650672687,
          0.044964869925173304,
          0.024099383071827005,
          0.021357931946542612,
          0.01594345359584987,
          0.013737111981901138,
          0.010619620773130691
         ]
        },
        {
         "hovertext": "<b>Topic 99</b>:about_modify_order_change_informat",
         "line": {
          "color": "black",
          "width": 1.5
         },
         "mode": "lines+lines",
         "name": "",
         "opacity": 0.1,
         "type": "scatter",
         "x": [
          1,
          2,
          3,
          4,
          5,
          6,
          7,
          8,
          9,
          10
         ],
         "y": [
          0.0799575818112807,
          0.06026592800900038,
          0.05127693901983559,
          0.044610815831274304,
          0.04335860501221328,
          0.02663401171960843,
          0.02231783793935938,
          0.01770299990826254,
          0.014715565138366032,
          0.01438627242800386
         ]
        },
        {
         "hovertext": "<b>Topic 100</b>:purchase_about_modify_information",
         "line": {
          "color": "black",
          "width": 1.5
         },
         "mode": "lines+lines",
         "name": "",
         "opacity": 0.1,
         "type": "scatter",
         "x": [
          1,
          2,
          3,
          4,
          5,
          6,
          7,
          8,
          9,
          10
         ],
         "y": [
          0.08513794286928054,
          0.061978838440140675,
          0.05580876041666806,
          0.043019865910555365,
          0.0416586294894988,
          0.02642593350304899,
          0.02642593350304899,
          0.02642593350304899,
          0.023722830211329708,
          0.019449335760472364
         ]
        },
        {
         "hovertext": "<b>Topic 101</b>:credit_card_if_create_profile_car",
         "line": {
          "color": "black",
          "width": 1.5
         },
         "mode": "lines+lines",
         "name": "",
         "opacity": 0.1,
         "type": "scatter",
         "x": [
          1,
          2,
          3,
          4,
          5,
          6,
          7,
          8,
          9,
          10
         ],
         "y": [
          0.16411551307248032,
          0.04732533630340738,
          0.030255421978735812,
          0.02725241036688006,
          0.027118821909958495,
          0.026952346521038013,
          0.026952346521038013,
          0.022116698678016626,
          0.020558581929953794,
          0.019155995925695408
         ]
        },
        {
         "hovertext": "<b>Topic 102</b>:inform_try_when_make_of_payment_p",
         "line": {
          "color": "black",
          "width": 1.5
         },
         "mode": "lines+lines",
         "name": "",
         "opacity": 0.1,
         "type": "scatter",
         "x": [
          1,
          2,
          3,
          4,
          5,
          6,
          7,
          8,
          9,
          10
         ],
         "y": [
          0.043728203883893875,
          0.03887715298075626,
          0.02788500013151696,
          0.02771948692675375,
          0.025214487596900162,
          0.021872670692255236,
          0.018165219384303283,
          0.017213839635573897,
          0.016796549595254638,
          0.015483980875523114
         ]
        },
        {
         "hovertext": "<b>Topic 103</b>:cancel_profile_whyat_cancelo_dont",
         "line": {
          "color": "black",
          "width": 1.5
         },
         "mode": "lines+lines",
         "name": "",
         "opacity": 0.1,
         "type": "scatter",
         "x": [
          1,
          2,
          3,
          4,
          5,
          6,
          7,
          8,
          9,
          10
         ],
         "y": [
          0.1142674448684895,
          0.08619995837667592,
          0.029541654920439045,
          0.029541654920439045,
          0.029541654920439045,
          0.026519845127076003,
          0.02174248888506954,
          0.018073691026486604,
          0.015943767207198034,
          0.014172020549013729
         ]
        },
        {
         "hovertext": "<b>Topic 104</b>:card_notify_pay_with_problem_ppro",
         "line": {
          "color": "black",
          "width": 1.5
         },
         "mode": "lines+lines",
         "name": "",
         "opacity": 0.1,
         "type": "scatter",
         "x": [
          1,
          2,
          3,
          4,
          5,
          6,
          7,
          8,
          9,
          10
         ],
         "y": [
          0.06401289426345565,
          0.05991095728530776,
          0.03782154836557363,
          0.027472261037079015,
          0.024364952962563788,
          0.023088870227919937,
          0.021121087854954368,
          0.020768615986623152,
          0.020727114450854626,
          0.020727114450854626
         ]
        },
        {
         "hovertext": "<b>Topic 105</b>:track_order_ask_agent_plase_myt_f",
         "line": {
          "color": "black",
          "width": 1.5
         },
         "mode": "lines+lines",
         "name": "",
         "opacity": 0.1,
         "type": "scatter",
         "x": [
          1,
          2,
          3,
          4,
          5,
          6,
          7,
          8,
          9,
          10
         ],
         "y": [
          0.09777033320800167,
          0.03934436800209468,
          0.028520186513249324,
          0.026822219280523037,
          0.022550129922601806,
          0.020243481780334686,
          0.01795852132815379,
          0.016875802037028195,
          0.01608675135594763,
          0.01393263030435984
         ]
        },
        {
         "hovertext": "<b>Topic 106</b>:way_on_their_shipment_package_if_",
         "line": {
          "color": "black",
          "width": 1.5
         },
         "mode": "lines+lines",
         "name": "",
         "opacity": 0.1,
         "type": "scatter",
         "x": [
          1,
          2,
          3,
          4,
          5,
          6,
          7,
          8,
          9,
          10
         ],
         "y": [
          0.33118465529055696,
          0.2180751096209609,
          0.09083477258682103,
          0.05748020304643561,
          0.05634692706991066,
          0.03308980791574156,
          0.02652956461482565,
          0.02652956461482565,
          0.023815860918040804,
          0.023777914804201414
         ]
        },
        {
         "hovertext": "<b>Topic 107</b>:informing_inform_make_of_payment_",
         "line": {
          "color": "black",
          "width": 1.5
         },
         "mode": "lines+lines",
         "name": "",
         "opacity": 0.1,
         "type": "scatter",
         "x": [
          1,
          2,
          3,
          4,
          5,
          6,
          7,
          8,
          9,
          10
         ],
         "y": [
          0.071591979322435,
          0.05135015177202279,
          0.0419547134799751,
          0.03947925747243731,
          0.03310528922704288,
          0.026952346521038013,
          0.026952346521038013,
          0.02488671241345534,
          0.021331467782961723,
          0.020952956310022544
         ]
        },
        {
         "hovertext": "<b>Topic 108</b>:view_bill_whwre_receiove_where_my",
         "line": {
          "color": "black",
          "width": 1.5
         },
         "mode": "lines+lines",
         "name": "",
         "opacity": 0.1,
         "type": "scatter",
         "x": [
          1,
          2,
          3,
          4,
          5,
          6,
          7,
          8,
          9,
          10
         ],
         "y": [
          0.1443140320531966,
          0.10031697682046471,
          0.042547414948305294,
          0.042547414948305294,
          0.02126678508363109,
          0.019730899049475926,
          0.012600639793508617,
          0.007368626021937366,
          0.0071487283804016226,
          0.005859858151448586
         ]
        },
        {
         "hovertext": "<b>Topic 109</b>:error_for_message_order_attempt_m",
         "line": {
          "color": "black",
          "width": 1.5
         },
         "mode": "lines+lines",
         "name": "",
         "opacity": 0.1,
         "type": "scatter",
         "x": [
          1,
          2,
          3,
          4,
          5,
          6,
          7,
          8,
          9,
          10
         ],
         "y": [
          0.03477104374961733,
          0.033170484212716025,
          0.032972779359858234,
          0.028036366747335877,
          0.02687637386558433,
          0.025013380245780877,
          0.02342737421975665,
          0.021420807403534407,
          0.01973735771018471,
          0.01814574955040049
         ]
        },
        {
         "hovertext": "<b>Topic 110</b>:make_payment_try_repolrt_iut_prob",
         "line": {
          "color": "black",
          "width": 1.5
         },
         "mode": "lines+lines",
         "name": "",
         "opacity": 0.1,
         "type": "scatter",
         "x": [
          1,
          2,
          3,
          4,
          5,
          6,
          7,
          8,
          9,
          10
         ],
         "y": [
          0.04050799922204492,
          0.031963727529558644,
          0.028406652815421107,
          0.026952346521038013,
          0.026952346521038013,
          0.026664334728702156,
          0.022189764411758836,
          0.020374936351076536,
          0.018235057008053366,
          0.014220978521974481
         ]
        },
        {
         "hovertext": "<b>Topic 111</b>:notify_payment_noify_problem_issu",
         "line": {
          "color": "black",
          "width": 1.5
         },
         "mode": "lines+lines",
         "name": "",
         "opacity": 0.1,
         "type": "scatter",
         "x": [
          1,
          2,
          3,
          4,
          5,
          6,
          7,
          8,
          9,
          10
         ],
         "y": [
          0.08060469100069212,
          0.040933140866934795,
          0.03451550498357419,
          0.03414667355563388,
          0.029593783748216033,
          0.028922096105088172,
          0.02746019821698336,
          0.024074477872218607,
          0.011884151097963333,
          0.011598447066161815
         ]
        },
        {
         "hovertext": "<b>Topic 112</b>:support_speak_customer_informatio",
         "line": {
          "color": "black",
          "width": 1.5
         },
         "mode": "lines+lines",
         "name": "",
         "opacity": 0.1,
         "type": "scatter",
         "x": [
          1,
          2,
          3,
          4,
          5,
          6,
          7,
          8,
          9,
          10
         ],
         "y": [
          0.08964684931746486,
          0.05955122058727484,
          0.05299484020444404,
          0.04483425204812805,
          0.04321442276511162,
          0.02533722463213686,
          0.02533722463213686,
          0.02533722463213686,
          0.02533722463213686,
          0.02533722463213686
         ]
        },
        {
         "hovertext": "<b>Topic 113</b>:for_order_pay_try_have_shat_ayign",
         "line": {
          "color": "black",
          "width": 1.5
         },
         "mode": "lines+lines",
         "name": "",
         "opacity": 0.1,
         "type": "scatter",
         "x": [
          1,
          2,
          3,
          4,
          5,
          6,
          7,
          8,
          9,
          10
         ],
         "y": [
          0.04321548053707963,
          0.0365266015934566,
          0.031966481743595405,
          0.02448513000230322,
          0.021818354537345493,
          0.021682817233270965,
          0.021682817233270965,
          0.021451115438795645,
          0.01859096671362289,
          0.017562187582830395
         ]
        },
        {
         "hovertext": "<b>Topic 114</b>:inform_where_of_payment_pazyment_",
         "line": {
          "color": "black",
          "width": 1.5
         },
         "mode": "lines+lines",
         "name": "",
         "opacity": 0.1,
         "type": "scatter",
         "x": [
          1,
          2,
          3,
          4,
          5,
          6,
          7,
          8,
          9,
          10
         ],
         "y": [
          0.07899837116082525,
          0.04835912515716773,
          0.045672742897013945,
          0.038298829821042955,
          0.03349029196426011,
          0.03349029196426011,
          0.03349029196426011,
          0.03313241592526851,
          0.030064576901487155,
          0.030064576901487155
         ]
        },
        {
         "hovertext": "<b>Topic 115</b>:request_refund_one_nedea_ned_shou",
         "line": {
          "color": "black",
          "width": 1.5
         },
         "mode": "lines+lines",
         "name": "",
         "opacity": 0.1,
         "type": "scatter",
         "x": [
          1,
          2,
          3,
          4,
          5,
          6,
          7,
          8,
          9,
          10
         ],
         "y": [
          0.12550257748779672,
          0.10749392897065183,
          0.049023595666656566,
          0.03717054382846452,
          0.024058306151504467,
          0.01754985642404761,
          0.016663586534827902,
          0.015248638869543009,
          0.012485028889583857,
          0.01109187435809911
         ]
        },
        {
         "hovertext": "<b>Topic 116</b>:error_attempt_message_when_make_g",
         "line": {
          "color": "black",
          "width": 1.5
         },
         "mode": "lines+lines",
         "name": "",
         "opacity": 0.1,
         "type": "scatter",
         "x": [
          1,
          2,
          3,
          4,
          5,
          6,
          7,
          8,
          9,
          10
         ],
         "y": [
          0.04538843067316263,
          0.04197979247122558,
          0.036266081478397126,
          0.03171358375086029,
          0.03152534574274213,
          0.02692606314183367,
          0.024875767279262627,
          0.021752536902831323,
          0.021752536902831323,
          0.01965108825908323
         ]
        },
        {
         "hovertext": "<b>Topic 117</b>:informing_inform_of_payment_issue",
         "line": {
          "color": "black",
          "width": 1.5
         },
         "mode": "lines+lines",
         "name": "",
         "opacity": 0.1,
         "type": "scatter",
         "x": [
          1,
          2,
          3,
          4,
          5,
          6,
          7,
          8,
          9,
          10
         ],
         "y": [
          0.07582104139211471,
          0.04920411368309759,
          0.03748605183546136,
          0.03264288448882142,
          0.02854446825645798,
          0.02854446825645798,
          0.02854446825645798,
          0.026356813568680554,
          0.025624660481436308,
          0.025360781356555315
         ]
        },
        {
         "hovertext": "<b>Topic 118</b>:modify_purchase_in_modification_m",
         "line": {
          "color": "black",
          "width": 1.5
         },
         "mode": "lines+lines",
         "name": "",
         "opacity": 0.1,
         "type": "scatter",
         "x": [
          1,
          2,
          3,
          4,
          5,
          6,
          7,
          8,
          9,
          10
         ],
         "y": [
          0.08873939544513679,
          0.08822690571401307,
          0.06017976219772315,
          0.04329591264939935,
          0.029413212942524095,
          0.029413212942524095,
          0.029413212942524095,
          0.029413212942524095,
          0.021605934748434797,
          0.01647315670266461
         ]
        },
        {
         "hovertext": "<b>Topic 119</b>:mistake_modify_order_make_change_",
         "line": {
          "color": "black",
          "width": 1.5
         },
         "mode": "lines+lines",
         "name": "",
         "opacity": 0.1,
         "type": "scatter",
         "x": [
          1,
          2,
          3,
          4,
          5,
          6,
          7,
          8,
          9,
          10
         ],
         "y": [
          0.32870538182893094,
          0.06707531768388274,
          0.051592906073655,
          0.04432515139555083,
          0.034422153944374596,
          0.031760746369861696,
          0.031760746369861696,
          0.031760746369861696,
          0.031760746369861696,
          0.02851194616948547
         ]
        },
        {
         "hovertext": "<b>Topic 120</b>:purchase_modify_where_change_tell",
         "line": {
          "color": "black",
          "width": 1.5
         },
         "mode": "lines+lines",
         "name": "",
         "opacity": 0.1,
         "type": "scatter",
         "x": [
          1,
          2,
          3,
          4,
          5,
          6,
          7,
          8,
          9,
          10
         ],
         "y": [
          0.08526129543791179,
          0.05574176310524349,
          0.04262292640710937,
          0.039208121872469456,
          0.02409194404722044,
          0.017677040357902747,
          0.012306843881176902,
          0.012272493425007268,
          0.008482021567958143,
          0.00767670839645584
         ]
        },
        {
         "hovertext": "<b>Topic 121</b>:report_payment_wit_help_problem_n",
         "line": {
          "color": "black",
          "width": 1.5
         },
         "mode": "lines+lines",
         "name": "",
         "opacity": 0.1,
         "type": "scatter",
         "x": [
          1,
          2,
          3,
          4,
          5,
          6,
          7,
          8,
          9,
          10
         ],
         "y": [
          0.08171385610234905,
          0.04071770328342461,
          0.03560546829884496,
          0.03427042428050304,
          0.03287665692514363,
          0.031963392284738976,
          0.03052832428763338,
          0.029664493168661432,
          0.027158968760096856,
          0.025083082889267264
         ]
        },
        {
         "hovertext": "<b>Topic 122</b>:error_message_attempt_pay_when_ge",
         "line": {
          "color": "black",
          "width": 1.5
         },
         "mode": "lines+lines",
         "name": "",
         "opacity": 0.1,
         "type": "scatter",
         "x": [
          1,
          2,
          3,
          4,
          5,
          6,
          7,
          8,
          9,
          10
         ],
         "y": [
          0.049355950836900614,
          0.04246974684156565,
          0.036519483800143096,
          0.034872525538467716,
          0.03320850015662474,
          0.029279739989896057,
          0.026711050911603515,
          0.0236539824362956,
          0.0236539824362956,
          0.021234421447903513
         ]
        },
        {
         "hovertext": "<b>Topic 123</b>:track_shipment_rder_tell_apckage_",
         "line": {
          "color": "black",
          "width": 1.5
         },
         "mode": "lines+lines",
         "name": "",
         "opacity": 0.1,
         "type": "scatter",
         "x": [
          1,
          2,
          3,
          4,
          5,
          6,
          7,
          8,
          9,
          10
         ],
         "y": [
          0.08749284083761036,
          0.0811485219479091,
          0.037247050868710996,
          0.029099289280564298,
          0.023408439366022635,
          0.023408439366022635,
          0.023408439366022635,
          0.023408439366022635,
          0.023408439366022635,
          0.023408439366022635
         ]
        },
        {
         "hovertext": "<b>Topic 124</b>:charge_but_anyway_error_message_p",
         "line": {
          "color": "black",
          "width": 1.5
         },
         "mode": "lines+lines",
         "name": "",
         "opacity": 0.1,
         "type": "scatter",
         "x": [
          1,
          2,
          3,
          4,
          5,
          6,
          7,
          8,
          9,
          10
         ],
         "y": [
          0.04852178723683615,
          0.04649724255247126,
          0.044827507935925645,
          0.035865420739098305,
          0.03433758272716107,
          0.025340770048279677,
          0.02526171856535844,
          0.024095877422353047,
          0.02209500168102974,
          0.020156624170761493
         ]
        },
        {
         "hovertext": "<b>Topic 125</b>:card_pay_with_issue_tryng_have_no",
         "line": {
          "color": "black",
          "width": 1.5
         },
         "mode": "lines+lines",
         "name": "",
         "opacity": 0.1,
         "type": "scatter",
         "x": [
          1,
          2,
          3,
          4,
          5,
          6,
          7,
          8,
          9,
          10
         ],
         "y": [
          0.061806112610773775,
          0.036517687636114064,
          0.0274398432647788,
          0.02714422516361669,
          0.025722581660762515,
          0.024314682000830232,
          0.023091424084031958,
          0.023091424084031958,
          0.021554109644856587,
          0.01742819899783712
         ]
        },
        {
         "hovertext": "<b>Topic 126</b>:user_no_opn_opdn_have_account_cqn",
         "line": {
          "color": "black",
          "width": 1.5
         },
         "mode": "lines+lines",
         "name": "",
         "opacity": 0.1,
         "type": "scatter",
         "x": [
          1,
          2,
          3,
          4,
          5,
          6,
          7,
          8,
          9,
          10
         ],
         "y": [
          0.07983422127817753,
          0.06389329866195301,
          0.03191056121122897,
          0.03191056121122897,
          0.030163968708577127,
          0.02973736366763039,
          0.024340585209520767,
          0.021269245086999965,
          0.019522996438987885,
          0.015708975137302798
         ]
        },
        {
         "hovertext": "<b>Topic 127</b>:track_refund_human_xhould_contact",
         "line": {
          "color": "black",
          "width": 1.5
         },
         "mode": "lines+lines",
         "name": "",
         "opacity": 0.1,
         "type": "scatter",
         "x": [
          1,
          2,
          3,
          4,
          5,
          6,
          7,
          8,
          9,
          10
         ],
         "y": [
          0.08554275164879199,
          0.06128362193388553,
          0.04449676090523055,
          0.033656910332241496,
          0.02916999415351511,
          0.01619746421217805,
          0.014255597859008375,
          0.013242428976686007,
          0.012886743562054923,
          0.009763281298096105
         ]
        },
        {
         "hovertext": "<b>Topic 128</b>:profile_no_prfofile_have_get_not_",
         "line": {
          "color": "black",
          "width": 1.5
         },
         "mode": "lines+lines",
         "name": "",
         "opacity": 0.1,
         "type": "scatter",
         "x": [
          1,
          2,
          3,
          4,
          5,
          6,
          7,
          8,
          9,
          10
         ],
         "y": [
          0.09229592270372315,
          0.07652756675894938,
          0.03822055919085052,
          0.036128595289369216,
          0.0218357382975496,
          0.021584747040758447,
          0.01804561508009415,
          0.017769976897313022,
          0.017505972711126826,
          0.007074511748474117
         ]
        },
        {
         "hovertext": "<b>Topic 129</b>:invoice_see_tedlo_some_possible_a",
         "line": {
          "color": "black",
          "width": 1.5
         },
         "mode": "lines+lines",
         "name": "",
         "opacity": 0.1,
         "type": "scatter",
         "x": [
          1,
          2,
          3,
          4,
          5,
          6,
          7,
          8,
          9,
          10
         ],
         "y": [
          0.08888277444251838,
          0.07832121435663777,
          0.04392882452454897,
          0.0426666717390761,
          0.04115900260604924,
          0.03680994049738495,
          0.027395782527643173,
          0.020551662424055765,
          0.015610892783602427,
          0.013487510823769751
         ]
        },
        {
         "hovertext": "<b>Topic 130</b>:error_for_attempt_message_order_p",
         "line": {
          "color": "black",
          "width": 1.5
         },
         "mode": "lines+lines",
         "name": "",
         "opacity": 0.1,
         "type": "scatter",
         "x": [
          1,
          2,
          3,
          4,
          5,
          6,
          7,
          8,
          9,
          10
         ],
         "y": [
          0.038783937628732765,
          0.035722843173931866,
          0.033575529369172116,
          0.03089363526075738,
          0.03019367236423924,
          0.027402852797015514,
          0.02709892446015372,
          0.02293724438377614,
          0.020074299634363624,
          0.020074299634363624
         ]
        },
        {
         "hovertext": "<b>Topic 131</b>:fuck_two_create_same_single_email",
         "line": {
          "color": "black",
          "width": 1.5
         },
         "mode": "lines+lines",
         "name": "",
         "opacity": 0.1,
         "type": "scatter",
         "x": [
          1,
          2,
          3,
          4,
          5,
          6,
          7,
          8,
          9,
          10
         ],
         "y": [
          0.07015047393810075,
          0.04815781827147655,
          0.042752218763043096,
          0.039632335579509535,
          0.03911022278116222,
          0.03428654403144682,
          0.02975904517212963,
          0.029701154895843143,
          0.026368440682856556,
          0.02348548340410492
         ]
        },
        {
         "hovertext": "<b>Topic 132</b>:know_order_where_may_be_ell_how_t",
         "line": {
          "color": "black",
          "width": 1.5
         },
         "mode": "lines+lines",
         "name": "",
         "opacity": 0.1,
         "type": "scatter",
         "x": [
          1,
          2,
          3,
          4,
          5,
          6,
          7,
          8,
          9,
          10
         ],
         "y": [
          0.07512742152108667,
          0.048919555705522234,
          0.0451578369163641,
          0.027253513637486935,
          0.02513000777135014,
          0.024808673386626935,
          0.01730473432467412,
          0.014702263290355039,
          0.013002374622292244,
          0.00844912166457722
         ]
        },
        {
         "hovertext": "<b>Topic 133</b>:available_any_there_penalty_perso",
         "line": {
          "color": "black",
          "width": 1.5
         },
         "mode": "lines+lines",
         "name": "",
         "opacity": 0.1,
         "type": "scatter",
         "x": [
          1,
          2,
          3,
          4,
          5,
          6,
          7,
          8,
          9,
          10
         ],
         "y": [
          0.3234993363155024,
          0.2545779894455244,
          0.14984824842408095,
          0.06500693257795226,
          0.04769154521657927,
          0.046659940868476024,
          0.035793857020002866,
          0.035793857020002866,
          0.035793857020002866,
          0.035793857020002866
         ]
        },
        {
         "hovertext": "<b>Topic 134</b>:mail_client_of_the_service_about_",
         "line": {
          "color": "black",
          "width": 1.5
         },
         "mode": "lines+lines",
         "name": "",
         "opacity": 0.1,
         "type": "scatter",
         "x": [
          1,
          2,
          3,
          4,
          5,
          6,
          7,
          8,
          9,
          10
         ],
         "y": [
          0.13041690800235856,
          0.08019570139535831,
          0.03254283620880711,
          0.030975508262570943,
          0.030389032862432806,
          0.02770355699165653,
          0.026845392765002148,
          0.026845392765002148,
          0.026845392765002148,
          0.024099383071827005
         ]
        },
        {
         "hovertext": "<b>Topic 135</b>:update_on_profile_information_agn",
         "line": {
          "color": "black",
          "width": 1.5
         },
         "mode": "lines+lines",
         "name": "",
         "opacity": 0.1,
         "type": "scatter",
         "x": [
          1,
          2,
          3,
          4,
          5,
          6,
          7,
          8,
          9,
          10
         ],
         "y": [
          0.40046775694010905,
          0.1491952884114135,
          0.09961206291804266,
          0.032116633723256606,
          0.0314646589293805,
          0.01583118393036168,
          0.013140381459624725,
          0.012706428798091909,
          0.012465753325180991,
          0.0076352962163409675
         ]
        },
        {
         "hovertext": "<b>Topic 136</b>:create_online_one_no_accounmt_acc",
         "line": {
          "color": "black",
          "width": 1.5
         },
         "mode": "lines+lines",
         "name": "",
         "opacity": 0.1,
         "type": "scatter",
         "x": [
          1,
          2,
          3,
          4,
          5,
          6,
          7,
          8,
          9,
          10
         ],
         "y": [
          0.08462294847942552,
          0.0655273031869903,
          0.06036346090140508,
          0.03759621539030066,
          0.03487133493185846,
          0.03487133493185846,
          0.031304353268558786,
          0.024997308079054887,
          0.021720801753730104,
          0.013823062481017388
         ]
        },
        {
         "hovertext": "<b>Topic 137</b>:card_error_message_attempt_pay_wh",
         "line": {
          "color": "black",
          "width": 1.5
         },
         "mode": "lines+lines",
         "name": "",
         "opacity": 0.1,
         "type": "scatter",
         "x": [
          1,
          2,
          3,
          4,
          5,
          6,
          7,
          8,
          9,
          10
         ],
         "y": [
          0.04903471377566668,
          0.04100450817531903,
          0.036858664509089895,
          0.03128820698127728,
          0.02776464209538134,
          0.02506916188294221,
          0.023155872802466813,
          0.022107970512354712,
          0.022107970512354712,
          0.021636533178505852
         ]
        },
        {
         "hovertext": "<b>Topic 138</b>:package_know_where_cantrack_wasn_",
         "line": {
          "color": "black",
          "width": 1.5
         },
         "mode": "lines+lines",
         "name": "",
         "opacity": 0.1,
         "type": "scatter",
         "x": [
          1,
          2,
          3,
          4,
          5,
          6,
          7,
          8,
          9,
          10
         ],
         "y": [
          0.14886248975902072,
          0.08121883407685046,
          0.03892524176718664,
          0.030473148544056493,
          0.030473148544056493,
          0.027356056459911734,
          0.02424413896634567,
          0.020719804605711392,
          0.01877346236835201,
          0.017218866916632027
         ]
        },
        {
         "hovertext": "<b>Topic 139</b>:invoice_obtain_where_telo_gt_know",
         "line": {
          "color": "black",
          "width": 1.5
         },
         "mode": "lines+lines",
         "name": "",
         "opacity": 0.1,
         "type": "scatter",
         "x": [
          1,
          2,
          3,
          4,
          5,
          6,
          7,
          8,
          9,
          10
         ],
         "y": [
          0.0758609125482892,
          0.05779957439272552,
          0.05205664862840623,
          0.040753246848075554,
          0.034148980943357124,
          0.03258538764770025,
          0.02134246107697243,
          0.02086446545179705,
          0.01726442850524005,
          0.01611934890870251
         ]
        },
        {
         "hovertext": "<b>Topic 140</b>:bill_check_ask_agent_hw_hwere_sak",
         "line": {
          "color": "black",
          "width": 1.5
         },
         "mode": "lines+lines",
         "name": "",
         "opacity": 0.1,
         "type": "scatter",
         "x": [
          1,
          2,
          3,
          4,
          5,
          6,
          7,
          8,
          9,
          10
         ],
         "y": [
          0.05548384516522072,
          0.054700351406709966,
          0.02751947821453882,
          0.02705750190579078,
          0.024862854546479306,
          0.022632473966747377,
          0.02183785067842511,
          0.018162998308622023,
          0.016215327151773245,
          0.016026812266285
         ]
        },
        {
         "hovertext": "<b>Topic 141</b>:but_anyway_charge_inform_error_at",
         "line": {
          "color": "black",
          "width": 1.5
         },
         "mode": "lines+lines",
         "name": "",
         "opacity": 0.1,
         "type": "scatter",
         "x": [
          1,
          2,
          3,
          4,
          5,
          6,
          7,
          8,
          9,
          10
         ],
         "y": [
          0.04466297116582832,
          0.042903094716454086,
          0.042866567279162944,
          0.030434210377279152,
          0.030245060782208462,
          0.028772926630415772,
          0.028287425123858616,
          0.023900723330751234,
          0.023404904906850387,
          0.023145318290980883
         ]
        },
        {
         "hovertext": "<b>Topic 142</b>:track_reimbursement_reimbursemenn",
         "line": {
          "color": "black",
          "width": 1.5
         },
         "mode": "lines+lines",
         "name": "",
         "opacity": 0.1,
         "type": "scatter",
         "x": [
          1,
          2,
          3,
          4,
          5,
          6,
          7,
          8,
          9,
          10
         ],
         "y": [
          0.145391228261899,
          0.09636630368508538,
          0.04228149360487839,
          0.04228149360487839,
          0.026336472126397753,
          0.014874716567902329,
          0.014089245117905599,
          0.01168047982857804,
          0.011241404941746714,
          0.00924273647651075
         ]
        },
        {
         "hovertext": "<b>Topic 143</b>:client_email_of_service_the_yoush",
         "line": {
          "color": "black",
          "width": 1.5
         },
         "mode": "lines+lines",
         "name": "",
         "opacity": 0.1,
         "type": "scatter",
         "x": [
          1,
          2,
          3,
          4,
          5,
          6,
          7,
          8,
          9,
          10
         ],
         "y": [
          0.07844966840295303,
          0.05323817807414527,
          0.03316073816213889,
          0.03096603981551697,
          0.02979922313867585,
          0.02854446825645798,
          0.024101138188368627,
          0.018183410577493956,
          0.012903252170438176,
          0.01143528580200574
         ]
        },
        {
         "hovertext": "<b>Topic 144</b>:inform_of_havr_payment_awnna_issu",
         "line": {
          "color": "black",
          "width": 1.5
         },
         "mode": "lines+lines",
         "name": "",
         "opacity": 0.1,
         "type": "scatter",
         "x": [
          1,
          2,
          3,
          4,
          5,
          6,
          7,
          8,
          9,
          10
         ],
         "y": [
          0.05557638286087131,
          0.03094131867884613,
          0.02663401171960843,
          0.025945809762112214,
          0.023909624150001595,
          0.022836148089174575,
          0.017566267760903517,
          0.016766791964181967,
          0.016025078748989556,
          0.014206060587867764
         ]
        },
        {
         "hovertext": "<b>Topic 145</b>:their_option_optiond_assk_ib_paym",
         "line": {
          "color": "black",
          "width": 1.5
         },
         "mode": "lines+lines",
         "name": "",
         "opacity": 0.1,
         "type": "scatter",
         "x": [
          1,
          2,
          3,
          4,
          5,
          6,
          7,
          8,
          9,
          10
         ],
         "y": [
          0.1700651028607883,
          0.09940947222141773,
          0.029801933818416487,
          0.029801933818416487,
          0.029801933818416487,
          0.027769619795189247,
          0.026384313514459724,
          0.02599510238640999,
          0.02439944063120277,
          0.02371012709484026
         ]
        },
        {
         "hovertext": "<b>Topic 146</b>:check_order_where_nills_bklls_ny_",
         "line": {
          "color": "black",
          "width": 1.5
         },
         "mode": "lines+lines",
         "name": "",
         "opacity": 0.1,
         "type": "scatter",
         "x": [
          1,
          2,
          3,
          4,
          5,
          6,
          7,
          8,
          9,
          10
         ],
         "y": [
          0.07161752325275562,
          0.051196314901879876,
          0.04489654628766564,
          0.042547414948305294,
          0.042547414948305294,
          0.03819524864214092,
          0.02556757297240906,
          0.021363163718948273,
          0.01923314946159653,
          0.018899980256877152
         ]
        },
        {
         "hovertext": "<b>Topic 147</b>:support_customer_colud_cutomer_as",
         "line": {
          "color": "black",
          "width": 1.5
         },
         "mode": "lines+lines",
         "name": "",
         "opacity": 0.1,
         "type": "scatter",
         "x": [
          1,
          2,
          3,
          4,
          5,
          6,
          7,
          8,
          9,
          10
         ],
         "y": [
          0.07842630657851611,
          0.048679893352935405,
          0.02785800245000186,
          0.02785800245000186,
          0.02747357416413926,
          0.027068294686766366,
          0.02689526983879146,
          0.02646387816120368,
          0.02283958694807764,
          0.02279268333830617
         ]
        },
        {
         "hovertext": "<b>Topic 148</b>:soon_expect_ticket_arrive_sono_kn",
         "line": {
          "color": "black",
          "width": 1.5
         },
         "mode": "lines+lines",
         "name": "",
         "opacity": 0.1,
         "type": "scatter",
         "x": [
          1,
          2,
          3,
          4,
          5,
          6,
          7,
          8,
          9,
          10
         ],
         "y": [
          0.3654603019584755,
          0.35142851048500373,
          0.14771700550030348,
          0.14719658265331964,
          0.06073044534100405,
          0.030365222670502026,
          0.02083854322887073,
          0.017201648049715395,
          0.015025484304217336,
          0.011899773254321861
         ]
        },
        {
         "hovertext": "<b>Topic 149</b>:request_bill_some_somr_osme_hlp_k",
         "line": {
          "color": "black",
          "width": 1.5
         },
         "mode": "lines+lines",
         "name": "",
         "opacity": 0.1,
         "type": "scatter",
         "x": [
          1,
          2,
          3,
          4,
          5,
          6,
          7,
          8,
          9,
          10
         ],
         "y": [
          0.1283556373591668,
          0.08345036502211309,
          0.050979316405482304,
          0.04665544121917615,
          0.04665544121917615,
          0.03909469542480884,
          0.029014728311592096,
          0.02612983476974386,
          0.021090143202716193,
          0.010773439425177389
         ]
        },
        {
         "hovertext": "<b>Topic 150</b>:create_one_no_ivge_prfoile_onee_a",
         "line": {
          "color": "black",
          "width": 1.5
         },
         "mode": "lines+lines",
         "name": "",
         "opacity": 0.1,
         "type": "scatter",
         "x": [
          1,
          2,
          3,
          4,
          5,
          6,
          7,
          8,
          9,
          10
         ],
         "y": [
          0.07722981453969074,
          0.05996165599013101,
          0.0504170446017396,
          0.036371177294519046,
          0.036371177294519046,
          0.036371177294519046,
          0.02777246755406106,
          0.026072461114713164,
          0.022180927388894732,
          0.02054032379685078
         ]
        },
        {
         "hovertext": "<b>Topic 151</b>:customer_talk_information_speak_s",
         "line": {
          "color": "black",
          "width": 1.5
         },
         "mode": "lines+lines",
         "name": "",
         "opacity": 0.1,
         "type": "scatter",
         "x": [
          1,
          2,
          3,
          4,
          5,
          6,
          7,
          8,
          9,
          10
         ],
         "y": [
          0.0647086387252434,
          0.06449225592537237,
          0.0613135734716717,
          0.0545356642801911,
          0.03703075935427076,
          0.03703075935427076,
          0.03703075935427076,
          0.0369671466832643,
          0.03281828567395573,
          0.02617524356004339
         ]
        },
        {
         "hovertext": "<b>Topic 152</b>:out_delivery_for_package_if_shipm",
         "line": {
          "color": "black",
          "width": 1.5
         },
         "mode": "lines+lines",
         "name": "",
         "opacity": 0.1,
         "type": "scatter",
         "x": [
          1,
          2,
          3,
          4,
          5,
          6,
          7,
          8,
          9,
          10
         ],
         "y": [
          0.36933377258490263,
          0.09557663373133153,
          0.05185857664449556,
          0.051579110163995134,
          0.03894415854698815,
          0.0375832096842079,
          0.03469250757323355,
          0.03114381812359182,
          0.02773935563855508,
          0.022516486963129724
         ]
        },
        {
         "hovertext": "<b>Topic 153</b>:arrive_go_will_ticket_when_gtoiin",
         "line": {
          "color": "black",
          "width": 1.5
         },
         "mode": "lines+lines",
         "name": "",
         "opacity": 0.1,
         "type": "scatter",
         "x": [
          1,
          2,
          3,
          4,
          5,
          6,
          7,
          8,
          9,
          10
         ],
         "y": [
          0.29736683364307,
          0.20157943870360534,
          0.15600163041467377,
          0.149209096464953,
          0.04058816685809691,
          0.035793857020002866,
          0.024270402892014667,
          0.02421692756095976,
          0.019079980068847407,
          0.01327502632746877
         ]
        },
        {
         "hovertext": "<b>Topic 154</b>:sign_up_signing_find_while_issuea",
         "line": {
          "color": "black",
          "width": 1.5
         },
         "mode": "lines+lines",
         "name": "",
         "opacity": 0.1,
         "type": "scatter",
         "x": [
          1,
          2,
          3,
          4,
          5,
          6,
          7,
          8,
          9,
          10
         ],
         "y": [
          0.5756473928748274,
          0.3714784551735828,
          0.1478799348677552,
          0.09426652991566471,
          0.08861068777337675,
          0.05882642588504819,
          0.05882642588504819,
          0.03879853922843038,
          0.0354289185424631,
          0.031038831382744304
         ]
        },
        {
         "hovertext": "<b>Topic 155</b>:visa_withvisa_view_wan_bill_if_wi",
         "line": {
          "color": "black",
          "width": 1.5
         },
         "mode": "lines+lines",
         "name": "",
         "opacity": 0.1,
         "type": "scatter",
         "x": [
          1,
          2,
          3,
          4,
          5,
          6,
          7,
          8,
          9,
          10
         ],
         "y": [
          0.2954891344497665,
          0.041503306606015596,
          0.038833816114166725,
          0.034777489795075354,
          0.026994540832585387,
          0.0258831319586322,
          0.018731351242332484,
          0.015594337123824043,
          0.014748941648311495,
          0.012305054616440523
         ]
        },
        {
         "hovertext": "<b>Topic 156</b>:card_inform_of_makinv_mask_make_a",
         "line": {
          "color": "black",
          "width": 1.5
         },
         "mode": "lines+lines",
         "name": "",
         "opacity": 0.1,
         "type": "scatter",
         "x": [
          1,
          2,
          3,
          4,
          5,
          6,
          7,
          8,
          9,
          10
         ],
         "y": [
          0.04903471377566668,
          0.04573088212899658,
          0.02679998276019409,
          0.02652956461482565,
          0.02652956461482565,
          0.025632372616974642,
          0.023815860918040804,
          0.02247309694655244,
          0.021769770071302638,
          0.01924711847998605
         ]
        },
        {
         "hovertext": "<b>Topic 157</b>:customer_call_available_suppoet_s",
         "line": {
          "color": "black",
          "width": 1.5
         },
         "mode": "lines+lines",
         "name": "",
         "opacity": 0.1,
         "type": "scatter",
         "x": [
          1,
          2,
          3,
          4,
          5,
          6,
          7,
          8,
          9,
          10
         ],
         "y": [
          0.04824889166495775,
          0.03456379961508592,
          0.034138120917716334,
          0.03399517073759066,
          0.03399517073759066,
          0.030517811729147765,
          0.030517811729147765,
          0.028663504033416408,
          0.027258504351478672,
          0.026957004302033204
         ]
        },
        {
         "hovertext": "<b>Topic 158</b>:about_email_customer_information_",
         "line": {
          "color": "black",
          "width": 1.5
         },
         "mode": "lines+lines",
         "name": "",
         "opacity": 0.1,
         "type": "scatter",
         "x": [
          1,
          2,
          3,
          4,
          5,
          6,
          7,
          8,
          9,
          10
         ],
         "y": [
          0.05265765417866275,
          0.04791132790420516,
          0.04413481701368233,
          0.03972823766640237,
          0.03568437262527373,
          0.03332303725191105,
          0.030028658665025108,
          0.02958692942222009,
          0.029541654920439045,
          0.02786767205725279
         ]
        },
        {
         "hovertext": "<b>Topic 159</b>:notify_anb_havean_make_makinga_ap",
         "line": {
          "color": "black",
          "width": 1.5
         },
         "mode": "lines+lines",
         "name": "",
         "opacity": 0.1,
         "type": "scatter",
         "x": [
          1,
          2,
          3,
          4,
          5,
          6,
          7,
          8,
          9,
          10
         ],
         "y": [
          0.08486623389498939,
          0.05164151890672169,
          0.05164151890672169,
          0.04989507646815675,
          0.04635911858091912,
          0.04635911858091912,
          0.041558074315284944,
          0.03800786224947271,
          0.03405978634556865,
          0.02976549045152465
         ]
        },
        {
         "hovertext": "<b>Topic 160</b>:invoice_some_vie_need_help_obtain",
         "line": {
          "color": "black",
          "width": 1.5
         },
         "mode": "lines+lines",
         "name": "",
         "opacity": 0.1,
         "type": "scatter",
         "x": [
          1,
          2,
          3,
          4,
          5,
          6,
          7,
          8,
          9,
          10
         ],
         "y": [
          0.11558711023058169,
          0.09125927010857943,
          0.07516709974200601,
          0.05295317498845311,
          0.04173961931599729,
          0.03876658322906035,
          0.036139477262154,
          0.03190864288603761,
          0.018799563047554733,
          0.01789317443826981
         ]
        },
        {
         "hovertext": "<b>Topic 161</b>:notify_propblem_payment_problem_i",
         "line": {
          "color": "black",
          "width": 1.5
         },
         "mode": "lines+lines",
         "name": "",
         "opacity": 0.1,
         "type": "scatter",
         "x": [
          1,
          2,
          3,
          4,
          5,
          6,
          7,
          8,
          9,
          10
         ],
         "y": [
          0.11344363918615928,
          0.06903100996714838,
          0.055552119747982937,
          0.040976008266760656,
          0.040976008266760656,
          0.025937519910033863,
          0.015488405286636692,
          0.014161457571893299,
          0.005519375349870993,
          0.004266972748114961
         ]
        },
        {
         "hovertext": "<b>Topic 162</b>:notify_notifying_inotify_payment_",
         "line": {
          "color": "black",
          "width": 1.5
         },
         "mode": "lines+lines",
         "name": "",
         "opacity": 0.1,
         "type": "scatter",
         "x": [
          1,
          2,
          3,
          4,
          5,
          6,
          7,
          8,
          9,
          10
         ],
         "y": [
          0.07535769652477725,
          0.051250295278640466,
          0.04600791313712428,
          0.041243240418957036,
          0.0341505976221796,
          0.033801757661132525,
          0.032822215901933745,
          0.030421581895019274,
          0.02523314258264624,
          0.01415815736797338
         ]
        },
        {
         "hovertext": "<b>Topic 163</b>:modify_order_change_knolw_possibe",
         "line": {
          "color": "black",
          "width": 1.5
         },
         "mode": "lines+lines",
         "name": "",
         "opacity": 0.1,
         "type": "scatter",
         "x": [
          1,
          2,
          3,
          4,
          5,
          6,
          7,
          8,
          9,
          10
         ],
         "y": [
          0.056694613756615164,
          0.05370280115228441,
          0.05091610270938742,
          0.04697943733875376,
          0.04697943733875376,
          0.041017574395554646,
          0.02200863333795688,
          0.021236602530512832,
          0.020868728200301855,
          0.01725484839319092
         ]
        },
        {
         "hovertext": "<b>Topic 164</b>:client_talk_sdpeak_couldspeak_mak",
         "line": {
          "color": "black",
          "width": 1.5
         },
         "mode": "lines+lines",
         "name": "",
         "opacity": 0.1,
         "type": "scatter",
         "x": [
          1,
          2,
          3,
          4,
          5,
          6,
          7,
          8,
          9,
          10
         ],
         "y": [
          0.07999521214186991,
          0.040063371105155565,
          0.03523457800406532,
          0.03523457800406532,
          0.03523457800406532,
          0.029914204223957293,
          0.028223101237069642,
          0.026542821163017587,
          0.02513554899366817,
          0.019411704442339788
         ]
        },
        {
         "hovertext": "<b>Topic 165</b>:card_inform_try_when_mazke_of_mak",
         "line": {
          "color": "black",
          "width": 1.5
         },
         "mode": "lines+lines",
         "name": "",
         "opacity": 0.1,
         "type": "scatter",
         "x": [
          1,
          2,
          3,
          4,
          5,
          6,
          7,
          8,
          9,
          10
         ],
         "y": [
          0.04124534518109463,
          0.038359785996362264,
          0.03359903950316053,
          0.02409922407199504,
          0.02348971866937688,
          0.022542693832142427,
          0.02143447825898632,
          0.021086960187848627,
          0.018903151858688638,
          0.01831155138810092
         ]
        },
        {
         "hovertext": "<b>Topic 166</b>:invoice_check_chdck_iwanna_where_",
         "line": {
          "color": "black",
          "width": 1.5
         },
         "mode": "lines+lines",
         "name": "",
         "opacity": 0.1,
         "type": "scatter",
         "x": [
          1,
          2,
          3,
          4,
          5,
          6,
          7,
          8,
          9,
          10
         ],
         "y": [
          0.09457127200683957,
          0.08873132101705049,
          0.061500354334368554,
          0.061500354334368554,
          0.020493447444226324,
          0.02049035857330776,
          0.018685594366290526,
          0.012426182973358011,
          0.007877331816464099,
          0.007058465500608524
         ]
        },
        {
         "hovertext": "<b>Topic 167</b>:purchase_tp_make_where_id_like_be",
         "line": {
          "color": "black",
          "width": 1.5
         },
         "mode": "lines+lines",
         "name": "",
         "opacity": 0.1,
         "type": "scatter",
         "x": [
          1,
          2,
          3,
          4,
          5,
          6,
          7,
          8,
          9,
          10
         ],
         "y": [
          0.1472132791028015,
          0.06974266986371692,
          0.05615339361966095,
          0.030986655929414374,
          0.019266770851262743,
          0.009271261807626155,
          0.008621924315778686,
          0.008052312972426399,
          0.008004445413061213,
          0.007881625681427444
         ]
        },
        {
         "hovertext": "<b>Topic 168</b>:through_go_fail_will_paymdnt_dop_",
         "line": {
          "color": "black",
          "width": 1.5
         },
         "mode": "lines+lines",
         "name": "",
         "opacity": 0.1,
         "type": "scatter",
         "x": [
          1,
          2,
          3,
          4,
          5,
          6,
          7,
          8,
          9,
          10
         ],
         "y": [
          0.35571338975913847,
          0.29237348340894825,
          0.19398818005250357,
          0.1489106472140068,
          0.04392882452454897,
          0.04392882452454897,
          0.0334907516184012,
          0.026875813279645663,
          0.022929921700864206,
          0.0144168949312043
         ]
        },
        {
         "hovertext": "<b>Topic 169</b>:refund_refumd_postopned_cincert_o",
         "line": {
          "color": "black",
          "width": 1.5
         },
         "mode": "lines+lines",
         "name": "",
         "opacity": 0.1,
         "type": "scatter",
         "x": [
          1,
          2,
          3,
          4,
          5,
          6,
          7,
          8,
          9,
          10
         ],
         "y": [
          0.14491774127895282,
          0.07958869384447696,
          0.07958869384447696,
          0.07958869384447696,
          0.07216561656224003,
          0.05151307905380956,
          0.05130871309728575,
          0.04976354924352724,
          0.03148405217445805,
          0.03093182194502998
         ]
        },
        {
         "hovertext": "<b>Topic 170</b>:invoice_check_lease_ican_ask_agen",
         "line": {
          "color": "black",
          "width": 1.5
         },
         "mode": "lines+lines",
         "name": "",
         "opacity": 0.1,
         "type": "scatter",
         "x": [
          1,
          2,
          3,
          4,
          5,
          6,
          7,
          8,
          9,
          10
         ],
         "y": [
          0.05696717936523953,
          0.05641875902818239,
          0.03510430366532026,
          0.029827769158487873,
          0.029674182499334557,
          0.027907511390139576,
          0.023937361932750412,
          0.019545773573973087,
          0.017096391170424507,
          0.015841531199622744
         ]
        },
        {
         "hovertext": "<b>Topic 171</b>:purchase_change_purtchase_tell_ho",
         "line": {
          "color": "black",
          "width": 1.5
         },
         "mode": "lines+lines",
         "name": "",
         "opacity": 0.1,
         "type": "scatter",
         "x": [
          1,
          2,
          3,
          4,
          5,
          6,
          7,
          8,
          9,
          10
         ],
         "y": [
          0.0783838221635517,
          0.07360543124524942,
          0.041503306606015596,
          0.028141755500556885,
          0.0197576818120916,
          0.014375601686969832,
          0.011946230818616482,
          0.009955344759232038,
          0.009526763252355063,
          0.008209032008677713
         ]
        },
        {
         "hovertext": "<b>Topic 172</b>:bill_check_fuckingbill_checkl_ols",
         "line": {
          "color": "black",
          "width": 1.5
         },
         "mode": "lines+lines",
         "name": "",
         "opacity": 0.1,
         "type": "scatter",
         "x": [
          1,
          2,
          3,
          4,
          5,
          6,
          7,
          8,
          9,
          10
         ],
         "y": [
          0.0916689615773212,
          0.09037449362847734,
          0.06632391153706413,
          0.06632391153706413,
          0.05953965229510201,
          0.02209744552023386,
          0.019090545327789085,
          0.01274274264428016,
          0.011517192863947461,
          0.011486387622431775
         ]
        },
        {
         "hovertext": "<b>Topic 173</b>:depivery_delivry_oackages_hsipmen",
         "line": {
          "color": "black",
          "width": 1.5
         },
         "mode": "lines+lines",
         "name": "",
         "opacity": 0.1,
         "type": "scatter",
         "x": [
          1,
          2,
          3,
          4,
          5,
          6,
          7,
          8,
          9,
          10
         ],
         "y": [
          0.049742933652798096,
          0.049742933652798096,
          0.049742933652798096,
          0.049742933652798096,
          0.049742933652798096,
          0.049742933652798096,
          0.049742933652798096,
          0.049742933652798096,
          0.049742933652798096,
          0.049742933652798096
         ]
        },
        {
         "hovertext": "<b>Topic 174</b>:online_no_van_have_account_should",
         "line": {
          "color": "black",
          "width": 1.5
         },
         "mode": "lines+lines",
         "name": "",
         "opacity": 0.1,
         "type": "scatter",
         "x": [
          1,
          2,
          3,
          4,
          5,
          6,
          7,
          8,
          9,
          10
         ],
         "y": [
          0.06034318109941195,
          0.05275707620772751,
          0.03406454968689075,
          0.030028483344839135,
          0.02762360753546192,
          0.023584933633161026,
          0.02107786537410249,
          0.01834616619620069,
          0.018303713239735137,
          0.018135285883928376
         ]
        },
        {
         "hovertext": "<b>Topic 175</b>:bil_bils_abill_kt_invoicse_donwlo",
         "line": {
          "color": "black",
          "width": 1.5
         },
         "mode": "lines+lines",
         "name": "",
         "opacity": 0.1,
         "type": "scatter",
         "x": [
          1,
          2,
          3,
          4,
          5,
          6,
          7,
          8,
          9,
          10
         ],
         "y": [
          0.2632377494609612,
          0.19571632183740867,
          0.11041899152909827,
          0.061500354334368554,
          0.061500354334368554,
          0.061500354334368554,
          0.061500354334368554,
          0.061500354334368554,
          0.061500354334368554,
          0.061500354334368554
         ]
        },
        {
         "hovertext": "<b>Topic 176</b>:register_registering_odl_wher_wat",
         "line": {
          "color": "black",
          "width": 1.5
         },
         "mode": "lines+lines",
         "name": "",
         "opacity": 0.1,
         "type": "scatter",
         "x": [
          1,
          2,
          3,
          4,
          5,
          6,
          7,
          8,
          9,
          10
         ],
         "y": [
          0.20843496848057075,
          0.0971874920797825,
          0.09395887467750752,
          0.08434784075139451,
          0.06915319381501285,
          0.020872955730230517,
          0.017391508048332206,
          0.012034812497375705,
          0.010783766737040802,
          0.008607103249637356
         ]
        },
        {
         "hovertext": "<b>Topic 177</b>:see_bill_some_areview_tell_agernt",
         "line": {
          "color": "black",
          "width": 1.5
         },
         "mode": "lines+lines",
         "name": "",
         "opacity": 0.1,
         "type": "scatter",
         "x": [
          1,
          2,
          3,
          4,
          5,
          6,
          7,
          8,
          9,
          10
         ],
         "y": [
          0.046495451062511954,
          0.04452492419469887,
          0.039111115760819756,
          0.032214471318002584,
          0.030944763687318702,
          0.028919259686192408,
          0.017798826405452252,
          0.01642039305228094,
          0.01580745725182278,
          0.015335724454147291
         ]
        },
        {
         "hovertext": "<b>Topic 178</b>:report_maiing_payment_problem_iss",
         "line": {
          "color": "black",
          "width": 1.5
         },
         "mode": "lines+lines",
         "name": "",
         "opacity": 0.1,
         "type": "scatter",
         "x": [
          1,
          2,
          3,
          4,
          5,
          6,
          7,
          8,
          9,
          10
         ],
         "y": [
          0.11730478009359442,
          0.07516709974200601,
          0.054122708479613785,
          0.04461832011269494,
          0.039660728989062165,
          0.020173626596693004,
          0.015420253800506035,
          0.015089873220781713,
          0.006009986492081748,
          0.005537961607477967
         ]
        },
        {
         "hovertext": "<b>Topic 179</b>:bill_check_tocheck_where_my_how_w",
         "line": {
          "color": "black",
          "width": 1.5
         },
         "mode": "lines+lines",
         "name": "",
         "opacity": 0.1,
         "type": "scatter",
         "x": [
          1,
          2,
          3,
          4,
          5,
          6,
          7,
          8,
          9,
          10
         ],
         "y": [
          0.11131231048674718,
          0.10328513557540267,
          0.08053617829500644,
          0.026836657367439235,
          0.02189352222115494,
          0.013531521577188784,
          0.009243228631749258,
          0.0058833642977976245,
          0.0047552121494060014,
          0.0036887585355588667
         ]
        },
        {
         "hovertext": "<b>Topic 180</b>:tracking_track_order_possible_can",
         "line": {
          "color": "black",
          "width": 1.5
         },
         "mode": "lines+lines",
         "name": "",
         "opacity": 0.1,
         "type": "scatter",
         "x": [
          1,
          2,
          3,
          4,
          5,
          6,
          7,
          8,
          9,
          10
         ],
         "y": [
          0.13919479785850186,
          0.12206759794102469,
          0.056139407375164825,
          0.054642124149410186,
          0.04886836928101105,
          0.04639826595283395,
          0.03313191375121734,
          0.02545918410758564,
          0.01585392988428461,
          0.015543604452638622
         ]
        },
        {
         "hovertext": "<b>Topic 181</b>:refund_whay_obtani_obtain_should_",
         "line": {
          "color": "black",
          "width": 1.5
         },
         "mode": "lines+lines",
         "name": "",
         "opacity": 0.1,
         "type": "scatter",
         "x": [
          1,
          2,
          3,
          4,
          5,
          6,
          7,
          8,
          9,
          10
         ],
         "y": [
          0.10528211973257258,
          0.05782084595538925,
          0.05782084595538925,
          0.03727556079717341,
          0.03184973943623455,
          0.025301445235389887,
          0.019421156050463777,
          0.018581259608439534,
          0.011109057689885267,
          0.0110111842697045
         ]
        },
        {
         "hovertext": "<b>Topic 182</b>:master_card_if_with_pay_make_paym",
         "line": {
          "color": "black",
          "width": 1.5
         },
         "mode": "lines+lines",
         "name": "",
         "opacity": 0.1,
         "type": "scatter",
         "x": [
          1,
          2,
          3,
          4,
          5,
          6,
          7,
          8,
          9,
          10
         ],
         "y": [
          0.37890264111109745,
          0.06537961836755557,
          0.03860477590169849,
          0.029026360095070185,
          0.019314533631569628,
          0.018986942679240476,
          0.014982064631034958,
          0.012492119135595786,
          0.012009241663597903,
          0.011784693571935165
         ]
        },
        {
         "hovertext": "<b>Topic 183</b>:decline_transfer_transaction_be_c",
         "line": {
          "color": "black",
          "width": 1.5
         },
         "mode": "lines+lines",
         "name": "",
         "opacity": 0.1,
         "type": "scatter",
         "x": [
          1,
          2,
          3,
          4,
          5,
          6,
          7,
          8,
          9,
          10
         ],
         "y": [
          0.5728004762524299,
          0.2667337475721924,
          0.23036625287582155,
          0.02986880923680473,
          0.027910383957131704,
          0.018253424511872163,
          0.01651935877533826,
          0.014259258344538681,
          0.011988465240566317,
          0.006708153104356707
         ]
        },
        {
         "hovertext": "<b>Topic 184</b>:track_purchase_pyrchase_my_where_",
         "line": {
          "color": "black",
          "width": 1.5
         },
         "mode": "lines+lines",
         "name": "",
         "opacity": 0.1,
         "type": "scatter",
         "x": [
          1,
          2,
          3,
          4,
          5,
          6,
          7,
          8,
          9,
          10
         ],
         "y": [
          0.16856954001379598,
          0.11743164533693869,
          0.07046915600813064,
          0.018029959476245243,
          0.011741037598254666,
          0.00970539006333672,
          0.007826178621749492,
          0.007709034095157855,
          0.007531215343432687,
          0.005920040690020094
         ]
        },
        {
         "hovertext": "<b>Topic 185</b>:informing_niform_inform_pay_infrm",
         "line": {
          "color": "black",
          "width": 1.5
         },
         "mode": "lines+lines",
         "name": "",
         "opacity": 0.1,
         "type": "scatter",
         "x": [
          1,
          2,
          3,
          4,
          5,
          6,
          7,
          8,
          9,
          10
         ],
         "y": [
          0.0808530340154384,
          0.05326802343921686,
          0.04832728944423592,
          0.04653738024614414,
          0.04463567587871876,
          0.043048791205351135,
          0.03603936463796374,
          0.02810602841744563,
          0.02810602841744563,
          0.02555466450007594
         ]
        },
        {
         "hovertext": "<b>Topic 186</b>:report_pay_cn_problem_have_it_iss",
         "line": {
          "color": "black",
          "width": 1.5
         },
         "mode": "lines+lines",
         "name": "",
         "opacity": 0.1,
         "type": "scatter",
         "x": [
          1,
          2,
          3,
          4,
          5,
          6,
          7,
          8,
          9,
          10
         ],
         "y": [
          0.07148492735284637,
          0.04251976468532595,
          0.035820359386193705,
          0.0320995108724424,
          0.028196905536817984,
          0.02334850641373845,
          0.019259706523465443,
          0.011489474349556349,
          0.011145889100249813,
          0.010648449973167684
         ]
        },
        {
         "hovertext": "<b>Topic 187</b>:no_online_oen_regikstering_reigst",
         "line": {
          "color": "black",
          "width": 1.5
         },
         "mode": "lines+lines",
         "name": "",
         "opacity": 0.1,
         "type": "scatter",
         "x": [
          1,
          2,
          3,
          4,
          5,
          6,
          7,
          8,
          9,
          10
         ],
         "y": [
          0.07814641913269638,
          0.06620987926185477,
          0.05637532480650451,
          0.05637532480650451,
          0.050608704450836706,
          0.050608704450836706,
          0.030309236045854053,
          0.025785328089590127,
          0.0187878331601833,
          0.01878282869219878
         ]
        },
        {
         "hovertext": "<b>Topic 188</b>:option_accept_your_optins_paymnet",
         "line": {
          "color": "black",
          "width": 1.5
         },
         "mode": "lines+lines",
         "name": "",
         "opacity": 0.1,
         "type": "scatter",
         "x": [
          1,
          2,
          3,
          4,
          5,
          6,
          7,
          8,
          9,
          10
         ],
         "y": [
          0.1367633345106777,
          0.12800833183570087,
          0.10760686393587882,
          0.061500354334368554,
          0.04892908045935217,
          0.04892908045935217,
          0.04615733131833022,
          0.033862871080827875,
          0.03047098802834593,
          0.016609605439604457
         ]
        },
        {
         "hovertext": "<b>Topic 189</b>:user_create_one_poen_hyave_hav_cr",
         "line": {
          "color": "black",
          "width": 1.5
         },
         "mode": "lines+lines",
         "name": "",
         "opacity": 0.1,
         "type": "scatter",
         "x": [
          1,
          2,
          3,
          4,
          5,
          6,
          7,
          8,
          9,
          10
         ],
         "y": [
          0.08417533941134105,
          0.07665915088545659,
          0.06730178974064704,
          0.058319301523970184,
          0.058319301523970184,
          0.04886836928101105,
          0.04886836928101105,
          0.04491173513373355,
          0.03135438211640074,
          0.01665916240804431
         ]
        },
        {
         "hovertext": "<b>Topic 190</b>:check_cherck_order_tell_where_cn_",
         "line": {
          "color": "black",
          "width": 1.5
         },
         "mode": "lines+lines",
         "name": "",
         "opacity": 0.1,
         "type": "scatter",
         "x": [
          1,
          2,
          3,
          4,
          5,
          6,
          7,
          8,
          9,
          10
         ],
         "y": [
          0.04103490521509242,
          0.03656777825286779,
          0.03300086784891446,
          0.03099396044993765,
          0.030463232687363458,
          0.026913675430707704,
          0.022777489406614275,
          0.016446498605623198,
          0.01583258834443299,
          0.014583444248752494
         ]
        },
        {
         "hovertext": "<b>Topic 191</b>:mail_about_customer_thed_informat",
         "line": {
          "color": "black",
          "width": 1.5
         },
         "mode": "lines+lines",
         "name": "",
         "opacity": 0.1,
         "type": "scatter",
         "x": [
          1,
          2,
          3,
          4,
          5,
          6,
          7,
          8,
          9,
          10
         ],
         "y": [
          0.12605776751570436,
          0.06085812519711347,
          0.04845761073488547,
          0.04633588340260644,
          0.045915187439973325,
          0.03534386345492056,
          0.034370084510523924,
          0.032765732347223596,
          0.028411664285767656,
          0.027985347024615352
         ]
        },
        {
         "hovertext": "<b>Topic 192</b>:card_notify_try_pau_when_pay_with",
         "line": {
          "color": "black",
          "width": 1.5
         },
         "mode": "lines+lines",
         "name": "",
         "opacity": 0.1,
         "type": "scatter",
         "x": [
          1,
          2,
          3,
          4,
          5,
          6,
          7,
          8,
          9,
          10
         ],
         "y": [
          0.04558696046331512,
          0.042665754650057716,
          0.03713578050349322,
          0.03523457800406532,
          0.026635984500626098,
          0.0250108121049427,
          0.020239083113164174,
          0.018264607396793007,
          0.01626709587442003,
          0.01626709587442003
         ]
        },
        {
         "hovertext": "<b>Topic 193</b>:report_for_order_rpoblem_pay_issu",
         "line": {
          "color": "black",
          "width": 1.5
         },
         "mode": "lines+lines",
         "name": "",
         "opacity": 0.1,
         "type": "scatter",
         "x": [
          1,
          2,
          3,
          4,
          5,
          6,
          7,
          8,
          9,
          10
         ],
         "y": [
          0.051143260525234935,
          0.0396565586104966,
          0.033518528521054296,
          0.033345475509395775,
          0.030420390469722166,
          0.020996856523621148,
          0.020628262471672102,
          0.01670448289747611,
          0.013123035327263216,
          0.009394334909343131
         ]
        },
        {
         "hovertext": "<b>Topic 194</b>:track_wherei_order_tell_where_od_",
         "line": {
          "color": "black",
          "width": 1.5
         },
         "mode": "lines+lines",
         "name": "",
         "opacity": 0.1,
         "type": "scatter",
         "x": [
          1,
          2,
          3,
          4,
          5,
          6,
          7,
          8,
          9,
          10
         ],
         "y": [
          0.08478946922849617,
          0.0405092154298236,
          0.03412065777592353,
          0.03204565172269002,
          0.029247135574095456,
          0.02889835572924724,
          0.017004563428568494,
          0.016369821881070435,
          0.012088150498048131,
          0.011190878877679559
         ]
        },
        {
         "hovertext": "<b>Topic 195</b>:invoice_check_di_olst_acn_how_my_",
         "line": {
          "color": "black",
          "width": 1.5
         },
         "mode": "lines+lines",
         "name": "",
         "opacity": 0.1,
         "type": "scatter",
         "x": [
          1,
          2,
          3,
          4,
          5,
          6,
          7,
          8,
          9,
          10
         ],
         "y": [
          0.10358446578274036,
          0.10258726303773104,
          0.09141944563216949,
          0.08206816937973521,
          0.05595762943049992,
          0.02560017595684365,
          0.020466440486548658,
          0.0062953881491913865,
          0.005582985891656664,
          0.0050088101454223025
         ]
        },
        {
         "hovertext": "<b>Topic 196</b>:message_anyway_but_charge_notify_",
         "line": {
          "color": "black",
          "width": 1.5
         },
         "mode": "lines+lines",
         "name": "",
         "opacity": 0.1,
         "type": "scatter",
         "x": [
          1,
          2,
          3,
          4,
          5,
          6,
          7,
          8,
          9,
          10
         ],
         "y": [
          0.04584858268203865,
          0.04028705235569469,
          0.04011615755827846,
          0.03737755561536769,
          0.03330010119028894,
          0.029753271175993686,
          0.027500158442197324,
          0.027500158442197324,
          0.027500158442197324,
          0.02122880562366042
         ]
        },
        {
         "hovertext": "<b>Topic 197</b>:mind_cancel_profile_change_ichang",
         "line": {
          "color": "black",
          "width": 1.5
         },
         "mode": "lines+lines",
         "name": "",
         "opacity": 0.1,
         "type": "scatter",
         "x": [
          1,
          2,
          3,
          4,
          5,
          6,
          7,
          8,
          9,
          10
         ],
         "y": [
          0.1612039869925932,
          0.10440052101692145,
          0.07875664478644144,
          0.07161152837864257,
          0.05019045069504467,
          0.04684901517848994,
          0.0250333321653653,
          0.0076823731484366485,
          0.006116258455662431,
          0.004743506854963597
         ]
        },
        {
         "hovertext": "<b>Topic 198</b>:more_than_several_online_yuou_tep",
         "line": {
          "color": "black",
          "width": 1.5
         },
         "mode": "lines+lines",
         "name": "",
         "opacity": 0.1,
         "type": "scatter",
         "x": [
          1,
          2,
          3,
          4,
          5,
          6,
          7,
          8,
          9,
          10
         ],
         "y": [
          0.07632854334225615,
          0.0761800614122389,
          0.0744491695652816,
          0.056606919674257516,
          0.05164151890672169,
          0.05164151890672169,
          0.05164151890672169,
          0.04635911858091912,
          0.035426301986127895,
          0.02979773896914144
         ]
        },
        {
         "hovertext": "<b>Topic 199</b>:package_check_tfackmy_hopw_hwere_",
         "line": {
          "color": "black",
          "width": 1.5
         },
         "mode": "lines+lines",
         "name": "",
         "opacity": 0.1,
         "type": "scatter",
         "x": [
          1,
          2,
          3,
          4,
          5,
          6,
          7,
          8,
          9,
          10
         ],
         "y": [
          0.1241719318762846,
          0.04351364508037798,
          0.041759499856670004,
          0.041759499856670004,
          0.03185311150875557,
          0.030675092544074092,
          0.02307255274780847,
          0.016875063297152854,
          0.015025196256989094,
          0.012863298289426376
         ]
        },
        {
         "hovertext": "<b>Topic 200</b>:email_customer_whzt_whatsthe_wat_",
         "line": {
          "color": "black",
          "width": 1.5
         },
         "mode": "lines+lines",
         "name": "",
         "opacity": 0.1,
         "type": "scatter",
         "x": [
          1,
          2,
          3,
          4,
          5,
          6,
          7,
          8,
          9,
          10
         ],
         "y": [
          0.05605975082513932,
          0.05164095742549839,
          0.044328792219710984,
          0.044328792219710984,
          0.03634328434073668,
          0.03260721044363228,
          0.027435748774578255,
          0.024418648849326003,
          0.021935013582799028,
          0.019839865989410444
         ]
        },
        {
         "hovertext": "<b>Topic 201</b>:invoice_hou_obtain_tell_where_it_",
         "line": {
          "color": "black",
          "width": 1.5
         },
         "mode": "lines+lines",
         "name": "",
         "opacity": 0.1,
         "type": "scatter",
         "x": [
          1,
          2,
          3,
          4,
          5,
          6,
          7,
          8,
          9,
          10
         ],
         "y": [
          0.046176207638089065,
          0.040753246848075554,
          0.036781547340825324,
          0.03223869781740502,
          0.03168665568685596,
          0.01710700055765626,
          0.01646843526589616,
          0.016121352017041776,
          0.013581566139891543,
          0.011225511398558135
         ]
        },
        {
         "hovertext": "<b>Topic 202</b>:notify_co_for_order_pay_have_prob",
         "line": {
          "color": "black",
          "width": 1.5
         },
         "mode": "lines+lines",
         "name": "",
         "opacity": 0.1,
         "type": "scatter",
         "x": [
          1,
          2,
          3,
          4,
          5,
          6,
          7,
          8,
          9,
          10
         ],
         "y": [
          0.0473515889757866,
          0.039104271542084054,
          0.03896887262303134,
          0.03293728236172965,
          0.029892869247703863,
          0.020270546937481256,
          0.018053655536928587,
          0.018053655536928587,
          0.016414809783647046,
          0.01230856982341682
         ]
        },
        {
         "hovertext": "<b>Topic 203</b>:delivery_know_where_be_how_tell_m",
         "line": {
          "color": "black",
          "width": 1.5
         },
         "mode": "lines+lines",
         "name": "",
         "opacity": 0.1,
         "type": "scatter",
         "x": [
          1,
          2,
          3,
          4,
          5,
          6,
          7,
          8,
          9,
          10
         ],
         "y": [
          0.09484704110742824,
          0.09175868277384633,
          0.040152556061206796,
          0.022344605383258505,
          0.02024563533686261,
          0.017508038727445694,
          0.010735395718680376,
          0.008943599522809475,
          0.007112346916643704,
          0.005658808408568708
         ]
        },
        {
         "hovertext": "<b>Topic 204</b>:request_invoice_telol_tel_tell_so",
         "line": {
          "color": "black",
          "width": 1.5
         },
         "mode": "lines+lines",
         "name": "",
         "opacity": 0.1,
         "type": "scatter",
         "x": [
          1,
          2,
          3,
          4,
          5,
          6,
          7,
          8,
          9,
          10
         ],
         "y": [
          0.06830897132186037,
          0.04420951911401784,
          0.037720773503729224,
          0.03205095692185343,
          0.02611706398162448,
          0.025507249409230277,
          0.016378397162121652,
          0.015767028972406352,
          0.014119848602283951,
          0.011574129764972983
         ]
        },
        {
         "hovertext": "<b>Topic 205</b>:card_report_makig_make_payment_wi",
         "line": {
          "color": "black",
          "width": 1.5
         },
         "mode": "lines+lines",
         "name": "",
         "opacity": 0.1,
         "type": "scatter",
         "x": [
          1,
          2,
          3,
          4,
          5,
          6,
          7,
          8,
          9,
          10
         ],
         "y": [
          0.0507968988019797,
          0.05045830614320054,
          0.04228149360487839,
          0.027234395905535558,
          0.023280723868069165,
          0.022552121183240077,
          0.020628262471672102,
          0.019520515049304035,
          0.0167318700422606,
          0.016480762144384913
         ]
        },
        {
         "hovertext": "<b>Topic 206</b>:refund_reqauest_receive_obtain_ho",
         "line": {
          "color": "black",
          "width": 1.5
         },
         "mode": "lines+lines",
         "name": "",
         "opacity": 0.1,
         "type": "scatter",
         "x": [
          1,
          2,
          3,
          4,
          5,
          6,
          7,
          8,
          9,
          10
         ],
         "y": [
          0.17772930534211195,
          0.12764224484491588,
          0.09921527793688861,
          0.08228755874092998,
          0.035743641902008114,
          0.018230781503142827,
          0.00878978722717288,
          0.007795112377030058,
          0.0069934330332311395,
          0.0045219375911332545
         ]
        },
        {
         "hovertext": "<b>Topic 207</b>:inform_myu_of_payment_problem_wit",
         "line": {
          "color": "black",
          "width": 1.5
         },
         "mode": "lines+lines",
         "name": "",
         "opacity": 0.1,
         "type": "scatter",
         "x": [
          1,
          2,
          3,
          4,
          5,
          6,
          7,
          8,
          9,
          10
         ],
         "y": [
          0.07598890940231763,
          0.05125903667170228,
          0.042305687071449244,
          0.03547538875134349,
          0.03399491056205329,
          0.031721664961040986,
          0.02345463740046056,
          0.0212468191012833,
          0.01133311738506844,
          0.003934675771262792
         ]
        },
        {
         "hovertext": "<b>Topic 208</b>:inform_ufcking_of_payment_issue_p",
         "line": {
          "color": "black",
          "width": 1.5
         },
         "mode": "lines+lines",
         "name": "",
         "opacity": 0.1,
         "type": "scatter",
         "x": [
          1,
          2,
          3,
          4,
          5,
          6,
          7,
          8,
          9,
          10
         ],
         "y": [
          0.09973544359054189,
          0.07085913545746603,
          0.05552621428127713,
          0.04656144773613833,
          0.03904103009860807,
          0.0334637400845212,
          0.030784211588104488,
          0.005176454517957277,
          0.005164261949782414,
          0.004992972756876302
         ]
        },
        {
         "hovertext": "<b>Topic 209</b>:close_profile_toclose_myprofile_c",
         "line": {
          "color": "black",
          "width": 1.5
         },
         "mode": "lines+lines",
         "name": "",
         "opacity": 0.1,
         "type": "scatter",
         "x": [
          1,
          2,
          3,
          4,
          5,
          6,
          7,
          8,
          9,
          10
         ],
         "y": [
          0.23963840413395826,
          0.10890918879039331,
          0.09020051969040722,
          0.0755830778212971,
          0.05192113739655305,
          0.0200380375010213,
          0.017308761097195435,
          0.01515530416645144,
          0.010352416067559168,
          0.008262819119651862
         ]
        },
        {
         "hovertext": "<b>Topic 210</b>:notify_wehen_for_try_order_pay_wh",
         "line": {
          "color": "black",
          "width": 1.5
         },
         "mode": "lines+lines",
         "name": "",
         "opacity": 0.1,
         "type": "scatter",
         "x": [
          1,
          2,
          3,
          4,
          5,
          6,
          7,
          8,
          9,
          10
         ],
         "y": [
          0.0400352344385504,
          0.03560546829884496,
          0.03294774230420958,
          0.032165728676709915,
          0.02784810076373308,
          0.02527408381131052,
          0.02114857115237681,
          0.018786661100082078,
          0.01737116839719756,
          0.013878536542639928
         ]
        },
        {
         "hovertext": "<b>Topic 211</b>:paymet_notgify_pay_have_issue_pro",
         "line": {
          "color": "black",
          "width": 1.5
         },
         "mode": "lines+lines",
         "name": "",
         "opacity": 0.1,
         "type": "scatter",
         "x": [
          1,
          2,
          3,
          4,
          5,
          6,
          7,
          8,
          9,
          10
         ],
         "y": [
          0.06326088056354588,
          0.06326088056354588,
          0.046173806962971145,
          0.034380437452786836,
          0.03253419174884006,
          0.027886450070434336,
          0.02218106853594906,
          0.0211998437616841,
          0.015062430686865374,
          0.007787758510515891
         ]
        },
        {
         "hovertext": "<b>Topic 212</b>:see_bill_wolud_wht_hat_what_want_",
         "line": {
          "color": "black",
          "width": 1.5
         },
         "mode": "lines+lines",
         "name": "",
         "opacity": 0.1,
         "type": "scatter",
         "x": [
          1,
          2,
          3,
          4,
          5,
          6,
          7,
          8,
          9,
          10
         ],
         "y": [
          0.06607630473745842,
          0.06327592038080579,
          0.05986760156442957,
          0.05016575961590515,
          0.05016575961590515,
          0.018010486735590032,
          0.01649057426690841,
          0.015538487282531157,
          0.014133070217595863,
          0.012445458753514417
         ]
        },
        {
         "hovertext": "<b>Topic 213</b>:full_case_in_ticket_cancel_refund",
         "line": {
          "color": "black",
          "width": 1.5
         },
         "mode": "lines+lines",
         "name": "",
         "opacity": 0.1,
         "type": "scatter",
         "x": [
          1,
          2,
          3,
          4,
          5,
          6,
          7,
          8,
          9,
          10
         ],
         "y": [
          0.3504277505181319,
          0.32765121711096556,
          0.20714938552413548,
          0.1187582604516973,
          0.07979689968883256,
          0.064079273354639,
          0.04602067331143225,
          0.038562794806784234,
          0.02870034360038809,
          0.028483012371123374
         ]
        },
        {
         "hovertext": "<b>Topic 214</b>:write_review_where_would_fucking_",
         "line": {
          "color": "black",
          "width": 1.5
         },
         "mode": "lines+lines",
         "name": "",
         "opacity": 0.1,
         "type": "scatter",
         "x": [
          1,
          2,
          3,
          4,
          5,
          6,
          7,
          8,
          9,
          10
         ],
         "y": [
          0.4550234641072377,
          0.39650699717166354,
          0.025911255389251677,
          0.02307021064507702,
          0.015750487916866295,
          0.01550538612654719,
          0.009798688038653948,
          0.008903899913417956,
          0.00863578330675806,
          0.007469883619060784
         ]
        },
        {
         "hovertext": "<b>Topic 215</b>:cancel_purchase_waznt_hjelp_want_",
         "line": {
          "color": "black",
          "width": 1.5
         },
         "mode": "lines+lines",
         "name": "",
         "opacity": 0.1,
         "type": "scatter",
         "x": [
          1,
          2,
          3,
          4,
          5,
          6,
          7,
          8,
          9,
          10
         ],
         "y": [
          0.16068690759258064,
          0.13383990263059312,
          0.09267176680521289,
          0.08319239087808773,
          0.012763252686031852,
          0.010291960927232207,
          0.010137907851166493,
          0.008024736558137268,
          0.007785258989615465,
          0.007660451353015696
         ]
        },
        {
         "hovertext": "<b>Topic 216</b>:notify_howdo_payment_problem_issu",
         "line": {
          "color": "black",
          "width": 1.5
         },
         "mode": "lines+lines",
         "name": "",
         "opacity": 0.1,
         "type": "scatter",
         "x": [
          1,
          2,
          3,
          4,
          5,
          6,
          7,
          8,
          9,
          10
         ],
         "y": [
          0.1118631550488908,
          0.08930947844265301,
          0.05477817380722156,
          0.045930623645421255,
          0.03936910598178965,
          0.03064491651304519,
          0.019677532609036284,
          0.015845754113076874,
          0.013225182284407899,
          0.009113403440792495
         ]
        },
        {
         "hovertext": "<b>Topic 217</b>:trfack_check_ik_ne_order_tell_it_",
         "line": {
          "color": "black",
          "width": 1.5
         },
         "mode": "lines+lines",
         "name": "",
         "opacity": 0.1,
         "type": "scatter",
         "x": [
          1,
          2,
          3,
          4,
          5,
          6,
          7,
          8,
          9,
          10
         ],
         "y": [
          0.041759499856670004,
          0.040166441612656596,
          0.037487929222842005,
          0.03499216565800791,
          0.032661352747588177,
          0.030675092544074092,
          0.016277295945071518,
          0.015202079796594808,
          0.014464339968988162,
          0.011502684519510187
         ]
        },
        {
         "hovertext": "<b>Topic 218</b>:online_opem_account_need_an_what_",
         "line": {
          "color": "black",
          "width": 1.5
         },
         "mode": "lines+lines",
         "name": "",
         "opacity": 0.1,
         "type": "scatter",
         "x": [
          1,
          2,
          3,
          4,
          5,
          6,
          7,
          8,
          9,
          10
         ],
         "y": [
          0.07325348343864783,
          0.07196849975298449,
          0.03353362285924278,
          0.02304538563327263,
          0.01723248691688623,
          0.01574611219436498,
          0.013215850299011704,
          0.011326503082186754,
          0.010987791382515774,
          0.007992693060510118
         ]
        },
        {
         "hovertext": "<b>Topic 219</b>:fucking_notify_sak_please_payment",
         "line": {
          "color": "black",
          "width": 1.5
         },
         "mode": "lines+lines",
         "name": "",
         "opacity": 0.1,
         "type": "scatter",
         "x": [
          1,
          2,
          3,
          4,
          5,
          6,
          7,
          8,
          9,
          10
         ],
         "y": [
          0.06214478225702348,
          0.04776574281522496,
          0.033870952072659354,
          0.02515030333744422,
          0.023390366209677025,
          0.02223215992288617,
          0.02189568920859023,
          0.021341636166377045,
          0.018211559229671402,
          0.018211559229671402
         ]
        },
        {
         "hovertext": "<b>Topic 220</b>:fast_expect_arrive_ticket_know_te",
         "line": {
          "color": "black",
          "width": 1.5
         },
         "mode": "lines+lines",
         "name": "",
         "opacity": 0.1,
         "type": "scatter",
         "x": [
          1,
          2,
          3,
          4,
          5,
          6,
          7,
          8,
          9,
          10
         ],
         "y": [
          0.3993246459392666,
          0.2971911293742103,
          0.24895827932908185,
          0.12491924355205368,
          0.01863625960213003,
          0.017779481188336325,
          0.01762244670517609,
          0.010063233196043858,
          0.009289251640700097,
          0.009082259980527451
         ]
        },
        {
         "hovertext": "<b>Topic 221</b>:validation_no_get_payment_not_do_",
         "line": {
          "color": "black",
          "width": 1.5
         },
         "mode": "lines+lines",
         "name": "",
         "opacity": 0.1,
         "type": "scatter",
         "x": [
          1,
          2,
          3,
          4,
          5,
          6,
          7,
          8,
          9,
          10
         ],
         "y": [
          0.5853736287064248,
          0.07104219921154216,
          0.04391960998484408,
          0.039072543554801394,
          0.021707387648944573,
          0.0164317425674895,
          0.012614783064803762,
          0.012098764655972215,
          0.0085376494055449,
          0.006656883735727506
         ]
        },
        {
         "hovertext": "<b>Topic 222</b>:place_order_ask_agent_an_make_whe",
         "line": {
          "color": "black",
          "width": 1.5
         },
         "mode": "lines+lines",
         "name": "",
         "opacity": 0.1,
         "type": "scatter",
         "x": [
          1,
          2,
          3,
          4,
          5,
          6,
          7,
          8,
          9,
          10
         ],
         "y": [
          0.16727627927677036,
          0.04522341149666055,
          0.03168909612583258,
          0.029802465867247815,
          0.025382324034274015,
          0.02353589769614184,
          0.020872955730230517,
          0.016917190725523057,
          0.011719306970158468,
          0.008876396012224537
         ]
        },
        {
         "hovertext": "<b>Topic 223</b>:report_try_oredr_od_pay_when_have",
         "line": {
          "color": "black",
          "width": 1.5
         },
         "mode": "lines+lines",
         "name": "",
         "opacity": 0.1,
         "type": "scatter",
         "x": [
          1,
          2,
          3,
          4,
          5,
          6,
          7,
          8,
          9,
          10
         ],
         "y": [
          0.0506959433777839,
          0.041574751350849544,
          0.03661359762264448,
          0.032830104808056385,
          0.0301543229145934,
          0.02981987769166303,
          0.019645964258735334,
          0.018211559229671402,
          0.018211559229671402,
          0.016558379548518593
         ]
        },
        {
         "hovertext": "<b>Topic 224</b>:see_bill_mew_some_help_need_me_my",
         "line": {
          "color": "black",
          "width": 1.5
         },
         "mode": "lines+lines",
         "name": "",
         "opacity": 0.1,
         "type": "scatter",
         "x": [
          1,
          2,
          3,
          4,
          5,
          6,
          7,
          8,
          9,
          10
         ],
         "y": [
          0.13004277100724762,
          0.12453141950126655,
          0.11458574592642273,
          0.046490571564748014,
          0.042527159303091575,
          0.04087294810429486,
          0.014737252043874731,
          0.008164509951507281,
          0.007212431048098698,
          0.003944937069011946
         ]
        },
        {
         "hovertext": "<b>Topic 225</b>:inform_for_probelm_fo_order_pay_o",
         "line": {
          "color": "black",
          "width": 1.5
         },
         "mode": "lines+lines",
         "name": "",
         "opacity": 0.1,
         "type": "scatter",
         "x": [
          1,
          2,
          3,
          4,
          5,
          6,
          7,
          8,
          9,
          10
         ],
         "y": [
          0.047212044303215094,
          0.03704184046035397,
          0.033078231182169245,
          0.031916858683852085,
          0.03130851565153423,
          0.028414650438751476,
          0.024094215269982188,
          0.018512543243808296,
          0.017160892351036516,
          0.015603088420719445
         ]
        },
        {
         "hovertext": "<b>Topic 226</b>:support_contacxt_trhe_mail_custom",
         "line": {
          "color": "black",
          "width": 1.5
         },
         "mode": "lines+lines",
         "name": "",
         "opacity": 0.1,
         "type": "scatter",
         "x": [
          1,
          2,
          3,
          4,
          5,
          6,
          7,
          8,
          9,
          10
         ],
         "y": [
          0.06931189797614802,
          0.04570972281608474,
          0.04570972281608474,
          0.04441224434674913,
          0.041034084689867606,
          0.03830223538241407,
          0.03486624367850272,
          0.03414484154099073,
          0.03281131984939399,
          0.030925671006901318
         ]
        },
        {
         "hovertext": "<b>Topic 227</b>:human_contact_csn_gaent_how_want_",
         "line": {
          "color": "black",
          "width": 1.5
         },
         "mode": "lines+lines",
         "name": "",
         "opacity": 0.1,
         "type": "scatter",
         "x": [
          1,
          2,
          3,
          4,
          5,
          6,
          7,
          8,
          9,
          10
         ],
         "y": [
          0.265002931613373,
          0.17372352073649,
          0.1259717963688285,
          0.10724500903965085,
          0.016839226851612713,
          0.010352416067559168,
          0.00710111680977963,
          0.006526409289570228,
          0.005491140011277784,
          0.004590455066473257
         ]
        },
        {
         "hovertext": "<b>Topic 228</b>:shipment_tgell_trrack_check_where",
         "line": {
          "color": "black",
          "width": 1.5
         },
         "mode": "lines+lines",
         "name": "",
         "opacity": 0.1,
         "type": "scatter",
         "x": [
          1,
          2,
          3,
          4,
          5,
          6,
          7,
          8,
          9,
          10
         ],
         "y": [
          0.12214543147367568,
          0.04697943733875376,
          0.04697943733875376,
          0.04142164291305212,
          0.03130943359534577,
          0.02920032847945515,
          0.01627238246511168,
          0.015494733640020004,
          0.010783766737040802,
          0.009292168176489356
         ]
        },
        {
         "hovertext": "<b>Topic 229</b>:view_losg_ddo_invoice_hwat_should",
         "line": {
          "color": "black",
          "width": 1.5
         },
         "mode": "lines+lines",
         "name": "",
         "opacity": 0.1,
         "type": "scatter",
         "x": [
          1,
          2,
          3,
          4,
          5,
          6,
          7,
          8,
          9,
          10
         ],
         "y": [
          0.09358740899556577,
          0.07274235458903809,
          0.06530155413011189,
          0.0647601806045704,
          0.053537956501945434,
          0.028620733594772983,
          0.019894281535891237,
          0.016697445270256725,
          0.013327127612341713,
          0.012795455112174045
         ]
        },
        {
         "hovertext": "<b>Topic 230</b>:confirmation_ogt_confirmaiton_pay",
         "line": {
          "color": "black",
          "width": 1.5
         },
         "mode": "lines+lines",
         "name": "",
         "opacity": 0.1,
         "type": "scatter",
         "x": [
          1,
          2,
          3,
          4,
          5,
          6,
          7,
          8,
          9,
          10
         ],
         "y": [
          0.5023535826974702,
          0.08250047532659197,
          0.08250047532659197,
          0.08250047532659197,
          0.07624040890994768,
          0.039277699986445924,
          0.03494292513031019,
          0.019413110905560187,
          0.017634065194378976,
          0.01579411863398195
         ]
        },
        {
         "hovertext": "<b>Topic 231</b>:profile_rceate_ho_need_should_wou",
         "line": {
          "color": "black",
          "width": 1.5
         },
         "mode": "lines+lines",
         "name": "",
         "opacity": 0.1,
         "type": "scatter",
         "x": [
          1,
          2,
          3,
          4,
          5,
          6,
          7,
          8,
          9,
          10
         ],
         "y": [
          0.1227460119563859,
          0.09293001371470955,
          0.0845935092527607,
          0.042615073761199225,
          0.03490791113854279,
          0.021935610121548644,
          0.021231438163713437,
          0.014975873757020412,
          0.014742826153110445,
          0.01354560511418338
         ]
        },
        {
         "hovertext": "<b>Topic 232</b>:problen_fuckingproblem_inform_pay",
         "line": {
          "color": "black",
          "width": 1.5
         },
         "mode": "lines+lines",
         "name": "",
         "opacity": 0.1,
         "type": "scatter",
         "x": [
          1,
          2,
          3,
          4,
          5,
          6,
          7,
          8,
          9,
          10
         ],
         "y": [
          0.10407752271970064,
          0.10407752271970064,
          0.09442408860643019,
          0.05682930087750295,
          0.05491485552331685,
          0.05256919695268841,
          0.026230334134242878,
          0.007945018384280637,
          0.006371020945178187,
          0.003801558469346158
         ]
        }
       ],
       "layout": {
        "height": 500,
        "hoverlabel": {
         "bgcolor": "white",
         "font": {
          "family": "Rockwell",
          "size": 16
         }
        },
        "showlegend": false,
        "template": {
         "data": {
          "bar": [
           {
            "error_x": {
             "color": "#2a3f5f"
            },
            "error_y": {
             "color": "#2a3f5f"
            },
            "marker": {
             "line": {
              "color": "white",
              "width": 0.5
             },
             "pattern": {
              "fillmode": "overlay",
              "size": 10,
              "solidity": 0.2
             }
            },
            "type": "bar"
           }
          ],
          "barpolar": [
           {
            "marker": {
             "line": {
              "color": "white",
              "width": 0.5
             },
             "pattern": {
              "fillmode": "overlay",
              "size": 10,
              "solidity": 0.2
             }
            },
            "type": "barpolar"
           }
          ],
          "carpet": [
           {
            "aaxis": {
             "endlinecolor": "#2a3f5f",
             "gridcolor": "#C8D4E3",
             "linecolor": "#C8D4E3",
             "minorgridcolor": "#C8D4E3",
             "startlinecolor": "#2a3f5f"
            },
            "baxis": {
             "endlinecolor": "#2a3f5f",
             "gridcolor": "#C8D4E3",
             "linecolor": "#C8D4E3",
             "minorgridcolor": "#C8D4E3",
             "startlinecolor": "#2a3f5f"
            },
            "type": "carpet"
           }
          ],
          "choropleth": [
           {
            "colorbar": {
             "outlinewidth": 0,
             "ticks": ""
            },
            "type": "choropleth"
           }
          ],
          "contour": [
           {
            "colorbar": {
             "outlinewidth": 0,
             "ticks": ""
            },
            "colorscale": [
             [
              0,
              "#0d0887"
             ],
             [
              0.1111111111111111,
              "#46039f"
             ],
             [
              0.2222222222222222,
              "#7201a8"
             ],
             [
              0.3333333333333333,
              "#9c179e"
             ],
             [
              0.4444444444444444,
              "#bd3786"
             ],
             [
              0.5555555555555556,
              "#d8576b"
             ],
             [
              0.6666666666666666,
              "#ed7953"
             ],
             [
              0.7777777777777778,
              "#fb9f3a"
             ],
             [
              0.8888888888888888,
              "#fdca26"
             ],
             [
              1,
              "#f0f921"
             ]
            ],
            "type": "contour"
           }
          ],
          "contourcarpet": [
           {
            "colorbar": {
             "outlinewidth": 0,
             "ticks": ""
            },
            "type": "contourcarpet"
           }
          ],
          "heatmap": [
           {
            "colorbar": {
             "outlinewidth": 0,
             "ticks": ""
            },
            "colorscale": [
             [
              0,
              "#0d0887"
             ],
             [
              0.1111111111111111,
              "#46039f"
             ],
             [
              0.2222222222222222,
              "#7201a8"
             ],
             [
              0.3333333333333333,
              "#9c179e"
             ],
             [
              0.4444444444444444,
              "#bd3786"
             ],
             [
              0.5555555555555556,
              "#d8576b"
             ],
             [
              0.6666666666666666,
              "#ed7953"
             ],
             [
              0.7777777777777778,
              "#fb9f3a"
             ],
             [
              0.8888888888888888,
              "#fdca26"
             ],
             [
              1,
              "#f0f921"
             ]
            ],
            "type": "heatmap"
           }
          ],
          "heatmapgl": [
           {
            "colorbar": {
             "outlinewidth": 0,
             "ticks": ""
            },
            "colorscale": [
             [
              0,
              "#0d0887"
             ],
             [
              0.1111111111111111,
              "#46039f"
             ],
             [
              0.2222222222222222,
              "#7201a8"
             ],
             [
              0.3333333333333333,
              "#9c179e"
             ],
             [
              0.4444444444444444,
              "#bd3786"
             ],
             [
              0.5555555555555556,
              "#d8576b"
             ],
             [
              0.6666666666666666,
              "#ed7953"
             ],
             [
              0.7777777777777778,
              "#fb9f3a"
             ],
             [
              0.8888888888888888,
              "#fdca26"
             ],
             [
              1,
              "#f0f921"
             ]
            ],
            "type": "heatmapgl"
           }
          ],
          "histogram": [
           {
            "marker": {
             "pattern": {
              "fillmode": "overlay",
              "size": 10,
              "solidity": 0.2
             }
            },
            "type": "histogram"
           }
          ],
          "histogram2d": [
           {
            "colorbar": {
             "outlinewidth": 0,
             "ticks": ""
            },
            "colorscale": [
             [
              0,
              "#0d0887"
             ],
             [
              0.1111111111111111,
              "#46039f"
             ],
             [
              0.2222222222222222,
              "#7201a8"
             ],
             [
              0.3333333333333333,
              "#9c179e"
             ],
             [
              0.4444444444444444,
              "#bd3786"
             ],
             [
              0.5555555555555556,
              "#d8576b"
             ],
             [
              0.6666666666666666,
              "#ed7953"
             ],
             [
              0.7777777777777778,
              "#fb9f3a"
             ],
             [
              0.8888888888888888,
              "#fdca26"
             ],
             [
              1,
              "#f0f921"
             ]
            ],
            "type": "histogram2d"
           }
          ],
          "histogram2dcontour": [
           {
            "colorbar": {
             "outlinewidth": 0,
             "ticks": ""
            },
            "colorscale": [
             [
              0,
              "#0d0887"
             ],
             [
              0.1111111111111111,
              "#46039f"
             ],
             [
              0.2222222222222222,
              "#7201a8"
             ],
             [
              0.3333333333333333,
              "#9c179e"
             ],
             [
              0.4444444444444444,
              "#bd3786"
             ],
             [
              0.5555555555555556,
              "#d8576b"
             ],
             [
              0.6666666666666666,
              "#ed7953"
             ],
             [
              0.7777777777777778,
              "#fb9f3a"
             ],
             [
              0.8888888888888888,
              "#fdca26"
             ],
             [
              1,
              "#f0f921"
             ]
            ],
            "type": "histogram2dcontour"
           }
          ],
          "mesh3d": [
           {
            "colorbar": {
             "outlinewidth": 0,
             "ticks": ""
            },
            "type": "mesh3d"
           }
          ],
          "parcoords": [
           {
            "line": {
             "colorbar": {
              "outlinewidth": 0,
              "ticks": ""
             }
            },
            "type": "parcoords"
           }
          ],
          "pie": [
           {
            "automargin": true,
            "type": "pie"
           }
          ],
          "scatter": [
           {
            "fillpattern": {
             "fillmode": "overlay",
             "size": 10,
             "solidity": 0.2
            },
            "type": "scatter"
           }
          ],
          "scatter3d": [
           {
            "line": {
             "colorbar": {
              "outlinewidth": 0,
              "ticks": ""
             }
            },
            "marker": {
             "colorbar": {
              "outlinewidth": 0,
              "ticks": ""
             }
            },
            "type": "scatter3d"
           }
          ],
          "scattercarpet": [
           {
            "marker": {
             "colorbar": {
              "outlinewidth": 0,
              "ticks": ""
             }
            },
            "type": "scattercarpet"
           }
          ],
          "scattergeo": [
           {
            "marker": {
             "colorbar": {
              "outlinewidth": 0,
              "ticks": ""
             }
            },
            "type": "scattergeo"
           }
          ],
          "scattergl": [
           {
            "marker": {
             "colorbar": {
              "outlinewidth": 0,
              "ticks": ""
             }
            },
            "type": "scattergl"
           }
          ],
          "scattermapbox": [
           {
            "marker": {
             "colorbar": {
              "outlinewidth": 0,
              "ticks": ""
             }
            },
            "type": "scattermapbox"
           }
          ],
          "scatterpolar": [
           {
            "marker": {
             "colorbar": {
              "outlinewidth": 0,
              "ticks": ""
             }
            },
            "type": "scatterpolar"
           }
          ],
          "scatterpolargl": [
           {
            "marker": {
             "colorbar": {
              "outlinewidth": 0,
              "ticks": ""
             }
            },
            "type": "scatterpolargl"
           }
          ],
          "scatterternary": [
           {
            "marker": {
             "colorbar": {
              "outlinewidth": 0,
              "ticks": ""
             }
            },
            "type": "scatterternary"
           }
          ],
          "surface": [
           {
            "colorbar": {
             "outlinewidth": 0,
             "ticks": ""
            },
            "colorscale": [
             [
              0,
              "#0d0887"
             ],
             [
              0.1111111111111111,
              "#46039f"
             ],
             [
              0.2222222222222222,
              "#7201a8"
             ],
             [
              0.3333333333333333,
              "#9c179e"
             ],
             [
              0.4444444444444444,
              "#bd3786"
             ],
             [
              0.5555555555555556,
              "#d8576b"
             ],
             [
              0.6666666666666666,
              "#ed7953"
             ],
             [
              0.7777777777777778,
              "#fb9f3a"
             ],
             [
              0.8888888888888888,
              "#fdca26"
             ],
             [
              1,
              "#f0f921"
             ]
            ],
            "type": "surface"
           }
          ],
          "table": [
           {
            "cells": {
             "fill": {
              "color": "#EBF0F8"
             },
             "line": {
              "color": "white"
             }
            },
            "header": {
             "fill": {
              "color": "#C8D4E3"
             },
             "line": {
              "color": "white"
             }
            },
            "type": "table"
           }
          ]
         },
         "layout": {
          "annotationdefaults": {
           "arrowcolor": "#2a3f5f",
           "arrowhead": 0,
           "arrowwidth": 1
          },
          "autotypenumbers": "strict",
          "coloraxis": {
           "colorbar": {
            "outlinewidth": 0,
            "ticks": ""
           }
          },
          "colorscale": {
           "diverging": [
            [
             0,
             "#8e0152"
            ],
            [
             0.1,
             "#c51b7d"
            ],
            [
             0.2,
             "#de77ae"
            ],
            [
             0.3,
             "#f1b6da"
            ],
            [
             0.4,
             "#fde0ef"
            ],
            [
             0.5,
             "#f7f7f7"
            ],
            [
             0.6,
             "#e6f5d0"
            ],
            [
             0.7,
             "#b8e186"
            ],
            [
             0.8,
             "#7fbc41"
            ],
            [
             0.9,
             "#4d9221"
            ],
            [
             1,
             "#276419"
            ]
           ],
           "sequential": [
            [
             0,
             "#0d0887"
            ],
            [
             0.1111111111111111,
             "#46039f"
            ],
            [
             0.2222222222222222,
             "#7201a8"
            ],
            [
             0.3333333333333333,
             "#9c179e"
            ],
            [
             0.4444444444444444,
             "#bd3786"
            ],
            [
             0.5555555555555556,
             "#d8576b"
            ],
            [
             0.6666666666666666,
             "#ed7953"
            ],
            [
             0.7777777777777778,
             "#fb9f3a"
            ],
            [
             0.8888888888888888,
             "#fdca26"
            ],
            [
             1,
             "#f0f921"
            ]
           ],
           "sequentialminus": [
            [
             0,
             "#0d0887"
            ],
            [
             0.1111111111111111,
             "#46039f"
            ],
            [
             0.2222222222222222,
             "#7201a8"
            ],
            [
             0.3333333333333333,
             "#9c179e"
            ],
            [
             0.4444444444444444,
             "#bd3786"
            ],
            [
             0.5555555555555556,
             "#d8576b"
            ],
            [
             0.6666666666666666,
             "#ed7953"
            ],
            [
             0.7777777777777778,
             "#fb9f3a"
            ],
            [
             0.8888888888888888,
             "#fdca26"
            ],
            [
             1,
             "#f0f921"
            ]
           ]
          },
          "colorway": [
           "#636efa",
           "#EF553B",
           "#00cc96",
           "#ab63fa",
           "#FFA15A",
           "#19d3f3",
           "#FF6692",
           "#B6E880",
           "#FF97FF",
           "#FECB52"
          ],
          "font": {
           "color": "#2a3f5f"
          },
          "geo": {
           "bgcolor": "white",
           "lakecolor": "white",
           "landcolor": "white",
           "showlakes": true,
           "showland": true,
           "subunitcolor": "#C8D4E3"
          },
          "hoverlabel": {
           "align": "left"
          },
          "hovermode": "closest",
          "mapbox": {
           "style": "light"
          },
          "paper_bgcolor": "white",
          "plot_bgcolor": "white",
          "polar": {
           "angularaxis": {
            "gridcolor": "#EBF0F8",
            "linecolor": "#EBF0F8",
            "ticks": ""
           },
           "bgcolor": "white",
           "radialaxis": {
            "gridcolor": "#EBF0F8",
            "linecolor": "#EBF0F8",
            "ticks": ""
           }
          },
          "scene": {
           "xaxis": {
            "backgroundcolor": "white",
            "gridcolor": "#DFE8F3",
            "gridwidth": 2,
            "linecolor": "#EBF0F8",
            "showbackground": true,
            "ticks": "",
            "zerolinecolor": "#EBF0F8"
           },
           "yaxis": {
            "backgroundcolor": "white",
            "gridcolor": "#DFE8F3",
            "gridwidth": 2,
            "linecolor": "#EBF0F8",
            "showbackground": true,
            "ticks": "",
            "zerolinecolor": "#EBF0F8"
           },
           "zaxis": {
            "backgroundcolor": "white",
            "gridcolor": "#DFE8F3",
            "gridwidth": 2,
            "linecolor": "#EBF0F8",
            "showbackground": true,
            "ticks": "",
            "zerolinecolor": "#EBF0F8"
           }
          },
          "shapedefaults": {
           "line": {
            "color": "#2a3f5f"
           }
          },
          "ternary": {
           "aaxis": {
            "gridcolor": "#DFE8F3",
            "linecolor": "#A2B1C6",
            "ticks": ""
           },
           "baxis": {
            "gridcolor": "#DFE8F3",
            "linecolor": "#A2B1C6",
            "ticks": ""
           },
           "bgcolor": "white",
           "caxis": {
            "gridcolor": "#DFE8F3",
            "linecolor": "#A2B1C6",
            "ticks": ""
           }
          },
          "title": {
           "x": 0.05
          },
          "xaxis": {
           "automargin": true,
           "gridcolor": "#EBF0F8",
           "linecolor": "#EBF0F8",
           "ticks": "",
           "title": {
            "standoff": 15
           },
           "zerolinecolor": "#EBF0F8",
           "zerolinewidth": 2
          },
          "yaxis": {
           "automargin": true,
           "gridcolor": "#EBF0F8",
           "linecolor": "#EBF0F8",
           "ticks": "",
           "title": {
            "standoff": 15
           },
           "zerolinecolor": "#EBF0F8",
           "zerolinewidth": 2
          }
         }
        },
        "title": {
         "font": {
          "color": "Black",
          "size": 22
         },
         "text": "<b>Term score decline per Topic</b>",
         "x": 0.5,
         "xanchor": "center",
         "y": 0.9,
         "yanchor": "top"
        },
        "width": 800,
        "xaxis": {
         "dtick": 2,
         "range": [
          0,
          10
         ],
         "tick0": 1,
         "title": {
          "text": "Term Rank"
         }
        },
        "yaxis": {
         "title": {
          "text": "c-TF-IDF score"
         }
        }
       }
      }
     },
     "metadata": {},
     "output_type": "display_data"
    }
   ],
   "source": [
    "topic_model.visualize_term_rank()"
   ]
  },
  {
   "cell_type": "code",
   "execution_count": null,
   "metadata": {},
   "outputs": [
    {
     "data": {
      "application/vnd.plotly.v1+json": {
       "config": {
        "plotlyServerURL": "https://plot.ly"
       },
       "data": [
        {
         "hovertext": "<b>Topic -1</b>:and_customer_inform_contact_talk_s",
         "line": {
          "color": "black",
          "width": 1.5
         },
         "mode": "lines+lines",
         "name": "",
         "opacity": 0.1,
         "type": "scatter",
         "x": [
          1,
          2,
          3,
          4,
          5,
          6,
          7,
          8,
          9,
          10
         ],
         "y": [
          -2.1340043834754585,
          -2.229265769279244,
          -2.2715428308461236,
          -2.2821659329096646,
          -2.2891883504024864,
          -2.291653487893985,
          -2.2990698654303627,
          -2.3117811710686396,
          -2.3216038713646103,
          -2.333758665869167
         ]
        },
        {
         "hovertext": "<b>Topic 0</b>:some_bill_invoice_obtain_request_ab",
         "line": {
          "color": "black",
          "width": 1.5
         },
         "mode": "lines+lines",
         "name": "",
         "opacity": 0.1,
         "type": "scatter",
         "x": [
          1,
          2,
          3,
          4,
          5,
          6,
          7,
          8,
          9,
          10
         ],
         "y": [
          -1.3785179105613077,
          -1.426704443214825,
          -1.559778735968933,
          -1.5987692550544965,
          -1.6156681710834848,
          -1.6432117632856165,
          -1.7925388394231705,
          -1.8379630471082737,
          -1.8950240012318695,
          -1.9837141600753398
         ]
        },
        {
         "hovertext": "<b>Topic 1</b>:report_issue_problem_inform_pay_for",
         "line": {
          "color": "black",
          "width": 1.5
         },
         "mode": "lines+lines",
         "name": "",
         "opacity": 0.1,
         "type": "scatter",
         "x": [
          1,
          2,
          3,
          4,
          5,
          6,
          7,
          8,
          9,
          10
         ],
         "y": [
          -1.5132251857563912,
          -1.6793979607035088,
          -1.7207906458617337,
          -1.7523051452154461,
          -1.7692196338395898,
          -1.894059750206908,
          -1.9037907245375176,
          -1.9281559346829729,
          -1.9680906490032628,
          -1.9686110021820555
         ]
        },
        {
         "hovertext": "<b>Topic 2</b>:understand_human_person_speak_talk_",
         "line": {
          "color": "black",
          "width": 1.5
         },
         "mode": "lines+lines",
         "name": "",
         "opacity": 0.1,
         "type": "scatter",
         "x": [
          1,
          2,
          3,
          4,
          5,
          6,
          7,
          8,
          9,
          10
         ],
         "y": [
          -1.2551430100714986,
          -1.2671598356161977,
          -1.3897381056181268,
          -1.417580767684071,
          -1.471001843059064,
          -1.4927216949653765,
          -1.5162907360545597,
          -1.656098130056074,
          -1.7818401628288587,
          -1.798083272409113
         ]
        },
        {
         "hovertext": "<b>Topic 3</b>:charge_anyway_but_error_attempt_mes",
         "line": {
          "color": "black",
          "width": 1.5
         },
         "mode": "lines+lines",
         "name": "",
         "opacity": 0.1,
         "type": "scatter",
         "x": [
          1,
          2,
          3,
          4,
          5,
          6,
          7,
          8,
          9,
          10
         ],
         "y": [
          -1.403618038689702,
          -1.4038525716221966,
          -1.405094290065038,
          -1.5360886326332541,
          -1.620011809904701,
          -1.6275638662224112,
          -1.6923946113910797,
          -1.714052678797503,
          -1.74586523505077,
          -1.846681330280138
         ]
        },
        {
         "hovertext": "<b>Topic 4</b>:call_question_customer_support_clie",
         "line": {
          "color": "black",
          "width": 1.5
         },
         "mode": "lines+lines",
         "name": "",
         "opacity": 0.1,
         "type": "scatter",
         "x": [
          1,
          2,
          3,
          4,
          5,
          6,
          7,
          8,
          9,
          10
         ],
         "y": [
          -1.1508574411816455,
          -1.2535054683547355,
          -1.350665267488113,
          -1.408112599549524,
          -1.4659978390162978,
          -1.4837284195027989,
          -1.5206102675889552,
          -1.5413298020126134,
          -1.5686732877089375,
          -1.7269968780861262
         ]
        },
        {
         "hovertext": "<b>Topic 5</b>:mail_address_customer_support_clien",
         "line": {
          "color": "black",
          "width": 1.5
         },
         "mode": "lines+lines",
         "name": "",
         "opacity": 0.1,
         "type": "scatter",
         "x": [
          1,
          2,
          3,
          4,
          5,
          6,
          7,
          8,
          9,
          10
         ],
         "y": [
          -1.1951790728494673,
          -1.436063321629444,
          -1.5200960241712995,
          -1.5438183527666896,
          -1.5550521346864075,
          -1.6030019039113053,
          -1.641132124544698,
          -1.6417842786280876,
          -1.670857611264403,
          -1.712860966164974
         ]
        },
        {
         "hovertext": "<b>Topic 6</b>:purchase_buy_product_something_item",
         "line": {
          "color": "black",
          "width": 1.5
         },
         "mode": "lines+lines",
         "name": "",
         "opacity": 0.1,
         "type": "scatter",
         "x": [
          1,
          2,
          3,
          4,
          5,
          6,
          7,
          8,
          9,
          10
         ],
         "y": [
          -1.1028792460481551,
          -1.1136053026918342,
          -1.141599602948135,
          -1.1619782286116191,
          -1.1862782074881904,
          -1.2153183440345605,
          -1.4022862552198039,
          -1.4345052670291274,
          -1.8889566534007973,
          -2.0673077385450958
         ]
        },
        {
         "hovertext": "<b>Topic 7</b>:several_more_than_single_same_email",
         "line": {
          "color": "black",
          "width": 1.5
         },
         "mode": "lines+lines",
         "name": "",
         "opacity": 0.1,
         "type": "scatter",
         "x": [
          1,
          2,
          3,
          4,
          5,
          6,
          7,
          8,
          9,
          10
         ],
         "y": [
          -1.2583620244646085,
          -1.2672789661245794,
          -1.268124622057863,
          -1.3226836367697081,
          -1.3312317250478207,
          -1.386945031443526,
          -1.4321465429729217,
          -1.5809518203294624,
          -1.591554130086526,
          -1.6228338243779046
         ]
        },
        {
         "hovertext": "<b>Topic 8</b>:status_of_refund_reimbursement_view",
         "line": {
          "color": "black",
          "width": 1.5
         },
         "mode": "lines+lines",
         "name": "",
         "opacity": 0.1,
         "type": "scatter",
         "x": [
          1,
          2,
          3,
          4,
          5,
          6,
          7,
          8,
          9,
          10
         ],
         "y": [
          -0.9807333421093755,
          -1.4980076545830157,
          -1.6582273658980324,
          -1.7336087834357887,
          -1.7460236341246989,
          -1.7614349067946837,
          -1.7770523807176843,
          -1.8730628826474771,
          -1.9499526039033055,
          -1.9840788191101288
         ]
        },
        {
         "hovertext": "<b>Topic 9</b>:option_delivery_ticket_check_for_vi",
         "line": {
          "color": "black",
          "width": 1.5
         },
         "mode": "lines+lines",
         "name": "",
         "opacity": 0.1,
         "type": "scatter",
         "x": [
          1,
          2,
          3,
          4,
          5,
          6,
          7,
          8,
          9,
          10
         ],
         "y": [
          -0.9625333270564191,
          -1.0826605766513386,
          -1.2484694051994565,
          -1.6450851418780734,
          -1.6911138714014107,
          -1.6918279472946058,
          -1.7900195758656703,
          -1.8459616940004318,
          -1.863836022303844,
          -2.0708934738168177
         ]
        },
        {
         "hovertext": "<b>Topic 10</b>:consumer_complaint_happy_lodge_fil",
         "line": {
          "color": "black",
          "width": 1.5
         },
         "mode": "lines+lines",
         "name": "",
         "opacity": 0.1,
         "type": "scatter",
         "x": [
          1,
          2,
          3,
          4,
          5,
          6,
          7,
          8,
          9,
          10
         ],
         "y": [
          -1.0456757881734149,
          -1.0998264081339448,
          -1.4057446123448356,
          -1.4152124797847923,
          -1.43306765879955,
          -1.5041376412790095,
          -1.5336918955048173,
          -1.5850937489873,
          -1.714544960527382,
          -1.9325835577523713
         ]
        },
        {
         "hovertext": "<b>Topic 11</b>:comment_opinion_leave_happy_write_",
         "line": {
          "color": "black",
          "width": 1.5
         },
         "mode": "lines+lines",
         "name": "",
         "opacity": 0.1,
         "type": "scatter",
         "x": [
          1,
          2,
          3,
          4,
          5,
          6,
          7,
          8,
          9,
          10
         ],
         "y": [
          -1.0242858799158168,
          -1.0523146035160602,
          -1.230242176346935,
          -1.2976931312548157,
          -1.3564376264857418,
          -1.523981303597949,
          -1.6055262852702297,
          -1.672417057898336,
          -1.7245975794554464,
          -1.7283091789827856
         ]
        },
        {
         "hovertext": "<b>Topic 12</b>:create_one_no_user_account_have_pr",
         "line": {
          "color": "black",
          "width": 1.5
         },
         "mode": "lines+lines",
         "name": "",
         "opacity": 0.1,
         "type": "scatter",
         "x": [
          1,
          2,
          3,
          4,
          5,
          6,
          7,
          8,
          9,
          10
         ],
         "y": [
          -1.1133571375519586,
          -1.2734803429970012,
          -1.497399131502293,
          -1.6287856074470812,
          -1.650358602131,
          -1.798199388044723,
          -1.7995270097227785,
          -1.8054746066517642,
          -1.9473671598265496,
          -1.983665209765413
         ]
        },
        {
         "hovertext": "<b>Topic 13</b>:open_one_no_user_account_online_ha",
         "line": {
          "color": "black",
          "width": 1.5
         },
         "mode": "lines+lines",
         "name": "",
         "opacity": 0.1,
         "type": "scatter",
         "x": [
          1,
          2,
          3,
          4,
          5,
          6,
          7,
          8,
          9,
          10
         ],
         "y": [
          -0.8906692222544936,
          -1.282748718103626,
          -1.432547936171456,
          -1.5374595165846223,
          -1.558003376943591,
          -1.7222664060114845,
          -1.8246839455860198,
          -1.9998373259021167,
          -2.0087684223702085,
          -2.0548322181149485
         ]
        },
        {
         "hovertext": "<b>Topic 14</b>:hack_recover_back_be_profile_accou",
         "line": {
          "color": "black",
          "width": 1.5
         },
         "mode": "lines+lines",
         "name": "",
         "opacity": 0.1,
         "type": "scatter",
         "x": [
          1,
          2,
          3,
          4,
          5,
          6,
          7,
          8,
          9,
          10
         ],
         "y": [
          -0.8792724254927342,
          -1.266018845952237,
          -1.2802454375414771,
          -1.6678104165015364,
          -1.7005679114086338,
          -1.7472269825924547,
          -1.7585773016013357,
          -1.7636697734574922,
          -1.8588013182277483,
          -1.9193046625371117
         ]
        },
        {
         "hovertext": "<b>Topic 15</b>:reimbursement_obtain_refund_reques",
         "line": {
          "color": "black",
          "width": 1.5
         },
         "mode": "lines+lines",
         "name": "",
         "opacity": 0.1,
         "type": "scatter",
         "x": [
          1,
          2,
          3,
          4,
          5,
          6,
          7,
          8,
          9,
          10
         ],
         "y": [
          -1.1479205423785874,
          -1.4291322452110622,
          -1.5319571225699307,
          -1.5850795231820514,
          -1.6190943477972048,
          -1.648917865664621,
          -1.8732272420972647,
          -1.8933294391055098,
          -1.8959546011190958,
          -1.9688410287835238
         ]
        },
        {
         "hovertext": "<b>Topic 16</b>:remove_delete_profile_account_user",
         "line": {
          "color": "black",
          "width": 1.5
         },
         "mode": "lines+lines",
         "name": "",
         "opacity": 0.1,
         "type": "scatter",
         "x": [
          1,
          2,
          3,
          4,
          5,
          6,
          7,
          8,
          9,
          10
         ],
         "y": [
          -1.0214530342478183,
          -1.069976234072269,
          -1.6770702145323053,
          -1.6832712723135872,
          -1.7118835075632515,
          -1.869692215341393,
          -1.8754023834108513,
          -1.8958194526776866,
          -1.978996792338844,
          -2.015334126012936
         ]
        },
        {
         "hovertext": "<b>Topic 17</b>:game_cancel_postpone_refund_reimbu",
         "line": {
          "color": "black",
          "width": 1.5
         },
         "mode": "lines+lines",
         "name": "",
         "opacity": 0.1,
         "type": "scatter",
         "x": [
          1,
          2,
          3,
          4,
          5,
          6,
          7,
          8,
          9,
          10
         ],
         "y": [
          -0.9691769214250713,
          -1.1318582409381899,
          -1.4186307002003153,
          -1.5512219806146195,
          -1.6523818862422086,
          -1.679557270418892,
          -1.7400161225166189,
          -1.791946162483832,
          -1.8490827837356516,
          -1.8991392466832726
         ]
        },
        {
         "hovertext": "<b>Topic 18</b>:number_phone_free_contact_customer",
         "line": {
          "color": "black",
          "width": 1.5
         },
         "mode": "lines+lines",
         "name": "",
         "opacity": 0.1,
         "type": "scatter",
         "x": [
          1,
          2,
          3,
          4,
          5,
          6,
          7,
          8,
          9,
          10
         ],
         "y": [
          -0.9547227262645722,
          -1.0973294443956632,
          -1.1136831336369843,
          -1.492567242056028,
          -1.5355521749142553,
          -1.54967997374532,
          -1.6528026704155832,
          -1.6769625623599056,
          -1.714343754641473,
          -1.8021220149032842
         ]
        },
        {
         "hovertext": "<b>Topic 19</b>:money_policy_back_guarantee_your_t",
         "line": {
          "color": "black",
          "width": 1.5
         },
         "mode": "lines+lines",
         "name": "",
         "opacity": 0.1,
         "type": "scatter",
         "x": [
          1,
          2,
          3,
          4,
          5,
          6,
          7,
          8,
          9,
          10
         ],
         "y": [
          -0.9674207376374785,
          -1.0665307920573455,
          -1.0894923998436294,
          -1.1102500568760638,
          -1.153245652210434,
          -1.253523408012642,
          -1.4305169708649625,
          -1.4873565835632316,
          -1.4983562866331175,
          -1.5407557689736155
         ]
        },
        {
         "hovertext": "<b>Topic 20</b>:solve_problem_issue_payment_ask_ag",
         "line": {
          "color": "black",
          "width": 1.5
         },
         "mode": "lines+lines",
         "name": "",
         "opacity": 0.1,
         "type": "scatter",
         "x": [
          1,
          2,
          3,
          4,
          5,
          6,
          7,
          8,
          9,
          10
         ],
         "y": [
          -0.824961453609393,
          -1.5629967110643304,
          -1.609677250818184,
          -1.610792353563373,
          -1.904039194456775,
          -1.9345918909905628,
          -1.9488293058126975,
          -1.9732918319711614,
          -2.049747564373199,
          -2.0509244994733735
         ]
        },
        {
         "hovertext": "<b>Topic 21</b>:download_some_bill_invoice_about_t",
         "line": {
          "color": "black",
          "width": 1.5
         },
         "mode": "lines+lines",
         "name": "",
         "opacity": 0.1,
         "type": "scatter",
         "x": [
          1,
          2,
          3,
          4,
          5,
          6,
          7,
          8,
          9,
          10
         ],
         "y": [
          -0.768334789459688,
          -1.3339763585388968,
          -1.47390819632202,
          -1.5100975442941111,
          -1.7541610498284286,
          -1.8129788931333535,
          -1.8622828184320226,
          -1.9431833624083337,
          -2.0067968022986853,
          -2.064541466377355
         ]
        },
        {
         "hovertext": "<b>Topic 22</b>:newsletter_subscribe_there_receive",
         "line": {
          "color": "black",
          "width": 1.5
         },
         "mode": "lines+lines",
         "name": "",
         "opacity": 0.1,
         "type": "scatter",
         "x": [
          1,
          2,
          3,
          4,
          5,
          6,
          7,
          8,
          9,
          10
         ],
         "y": [
          -0.7968498350779265,
          -1.0324993039297499,
          -1.2152697732772397,
          -1.2840529115624024,
          -1.3496976786064867,
          -1.372053375076227,
          -1.3963000360119346,
          -1.6354141897517132,
          -1.7135254126701025,
          -1.840693185389749
         ]
        },
        {
         "hovertext": "<b>Topic 23</b>:two_same_single_email_register_cre",
         "line": {
          "color": "black",
          "width": 1.5
         },
         "mode": "lines+lines",
         "name": "",
         "opacity": 0.1,
         "type": "scatter",
         "x": [
          1,
          2,
          3,
          4,
          5,
          6,
          7,
          8,
          9,
          10
         ],
         "y": [
          -0.893682473027301,
          -1.2675380809337207,
          -1.2972096151008963,
          -1.3402679390987469,
          -1.4349354290469396,
          -1.5204191178575448,
          -1.5334453939034378,
          -1.5643023962265534,
          -1.636147606760566,
          -1.783734781569267
         ]
        },
        {
         "hovertext": "<b>Topic 24</b>:register_no_registering_registrati",
         "line": {
          "color": "black",
          "width": 1.5
         },
         "mode": "lines+lines",
         "name": "",
         "opacity": 0.1,
         "type": "scatter",
         "x": [
          1,
          2,
          3,
          4,
          5,
          6,
          7,
          8,
          9,
          10
         ],
         "y": [
          -1.0170804148474866,
          -1.2527016281095609,
          -1.300667838699339,
          -1.4861710224550866,
          -1.5778908478935114,
          -1.6096780581504635,
          -1.6118998006443823,
          -1.743704201955465,
          -1.7773703006559884,
          -1.8475666598084028
         ]
        },
        {
         "hovertext": "<b>Topic 25</b>:pop_error_attempt_message_when_try",
         "line": {
          "color": "black",
          "width": 1.5
         },
         "mode": "lines+lines",
         "name": "",
         "opacity": 0.1,
         "type": "scatter",
         "x": [
          1,
          2,
          3,
          4,
          5,
          6,
          7,
          8,
          9,
          10
         ],
         "y": [
          -0.9044964167597066,
          -1.4066504259277595,
          -1.4927788384997132,
          -1.5118993530730367,
          -1.5623502713256407,
          -1.7043332075174054,
          -1.7370151218631118,
          -1.8100452007177266,
          -1.8564024140433373,
          -1.8681103988822956
         ]
        },
        {
         "hovertext": "<b>Topic 26</b>:find_them_not_view_bill_invoice_ch",
         "line": {
          "color": "black",
          "width": 1.5
         },
         "mode": "lines+lines",
         "name": "",
         "opacity": 0.1,
         "type": "scatter",
         "x": [
          1,
          2,
          3,
          4,
          5,
          6,
          7,
          8,
          9,
          10
         ],
         "y": [
          -0.8632583622904543,
          -1.2461625496676898,
          -1.4900286720427194,
          -1.5351192374988791,
          -1.546925326955101,
          -1.5716437015346503,
          -1.7661765870278532,
          -1.7950682565269294,
          -1.9499127375793543,
          -1.9695056052236262
         ]
        },
        {
         "hovertext": "<b>Topic 27</b>:complaint_file_lodge_for_service_s",
         "line": {
          "color": "black",
          "width": 1.5
         },
         "mode": "lines+lines",
         "name": "",
         "opacity": 0.1,
         "type": "scatter",
         "x": [
          1,
          2,
          3,
          4,
          5,
          6,
          7,
          8,
          9,
          10
         ],
         "y": [
          -0.979575767353331,
          -1.187644067897189,
          -1.2219095420987351,
          -1.5350028361118446,
          -1.7137325674604105,
          -1.8914195817689905,
          -1.9149033299870741,
          -1.9437172826806863,
          -1.959417357196012,
          -1.9861692025141817
         ]
        },
        {
         "hovertext": "<b>Topic 28</b>:lose_them_bill_view_invoice_check_",
         "line": {
          "color": "black",
          "width": 1.5
         },
         "mode": "lines+lines",
         "name": "",
         "opacity": 0.1,
         "type": "scatter",
         "x": [
          1,
          2,
          3,
          4,
          5,
          6,
          7,
          8,
          9,
          10
         ],
         "y": [
          -0.7517959992038344,
          -1.1340199473437753,
          -1.448432688492493,
          -1.4689565556928212,
          -1.469713091128869,
          -1.6549689570390118,
          -1.7121720019425835,
          -1.8512763485283856,
          -1.8911976465881957,
          -1.9465511437415348
         ]
        },
        {
         "hovertext": "<b>Topic 29</b>:fee_cancellation_view_the_check_se",
         "line": {
          "color": "black",
          "width": 1.5
         },
         "mode": "lines+lines",
         "name": "",
         "opacity": 0.1,
         "type": "scatter",
         "x": [
          1,
          2,
          3,
          4,
          5,
          6,
          7,
          8,
          9,
          10
         ],
         "y": [
          -0.6396773493543063,
          -0.8149623133345131,
          -1.6164297551017497,
          -1.6869734531543126,
          -1.704819601061992,
          -1.725593380338889,
          -1.8049670022428217,
          -1.9552321016067062,
          -2.053550271210633,
          -2.053550271210633
         ]
        },
        {
         "hovertext": "<b>Topic 30</b>:remember_password_forget_retrieve_",
         "line": {
          "color": "black",
          "width": 1.5
         },
         "mode": "lines+lines",
         "name": "",
         "opacity": 0.1,
         "type": "scatter",
         "x": [
          1,
          2,
          3,
          4,
          5,
          6,
          7,
          8,
          9,
          10
         ],
         "y": [
          -0.9198257972089575,
          -1.0171982498039132,
          -1.0341783226908057,
          -1.060463852589212,
          -1.1658380394282628,
          -1.6856970363103867,
          -1.7329500232101058,
          -1.8756932682870682,
          -1.8778762247041267,
          -1.9085383477485354
         ]
        },
        {
         "hovertext": "<b>Topic 31</b>:event_postpone_cancel_refund_reimb",
         "line": {
          "color": "black",
          "width": 1.5
         },
         "mode": "lines+lines",
         "name": "",
         "opacity": 0.1,
         "type": "scatter",
         "x": [
          1,
          2,
          3,
          4,
          5,
          6,
          7,
          8,
          9,
          10
         ],
         "y": [
          -0.7021883964456899,
          -1.2083259063440421,
          -1.2646304879850971,
          -1.4171943318832847,
          -1.4227410140059056,
          -1.493832199322106,
          -1.5211702758281125,
          -1.634220698077173,
          -1.6827268594735967,
          -1.9053456141483278
         ]
        },
        {
         "hovertext": "<b>Topic 32</b>:notify_payment_problem_issue_ask_a",
         "line": {
          "color": "black",
          "width": 1.5
         },
         "mode": "lines+lines",
         "name": "",
         "opacity": 0.1,
         "type": "scatter",
         "x": [
          1,
          2,
          3,
          4,
          5,
          6,
          7,
          8,
          9,
          10
         ],
         "y": [
          -1.2157352206405145,
          -1.5231746390500582,
          -1.6345046259503204,
          -1.6345046259503204,
          -1.7256459926886494,
          -1.7481476855677551,
          -1.7717168874972151,
          -1.908611445892373,
          -1.9397750511092238,
          -1.9655786674349403
         ]
        },
        {
         "hovertext": "<b>Topic 33</b>:receive_them_not_bill_invoice_chec",
         "line": {
          "color": "black",
          "width": 1.5
         },
         "mode": "lines+lines",
         "name": "",
         "opacity": 0.1,
         "type": "scatter",
         "x": [
          1,
          2,
          3,
          4,
          5,
          6,
          7,
          8,
          9,
          10
         ],
         "y": [
          -0.8948738144341751,
          -1.2387997960664907,
          -1.5077848817052486,
          -1.532126999818659,
          -1.5733555464073221,
          -1.601690413446953,
          -1.6492094379832625,
          -1.8166993036706274,
          -1.8420211455606212,
          -1.9427195971347353
         ]
        },
        {
         "hovertext": "<b>Topic 34</b>:penalty_cancellation_view_the_chec",
         "line": {
          "color": "black",
          "width": 1.5
         },
         "mode": "lines+lines",
         "name": "",
         "opacity": 0.1,
         "type": "scatter",
         "x": [
          1,
          2,
          3,
          4,
          5,
          6,
          7,
          8,
          9,
          10
         ],
         "y": [
          -0.6734782058823621,
          -0.8259268632073863,
          -1.559406041267195,
          -1.7146517522771663,
          -1.743260659361313,
          -1.795442902889834,
          -1.8770190887022136,
          -2.0264897807535216,
          -2.032524590527047,
          -2.0489630779956243
         ]
        },
        {
         "hovertext": "<b>Topic 35</b>:send_email_question_customer_clien",
         "line": {
          "color": "black",
          "width": 1.5
         },
         "mode": "lines+lines",
         "name": "",
         "opacity": 0.1,
         "type": "scatter",
         "x": [
          1,
          2,
          3,
          4,
          5,
          6,
          7,
          8,
          9,
          10
         ],
         "y": [
          -0.7998800902533799,
          -1.2689641352635408,
          -1.367516888441841,
          -1.4736273760690841,
          -1.6011985581733412,
          -1.604950643287891,
          -1.6290566437913996,
          -1.660839374640779,
          -1.837306245010252,
          -1.9098275282040513
         ]
        },
        {
         "hovertext": "<b>Topic 36</b>:concert_postpone_cancel_refund_rei",
         "line": {
          "color": "black",
          "width": 1.5
         },
         "mode": "lines+lines",
         "name": "",
         "opacity": 0.1,
         "type": "scatter",
         "x": [
          1,
          2,
          3,
          4,
          5,
          6,
          7,
          8,
          9,
          10
         ],
         "y": [
          -0.696185828047673,
          -1.1895339705372547,
          -1.2809184643570584,
          -1.3646050317509983,
          -1.4543544607339542,
          -1.4969086784107437,
          -1.502112309702499,
          -1.6390661999046574,
          -1.6840521487624711,
          -1.9640818282528698
         ]
        },
        {
         "hovertext": "<b>Topic 37</b>:reset_password_forget_remember_los",
         "line": {
          "color": "black",
          "width": 1.5
         },
         "mode": "lines+lines",
         "name": "",
         "opacity": 0.1,
         "type": "scatter",
         "x": [
          1,
          2,
          3,
          4,
          5,
          6,
          7,
          8,
          9,
          10
         ],
         "y": [
          -0.7103186973663705,
          -1.01050352884867,
          -1.2913630794484663,
          -1.3547125940097493,
          -1.4936762257121998,
          -1.819455005691981,
          -1.842608398433383,
          -1.9083146778951476,
          -2.1612689143902823,
          -2.199646584644664
         ]
        },
        {
         "hovertext": "<b>Topic 38</b>:close_closing_account_user_online_",
         "line": {
          "color": "black",
          "width": 1.5
         },
         "mode": "lines+lines",
         "name": "",
         "opacity": 0.1,
         "type": "scatter",
         "x": [
          1,
          2,
          3,
          4,
          5,
          6,
          7,
          8,
          9,
          10
         ],
         "y": [
          -0.782873597190942,
          -1.454205559415662,
          -1.6639122307138143,
          -1.7283840548733889,
          -1.7822073260926368,
          -1.7977348869210905,
          -1.872847923348606,
          -1.924752906257504,
          -1.9527749810176063,
          -2.0083800032535883
         ]
        },
        {
         "hovertext": "<b>Topic 39</b>:other_use_them_switch_change_accou",
         "line": {
          "color": "black",
          "width": 1.5
         },
         "mode": "lines+lines",
         "name": "",
         "opacity": 0.1,
         "type": "scatter",
         "x": [
          1,
          2,
          3,
          4,
          5,
          6,
          7,
          8,
          9,
          10
         ],
         "y": [
          -0.7414170246767793,
          -0.7416118418301585,
          -1.0167538873797768,
          -1.037113748589166,
          -1.5440501042503845,
          -1.7685399231203405,
          -1.8081743766473117,
          -1.8288986656918418,
          -1.8865249614994417,
          -1.9240421388554434
         ]
        },
        {
         "hovertext": "<b>Topic 40</b>:another_switch_change_account_prof",
         "line": {
          "color": "black",
          "width": 1.5
         },
         "mode": "lines+lines",
         "name": "",
         "opacity": 0.1,
         "type": "scatter",
         "x": [
          1,
          2,
          3,
          4,
          5,
          6,
          7,
          8,
          9,
          10
         ],
         "y": [
          -0.611049249779335,
          -0.8926380250150826,
          -1.3853548206021942,
          -1.648423545405702,
          -1.6639012749731568,
          -1.6703292319722416,
          -1.7728330326223918,
          -1.9581474027397787,
          -1.9740811899982693,
          -1.9741247133048567
         ]
        },
        {
         "hovertext": "<b>Topic 41</b>:mind_delete_remove_change_my_accou",
         "line": {
          "color": "black",
          "width": 1.5
         },
         "mode": "lines+lines",
         "name": "",
         "opacity": 0.1,
         "type": "scatter",
         "x": [
          1,
          2,
          3,
          4,
          5,
          6,
          7,
          8,
          9,
          10
         ],
         "y": [
          -0.8124654762747897,
          -1.0681946079033136,
          -1.093364655423221,
          -1.1464619134060496,
          -1.6264420372195292,
          -1.7105606338735384,
          -1.7394023249989747,
          -1.7877589550977437,
          -1.8345457981625766,
          -2.1586956208694636
         ]
        },
        {
         "hovertext": "<b>Topic 42</b>:shipment_check_know_tell_where_my_",
         "line": {
          "color": "black",
          "width": 1.5
         },
         "mode": "lines+lines",
         "name": "",
         "opacity": 0.1,
         "type": "scatter",
         "x": [
          1,
          2,
          3,
          4,
          5,
          6,
          7,
          8,
          9,
          10
         ],
         "y": [
          -0.7834115205519644,
          -1.3331497493733722,
          -1.623472899184019,
          -1.7907144497059344,
          -1.827504912560629,
          -1.9082621390945227,
          -1.9875031435356851,
          -2.01268538569586,
          -2.055001355846332,
          -2.1035562091916926
         ]
        },
        {
         "hovertext": "<b>Topic 43</b>:steal_stole_someone_password_reset",
         "line": {
          "color": "black",
          "width": 1.5
         },
         "mode": "lines+lines",
         "name": "",
         "opacity": 0.1,
         "type": "scatter",
         "x": [
          1,
          2,
          3,
          4,
          5,
          6,
          7,
          8,
          9,
          10
         ],
         "y": [
          -0.7959080220986702,
          -0.881023318403528,
          -0.8894428638781251,
          -1.0203564192714685,
          -1.2227028784836627,
          -1.2813542054782916,
          -1.4205094448066773,
          -1.7039934388758484,
          -1.7805402698017547,
          -1.9022065142110645
         ]
        },
        {
         "hovertext": "<b>Topic 44</b>:package_check_where_know_my_tell_a",
         "line": {
          "color": "black",
          "width": 1.5
         },
         "mode": "lines+lines",
         "name": "",
         "opacity": 0.1,
         "type": "scatter",
         "x": [
          1,
          2,
          3,
          4,
          5,
          6,
          7,
          8,
          9,
          10
         ],
         "y": [
          -0.7892401191385141,
          -1.2813969580233748,
          -1.7560080630148747,
          -1.8249773217020022,
          -1.8968525894233408,
          -1.9103577962032385,
          -1.9974457555191025,
          -2.024103408169366,
          -2.069112519040313,
          -2.0882010434491893
         ]
        },
        {
         "hovertext": "<b>Topic 45</b>:policy_your_refund_reimbursement_c",
         "line": {
          "color": "black",
          "width": 1.5
         },
         "mode": "lines+lines",
         "name": "",
         "opacity": 0.1,
         "type": "scatter",
         "x": [
          1,
          2,
          3,
          4,
          5,
          6,
          7,
          8,
          9,
          10
         ],
         "y": [
          -0.7467182707300914,
          -0.8583838095829092,
          -1.1972612478137679,
          -1.455834108165941,
          -1.5122119174464803,
          -1.5443960026920878,
          -1.612166942771002,
          -1.9725825833233699,
          -2.059591418129137,
          -2.059591418129137
         ]
        },
        {
         "hovertext": "<b>Topic 46</b>:track_delivery_order_tell_know_my_",
         "line": {
          "color": "black",
          "width": 1.5
         },
         "mode": "lines+lines",
         "name": "",
         "opacity": 0.1,
         "type": "scatter",
         "x": [
          1,
          2,
          3,
          4,
          5,
          6,
          7,
          8,
          9,
          10
         ],
         "y": [
          -0.8816688246720394,
          -1.342681612404366,
          -1.4744827501947613,
          -1.7084911154991826,
          -1.802524750861096,
          -1.8482972160182294,
          -1.8663780610726692,
          -1.9317588893306676,
          -1.9827051695230513,
          -2.073362212955186
         ]
        },
        {
         "hovertext": "<b>Topic 47</b>:shipping_address_update_edit_ship_",
         "line": {
          "color": "black",
          "width": 1.5
         },
         "mode": "lines+lines",
         "name": "",
         "opacity": 0.1,
         "type": "scatter",
         "x": [
          1,
          2,
          3,
          4,
          5,
          6,
          7,
          8,
          9,
          10
         ],
         "y": [
          -0.7546849375664005,
          -1.1030048954825118,
          -1.135381039736412,
          -1.1853243287357584,
          -1.2408766174788548,
          -1.6305809194472107,
          -1.6429481413538227,
          -1.6518462275012968,
          -1.6689484580878746,
          -1.8683559815311934
         ]
        },
        {
         "hovertext": "<b>Topic 48</b>:package_track_tell_where_my_me_cou",
         "line": {
          "color": "black",
          "width": 1.5
         },
         "mode": "lines+lines",
         "name": "",
         "opacity": 0.1,
         "type": "scatter",
         "x": [
          1,
          2,
          3,
          4,
          5,
          6,
          7,
          8,
          9,
          10
         ],
         "y": [
          -0.7853269302103071,
          -0.9378069949205823,
          -1.7355115193510116,
          -1.820178560916018,
          -1.904354293094675,
          -2.007492615642591,
          -2.0554615283422764,
          -2.1056611246539236,
          -2.121067215666866,
          -2.121067215666866
         ]
        },
        {
         "hovertext": "<b>Topic 49</b>:discontent_complaint_consumer_subm",
         "line": {
          "color": "black",
          "width": 1.5
         },
         "mode": "lines+lines",
         "name": "",
         "opacity": 0.1,
         "type": "scatter",
         "x": [
          1,
          2,
          3,
          4,
          5,
          6,
          7,
          8,
          9,
          10
         ],
         "y": [
          -0.693467228909404,
          -1.1075436671198777,
          -1.1652000386436696,
          -1.3716489694592646,
          -1.4393941270720936,
          -1.5013263490800204,
          -1.5458919873659367,
          -1.5575036946421534,
          -1.6805517723441483,
          -1.7360628353092307
         ]
        },
        {
         "hovertext": "<b>Topic 50</b>:notify_pay_issue_problem_have_paym",
         "line": {
          "color": "black",
          "width": 1.5
         },
         "mode": "lines+lines",
         "name": "",
         "opacity": 0.1,
         "type": "scatter",
         "x": [
          1,
          2,
          3,
          4,
          5,
          6,
          7,
          8,
          9,
          10
         ],
         "y": [
          -1.0638347009307518,
          -1.2815132449148927,
          -1.46963912907619,
          -1.5051114472384088,
          -1.9440581474184324,
          -1.9964522170399404,
          -1.9964522170399404,
          -1.9964522170399404,
          -2.02820690443477,
          -2.047746080400455
         ]
        },
        {
         "hovertext": "<b>Topic 51</b>:method_your_their_payment_accept_v",
         "line": {
          "color": "black",
          "width": 1.5
         },
         "mode": "lines+lines",
         "name": "",
         "opacity": 0.1,
         "type": "scatter",
         "x": [
          1,
          2,
          3,
          4,
          5,
          6,
          7,
          8,
          9,
          10
         ],
         "y": [
          -0.5808532874054988,
          -1.0523173288367105,
          -1.2897967289388907,
          -1.4536822469592583,
          -1.6240574314970906,
          -1.6771001093326408,
          -1.7320661998059335,
          -1.7960235718589361,
          -1.864634780506948,
          -2.041354650547745
         ]
        },
        {
         "hovertext": "<b>Topic 52</b>:invoice_see_view_where_ask_agent_c",
         "line": {
          "color": "black",
          "width": 1.5
         },
         "mode": "lines+lines",
         "name": "",
         "opacity": 0.1,
         "type": "scatter",
         "x": [
          1,
          2,
          3,
          4,
          5,
          6,
          7,
          8,
          9,
          10
         ],
         "y": [
          -1.1962031842838152,
          -1.3537333793725876,
          -1.5503986326811983,
          -1.7277218271142294,
          -1.8272225367970818,
          -1.8638644103539461,
          -1.9469773491063371,
          -1.9962391764159841,
          -1.9977862031809503,
          -2.0721376380868035
         ]
        },
        {
         "hovertext": "<b>Topic 53</b>:notify_try_pay_when_card_issue_pro",
         "line": {
          "color": "black",
          "width": 1.5
         },
         "mode": "lines+lines",
         "name": "",
         "opacity": 0.1,
         "type": "scatter",
         "x": [
          1,
          2,
          3,
          4,
          5,
          6,
          7,
          8,
          9,
          10
         ],
         "y": [
          -1.396413237356564,
          -1.4795629957735956,
          -1.5961801920320027,
          -1.6123049258752906,
          -1.7156785909780619,
          -1.7160511696643554,
          -1.7341493917571515,
          -1.7369764422215277,
          -1.8416456384432571,
          -1.8565119400973051
         ]
        },
        {
         "hovertext": "<b>Topic 54</b>:error_attempt_message_when_online_",
         "line": {
          "color": "black",
          "width": 1.5
         },
         "mode": "lines+lines",
         "name": "",
         "opacity": 0.1,
         "type": "scatter",
         "x": [
          1,
          2,
          3,
          4,
          5,
          6,
          7,
          8,
          9,
          10
         ],
         "y": [
          -1.4440460803989514,
          -1.4950632692721433,
          -1.5057950431391784,
          -1.6047093453283825,
          -1.6194297680067817,
          -1.6544279713909675,
          -1.6608066417134941,
          -1.7413898584585548,
          -1.7614842263623185,
          -1.7871209385757554
         ]
        },
        {
         "hovertext": "<b>Topic 55</b>:modify_order_change_myorder_tell_w",
         "line": {
          "color": "black",
          "width": 1.5
         },
         "mode": "lines+lines",
         "name": "",
         "opacity": 0.1,
         "type": "scatter",
         "x": [
          1,
          2,
          3,
          4,
          5,
          6,
          7,
          8,
          9,
          10
         ],
         "y": [
          -1.244207963566607,
          -1.3792578035344327,
          -1.4716011573228498,
          -1.5039311168987615,
          -1.6320353233714449,
          -1.7675662237095937,
          -1.8882881596965626,
          -1.888315990436596,
          -1.949254737184468,
          -1.9671611714924855
         ]
        },
        {
         "hovertext": "<b>Topic 56</b>:set_up_shipping_address_no_one_hav",
         "line": {
          "color": "black",
          "width": 1.5
         },
         "mode": "lines+lines",
         "name": "",
         "opacity": 0.1,
         "type": "scatter",
         "x": [
          1,
          2,
          3,
          4,
          5,
          6,
          7,
          8,
          9,
          10
         ],
         "y": [
          -0.6342524458364015,
          -0.6562295682888961,
          -0.7623692932618608,
          -1.1500386998928323,
          -1.3713182654207368,
          -1.6708382409476608,
          -1.7285950652817985,
          -1.9142558242782517,
          -2.029019455183423,
          -2.0640457595553867
         ]
        },
        {
         "hovertext": "<b>Topic 57</b>:shipment_track_where_my_know_tell_",
         "line": {
          "color": "black",
          "width": 1.5
         },
         "mode": "lines+lines",
         "name": "",
         "opacity": 0.1,
         "type": "scatter",
         "x": [
          1,
          2,
          3,
          4,
          5,
          6,
          7,
          8,
          9,
          10
         ],
         "y": [
          -0.7112242493595425,
          -0.8723523712722402,
          -1.7965808602914886,
          -1.8431367223895878,
          -1.844360819908678,
          -1.8859897865468376,
          -1.9673917631516469,
          -1.985970860227221,
          -2.0589524596313593,
          -2.0856101122816226
         ]
        },
        {
         "hovertext": "<b>Topic 58</b>:own_more_than_several_if_one_profi",
         "line": {
          "color": "black",
          "width": 1.5
         },
         "mode": "lines+lines",
         "name": "",
         "opacity": 0.1,
         "type": "scatter",
         "x": [
          1,
          2,
          3,
          4,
          5,
          6,
          7,
          8,
          9,
          10
         ],
         "y": [
          -0.6576333667724726,
          -1.0749495529479935,
          -1.0757952088812774,
          -1.1196349367447473,
          -1.4432373498326339,
          -1.4944486002368873,
          -1.6187139920107256,
          -1.6932097296478947,
          -1.710558622969073,
          -1.7312014536817586
         ]
        },
        {
         "hovertext": "<b>Topic 59</b>:period_ticket_delivery_provide_abo",
         "line": {
          "color": "black",
          "width": 1.5
         },
         "mode": "lines+lines",
         "name": "",
         "opacity": 0.1,
         "type": "scatter",
         "x": [
          1,
          2,
          3,
          4,
          5,
          6,
          7,
          8,
          9,
          10
         ],
         "y": [
          -0.6579208514897777,
          -1.024250534433691,
          -1.1037507523053571,
          -1.3802097592348137,
          -1.4576503522873567,
          -1.4998498484855645,
          -1.4998498484855645,
          -1.5058646078352786,
          -1.665927188712154,
          -1.7247533064303984
         ]
        },
        {
         "hovertext": "<b>Topic 60</b>:review_happy_lodge_submit_file_ser",
         "line": {
          "color": "black",
          "width": 1.5
         },
         "mode": "lines+lines",
         "name": "",
         "opacity": 0.1,
         "type": "scatter",
         "x": [
          1,
          2,
          3,
          4,
          5,
          6,
          7,
          8,
          9,
          10
         ],
         "y": [
          -0.7086307060832177,
          -0.985909708213851,
          -1.3338993816101266,
          -1.3705097290183477,
          -1.4382548866311764,
          -1.6128710799860426,
          -1.6553150088578297,
          -1.7783630865598243,
          -1.838464186775383,
          -1.958604812646365
         ]
        },
        {
         "hovertext": "<b>Topic 61</b>:password_retrieve_recover_account_",
         "line": {
          "color": "black",
          "width": 1.5
         },
         "mode": "lines+lines",
         "name": "",
         "opacity": 0.1,
         "type": "scatter",
         "x": [
          1,
          2,
          3,
          4,
          5,
          6,
          7,
          8,
          9,
          10
         ],
         "y": [
          -0.9460774718655732,
          -0.9514480820780812,
          -1.0881287022786117,
          -1.7914262820917373,
          -1.8535043897036503,
          -1.8898890002769053,
          -1.9367528375570393,
          -1.9379617191871459,
          -2.0230145643340522,
          -2.039723088526259
         ]
        },
        {
         "hovertext": "<b>Topic 62</b>:while_create_find_open_profile_pro",
         "line": {
          "color": "black",
          "width": 1.5
         },
         "mode": "lines+lines",
         "name": "",
         "opacity": 0.1,
         "type": "scatter",
         "x": [
          1,
          2,
          3,
          4,
          5,
          6,
          7,
          8,
          9,
          10
         ],
         "y": [
          -0.7870006418766999,
          -1.1405620127352607,
          -1.16490866214981,
          -1.2673472012351477,
          -1.3547850259095855,
          -1.4255120712816014,
          -1.5224220842896579,
          -1.5899082867096606,
          -1.6323683623348364,
          -1.6813813915452778
         ]
        },
        {
         "hovertext": "<b>Topic 63</b>:delivery_check_tell_where_know_my_",
         "line": {
          "color": "black",
          "width": 1.5
         },
         "mode": "lines+lines",
         "name": "",
         "opacity": 0.1,
         "type": "scatter",
         "x": [
          1,
          2,
          3,
          4,
          5,
          6,
          7,
          8,
          9,
          10
         ],
         "y": [
          -0.9734781477400211,
          -1.1943969273299644,
          -1.6071492832461642,
          -1.748189278369089,
          -1.8281539213576798,
          -1.8739263865148132,
          -1.8862853104254806,
          -1.8907154410246874,
          -1.8907154410246874,
          -1.8907154410246874
         ]
        },
        {
         "hovertext": "<b>Topic 64</b>:lose_password_retrieve_recover_it_",
         "line": {
          "color": "black",
          "width": 1.5
         },
         "mode": "lines+lines",
         "name": "",
         "opacity": 0.1,
         "type": "scatter",
         "x": [
          1,
          2,
          3,
          4,
          5,
          6,
          7,
          8,
          9,
          10
         ],
         "y": [
          -0.7707333616879252,
          -0.9744562918023115,
          -1.1035664814455066,
          -1.1969642302132173,
          -1.7022969738987448,
          -1.8613579252718127,
          -1.8749343496850608,
          -1.8781505970056611,
          -1.8781505970056611,
          -1.8781505970056611
         ]
        },
        {
         "hovertext": "<b>Topic 65</b>:review_write_leave_for_lodge_servi",
         "line": {
          "color": "black",
          "width": 1.5
         },
         "mode": "lines+lines",
         "name": "",
         "opacity": 0.1,
         "type": "scatter",
         "x": [
          1,
          2,
          3,
          4,
          5,
          6,
          7,
          8,
          9,
          10
         ],
         "y": [
          -0.7559923755332804,
          -1.0631474901349096,
          -1.2914263548870497,
          -1.4313074431046142,
          -1.5204560743439728,
          -1.6004918565469497,
          -1.7747592115973925,
          -1.8970301567698895,
          -1.9033438736670438,
          -1.9072973932319834
         ]
        },
        {
         "hovertext": "<b>Topic 66</b>:client_contact_question_service_in",
         "line": {
          "color": "black",
          "width": 1.5
         },
         "mode": "lines+lines",
         "name": "",
         "opacity": 0.1,
         "type": "scatter",
         "x": [
          1,
          2,
          3,
          4,
          5,
          6,
          7,
          8,
          9,
          10
         ],
         "y": [
          -0.9592293109347314,
          -1.0529510430868974,
          -1.2432867468311577,
          -1.3629347552913524,
          -1.461360808399626,
          -1.6560678363031354,
          -1.9195350708745158,
          -1.9758761680569916,
          -2.0161355776231256,
          -2.1004102450545767
         ]
        },
        {
         "hovertext": "<b>Topic 67</b>:card_notify_make_payment_with_try_",
         "line": {
          "color": "black",
          "width": 1.5
         },
         "mode": "lines+lines",
         "name": "",
         "opacity": 0.1,
         "type": "scatter",
         "x": [
          1,
          2,
          3,
          4,
          5,
          6,
          7,
          8,
          9,
          10
         ],
         "y": [
          -1.313452220592695,
          -1.3495126640529016,
          -1.5494095668465242,
          -1.6522929398871542,
          -1.666102023063019,
          -1.6892898573183004,
          -1.753610716110303,
          -1.760982830621208,
          -1.7757060874419144,
          -1.8096113667936429
         ]
        },
        {
         "hovertext": "<b>Topic 68</b>:close_mind_change_closing_my_user_",
         "line": {
          "color": "black",
          "width": 1.5
         },
         "mode": "lines+lines",
         "name": "",
         "opacity": 0.1,
         "type": "scatter",
         "x": [
          1,
          2,
          3,
          4,
          5,
          6,
          7,
          8,
          9,
          10
         ],
         "y": [
          -0.7924734191107246,
          -0.822513178667859,
          -1.1352973132342785,
          -1.361417574271417,
          -1.6239462773973599,
          -1.7123026966489134,
          -1.7209384860857044,
          -1.7325254520158762,
          -1.899703982570504,
          -1.899703982570504
         ]
        },
        {
         "hovertext": "<b>Topic 69</b>:report_pay_ask_agent_issue_could_p",
         "line": {
          "color": "black",
          "width": 1.5
         },
         "mode": "lines+lines",
         "name": "",
         "opacity": 0.1,
         "type": "scatter",
         "x": [
          1,
          2,
          3,
          4,
          5,
          6,
          7,
          8,
          9,
          10
         ],
         "y": [
          -1.2140692868719134,
          -1.464516498386904,
          -1.5601441135078298,
          -1.5786838759359139,
          -1.6129378747355638,
          -1.6910861907902923,
          -1.7283312934376334,
          -1.773771773586889,
          -1.804060532285566,
          -1.8115309730062998
         ]
        },
        {
         "hovertext": "<b>Topic 70</b>:try_pay_inform_when_have_of_issue_",
         "line": {
          "color": "black",
          "width": 1.5
         },
         "mode": "lines+lines",
         "name": "",
         "opacity": 0.1,
         "type": "scatter",
         "x": [
          1,
          2,
          3,
          4,
          5,
          6,
          7,
          8,
          9,
          10
         ],
         "y": [
          -1.3838594780281694,
          -1.461821519326866,
          -1.5031889026980605,
          -1.5377285985859102,
          -1.7148445406085528,
          -1.7285766656313257,
          -1.7423420078804481,
          -1.7423420078804481,
          -1.923312755763855,
          -1.923312755763855
         ]
        },
        {
         "hovertext": "<b>Topic 71</b>:inform_pay_of_ask_agent_issue_plea",
         "line": {
          "color": "black",
          "width": 1.5
         },
         "mode": "lines+lines",
         "name": "",
         "opacity": 0.1,
         "type": "scatter",
         "x": [
          1,
          2,
          3,
          4,
          5,
          6,
          7,
          8,
          9,
          10
         ],
         "y": [
          -1.263345558004147,
          -1.501230142404208,
          -1.5176970168727288,
          -1.596189354958564,
          -1.6228470076088275,
          -1.7114586687310702,
          -1.743893298864589,
          -1.7476708413855149,
          -1.7567972018165554,
          -1.761578261185555
         ]
        },
        {
         "hovertext": "<b>Topic 72</b>:report_payment_issue_problem_with_",
         "line": {
          "color": "black",
          "width": 1.5
         },
         "mode": "lines+lines",
         "name": "",
         "opacity": 0.1,
         "type": "scatter",
         "x": [
          1,
          2,
          3,
          4,
          5,
          6,
          7,
          8,
          9,
          10
         ],
         "y": [
          -1.1054330614860128,
          -1.4324144065233582,
          -1.5500591399103385,
          -1.5500591399103385,
          -1.6892615383855176,
          -1.7495132934877584,
          -1.7495132934877584,
          -1.7963771307678926,
          -1.7963771307678926,
          -1.8873355785709933
         ]
        },
        {
         "hovertext": "<b>Topic 73</b>:inform_of_make_payment_problem_iss",
         "line": {
          "color": "black",
          "width": 1.5
         },
         "mode": "lines+lines",
         "name": "",
         "opacity": 0.1,
         "type": "scatter",
         "x": [
          1,
          2,
          3,
          4,
          5,
          6,
          7,
          8,
          9,
          10
         ],
         "y": [
          -1.1290296066393462,
          -1.383381065507928,
          -1.4286625064847427,
          -1.4791578100656844,
          -1.532330372949907,
          -1.5878477007997382,
          -1.7495132934877584,
          -1.7963771307678926,
          -1.7963771307678926,
          -1.7963771307678926
         ]
        },
        {
         "hovertext": "<b>Topic 74</b>:check_order_ploease_mky_wanty_kkno",
         "line": {
          "color": "black",
          "width": 1.5
         },
         "mode": "lines+lines",
         "name": "",
         "opacity": 0.1,
         "type": "scatter",
         "x": [
          1,
          2,
          3,
          4,
          5,
          6,
          7,
          8,
          9,
          10
         ],
         "y": [
          -1.0933920973571656,
          -1.227323420589222,
          -1.6694167794893522,
          -1.6694167794893522,
          -1.6694167794893522,
          -1.6694167794893522,
          -1.697701519693912,
          -1.7462012463640233,
          -1.7665561026898566,
          -1.7712015030748463
         ]
        },
        {
         "hovertext": "<b>Topic 75</b>:postpone_show_refund_obtain_reques",
         "line": {
          "color": "black",
          "width": 1.5
         },
         "mode": "lines+lines",
         "name": "",
         "opacity": 0.1,
         "type": "scatter",
         "x": [
          1,
          2,
          3,
          4,
          5,
          6,
          7,
          8,
          9,
          10
         ],
         "y": [
          -0.8346864319013367,
          -0.9834303657441442,
          -1.1465390181608288,
          -1.4529351598836868,
          -1.5911536708942444,
          -1.6146214050568595,
          -1.665767662619492,
          -1.7674248827964605,
          -1.7674248827964605,
          -1.7674248827964605
         ]
        },
        {
         "hovertext": "<b>Topic 76</b>:refund_reund_obtain_one_request_he",
         "line": {
          "color": "black",
          "width": 1.5
         },
         "mode": "lines+lines",
         "name": "",
         "opacity": 0.1,
         "type": "scatter",
         "x": [
          1,
          2,
          3,
          4,
          5,
          6,
          7,
          8,
          9,
          10
         ],
         "y": [
          -0.9129801641161843,
          -1.3221037189210565,
          -1.3519567847412177,
          -1.404911108313534,
          -1.437787226292087,
          -1.4763615292205392,
          -1.5656783686638756,
          -1.5762698773049035,
          -1.5762698773049035,
          -1.5762698773049035
         ]
        },
        {
         "hovertext": "<b>Topic 77</b>:notify_make_issue_payment_problem_",
         "line": {
          "color": "black",
          "width": 1.5
         },
         "mode": "lines+lines",
         "name": "",
         "opacity": 0.1,
         "type": "scatter",
         "x": [
          1,
          2,
          3,
          4,
          5,
          6,
          7,
          8,
          9,
          10
         ],
         "y": [
          -1.1500778014658635,
          -1.3872371663784289,
          -1.5060563769162139,
          -1.5113098384889967,
          -1.6657572197837258,
          -1.7402726367528458,
          -1.7402726367528458,
          -1.78713647403298,
          -1.78713647403298,
          -1.78713647403298
         ]
        },
        {
         "hovertext": "<b>Topic 78</b>:notify_pay_problem_ask_agent_issue",
         "line": {
          "color": "black",
          "width": 1.5
         },
         "mode": "lines+lines",
         "name": "",
         "opacity": 0.1,
         "type": "scatter",
         "x": [
          1,
          2,
          3,
          4,
          5,
          6,
          7,
          8,
          9,
          10
         ],
         "y": [
          -1.2317592191152436,
          -1.4517295598789692,
          -1.5615875410882685,
          -1.5640628685027478,
          -1.5705171350647245,
          -1.7625023838689817,
          -1.7735739623869748,
          -1.8121942171130698,
          -1.8121942171130698,
          -1.847962057168547
         ]
        },
        {
         "hovertext": "<b>Topic 79</b>:see_invoice_some_whaty_doo_so_ky_h",
         "line": {
          "color": "black",
          "width": 1.5
         },
         "mode": "lines+lines",
         "name": "",
         "opacity": 0.1,
         "type": "scatter",
         "x": [
          1,
          2,
          3,
          4,
          5,
          6,
          7,
          8,
          9,
          10
         ],
         "y": [
          -1.0930721322926944,
          -1.1138546562535614,
          -1.4920206800303089,
          -1.6554511233525284,
          -1.7023149606326624,
          -1.7023149606326624,
          -1.7023149606326624,
          -1.7030967780866753,
          -1.7525904465530326,
          -1.9491213731769355
         ]
        },
        {
         "hovertext": "<b>Topic 80</b>:no_account_have_aget_ylu_creage_cr",
         "line": {
          "color": "black",
          "width": 1.5
         },
         "mode": "lines+lines",
         "name": "",
         "opacity": 0.1,
         "type": "scatter",
         "x": [
          1,
          2,
          3,
          4,
          5,
          6,
          7,
          8,
          9,
          10
         ],
         "y": [
          -1.27634275218988,
          -1.4801771212460701,
          -1.6275454043387487,
          -1.668040250660549,
          -1.668040250660549,
          -1.668040250660549,
          -1.668040250660549,
          -1.668040250660549,
          -1.668040250660549,
          -1.714904087940683
         ]
        },
        {
         "hovertext": "<b>Topic 81</b>:place_order_tack_mlake_persn_nodif",
         "line": {
          "color": "black",
          "width": 1.5
         },
         "mode": "lines+lines",
         "name": "",
         "opacity": 0.1,
         "type": "scatter",
         "x": [
          1,
          2,
          3,
          4,
          5,
          6,
          7,
          8,
          9,
          10
         ],
         "y": [
          -0.5647588287649783,
          -1.1790108537142008,
          -1.3877036686263036,
          -1.5711302376524925,
          -1.5711302376524925,
          -1.5711302376524925,
          -1.5711302376524925,
          -1.5711302376524925,
          -1.5711302376524925,
          -1.5711302376524925
         ]
        },
        {
         "hovertext": "<b>Topic 82</b>:cancel_show_reimbursement_obain_re",
         "line": {
          "color": "black",
          "width": 1.5
         },
         "mode": "lines+lines",
         "name": "",
         "opacity": 0.1,
         "type": "scatter",
         "x": [
          1,
          2,
          3,
          4,
          5,
          6,
          7,
          8,
          9,
          10
         ],
         "y": [
          -1.00005786666532,
          -1.0039108788474655,
          -1.089591978322007,
          -1.4837652625540962,
          -1.494713419405114,
          -1.5483804346334695,
          -1.635101918160181,
          -1.686248175722813,
          -1.7379314209379433,
          -1.8147158878126146
         ]
        },
        {
         "hovertext": "<b>Topic 83</b>:on_edit_profile_information_change",
         "line": {
          "color": "black",
          "width": 1.5
         },
         "mode": "lines+lines",
         "name": "",
         "opacity": 0.1,
         "type": "scatter",
         "x": [
          1,
          2,
          3,
          4,
          5,
          6,
          7,
          8,
          9,
          10
         ],
         "y": [
          -0.6033083657011543,
          -1.1208986158629037,
          -1.1288511067716007,
          -1.2703334552330665,
          -1.3955349883895287,
          -1.5095895091298521,
          -1.5327649379202926,
          -1.6813449452956353,
          -1.7581727780976635,
          -1.7880934076922006
         ]
        },
        {
         "hovertext": "<b>Topic 84</b>:mind_cancel_change_user_account_my",
         "line": {
          "color": "black",
          "width": 1.5
         },
         "mode": "lines+lines",
         "name": "",
         "opacity": 0.1,
         "type": "scatter",
         "x": [
          1,
          2,
          3,
          4,
          5,
          6,
          7,
          8,
          9,
          10
         ],
         "y": [
          -0.8319286456638019,
          -1.0206017584506215,
          -1.1521367983094284,
          -1.6073467240861048,
          -1.6141596651281214,
          -1.6463896399905082,
          -1.6669223241944442,
          -1.7367560630300087,
          -1.8135405299046798,
          -1.9050514763234012
         ]
        },
        {
         "hovertext": "<b>Topic 85</b>:create_profile_one_profilee_tto_ne",
         "line": {
          "color": "black",
          "width": 1.5
         },
         "mode": "lines+lines",
         "name": "",
         "opacity": 0.1,
         "type": "scatter",
         "x": [
          1,
          2,
          3,
          4,
          5,
          6,
          7,
          8,
          9,
          10
         ],
         "y": [
          -0.9916779424118505,
          -0.9938120432589751,
          -1.2984557773992471,
          -1.5762698773049035,
          -1.6530543441795749,
          -1.6558549990129636,
          -1.6755804412812074,
          -1.7093954413620505,
          -1.8339295183596356,
          -1.8536793672240506
         ]
        },
        {
         "hovertext": "<b>Topic 86</b>:retrieve_password_recover_ask_agen",
         "line": {
          "color": "black",
          "width": 1.5
         },
         "mode": "lines+lines",
         "name": "",
         "opacity": 0.1,
         "type": "scatter",
         "x": [
          1,
          2,
          3,
          4,
          5,
          6,
          7,
          8,
          9,
          10
         ],
         "y": [
          -1.0360785148203762,
          -1.0705068467595358,
          -1.2855077287147998,
          -1.55692740425221,
          -1.5835850569024736,
          -1.5880819744473325,
          -1.7130645156950977,
          -1.7728740694911307,
          -1.7728740694911307,
          -1.9165473068561274
         ]
        },
        {
         "hovertext": "<b>Topic 87</b>:postpone_show_reimbursement_obtain",
         "line": {
          "color": "black",
          "width": 1.5
         },
         "mode": "lines+lines",
         "name": "",
         "opacity": 0.1,
         "type": "scatter",
         "x": [
          1,
          2,
          3,
          4,
          5,
          6,
          7,
          8,
          9,
          10
         ],
         "y": [
          -0.8814298354436629,
          -1.0040035349261662,
          -1.0896846344007076,
          -1.480710724350033,
          -1.4939904987522907,
          -1.6586756700884047,
          -1.697922704351329,
          -1.7050238169137188,
          -1.7050238169137188,
          -1.7050238169137188
         ]
        },
        {
         "hovertext": "<b>Topic 88</b>:mistake_modify_order_ask_change_mo",
         "line": {
          "color": "black",
          "width": 1.5
         },
         "mode": "lines+lines",
         "name": "",
         "opacity": 0.1,
         "type": "scatter",
         "x": [
          1,
          2,
          3,
          4,
          5,
          6,
          7,
          8,
          9,
          10
         ],
         "y": [
          -1.277479909345281,
          -1.3068246433963095,
          -1.416584995960824,
          -1.5710384649669586,
          -1.5944763304966125,
          -1.5962178156395408,
          -1.5976961176172222,
          -1.7641222472463751,
          -1.801178901818933,
          -1.848299445578705
         ]
        },
        {
         "hovertext": "<b>Topic 89</b>:profile_edit_change_modify_iy_prof",
         "line": {
          "color": "black",
          "width": 1.5
         },
         "mode": "lines+lines",
         "name": "",
         "opacity": 0.1,
         "type": "scatter",
         "x": [
          1,
          2,
          3,
          4,
          5,
          6,
          7,
          8,
          9,
          10
         ],
         "y": [
          -0.9850012534124721,
          -1.0249235751899202,
          -1.2573622679220906,
          -1.3734029183829164,
          -1.5061894307194779,
          -1.5061894307194779,
          -1.5061894307194779,
          -1.5061894307194779,
          -1.553053267999612,
          -1.553053267999612
         ]
        },
        {
         "hovertext": "<b>Topic 90</b>:purchase_modify_change_ask_agent_m",
         "line": {
          "color": "black",
          "width": 1.5
         },
         "mode": "lines+lines",
         "name": "",
         "opacity": 0.1,
         "type": "scatter",
         "x": [
          1,
          2,
          3,
          4,
          5,
          6,
          7,
          8,
          9,
          10
         ],
         "y": [
          -1.1557492933612181,
          -1.5000213618705807,
          -1.5222834095760365,
          -1.5635970746713659,
          -1.5902547273216294,
          -1.6592844442972297,
          -1.6778334584509758,
          -1.7199580499260425,
          -1.7199580499260425,
          -1.7199580499260425
         ]
        },
        {
         "hovertext": "<b>Topic 91</b>:card_inform_try_pay_when_of_with_i",
         "line": {
          "color": "black",
          "width": 1.5
         },
         "mode": "lines+lines",
         "name": "",
         "opacity": 0.1,
         "type": "scatter",
         "x": [
          1,
          2,
          3,
          4,
          5,
          6,
          7,
          8,
          9,
          10
         ],
         "y": [
          -1.3418241341644597,
          -1.418922724371266,
          -1.4438371915050616,
          -1.583317270722973,
          -1.5881609941565717,
          -1.630522202818898,
          -1.6944739366347836,
          -1.7827555747411554,
          -1.7893547441929725,
          -1.7985517311152603
         ]
        },
        {
         "hovertext": "<b>Topic 92</b>:on_edit_update_profile_ask_agent_i",
         "line": {
          "color": "black",
          "width": 1.5
         },
         "mode": "lines+lines",
         "name": "",
         "opacity": 0.1,
         "type": "scatter",
         "x": [
          1,
          2,
          3,
          4,
          5,
          6,
          7,
          8,
          9,
          10
         ],
         "y": [
          -1.0134094144292978,
          -1.0832338032239217,
          -1.1996219359911,
          -1.2266411494260743,
          -1.63076226736512,
          -1.6310909812930345,
          -1.6804345039612103,
          -1.7371522609859542,
          -1.7607943038974476,
          -1.8076581411775816
         ]
        },
        {
         "hovertext": "<b>Topic 93</b>:speaking_information_customer_talk",
         "line": {
          "color": "black",
          "width": 1.5
         },
         "mode": "lines+lines",
         "name": "",
         "opacity": 0.1,
         "type": "scatter",
         "x": [
          1,
          2,
          3,
          4,
          5,
          6,
          7,
          8,
          9,
          10
         ],
         "y": [
          -1.2348151227996578,
          -1.2622545370339668,
          -1.2698831354760012,
          -1.3079316326921304,
          -1.3661590853576822,
          -1.423806284046619,
          -1.425669206683577,
          -1.5745634134908864,
          -1.5745634134908864,
          -1.5745634134908864
         ]
        },
        {
         "hovertext": "<b>Topic 94</b>:open_create_ask_agent_account_onli",
         "line": {
          "color": "black",
          "width": 1.5
         },
         "mode": "lines+lines",
         "name": "",
         "opacity": 0.1,
         "type": "scatter",
         "x": [
          1,
          2,
          3,
          4,
          5,
          6,
          7,
          8,
          9,
          10
         ],
         "y": [
          -1.2489545666736426,
          -1.4382631202736127,
          -1.5301243818378205,
          -1.5701459960460655,
          -1.6006117662153498,
          -1.6336498644700082,
          -1.675864464496657,
          -1.7503048468028006,
          -1.821986768559179,
          -1.8440986732979694
         ]
        },
        {
         "hovertext": "<b>Topic 95</b>:notify_try_when_make_payment_have_",
         "line": {
          "color": "black",
          "width": 1.5
         },
         "mode": "lines+lines",
         "name": "",
         "opacity": 0.1,
         "type": "scatter",
         "x": [
          1,
          2,
          3,
          4,
          5,
          6,
          7,
          8,
          9,
          10
         ],
         "y": [
          -1.3379827771514972,
          -1.3982696526090246,
          -1.5288051707749015,
          -1.531390634200986,
          -1.634274007241616,
          -1.7139327228759007,
          -1.7166349592533205,
          -1.7429638979756696,
          -1.7663267924974086,
          -1.784293195406605
         ]
        },
        {
         "hovertext": "<b>Topic 96</b>:hour_customer_of_support_client_se",
         "line": {
          "color": "black",
          "width": 1.5
         },
         "mode": "lines+lines",
         "name": "",
         "opacity": 0.1,
         "type": "scatter",
         "x": [
          1,
          2,
          3,
          4,
          5,
          6,
          7,
          8,
          9,
          10
         ],
         "y": [
          -0.440910596931296,
          -1.4132518425913008,
          -1.4264078562886477,
          -1.5052855497396471,
          -1.5709548733835657,
          -1.6482961924647916,
          -1.6736303220762054,
          -1.6908828640915095,
          -1.6951600297449259,
          -1.6951600297449259
         ]
        },
        {
         "hovertext": "<b>Topic 97</b>:cancel_account_profole_olne_rpofil",
         "line": {
          "color": "black",
          "width": 1.5
         },
         "mode": "lines+lines",
         "name": "",
         "opacity": 0.1,
         "type": "scatter",
         "x": [
          1,
          2,
          3,
          4,
          5,
          6,
          7,
          8,
          9,
          10
         ],
         "y": [
          -0.9250962945964667,
          -1.5385432987354122,
          -1.5553359704692604,
          -1.5553359704692604,
          -1.6021998077493946,
          -1.6021998077493946,
          -1.6021998077493946,
          -1.6021998077493946,
          -1.678547307255863,
          -1.760928691867554
         ]
        },
        {
         "hovertext": "<b>Topic 98</b>:mistake_purchase_modify_make_chang",
         "line": {
          "color": "black",
          "width": 1.5
         },
         "mode": "lines+lines",
         "name": "",
         "opacity": 0.1,
         "type": "scatter",
         "x": [
          1,
          2,
          3,
          4,
          5,
          6,
          7,
          8,
          9,
          10
         ],
         "y": [
          -0.4824279084234362,
          -1.0202854426456496,
          -1.2464581990770178,
          -1.3361940793560698,
          -1.3471266585801374,
          -1.6179940749326267,
          -1.6704408016287966,
          -1.7974175979235716,
          -1.8621045614655678,
          -1.9738909916422471
         ]
        },
        {
         "hovertext": "<b>Topic 99</b>:about_modify_order_change_informat",
         "line": {
          "color": "black",
          "width": 1.5
         },
         "mode": "lines+lines",
         "name": "",
         "opacity": 0.1,
         "type": "scatter",
         "x": [
          1,
          2,
          3,
          4,
          5,
          6,
          7,
          8,
          9,
          10
         ],
         "y": [
          -1.0971403488948128,
          -1.2199281515379685,
          -1.2900779079524243,
          -1.3505598344185312,
          -1.36292469891533,
          -1.5745634134908864,
          -1.6513478803655577,
          -1.7519531328918652,
          -1.8322230545456184,
          -1.8420517198687827
         ]
        },
        {
         "hovertext": "<b>Topic 100</b>:purchase_about_modify_information",
         "line": {
          "color": "black",
          "width": 1.5
         },
         "mode": "lines+lines",
         "name": "",
         "opacity": 0.1,
         "type": "scatter",
         "x": [
          1,
          2,
          3,
          4,
          5,
          6,
          7,
          8,
          9,
          10
         ],
         "y": [
          -1.069876847596905,
          -1.2077565672345927,
          -1.2532976236073232,
          -1.3663309476072416,
          -1.380295021832792,
          -1.5779696621827979,
          -1.5779696621827979,
          -1.5779696621827979,
          -1.624833499462932,
          -1.711095226239945
         ]
        },
        {
         "hovertext": "<b>Topic 101</b>:credit_card_if_create_profile_car",
         "line": {
          "color": "black",
          "width": 1.5
         },
         "mode": "lines+lines",
         "name": "",
         "opacity": 0.1,
         "type": "scatter",
         "x": [
          1,
          2,
          3,
          4,
          5,
          6,
          7,
          8,
          9,
          10
         ],
         "y": [
          -0.7848503651788048,
          -1.3249062911688119,
          -1.5191967854928017,
          -1.5645950800757435,
          -1.5667291809228683,
          -1.5694034183519865,
          -1.5694034183519865,
          -1.6552796989279834,
          -1.6870068449897788,
          -1.7176952639998722
         ]
        },
        {
         "hovertext": "<b>Topic 102</b>:inform_try_when_make_of_payment_p",
         "line": {
          "color": "black",
          "width": 1.5
         },
         "mode": "lines+lines",
         "name": "",
         "opacity": 0.1,
         "type": "scatter",
         "x": [
          1,
          2,
          3,
          4,
          5,
          6,
          7,
          8,
          9,
          10
         ],
         "y": [
          -1.3592383607373175,
          -1.4103055464726013,
          -1.5546293491241114,
          -1.557214812550196,
          -1.5983498530491624,
          -1.660098185590826,
          -1.740759352724636,
          -1.7641222472463751,
          -1.7747799233719561,
          -1.810117373755815
         ]
        },
        {
         "hovertext": "<b>Topic 103</b>:cancel_profile_whyat_cancelo_dont",
         "line": {
          "color": "black",
          "width": 1.5
         },
         "mode": "lines+lines",
         "name": "",
         "opacity": 0.1,
         "type": "scatter",
         "x": [
          1,
          2,
          3,
          4,
          5,
          6,
          7,
          8,
          9,
          10
         ],
         "y": [
          -0.9420774837589924,
          -1.064492943882762,
          -1.5295651792108365,
          -1.5295651792108365,
          -1.5295651792108365,
          -1.5764290164909704,
          -1.6626907432679834,
          -1.7429531463465269,
          -1.7974090553366326,
          -1.8485682266241552
         ]
        },
        {
         "hovertext": "<b>Topic 104</b>:card_notify_pay_with_problem_ppro",
         "line": {
          "color": "black",
          "width": 1.5
         },
         "mode": "lines+lines",
         "name": "",
         "opacity": 0.1,
         "type": "scatter",
         "x": [
          1,
          2,
          3,
          4,
          5,
          6,
          7,
          8,
          9,
          10
         ],
         "y": [
          -1.1937325362750495,
          -1.2224937409937566,
          -1.4222606956691954,
          -1.56110559556608,
          -1.613234422703319,
          -1.6365973172250579,
          -1.6752837169508825,
          -1.682592443734498,
          -1.6834611545051918,
          -1.6834611545051918
         ]
        },
        {
         "hovertext": "<b>Topic 105</b>:track_order_ask_agent_plase_myt_f",
         "line": {
          "color": "black",
          "width": 1.5
         },
         "mode": "lines+lines",
         "name": "",
         "opacity": 0.1,
         "type": "scatter",
         "x": [
          1,
          2,
          3,
          4,
          5,
          6,
          7,
          8,
          9,
          10
         ],
         "y": [
          -1.0097929047072884,
          -1.4051174264730986,
          -1.5448476386585268,
          -1.5715052913087904,
          -1.6468509515906107,
          -1.693714788870745,
          -1.7457294252110616,
          -1.7727355777871072,
          -1.7935316507819608,
          -1.8559668865312406
         ]
        },
        {
         "hovertext": "<b>Topic 106</b>:way_on_their_shipment_package_if_",
         "line": {
          "color": "black",
          "width": 1.5
         },
         "mode": "lines+lines",
         "name": "",
         "opacity": 0.1,
         "type": "scatter",
         "x": [
          1,
          2,
          3,
          4,
          5,
          6,
          7,
          8,
          9,
          10
         ],
         "y": [
          -0.4799297934965139,
          -0.6613939005429901,
          -1.041747866768699,
          -1.2404817064078397,
          -1.249129763610262,
          -1.4803057538850435,
          -1.5762698773049035,
          -1.5762698773049035,
          -1.6231337145850377,
          -1.6238262333479205
         ]
        },
        {
         "hovertext": "<b>Topic 107</b>:informing_inform_make_of_payment_",
         "line": {
          "color": "black",
          "width": 1.5
         },
         "mode": "lines+lines",
         "name": "",
         "opacity": 0.1,
         "type": "scatter",
         "x": [
          1,
          2,
          3,
          4,
          5,
          6,
          7,
          8,
          9,
          10
         ],
         "y": [
          -1.145135630361487,
          -1.2894582684512288,
          -1.3772192404765138,
          -1.4036310241547738,
          -1.4801026135171438,
          -1.5694034183519865,
          -1.5694034183519865,
          -1.6040324708079345,
          -1.6709792604385476,
          -1.678754692575958
         ]
        },
        {
         "hovertext": "<b>Topic 108</b>:view_bill_whwre_receiove_where_my",
         "line": {
          "color": "black",
          "width": 1.5
         },
         "mode": "lines+lines",
         "name": "",
         "opacity": 0.1,
         "type": "scatter",
         "x": [
          1,
          2,
          3,
          4,
          5,
          6,
          7,
          8,
          9,
          10
         ],
         "y": [
          -0.8406914391976139,
          -0.9986255643320738,
          -1.3711268211913998,
          -1.3711268211913998,
          -1.672298157768514,
          -1.704853125425425,
          -1.899607403157347,
          -2.132613484558825,
          -2.145771203861809,
          -2.232112896744496
         ]
        },
        {
         "hovertext": "<b>Topic 109</b>:error_for_message_order_attempt_m",
         "line": {
          "color": "black",
          "width": 1.5
         },
         "mode": "lines+lines",
         "name": "",
         "opacity": 0.1,
         "type": "scatter",
         "x": [
          1,
          2,
          3,
          4,
          5,
          6,
          7,
          8,
          9,
          10
         ],
         "y": [
          -1.458782272563915,
          -1.4792481887344897,
          -1.481844443521842,
          -1.5522782675891045,
          -1.5706293262580384,
          -1.6018276148311439,
          -1.6302763851450282,
          -1.6691641635559313,
          -1.7047109878717739,
          -1.741225087596824
         ]
        },
        {
         "hovertext": "<b>Topic 110</b>:make_payment_try_repolrt_iut_prob",
         "line": {
          "color": "black",
          "width": 1.5
         },
         "mode": "lines+lines",
         "name": "",
         "opacity": 0.1,
         "type": "scatter",
         "x": [
          1,
          2,
          3,
          4,
          5,
          6,
          7,
          8,
          9,
          10
         ],
         "y": [
          -1.3924592070332507,
          -1.4953425800738807,
          -1.546579936619637,
          -1.5694034183519865,
          -1.5694034183519865,
          -1.5740692474304911,
          -1.6538473086384862,
          -1.6909037392711472,
          -1.7390928746181298,
          -1.847070519494229
         ]
        },
        {
         "hovertext": "<b>Topic 111</b>:notify_payment_noify_problem_issu",
         "line": {
          "color": "black",
          "width": 1.5
         },
         "mode": "lines+lines",
         "name": "",
         "opacity": 0.1,
         "type": "scatter",
         "x": [
          1,
          2,
          3,
          4,
          5,
          6,
          7,
          8,
          9,
          10
         ],
         "y": [
          -1.0936396825567982,
          -1.3879249299493186,
          -1.4619857682274244,
          -1.466651597305929,
          -1.5287995040547735,
          -1.5387702351020955,
          -1.5612963322037283,
          -1.6184431230891287,
          -1.925031835108483,
          -1.9356001552338524
         ]
        },
        {
         "hovertext": "<b>Topic 112</b>:support_speak_customer_informatio",
         "line": {
          "color": "black",
          "width": 1.5
         },
         "mode": "lines+lines",
         "name": "",
         "opacity": 0.1,
         "type": "scatter",
         "x": [
          1,
          2,
          3,
          4,
          5,
          6,
          7,
          8,
          9,
          10
         ],
         "y": [
          -1.0474649693263847,
          -1.2251093326046194,
          -1.2757664130374065,
          -1.3483900710055226,
          -1.3643712836959796,
          -1.5962409582355235,
          -1.5962409582355235,
          -1.5962409582355235,
          -1.5962409582355235,
          -1.5962409582355235
         ]
        },
        {
         "hovertext": "<b>Topic 113</b>:for_order_pay_try_have_shat_ayign",
         "line": {
          "color": "black",
          "width": 1.5
         },
         "mode": "lines+lines",
         "name": "",
         "opacity": 0.1,
         "type": "scatter",
         "x": [
          1,
          2,
          3,
          4,
          5,
          6,
          7,
          8,
          9,
          10
         ],
         "y": [
          -1.3643606534740012,
          -1.437390732328616,
          -1.4953051598942038,
          -1.6110975857795986,
          -1.6611780054569907,
          -1.6638842908893912,
          -1.6638842908893912,
          -1.6685501199678958,
          -1.7306980267167404,
          -1.7554213884311087
         ]
        },
        {
         "hovertext": "<b>Topic 114</b>:inform_where_of_payment_pazyment_",
         "line": {
          "color": "black",
          "width": 1.5
         },
         "mode": "lines+lines",
         "name": "",
         "opacity": 0.1,
         "type": "scatter",
         "x": [
          1,
          2,
          3,
          4,
          5,
          6,
          7,
          8,
          9,
          10
         ],
         "y": [
          -1.1023818631799158,
          -1.3155215643631935,
          -1.3403429058603282,
          -1.416814495222698,
          -1.4750810663175722,
          -1.4750810663175722,
          -1.4750810663175722,
          -1.4797468953960768,
          -1.5219449035977062,
          -1.5219449035977062
         ]
        },
        {
         "hovertext": "<b>Topic 115</b>:request_refund_one_nedea_ned_shou",
         "line": {
          "color": "black",
          "width": 1.5
         },
         "mode": "lines+lines",
         "name": "",
         "opacity": 0.1,
         "type": "scatter",
         "x": [
          1,
          2,
          3,
          4,
          5,
          6,
          7,
          8,
          9,
          10
         ],
         "y": [
          -0.9013473548424443,
          -0.9686160630879032,
          -1.3095948383120348,
          -1.429801084856023,
          -1.6187349528461543,
          -1.7557264321610584,
          -1.778231518856663,
          -1.8167689207649822,
          -1.9036104483809284,
          -1.9549950584859261
         ]
        },
        {
         "hovertext": "<b>Topic 116</b>:error_attempt_message_when_make_g",
         "line": {
          "color": "black",
          "width": 1.5
         },
         "mode": "lines+lines",
         "name": "",
         "opacity": 0.1,
         "type": "scatter",
         "x": [
          1,
          2,
          3,
          4,
          5,
          6,
          7,
          8,
          9,
          10
         ],
         "y": [
          -1.3430548329383163,
          -1.376959712700363,
          -1.4404993670620994,
          -1.4987546783361974,
          -1.5013401417622818,
          -1.5698271401185018,
          -1.6042235148029118,
          -1.6624900858977858,
          -1.6624900858977858,
          -1.7066133937960495
         ]
        },
        {
         "hovertext": "<b>Topic 117</b>:informing_inform_of_payment_issue",
         "line": {
          "color": "black",
          "width": 1.5
         },
         "mode": "lines+lines",
         "name": "",
         "opacity": 0.1,
         "type": "scatter",
         "x": [
          1,
          2,
          3,
          4,
          5,
          6,
          7,
          8,
          9,
          10
         ],
         "y": [
          -1.1202102548905528,
          -1.3079985867613848,
          -1.4261302986119777,
          -1.4862114717861783,
          -1.5444780428810523,
          -1.5444780428810523,
          -1.5444780428810523,
          -1.579107095337,
          -1.5913418801611863,
          -1.595837370127337
         ]
        },
        {
         "hovertext": "<b>Topic 118</b>:modify_purchase_in_modification_m",
         "line": {
          "color": "black",
          "width": 1.5
         },
         "mode": "lines+lines",
         "name": "",
         "opacity": 0.1,
         "type": "scatter",
         "x": [
          1,
          2,
          3,
          4,
          5,
          6,
          7,
          8,
          9,
          10
         ],
         "y": [
          -1.0518835343273234,
          -1.0543989520426171,
          -1.2205495327212401,
          -1.363553101281707,
          -1.5314575328885411,
          -1.5314575328885411,
          -1.5314575328885411,
          -1.5314575328885411,
          -1.6654269398454364,
          -1.7832231702786128
         ]
        },
        {
         "hovertext": "<b>Topic 119</b>:mistake_modify_order_make_change_",
         "line": {
          "color": "black",
          "width": 1.5
         },
         "mode": "lines+lines",
         "name": "",
         "opacity": 0.1,
         "type": "scatter",
         "x": [
          1,
          2,
          3,
          4,
          5,
          6,
          7,
          8,
          9,
          10
         ],
         "y": [
          -0.4831931852415485,
          -1.1734372617342115,
          -1.2874100089321427,
          -1.3533497723623515,
          -1.4631619574573798,
          -1.4981093003096861,
          -1.4981093003096861,
          -1.4981093003096861,
          -1.4981093003096861,
          -1.5449731375898201
         ]
        },
        {
         "hovertext": "<b>Topic 120</b>:purchase_modify_where_change_tell",
         "line": {
          "color": "black",
          "width": 1.5
         },
         "mode": "lines+lines",
         "name": "",
         "opacity": 0.1,
         "type": "scatter",
         "x": [
          1,
          2,
          3,
          4,
          5,
          6,
          7,
          8,
          9,
          10
         ],
         "y": [
          -1.0692480730815361,
          -1.253819298723387,
          -1.3703567357849122,
          -1.4066239605551412,
          -1.618128154135511,
          -1.7525904465530326,
          -1.909853308622848,
          -1.9110671919014544,
          -2.0715006275573633,
          -2.114824955969338
         ]
        },
        {
         "hovertext": "<b>Topic 121</b>:report_payment_wit_help_problem_n",
         "line": {
          "color": "black",
          "width": 1.5
         },
         "mode": "lines+lines",
         "name": "",
         "opacity": 0.1,
         "type": "scatter",
         "x": [
          1,
          2,
          3,
          4,
          5,
          6,
          7,
          8,
          9,
          10
         ],
         "y": [
          -1.0877042945255813,
          -1.3902167267289034,
          -1.4484832978237774,
          -1.4650805188108502,
          -1.4831123502797252,
          -1.4953471351039114,
          -1.5152970336511264,
          -1.5277630673816078,
          -1.5660867244615697,
          -1.600619086680449
         ]
        },
        {
         "hovertext": "<b>Topic 122</b>:error_message_attempt_pay_when_ge",
         "line": {
          "color": "black",
          "width": 1.5
         },
         "mode": "lines+lines",
         "name": "",
         "opacity": 0.1,
         "type": "scatter",
         "x": [
          1,
          2,
          3,
          4,
          5,
          6,
          7,
          8,
          9,
          10
         ],
         "y": [
          -1.3066604770405217,
          -1.3719203277929035,
          -1.4374753698106248,
          -1.457516599004804,
          -1.4787507386265721,
          -1.5334327842207072,
          -1.5733090248901986,
          -1.6260957299999914,
          -1.6260957299999914,
          -1.6729595672801256
         ]
        },
        {
         "hovertext": "<b>Topic 123</b>:track_shipment_rder_tell_apckage_",
         "line": {
          "color": "black",
          "width": 1.5
         },
         "mode": "lines+lines",
         "name": "",
         "opacity": 0.1,
         "type": "scatter",
         "x": [
          1,
          2,
          3,
          4,
          5,
          6,
          7,
          8,
          9,
          10
         ],
         "y": [
          -1.0580274819710924,
          -1.0907193860745075,
          -1.428908107939819,
          -1.536117618069022,
          -1.6306275396274963,
          -1.6306275396274963,
          -1.6306275396274963,
          -1.6306275396274963,
          -1.6306275396274963,
          -1.6306275396274963
         ]
        },
        {
         "hovertext": "<b>Topic 124</b>:charge_but_anyway_error_message_p",
         "line": {
          "color": "black",
          "width": 1.5
         },
         "mode": "lines+lines",
         "name": "",
         "opacity": 0.1,
         "type": "scatter",
         "x": [
          1,
          2,
          3,
          4,
          5,
          6,
          7,
          8,
          9,
          10
         ],
         "y": [
          -1.3140632108392507,
          -1.332572801513367,
          -1.348455403890375,
          -1.4453240700677206,
          -1.4642302812544896,
          -1.5961801920320027,
          -1.597537107539054,
          -1.618057254764382,
          -1.6557059610597367,
          -1.695582201729228
         ]
        },
        {
         "hovertext": "<b>Topic 125</b>:card_pay_with_issue_tryng_have_no",
         "line": {
          "color": "black",
          "width": 1.5
         },
         "mode": "lines+lines",
         "name": "",
         "opacity": 0.1,
         "type": "scatter",
         "x": [
          1,
          2,
          3,
          4,
          5,
          6,
          7,
          8,
          9,
          10
         ],
         "y": [
          -1.2089685711595426,
          -1.4374967305536883,
          -1.5616183736298666,
          -1.5663225508389673,
          -1.589685445360706,
          -1.6141314059719205,
          -1.6365492826408403,
          -1.6365492826408403,
          -1.6664699122353774,
          -1.75874748986727
         ]
        },
        {
         "hovertext": "<b>Topic 126</b>:user_no_opn_opdn_have_account_cqn",
         "line": {
          "color": "black",
          "width": 1.5
         },
         "mode": "lines+lines",
         "name": "",
         "opacity": 0.1,
         "type": "scatter",
         "x": [
          1,
          2,
          3,
          4,
          5,
          6,
          7,
          8,
          9,
          10
         ],
         "y": [
          -1.097810906563216,
          -1.1945446896781189,
          -1.4960655577996997,
          -1.4960655577996997,
          -1.5205115184109141,
          -1.5266975359939896,
          -1.613668984437492,
          -1.6722479243129957,
          -1.7094535249353904,
          -1.803852147661034
         ]
        },
        {
         "hovertext": "<b>Topic 127</b>:track_refund_human_xhould_contact",
         "line": {
          "color": "black",
          "width": 1.5
         },
         "mode": "lines+lines",
         "name": "",
         "opacity": 0.1,
         "type": "scatter",
         "x": [
          1,
          2,
          3,
          4,
          5,
          6,
          7,
          8,
          9,
          10
         ],
         "y": [
          -1.067816783928797,
          -1.2126555753040307,
          -1.351671601877133,
          -1.4729257542914374,
          -1.5350636579230523,
          -1.7905529709424914,
          -1.8460145642946397,
          -1.8780323476440972,
          -1.8898568135778395,
          -2.0104041976857197
         ]
        },
        {
         "hovertext": "<b>Topic 128</b>:profile_no_prfofile_have_get_not_",
         "line": {
          "color": "black",
          "width": 1.5
         },
         "mode": "lines+lines",
         "name": "",
         "opacity": 0.1,
         "type": "scatter",
         "x": [
          1,
          2,
          3,
          4,
          5,
          6,
          7,
          8,
          9,
          10
         ],
         "y": [
          -1.0348174840920306,
          -1.116182095111174,
          -1.417702963232755,
          -1.4421489238439693,
          -1.660832119376664,
          -1.6658530366276574,
          -1.7436283105377903,
          -1.7503131368191214,
          -1.756813752860204,
          -2.150303527854627
         ]
        },
        {
         "hovertext": "<b>Topic 129</b>:invoice_see_tedlo_some_possible_a",
         "line": {
          "color": "black",
          "width": 1.5
         },
         "mode": "lines+lines",
         "name": "",
         "opacity": 0.1,
         "type": "scatter",
         "x": [
          1,
          2,
          3,
          4,
          5,
          6,
          7,
          8,
          9,
          10
         ],
         "y": [
          -1.0511823975159933,
          -1.1061205874932447,
          -1.3572504177074114,
          -1.369911233440873,
          -1.3855351579119712,
          -1.4340348845820825,
          -1.5623162899515326,
          -1.6871530422846193,
          -1.806572259019278,
          -1.8700681937862087
         ]
        },
        {
         "hovertext": "<b>Topic 130</b>:error_for_attempt_message_order_p",
         "line": {
          "color": "black",
          "width": 1.5
         },
         "mode": "lines+lines",
         "name": "",
         "opacity": 0.1,
         "type": "scatter",
         "x": [
          1,
          2,
          3,
          4,
          5,
          6,
          7,
          8,
          9,
          10
         ],
         "y": [
          -1.411348100269767,
          -1.4470539829970785,
          -1.4739771312937087,
          -1.5101309851658125,
          -1.5200840618516933,
          -1.5622042222340493,
          -1.5670479456676483,
          -1.6394587582222149,
          -1.697359597742287,
          -1.697359597742287
         ]
        },
        {
         "hovertext": "<b>Topic 131</b>:fuck_two_create_same_single_email",
         "line": {
          "color": "black",
          "width": 1.5
         },
         "mode": "lines+lines",
         "name": "",
         "opacity": 0.1,
         "type": "scatter",
         "x": [
          1,
          2,
          3,
          4,
          5,
          6,
          7,
          8,
          9,
          10
         ],
         "y": [
          -1.153969390522911,
          -1.3173331964620538,
          -1.3690413412506302,
          -1.4019503334340504,
          -1.4077097101958147,
          -1.4648762881050321,
          -1.5263810073710415,
          -1.5272266633043252,
          -1.5789155517709943,
          -1.6292004962610314
         ]
        },
        {
         "hovertext": "<b>Topic 132</b>:know_order_where_may_be_ell_how_t",
         "line": {
          "color": "black",
          "width": 1.5
         },
         "mode": "lines+lines",
         "name": "",
         "opacity": 0.1,
         "type": "scatter",
         "x": [
          1,
          2,
          3,
          4,
          5,
          6,
          7,
          8,
          9,
          10
         ],
         "y": [
          -1.124201516502721,
          -1.3105174959431163,
          -1.3452668691781116,
          -1.5645774987083811,
          -1.5998073771036452,
          -1.6053964584715024,
          -1.7618350639349338,
          -1.8326158041054983,
          -1.8859773252946537,
          -2.073188436145454
         ]
        },
        {
         "hovertext": "<b>Topic 133</b>:available_any_there_penalty_perso",
         "line": {
          "color": "black",
          "width": 1.5
         },
         "mode": "lines+lines",
         "name": "",
         "opacity": 0.1,
         "type": "scatter",
         "x": [
          1,
          2,
          3,
          4,
          5,
          6,
          7,
          8,
          9,
          10
         ],
         "y": [
          -0.49012660598387653,
          -0.5941791477191815,
          -0.824348329156122,
          -1.1870403261293907,
          -1.3215586061012126,
          -1.331055815917552,
          -1.4461915010441926,
          -1.4461915010441926,
          -1.4461915010441926,
          -1.4461915010441926
         ]
        },
        {
         "hovertext": "<b>Topic 134</b>:mail_client_of_the_service_about_",
         "line": {
          "color": "black",
          "width": 1.5
         },
         "mode": "lines+lines",
         "name": "",
         "opacity": 0.1,
         "type": "scatter",
         "x": [
          1,
          2,
          3,
          4,
          5,
          6,
          7,
          8,
          9,
          10
         ],
         "y": [
          -0.8846661005051272,
          -1.095848909899229,
          -1.48754459964263,
          -1.5089815587591973,
          -1.5172831212162814,
          -1.5574644662180999,
          -1.5711302376524925,
          -1.5711302376524925,
          -1.5711302376524925,
          -1.6179940749326267
         ]
        },
        {
         "hovertext": "<b>Topic 135</b>:update_on_profile_information_agn",
         "line": {
          "color": "black",
          "width": 1.5
         },
         "mode": "lines+lines",
         "name": "",
         "opacity": 0.1,
         "type": "scatter",
         "x": [
          1,
          2,
          3,
          4,
          5,
          6,
          7,
          8,
          9,
          10
         ],
         "y": [
          -0.3974324447400176,
          -0.8262448916705454,
          -1.001688065777922,
          -1.4932699812024577,
          -1.5021769715564386,
          -1.8004866053400215,
          -1.8813920272111346,
          -1.895976492814474,
          -1.9042814712650264,
          -2.1171741095405183
         ]
        },
        {
         "hovertext": "<b>Topic 136</b>:create_online_one_no_accounmt_acc",
         "line": {
          "color": "black",
          "width": 1.5
         },
         "mode": "lines+lines",
         "name": "",
         "opacity": 0.1,
         "type": "scatter",
         "x": [
          1,
          2,
          3,
          4,
          5,
          6,
          7,
          8,
          9,
          10
         ],
         "y": [
          -1.0725118468133255,
          -1.1835777053096852,
          -1.2192258681791914,
          -1.4248558709721735,
          -1.4575314268011743,
          -1.4575314268011743,
          -1.5043952640813085,
          -1.602106757302301,
          -1.6631241481994679,
          -1.8593957289398246
         ]
        },
        {
         "hovertext": "<b>Topic 137</b>:card_error_message_attempt_pay_wh",
         "line": {
          "color": "black",
          "width": 1.5
         },
         "mode": "lines+lines",
         "name": "",
         "opacity": 0.1,
         "type": "scatter",
         "x": [
          1,
          2,
          3,
          4,
          5,
          6,
          7,
          8,
          9,
          10
         ],
         "y": [
          -1.3094963554105765,
          -1.3871683928404401,
          -1.4334604045168418,
          -1.5046193240525618,
          -1.5565079204987355,
          -1.6008601852160078,
          -1.635338844721856,
          -1.6554511233525284,
          -1.6554511233525284,
          -1.6648123249915803
         ]
        },
        {
         "hovertext": "<b>Topic 138</b>:package_know_where_cantrack_wasn_",
         "line": {
          "color": "black",
          "width": 1.5
         },
         "mode": "lines+lines",
         "name": "",
         "opacity": 0.1,
         "type": "scatter",
         "x": [
          1,
          2,
          3,
          4,
          5,
          6,
          7,
          8,
          9,
          10
         ],
         "y": [
          -0.8272147216093527,
          -1.0903432492417537,
          -1.4097686813204333,
          -1.516082671321587,
          -1.516082671321587,
          -1.5629465086017211,
          -1.615393235297891,
          -1.6836143444413538,
          -1.7264556235534334,
          -1.763995430585319
         ]
        },
        {
         "hovertext": "<b>Topic 139</b>:invoice_obtain_where_telo_gt_know",
         "line": {
          "color": "black",
          "width": 1.5
         },
         "mode": "lines+lines",
         "name": "",
         "opacity": 0.1,
         "type": "scatter",
         "x": [
          1,
          2,
          3,
          4,
          5,
          6,
          7,
          8,
          9,
          10
         ],
         "y": [
          -1.11998193737403,
          -1.2380753594959293,
          -1.2835237949098497,
          -1.3898377849110035,
          -1.4666222517856746,
          -1.4869771081115077,
          -1.6707555019443123,
          -1.6805927374468177,
          -1.7628477932849065,
          -1.7926525041604786
         ]
        },
        {
         "hovertext": "<b>Topic 140</b>:bill_check_ask_agent_hw_hwere_sak",
         "line": {
          "color": "black",
          "width": 1.5
         },
         "mode": "lines+lines",
         "name": "",
         "opacity": 0.1,
         "type": "scatter",
         "x": [
          1,
          2,
          3,
          4,
          5,
          6,
          7,
          8,
          9,
          10
         ],
         "y": [
          -1.2558334488934393,
          -1.2620098836573401,
          -1.5603598048367744,
          -1.5677123022916513,
          -1.6044490107460734,
          -1.6452679705091946,
          -1.6607901079285492,
          -1.7408124574996415,
          -1.7900742848092885,
          -1.7951528502492984
         ]
        },
        {
         "hovertext": "<b>Topic 141</b>:but_anyway_charge_inform_error_at",
         "line": {
          "color": "black",
          "width": 1.5
         },
         "mode": "lines+lines",
         "name": "",
         "opacity": 0.1,
         "type": "scatter",
         "x": [
          1,
          2,
          3,
          4,
          5,
          6,
          7,
          8,
          9,
          10
         ],
         "y": [
          -1.350052389235852,
          -1.3675113798478151,
          -1.3678812930559026,
          -1.5166379616369163,
          -1.5193455383726593,
          -1.5410159617176944,
          -1.548406582602856,
          -1.621588955378211,
          -1.630693119053268,
          -1.6355368424868668
         ]
        },
        {
         "hovertext": "<b>Topic 142</b>:track_reimbursement_reimbursemenn",
         "line": {
          "color": "black",
          "width": 1.5
         },
         "mode": "lines+lines",
         "name": "",
         "opacity": 0.1,
         "type": "scatter",
         "x": [
          1,
          2,
          3,
          4,
          5,
          6,
          7,
          8,
          9,
          10
         ],
         "y": [
          -0.8374617945249141,
          -1.016074798896753,
          -1.373849679526873,
          -1.373849679526873,
          -1.5794424009251666,
          -1.827551300837648,
          -1.8511122751596687,
          -1.9325393162455862,
          -1.9491794075998894,
          -2.034199429136797
         ]
        },
        {
         "hovertext": "<b>Topic 143</b>:client_email_of_service_the_yoush",
         "line": {
          "color": "black",
          "width": 1.5
         },
         "mode": "lines+lines",
         "name": "",
         "opacity": 0.1,
         "type": "scatter",
         "x": [
          1,
          2,
          3,
          4,
          5,
          6,
          7,
          8,
          9,
          10
         ],
         "y": [
          -1.1054088877822335,
          -1.2737768154416182,
          -1.4793758105652028,
          -1.5091143321388545,
          -1.5257950577688473,
          -1.5444780428810523,
          -1.6179624471655596,
          -1.7403246548837639,
          -1.8893008151528408,
          -1.9417529766031092
         ]
        },
        {
         "hovertext": "<b>Topic 144</b>:inform_of_havr_payment_awnna_issu",
         "line": {
          "color": "black",
          "width": 1.5
         },
         "mode": "lines+lines",
         "name": "",
         "opacity": 0.1,
         "type": "scatter",
         "x": [
          1,
          2,
          3,
          4,
          5,
          6,
          7,
          8,
          9,
          10
         ],
         "y": [
          -1.2551097223064551,
          -1.509461181175037,
          -1.5745634134908864,
          -1.5859327705374069,
          -1.6214272507710206,
          -1.6413771493182356,
          -1.7553205016250724,
          -1.7755500241876216,
          -1.7951998276333205,
          -1.8475263374240278
         ]
        },
        {
         "hovertext": "<b>Topic 145</b>:their_option_optiond_assk_ib_paym",
         "line": {
          "color": "black",
          "width": 1.5
         },
         "mode": "lines+lines",
         "name": "",
         "opacity": 0.1,
         "type": "scatter",
         "x": [
          1,
          2,
          3,
          4,
          5,
          6,
          7,
          8,
          9,
          10
         ],
         "y": [
          -0.76938479391151,
          -1.0025722319256392,
          -1.525755554064071,
          -1.525755554064071,
          -1.525755554064071,
          -1.556430066305978,
          -1.5786542011177305,
          -1.585108467679707,
          -1.6126201299549845,
          -1.625066118040375
         ]
        },
        {
         "hovertext": "<b>Topic 146</b>:check_order_where_nills_bklls_ny_",
         "line": {
          "color": "black",
          "width": 1.5
         },
         "mode": "lines+lines",
         "name": "",
         "opacity": 0.1,
         "type": "scatter",
         "x": [
          1,
          2,
          3,
          4,
          5,
          6,
          7,
          8,
          9,
          10
         ],
         "y": [
          -1.1449807022610115,
          -1.2907612983088625,
          -1.3477870662550102,
          -1.3711268211913998,
          -1.3711268211913998,
          -1.4179906584715338,
          -1.5923104958577754,
          -1.67033443123439,
          -1.7159495934631883,
          -1.7235386494952103
         ]
        },
        {
         "hovertext": "<b>Topic 147</b>:support_customer_colud_cutomer_as",
         "line": {
          "color": "black",
          "width": 1.5
         },
         "mode": "lines+lines",
         "name": "",
         "opacity": 0.1,
         "type": "scatter",
         "x": [
          1,
          2,
          3,
          4,
          5,
          6,
          7,
          8,
          9,
          10
         ],
         "y": [
          -1.1055382372446523,
          -1.312650381885736,
          -1.5550500277556873,
          -1.5550500277556873,
          -1.5610848375292123,
          -1.567539104091189,
          -1.5703240941071683,
          -1.5773465115999903,
          -1.6413117545327003,
          -1.642204543164555
         ]
        },
        {
         "hovertext": "<b>Topic 148</b>:soon_expect_ticket_arrive_sono_kn",
         "line": {
          "color": "black",
          "width": 1.5
         },
         "mode": "lines+lines",
         "name": "",
         "opacity": 0.1,
         "type": "scatter",
         "x": [
          1,
          2,
          3,
          4,
          5,
          6,
          7,
          8,
          9,
          10
         ],
         "y": [
          -0.43715979128265386,
          -0.454163008224781,
          -0.8305695048924094,
          -0.832102272553098,
          -1.2165935341510825,
          -1.5176235298150638,
          -1.681132644766776,
          -1.7644299423593368,
          -1.82317152083874,
          -1.9244613138457047
         ]
        },
        {
         "hovertext": "<b>Topic 149</b>:request_bill_some_somr_osme_hlp_k",
         "line": {
          "color": "black",
          "width": 1.5
         },
         "mode": "lines+lines",
         "name": "",
         "opacity": 0.1,
         "type": "scatter",
         "x": [
          1,
          2,
          3,
          4,
          5,
          6,
          7,
          8,
          9,
          10
         ],
         "y": [
          -0.8915850524291256,
          -1.078571759323347,
          -1.2926059923920037,
          -1.3310976991059233,
          -1.3310976991059233,
          -1.4078821659805945,
          -1.5373814917314956,
          -1.582863336495995,
          -1.6759204713777116,
          -1.9676456258650485
         ]
        },
        {
         "hovertext": "<b>Topic 150</b>:create_one_no_ivge_prfoile_onee_a",
         "line": {
          "color": "black",
          "width": 1.5
         },
         "mode": "lines+lines",
         "name": "",
         "opacity": 0.1,
         "type": "scatter",
         "x": [
          1,
          2,
          3,
          4,
          5,
          6,
          7,
          8,
          9,
          10
         ],
         "y": [
          -1.1122150080787025,
          -1.22212638153682,
          -1.2974226158347957,
          -1.4392426410888646,
          -1.4392426410888646,
          -1.4392426410888646,
          -1.5563855319348758,
          -1.5838179715899912,
          -1.6540202998703706,
          -1.687392714483767
         ]
        },
        {
         "hovertext": "<b>Topic 151</b>:customer_talk_information_speak_s",
         "line": {
          "color": "black",
          "width": 1.5
         },
         "mode": "lines+lines",
         "name": "",
         "opacity": 0.1,
         "type": "scatter",
         "x": [
          1,
          2,
          3,
          4,
          5,
          6,
          7,
          8,
          9,
          10
         ],
         "y": [
          -1.189037736328829,
          -1.190492431268502,
          -1.2124433716267635,
          -1.263319392504342,
          -1.4314373821987805,
          -1.4314373821987805,
          -1.4314373821987805,
          -1.4321840692412122,
          -1.4838841088949501,
          -1.5821092685300855
         ]
        },
        {
         "hovertext": "<b>Topic 152</b>:out_delivery_for_package_if_shipm",
         "line": {
          "color": "black",
          "width": 1.5
         },
         "mode": "lines+lines",
         "name": "",
         "opacity": 0.1,
         "type": "scatter",
         "x": [
          1,
          2,
          3,
          4,
          5,
          6,
          7,
          8,
          9,
          10
         ],
         "y": [
          -0.432580977817091,
          -1.0196482696684623,
          -1.2851794074263763,
          -1.2875261545245682,
          -1.4095576753742816,
          -1.4250061330003838,
          -1.4597643082334664,
          -1.5066281455136006,
          -1.5569036314339706,
          -1.6474993674415201
         ]
        },
        {
         "hovertext": "<b>Topic 153</b>:arrive_go_will_ticket_when_gtoiin",
         "line": {
          "color": "black",
          "width": 1.5
         },
         "mode": "lines+lines",
         "name": "",
         "opacity": 0.1,
         "type": "scatter",
         "x": [
          1,
          2,
          3,
          4,
          5,
          6,
          7,
          8,
          9,
          10
         ],
         "y": [
          -0.5267074714866667,
          -0.6955537684217817,
          -0.806870862694283,
          -0.8262046994899593,
          -1.391600562907672,
          -1.4461915010441926,
          -1.6149230142602997,
          -1.6158809573103357,
          -1.7194220833003782,
          -1.8769646089385408
         ]
        },
        {
         "hovertext": "<b>Topic 154</b>:sign_up_signing_find_while_issuea",
         "line": {
          "color": "black",
          "width": 1.5
         },
         "mode": "lines+lines",
         "name": "",
         "opacity": 0.1,
         "type": "scatter",
         "x": [
          1,
          2,
          3,
          4,
          5,
          6,
          7,
          8,
          9,
          10
         ],
         "y": [
          -0.23984345793084277,
          -0.43006636917273794,
          -0.8300907493795688,
          -1.0256424796186545,
          -1.0525138925478876,
          -1.23042753722456,
          -1.23042753722456,
          -1.4111846253587461,
          -1.450642104178505,
          -1.5080946383668024
         ]
        },
        {
         "hovertext": "<b>Topic 155</b>:visa_withvisa_view_wan_bill_if_wi",
         "line": {
          "color": "black",
          "width": 1.5
         },
         "mode": "lines+lines",
         "name": "",
         "opacity": 0.1,
         "type": "scatter",
         "x": [
          1,
          2,
          3,
          4,
          5,
          6,
          7,
          8,
          9,
          10
         ],
         "y": [
          -0.5294584841068123,
          -1.3819173012749062,
          -1.4107899301881326,
          -1.4587017681495773,
          -1.5687240553225925,
          -1.5869831735190274,
          -1.7274308923566593,
          -1.8070330812841326,
          -1.831239142586773,
          -1.9099164543247626
         ]
        },
        {
         "hovertext": "<b>Topic 156</b>:card_inform_of_makinv_mask_make_a",
         "line": {
          "color": "black",
          "width": 1.5
         },
         "mode": "lines+lines",
         "name": "",
         "opacity": 0.1,
         "type": "scatter",
         "x": [
          1,
          2,
          3,
          4,
          5,
          6,
          7,
          8,
          9,
          10
         ],
         "y": [
          -1.3094963554105765,
          -1.3397904211852363,
          -1.5718654853426657,
          -1.5762698773049035,
          -1.5762698773049035,
          -1.591211192225081,
          -1.6231337145850377,
          -1.6483370747050357,
          -1.6621461578809005,
          -1.7156342802808644
         ]
        },
        {
         "hovertext": "<b>Topic 157</b>:customer_call_available_suppoet_s",
         "line": {
          "color": "black",
          "width": 1.5
         },
         "mode": "lines+lines",
         "name": "",
         "opacity": 0.1,
         "type": "scatter",
         "x": [
          1,
          2,
          3,
          4,
          5,
          6,
          7,
          8,
          9,
          10
         ],
         "y": [
          -1.316512658471928,
          -1.461378521367888,
          -1.4667603876596638,
          -1.468582773280655,
          -1.468582773280655,
          -1.515446610560789,
          -1.515446610560789,
          -1.5426707194042524,
          -1.564497977177776,
          -1.569328372054516
         ]
        },
        {
         "hovertext": "<b>Topic 158</b>:about_email_customer_information_",
         "line": {
          "color": "black",
          "width": 1.5
         },
         "mode": "lines+lines",
         "name": "",
         "opacity": 0.1,
         "type": "scatter",
         "x": [
          1,
          2,
          3,
          4,
          5,
          6,
          7,
          8,
          9,
          10
         ],
         "y": [
          -1.2785384919818397,
          -1.319561792125014,
          -1.3552186696909572,
          -1.400900699700044,
          -1.447521934265798,
          -1.4772554213820002,
          -1.5224640666484466,
          -1.5289001042608557,
          -1.5295651792108365,
          -1.5548993088222502
         ]
        },
        {
         "hovertext": "<b>Topic 159</b>:notify_anb_havean_make_makinga_ap",
         "line": {
          "color": "black",
          "width": 1.5
         },
         "mode": "lines+lines",
         "name": "",
         "opacity": 0.1,
         "type": "scatter",
         "x": [
          1,
          2,
          3,
          4,
          5,
          6,
          7,
          8,
          9,
          10
         ],
         "y": [
          -1.0712650700622448,
          -1.2870009925267127,
          -1.2870009925267127,
          -1.3019423074468899,
          -1.3338648298068467,
          -1.3338648298068467,
          -1.381344584637997,
          -1.4201265565838597,
          -1.4677580806608985,
          -1.5262869571022846
         ]
        },
        {
         "hovertext": "<b>Topic 160</b>:invoice_some_vie_need_help_obtain",
         "line": {
          "color": "black",
          "width": 1.5
         },
         "mode": "lines+lines",
         "name": "",
         "opacity": 0.1,
         "type": "scatter",
         "x": [
          1,
          2,
          3,
          4,
          5,
          6,
          7,
          8,
          9,
          10
         ],
         "y": [
          -0.9370905938380638,
          -1.0397230090356786,
          -1.1239722063102733,
          -1.276107995166945,
          -1.379451516212483,
          -1.4115424747254617,
          -1.442018133562687,
          -1.496091666494007,
          -1.7258522447917006,
          -1.7473126041657883
         ]
        },
        {
         "hovertext": "<b>Topic 161</b>:notify_propblem_payment_problem_i",
         "line": {
          "color": "black",
          "width": 1.5
         },
         "mode": "lines+lines",
         "name": "",
         "opacity": 0.1,
         "type": "scatter",
         "x": [
          1,
          2,
          3,
          4,
          5,
          6,
          7,
          8,
          9,
          10
         ],
         "y": [
          -0.9452198500989755,
          -1.1609557725634432,
          -1.2552993646747275,
          -1.3874703512583042,
          -1.3874703512583042,
          -1.5860715525726699,
          -1.8099932956602296,
          -1.8488920444674026,
          -2.258110070360406,
          -2.3698801308414352
         ]
        },
        {
         "hovertext": "<b>Topic 162</b>:notify_notifying_inotify_payment_",
         "line": {
          "color": "black",
          "width": 1.5
         },
         "mode": "lines+lines",
         "name": "",
         "opacity": 0.1,
         "type": "scatter",
         "x": [
          1,
          2,
          3,
          4,
          5,
          6,
          7,
          8,
          9,
          10
         ],
         "y": [
          -1.1228723851868856,
          -1.290303628076798,
          -1.3371674653569323,
          -1.3846472201880824,
          -1.4666016919313831,
          -1.471060716210984,
          -1.483832102091695,
          -1.5168182067716593,
          -1.5980286582691516,
          -1.8489932647955114
         ]
        },
        {
         "hovertext": "<b>Topic 163</b>:modify_order_change_knolw_possibe",
         "line": {
          "color": "black",
          "width": 1.5
         },
         "mode": "lines+lines",
         "name": "",
         "opacity": 0.1,
         "type": "scatter",
         "x": [
          1,
          2,
          3,
          4,
          5,
          6,
          7,
          8,
          9,
          10
         ],
         "y": [
          -1.2464581990770178,
          -1.270003060794813,
          -1.2931448461138917,
          -1.328092188966198,
          -1.328092188966198,
          -1.387030025532081,
          -1.6574069248347392,
          -1.6729149612379866,
          -1.6805040172700083,
          -1.7630888522107937
         ]
        },
        {
         "hovertext": "<b>Topic 164</b>:client_talk_sdpeak_couldspeak_mak",
         "line": {
          "color": "black",
          "width": 1.5
         },
         "mode": "lines+lines",
         "name": "",
         "opacity": 0.1,
         "type": "scatter",
         "x": [
          1,
          2,
          3,
          4,
          5,
          6,
          7,
          8,
          9,
          10
         ],
         "y": [
          -1.0969360055404431,
          -1.3972525100906352,
          -1.453030925574498,
          -1.453030925574498,
          -1.453030925574498,
          -1.524122545746587,
          -1.5493952664092476,
          -1.5760529190595112,
          -1.5997116247658478,
          -1.7119363297634125
         ]
        },
        {
         "hovertext": "<b>Topic 165</b>:card_inform_try_when_mazke_of_mak",
         "line": {
          "color": "black",
          "width": 1.5
         },
         "mode": "lines+lines",
         "name": "",
         "opacity": 0.1,
         "type": "scatter",
         "x": [
          1,
          2,
          3,
          4,
          5,
          6,
          7,
          8,
          9,
          10
         ],
         "y": [
          -1.3846250574470045,
          -1.4161238243600347,
          -1.4736731376232388,
          -1.617996940274749,
          -1.629122184630179,
          -1.6469941873790936,
          -1.6688870832753886,
          -1.6759860219103133,
          -1.7234657767414636,
          -1.7372748599173284
         ]
        },
        {
         "hovertext": "<b>Topic 166</b>:invoice_check_chdck_iwanna_where_",
         "line": {
          "color": "black",
          "width": 1.5
         },
         "mode": "lines+lines",
         "name": "",
         "opacity": 0.1,
         "type": "scatter",
         "x": [
          1,
          2,
          3,
          4,
          5,
          6,
          7,
          8,
          9,
          10
         ],
         "y": [
          -1.024240769556964,
          -1.0519230527293981,
          -1.2111223820291734,
          -1.2111223820291734,
          -1.688384977661969,
          -1.6884504415477395,
          -1.7284930832093257,
          -1.9056622557659855,
          -2.1036208603800888,
          -2.1512897036298946
         ]
        },
        {
         "hovertext": "<b>Topic 167</b>:purchase_tp_make_where_id_like_be",
         "line": {
          "color": "black",
          "width": 1.5
         },
         "mode": "lines+lines",
         "name": "",
         "opacity": 0.1,
         "type": "scatter",
         "x": [
          1,
          2,
          3,
          4,
          5,
          6,
          7,
          8,
          9,
          10
         ],
         "y": [
          -0.8320530134974273,
          -1.1565014311371933,
          -1.2506239921049953,
          -1.5088252901616888,
          -1.7151910678559064,
          -2.032861154874191,
          -2.0643957937512036,
          -2.0940793535602995,
          -2.0966687527379144,
          -2.103384194736944
         ]
        },
        {
         "hovertext": "<b>Topic 168</b>:through_go_fail_will_paymdnt_dop_",
         "line": {
          "color": "black",
          "width": 1.5
         },
         "mode": "lines+lines",
         "name": "",
         "opacity": 0.1,
         "type": "scatter",
         "x": [
          1,
          2,
          3,
          4,
          5,
          6,
          7,
          8,
          9,
          10
         ],
         "y": [
          -0.4488997867988681,
          -0.534062017936389,
          -0.7122247313809148,
          -0.8270742487825699,
          -1.3572504177074114,
          -1.3572504177074114,
          -1.4750751056682185,
          -1.5706383848431018,
          -1.6395974282591876,
          -1.8411282666244269
         ]
        },
        {
         "hovertext": "<b>Topic 169</b>:refund_refumd_postopned_cincert_o",
         "line": {
          "color": "black",
          "width": 1.5
         },
         "mode": "lines+lines",
         "name": "",
         "opacity": 0.1,
         "type": "scatter",
         "x": [
          1,
          2,
          3,
          4,
          5,
          6,
          7,
          8,
          9,
          10
         ],
         "y": [
          -0.8388784435978345,
          -1.0991486225852412,
          -1.0991486225852412,
          -1.0991486225852412,
          -1.1416696735389524,
          -1.2880824905753723,
          -1.2898088779923733,
          -1.3030886523946308,
          -1.5019093765749958,
          -1.5095944984459322
         ]
        },
        {
         "hovertext": "<b>Topic 170</b>:invoice_check_lease_ican_ask_agen",
         "line": {
          "color": "black",
          "width": 1.5
         },
         "mode": "lines+lines",
         "name": "",
         "opacity": 0.1,
         "type": "scatter",
         "x": [
          1,
          2,
          3,
          4,
          5,
          6,
          7,
          8,
          9,
          10
         ],
         "y": [
          -1.2443752833770572,
          -1.2485764706999685,
          -1.454639637279878,
          -1.5253792266375361,
          -1.5276212366840163,
          -1.5542788893342798,
          -1.620923713627983,
          -1.708947136576858,
          -1.7670955539456865,
          -1.80020284298594
         ]
        },
        {
         "hovertext": "<b>Topic 171</b>:purchase_change_purtchase_tell_ho",
         "line": {
          "color": "black",
          "width": 1.5
         },
         "mode": "lines+lines",
         "name": "",
         "opacity": 0.1,
         "type": "scatter",
         "x": [
          1,
          2,
          3,
          4,
          5,
          6,
          7,
          8,
          9,
          10
         ],
         "y": [
          -1.1057735632096954,
          -1.133090138477519,
          -1.3819173012749062,
          -1.5506488144910133,
          -1.704264012950685,
          -1.84237396897835,
          -1.9227690983045813,
          -2.001943695512065,
          -2.021054627211646,
          -2.085708050928642
         ]
        },
        {
         "hovertext": "<b>Topic 172</b>:bill_check_fuckingbill_checkl_ols",
         "line": {
          "color": "black",
          "width": 1.5
         },
         "mode": "lines+lines",
         "name": "",
         "opacity": 0.1,
         "type": "scatter",
         "x": [
          1,
          2,
          3,
          4,
          5,
          6,
          7,
          8,
          9,
          10
         ],
         "y": [
          -1.037777688294222,
          -1.0439541230581229,
          -1.178329868632866,
          -1.178329868632866,
          -1.225193705913,
          -1.6556579281514319,
          -1.7191816656625412,
          -1.8947370879281002,
          -1.9386533605184222,
          -1.9398165320002911
         ]
        },
        {
         "hovertext": "<b>Topic 173</b>:depivery_delivry_oackages_hsipmen",
         "line": {
          "color": "black",
          "width": 1.5
         },
         "mode": "lines+lines",
         "name": "",
         "opacity": 0.1,
         "type": "scatter",
         "x": [
          1,
          2,
          3,
          4,
          5,
          6,
          7,
          8,
          9,
          10
         ],
         "y": [
          -1.303268605241166,
          -1.303268605241166,
          -1.303268605241166,
          -1.303268605241166,
          -1.303268605241166,
          -1.303268605241166,
          -1.303268605241166,
          -1.303268605241166,
          -1.303268605241166,
          -1.303268605241166
         ]
        },
        {
         "hovertext": "<b>Topic 174</b>:online_no_van_have_account_should",
         "line": {
          "color": "black",
          "width": 1.5
         },
         "mode": "lines+lines",
         "name": "",
         "opacity": 0.1,
         "type": "scatter",
         "x": [
          1,
          2,
          3,
          4,
          5,
          6,
          7,
          8,
          9,
          10
         ],
         "y": [
          -1.2193717989421817,
          -1.2777192810186833,
          -1.467697347801675,
          -1.5224666022532651,
          -1.5587196048871728,
          -1.627365341499793,
          -1.6761733736867053,
          -1.73645467657758,
          -1.737460796830263,
          -1.7414755938285733
         ]
        },
        {
         "hovertext": "<b>Topic 175</b>:bil_bils_abill_kt_invoicse_donwlo",
         "line": {
          "color": "black",
          "width": 1.5
         },
         "mode": "lines+lines",
         "name": "",
         "opacity": 0.1,
         "type": "scatter",
         "x": [
          1,
          2,
          3,
          4,
          5,
          6,
          7,
          8,
          9,
          10
         ],
         "y": [
          -0.5796518308368798,
          -0.708372954677515,
          -0.9569562236453264,
          -1.2111223820291734,
          -1.2111223820291734,
          -1.2111223820291734,
          -1.2111223820291734,
          -1.2111223820291734,
          -1.2111223820291734,
          -1.2111223820291734
         ]
        },
        {
         "hovertext": "<b>Topic 176</b>:register_registering_odl_wher_wat",
         "line": {
          "color": "black",
          "width": 1.5
         },
         "mode": "lines+lines",
         "name": "",
         "opacity": 0.1,
         "type": "scatter",
         "x": [
          1,
          2,
          3,
          4,
          5,
          6,
          7,
          8,
          9,
          10
         ],
         "y": [
          -0.6810294190376976,
          -1.012389624685551,
          -1.0270621933022168,
          -1.073926030582351,
          -1.1601877573593637,
          -1.6804160479906936,
          -1.7596627579240889,
          -1.9195606716531324,
          -1.9672295149029377,
          -2.0651429872656846
         ]
        },
        {
         "hovertext": "<b>Topic 177</b>:see_bill_some_areview_tell_agernt",
         "line": {
          "color": "black",
          "width": 1.5
         },
         "mode": "lines+lines",
         "name": "",
         "opacity": 0.1,
         "type": "scatter",
         "x": [
          1,
          2,
          3,
          4,
          5,
          6,
          7,
          8,
          9,
          10
         ],
         "y": [
          -1.3325895347463463,
          -1.3513968112662238,
          -1.407699794330273,
          -1.4919489916048676,
          -1.5094128294903257,
          -1.5388128288850018,
          -1.7496086326595996,
          -1.7846164514556961,
          -1.8011379839776624,
          -1.8142957032806464
         ]
        },
        {
         "hovertext": "<b>Topic 178</b>:report_maiing_payment_problem_iss",
         "line": {
          "color": "black",
          "width": 1.5
         },
         "mode": "lines+lines",
         "name": "",
         "opacity": 0.1,
         "type": "scatter",
         "x": [
          1,
          2,
          3,
          4,
          5,
          6,
          7,
          8,
          9,
          10
         ],
         "y": [
          -0.9306842903058409,
          -1.1239722063102733,
          -1.2666204779961125,
          -1.3504867850051343,
          -1.4016393074525155,
          -1.695216021997738,
          -1.8119084782142327,
          -1.8213144089816147,
          -2.221126504107236,
          -2.256650059373807
         ]
        },
        {
         "hovertext": "<b>Topic 179</b>:bill_check_tocheck_where_my_how_w",
         "line": {
          "color": "black",
          "width": 1.5
         },
         "mode": "lines+lines",
         "name": "",
         "opacity": 0.1,
         "type": "scatter",
         "x": [
          1,
          2,
          3,
          4,
          5,
          6,
          7,
          8,
          9,
          10
         ],
         "y": [
          -0.9534568025941861,
          -0.9859621760804361,
          -1.09400898293283,
          -1.5712715785656255,
          -1.6596843636875374,
          -1.8686533656032391,
          -2.0341763045335512,
          -2.2303742592744746,
          -2.3228301026464266,
          -2.433119772560279
         ]
        },
        {
         "hovertext": "<b>Topic 180</b>:tracking_track_order_possible_can",
         "line": {
          "color": "black",
          "width": 1.5
         },
         "mode": "lines+lines",
         "name": "",
         "opacity": 0.1,
         "type": "scatter",
         "x": [
          1,
          2,
          3,
          4,
          5,
          6,
          7,
          8,
          9,
          10
         ],
         "y": [
          -0.8563769953545084,
          -0.9133996014352626,
          -1.250732176223386,
          -1.2624724263024267,
          -1.310972152972538,
          -1.3334982500741708,
          -1.4797534778642147,
          -1.5941555183277312,
          -1.7998630668525744,
          -1.8084482640180335
         ]
        },
        {
         "hovertext": "<b>Topic 181</b>:refund_whay_obtani_obtain_should_",
         "line": {
          "color": "black",
          "width": 1.5
         },
         "mode": "lines+lines",
         "name": "",
         "opacity": 0.1,
         "type": "scatter",
         "x": [
          1,
          2,
          3,
          4,
          5,
          6,
          7,
          8,
          9,
          10
         ],
         "y": [
          -0.9776453796297033,
          -1.23791555861711,
          -1.23791555861711,
          -1.4285758140242422,
          -1.4968941162915321,
          -1.5968546709258253,
          -1.7117249221420152,
          -1.7309248488756117,
          -1.9543227779123444,
          -1.9581659694806814
         ]
        },
        {
         "hovertext": "<b>Topic 182</b>:master_card_if_with_pay_make_paym",
         "line": {
          "color": "black",
          "width": 1.5
         },
         "mode": "lines+lines",
         "name": "",
         "opacity": 0.1,
         "type": "scatter",
         "x": [
          1,
          2,
          3,
          4,
          5,
          6,
          7,
          8,
          9,
          10
         ],
         "y": [
          -0.42147236749888356,
          -1.1845576188022766,
          -1.4133589642544304,
          -1.5372074212726006,
          -1.7141157738604036,
          -1.721544960720087,
          -1.8244283337607168,
          -1.9033638826162602,
          -1.9204844157205696,
          -1.928681705608714
         ]
        },
        {
         "hovertext": "<b>Topic 183</b>:decline_transfer_transaction_be_c",
         "line": {
          "color": "black",
          "width": 1.5
         },
         "mode": "lines+lines",
         "name": "",
         "opacity": 0.1,
         "type": "scatter",
         "x": [
          1,
          2,
          3,
          4,
          5,
          6,
          7,
          8,
          9,
          10
         ],
         "y": [
          -0.241996629607819,
          -0.5739220332146333,
          -0.6375811418429035,
          -1.5247820908271783,
          -1.5542341889747653,
          -1.7386556458875102,
          -1.7820068145057701,
          -1.8459030625101465,
          -1.9212364115814047,
          -2.1733970337793584
         ]
        },
        {
         "hovertext": "<b>Topic 184</b>:track_purchase_pyrchase_my_where_",
         "line": {
          "color": "black",
          "width": 1.5
         },
         "mode": "lines+lines",
         "name": "",
         "opacity": 0.1,
         "type": "scatter",
         "x": [
          1,
          2,
          3,
          4,
          5,
          6,
          7,
          8,
          9,
          10
         ],
         "y": [
          -0.7732208982702258,
          -0.9302148541678986,
          -1.1520009299105167,
          -1.7440052493875733,
          -1.9302935212072936,
          -2.012987005463613,
          -2.1064502441487454,
          -2.113000033547195,
          -2.1231349342433714,
          -2.227675308244907
         ]
        },
        {
         "hovertext": "<b>Topic 185</b>:informing_niform_inform_pay_infrm",
         "line": {
          "color": "black",
          "width": 1.5
         },
         "mode": "lines+lines",
         "name": "",
         "opacity": 0.1,
         "type": "scatter",
         "x": [
          1,
          2,
          3,
          4,
          5,
          6,
          7,
          8,
          9,
          10
         ],
         "y": [
          -1.0923036785227003,
          -1.2735334178269053,
          -1.315807562660067,
          -1.3321980683347805,
          -1.3503178847015764,
          -1.366039038872724,
          -1.4432228740930484,
          -1.5512005189691476,
          -1.5512005189691476,
          -1.592529816400083
         ]
        },
        {
         "hovertext": "<b>Topic 186</b>:report_pay_cn_problem_have_it_iss",
         "line": {
          "color": "black",
          "width": 1.5
         },
         "mode": "lines+lines",
         "name": "",
         "opacity": 0.1,
         "type": "scatter",
         "x": [
          1,
          2,
          3,
          4,
          5,
          6,
          7,
          8,
          9,
          10
         ],
         "y": [
          -1.1457855198429603,
          -1.3714091476329187,
          -1.4458700611821904,
          -1.4935015852592295,
          -1.5497985506177014,
          -1.6317408956982211,
          -1.7153503348755856,
          -1.93969984009406,
          -1.9528852824164737,
          -1.97271360509774
         ]
        },
        {
         "hovertext": "<b>Topic 187</b>:no_online_oen_regikstering_reigst",
         "line": {
          "color": "black",
          "width": 1.5
         },
         "mode": "lines+lines",
         "name": "",
         "opacity": 0.1,
         "type": "scatter",
         "x": [
          1,
          2,
          3,
          4,
          5,
          6,
          7,
          8,
          9,
          10
         ],
         "y": [
          -1.1070909176645043,
          -1.1790772040830086,
          -1.2489109429185732,
          -1.2489109429185732,
          -1.2957747801987074,
          -1.2957747801987074,
          -1.5184250100279997,
          -1.5886273383083789,
          -1.7261233050958502,
          -1.7262390024371392
         ]
        },
        {
         "hovertext": "<b>Topic 188</b>:option_accept_your_optins_paymnet",
         "line": {
          "color": "black",
          "width": 1.5
         },
         "mode": "lines+lines",
         "name": "",
         "opacity": 0.1,
         "type": "scatter",
         "x": [
          1,
          2,
          3,
          4,
          5,
          6,
          7,
          8,
          9,
          10
         ],
         "y": [
          -0.8640303189464228,
          -0.8927617619731743,
          -0.9681600253759447,
          -1.2111223820291734,
          -1.3104329460054773,
          -1.3104329460054773,
          -1.3357593087610622,
          -1.4702762227864499,
          -1.516113463456953,
          -1.7796406840710508
         ]
        },
        {
         "hovertext": "<b>Topic 189</b>:user_create_one_poen_hyave_hav_cr",
         "line": {
          "color": "black",
          "width": 1.5
         },
         "mode": "lines+lines",
         "name": "",
         "opacity": 0.1,
         "type": "scatter",
         "x": [
          1,
          2,
          3,
          4,
          5,
          6,
          7,
          8,
          9,
          10
         ],
         "y": [
          -1.0748151237765198,
          -1.1154359955147872,
          -1.1719733865315651,
          -1.2341876860978669,
          -1.2341876860978669,
          -1.310972152972538,
          -1.310972152972538,
          -1.3476401659471038,
          -1.5037017532072934,
          -1.778346837905757
         ]
        },
        {
         "hovertext": "<b>Topic 190</b>:check_cherck_order_tell_where_cn_",
         "line": {
          "color": "black",
          "width": 1.5
         },
         "mode": "lines+lines",
         "name": "",
         "opacity": 0.1,
         "type": "scatter",
         "x": [
          1,
          2,
          3,
          4,
          5,
          6,
          7,
          8,
          9,
          10
         ],
         "y": [
          -1.386846565399255,
          -1.4369014252739623,
          -1.4814746389997249,
          -1.508722925482013,
          -1.5162240122347201,
          -1.5700269893311092,
          -1.6424941466722556,
          -1.7839265474473833,
          -1.8004480799693496,
          -1.8361398942912972
         ]
        },
        {
         "hovertext": "<b>Topic 191</b>:mail_about_customer_thed_informat",
         "line": {
          "color": "black",
          "width": 1.5
         },
         "mode": "lines+lines",
         "name": "",
         "opacity": 0.1,
         "type": "scatter",
         "x": [
          1,
          2,
          3,
          4,
          5,
          6,
          7,
          8,
          9,
          10
         ],
         "y": [
          -0.8994303885018198,
          -1.2156814307009798,
          -1.3146380031212495,
          -1.3340825526553854,
          -1.338043638419184,
          -1.4516859792931778,
          -1.4638194000010034,
          -1.484580120678891,
          -1.5465033256239438,
          -1.5530693033743281
         ]
        },
        {
         "hovertext": "<b>Topic 192</b>:card_notify_try_pau_when_pay_with",
         "line": {
          "color": "black",
          "width": 1.5
         },
         "mode": "lines+lines",
         "name": "",
         "opacity": 0.1,
         "type": "scatter",
         "x": [
          1,
          2,
          3,
          4,
          5,
          6,
          7,
          8,
          9,
          10
         ],
         "y": [
          -1.341159363665914,
          -1.3699205683846212,
          -1.4302074438421486,
          -1.453030925574498,
          -1.5745312464936587,
          -1.6018722064314612,
          -1.6938091661362382,
          -1.7383896586417111,
          -1.788689973694427,
          -1.788689973694427
         ]
        },
        {
         "hovertext": "<b>Topic 193</b>:report_for_order_rpoblem_pay_issu",
         "line": {
          "color": "black",
          "width": 1.5
         },
         "mode": "lines+lines",
         "name": "",
         "opacity": 0.1,
         "type": "scatter",
         "x": [
          1,
          2,
          3,
          4,
          5,
          6,
          7,
          8,
          9,
          10
         ],
         "y": [
          -1.2912115879448258,
          -1.4016849764978134,
          -1.4747150553524282,
          -1.4769630851238935,
          -1.5168352157347842,
          -1.6778457193914647,
          -1.6855373513164353,
          -1.7771669638000867,
          -1.8819657020473894,
          -2.027133961218239
         ]
        },
        {
         "hovertext": "<b>Topic 194</b>:track_wherei_order_tell_where_od_",
         "line": {
          "color": "black",
          "width": 1.5
         },
         "mode": "lines+lines",
         "name": "",
         "opacity": 0.1,
         "type": "scatter",
         "x": [
          1,
          2,
          3,
          4,
          5,
          6,
          7,
          8,
          9,
          10
         ],
         "y": [
          -1.0716580833559275,
          -1.3924461680185316,
          -1.4669826051217376,
          -1.4942308916040257,
          -1.5339166617281341,
          -1.5391268672098815,
          -1.769434513569396,
          -1.7859560460913624,
          -1.9176401416484348,
          -1.9511358047372447
         ]
        },
        {
         "hovertext": "<b>Topic 195</b>:invoice_check_di_olst_acn_how_my_",
         "line": {
          "color": "black",
          "width": 1.5
         },
         "mode": "lines+lines",
         "name": "",
         "opacity": 0.1,
         "type": "scatter",
         "x": [
          1,
          2,
          3,
          4,
          5,
          6,
          7,
          8,
          9,
          10
         ],
         "y": [
          -0.984705369404306,
          -0.9889065567272174,
          -1.0389614166019245,
          -1.0858252538820587,
          -1.252140692090499,
          -1.5917570496559774,
          -1.6889576830566677,
          -2.200977487819002,
          -2.2531334696210736,
          -2.300265429551869
         ]
        },
        {
         "hovertext": "<b>Topic 196</b>:message_anyway_but_charge_notify_",
         "line": {
          "color": "black",
          "width": 1.5
         },
         "mode": "lines+lines",
         "name": "",
         "opacity": 0.1,
         "type": "scatter",
         "x": [
          1,
          2,
          3,
          4,
          5,
          6,
          7,
          8,
          9,
          10
         ],
         "y": [
          -1.338674085138641,
          -1.39483450705905,
          -1.3966806716424736,
          -1.4273891036385387,
          -1.4775544467844508,
          -1.5264652794956073,
          -1.5606648039743274,
          -1.5606648039743274,
          -1.5606648039743274,
          -1.6730744394489423
         ]
        },
        {
         "hovertext": "<b>Topic 197</b>:mind_cancel_profile_change_ichang",
         "line": {
          "color": "black",
          "width": 1.5
         },
         "mode": "lines+lines",
         "name": "",
         "opacity": 0.1,
         "type": "scatter",
         "x": [
          1,
          2,
          3,
          4,
          5,
          6,
          7,
          8,
          9,
          10
         ],
         "y": [
          -0.7926242211694527,
          -0.9812973339562725,
          -1.1037127940800422,
          -1.1450170571864804,
          -1.2993789044675326,
          -1.3292995340620697,
          -1.6014813379781605,
          -2.114504602095185,
          -2.213514170824076,
          -2.3239004674727344
         ]
        },
        {
         "hovertext": "<b>Topic 198</b>:more_than_several_online_yuou_tep",
         "line": {
          "color": "black",
          "width": 1.5
         },
         "mode": "lines+lines",
         "name": "",
         "opacity": 0.1,
         "type": "scatter",
         "x": [
          1,
          2,
          3,
          4,
          5,
          6,
          7,
          8,
          9,
          10
         ],
         "y": [
          -1.1173130256369617,
          -1.1181586815702456,
          -1.1281401421727482,
          -1.2471304770685914,
          -1.2870009925267127,
          -1.2870009925267127,
          -1.2870009925267127,
          -1.3338648298068467,
          -1.4506741796126088,
          -1.5258166886243922
         ]
        },
        {
         "hovertext": "<b>Topic 199</b>:package_check_tfackmy_hopw_hwere_",
         "line": {
          "color": "black",
          "width": 1.5
         },
         "mode": "lines+lines",
         "name": "",
         "opacity": 0.1,
         "type": "scatter",
         "x": [
          1,
          2,
          3,
          4,
          5,
          6,
          7,
          8,
          9,
          10
         ],
         "y": [
          -0.9059765620406999,
          -1.3613745349102735,
          -1.3792447114135793,
          -1.3792447114135793,
          -1.4968481380513716,
          -1.5132141183704746,
          -1.6369043524683113,
          -1.77275458948641,
          -1.8231798465950568,
          -1.890647659309407
         ]
        },
        {
         "hovertext": "<b>Topic 200</b>:email_customer_whzt_whatsthe_wat_",
         "line": {
          "color": "black",
          "width": 1.5
         },
         "mode": "lines+lines",
         "name": "",
         "opacity": 0.1,
         "type": "scatter",
         "x": [
          1,
          2,
          3,
          4,
          5,
          6,
          7,
          8,
          9,
          10
         ],
         "y": [
          -1.251348836927276,
          -1.2870057144932192,
          -1.3533141013074892,
          -1.3533141013074892,
          -1.4395758280845021,
          -1.486686353624512,
          -1.5616831825708735,
          -1.6122783704286543,
          -1.6588620923311654,
          -1.7024612656624913
         ]
        },
        {
         "hovertext": "<b>Topic 201</b>:invoice_hou_obtain_tell_where_it_",
         "line": {
          "color": "black",
          "width": 1.5
         },
         "mode": "lines+lines",
         "name": "",
         "opacity": 0.1,
         "type": "scatter",
         "x": [
          1,
          2,
          3,
          4,
          5,
          6,
          7,
          8,
          9,
          10
         ],
         "y": [
          -1.335581737713385,
          -1.3898377849110035,
          -1.4343700046398975,
          -1.4916225084964976,
          -1.4991235952492046,
          -1.7668261304618678,
          -1.7833476629838343,
          -1.792598538900758,
          -1.8670501470882805,
          -1.9497938648001185
         ]
        },
        {
         "hovertext": "<b>Topic 202</b>:notify_co_for_order_pay_have_prob",
         "line": {
          "color": "black",
          "width": 1.5
         },
         "mode": "lines+lines",
         "name": "",
         "opacity": 0.1,
         "type": "scatter",
         "x": [
          1,
          2,
          3,
          4,
          5,
          6,
          7,
          8,
          9,
          10
         ],
         "y": [
          -1.324665442809867,
          -1.4077757999997438,
          -1.4092821582483348,
          -1.4823122371029498,
          -1.5244323974853058,
          -1.693134533066957,
          -1.7434348481196729,
          -1.7434348481196729,
          -1.7847641455506082,
          -1.9097924063604603
         ]
        },
        {
         "hovertext": "<b>Topic 203</b>:delivery_know_where_be_how_tell_m",
         "line": {
          "color": "black",
          "width": 1.5
         },
         "mode": "lines+lines",
         "name": "",
         "opacity": 0.1,
         "type": "scatter",
         "x": [
          1,
          2,
          3,
          4,
          5,
          6,
          7,
          8,
          9,
          10
         ],
         "y": [
          -1.0229762130173898,
          -1.0373528295025605,
          -1.3962868028649138,
          -1.6508273107904476,
          -1.6936685899025274,
          -1.7567625014068011,
          -1.9691819423528572,
          -2.048487655894138,
          -2.147987068079809,
          -2.2472750098126757
         ]
        },
        {
         "hovertext": "<b>Topic 204</b>:request_invoice_telol_tel_tell_so",
         "line": {
          "color": "black",
          "width": 1.5
         },
         "mode": "lines+lines",
         "name": "",
         "opacity": 0.1,
         "type": "scatter",
         "x": [
          1,
          2,
          3,
          4,
          5,
          6,
          7,
          8,
          9,
          10
         ],
         "y": [
          -1.16552225474137,
          -1.3544842090765807,
          -1.4234194101829323,
          -1.4941589995405904,
          -1.583075647008305,
          -1.5933363712921844,
          -1.7857286018250638,
          -1.80225013434703,
          -1.850169959909226,
          -1.936511652791913
         ]
        },
        {
         "hovertext": "<b>Topic 205</b>:card_report_makig_make_payment_wi",
         "line": {
          "color": "black",
          "width": 1.5
         },
         "mode": "lines+lines",
         "name": "",
         "opacity": 0.1,
         "type": "scatter",
         "x": [
          1,
          2,
          3,
          4,
          5,
          6,
          7,
          8,
          9,
          10
         ],
         "y": [
          -1.2941628009896906,
          -1.297067332593878,
          -1.373849679526873,
          -1.5648822535027316,
          -1.6330035202841497,
          -1.6468126034600146,
          -1.6855373513164353,
          -1.7095087276468022,
          -1.7764555172774155,
          -1.7830227084491388
         ]
        },
        {
         "hovertext": "<b>Topic 206</b>:refund_reqauest_receive_obtain_ho",
         "line": {
          "color": "black",
          "width": 1.5
         },
         "mode": "lines+lines",
         "name": "",
         "opacity": 0.1,
         "type": "scatter",
         "x": [
          1,
          2,
          3,
          4,
          5,
          6,
          7,
          8,
          9,
          10
         ],
         "y": [
          -0.750240956555768,
          -0.8940055664717373,
          -1.0034214466684475,
          -1.0846658218788696,
          -1.4468011995257901,
          -1.7391947139436088,
          -2.056021637688815,
          -2.1081776194908866,
          -2.1553095794216817,
          -2.3446754358016904
         ]
        },
        {
         "hovertext": "<b>Topic 207</b>:inform_myu_of_payment_problem_wit",
         "line": {
          "color": "black",
          "width": 1.5
         },
         "mode": "lines+lines",
         "name": "",
         "opacity": 0.1,
         "type": "scatter",
         "x": [
          1,
          2,
          3,
          4,
          5,
          6,
          7,
          8,
          9,
          10
         ],
         "y": [
          -1.1192497884672112,
          -1.2902295599171905,
          -1.373601247335793,
          -1.450072836698163,
          -1.4685860970831288,
          -1.4986440261332399,
          -1.6297712766881025,
          -1.6727060797390536,
          -1.9456506129156426,
          -2.4050910489600357
         ]
        },
        {
         "hovertext": "<b>Topic 208</b>:inform_ufcking_of_payment_issue_p",
         "line": {
          "color": "black",
          "width": 1.5
         },
         "mode": "lines+lines",
         "name": "",
         "opacity": 0.1,
         "type": "scatter",
         "x": [
          1,
          2,
          3,
          4,
          5,
          6,
          7,
          8,
          9,
          10
         ],
         "y": [
          -1.0011504763892167,
          -1.1496041507375632,
          -1.2555019352577987,
          -1.3319735246201685,
          -1.4084787319828211,
          -1.4754255216134342,
          -1.511671964610108,
          -2.285967597491131,
          -2.286991736882041,
          -2.3016408035764884
         ]
        },
        {
         "hovertext": "<b>Topic 209</b>:close_profile_toclose_myprofile_c",
         "line": {
          "color": "black",
          "width": 1.5
         },
         "mode": "lines+lines",
         "name": "",
         "opacity": 0.1,
         "type": "scatter",
         "x": [
          1,
          2,
          3,
          4,
          5,
          6,
          7,
          8,
          9,
          10
         ],
         "y": [
          -0.620443581245433,
          -0.9629354767859053,
          -1.0447909602626484,
          -1.1215754271373195,
          -1.284655802347205,
          -1.6981448149511251,
          -1.7617340163480049,
          -1.8194353429330574,
          -1.9849582818633695,
          -2.082871754226116
         ]
        },
        {
         "hovertext": "<b>Topic 210</b>:notify_wehen_for_try_order_pay_wh",
         "line": {
          "color": "black",
          "width": 1.5
         },
         "mode": "lines+lines",
         "name": "",
         "opacity": 0.1,
         "type": "scatter",
         "x": [
          1,
          2,
          3,
          4,
          5,
          6,
          7,
          8,
          9,
          10
         ],
         "y": [
          -1.3975576240053018,
          -1.4484832978237774,
          -1.4821743394437696,
          -1.492606605722041,
          -1.5552044182983844,
          -1.5973245786807406,
          -1.6747189692629512,
          -1.7261503989660196,
          -1.7601709696133396,
          -1.8576563267460429
         ]
        },
        {
         "hovertext": "<b>Topic 211</b>:paymet_notgify_pay_have_issue_pro",
         "line": {
          "color": "black",
          "width": 1.5
         },
         "mode": "lines+lines",
         "name": "",
         "opacity": 0.1,
         "type": "scatter",
         "x": [
          1,
          2,
          3,
          4,
          5,
          6,
          7,
          8,
          9,
          10
         ],
         "y": [
          -1.198864767190651,
          -1.198864767190651,
          -1.335604317026692,
          -1.463688601700079,
          -1.4876599780304458,
          -1.554606767661059,
          -1.6540175362712333,
          -1.673667339716932,
          -1.8221049385793902,
          -2.108587523918369
         ]
        },
        {
         "hovertext": "<b>Topic 212</b>:see_bill_wolud_wht_hat_what_want_",
         "line": {
          "color": "black",
          "width": 1.5
         },
         "mode": "lines+lines",
         "name": "",
         "opacity": 0.1,
         "type": "scatter",
         "x": [
          1,
          2,
          3,
          4,
          5,
          6,
          7,
          8,
          9,
          10
         ],
         "y": [
          -1.179954252567284,
          -1.1987615290871614,
          -1.222808140354368,
          -1.2995926072290394,
          -1.2995926072290394,
          -1.7444745501607832,
          -1.782764220243483,
          -1.8085912633232055,
          -1.8497634833233845,
          -1.9049890901805127
         ]
        },
        {
         "hovertext": "<b>Topic 213</b>:full_case_in_ticket_cancel_refund",
         "line": {
          "color": "black",
          "width": 1.5
         },
         "mode": "lines+lines",
         "name": "",
         "opacity": 0.1,
         "type": "scatter",
         "x": [
          1,
          2,
          3,
          4,
          5,
          6,
          7,
          8,
          9,
          10
         ],
         "y": [
          -0.45540150918293887,
          -0.4845882144510305,
          -0.6837163506296171,
          -0.9253361724919738,
          -1.0980139817594,
          -1.193282421703155,
          -1.3370470316191245,
          -1.4138314984937956,
          -1.5421129038632457,
          -1.5454140815038215
         ]
        },
        {
         "hovertext": "<b>Topic 214</b>:write_review_where_would_fucking_",
         "line": {
          "color": "black",
          "width": 1.5
         },
         "mode": "lines+lines",
         "name": "",
         "opacity": 0.1,
         "type": "scatter",
         "x": [
          1,
          2,
          3,
          4,
          5,
          6,
          7,
          8,
          9,
          10
         ],
         "y": [
          -0.3419662075856345,
          -0.40174914427013764,
          -1.5865115451223624,
          -1.6369484400876215,
          -1.8027059881397443,
          -1.809517414170883,
          -2.008832068768276,
          -2.050419730444978,
          -2.063698263727795,
          -2.1266861644487824
         ]
        },
        {
         "hovertext": "<b>Topic 215</b>:cancel_purchase_waznt_hjelp_want_",
         "line": {
          "color": "black",
          "width": 1.5
         },
         "mode": "lines+lines",
         "name": "",
         "opacity": 0.1,
         "type": "scatter",
         "x": [
          1,
          2,
          3,
          4,
          5,
          6,
          7,
          8,
          9,
          10
         ],
         "y": [
          -0.7940195071316797,
          -0.8734143879976306,
          -1.0330525569914044,
          -1.0799163942715384,
          -1.8940386325445004,
          -1.9875018712296328,
          -1.9940516606280823,
          -2.0955692160228105,
          -2.1087269353257945,
          -2.1157456410267628
         ]
        },
        {
         "hovertext": "<b>Topic 216</b>:notify_howdo_payment_problem_issu",
         "line": {
          "color": "black",
          "width": 1.5
         },
         "mode": "lines+lines",
         "name": "",
         "opacity": 0.1,
         "type": "scatter",
         "x": [
          1,
          2,
          3,
          4,
          5,
          6,
          7,
          8,
          9,
          10
         ],
         "y": [
          -0.9513129357587091,
          -1.049102446857319,
          -1.2613924503344613,
          -1.3378976576971138,
          -1.404844447327727,
          -1.5136415574730124,
          -1.7060293592309206,
          -1.800087087533654,
          -1.878598333314182,
          -2.0403194035406527
         ]
        },
        {
         "hovertext": "<b>Topic 217</b>:trfack_check_ik_ne_order_tell_it_",
         "line": {
          "color": "black",
          "width": 1.5
         },
         "mode": "lines+lines",
         "name": "",
         "opacity": 0.1,
         "type": "scatter",
         "x": [
          1,
          2,
          3,
          4,
          5,
          6,
          7,
          8,
          9,
          10
         ],
         "y": [
          -1.3792447114135793,
          -1.3961366411694853,
          -1.4261085486937135,
          -1.4560291782882506,
          -1.4859658318881865,
          -1.5132141183704746,
          -1.788417740335845,
          -1.8180969921607952,
          -1.8397013791170234,
          -1.9392007913026943
         ]
        },
        {
         "hovertext": "<b>Topic 218</b>:online_opem_account_need_an_what_",
         "line": {
          "color": "black",
          "width": 1.5
         },
         "mode": "lines+lines",
         "name": "",
         "opacity": 0.1,
         "type": "scatter",
         "x": [
          1,
          2,
          3,
          4,
          5,
          6,
          7,
          8,
          9,
          10
         ],
         "y": [
          -1.135171718383927,
          -1.142857550470647,
          -1.474519524328918,
          -1.637416020149525,
          -1.7636520425553062,
          -1.8028266584433437,
          -1.8789048894154434,
          -1.9459041524953447,
          -1.9590895948177585,
          -2.0973068647088757
         ]
        },
        {
         "hovertext": "<b>Topic 219</b>:fucking_notify_sak_please_payment",
         "line": {
          "color": "black",
          "width": 1.5
         },
         "mode": "lines+lines",
         "name": "",
         "opacity": 0.1,
         "type": "scatter",
         "x": [
          1,
          2,
          3,
          4,
          5,
          6,
          7,
          8,
          9,
          10
         ],
         "y": [
          -1.206595329324983,
          -1.3208834640598608,
          -1.4701725956762715,
          -1.5994567725570108,
          -1.630962978635613,
          -1.653018342203283,
          -1.6596413800093417,
          -1.670772288248478,
          -1.739652869369667,
          -1.739652869369667
         ]
        },
        {
         "hovertext": "<b>Topic 220</b>:fast_expect_arrive_ticket_know_te",
         "line": {
          "color": "black",
          "width": 1.5
         },
         "mode": "lines+lines",
         "name": "",
         "opacity": 0.1,
         "type": "scatter",
         "x": [
          1,
          2,
          3,
          4,
          5,
          6,
          7,
          8,
          9,
          10
         ],
         "y": [
          -0.3986738847340118,
          -0.5269641576346302,
          -0.603873426298966,
          -0.9033706543022586,
          -1.729641248482064,
          -1.7500809160502857,
          -1.7539337941766253,
          -1.9972624632555538,
          -2.0320192721641313,
          -2.0418060705376226
         ]
        },
        {
         "hovertext": "<b>Topic 221</b>:validation_no_get_payment_not_do_",
         "line": {
          "color": "black",
          "width": 1.5
         },
         "mode": "lines+lines",
         "name": "",
         "opacity": 0.1,
         "type": "scatter",
         "x": [
          1,
          2,
          3,
          4,
          5,
          6,
          7,
          8,
          9,
          10
         ],
         "y": [
          -0.23256684658493146,
          -1.1484836028227292,
          -1.357341525165026,
          -1.4081283160376055,
          -1.6633924380800007,
          -1.7843163776899904,
          -1.8991202136021137,
          -1.9172589710458148,
          -2.0686616832593456,
          -2.1767290280525233
         ]
        },
        {
         "hovertext": "<b>Topic 222</b>:place_order_ask_agent_an_make_whe",
         "line": {
          "color": "black",
          "width": 1.5
         },
         "mode": "lines+lines",
         "name": "",
         "opacity": 0.1,
         "type": "scatter",
         "x": [
          1,
          2,
          3,
          4,
          5,
          6,
          7,
          8,
          9,
          10
         ],
         "y": [
          -0.7765656400871941,
          -1.3446366790917172,
          -1.4990901480978518,
          -1.5257478007481153,
          -1.5954686159271878,
          -1.6282692323671246,
          -1.6804160479906936,
          -1.7716717543997755,
          -1.9310980698823568,
          -2.0517633303598886
         ]
        },
        {
         "hovertext": "<b>Topic 223</b>:report_try_oredr_od_pay_when_have",
         "line": {
          "color": "black",
          "width": 1.5
         },
         "mode": "lines+lines",
         "name": "",
         "opacity": 0.1,
         "type": "scatter",
         "x": [
          1,
          2,
          3,
          4,
          5,
          6,
          7,
          8,
          9,
          10
         ],
         "y": [
          -1.2950267909453412,
          -1.3811703395173882,
          -1.4363575955954284,
          -1.4837277308104744,
          -1.5206504187352996,
          -1.5254941421688986,
          -1.7067266503863734,
          -1.739652869369667,
          -1.739652869369667,
          -1.780982166800602
         ]
        },
        {
         "hovertext": "<b>Topic 224</b>:see_bill_mew_some_help_need_me_my",
         "line": {
          "color": "black",
          "width": 1.5
         },
         "mode": "lines+lines",
         "name": "",
         "opacity": 0.1,
         "type": "scatter",
         "x": [
          1,
          2,
          3,
          4,
          5,
          6,
          7,
          8,
          9,
          10
         ],
         "y": [
          -0.8859137849438652,
          -0.9047210614637426,
          -0.9408694037518716,
          -1.3326351144774802,
          -1.3713336259903035,
          -1.3885640361506153,
          -1.831583488894844,
          -2.088069877276756,
          -2.1419183257354693,
          -2.4039599204137105
         ]
        },
        {
         "hovertext": "<b>Topic 225</b>:inform_for_probelm_fo_order_pay_o",
         "line": {
          "color": "black",
          "width": 1.5
         },
         "mode": "lines+lines",
         "name": "",
         "opacity": 0.1,
         "type": "scatter",
         "x": [
          1,
          2,
          3,
          4,
          5,
          6,
          7,
          8,
          9,
          10
         ],
         "y": [
          -1.3259471940109469,
          -1.4313074431046142,
          -1.4804577218632025,
          -1.495979859282557,
          -1.504337521959229,
          -1.5464576823415852,
          -1.6180872137689284,
          -1.732533913992659,
          -1.7654601329759523,
          -1.8067894304068877
         ]
        },
        {
         "hovertext": "<b>Topic 226</b>:support_contacxt_trhe_mail_custom",
         "line": {
          "color": "black",
          "width": 1.5
         },
         "mode": "lines+lines",
         "name": "",
         "opacity": 0.1,
         "type": "scatter",
         "x": [
          1,
          2,
          3,
          4,
          5,
          6,
          7,
          8,
          9,
          10
         ],
         "y": [
          -1.1591922086513613,
          -1.3399914122659058,
          -1.3399914122659058,
          -1.352497279454559,
          -1.3868552495460398,
          -1.416775879140577,
          -1.4575948389036981,
          -1.4666748984100078,
          -1.4839762995810377,
          -1.5096808685320489
         ]
        },
        {
         "hovertext": "<b>Topic 227</b>:human_contact_csn_gaent_how_want_",
         "line": {
          "color": "black",
          "width": 1.5
         },
         "mode": "lines+lines",
         "name": "",
         "opacity": 0.1,
         "type": "scatter",
         "x": [
          1,
          2,
          3,
          4,
          5,
          6,
          7,
          8,
          9,
          10
         ],
         "y": [
          -0.576749321623688,
          -0.7601413776696072,
          -0.8997266775209632,
          -0.969622909837642,
          -1.7736778523723824,
          -1.9849582818633695,
          -2.148673343367945,
          -2.1853256938598107,
          -2.260337482651918,
          -2.338144259329422
         ]
        },
        {
         "hovertext": "<b>Topic 228</b>:shipment_tgell_trrack_check_where",
         "line": {
          "color": "black",
          "width": 1.5
         },
         "mode": "lines+lines",
         "name": "",
         "opacity": 0.1,
         "type": "scatter",
         "x": [
          1,
          2,
          3,
          4,
          5,
          6,
          7,
          8,
          9,
          10
         ],
         "y": [
          -0.9131227720215093,
          -1.328092188966198,
          -1.328092188966198,
          -1.3827726796115039,
          -1.5043247889350124,
          -1.534612263071705,
          -1.7885488566696421,
          -1.8098158850370754,
          -1.9672295149029377,
          -2.0318829386199337
         ]
        },
        {
         "hovertext": "<b>Topic 229</b>:view_losg_ddo_invoice_hwat_should",
         "line": {
          "color": "black",
          "width": 1.5
         },
         "mode": "lines+lines",
         "name": "",
         "opacity": 0.1,
         "type": "scatter",
         "x": [
          1,
          2,
          3,
          4,
          5,
          6,
          7,
          8,
          9,
          10
         ],
         "y": [
          -1.0287825761718286,
          -1.1382126454248833,
          -1.1850764827050175,
          -1.1886919487472778,
          -1.2713382094820305,
          -1.5433192387775436,
          -1.7012717403895237,
          -1.7773499713616232,
          -1.87526344372437,
          -1.8929442623996398
         ]
        },
        {
         "hovertext": "<b>Topic 230</b>:confirmation_ogt_confirmaiton_pay",
         "line": {
          "color": "black",
          "width": 1.5
         },
         "mode": "lines+lines",
         "name": "",
         "opacity": 0.1,
         "type": "scatter",
         "x": [
          1,
          2,
          3,
          4,
          5,
          6,
          7,
          8,
          9,
          10
         ],
         "y": [
          -0.2989904960814833,
          -1.083543549254665,
          -1.083543549254665,
          -1.083543549254665,
          -1.1178147830562772,
          -1.405853951446199,
          -1.4566407423187784,
          -1.7119048643611736,
          -1.7536475579235384,
          -1.8015046042050484
         ]
        },
        {
         "hovertext": "<b>Topic 231</b>:profile_rceate_ho_need_should_wou",
         "line": {
          "color": "black",
          "width": 1.5
         },
         "mode": "lines+lines",
         "name": "",
         "opacity": 0.1,
         "type": "scatter",
         "x": [
          1,
          2,
          3,
          4,
          5,
          6,
          7,
          8,
          9,
          10
         ],
         "y": [
          -0.9109926092943721,
          -1.0318439987563865,
          -1.0726629585195078,
          -1.3704367555129686,
          -1.4570761382424318,
          -1.658850281535451,
          -1.6730205868320989,
          -1.824607829587574,
          -1.8314192556187128,
          -1.8682015892368833
         ]
        },
        {
         "hovertext": "<b>Topic 232</b>:problen_fuckingproblem_inform_pay",
         "line": {
          "color": "black",
          "width": 1.5
         },
         "mode": "lines+lines",
         "name": "",
         "opacity": 0.1,
         "type": "scatter",
         "x": [
          1,
          2,
          3,
          4,
          5,
          6,
          7,
          8,
          9,
          10
         ],
         "y": [
          -0.9826430535138039,
          -0.9826430535138039,
          -1.0249171983469656,
          -1.245427686677604,
          -1.2603101546560462,
          -1.2792686572155474,
          -1.5811961771285319,
          -2.0999050935248964,
          -2.195790967142043,
          -2.4200383255194295
         ]
        }
       ],
       "layout": {
        "height": 500,
        "hoverlabel": {
         "bgcolor": "white",
         "font": {
          "family": "Rockwell",
          "size": 16
         }
        },
        "showlegend": false,
        "template": {
         "data": {
          "bar": [
           {
            "error_x": {
             "color": "#2a3f5f"
            },
            "error_y": {
             "color": "#2a3f5f"
            },
            "marker": {
             "line": {
              "color": "white",
              "width": 0.5
             },
             "pattern": {
              "fillmode": "overlay",
              "size": 10,
              "solidity": 0.2
             }
            },
            "type": "bar"
           }
          ],
          "barpolar": [
           {
            "marker": {
             "line": {
              "color": "white",
              "width": 0.5
             },
             "pattern": {
              "fillmode": "overlay",
              "size": 10,
              "solidity": 0.2
             }
            },
            "type": "barpolar"
           }
          ],
          "carpet": [
           {
            "aaxis": {
             "endlinecolor": "#2a3f5f",
             "gridcolor": "#C8D4E3",
             "linecolor": "#C8D4E3",
             "minorgridcolor": "#C8D4E3",
             "startlinecolor": "#2a3f5f"
            },
            "baxis": {
             "endlinecolor": "#2a3f5f",
             "gridcolor": "#C8D4E3",
             "linecolor": "#C8D4E3",
             "minorgridcolor": "#C8D4E3",
             "startlinecolor": "#2a3f5f"
            },
            "type": "carpet"
           }
          ],
          "choropleth": [
           {
            "colorbar": {
             "outlinewidth": 0,
             "ticks": ""
            },
            "type": "choropleth"
           }
          ],
          "contour": [
           {
            "colorbar": {
             "outlinewidth": 0,
             "ticks": ""
            },
            "colorscale": [
             [
              0,
              "#0d0887"
             ],
             [
              0.1111111111111111,
              "#46039f"
             ],
             [
              0.2222222222222222,
              "#7201a8"
             ],
             [
              0.3333333333333333,
              "#9c179e"
             ],
             [
              0.4444444444444444,
              "#bd3786"
             ],
             [
              0.5555555555555556,
              "#d8576b"
             ],
             [
              0.6666666666666666,
              "#ed7953"
             ],
             [
              0.7777777777777778,
              "#fb9f3a"
             ],
             [
              0.8888888888888888,
              "#fdca26"
             ],
             [
              1,
              "#f0f921"
             ]
            ],
            "type": "contour"
           }
          ],
          "contourcarpet": [
           {
            "colorbar": {
             "outlinewidth": 0,
             "ticks": ""
            },
            "type": "contourcarpet"
           }
          ],
          "heatmap": [
           {
            "colorbar": {
             "outlinewidth": 0,
             "ticks": ""
            },
            "colorscale": [
             [
              0,
              "#0d0887"
             ],
             [
              0.1111111111111111,
              "#46039f"
             ],
             [
              0.2222222222222222,
              "#7201a8"
             ],
             [
              0.3333333333333333,
              "#9c179e"
             ],
             [
              0.4444444444444444,
              "#bd3786"
             ],
             [
              0.5555555555555556,
              "#d8576b"
             ],
             [
              0.6666666666666666,
              "#ed7953"
             ],
             [
              0.7777777777777778,
              "#fb9f3a"
             ],
             [
              0.8888888888888888,
              "#fdca26"
             ],
             [
              1,
              "#f0f921"
             ]
            ],
            "type": "heatmap"
           }
          ],
          "heatmapgl": [
           {
            "colorbar": {
             "outlinewidth": 0,
             "ticks": ""
            },
            "colorscale": [
             [
              0,
              "#0d0887"
             ],
             [
              0.1111111111111111,
              "#46039f"
             ],
             [
              0.2222222222222222,
              "#7201a8"
             ],
             [
              0.3333333333333333,
              "#9c179e"
             ],
             [
              0.4444444444444444,
              "#bd3786"
             ],
             [
              0.5555555555555556,
              "#d8576b"
             ],
             [
              0.6666666666666666,
              "#ed7953"
             ],
             [
              0.7777777777777778,
              "#fb9f3a"
             ],
             [
              0.8888888888888888,
              "#fdca26"
             ],
             [
              1,
              "#f0f921"
             ]
            ],
            "type": "heatmapgl"
           }
          ],
          "histogram": [
           {
            "marker": {
             "pattern": {
              "fillmode": "overlay",
              "size": 10,
              "solidity": 0.2
             }
            },
            "type": "histogram"
           }
          ],
          "histogram2d": [
           {
            "colorbar": {
             "outlinewidth": 0,
             "ticks": ""
            },
            "colorscale": [
             [
              0,
              "#0d0887"
             ],
             [
              0.1111111111111111,
              "#46039f"
             ],
             [
              0.2222222222222222,
              "#7201a8"
             ],
             [
              0.3333333333333333,
              "#9c179e"
             ],
             [
              0.4444444444444444,
              "#bd3786"
             ],
             [
              0.5555555555555556,
              "#d8576b"
             ],
             [
              0.6666666666666666,
              "#ed7953"
             ],
             [
              0.7777777777777778,
              "#fb9f3a"
             ],
             [
              0.8888888888888888,
              "#fdca26"
             ],
             [
              1,
              "#f0f921"
             ]
            ],
            "type": "histogram2d"
           }
          ],
          "histogram2dcontour": [
           {
            "colorbar": {
             "outlinewidth": 0,
             "ticks": ""
            },
            "colorscale": [
             [
              0,
              "#0d0887"
             ],
             [
              0.1111111111111111,
              "#46039f"
             ],
             [
              0.2222222222222222,
              "#7201a8"
             ],
             [
              0.3333333333333333,
              "#9c179e"
             ],
             [
              0.4444444444444444,
              "#bd3786"
             ],
             [
              0.5555555555555556,
              "#d8576b"
             ],
             [
              0.6666666666666666,
              "#ed7953"
             ],
             [
              0.7777777777777778,
              "#fb9f3a"
             ],
             [
              0.8888888888888888,
              "#fdca26"
             ],
             [
              1,
              "#f0f921"
             ]
            ],
            "type": "histogram2dcontour"
           }
          ],
          "mesh3d": [
           {
            "colorbar": {
             "outlinewidth": 0,
             "ticks": ""
            },
            "type": "mesh3d"
           }
          ],
          "parcoords": [
           {
            "line": {
             "colorbar": {
              "outlinewidth": 0,
              "ticks": ""
             }
            },
            "type": "parcoords"
           }
          ],
          "pie": [
           {
            "automargin": true,
            "type": "pie"
           }
          ],
          "scatter": [
           {
            "fillpattern": {
             "fillmode": "overlay",
             "size": 10,
             "solidity": 0.2
            },
            "type": "scatter"
           }
          ],
          "scatter3d": [
           {
            "line": {
             "colorbar": {
              "outlinewidth": 0,
              "ticks": ""
             }
            },
            "marker": {
             "colorbar": {
              "outlinewidth": 0,
              "ticks": ""
             }
            },
            "type": "scatter3d"
           }
          ],
          "scattercarpet": [
           {
            "marker": {
             "colorbar": {
              "outlinewidth": 0,
              "ticks": ""
             }
            },
            "type": "scattercarpet"
           }
          ],
          "scattergeo": [
           {
            "marker": {
             "colorbar": {
              "outlinewidth": 0,
              "ticks": ""
             }
            },
            "type": "scattergeo"
           }
          ],
          "scattergl": [
           {
            "marker": {
             "colorbar": {
              "outlinewidth": 0,
              "ticks": ""
             }
            },
            "type": "scattergl"
           }
          ],
          "scattermapbox": [
           {
            "marker": {
             "colorbar": {
              "outlinewidth": 0,
              "ticks": ""
             }
            },
            "type": "scattermapbox"
           }
          ],
          "scatterpolar": [
           {
            "marker": {
             "colorbar": {
              "outlinewidth": 0,
              "ticks": ""
             }
            },
            "type": "scatterpolar"
           }
          ],
          "scatterpolargl": [
           {
            "marker": {
             "colorbar": {
              "outlinewidth": 0,
              "ticks": ""
             }
            },
            "type": "scatterpolargl"
           }
          ],
          "scatterternary": [
           {
            "marker": {
             "colorbar": {
              "outlinewidth": 0,
              "ticks": ""
             }
            },
            "type": "scatterternary"
           }
          ],
          "surface": [
           {
            "colorbar": {
             "outlinewidth": 0,
             "ticks": ""
            },
            "colorscale": [
             [
              0,
              "#0d0887"
             ],
             [
              0.1111111111111111,
              "#46039f"
             ],
             [
              0.2222222222222222,
              "#7201a8"
             ],
             [
              0.3333333333333333,
              "#9c179e"
             ],
             [
              0.4444444444444444,
              "#bd3786"
             ],
             [
              0.5555555555555556,
              "#d8576b"
             ],
             [
              0.6666666666666666,
              "#ed7953"
             ],
             [
              0.7777777777777778,
              "#fb9f3a"
             ],
             [
              0.8888888888888888,
              "#fdca26"
             ],
             [
              1,
              "#f0f921"
             ]
            ],
            "type": "surface"
           }
          ],
          "table": [
           {
            "cells": {
             "fill": {
              "color": "#EBF0F8"
             },
             "line": {
              "color": "white"
             }
            },
            "header": {
             "fill": {
              "color": "#C8D4E3"
             },
             "line": {
              "color": "white"
             }
            },
            "type": "table"
           }
          ]
         },
         "layout": {
          "annotationdefaults": {
           "arrowcolor": "#2a3f5f",
           "arrowhead": 0,
           "arrowwidth": 1
          },
          "autotypenumbers": "strict",
          "coloraxis": {
           "colorbar": {
            "outlinewidth": 0,
            "ticks": ""
           }
          },
          "colorscale": {
           "diverging": [
            [
             0,
             "#8e0152"
            ],
            [
             0.1,
             "#c51b7d"
            ],
            [
             0.2,
             "#de77ae"
            ],
            [
             0.3,
             "#f1b6da"
            ],
            [
             0.4,
             "#fde0ef"
            ],
            [
             0.5,
             "#f7f7f7"
            ],
            [
             0.6,
             "#e6f5d0"
            ],
            [
             0.7,
             "#b8e186"
            ],
            [
             0.8,
             "#7fbc41"
            ],
            [
             0.9,
             "#4d9221"
            ],
            [
             1,
             "#276419"
            ]
           ],
           "sequential": [
            [
             0,
             "#0d0887"
            ],
            [
             0.1111111111111111,
             "#46039f"
            ],
            [
             0.2222222222222222,
             "#7201a8"
            ],
            [
             0.3333333333333333,
             "#9c179e"
            ],
            [
             0.4444444444444444,
             "#bd3786"
            ],
            [
             0.5555555555555556,
             "#d8576b"
            ],
            [
             0.6666666666666666,
             "#ed7953"
            ],
            [
             0.7777777777777778,
             "#fb9f3a"
            ],
            [
             0.8888888888888888,
             "#fdca26"
            ],
            [
             1,
             "#f0f921"
            ]
           ],
           "sequentialminus": [
            [
             0,
             "#0d0887"
            ],
            [
             0.1111111111111111,
             "#46039f"
            ],
            [
             0.2222222222222222,
             "#7201a8"
            ],
            [
             0.3333333333333333,
             "#9c179e"
            ],
            [
             0.4444444444444444,
             "#bd3786"
            ],
            [
             0.5555555555555556,
             "#d8576b"
            ],
            [
             0.6666666666666666,
             "#ed7953"
            ],
            [
             0.7777777777777778,
             "#fb9f3a"
            ],
            [
             0.8888888888888888,
             "#fdca26"
            ],
            [
             1,
             "#f0f921"
            ]
           ]
          },
          "colorway": [
           "#636efa",
           "#EF553B",
           "#00cc96",
           "#ab63fa",
           "#FFA15A",
           "#19d3f3",
           "#FF6692",
           "#B6E880",
           "#FF97FF",
           "#FECB52"
          ],
          "font": {
           "color": "#2a3f5f"
          },
          "geo": {
           "bgcolor": "white",
           "lakecolor": "white",
           "landcolor": "white",
           "showlakes": true,
           "showland": true,
           "subunitcolor": "#C8D4E3"
          },
          "hoverlabel": {
           "align": "left"
          },
          "hovermode": "closest",
          "mapbox": {
           "style": "light"
          },
          "paper_bgcolor": "white",
          "plot_bgcolor": "white",
          "polar": {
           "angularaxis": {
            "gridcolor": "#EBF0F8",
            "linecolor": "#EBF0F8",
            "ticks": ""
           },
           "bgcolor": "white",
           "radialaxis": {
            "gridcolor": "#EBF0F8",
            "linecolor": "#EBF0F8",
            "ticks": ""
           }
          },
          "scene": {
           "xaxis": {
            "backgroundcolor": "white",
            "gridcolor": "#DFE8F3",
            "gridwidth": 2,
            "linecolor": "#EBF0F8",
            "showbackground": true,
            "ticks": "",
            "zerolinecolor": "#EBF0F8"
           },
           "yaxis": {
            "backgroundcolor": "white",
            "gridcolor": "#DFE8F3",
            "gridwidth": 2,
            "linecolor": "#EBF0F8",
            "showbackground": true,
            "ticks": "",
            "zerolinecolor": "#EBF0F8"
           },
           "zaxis": {
            "backgroundcolor": "white",
            "gridcolor": "#DFE8F3",
            "gridwidth": 2,
            "linecolor": "#EBF0F8",
            "showbackground": true,
            "ticks": "",
            "zerolinecolor": "#EBF0F8"
           }
          },
          "shapedefaults": {
           "line": {
            "color": "#2a3f5f"
           }
          },
          "ternary": {
           "aaxis": {
            "gridcolor": "#DFE8F3",
            "linecolor": "#A2B1C6",
            "ticks": ""
           },
           "baxis": {
            "gridcolor": "#DFE8F3",
            "linecolor": "#A2B1C6",
            "ticks": ""
           },
           "bgcolor": "white",
           "caxis": {
            "gridcolor": "#DFE8F3",
            "linecolor": "#A2B1C6",
            "ticks": ""
           }
          },
          "title": {
           "x": 0.05
          },
          "xaxis": {
           "automargin": true,
           "gridcolor": "#EBF0F8",
           "linecolor": "#EBF0F8",
           "ticks": "",
           "title": {
            "standoff": 15
           },
           "zerolinecolor": "#EBF0F8",
           "zerolinewidth": 2
          },
          "yaxis": {
           "automargin": true,
           "gridcolor": "#EBF0F8",
           "linecolor": "#EBF0F8",
           "ticks": "",
           "title": {
            "standoff": 15
           },
           "zerolinecolor": "#EBF0F8",
           "zerolinewidth": 2
          }
         }
        },
        "title": {
         "font": {
          "color": "Black",
          "size": 22
         },
         "text": "<b>Term score decline per Topic</b>",
         "x": 0.5,
         "xanchor": "center",
         "y": 0.9,
         "yanchor": "top"
        },
        "width": 800,
        "xaxis": {
         "dtick": 2,
         "range": [
          0,
          10
         ],
         "tick0": 1,
         "title": {
          "text": "Term Rank"
         }
        },
        "yaxis": {
         "title": {
          "text": "c-TF-IDF score (log scale)"
         }
        }
       }
      }
     },
     "metadata": {},
     "output_type": "display_data"
    }
   ],
   "source": [
    "topic_model.visualize_term_rank(log_scale=True)"
   ]
  },
  {
   "attachments": {},
   "cell_type": "markdown",
   "metadata": {},
   "source": [
    "## Step 5: Prepare for anomaly detection"
   ]
  },
  {
   "cell_type": "code",
   "execution_count": 22,
   "metadata": {},
   "outputs": [],
   "source": [
    "to_clean_df = cleaned_df\n",
    "del to_clean_df[TEXT_COL]\n",
    "del to_clean_df[\"intent\"]\n",
    "del to_clean_df[\"category\"]"
   ]
  },
  {
   "cell_type": "code",
   "execution_count": 23,
   "metadata": {},
   "outputs": [],
   "source": [
    "GROUP: str = \"group\""
   ]
  },
  {
   "cell_type": "code",
   "execution_count": 24,
   "metadata": {},
   "outputs": [],
   "source": [
    "to_clean_df[GROUP] = topics"
   ]
  },
  {
   "attachments": {},
   "cell_type": "markdown",
   "metadata": {},
   "source": [
    "Count the occurence"
   ]
  },
  {
   "cell_type": "code",
   "execution_count": 25,
   "metadata": {},
   "outputs": [],
   "source": [
    "counted_df = to_clean_df.groupby([GROUP, DATE_COL]).count().reset_index().assign(COUNT=lambda x: x.iloc[:,0])"
   ]
  },
  {
   "cell_type": "code",
   "execution_count": 26,
   "metadata": {},
   "outputs": [],
   "source": [
    "duplicates_df = to_clean_df.groupby([GROUP, DATE_COL]).apply(lambda x: x.duplicated().sum()).reset_index(name='DUPLICATES')"
   ]
  },
  {
   "cell_type": "code",
   "execution_count": 27,
   "metadata": {},
   "outputs": [],
   "source": [
    "duplicates_df[\"DUPLICATES\"] = duplicates_df[\"DUPLICATES\"].apply(lambda count: count+1)"
   ]
  },
  {
   "attachments": {},
   "cell_type": "markdown",
   "metadata": {},
   "source": [
    "Fill missing values"
   ]
  },
  {
   "cell_type": "code",
   "execution_count": 28,
   "metadata": {},
   "outputs": [],
   "source": [
    "def fill_missing_dates(df: DataFrame, date_col: str, freq: str=\"15min\") -> DataFrame:\n",
    "    \"\"\"Fill missing dates of group\"\"\"\n",
    "    min_date = df[date_col].min()\n",
    "    max_date = df[date_col].max()\n",
    "    new_dates = pd.date_range(min_date, max_date, freq=freq)\n",
    "    all_dates = pd.DataFrame({date_col: new_dates})\n",
    "    \n",
    "    # merge the new dataframe with the original df\n",
    "    df = pd.merge(df, all_dates, on=date_col, how='outer')\n",
    "    \n",
    "    # sort by date_col and fill missing values with new dates\n",
    "    df = df.sort_values(by=date_col)\n",
    "    df[date_col] = df[date_col].fillna(method='ffill')\n",
    "    df = df.ffill()\n",
    "    return df"
   ]
  },
  {
   "cell_type": "code",
   "execution_count": 29,
   "metadata": {},
   "outputs": [],
   "source": [
    "filled_df: DataFrame = duplicates_df.groupby(GROUP).apply(lambda df: fill_missing_dates(df, DATE_COL))"
   ]
  },
  {
   "attachments": {},
   "cell_type": "markdown",
   "metadata": {},
   "source": [
    "## Step 6: Anomaly Detection"
   ]
  },
  {
   "attachments": {},
   "cell_type": "markdown",
   "metadata": {},
   "source": [
    "Convert df for tad"
   ]
  },
  {
   "cell_type": "code",
   "execution_count": 30,
   "metadata": {},
   "outputs": [],
   "source": [
    "filled_df = filled_df.set_index(DATE_COL)"
   ]
  },
  {
   "attachments": {},
   "cell_type": "markdown",
   "metadata": {},
   "source": [
    "Find anomalies"
   ]
  },
  {
   "cell_type": "code",
   "execution_count": 31,
   "metadata": {},
   "outputs": [
    {
     "name": "stderr",
     "output_type": "stream",
     "text": [
      "<>:292: SyntaxWarning:\n",
      "\n",
      "\"is\" with a literal. Did you mean \"==\"?\n",
      "\n",
      "<>:292: SyntaxWarning:\n",
      "\n",
      "\"is\" with a literal. Did you mean \"==\"?\n",
      "\n",
      "C:\\Users\\fadop\\AppData\\Local\\Temp\\ipykernel_8580\\1389781380.py:292: SyntaxWarning:\n",
      "\n",
      "\"is\" with a literal. Did you mean \"==\"?\n",
      "\n"
     ]
    }
   ],
   "source": [
    "import numpy as np\n",
    "import scipy as sp\n",
    "import pandas as pd\n",
    "import datetime\n",
    "import statsmodels.api as sm\n",
    "import logging\n",
    "\n",
    "\n",
    "logger = logging.getLogger(__name__)\n",
    "\n",
    "\n",
    "def _handle_granularity_error(level):\n",
    "    \"\"\"\n",
    "    Raises ValueError with detailed error message if one of the two situations is true:\n",
    "      1. calculated granularity is less than minute (sec or ms)\n",
    "      2. resampling is not enabled for situations where calculated granularity < min\n",
    "      level : String\n",
    "        the granularity that is below the min threshold\n",
    "    \"\"\"\n",
    "    e_message = '%s granularity is not supported. Ensure granularity => minute or enable resampling' % level\n",
    "    raise ValueError(e_message)\n",
    "\n",
    "\n",
    "def _resample_to_min(data, period_override=None):\n",
    "    \"\"\"\n",
    "    Resamples a data set to the min level of granularity\n",
    "      data : pandas DataFrame\n",
    "        input Pandas DataFrame\n",
    "      period_override : int\n",
    "        indicates whether resampling should be done with overridden value instead of min (1440)\n",
    "    \"\"\"\n",
    "    data = data.resample('60s', label='right').sum()\n",
    "    if _override_period(period_override):\n",
    "        period = period_override\n",
    "    else:\n",
    "        period = 1440\n",
    "    return (data, period)\n",
    "\n",
    "\n",
    "def _override_period(period_override):\n",
    "    \"\"\"\n",
    "    Indicates whether period can be overridden if the period derived from granularity does\n",
    "    not match the generated period.\n",
    "      period_override : int\n",
    "        the user-specified period that overrides the value calculated from granularity\n",
    "    \"\"\"\n",
    "    return period_override is not None\n",
    "\n",
    "\n",
    "def _get_period(gran_period, period_arg=None):\n",
    "    \"\"\"\n",
    "    Returns the generated period or overridden period depending upon the period_arg\n",
    "      gran_period : int\n",
    "        the period generated from the granularity\n",
    "      period_arg : the period override value that is either None or an int\n",
    "        the period to override the period generated from granularity\n",
    "    \"\"\"\n",
    "    if _override_period(period_arg):\n",
    "        return period_arg\n",
    "    else:\n",
    "        return gran_period\n",
    "\n",
    "\n",
    "def _get_data_tuple(raw_data, period_override, resampling=False):\n",
    "    \"\"\"\n",
    "    Generates a tuple consisting of processed input data, a calculated or overridden period, and granularity\n",
    "      raw_data : pandas DataFrame\n",
    "        input data\n",
    "      period_override : int\n",
    "        period specified in the anomaly_detect_ts parameter list, None if it is not provided\n",
    "      resampling : True | False\n",
    "        indicates whether the raw_data should be resampled to a supporting granularity, if applicable\n",
    "    \"\"\"\n",
    "    data = raw_data.sort_index()\n",
    "    timediff = _get_time_diff(data)\n",
    "\n",
    "    if timediff.days > 0:\n",
    "        period = _get_period(7, period_override)\n",
    "        granularity = 'day'\n",
    "    elif timediff.seconds / 60 / 60 >= 1:\n",
    "        granularity = 'hr'\n",
    "        period = _get_period(24, period_override)\n",
    "    elif timediff.seconds / 60 >= 1:\n",
    "        granularity = 'min'\n",
    "        period = _get_period(1440, period_override)\n",
    "    elif timediff.seconds > 0:\n",
    "        granularity = 'sec'\n",
    "    elif timediff.seconds > 0:\n",
    "        granularity = 'sec'\n",
    "\n",
    "        '''\n",
    "           Aggregate data to minute level of granularity if data stream granularity is sec and\n",
    "           resampling=True. If resampling=False, raise ValueError\n",
    "        '''\n",
    "        if resampling is True:\n",
    "            period = _resample_to_min(data, period_override)\n",
    "        else:\n",
    "            _handle_granularity_error('sec')\n",
    "    else:\n",
    "        '''\n",
    "           Aggregate data to minute level of granularity if data stream granularity is ms and\n",
    "           resampling=True. If resampling=False, raise ValueError\n",
    "        '''\n",
    "        if resampling is True:\n",
    "            data, period = _resample_to_min(data, period_override)\n",
    "            granularity = None\n",
    "        else:\n",
    "            _handle_granularity_error('ms')\n",
    "\n",
    "    return (data, period, granularity)\n",
    "\n",
    "\n",
    "def _get_time_diff(data):\n",
    "    \"\"\"\n",
    "    Generates the time difference used to determine granularity and\n",
    "    to generate the period\n",
    "      data : pandas DataFrame\n",
    "        composed of input data\n",
    "    \"\"\"\n",
    "    return data.index[1] - data.index[0]\n",
    "\n",
    "\n",
    "def _get_max_anoms(data, max_anoms):\n",
    "    \"\"\"\n",
    "    Returns the max_anoms parameter used for S-H-ESD time series anomaly detection\n",
    "      data : pandas DataFrame\n",
    "        composed of input data\n",
    "      max_anoms : float\n",
    "        the input max_anoms\n",
    "    \"\"\"\n",
    "    if max_anoms == 0:\n",
    "        logger.warning('0 max_anoms results in max_outliers being 0.')\n",
    "    return 1 / data.size if max_anoms < 1 / data.size else max_anoms\n",
    "\n",
    "\n",
    "def _process_long_term_data(data, period, granularity, piecewise_median_period_weeks):\n",
    "    \"\"\"\n",
    "    Processes result set when longterm is set to true\n",
    "      data : list of floats\n",
    "        the result set of anoms\n",
    "      period : int\n",
    "        the calculated or overridden period value\n",
    "      granularity : string\n",
    "        the calculated or overridden granularity\n",
    "      piecewise_median_period_weeks : int\n",
    "        used to determine days and observations per period\n",
    "    \"\"\"\n",
    "    # Pre-allocate list with size equal to the number of piecewise_median_period_weeks chunks in x + any left over chunk\n",
    "    # handle edge cases for daily and single column data period lengths\n",
    "    num_obs_in_period = period * piecewise_median_period_weeks + \\\n",
    "        1 if granularity == 'day' else period * 7 * piecewise_median_period_weeks\n",
    "    num_days_in_period = (7 * piecewise_median_period_weeks) + \\\n",
    "        1 if granularity == 'day' else (7 * piecewise_median_period_weeks)\n",
    "\n",
    "    all_data = []\n",
    "    # Subset x into piecewise_median_period_weeks chunks\n",
    "    for i in range(1, data.size + 1, num_obs_in_period):\n",
    "        start_date = data.index[i]\n",
    "        # if there is at least 14 days left, subset it, otherwise subset last_date - 14 days\n",
    "        end_date = start_date + datetime.timedelta(days=num_days_in_period)\n",
    "        if end_date < data.index[-1]:\n",
    "            all_data.append(\n",
    "                data.loc[lambda x: (x.index >= start_date) & (x.index <= end_date)])\n",
    "        else:\n",
    "            all_data.append(\n",
    "                data.loc[lambda x: x.index >= data.index[-1] - datetime.timedelta(days=num_days_in_period)])\n",
    "    return all_data\n",
    "\n",
    "\n",
    "def _get_only_last_results(data, all_anoms, granularity, only_last):\n",
    "    \"\"\"\n",
    "    Returns the results from the last day or hour only\n",
    "      data : pandas DataFrame\n",
    "        input data set\n",
    "      all_anoms : list of floats\n",
    "        all of the anomalies returned by the algorithm\n",
    "      granularity : string day | hr | min\n",
    "        The supported granularity value\n",
    "      only_last : string day | hr\n",
    "        The subset of anomalies to be returned\n",
    "    \"\"\"\n",
    "    start_date = data.index[-1] - datetime.timedelta(days=7)\n",
    "    start_anoms = data.index[-1] - datetime.timedelta(days=1)\n",
    "\n",
    "    if only_last == 'hr':\n",
    "        # We need to change start_date and start_anoms for the hourly only_last option\n",
    "        start_date = datetime.datetime.combine(\n",
    "            (data.index[-1] - datetime.timedelta(days=2)).date(), datetime.time.min)\n",
    "        start_anoms = data.index[-1] - datetime.timedelta(hours=1)\n",
    "\n",
    "    # subset the last days worth of data\n",
    "    x_subset_single_day = data.loc[data.index > start_anoms]\n",
    "    # When plotting anoms for the last day only we only show the previous weeks data\n",
    "    x_subset_week = data.loc[lambda df: (\n",
    "        df.index <= start_anoms) & (df.index > start_date)]\n",
    "    return all_anoms.loc[all_anoms.index >= x_subset_single_day.index[0]]\n",
    "\n",
    "\n",
    "def _get_plot_breaks(granularity, only_last):\n",
    "    \"\"\"\n",
    "    Generates the breaks used in plotting\n",
    "      granularity : string\n",
    "        the supported granularity value\n",
    "      only_last : True | False\n",
    "        indicates whether only the last day or hour is returned and to be plotted\n",
    "    \"\"\"\n",
    "    if granularity == 'day':\n",
    "        breaks = 3 * 12\n",
    "    elif only_last == 'day':\n",
    "        breaks = 12\n",
    "    else:\n",
    "        breaks = 3\n",
    "    return breaks\n",
    "\n",
    "\n",
    "def _perform_threshold_filter(anoms, periodic_max, threshold):\n",
    "    \"\"\"\n",
    "    Filters the list of anomalies per the threshold filter\n",
    "      anoms : list of floats\n",
    "        the anoms returned by the algorithm\n",
    "      periodic_max : float\n",
    "        calculated daily max value\n",
    "      threshold : med_max\" | \"p95\" | \"p99\"\n",
    "        user-specified threshold value used to filter anoms\n",
    "    \"\"\"\n",
    "    if threshold == 'med_max':\n",
    "        thresh = periodic_max.median()\n",
    "    elif threshold == 'p95':\n",
    "        thresh = periodic_max.quantile(0.95)\n",
    "    elif threshold == 'p99':\n",
    "        thresh = periodic_max.quantile(0.99)\n",
    "    else:\n",
    "        raise AttributeError(\n",
    "            'Invalid threshold, threshold options are None | med_max | p95 | p99')\n",
    "\n",
    "    return anoms.loc[anoms.values >= thresh]\n",
    "\n",
    "\n",
    "def _get_max_outliers(data, max_percent_anomalies):\n",
    "    \"\"\"\n",
    "    Calculates the max_outliers for an input data set\n",
    "      data : pandas DataFrame\n",
    "        the input data set\n",
    "      max_percent_anomalies : float\n",
    "        the input maximum number of anomalies per percent of data set values\n",
    "    \"\"\"\n",
    "    max_outliers = int(np.trunc(data.size * max_percent_anomalies))\n",
    "    assert max_outliers, 'With longterm=True, AnomalyDetection splits the data into 2 week periods by default. You have {0} observations in a period, which is too few. Set a higher piecewise_median_period_weeks.'.format(\n",
    "        data.size)\n",
    "    return max_outliers\n",
    "\n",
    "\n",
    "def _get_decomposed_data_tuple(data, num_obs_per_period):\n",
    "    \"\"\"\n",
    "    Returns a tuple consisting of two versions of the input data set: seasonally-decomposed and smoothed\n",
    "      data : pandas DataFrame\n",
    "        the input data set\n",
    "      num_obs_per_period : int\n",
    "        the number of observations in each period\n",
    "    \"\"\"\n",
    "    decomposed = sm.tsa.seasonal_decompose(\n",
    "        data, period=num_obs_per_period, two_sided=False)\n",
    "    smoothed = data - decomposed.resid.fillna(0)\n",
    "    data = data - decomposed.seasonal - data.mean()\n",
    "    return (data, smoothed)\n",
    "\n",
    "\n",
    "def anomaly_detect_ts(x, max_anoms=0.1, direction=\"pos\", alpha=0.05, only_last=None,\n",
    "                      threshold=None, e_value=False, longterm=False, piecewise_median_period_weeks=2,\n",
    "                      plot=False, y_log=False, xlabel=\"\", ylabel=\"count\", title='shesd output: ', verbose=False,\n",
    "                      dropna=False, resampling=False, period_override=None):\n",
    "\n",
    "    if verbose:\n",
    "        logger.setLevel(logging.DEBUG)\n",
    "        logger.debug(\"The debug logs will be logged because verbose=%s\", verbose)\n",
    "\n",
    "    # validation\n",
    "    assert isinstance(x, pd.Series), 'Data must be a series(Pandas.Series)'\n",
    "    assert x.values.dtype in [int, float], 'Values of the series must be number'\n",
    "    assert x.index.dtype == np.dtype('datetime64[ns]'), 'Index of the series must be datetime'\n",
    "    assert max_anoms <= 0.49 and max_anoms >= 0, 'max_anoms must be non-negative and less than 50% '\n",
    "    assert direction in ['pos', 'neg', 'both'], 'direction options: pos | neg | both'\n",
    "    assert only_last in [None, 'day', 'hr'], 'only_last options: None | day | hr'\n",
    "    assert threshold in [None, 'med_max', 'p95', 'p99'], 'threshold options: None | med_max | p95 | p99'\n",
    "    assert piecewise_median_period_weeks >= 2, 'piecewise_median_period_weeks must be greater than 2 weeks'\n",
    "    logger.debug('Completed validation of input parameters')\n",
    "\n",
    "    if alpha < 0.01 or alpha > 0.1:\n",
    "        logger.warning('alpha is the statistical significance and is usually between 0.01 and 0.1')\n",
    "\n",
    "    data, period, granularity = _get_data_tuple(x, period_override, resampling)\n",
    "    if granularity is 'day':\n",
    "        num_days_per_line = 7\n",
    "        only_last = 'day' if only_last == 'hr' else only_last\n",
    "\n",
    "    max_anoms = _get_max_anoms(data, max_anoms)\n",
    "\n",
    "    # If longterm is enabled, break the data into subset data frames and store in all_data\n",
    "    all_data = _process_long_term_data(data, period, granularity, piecewise_median_period_weeks) if longterm else [data] \n",
    "    all_anoms = pd.Series()\n",
    "    seasonal_plus_trend = pd.Series()\n",
    "\n",
    "    # Detect anomalies on all data (either entire data in one-pass, or in 2 week blocks if longterm=True)\n",
    "    for series in all_data:\n",
    "        shesd = _detect_anoms(series, k=max_anoms, alpha=alpha, num_obs_per_period=period, use_decomp=True,\n",
    "                              use_esd=False, direction=direction, verbose=verbose)\n",
    "        shesd_anoms = shesd['anoms']\n",
    "        shesd_stl = shesd['stl']\n",
    "\n",
    "        # -- Step 3: Use detected anomaly timestamps to extract the actual anomalies (timestamp and value) from the data\n",
    "        anoms = pd.Series() if shesd_anoms.empty else series.loc[shesd_anoms.index]\n",
    "\n",
    "        # Filter the anomalies using one of the thresholding functions if applicable\n",
    "        if threshold:\n",
    "            # Calculate daily max values\n",
    "            periodic_max = data.resample('1D').max()\n",
    "            anoms = _perform_threshold_filter(anoms, periodic_max, threshold)\n",
    "\n",
    "        all_anoms = all_anoms.append(anoms)\n",
    "        seasonal_plus_trend = seasonal_plus_trend.append(shesd_stl)\n",
    "\n",
    "    # De-dupe\n",
    "    all_anoms.drop_duplicates(inplace=True)\n",
    "    seasonal_plus_trend.drop_duplicates(inplace=True)\n",
    "\n",
    "    # If only_last is specified, create a subset of the data corresponding to the most recent day or hour\n",
    "    if only_last:\n",
    "        all_anoms = _get_only_last_results(\n",
    "            data, all_anoms, granularity, only_last)\n",
    "\n",
    "    # If there are no anoms, log it and return an empty anoms result\n",
    "    if all_anoms.empty:\n",
    "        if verbose:\n",
    "            logger.info('No anomalies detected.')\n",
    "\n",
    "        return {\n",
    "            'anoms': pd.Series(),\n",
    "            'plot': None\n",
    "        }\n",
    "\n",
    "    if plot:\n",
    "        # TODO additional refactoring and logic needed to support plotting\n",
    "        num_days_per_line\n",
    "        #breaks = _get_plot_breaks(granularity, only_last)\n",
    "        # x_subset_week\n",
    "        raise Exception('TODO: Unsupported now')\n",
    "\n",
    "    return {\n",
    "        'anoms': all_anoms,\n",
    "        'expected': seasonal_plus_trend if e_value else None,\n",
    "        'plot': 'TODO' if plot else None\n",
    "    }\n",
    "\n",
    "\n",
    "def _detect_anoms(data, k=0.49, alpha=0.05, num_obs_per_period=None,\n",
    "                  use_decomp=True, use_esd=False, direction=\"pos\", verbose=False):\n",
    "    \"\"\"\n",
    "    Detects anomalies in a time series using S-H-ESD.\n",
    "    Args:\n",
    "         data: Time series to perform anomaly detection on.\n",
    "         k: Maximum number of anomalies that S-H-ESD will detect as a percentage of the data.\n",
    "         alpha: The level of statistical significance with which to accept or reject anomalies.\n",
    "         num_obs_per_period: Defines the number of observations in a single period, and used during seasonal decomposition.\n",
    "         use_decomp: Use seasonal decomposition during anomaly detection.\n",
    "         use_esd: Uses regular ESD instead of hybrid-ESD. Note hybrid-ESD is more statistically robust.\n",
    "         one_tail: If TRUE only positive or negative going anomalies are detected depending on if upper_tail is TRUE or FALSE.\n",
    "         upper_tail: If TRUE and one_tail is also TRUE, detect only positive going (right-tailed) anomalies. If FALSE and one_tail is TRUE, only detect negative (left-tailed) anomalies.\n",
    "         verbose: Additionally printing for debugging.\n",
    "    Returns:\n",
    "       A list containing the anomalies (anoms) and decomposition components (stl).\n",
    "    \"\"\"\n",
    "\n",
    "    # validation\n",
    "    assert num_obs_per_period, \"must supply period length for time series decomposition\"\n",
    "    assert direction in ['pos', 'neg',\n",
    "                         'both'], 'direction options: pos | neg | both'\n",
    "    assert data.size >= num_obs_per_period * \\\n",
    "        2, 'Anomaly detection needs at least 2 periods worth of data'\n",
    "    assert data[data.isnull(\n",
    "    )].empty, 'Data contains NA. We suggest replacing NA with interpolated values before detecting anomaly'\n",
    "\n",
    "    # conversion\n",
    "    one_tail = True if direction in ['pos', 'neg'] else False\n",
    "    upper_tail = True if direction in ['pos', 'both'] else False\n",
    "\n",
    "    # -- Step 1: Decompose data. This returns a univariate remainder which will be used for anomaly detection. Optionally, we might NOT decompose.\n",
    "    # Note: R use stl, but here we will use MA, the result may be different TODO.. Here need improvement\n",
    "    #decomposed = sm.tsa.seasonal_decompose(data, freq=num_obs_per_period, two_sided=False)\n",
    "    #smoothed = data - decomposed.resid.fillna(0)\n",
    "    #data = data - decomposed.seasonal - data.mean()\n",
    "\n",
    "    data, smoothed = _get_decomposed_data_tuple(data, num_obs_per_period)\n",
    "\n",
    "    max_outliers = _get_max_outliers(data, k)\n",
    "\n",
    "    R_idx = pd.Series()\n",
    "\n",
    "    n = data.size\n",
    "    # Compute test statistic until r=max_outliers values have been\n",
    "    # removed from the sample.\n",
    "    for i in range(1, max_outliers + 1):\n",
    "        if verbose:\n",
    "            logger.info(i, '/', max_outliers, ' completed')\n",
    "\n",
    "        if not data.mad():\n",
    "            break\n",
    "\n",
    "        if not one_tail:\n",
    "            ares = abs(data - data.median())\n",
    "        elif upper_tail:\n",
    "            ares = data - data.median()\n",
    "        else:\n",
    "            ares = data.median() - data\n",
    "\n",
    "        ares = ares / data.mad()\n",
    "\n",
    "        tmp_anom_index = ares[ares.values == ares.max()].index\n",
    "        cand = pd.Series(data.loc[tmp_anom_index], index=tmp_anom_index)\n",
    "\n",
    "        data.drop(tmp_anom_index, inplace=True)\n",
    "\n",
    "        # Compute critical value.\n",
    "        p = 1 - alpha / (n - i + 1) if one_tail else (1 -\n",
    "                                                      alpha / (2 * (n - i + 1)))\n",
    "        t = sp.stats.t.ppf(p, n - i - 1)\n",
    "        lam = t * (n - i) / np.sqrt((n - i - 1 + t ** 2) * (n - i + 1))\n",
    "        if ares.max() > lam:\n",
    "            R_idx = R_idx.append(cand)\n",
    "\n",
    "    return {\n",
    "        'anoms': R_idx,\n",
    "        'stl': smoothed\n",
    "    }"
   ]
  },
  {
   "cell_type": "code",
   "execution_count": 32,
   "metadata": {},
   "outputs": [
    {
     "name": "stderr",
     "output_type": "stream",
     "text": [
      "C:\\Users\\fadop\\AppData\\Local\\Temp\\ipykernel_8580\\1389781380.py:300: DeprecationWarning:\n",
      "\n",
      "The default dtype for empty Series will be 'object' instead of 'float64' in a future version. Specify a dtype explicitly to silence this warning.\n",
      "\n",
      "C:\\Users\\fadop\\AppData\\Local\\Temp\\ipykernel_8580\\1389781380.py:301: DeprecationWarning:\n",
      "\n",
      "The default dtype for empty Series will be 'object' instead of 'float64' in a future version. Specify a dtype explicitly to silence this warning.\n",
      "\n",
      "C:\\Users\\fadop\\AppData\\Local\\Temp\\ipykernel_8580\\1389781380.py:396: DeprecationWarning:\n",
      "\n",
      "The default dtype for empty Series will be 'object' instead of 'float64' in a future version. Specify a dtype explicitly to silence this warning.\n",
      "\n",
      "C:\\Users\\fadop\\AppData\\Local\\Temp\\ipykernel_8580\\1389781380.py:311: DeprecationWarning:\n",
      "\n",
      "The default dtype for empty Series will be 'object' instead of 'float64' in a future version. Specify a dtype explicitly to silence this warning.\n",
      "\n",
      "C:\\Users\\fadop\\AppData\\Local\\Temp\\ipykernel_8580\\1389781380.py:337: DeprecationWarning:\n",
      "\n",
      "The default dtype for empty Series will be 'object' instead of 'float64' in a future version. Specify a dtype explicitly to silence this warning.\n",
      "\n"
     ]
    },
    {
     "data": {
      "text/plain": [
       "group          \n",
       "0.0    anoms                      Series([], dtype: float64)\n",
       "       plot                                             None\n",
       "       expected                                          NaN\n",
       "1.0    anoms       2020-01-10 18:45:00    1.0\n",
       "dtype: float64\n",
       "       plot                                             None\n",
       "       expected                                          NaN\n",
       "Name: DUPLICATES, dtype: object"
      ]
     },
     "execution_count": 32,
     "metadata": {},
     "output_type": "execute_result"
    }
   ],
   "source": [
    "filled_df.groupby(GROUP)[\"DUPLICATES\"].apply(anomaly_detect_ts)"
   ]
  }
 ],
 "metadata": {
  "kernelspec": {
   "display_name": "topicAnalyzer",
   "language": "python",
   "name": "python3"
  },
  "language_info": {
   "codemirror_mode": {
    "name": "ipython",
    "version": 3
   },
   "file_extension": ".py",
   "mimetype": "text/x-python",
   "name": "python",
   "nbconvert_exporter": "python",
   "pygments_lexer": "ipython3",
   "version": "3.8.16"
  },
  "orig_nbformat": 4,
  "vscode": {
   "interpreter": {
    "hash": "d9926d43133e1556d3d69827be73be13335d61b7bb02d32c7261e4e57a80aa2d"
   }
  }
 },
 "nbformat": 4,
 "nbformat_minor": 2
}
